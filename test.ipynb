{
 "cells": [
  {
   "cell_type": "code",
   "execution_count": 11,
   "metadata": {},
   "outputs": [
    {
     "name": "stdout",
     "output_type": "stream",
     "text": [
      "CUDA is working and PyCUDA is properly initialized!\n"
     ]
    }
   ],
   "source": [
    "import pycuda.driver as cuda\n",
    "import pycuda.autoinit\n",
    "\n",
    "# Allocate memory on the device\n",
    "a_gpu = cuda.mem_alloc(10)\n",
    "print(\"CUDA is working and PyCUDA is properly initialized!\")\n"
   ]
  },
  {
   "cell_type": "code",
   "execution_count": 12,
   "metadata": {},
   "outputs": [
    {
     "name": "stdout",
     "output_type": "stream",
     "text": [
      "CUDA is working with PyCUDA!\n"
     ]
    }
   ],
   "source": [
    "import pycuda.driver as cuda\n",
    "import pycuda.autoinit\n",
    "\n",
    "# Allocate memory on the device\n",
    "a_gpu = cuda.mem_alloc(10)\n",
    "\n",
    "print(\"CUDA is working with PyCUDA!\")\n"
   ]
  },
  {
   "cell_type": "code",
   "execution_count": 13,
   "metadata": {},
   "outputs": [
    {
     "name": "stdout",
     "output_type": "stream",
     "text": [
      "['C:\\\\Users\\\\jonin\\\\Documents\\\\ikt450', 'c:\\\\Users\\\\jonin\\\\.conda\\\\envs\\\\hex\\\\python311.zip', 'c:\\\\Users\\\\jonin\\\\.conda\\\\envs\\\\hex\\\\DLLs', 'c:\\\\Users\\\\jonin\\\\.conda\\\\envs\\\\hex\\\\Lib', 'c:\\\\Users\\\\jonin\\\\.conda\\\\envs\\\\hex', '', 'C:\\\\Users\\\\jonin\\\\AppData\\\\Roaming\\\\Python\\\\Python311\\\\site-packages', 'c:\\\\Users\\\\jonin\\\\.conda\\\\envs\\\\hex\\\\Lib\\\\site-packages', 'c:\\\\Users\\\\jonin\\\\.conda\\\\envs\\\\hex\\\\Lib\\\\site-packages\\\\win32', 'c:\\\\Users\\\\jonin\\\\.conda\\\\envs\\\\hex\\\\Lib\\\\site-packages\\\\win32\\\\lib', 'c:\\\\Users\\\\jonin\\\\.conda\\\\envs\\\\hex\\\\Lib\\\\site-packages\\\\Pythonwin', 'c:\\\\Users\\\\jonin\\\\.conda\\\\envs\\\\hex\\\\Lib\\\\site-packages\\\\setuptools\\\\_vendor']\n"
     ]
    }
   ],
   "source": [
    "# print system path \n",
    "import sys\n",
    "print(sys.path)"
   ]
  },
  {
   "cell_type": "code",
   "execution_count": 14,
   "metadata": {},
   "outputs": [
    {
     "name": "stdout",
     "output_type": "stream",
     "text": [
      "PyCUDA is working with sm_89 architecture!\n"
     ]
    }
   ],
   "source": [
    "import pycuda.driver as cuda\n",
    "import pycuda.autoinit\n",
    "from pycuda.compiler import SourceModule\n",
    "\n",
    "mod = SourceModule(\"\"\"\n",
    "__global__ void my_kernel() { }\n",
    "\"\"\", options=[\"-arch=sm_89\"])\n",
    "\n",
    "print(\"PyCUDA is working with sm_89 architecture!\")\n"
   ]
  },
  {
   "cell_type": "code",
   "execution_count": 15,
   "metadata": {},
   "outputs": [
    {
     "name": "stdout",
     "output_type": "stream",
     "text": [
      "PyCUDA is working with sm_89 architecture!\n"
     ]
    }
   ],
   "source": [
    "import os\n",
    "\n",
    "# Add the path to cl.exe in the PATH environment variable\n",
    "#os.environ['PATH'] += r\";C:\\Program Files (x86)\\Microsoft Visual Studio\\2022\\BuildTools\\VC\\Tools\\MSVC\\14.41.34120\\bin\\Hostx64\\x64\"\n",
    "\n",
    "import pycuda.driver as cuda\n",
    "import pycuda.autoinit\n",
    "from pycuda.compiler import SourceModule\n",
    "\n",
    "mod = SourceModule(\"\"\"\n",
    "__global__ void my_kernel() { }\n",
    "\"\"\", options=[\"-arch=sm_89\", \"-allow-unsupported-compiler\"])\n",
    "\n",
    "print(\"PyCUDA is working with sm_89 architecture!\")\n"
   ]
  },
  {
   "cell_type": "code",
   "execution_count": null,
   "metadata": {},
   "outputs": [],
   "source": []
  }
 ],
 "metadata": {
  "kernelspec": {
   "display_name": "hex",
   "language": "python",
   "name": "python3"
  },
  "language_info": {
   "codemirror_mode": {
    "name": "ipython",
    "version": 3
   },
   "file_extension": ".py",
   "mimetype": "text/x-python",
   "name": "python",
   "nbconvert_exporter": "python",
   "pygments_lexer": "ipython3",
   "version": "3.11.9"
  }
 },
 "nbformat": 4,
 "nbformat_minor": 2
}
