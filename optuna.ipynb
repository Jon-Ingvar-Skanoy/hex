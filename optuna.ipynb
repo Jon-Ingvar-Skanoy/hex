{
 "cells": [
  {
   "cell_type": "code",
   "execution_count": 1,
   "metadata": {},
   "outputs": [],
   "source": [
    "import pickle\n",
    "from GraphTsetlinMachine.graphs import Graphs\n",
    "import numpy as np\n",
    "with open('data.pkl', 'rb') as f:\n",
    "    graphs_train, graphs_test, X_train, Y_train, X_test, Y_test = pickle.load(f)"
   ]
  },
  {
   "cell_type": "code",
   "execution_count": 2,
   "metadata": {},
   "outputs": [],
   "source": [
    "from GraphTsetlinMachine.tm import MultiClassGraphTsetlinMachine, CommonTsetlinMachine\n",
    "import numpy as np\n"
   ]
  },
  {
   "cell_type": "code",
   "execution_count": null,
   "metadata": {},
   "outputs": [
    {
     "name": "stderr",
     "output_type": "stream",
     "text": [
      "c:\\Users\\jonin\\.conda\\envs\\hex\\Lib\\site-packages\\tqdm\\auto.py:21: TqdmWarning: IProgress not found. Please update jupyter and ipywidgets. See https://ipywidgets.readthedocs.io/en/stable/user_install.html\n",
      "  from .autonotebook import tqdm as notebook_tqdm\n",
      "[I 2024-10-21 09:50:41,484] Using an existing study with name 'My_Custom_Study_15' instead of creating a new one.\n"
     ]
    },
    {
     "name": "stdout",
     "output_type": "stream",
     "text": [
      "Initialization of sparse structure.\n"
     ]
    },
    {
     "name": "stderr",
     "output_type": "stream",
     "text": [
      "c:\\Users\\jonin\\.conda\\envs\\hex\\Lib\\site-packages\\GraphTsetlinMachine\\tm.py:189: UserWarning: The CUDA compiler succeeded, but said the following:\n",
      "kernel.cu\n",
      "\n",
      "  mod_update = SourceModule(parameters + kernels.code_header + kernels.code_update, no_extern_c=True)\n",
      "c:\\Users\\jonin\\.conda\\envs\\hex\\Lib\\site-packages\\GraphTsetlinMachine\\tm.py:196: UserWarning: The CUDA compiler succeeded, but said the following:\n",
      "kernel.cu\n",
      "\n",
      "  mod_evaluate = SourceModule(parameters + kernels.code_header + kernels.code_evaluate, no_extern_c=True)\n"
     ]
    }
   ],
   "source": [
    "import optuna\n",
    "from optuna.exceptions import TrialPruned\n",
    "\n",
    "def objective(trial):\n",
    "    # Suggest values for hyperparameters\n",
    "    number_of_clauses = trial.suggest_int('number_of_clauses', 5000, 100000, step=5000)\n",
    "    T = number_of_clauses * trial.suggest_float('T_factor', 0.5, 1.2)\n",
    "    s = trial.suggest_float('s', 1.0, 10.0)\n",
    "    depth = trial.suggest_int('depth', 5, 9, step=1)\n",
    "    message_size = 32\n",
    "    message_bits = 2\n",
    "  \n",
    "    epochs = 15\n",
    "\n",
    "    # Initialize the Tsetlin machine with suggested hyperparameters\n",
    "    tm = MultiClassGraphTsetlinMachine(\n",
    "        number_of_clauses, T, s, depth=depth, message_size=message_size,\n",
    "        message_bits=message_bits, number_of_state_bits=8, boost_true_positive_feedback=1,\n",
    "    )\n",
    "\n",
    "    for i in range(epochs):\n",
    "        # Train the model\n",
    "        tm.fit(graphs_train, Y_train, epochs=1, incremental=True)\n",
    "\n",
    "        # Compute accuracy on test and training data\n",
    "        result_test = 100 * (tm.predict(graphs_test) == Y_test).mean()\n",
    "        result_train = 100 * (tm.predict(graphs_train) == Y_train).mean()\n",
    "\n",
    "        # Report intermediate result and prune trial if not promising\n",
    "        trial.report(result_test, i)\n",
    "\n",
    "        if trial.should_prune():\n",
    "            raise TrialPruned()\n",
    "\n",
    "        # Early stopping conditions\n",
    "        if result_test >= 100 or result_test < 65:\n",
    "            break\n",
    "\n",
    "    return result_test\n",
    "\n",
    "# Create study and optimize with user-controlled stopping mechanism\n",
    "study = optuna.create_study(\n",
    "    direction=\"maximize\",\n",
    "    study_name=\"My_Custom_Study_15\",  # Name your study\n",
    "    storage=\"sqlite:///my_study.db\",  # Save to SQLite database\n",
    "    load_if_exists=True,  # If a study with this name already exists, load it\n",
    "    pruner=optuna.pruners.MedianPruner()\n",
    ") \n",
    "\n",
    "try:\n",
    "    # This allows you to stop the optimization process manually\n",
    "    study.optimize(objective, n_trials=100)\n",
    "except KeyboardInterrupt:\n",
    "    print(\"Optimization interrupted!\")\n",
    "    # Optionally, display the current best result when stopped\n",
    "    print(f\"Best result so far: {study.best_params}\")\n"
   ]
  },
  {
   "cell_type": "markdown",
   "metadata": {},
   "source": []
  }
 ],
 "metadata": {
  "kernelspec": {
   "display_name": "hex",
   "language": "python",
   "name": "python3"
  },
  "language_info": {
   "codemirror_mode": {
    "name": "ipython",
    "version": 3
   },
   "file_extension": ".py",
   "mimetype": "text/x-python",
   "name": "python",
   "nbconvert_exporter": "python",
   "pygments_lexer": "ipython3",
   "version": "3.11.9"
  }
 },
 "nbformat": 4,
 "nbformat_minor": 2
}
