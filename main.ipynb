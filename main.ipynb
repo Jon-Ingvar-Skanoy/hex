{
 "cells": [
  {
   "cell_type": "code",
   "execution_count": 1,
   "metadata": {},
   "outputs": [],
   "source": [
    "import pickle\n",
    "from GraphTsetlinMachine.graphs import Graphs\n",
    "import numpy as np\n",
    "with open('data.pkl', 'rb') as f:\n",
    "    graphs_train, graphs_test, X_train, Y_train, X_test, Y_test = pickle.load(f)"
   ]
  },
  {
   "cell_type": "code",
   "execution_count": 2,
   "metadata": {},
   "outputs": [
    {
     "data": {
      "text/plain": [
       "<bound method Graphs.encode of <GraphTsetlinMachine.graphs.Graphs object at 0x00000166DDDCAB50>>"
      ]
     },
     "execution_count": 2,
     "metadata": {},
     "output_type": "execute_result"
    }
   ],
   "source": [
    "graphs_train.encode"
   ]
  },
  {
   "cell_type": "code",
   "execution_count": 3,
   "metadata": {},
   "outputs": [],
   "source": [
    "from GraphTsetlinMachine.tm import MultiClassGraphTsetlinMachine, CommonTsetlinMachine\n",
    "import numpy as np\n"
   ]
  },
  {
   "cell_type": "code",
   "execution_count": 4,
   "metadata": {},
   "outputs": [],
   "source": [
    "\n",
    "# Parameters\n",
    "epochs = 50\n",
    "number_of_clauses = 2000\n",
    "T = 2500\n",
    "s = 10.0\n",
    "depth = 1\n",
    "hypervector_size = 128\n",
    "hypervector_bits = 2\n",
    "message_size = 256\n",
    "message_bits = 3\n",
    "max_included_literals = 32"
   ]
  },
  {
   "cell_type": "code",
   "execution_count": 5,
   "metadata": {},
   "outputs": [
    {
     "data": {
      "text/plain": [
       "array([0, 0, 1, ..., 1, 1, 0])"
      ]
     },
     "execution_count": 5,
     "metadata": {},
     "output_type": "execute_result"
    }
   ],
   "source": [
    "Y_test"
   ]
  },
  {
   "cell_type": "code",
   "execution_count": 6,
   "metadata": {},
   "outputs": [
    {
     "name": "stdout",
     "output_type": "stream",
     "text": [
      "Initialization of sparse structure.\n"
     ]
    }
   ],
   "source": [
    "tm = MultiClassGraphTsetlinMachine(number_of_clauses, T, s, depth=depth, message_size = message_size, message_bits = message_bits, max_included_literals=max_included_literals, number_of_state_bits=8)\n"
   ]
  },
  {
   "cell_type": "code",
   "execution_count": 7,
   "metadata": {},
   "outputs": [
    {
     "data": {
      "text/plain": [
       "0.6185"
      ]
     },
     "execution_count": 7,
     "metadata": {},
     "output_type": "execute_result"
    }
   ],
   "source": [
    "np.mean(Y_test==np.zeros(Y_test.shape[0])+1)\n",
    "\n"
   ]
  },
  {
   "cell_type": "code",
   "execution_count": 8,
   "metadata": {},
   "outputs": [],
   "source": [
    "graphs_train.encode()"
   ]
  },
  {
   "cell_type": "code",
   "execution_count": 9,
   "metadata": {},
   "outputs": [
    {
     "data": {
      "text/plain": [
       "(8000, 49)"
      ]
     },
     "execution_count": 9,
     "metadata": {},
     "output_type": "execute_result"
    }
   ],
   "source": [
    "X_train.shape"
   ]
  },
  {
   "cell_type": "code",
   "execution_count": 10,
   "metadata": {},
   "outputs": [],
   "source": [
    "import torch\n"
   ]
  },
  {
   "cell_type": "code",
   "execution_count": 11,
   "metadata": {},
   "outputs": [
    {
     "name": "stderr",
     "output_type": "stream",
     "text": [
      "c:\\Users\\jonin\\.conda\\envs\\hex\\Lib\\site-packages\\GraphTsetlinMachine\\tm.py:180: UserWarning: The CUDA compiler succeeded, but said the following:\n",
      "kernel.cu\n",
      "\n",
      "  mod_update = SourceModule(parameters + kernels.code_header + kernels.code_update, no_extern_c=True)\n",
      "c:\\Users\\jonin\\.conda\\envs\\hex\\Lib\\site-packages\\GraphTsetlinMachine\\tm.py:187: UserWarning: The CUDA compiler succeeded, but said the following:\n",
      "kernel.cu\n",
      "\n",
      "  mod_evaluate = SourceModule(parameters + kernels.code_header + kernels.code_evaluate, no_extern_c=True)\n"
     ]
    },
    {
     "ename": "LogicError",
     "evalue": "cuCtxSynchronize failed: an illegal memory access was encountered",
     "output_type": "error",
     "traceback": [
      "\u001b[1;31m---------------------------------------------------------------------------\u001b[0m",
      "\u001b[1;31mLogicError\u001b[0m                                Traceback (most recent call last)",
      "Cell \u001b[1;32mIn[11], line 4\u001b[0m\n\u001b[0;32m      2\u001b[0m \u001b[38;5;66;03m#torch.cuda.reset_max_memory_allocated() # Clear GPU memory\u001b[39;00m\n\u001b[0;32m      3\u001b[0m \u001b[38;5;28;01mfor\u001b[39;00m i \u001b[38;5;129;01min\u001b[39;00m \u001b[38;5;28mrange\u001b[39m(epochs):\n\u001b[1;32m----> 4\u001b[0m     \u001b[43mtm\u001b[49m\u001b[38;5;241;43m.\u001b[39;49m\u001b[43mfit\u001b[49m\u001b[43m(\u001b[49m\u001b[43mgraphs_train\u001b[49m\u001b[43m,\u001b[49m\u001b[43m \u001b[49m\u001b[43mY_train\u001b[49m\u001b[43m,\u001b[49m\u001b[43m \u001b[49m\u001b[43mepochs\u001b[49m\u001b[38;5;241;43m=\u001b[39;49m\u001b[38;5;241;43m1\u001b[39;49m\u001b[43m,\u001b[49m\u001b[43m \u001b[49m\u001b[43mincremental\u001b[49m\u001b[38;5;241;43m=\u001b[39;49m\u001b[38;5;28;43;01mTrue\u001b[39;49;00m\u001b[43m)\u001b[49m\n\u001b[0;32m      6\u001b[0m     result_test \u001b[38;5;241m=\u001b[39m \u001b[38;5;241m100\u001b[39m \u001b[38;5;241m*\u001b[39m ( tm\u001b[38;5;241m.\u001b[39mpredict(graphs_test) \u001b[38;5;241m==\u001b[39m Y_test)\u001b[38;5;241m.\u001b[39mmean()\n\u001b[0;32m      7\u001b[0m     result_train \u001b[38;5;241m=\u001b[39m \u001b[38;5;241m100\u001b[39m \u001b[38;5;241m*\u001b[39m (tm\u001b[38;5;241m.\u001b[39mpredict(graphs_train) \u001b[38;5;241m==\u001b[39m Y_train)\u001b[38;5;241m.\u001b[39mmean()\n",
      "File \u001b[1;32mc:\\Users\\jonin\\.conda\\envs\\hex\\Lib\\site-packages\\GraphTsetlinMachine\\tm.py:508\u001b[0m, in \u001b[0;36mMultiClassGraphTsetlinMachine.fit\u001b[1;34m(self, graphs, Y, epochs, incremental)\u001b[0m\n\u001b[0;32m    505\u001b[0m \u001b[38;5;28;01mfor\u001b[39;00m i \u001b[38;5;129;01min\u001b[39;00m \u001b[38;5;28mrange\u001b[39m(\u001b[38;5;28mself\u001b[39m\u001b[38;5;241m.\u001b[39mnumber_of_outputs):\n\u001b[0;32m    506\u001b[0m \tencoded_Y[:,i] \u001b[38;5;241m=\u001b[39m np\u001b[38;5;241m.\u001b[39mwhere(Y \u001b[38;5;241m==\u001b[39m i, \u001b[38;5;28mself\u001b[39m\u001b[38;5;241m.\u001b[39mT, \u001b[38;5;241m-\u001b[39m\u001b[38;5;28mself\u001b[39m\u001b[38;5;241m.\u001b[39mT)\n\u001b[1;32m--> 508\u001b[0m \u001b[38;5;28;43mself\u001b[39;49m\u001b[38;5;241;43m.\u001b[39;49m\u001b[43m_fit\u001b[49m\u001b[43m(\u001b[49m\u001b[43mgraphs\u001b[49m\u001b[43m,\u001b[49m\u001b[43m \u001b[49m\u001b[43mencoded_Y\u001b[49m\u001b[43m,\u001b[49m\u001b[43m \u001b[49m\u001b[43mepochs\u001b[49m\u001b[38;5;241;43m=\u001b[39;49m\u001b[43mepochs\u001b[49m\u001b[43m,\u001b[49m\u001b[43m \u001b[49m\u001b[43mincremental\u001b[49m\u001b[38;5;241;43m=\u001b[39;49m\u001b[43mincremental\u001b[49m\u001b[43m)\u001b[49m\n",
      "File \u001b[1;32mc:\\Users\\jonin\\.conda\\envs\\hex\\Lib\\site-packages\\GraphTsetlinMachine\\tm.py:325\u001b[0m, in \u001b[0;36mCommonTsetlinMachine._fit\u001b[1;34m(self, graphs, encoded_Y, epochs, incremental)\u001b[0m\n\u001b[0;32m    324\u001b[0m \u001b[38;5;28;01mdef\u001b[39;00m \u001b[38;5;21m_fit\u001b[39m(\u001b[38;5;28mself\u001b[39m, graphs, encoded_Y, epochs\u001b[38;5;241m=\u001b[39m\u001b[38;5;241m100\u001b[39m, incremental\u001b[38;5;241m=\u001b[39m\u001b[38;5;28;01mFalse\u001b[39;00m):\n\u001b[1;32m--> 325\u001b[0m \t\u001b[38;5;28;43mself\u001b[39;49m\u001b[38;5;241;43m.\u001b[39;49m\u001b[43m_init_fit\u001b[49m\u001b[43m(\u001b[49m\u001b[43mgraphs\u001b[49m\u001b[43m,\u001b[49m\u001b[43m \u001b[49m\u001b[43mencoded_Y\u001b[49m\u001b[43m,\u001b[49m\u001b[43m \u001b[49m\u001b[43mincremental\u001b[49m\u001b[43m)\u001b[49m\n\u001b[0;32m    327\u001b[0m \tclass_sum \u001b[38;5;241m=\u001b[39m np\u001b[38;5;241m.\u001b[39mzeros(\u001b[38;5;28mself\u001b[39m\u001b[38;5;241m.\u001b[39mnumber_of_outputs)\u001b[38;5;241m.\u001b[39mastype(np\u001b[38;5;241m.\u001b[39mint32)\n\u001b[0;32m    328\u001b[0m \t\u001b[38;5;28;01mfor\u001b[39;00m epoch \u001b[38;5;129;01min\u001b[39;00m \u001b[38;5;28mrange\u001b[39m(epochs):\n",
      "File \u001b[1;32mc:\\Users\\jonin\\.conda\\envs\\hex\\Lib\\site-packages\\GraphTsetlinMachine\\tm.py:215\u001b[0m, in \u001b[0;36mCommonTsetlinMachine._init_fit\u001b[1;34m(self, graphs, encoded_Y, incremental)\u001b[0m\n\u001b[0;32m    213\u001b[0m \t\u001b[38;5;28mself\u001b[39m\u001b[38;5;241m.\u001b[39m_init(graphs)\n\u001b[0;32m    214\u001b[0m \t\u001b[38;5;28mself\u001b[39m\u001b[38;5;241m.\u001b[39mprepare(g\u001b[38;5;241m.\u001b[39mstate, \u001b[38;5;28mself\u001b[39m\u001b[38;5;241m.\u001b[39mta_state_gpu, \u001b[38;5;28mself\u001b[39m\u001b[38;5;241m.\u001b[39mclause_weights_gpu, \u001b[38;5;28mself\u001b[39m\u001b[38;5;241m.\u001b[39mclass_sum_gpu, grid\u001b[38;5;241m=\u001b[39m\u001b[38;5;28mself\u001b[39m\u001b[38;5;241m.\u001b[39mgrid, block\u001b[38;5;241m=\u001b[39m\u001b[38;5;28mself\u001b[39m\u001b[38;5;241m.\u001b[39mblock)\n\u001b[1;32m--> 215\u001b[0m \t\u001b[43mcuda\u001b[49m\u001b[38;5;241;43m.\u001b[39;49m\u001b[43mContext\u001b[49m\u001b[38;5;241;43m.\u001b[39;49m\u001b[43msynchronize\u001b[49m\u001b[43m(\u001b[49m\u001b[43m)\u001b[49m\n\u001b[0;32m    216\u001b[0m \u001b[38;5;28;01melif\u001b[39;00m incremental \u001b[38;5;241m==\u001b[39m \u001b[38;5;28;01mFalse\u001b[39;00m:\n\u001b[0;32m    217\u001b[0m \t\u001b[38;5;28mself\u001b[39m\u001b[38;5;241m.\u001b[39mprepare(g\u001b[38;5;241m.\u001b[39mstate, \u001b[38;5;28mself\u001b[39m\u001b[38;5;241m.\u001b[39mta_state_gpu, \u001b[38;5;28mself\u001b[39m\u001b[38;5;241m.\u001b[39mclause_weights_gpu, \u001b[38;5;28mself\u001b[39m\u001b[38;5;241m.\u001b[39mclass_sum_gpu, grid\u001b[38;5;241m=\u001b[39m\u001b[38;5;28mself\u001b[39m\u001b[38;5;241m.\u001b[39mgrid, block\u001b[38;5;241m=\u001b[39m\u001b[38;5;28mself\u001b[39m\u001b[38;5;241m.\u001b[39mblock)\n",
      "\u001b[1;31mLogicError\u001b[0m: cuCtxSynchronize failed: an illegal memory access was encountered"
     ]
    }
   ],
   "source": [
    "\n",
    "\n",
    "torch.cuda.empty_cache()\n",
    "#torch.cuda.reset_max_memory_allocated() # Clear GPU memory\n",
    "for i in range(epochs):\n",
    "    tm.fit(graphs_train, Y_train, epochs=1, incremental=True)\n",
    "  \n",
    "    result_test = 100 * ( tm.predict(graphs_test) == Y_test).mean()\n",
    "    result_train = 100 * (tm.predict(graphs_train) == Y_train).mean()\n",
    "    print(\"#%d Testing Accuracy: %.2f%% Training Accuracy: %.2f%%\" % (i+1, result_test, result_train))\n",
    "   \n",
    "  "
   ]
  },
  {
   "cell_type": "code",
   "execution_count": null,
   "metadata": {},
   "outputs": [],
   "source": []
  },
  {
   "cell_type": "code",
   "execution_count": null,
   "metadata": {},
   "outputs": [],
   "source": [
    "tm.predict(graphs_train).sum()"
   ]
  },
  {
   "cell_type": "markdown",
   "metadata": {},
   "source": []
  },
  {
   "cell_type": "markdown",
   "metadata": {},
   "source": []
  },
  {
   "cell_type": "code",
   "execution_count": 9,
   "metadata": {},
   "outputs": [],
   "source": [
    "def getConnections(size, index):\n",
    "    x = index % size\n",
    "    y = index // size\n",
    "\n",
    "    connections = []\n",
    "\n",
    "    # Upper connections\n",
    "    if y > 0:\n",
    "        connections.append(x + (y - 1) * size)  # Directly above\n",
    "        if y % 2 == 0 and x > 0:  # Even row: diagonal left\n",
    "            connections.append(x - 1 + (y - 1) * size)\n",
    "        elif y % 2 == 1 and x < size - 1:  # Odd row: diagonal right\n",
    "            connections.append(x + 1 + (y - 1) * size)\n",
    "\n",
    "    # Left and right connections\n",
    "    if x > 0:\n",
    "        connections.append(x - 1 + y * size)  # Left\n",
    "    if x < size - 1:\n",
    "        connections.append(x + 1 + y * size)  # Right\n",
    "\n",
    "    # Lower connections\n",
    "    if y < size - 1:\n",
    "        connections.append(x + (y + 1) * size)  # Directly below\n",
    "        if y % 2 == 0 and x > 0:  # Even row: diagonal left\n",
    "            connections.append(x - 1 + (y + 1) * size)\n",
    "        elif y % 2 == 1 and x < size - 1:  # Odd row: diagonal right\n",
    "            connections.append(x + 1 + (y + 1) * size)\n",
    "\n",
    "    return connections"
   ]
  },
  {
   "cell_type": "code",
   "execution_count": null,
   "metadata": {},
   "outputs": [],
   "source": [
    "\n",
    "Y_test"
   ]
  },
  {
   "cell_type": "code",
   "execution_count": null,
   "metadata": {},
   "outputs": [],
   "source": [
    "\n",
    "tm.predict(graphs_train)"
   ]
  },
  {
   "cell_type": "code",
   "execution_count": null,
   "metadata": {},
   "outputs": [],
   "source": [
    "!nvidia-smi"
   ]
  },
  {
   "cell_type": "code",
   "execution_count": 13,
   "metadata": {},
   "outputs": [],
   "source": [
    "train_score = tm.score(graphs_train)"
   ]
  },
  {
   "cell_type": "code",
   "execution_count": null,
   "metadata": {},
   "outputs": [],
   "source": [
    "sum(train_score[:,0] <= train_score[:,1])"
   ]
  },
  {
   "cell_type": "code",
   "execution_count": null,
   "metadata": {},
   "outputs": [],
   "source": [
    "train_score.shape"
   ]
  },
  {
   "cell_type": "code",
   "execution_count": null,
   "metadata": {},
   "outputs": [],
   "source": [
    "sum(train_score[:,0] >= train_score[:,1])"
   ]
  },
  {
   "cell_type": "code",
   "execution_count": null,
   "metadata": {},
   "outputs": [],
   "source": []
  }
 ],
 "metadata": {
  "kernelspec": {
   "display_name": "hex",
   "language": "python",
   "name": "python3"
  },
  "language_info": {
   "codemirror_mode": {
    "name": "ipython",
    "version": 3
   },
   "file_extension": ".py",
   "mimetype": "text/x-python",
   "name": "python",
   "nbconvert_exporter": "python",
   "pygments_lexer": "ipython3",
   "version": "3.11.9"
  }
 },
 "nbformat": 4,
 "nbformat_minor": 2
}
