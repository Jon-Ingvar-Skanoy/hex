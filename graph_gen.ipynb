{
 "cells": [
  {
   "cell_type": "code",
   "execution_count": 1,
   "metadata": {},
   "outputs": [],
   "source": [
    "from GraphTsetlinMachine.graphs import Graphs\n",
    "import numpy as np\n"
   ]
  },
  {
   "cell_type": "code",
   "execution_count": 2,
   "metadata": {},
   "outputs": [],
   "source": [
    "\n",
    "hypervector_bits = 2\n",
    "hypervector_size = 64\n",
    "size = 11"
   ]
  },
  {
   "cell_type": "code",
   "execution_count": 3,
   "metadata": {},
   "outputs": [],
   "source": [
    "\n",
    "def getConnections(size, index):\n",
    "    x = index % size\n",
    "    y = index // size\n",
    "    max_index = size*size-1\n",
    "    right = max_index + 1\n",
    "    left = max_index + 2\n",
    "    down = max_index + 3\n",
    "    up = max_index + 4\n",
    "    \n",
    "    connections = []\n",
    "    directions = []\n",
    "\n",
    "    # Upper connections\n",
    "    if y > 0:\n",
    "        connections.append(x + (y - 1) * size)  # Directly above\n",
    "        directions.append(\"dir_up\")\n",
    "        if y % 2 == 0 and x > 0:  # Even row: diagonal left\n",
    "            connections.append(x - 1 + (y - 1) * size)\n",
    "            directions.append(\"up_left\")\n",
    "        elif y % 2 == 1 and x < size - 1:  # Odd row: diagonal right\n",
    "            connections.append(x + 1 + (y - 1) * size)\n",
    "            directions.append(\"up_right\")\n",
    "        else:\n",
    "            connections.append(up)\n",
    "            directions.append(\"up\")\n",
    "    else :\n",
    "        connections.append(up)\n",
    "        directions.append(\"up\")\n",
    "        \n",
    "    \n",
    "\n",
    "    # Left and right connections\n",
    "    if x > 0:\n",
    "        connections.append(x - 1 + y * size)  # Left\n",
    "        directions.append(\"dir_left\")\n",
    "    else:\n",
    "        connections.append(left)\n",
    "        directions.append(\"left\")\n",
    "    if x < size - 1:\n",
    "        connections.append(x + 1 + y * size)  # Right\n",
    "        directions.append(\"dir_right\")\n",
    "    else:\n",
    "        connections.append(right)\n",
    "        directions.append(\"right\")\n",
    "\n",
    "    # Lower connections\n",
    "    if y < size - 1:\n",
    "        connections.append(x + (y + 1) * size)  # Directly below\n",
    "        directions.append(\"dir_down\")\n",
    "        if y % 2 == 0 and x > 0:  # Even row: diagonal left\n",
    "            connections.append(x - 1 + (y + 1) * size)\n",
    "            directions.append(\"down_left\")\n",
    "        elif y % 2 == 1 and x < size - 1:  # Odd row: diagonal right\n",
    "            connections.append(x + 1 + (y + 1) * size)\n",
    "            directions.append(\"down_right\")\n",
    "        else:\n",
    "            connections.append(down)\n",
    "            directions.append(\"down\")\n",
    "    else:\n",
    "        connections.append(down)\n",
    "        directions.append(\"down\")\n",
    "\n",
    "    return connections, directions"
   ]
  },
  {
   "cell_type": "code",
   "execution_count": 4,
   "metadata": {},
   "outputs": [],
   "source": [
    "# read the data from data/hex_games_1_000_000_size_7.csv\n",
    "data = np.genfromtxt('data/hex_games_11.csv', delimiter=',', dtype=np.int32, skip_header=1, max_rows=1100000)\n",
    "data\n",
    "\n",
    "collum_names =['cell0_0', 'cell0_1', 'cell0_2', 'cell0_3', 'cell0_4', 'cell0_5', 'cell0_6', 'cell1_0', 'cell1_1', 'cell1_2', 'cell1_3', 'cell1_4', 'cell1_5', 'cell1_6', 'cell2_0', 'cell2_1', 'cell2_2', 'cell2_3', 'cell2_4', 'cell2_5', 'cell2_6', 'cell3_0', 'cell3_1', 'cell3_2', 'cell3_3', 'cell3_4', 'cell3_5', 'cell3_6', 'cell4_0', 'cell4_1', 'cell4_2', 'cell4_3', 'cell4_4', 'cell4_5', 'cell4_6', 'cell5_0', 'cell5_1', 'cell5_2', 'cell5_3', 'cell5_4', 'cell5_5', 'cell5_6', 'cell6_0', 'cell6_1', 'cell6_2', 'cell6_3', 'cell6_4', 'cell6_5', 'cell6_6']\n"
   ]
  },
  {
   "cell_type": "code",
   "execution_count": 5,
   "metadata": {},
   "outputs": [],
   "source": [
    "#sumsamples = 30\n",
    "#np.random.shuffle(data)\n",
    "#data = data[:sumsamples]\n",
    "\n",
    "# duplicate the data 100 times\n",
    "#data = np.repeat(data, 1000, axis=0)"
   ]
  },
  {
   "cell_type": "code",
   "execution_count": 6,
   "metadata": {},
   "outputs": [
    {
     "data": {
      "text/plain": [
       "(1100000, 122)"
      ]
     },
     "execution_count": 6,
     "metadata": {},
     "output_type": "execute_result"
    }
   ],
   "source": [
    "data.shape\n"
   ]
  },
  {
   "cell_type": "markdown",
   "metadata": {},
   "source": []
  },
  {
   "cell_type": "code",
   "execution_count": 7,
   "metadata": {},
   "outputs": [
    {
     "data": {
      "text/plain": [
       "([17, 16, 27, 29, 39, 38],\n",
       " ['dir_up', 'up_left', 'dir_left', 'dir_right', 'dir_down', 'down_left'])"
      ]
     },
     "execution_count": 7,
     "metadata": {},
     "output_type": "execute_result"
    }
   ],
   "source": [
    "getConnections(11, 28)\n"
   ]
  },
  {
   "cell_type": "code",
   "execution_count": 8,
   "metadata": {},
   "outputs": [],
   "source": [
    "# select the first 100000 samples\n",
    "data = data[:100000]\n",
    "\n",
    "#data = np.repeat(data, 1000, axis=0)\n",
    "# shuffle the data\n",
    "\n"
   ]
  },
  {
   "cell_type": "code",
   "execution_count": 9,
   "metadata": {},
   "outputs": [
    {
     "data": {
      "text/plain": [
       "(121,)"
      ]
     },
     "execution_count": 9,
     "metadata": {},
     "output_type": "execute_result"
    }
   ],
   "source": [
    "# separate the last column from the rest of the data\n",
    "X_data = data[:, :-1]\n",
    "Y_data = data[:, -1]\n",
    "X_data[0].shape"
   ]
  },
  {
   "cell_type": "code",
   "execution_count": 10,
   "metadata": {},
   "outputs": [],
   "source": [
    "# for y data we need to convert the -1 t0 0\n",
    "\n"
   ]
  },
  {
   "cell_type": "code",
   "execution_count": 11,
   "metadata": {},
   "outputs": [
    {
     "data": {
      "text/plain": [
       "array([1, 0, 1, ..., 0, 1, 1], dtype=int32)"
      ]
     },
     "execution_count": 11,
     "metadata": {},
     "output_type": "execute_result"
    }
   ],
   "source": [
    "Y_data "
   ]
  },
  {
   "cell_type": "code",
   "execution_count": 12,
   "metadata": {},
   "outputs": [],
   "source": [
    "from sklearn.model_selection import train_test_split\n",
    "# train test splitt\n",
    "\n",
    "X_train, X_test, Y_train, Y_test = train_test_split(X_data, Y_data, test_size=0.2)\n",
    "board_size = 11\n",
    "number_of_nodes = board_size*board_size\n",
    "symbol_names = ['RED', 'BLUE','UP', 'DOWN', 'RIGHT','LEFT']\n",
    "\n",
    "for i in range(board_size):\n",
    "    symbol_names.append(f'ROW_{i}')\n",
    "    symbol_names.append(f'COL_{i}')\n",
    "max_index = number_of_nodes-1\n",
    "right_index = max_index + 1\n",
    "left_index = max_index + 2\n",
    "down_index = max_index + 3\n",
    "up_index = max_index + 4\n",
    "    \n"
   ]
  },
  {
   "cell_type": "code",
   "execution_count": 13,
   "metadata": {},
   "outputs": [],
   "source": [
    "graphs_train = Graphs(X_train.shape[0],symbols=symbol_names, hypervector_size=hypervector_size, hypervector_bits=hypervector_bits, double_hashing = False)"
   ]
  },
  {
   "cell_type": "code",
   "execution_count": 14,
   "metadata": {},
   "outputs": [],
   "source": [
    "for graph_id in range(X_train.shape[0]):\n",
    "    graphs_train.set_number_of_graph_nodes(graph_id, number_of_nodes+4)\n",
    "\n",
    "\n",
    "\n",
    "\n",
    "graphs_train.prepare_node_configuration()\n",
    "# add up, down, left, right nodes\n",
    "\n",
    "\n",
    "# Add nodes to each graph\n",
    "for graph_id in range(X_train.shape[0]):\n",
    "    for node_id in range(number_of_nodes):\n",
    "        nr_neighbours = len(getConnections(board_size, node_id)[0])\n",
    "        graphs_train.add_graph_node(graph_id, node_id, nr_neighbours) \n",
    "    graphs_train.add_graph_node(graph_id, right_index, board_size)\n",
    "    graphs_train.add_graph_node(graph_id, left_index, board_size)\n",
    "    graphs_train.add_graph_node(graph_id, down_index,board_size)\n",
    "    graphs_train.add_graph_node(graph_id, up_index, board_size)\n",
    "\n",
    "graphs_train.prepare_edge_configuration()\n",
    "\n"
   ]
  },
  {
   "cell_type": "code",
   "execution_count": 15,
   "metadata": {
    "editable": true,
    "slideshow": {
     "slide_type": ""
    },
    "tags": []
   },
   "outputs": [],
   "source": [
    "\n",
    "\n",
    "for graph_id in range(X_train.shape[0]):\n",
    "    for node_id in range(number_of_nodes+4):\n",
    "      \n",
    "        neighbors, directions = getConnections(board_size,node_id) \n",
    "        edge_type = 0\n",
    "        if node_id<number_of_nodes:\n",
    "            \n",
    "            for neighbor_id,dir in zip(neighbors,directions):\n",
    "                graphs_train.add_graph_node_edge(graph_id, node_id, neighbor_id,dir)\n",
    "\n",
    "        \n",
    "\n",
    "            node_value = X_train[graph_id, node_id]\n",
    "            \n",
    "\n",
    "        \n",
    "            if node_value == 1:\n",
    "                graphs_train.add_graph_node_property(graph_id, node_id, 'RED')\n",
    "                \n",
    "            elif node_value == -1:\n",
    "                graphs_train.add_graph_node_property(graph_id, node_id, 'BLUE')\n",
    "\n",
    "                \n",
    "            row = node_id // board_size\n",
    "            col = node_id % board_size\n",
    "            \n",
    "                \n",
    "    \n",
    "     \n",
    "            graphs_train.add_graph_node_property(graph_id, node_id, f'ROW_{row}')\n",
    "            graphs_train.add_graph_node_property(graph_id, node_id, f'COL_{col}')\n",
    "        if node_id == right_index:\n",
    "            neighbors = [i for i in range(board_size-1,board_size*board_size,board_size)]\n",
    "            edge_type = 0\n",
    "            for neighbor_id in neighbors:\n",
    "                graphs_train.add_graph_node_edge(graph_id, node_id, neighbor_id,edge_type)\n",
    "            graphs_train.add_graph_node_property(graph_id, node_id, 'RIGHT')\n",
    "        if node_id == left_index:\n",
    "            neighbors = [i for i in range(0,board_size*board_size,board_size)]\n",
    "            edge_type = 1\n",
    "            for neighbor_id in neighbors:\n",
    "                graphs_train.add_graph_node_edge(graph_id, node_id, neighbor_id,edge_type)\n",
    "            graphs_train.add_graph_node_property(graph_id, node_id, 'LEFT')\n",
    "        if node_id == down_index:\n",
    "            neighbors = [i for i in range(board_size*board_size-board_size,board_size*board_size,1)]\n",
    "            edge_type = 2\n",
    "            for neighbor_id in neighbors:\n",
    "                graphs_train.add_graph_node_edge(graph_id, node_id, neighbor_id,edge_type)\n",
    "            graphs_train.add_graph_node_property(graph_id, node_id, 'DOWN')\n",
    "        if node_id == up_index:\n",
    "            neighbors = [i for i in range(board_size)]\n",
    "            edge_type = 3\n",
    "            for neighbor_id in neighbors:\n",
    "                graphs_train.add_graph_node_edge(graph_id, node_id, neighbor_id,edge_type)\n",
    "            graphs_train.add_graph_node_property(graph_id, node_id, 'UP')\n",
    "\n",
    "\n",
    "\n",
    "       "
   ]
  },
  {
   "cell_type": "code",
   "execution_count": 16,
   "metadata": {},
   "outputs": [
    {
     "data": {
      "text/plain": [
       "[10, 21, 32, 43, 54, 65, 76, 87, 98, 109, 120]"
      ]
     },
     "execution_count": 16,
     "metadata": {},
     "output_type": "execute_result"
    }
   ],
   "source": [
    "[i for i in range(board_size-1,board_size*board_size,board_size)]"
   ]
  },
  {
   "cell_type": "code",
   "execution_count": 17,
   "metadata": {
    "scrolled": true
   },
   "outputs": [],
   "source": [
    "graphs_train.encode()"
   ]
  },
  {
   "cell_type": "code",
   "execution_count": 18,
   "metadata": {},
   "outputs": [
    {
     "data": {
      "text/plain": [
       "20000"
      ]
     },
     "execution_count": 18,
     "metadata": {},
     "output_type": "execute_result"
    }
   ],
   "source": [
    "X_test.shape[0]"
   ]
  },
  {
   "cell_type": "code",
   "execution_count": 19,
   "metadata": {},
   "outputs": [],
   "source": [
    "\n",
    "graphs_test = Graphs(X_test.shape[0], init_with=graphs_train)\n"
   ]
  },
  {
   "cell_type": "code",
   "execution_count": 20,
   "metadata": {},
   "outputs": [],
   "source": [
    "\n",
    "for graph_id in range(X_test.shape[0]):\n",
    "    graphs_test.set_number_of_graph_nodes(graph_id, number_of_nodes+4)\n",
    "\n",
    "\n",
    " \n",
    "graphs_test.prepare_node_configuration()\n",
    "\n",
    "\n",
    "for graph_id in range(X_test.shape[0]):\n",
    "    graphs_test.add_graph_node(graph_id, right_index, board_size)\n",
    "    graphs_test.add_graph_node(graph_id, left_index, board_size)\n",
    "    graphs_test.add_graph_node(graph_id, down_index,board_size)\n",
    "    graphs_test.add_graph_node(graph_id, up_index, board_size)\n",
    "    for node_id in range(number_of_nodes):\n",
    "        nr_neighbours = len(getConnections(board_size, node_id)[0])\n",
    "        graphs_test.add_graph_node(graph_id, node_id, nr_neighbours)  \n",
    "\n",
    "graphs_test.prepare_edge_configuration()"
   ]
  },
  {
   "cell_type": "code",
   "execution_count": 21,
   "metadata": {},
   "outputs": [],
   "source": [
    "\n",
    "\n",
    "for graph_id in range(X_test.shape[0]):\n",
    "    for node_id in range(number_of_nodes+4):\n",
    "     \n",
    "        neighbors, directions = getConnections(board_size,node_id) \n",
    "        edge_type = 0\n",
    "        if node_id<number_of_nodes:\n",
    "            for neighbor_id, dir in zip(neighbors,directions):\n",
    "                graphs_test.add_graph_node_edge(graph_id, node_id, neighbor_id,dir)\n",
    "    \n",
    "            node_value = X_test[graph_id, node_id]\n",
    "    \n",
    "            if node_value == 1:\n",
    "                graphs_test.add_graph_node_property(graph_id, node_id, 'RED')\n",
    "        \n",
    "            elif node_value == -1:\n",
    "                \n",
    "                graphs_test.add_graph_node_property(graph_id, node_id, 'BLUE')\n",
    "       \n",
    "            row = node_id // board_size\n",
    "            col = node_id % board_size\n",
    "\n",
    "            \n",
    "    \n",
    "     \n",
    "            graphs_test.add_graph_node_property(graph_id, node_id, f'ROW_{row}')\n",
    "            graphs_test.add_graph_node_property(graph_id, node_id, f'COL_{col}')\n",
    "    \n",
    "        if node_id == right_index:\n",
    "            neighbors = [i for i in range(board_size-1,board_size*board_size,board_size)]\n",
    "            edge_type = 0\n",
    "            for neighbor_id in neighbors:\n",
    "                graphs_test.add_graph_node_edge(graph_id, node_id, neighbor_id,edge_type)\n",
    "            graphs_test.add_graph_node_property(graph_id, node_id, 'RIGHT')\n",
    "        if node_id == left_index:\n",
    "            neighbors = [i for i in range(0,board_size*board_size,board_size)]\n",
    "            edge_type = 1\n",
    "            for neighbor_id in neighbors:\n",
    "                graphs_test.add_graph_node_edge(graph_id, node_id, neighbor_id,edge_type)\n",
    "            graphs_test.add_graph_node_property(graph_id, node_id, 'LEFT')\n",
    "        if node_id == down_index:\n",
    "            neighbors = [i for i in range(board_size*board_size-board_size,board_size*board_size,1)]\n",
    "            edge_type = 2\n",
    "            for neighbor_id in neighbors:\n",
    "                graphs_test.add_graph_node_edge(graph_id, node_id, neighbor_id,edge_type)\n",
    "            graphs_test.add_graph_node_property(graph_id, node_id, 'DOWN')\n",
    "        if node_id == up_index:\n",
    "            neighbors = [i for i in range(board_size)]\n",
    "            edge_type = 3\n",
    "            for neighbor_id in neighbors:\n",
    "                graphs_test.add_graph_node_edge(graph_id, node_id, neighbor_id,edge_type)\n",
    "            graphs_test.add_graph_node_property(graph_id, node_id, 'UP')\n",
    "       "
   ]
  },
  {
   "cell_type": "code",
   "execution_count": 22,
   "metadata": {},
   "outputs": [],
   "source": [
    "graphs_test.encode()"
   ]
  },
  {
   "cell_type": "code",
   "execution_count": 23,
   "metadata": {},
   "outputs": [],
   "source": [
    "# pickle dump all the  (graphs_train, graphs_test, X_train, Y_train, X_test, Y_test)\n",
    "import pickle\n",
    "with open('data.pkl', 'wb') as f:\n",
    "    pickle.dump((graphs_train, graphs_test, X_train, Y_train, X_test, Y_test), f)\n"
   ]
  },
  {
   "cell_type": "code",
   "execution_count": 24,
   "metadata": {},
   "outputs": [],
   "source": [
    "\n",
    "# load all the data\n",
    "import pickle\n",
    "\n",
    "   # graphs_train, graphs_test, X_train, Y_train, X_test, Y_test = pickle.load(f)"
   ]
  },
  {
   "cell_type": "markdown",
   "metadata": {},
   "source": []
  },
  {
   "cell_type": "markdown",
   "metadata": {},
   "source": []
  },
  {
   "cell_type": "code",
   "execution_count": 25,
   "metadata": {},
   "outputs": [],
   "source": [
    "from GraphTsetlinMachine.tm import MultiClassGraphTsetlinMachine"
   ]
  },
  {
   "cell_type": "code",
   "execution_count": 26,
   "metadata": {},
   "outputs": [],
   "source": [
    "number_of_nodes = board_size*board_size\n",
    "number_of_clauses = 100000\n",
    "T = number_of_clauses*0.875\n",
    "depth = 7\n",
    "s = 2.0\n",
    "message_size = 32\n",
    "message_bits = 2\n",
    "max_included_literals = 32\n",
    "number_of_states = 200\n",
    "epochs = 40"
   ]
  },
  {
   "cell_type": "code",
   "execution_count": null,
   "metadata": {},
   "outputs": [],
   "source": []
  },
  {
   "cell_type": "code",
   "execution_count": 27,
   "metadata": {},
   "outputs": [
    {
     "name": "stdout",
     "output_type": "stream",
     "text": [
      "Number of Graphs: 80000\n",
      "Number of Nodes: 10000000\n",
      "X Shape: (10000000, 4)\n",
      "Edge Array Shape: (59840000, 2)\n",
      "Node Index Array: [      0     125     250 ... 9999625 9999750 9999875]\n",
      "Edge Index Array: [       0        5       10 ... 59839967 59839978 59839989]\n"
     ]
    }
   ],
   "source": [
    "# Verify sizes and shapes\n",
    "print(f\"Number of Graphs: {graphs_train.number_of_graphs}\")\n",
    "print(f\"Number of Nodes: {graphs_train.number_of_nodes}\")\n",
    "print(f\"X Shape: {graphs_train.X.shape}\")\n",
    "print(f\"Edge Array Shape: {graphs_train.edge.shape}\")\n",
    "\n",
    "# Check indices\n",
    "print(f\"Node Index Array: {graphs_train.node_index}\")\n",
    "print(f\"Edge Index Array: {graphs_train.edge_index}\")\n"
   ]
  },
  {
   "cell_type": "code",
   "execution_count": 28,
   "metadata": {},
   "outputs": [
    {
     "name": "stdout",
     "output_type": "stream",
     "text": [
      "Initialization of sparse structure.\n"
     ]
    }
   ],
   "source": [
    "tm = MultiClassGraphTsetlinMachine(\n",
    "    number_of_clauses, T, s, depth=depth, message_size = message_size,\n",
    "    message_bits = message_bits, number_of_state_bits = 8, boost_true_positive_feedback = 1,\n",
    "  #  grid=(16*13,1,1), block=(128,1,1)\n",
    ")\n"
   ]
  },
  {
   "cell_type": "code",
   "execution_count": 29,
   "metadata": {},
   "outputs": [
    {
     "data": {
      "text/plain": [
       "0.4443"
      ]
     },
     "execution_count": 29,
     "metadata": {},
     "output_type": "execute_result"
    }
   ],
   "source": [
    "Y_test.mean()"
   ]
  },
  {
   "cell_type": "code",
   "execution_count": null,
   "metadata": {
    "scrolled": true
   },
   "outputs": [
    {
     "name": "stdout",
     "output_type": "stream",
     "text": [
      "#1 Testing Accuracy: 68.03% Training Accuracy: 67.95%\n",
      "#2 Testing Accuracy: 66.45% Training Accuracy: 66.30%\n"
     ]
    }
   ],
   "source": [
    "\n",
    "\n",
    "#torch.cuda.empty_cache()<\n",
    "#torch.cuda.reset_max_memory_allocated() # Clear GPU memory\n",
    "for i in range(epochs):\n",
    "    tm.fit(graphs_train, Y_train, epochs=1, incremental=True)\n",
    "  \n",
    "    result_test = 100 * ( tm.predict(graphs_test) == Y_test).mean()\n",
    "    result_train = 100 * (tm.predict(graphs_train) == Y_train).mean()\n",
    "    \n",
    "    print(\"#%d Testing Accuracy: %.2f%% Training Accuracy: %.2f%%\" % (i+1, result_test, result_train))\n",
    "    \n",
    "   \n",
    "  "
   ]
  },
  {
   "cell_type": "code",
   "execution_count": null,
   "metadata": {},
   "outputs": [],
   "source": [
    "tm.score(graphs_test)"
   ]
  },
  {
   "cell_type": "code",
   "execution_count": 56,
   "metadata": {},
   "outputs": [],
   "source": [
    "predictions = tm.predict(graphs_test)"
   ]
  },
  {
   "cell_type": "code",
   "execution_count": null,
   "metadata": {},
   "outputs": [],
   "source": [
    "predictions.mean()"
   ]
  },
  {
   "cell_type": "code",
   "execution_count": null,
   "metadata": {},
   "outputs": [],
   "source": [
    "from sklearn.metrics import classification_report, confusion_matrix\n",
    "\n",
    "print(classification_report(Y_test,predictions))\n"
   ]
  },
  {
   "cell_type": "code",
   "execution_count": null,
   "metadata": {},
   "outputs": [],
   "source": [
    "confusion_matrix(Y_test,predictions)"
   ]
  },
  {
   "cell_type": "code",
   "execution_count": null,
   "metadata": {},
   "outputs": [],
   "source": [
    "graphs_train.hypervectors"
   ]
  },
  {
   "cell_type": "code",
   "execution_count": null,
   "metadata": {},
   "outputs": [],
   "source": [
    "weights = tm.get_state()[1].reshape(2, -1)\n",
    "for i in range(tm.number_of_clauses):\n",
    "        print(\"Clause #%d W:(%d %d)\" % (i, weights[0,i], weights[1,i]), end=' ')\n",
    "        l = []\n",
    "        for k in range(hypervector_size * 2):\n",
    "            if tm.ta_action(0, i, k):\n",
    "                if k < hypervector_size:\n",
    "                    l.append(\"x%d\" % (k))\n",
    "                else:\n",
    "                    l.append(\"NOT x%d\" % (k - hypervector_size))\n",
    "        print(\" AND \".join(l))\n"
   ]
  },
  {
   "cell_type": "code",
   "execution_count": null,
   "metadata": {},
   "outputs": [],
   "source": []
  }
 ],
 "metadata": {
  "kernelspec": {
   "display_name": "env",
   "language": "python",
   "name": "python3"
  },
  "language_info": {
   "codemirror_mode": {
    "name": "ipython",
    "version": 3
   },
   "file_extension": ".py",
   "mimetype": "text/x-python",
   "name": "python",
   "nbconvert_exporter": "python",
   "pygments_lexer": "ipython3",
   "version": "3.10.12"
  }
 },
 "nbformat": 4,
 "nbformat_minor": 4
}
