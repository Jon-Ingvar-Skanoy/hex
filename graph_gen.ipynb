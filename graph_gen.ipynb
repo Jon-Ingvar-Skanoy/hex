{
 "cells": [
  {
   "cell_type": "code",
   "execution_count": 46,
   "metadata": {},
   "outputs": [],
   "source": [
    "from GraphTsetlinMachine.graphs import Graphs\n",
    "import numpy as np\n",
    "import argparse"
   ]
  },
  {
   "cell_type": "code",
   "execution_count": 47,
   "metadata": {},
   "outputs": [],
   "source": [
    "def default_args(**kwargs):\n",
    "    parser = argparse.ArgumentParser()\n",
    "    parser.add_argument(\"--epochs\", default=250, type=int)\n",
    "    parser.add_argument(\"--number-of-clauses\", default=20000, type=int)\n",
    "    parser.add_argument(\"--T\", default=25000, type=int)\n",
    "    parser.add_argument(\"--s\", default=10.0, type=float)\n",
    "    parser.add_argument(\"--depth\", default=1, type=int)\n",
    "    parser.add_argument(\"--hypervector-size\", default=128, type=int)\n",
    "    parser.add_argument(\"--hypervector-bits\", default=2, type=int)\n",
    "    parser.add_argument(\"--message-size\", default=256, type=int)\n",
    "    parser.add_argument(\"--message-bits\", default=2, type=int)\n",
    "    parser.add_argument(\"--max-included-literals\", default=32, type=int)\n",
    "\n",
    "    args = parser.parse_args()\n",
    "    for key, value in kwargs.items():\n",
    "        if key in args.__dict__:\n",
    "            setattr(args, key, value)\n",
    "    return args\n",
    "\n"
   ]
  },
  {
   "cell_type": "code",
   "execution_count": 48,
   "metadata": {},
   "outputs": [],
   "source": [
    "\n",
    "def getConnections(size, index):\n",
    "        x = index % size\n",
    "        y = index // size\n",
    "       \n",
    "        connections = []\n",
    "        if y > 0:\n",
    "            connections.append(x+(y-1)*size)\n",
    "            if x < size-1:\n",
    "                connections.append(x+1+(y-1)*size)\n",
    "        if x > 0:\n",
    "            connections.append(x-1+y*size)\n",
    "        if x < size-1:\n",
    "            connections.append(x+1+y*size)\n",
    "        if y < size-1:\n",
    "            connections.append(x+(y+1)*size)\n",
    "            if x > 0:\n",
    "                connections.append(x-1+ (y+1)*size)\n",
    "        return connections"
   ]
  },
  {
   "cell_type": "code",
   "execution_count": 49,
   "metadata": {},
   "outputs": [],
   "source": [
    "# read the data from data/hex_games_1_000_000_size_7.csv\n",
    "data = np.genfromtxt('data/hex_games_1_000_000_size_7.csv', delimiter=',', dtype=np.int32, skip_header=1)\n",
    "data\n",
    "\n",
    "collum_names =['cell0_0', 'cell0_1', 'cell0_2', 'cell0_3', 'cell0_4', 'cell0_5', 'cell0_6', 'cell1_0', 'cell1_1', 'cell1_2', 'cell1_3', 'cell1_4', 'cell1_5', 'cell1_6', 'cell2_0', 'cell2_1', 'cell2_2', 'cell2_3', 'cell2_4', 'cell2_5', 'cell2_6', 'cell3_0', 'cell3_1', 'cell3_2', 'cell3_3', 'cell3_4', 'cell3_5', 'cell3_6', 'cell4_0', 'cell4_1', 'cell4_2', 'cell4_3', 'cell4_4', 'cell4_5', 'cell4_6', 'cell5_0', 'cell5_1', 'cell5_2', 'cell5_3', 'cell5_4', 'cell5_5', 'cell5_6', 'cell6_0', 'cell6_1', 'cell6_2', 'cell6_3', 'cell6_4', 'cell6_5', 'cell6_6']\n"
   ]
  },
  {
   "cell_type": "code",
   "execution_count": 50,
   "metadata": {},
   "outputs": [
    {
     "data": {
      "text/plain": [
       "(1000000, 50)"
      ]
     },
     "execution_count": 50,
     "metadata": {},
     "output_type": "execute_result"
    }
   ],
   "source": [
    "data.shape\n"
   ]
  },
  {
   "cell_type": "code",
   "execution_count": 51,
   "metadata": {},
   "outputs": [
    {
     "data": {
      "text/plain": [
       "[8, 9, 14, 16, 22, 21]"
      ]
     },
     "execution_count": 51,
     "metadata": {},
     "output_type": "execute_result"
    }
   ],
   "source": [
    "getConnections(7, 15)\n"
   ]
  },
  {
   "cell_type": "code",
   "execution_count": 52,
   "metadata": {},
   "outputs": [],
   "source": [
    "# separate the last column from the rest of the data\n",
    "X_data = data[:, :-1]\n",
    "Y_data = data[:, -1]"
   ]
  },
  {
   "cell_type": "code",
   "execution_count": 53,
   "metadata": {},
   "outputs": [],
   "source": [
    "from sklearn.model_selection import train_test_split\n",
    "# train test splitt\n",
    "\n",
    "X_train, X_test, Y_train, Y_test = train_test_split(X_data, Y_data, test_size=0.2, random_state=42)\n",
    "\n",
    "number_of_nodes = 7*7\n",
    "symbol_names = ['RED', 'BLUE', 'EMPTY']"
   ]
  },
  {
   "cell_type": "code",
   "execution_count": 54,
   "metadata": {},
   "outputs": [],
   "source": [
    "graphs_train = Graphs(X_train.shape[0],symbol_names=symbol_names, hypervector_size=128, hypervector_bits=2)"
   ]
  },
  {
   "cell_type": "code",
   "execution_count": 55,
   "metadata": {},
   "outputs": [],
   "source": [
    "for graph_id in range(X_train.shape[0]):\n",
    "    graphs_train.set_number_of_graph_nodes(graph_id, number_of_nodes)\n",
    "\n",
    "\n",
    "graphs_train.prepare_node_configuration()\n",
    "\n",
    "# Add nodes to each graph\n",
    "for graph_id in range(X_train.shape[0]):\n",
    "    for node_id in range(number_of_nodes):\n",
    "        nr_neighbours = len(getConnections(7, node_id))\n",
    "        graphs_train.add_graph_node(graph_id, node_id, nr_neighbours)  # The '0' can be used as a placeholder\n",
    "\n",
    "graphs_train.prepare_edge_configuration()\n",
    "\n"
   ]
  },
  {
   "cell_type": "code",
   "execution_count": 56,
   "metadata": {},
   "outputs": [],
   "source": [
    "\n",
    "# Add edges to each graph\n",
    "for graph_id in range(X_train.shape[0]):\n",
    "    for node_id in range(number_of_nodes):\n",
    "        # Get the list of adjacent nodes for the current node_id\n",
    "        neighbors = getConnections(7,node_id) # add_graph_node_edge(graph_id, node_id, destination_node_id, edge_type)\n",
    "        edge_type = 0\n",
    "        for neighbor_id in neighbors:\n",
    "            graphs_train.add_graph_node_edge(graph_id, node_id, neighbor_id,edge_type)"
   ]
  },
  {
   "cell_type": "code",
   "execution_count": 57,
   "metadata": {},
   "outputs": [],
   "source": [
    "# assign features to the nodes\n",
    "for graph_id in range(X_train.shape[0]):\n",
    "    for node_id in range(number_of_nodes):\n",
    "        # Get the value of the current node\n",
    "        node_value = X_train[graph_id, node_id]\n",
    "        # Assign the value to the node\n",
    "        if node_value == 1:\n",
    "            graphs_train.add_graph_node_feature(graph_id, node_id, 'RED')\n",
    "        elif node_value == 2:\n",
    "            graphs_train.add_graph_node_feature(graph_id, node_id, 'BLUE')\n",
    "        else:\n",
    "            graphs_train.add_graph_node_feature(graph_id, node_id, 'EMPTY')\n",
    "       "
   ]
  },
  {
   "cell_type": "code",
   "execution_count": 58,
   "metadata": {},
   "outputs": [],
   "source": [
    "# pickle dump the graphs_train object\n",
    "import pickle\n",
    "with open('graphs_train.pkl', 'wb') as f:\n",
    "    pickle.dump(graphs_train, f)\n",
    "    \n"
   ]
  },
  {
   "cell_type": "code",
   "execution_count": 59,
   "metadata": {},
   "outputs": [],
   "source": [
    "import pickle\n",
    "# load the graphs_train object\n",
    "with open('graphs_train.pkl', 'rb') as f:\n",
    "    graphs_train = pickle.load(f)"
   ]
  },
  {
   "cell_type": "code",
   "execution_count": 60,
   "metadata": {},
   "outputs": [],
   "source": [
    "graphs_train.encode()"
   ]
  },
  {
   "cell_type": "code",
   "execution_count": 61,
   "metadata": {},
   "outputs": [],
   "source": [
    "# create the test graphs object\n",
    "graphs_test = Graphs(X_test.shape[0],symbol_names=symbol_names, hypervector_size=128, hypervector_bits=2)\n"
   ]
  },
  {
   "cell_type": "code",
   "execution_count": 62,
   "metadata": {},
   "outputs": [],
   "source": [
    "\n",
    "for graph_id in range(X_test.shape[0]):\n",
    "    graphs_test.set_number_of_graph_nodes(graph_id, number_of_nodes)\n",
    "\n",
    "\n",
    "graphs_test.prepare_node_configuration()\n",
    "\n",
    "# Add nodes to each graph\n",
    "for graph_id in range(X_test.shape[0]):\n",
    "    for node_id in range(number_of_nodes):\n",
    "        nr_neighbours = len(getConnections(7, node_id))\n",
    "        graphs_test.add_graph_node(graph_id, node_id, nr_neighbours)  # The '0' can be used as placeholder\n",
    "\n",
    "graphs_test.prepare_edge_configuration()"
   ]
  },
  {
   "cell_type": "code",
   "execution_count": 63,
   "metadata": {},
   "outputs": [],
   "source": [
    "# Add edges to each graph\n",
    "\n",
    "for graph_id in range(X_test.shape[0]):\n",
    "    for node_id in range(number_of_nodes):\n",
    "        # Get the list of adjacent nodes for the current node_id\n",
    "        neighbors = getConnections(7,node_id) # add_graph_node_edge(graph_id, node_id, destination_node_id, edge_type)\n",
    "        edge_type = 0\n",
    "        for neighbor_id in neighbors:\n",
    "            graphs_test.add_graph_node_edge(graph_id, node_id, neighbor_id,edge_type)"
   ]
  },
  {
   "cell_type": "code",
   "execution_count": 64,
   "metadata": {},
   "outputs": [],
   "source": [
    "\n",
    "# assign features to the nodes\n",
    "\n",
    "for graph_id in range(X_test.shape[0]):\n",
    "    for node_id in range(number_of_nodes):\n",
    "        # Get the value of the current node\n",
    "        node_value = X_test[graph_id, node_id]\n",
    "        # Assign the value to the node\n",
    "        if node_value == 1:\n",
    "            graphs_test.add_graph_node_feature(graph_id, node_id, 'RED')\n",
    "        elif node_value == 2:\n",
    "            graphs_test.add_graph_node_feature(graph_id, node_id, 'BLUE')\n",
    "        else:\n",
    "            graphs_test.add_graph_node_feature(graph_id, node_id, 'EMPTY')"
   ]
  },
  {
   "cell_type": "code",
   "execution_count": 65,
   "metadata": {},
   "outputs": [],
   "source": [
    "# pickle dump the graphs_test object\n",
    "import pickle\n",
    "with open('graphs_test.pkl', 'wb') as f:\n",
    "    pickle.dump(graphs_test, f)\n"
   ]
  },
  {
   "cell_type": "code",
   "execution_count": 66,
   "metadata": {},
   "outputs": [],
   "source": [
    "\n",
    "# load the graphs_test object\n",
    "with open('graphs_test.pkl', 'rb') as f:\n",
    "    graphs_test = pickle.load(f)\n",
    "    "
   ]
  },
  {
   "cell_type": "code",
   "execution_count": 67,
   "metadata": {},
   "outputs": [],
   "source": [
    "graphs_test.encode()"
   ]
  },
  {
   "cell_type": "code",
   "execution_count": 68,
   "metadata": {},
   "outputs": [],
   "source": [
    "from GraphTsetlinMachine.tm import MultiClassGraphTsetlinMachine"
   ]
  },
  {
   "cell_type": "code",
   "execution_count": 80,
   "metadata": {},
   "outputs": [],
   "source": [
    "number_of_nodes = 7*7\n",
    "number_of_clauses = 20000\n",
    "T = 25000\n",
    "s = 10.0\n",
    "depth = 3\n",
    "message_size = 256\n",
    "message_bits = 2\n",
    "max_included_literals = 32\n",
    "number_of_states = 200\n",
    "epochs = 250"
   ]
  },
  {
   "cell_type": "code",
   "execution_count": 81,
   "metadata": {},
   "outputs": [
    {
     "name": "stdout",
     "output_type": "stream",
     "text": [
      "Initialization of sparse structure.\n"
     ]
    }
   ],
   "source": [
    "tm = MultiClassGraphTsetlinMachine(number_of_clauses, T, s, depth=depth, message_size = message_size, message_bits = message_bits, max_included_literals=max_included_literals)\n"
   ]
  },
  {
   "cell_type": "code",
   "execution_count": 82,
   "metadata": {},
   "outputs": [
    {
     "data": {
      "text/plain": [
       "250"
      ]
     },
     "execution_count": 82,
     "metadata": {},
     "output_type": "execute_result"
    }
   ],
   "source": [
    "epochs\n",
    "\n"
   ]
  },
  {
   "cell_type": "code",
   "execution_count": null,
   "metadata": {},
   "outputs": [],
   "source": [
    "# train the model\n",
    "for i in range(epochs):\n",
    "    tm.fit(graphs_train, Y_train, epochs=1, incremental=True)\n",
    "\n",
    "    result_test = 100 * (tm.predict(graphs_test) == Y_test).mean()\n",
    "    result_train = 100 * (tm.predict(graphs_train) == Y_train).mean()\n",
    "    print(\"#%d Testing Accuracy: %.2f%% Training Accuracy: %.2f%%\" % (i+1, result_test, result_train))"
   ]
  },
  {
   "cell_type": "code",
   "execution_count": 79,
   "metadata": {},
   "outputs": [
    {
     "data": {
      "text/plain": [
       "array([1504977930, 2724073097, 1059637269, ...,          0,          0,\n",
       "                0], dtype=uint32)"
      ]
     },
     "execution_count": 79,
     "metadata": {},
     "output_type": "execute_result"
    }
   ],
   "source": []
  },
  {
   "cell_type": "code",
   "execution_count": null,
   "metadata": {},
   "outputs": [],
   "source": []
  }
 ],
 "metadata": {
  "kernelspec": {
   "display_name": "hex",
   "language": "python",
   "name": "python3"
  },
  "language_info": {
   "codemirror_mode": {
    "name": "ipython",
    "version": 3
   },
   "file_extension": ".py",
   "mimetype": "text/x-python",
   "name": "python",
   "nbconvert_exporter": "python",
   "pygments_lexer": "ipython3",
   "version": "3.11.9"
  }
 },
 "nbformat": 4,
 "nbformat_minor": 2
}
