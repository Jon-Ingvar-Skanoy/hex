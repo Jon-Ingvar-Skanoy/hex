{
 "cells": [
  {
   "cell_type": "code",
   "execution_count": 1,
   "metadata": {},
   "outputs": [],
   "source": [
    "from GraphTsetlinMachine.graphs import Graphs\n",
    "import numpy as np\n"
   ]
  },
  {
   "cell_type": "code",
   "execution_count": 2,
   "metadata": {},
   "outputs": [],
   "source": [
    "\n",
    "hypervector_bits = 2\n",
    "hypervector_size = 128\n",
    "size = 7"
   ]
  },
  {
   "cell_type": "code",
   "execution_count": 3,
   "metadata": {},
   "outputs": [],
   "source": [
    "def getConnections(size, index):\n",
    "    x = index % size  # Column (x-coordinate)\n",
    "    y = index // size  # Row (y-coordinate)\n",
    "\n",
    "    connections = []\n",
    "\n",
    "    # Neighboring coordinates in a hex grid\n",
    "    neighbors = [\n",
    "        (-1, -1),  # Top-left\n",
    "        (0, -1),   # Top-right\n",
    "        (-1, 0),   # Left\n",
    "        (1, 0),    # Right\n",
    "        (-1, 1),   # Bottom-left\n",
    "        (0, 1)     # Bottom-right\n",
    "    ]\n",
    "\n",
    "    # Check each neighbor\n",
    "    for dx, dy in neighbors:\n",
    "        nx, ny = x + dx, y + dy\n",
    "        # Ensure the neighbor is within bounds of the board\n",
    "        if 0 <= nx < size and 0 <= ny < size:\n",
    "            neighbor_index = nx + ny * size\n",
    "            connections.append(neighbor_index)\n",
    "\n",
    "    return connections\n",
    "def getConnections(size, index):\n",
    "    x = index % size\n",
    "    y = index // size\n",
    "\n",
    "    connections = []\n",
    "\n",
    "    # Upper connections\n",
    "    if y > 0:\n",
    "        connections.append(x + (y - 1) * size)  # Directly above\n",
    "        if y % 2 == 0 and x > 0:  # Even row: diagonal left\n",
    "            connections.append(x - 1 + (y - 1) * size)\n",
    "        elif y % 2 == 1 and x < size - 1:  # Odd row: diagonal right\n",
    "            connections.append(x + 1 + (y - 1) * size)\n",
    "\n",
    "    # Left and right connections\n",
    "    if x > 0:\n",
    "        connections.append(x - 1 + y * size)  # Left\n",
    "    if x < size - 1:\n",
    "        connections.append(x + 1 + y * size)  # Right\n",
    "\n",
    "    # Lower connections\n",
    "    if y < size - 1:\n",
    "        connections.append(x + (y + 1) * size)  # Directly below\n",
    "        if y % 2 == 0 and x > 0:  # Even row: diagonal left\n",
    "            connections.append(x - 1 + (y + 1) * size)\n",
    "        elif y % 2 == 1 and x < size - 1:  # Odd row: diagonal right\n",
    "            connections.append(x + 1 + (y + 1) * size)\n",
    "\n",
    "    return connections"
   ]
  },
  {
   "cell_type": "code",
   "execution_count": 4,
   "metadata": {},
   "outputs": [],
   "source": [
    "# read the data from data/hex_games_1_000_000_size_7.csv\n",
    "data = np.genfromtxt('data/hex_games_1_000_000_size_7.csv', delimiter=',', dtype=np.int32, skip_header=1)\n",
    "data\n",
    "\n",
    "collum_names =['cell0_0', 'cell0_1', 'cell0_2', 'cell0_3', 'cell0_4', 'cell0_5', 'cell0_6', 'cell1_0', 'cell1_1', 'cell1_2', 'cell1_3', 'cell1_4', 'cell1_5', 'cell1_6', 'cell2_0', 'cell2_1', 'cell2_2', 'cell2_3', 'cell2_4', 'cell2_5', 'cell2_6', 'cell3_0', 'cell3_1', 'cell3_2', 'cell3_3', 'cell3_4', 'cell3_5', 'cell3_6', 'cell4_0', 'cell4_1', 'cell4_2', 'cell4_3', 'cell4_4', 'cell4_5', 'cell4_6', 'cell5_0', 'cell5_1', 'cell5_2', 'cell5_3', 'cell5_4', 'cell5_5', 'cell5_6', 'cell6_0', 'cell6_1', 'cell6_2', 'cell6_3', 'cell6_4', 'cell6_5', 'cell6_6']\n"
   ]
  },
  {
   "cell_type": "code",
   "execution_count": 5,
   "metadata": {},
   "outputs": [],
   "source": [
    "#sumsamples = 30\n",
    "#np.random.shuffle(data)\n",
    "#data = data[:sumsamples]\n",
    "\n",
    "# duplicate the data 100 times\n",
    "#data = np.repeat(data, 1000, axis=0)"
   ]
  },
  {
   "cell_type": "code",
   "execution_count": 6,
   "metadata": {},
   "outputs": [],
   "source": [
    "data.shape\n",
    "# shyffle the data\n",
    "np.random.shuffle(data)\n",
    "\n"
   ]
  },
  {
   "cell_type": "markdown",
   "metadata": {},
   "source": []
  },
  {
   "cell_type": "code",
   "execution_count": 7,
   "metadata": {},
   "outputs": [
    {
     "data": {
      "text/plain": [
       "[21, 29, 35]"
      ]
     },
     "execution_count": 7,
     "metadata": {},
     "output_type": "execute_result"
    }
   ],
   "source": [
    "getConnections(7, 28)\n"
   ]
  },
  {
   "cell_type": "code",
   "execution_count": 8,
   "metadata": {},
   "outputs": [],
   "source": [
    "# select the first 100000 samples\n",
    "data = data[:100000]\n",
    "\n",
    "#data = np.repeat(data, 1000, axis=0)\n",
    "# shuffle the data\n",
    "\n",
    "np.random.shuffle(data)"
   ]
  },
  {
   "cell_type": "code",
   "execution_count": 9,
   "metadata": {},
   "outputs": [
    {
     "data": {
      "text/plain": [
       "array([ 1,  1,  1,  1, -1, -1,  1,  1, -1,  1,  1,  1, -1,  1,  1,  1,  1,\n",
       "       -1,  1, -1,  0, -1, -1, -1,  1, -1, -1, -1,  1, -1,  0,  1,  1,  1,\n",
       "       -1,  0,  1, -1, -1,  1, -1, -1, -1,  1, -1, -1,  1, -1, -1])"
      ]
     },
     "execution_count": 9,
     "metadata": {},
     "output_type": "execute_result"
    }
   ],
   "source": [
    "# separate the last column from the rest of the data\n",
    "X_data = data[:, :-1]\n",
    "Y_data = data[:, -1]\n",
    "X_data[0]"
   ]
  },
  {
   "cell_type": "code",
   "execution_count": 10,
   "metadata": {},
   "outputs": [],
   "source": [
    "# for y data we need to convert the -1 t0 0\n",
    "\n",
    "Y_data = np.where(Y_data == -1, 0, 1)"
   ]
  },
  {
   "cell_type": "code",
   "execution_count": 11,
   "metadata": {},
   "outputs": [
    {
     "data": {
      "text/plain": [
       "array([0, 1, 1, ..., 0, 1, 1])"
      ]
     },
     "execution_count": 11,
     "metadata": {},
     "output_type": "execute_result"
    }
   ],
   "source": [
    "Y_data "
   ]
  },
  {
   "cell_type": "code",
   "execution_count": 12,
   "metadata": {},
   "outputs": [],
   "source": [
    "from sklearn.model_selection import train_test_split\n",
    "# train test splitt\n",
    "\n",
    "X_train, X_test, Y_train, Y_test = train_test_split(X_data, Y_data, test_size=0.2, random_state=42)\n",
    "\n",
    "number_of_nodes = 7*7\n",
    "symbol_names = ['RED', 'BLUE', 'EMPTY']"
   ]
  },
  {
   "cell_type": "code",
   "execution_count": 13,
   "metadata": {},
   "outputs": [],
   "source": [
    "graphs_train = Graphs(X_train.shape[0],symbol_names=symbol_names, hypervector_size=hypervector_size, hypervector_bits=hypervector_bits)"
   ]
  },
  {
   "cell_type": "code",
   "execution_count": 14,
   "metadata": {},
   "outputs": [],
   "source": [
    "for graph_id in range(X_train.shape[0]):\n",
    "    graphs_train.set_number_of_graph_nodes(graph_id, number_of_nodes)\n",
    "\n",
    "\n",
    "graphs_train.prepare_node_configuration()\n",
    "\n",
    "# Add nodes to each graph\n",
    "for graph_id in range(X_train.shape[0]):\n",
    "    for node_id in range(number_of_nodes):\n",
    "        nr_neighbours = len(getConnections(7, node_id))\n",
    "        graphs_train.add_graph_node(graph_id, node_id, nr_neighbours)  # The '0' can be used as a placeholder\n",
    "\n",
    "graphs_train.prepare_edge_configuration()\n",
    "\n"
   ]
  },
  {
   "cell_type": "code",
   "execution_count": 15,
   "metadata": {},
   "outputs": [],
   "source": [
    "\n",
    "# Add edges to each graph\n",
    "for graph_id in range(X_train.shape[0]):\n",
    "    for node_id in range(number_of_nodes):\n",
    "        # Get the list of adjacent nodes for the current node_id\n",
    "        neighbors = getConnections(7,node_id) # add_graph_node_edge(graph_id, node_id, destination_node_id, edge_type)\n",
    "        edge_type = 0\n",
    "        for neighbor_id in neighbors:\n",
    "            graphs_train.add_graph_node_edge(graph_id, node_id, neighbor_id,edge_type)\n",
    "\n",
    "        node_value = X_train[graph_id, node_id]\n",
    "        # Assign the value to the node\n",
    "        \n",
    "        if node_value == 1:\n",
    "            graphs_train.add_graph_node_feature(graph_id, node_id, 'RED')\n",
    "            \n",
    "        elif node_value == -1:\n",
    "            graphs_train.add_graph_node_feature(graph_id, node_id, 'BLUE')\n",
    "        else:\n",
    "            graphs_train.add_graph_node_feature(graph_id, node_id, 'EMPTY')\n",
    "       "
   ]
  },
  {
   "cell_type": "code",
   "execution_count": 16,
   "metadata": {},
   "outputs": [],
   "source": [
    "graphs_train.encode()"
   ]
  },
  {
   "cell_type": "code",
   "execution_count": 17,
   "metadata": {},
   "outputs": [
    {
     "data": {
      "text/plain": [
       "20000"
      ]
     },
     "execution_count": 17,
     "metadata": {},
     "output_type": "execute_result"
    }
   ],
   "source": [
    "X_test.shape[0]"
   ]
  },
  {
   "cell_type": "code",
   "execution_count": 18,
   "metadata": {},
   "outputs": [],
   "source": [
    "# create the test graphs object\n",
    "graphs_test = Graphs(X_test.shape[0], init_with=graphs_train)\n"
   ]
  },
  {
   "cell_type": "code",
   "execution_count": 19,
   "metadata": {},
   "outputs": [],
   "source": [
    "\n",
    "for graph_id in range(X_test.shape[0]):\n",
    "    graphs_test.set_number_of_graph_nodes(graph_id, number_of_nodes)\n",
    "\n",
    "\n",
    "graphs_test.prepare_node_configuration()\n",
    "\n",
    "# Add nodes to each graph\n",
    "for graph_id in range(X_test.shape[0]):\n",
    "    for node_id in range(number_of_nodes):\n",
    "        nr_neighbours = len(getConnections(7, node_id))\n",
    "        graphs_test.add_graph_node(graph_id, node_id, nr_neighbours)  \n",
    "\n",
    "graphs_test.prepare_edge_configuration()"
   ]
  },
  {
   "cell_type": "code",
   "execution_count": 20,
   "metadata": {},
   "outputs": [],
   "source": [
    "# Add edges to each graph\n",
    "\n",
    "for graph_id in range(X_test.shape[0]):\n",
    "    for node_id in range(number_of_nodes):\n",
    "        # Get the list of adjacent nodes for the current node_id\n",
    "        neighbors = getConnections(7,node_id) # add_graph_node_edge(graph_id, node_id, destination_node_id, edge_type)\n",
    "        edge_type = 0\n",
    "        for neighbor_id in neighbors:\n",
    "            graphs_test.add_graph_node_edge(graph_id, node_id, neighbor_id,edge_type)\n",
    "    \n",
    "        node_value = X_test[graph_id, node_id]\n",
    "        # Assign the value to the node\n",
    "        if node_value == 1:\n",
    "            graphs_test.add_graph_node_feature(graph_id, node_id, 'RED')\n",
    "       #     print('blue')\n",
    "        elif node_value == -1:\n",
    "            \n",
    "            graphs_test.add_graph_node_feature(graph_id, node_id, 'BLUE')\n",
    "        else:\n",
    "            graphs_test.add_graph_node_feature(graph_id, node_id, 'EMPTY')"
   ]
  },
  {
   "cell_type": "code",
   "execution_count": 21,
   "metadata": {},
   "outputs": [],
   "source": [
    "graphs_test.encode()"
   ]
  },
  {
   "cell_type": "code",
   "execution_count": 22,
   "metadata": {},
   "outputs": [],
   "source": [
    "# pickle dump all the  (graphs_train, graphs_test, X_train, Y_train, X_test, Y_test)\n",
    "import pickle\n",
    "with open('data.pkl', 'wb') as f:\n",
    "    pickle.dump((graphs_train, graphs_test, X_train, Y_train, X_test, Y_test), f)\n"
   ]
  },
  {
   "cell_type": "code",
   "execution_count": 23,
   "metadata": {},
   "outputs": [],
   "source": [
    "\n",
    "# load all the data\n",
    "import pickle\n",
    "\n",
    "   # graphs_train, graphs_test, X_train, Y_train, X_test, Y_test = pickle.load(f)"
   ]
  },
  {
   "cell_type": "markdown",
   "metadata": {},
   "source": []
  },
  {
   "cell_type": "code",
   "execution_count": 24,
   "metadata": {},
   "outputs": [],
   "source": [
    "from GraphTsetlinMachine.tm import MultiClassGraphTsetlinMachine"
   ]
  },
  {
   "cell_type": "code",
   "execution_count": 25,
   "metadata": {},
   "outputs": [],
   "source": [
    "number_of_nodes = 7*7\n",
    "number_of_clauses = 2000\n",
    "T = 25000\n",
    "depth =5\n",
    "s = 10.0\n",
    "message_size = 256\n",
    "message_bits = 2\n",
    "max_included_literals = 32\n",
    "number_of_states = 200\n",
    "epochs = 25"
   ]
  },
  {
   "cell_type": "code",
   "execution_count": null,
   "metadata": {},
   "outputs": [],
   "source": []
  },
  {
   "cell_type": "code",
   "execution_count": 26,
   "metadata": {},
   "outputs": [
    {
     "name": "stdout",
     "output_type": "stream",
     "text": [
      "Number of Graphs: 80000\n",
      "Number of Nodes: 3920000\n",
      "X Shape: (3920000, 8)\n",
      "Edge Array Shape: (19200000, 2)\n",
      "Node Index Array: [      0      49      98 ... 3919853 3919902 3919951]\n",
      "Edge Index Array: [       0        2        6 ... 19199989 19199993 19199997]\n"
     ]
    }
   ],
   "source": [
    "# Verify sizes and shapes\n",
    "print(f\"Number of Graphs: {graphs_train.number_of_graphs}\")\n",
    "print(f\"Number of Nodes: {graphs_train.number_of_nodes}\")\n",
    "print(f\"X Shape: {graphs_train.X.shape}\")\n",
    "print(f\"Edge Array Shape: {graphs_train.edge.shape}\")\n",
    "\n",
    "# Check indices\n",
    "print(f\"Node Index Array: {graphs_train.node_index}\")\n",
    "print(f\"Edge Index Array: {graphs_train.edge_index}\")\n"
   ]
  },
  {
   "cell_type": "code",
   "execution_count": 27,
   "metadata": {},
   "outputs": [
    {
     "name": "stdout",
     "output_type": "stream",
     "text": [
      "Initialization of sparse structure.\n"
     ]
    }
   ],
   "source": [
    "tm = MultiClassGraphTsetlinMachine(number_of_clauses, T, s, depth=depth, message_size = message_size, message_bits = message_bits)\n"
   ]
  },
  {
   "cell_type": "code",
   "execution_count": 64,
   "metadata": {},
   "outputs": [
    {
     "data": {
      "text/plain": [
       "0.406"
      ]
     },
     "execution_count": 64,
     "metadata": {},
     "output_type": "execute_result"
    }
   ],
   "source": [
    "Y_test.mean()"
   ]
  },
  {
   "cell_type": "code",
   "execution_count": null,
   "metadata": {},
   "outputs": [
    {
     "name": "stdout",
     "output_type": "stream",
     "text": [
      "#1 Testing Accuracy: 54.43% Training Accuracy: 57.29%\n",
      "#2 Testing Accuracy: 58.55% Training Accuracy: 58.20%\n"
     ]
    }
   ],
   "source": [
    "\n",
    "\n",
    "#torch.cuda.empty_cache()\n",
    "#torch.cuda.reset_max_memory_allocated() # Clear GPU memory\n",
    "for i in range(epochs):\n",
    "    tm.fit(graphs_train, Y_train, epochs=1, incremental=True)\n",
    "  \n",
    "    result_test = 100 * ( tm.predict(graphs_test) == Y_test).mean()\n",
    "    result_train = 100 * (tm.predict(graphs_train) == Y_train).mean()\n",
    "    print(\"#%d Testing Accuracy: %.2f%% Training Accuracy: %.2f%%\" % (i+1, result_test, result_train))\n",
    "   \n",
    "  "
   ]
  },
  {
   "cell_type": "code",
   "execution_count": 29,
   "metadata": {},
   "outputs": [
    {
     "data": {
      "text/plain": [
       "array([1, 0, 1, ..., 0, 1, 0], dtype=int64)"
      ]
     },
     "execution_count": 29,
     "metadata": {},
     "output_type": "execute_result"
    }
   ],
   "source": [
    "tm.predict(graphs_test)"
   ]
  },
  {
   "cell_type": "code",
   "execution_count": 30,
   "metadata": {},
   "outputs": [
    {
     "data": {
      "text/plain": [
       "0.5433"
      ]
     },
     "execution_count": 30,
     "metadata": {},
     "output_type": "execute_result"
    }
   ],
   "source": [
    "Y_test.mean()"
   ]
  },
  {
   "cell_type": "code",
   "execution_count": null,
   "metadata": {},
   "outputs": [],
   "source": []
  }
 ],
 "metadata": {
  "kernelspec": {
   "display_name": "hex",
   "language": "python",
   "name": "python3"
  },
  "language_info": {
   "codemirror_mode": {
    "name": "ipython",
    "version": 3
   },
   "file_extension": ".py",
   "mimetype": "text/x-python",
   "name": "python",
   "nbconvert_exporter": "python",
   "pygments_lexer": "ipython3",
   "version": "3.11.9"
  }
 },
 "nbformat": 4,
 "nbformat_minor": 2
}
