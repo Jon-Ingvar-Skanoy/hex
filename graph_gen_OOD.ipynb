{
 "cells": [
  {
   "cell_type": "code",
   "execution_count": 1,
   "metadata": {},
   "outputs": [],
   "source": [
    "#%pip install graphtsetlinmachine pycuda pandas numpy keras tensorflow scikit-learn scipy tqdm pillow opencv-python optuna\n",
    "#%pip install git+https://github.com/cair/tmu.git\n",
    "\n",
    "\n",
    "# !pip uninstall numpy\n",
    "# !pip install numpy==2.0.0"
   ]
  },
  {
   "cell_type": "code",
   "execution_count": 2,
   "metadata": {},
   "outputs": [],
   "source": [
    "import os\n",
    "from pathlib import Path\n",
    "from GraphTsetlinMachine.tm import MultiClassGraphTsetlinMachine\n",
    "from sklearn.metrics import classification_report, confusion_matrix\n",
    "from src.datahandler import DataHandler\n",
    "from src.graphhandler import GraphHandler\n",
    "\n",
    "#from tqdm.auto import tqdm "
   ]
  },
  {
   "cell_type": "code",
   "execution_count": 3,
   "metadata": {},
   "outputs": [],
   "source": [
    "os.makedirs(\"data\", exist_ok=True)\n",
    "os.makedirs(\"models\", exist_ok=True)\n",
    "os.makedirs(\"graphs\", exist_ok=True)"
   ]
  },
  {
   "cell_type": "code",
   "execution_count": 4,
   "metadata": {},
   "outputs": [],
   "source": [
    "paths = {\n",
    "    \"data\": Path(\"data\"),\n",
    "    \"models\": Path(\"models\"),\n",
    "    \"graphs\": Path(\"graphs\"),\n",
    "}"
   ]
  },
  {
   "cell_type": "code",
   "execution_count": 5,
   "metadata": {},
   "outputs": [],
   "source": [
    "hypervector_bits = 2\n",
    "hypervector_size = 64\n",
    "board_size = 11\n",
    "missing_moves = 1\n",
    "\n",
    "n_samples = 100000\n",
    "\n",
    "dataset = f\"{board_size}x{board_size}_{missing_moves}\""
   ]
  },
  {
   "cell_type": "code",
   "execution_count": 6,
   "metadata": {},
   "outputs": [],
   "source": [
    "dh = DataHandler(paths=paths, files={'data': dataset}, dataloader='np.genfromtxt', n_samples=n_samples)"
   ]
  },
  {
   "cell_type": "code",
   "execution_count": 7,
   "metadata": {},
   "outputs": [
    {
     "data": {
      "text/plain": [
       "'11x11_1'"
      ]
     },
     "execution_count": 7,
     "metadata": {},
     "output_type": "execute_result"
    }
   ],
   "source": [
    "dh.dataset"
   ]
  },
  {
   "cell_type": "code",
   "execution_count": 8,
   "metadata": {},
   "outputs": [
    {
     "name": "stdout",
     "output_type": "stream",
     "text": [
      "100000\n",
      "<src.datahandler.DataHandler object at 0x7f9e826ec340>\n",
      "(80000, 121)\n",
      "(80000,)\n",
      "(20000, 121)\n",
      "(20000,)\n",
      "[50000 50000]\n",
      "Data balanced? True\n",
      "Data shape: (200000, 122)\n",
      "X shape: (100000, 121)\n",
      "y shape: (100000,)\n",
      "Headers: ['cell0_0', 'cell0_1', 'cell0_2', 'cell0_3', 'cell0_4', 'cell0_5', 'cell0_6', 'cell0_7', 'cell0_8', 'cell0_9', 'cell0_10', 'cell1_0', 'cell1_1', 'cell1_2', 'cell1_3', 'cell1_4', 'cell1_5', 'cell1_6', 'cell1_7', 'cell1_8', 'cell1_9', 'cell1_10', 'cell2_0', 'cell2_1', 'cell2_2', 'cell2_3', 'cell2_4', 'cell2_5', 'cell2_6', 'cell2_7', 'cell2_8', 'cell2_9', 'cell2_10', 'cell3_0', 'cell3_1', 'cell3_2', 'cell3_3', 'cell3_4', 'cell3_5', 'cell3_6', 'cell3_7', 'cell3_8', 'cell3_9', 'cell3_10', 'cell4_0', 'cell4_1', 'cell4_2', 'cell4_3', 'cell4_4', 'cell4_5', 'cell4_6', 'cell4_7', 'cell4_8', 'cell4_9', 'cell4_10', 'cell5_0', 'cell5_1', 'cell5_2', 'cell5_3', 'cell5_4', 'cell5_5', 'cell5_6', 'cell5_7', 'cell5_8', 'cell5_9', 'cell5_10', 'cell6_0', 'cell6_1', 'cell6_2', 'cell6_3', 'cell6_4', 'cell6_5', 'cell6_6', 'cell6_7', 'cell6_8', 'cell6_9', 'cell6_10', 'cell7_0', 'cell7_1', 'cell7_2', 'cell7_3', 'cell7_4', 'cell7_5', 'cell7_6', 'cell7_7', 'cell7_8', 'cell7_9', 'cell7_10', 'cell8_0', 'cell8_1', 'cell8_2', 'cell8_3', 'cell8_4', 'cell8_5', 'cell8_6', 'cell8_7', 'cell8_8', 'cell8_9', 'cell8_10', 'cell9_0', 'cell9_1', 'cell9_2', 'cell9_3', 'cell9_4', 'cell9_5', 'cell9_6', 'cell9_7', 'cell9_8', 'cell9_9', 'cell9_10', 'cell10_0', 'cell10_1', 'cell10_2', 'cell10_3', 'cell10_4', 'cell10_5', 'cell10_6', 'cell10_7', 'cell10_8', 'cell10_9', 'cell10_10', 'winner']\n",
      "X_train shape: (80000, 121)\n",
      "y_train shape: (80000,)\n",
      "X_test shape: (20000, 121)\n",
      "y_test shape: (20000,)\n"
     ]
    }
   ],
   "source": [
    "print(dh.n_samples)\n",
    "print(dh)\n",
    "print(dh.X_train.shape)\n",
    "print(dh.y_train.shape)\n",
    "print(dh.X_test.shape)\n",
    "print(dh.y_test.shape)\n",
    "print(dh.get_class_distribution())\n",
    "print(f\"Data balanced? {dh.is_data_balanced}\")\n",
    "dh.show_data_info()"
   ]
  },
  {
   "cell_type": "code",
   "execution_count": 9,
   "metadata": {},
   "outputs": [
    {
     "name": "stdout",
     "output_type": "stream",
     "text": [
      "Setting number of nodes to 125\n",
      "Adding nodes\n",
      "Adding edges and properties\n",
      "Encoding graphs\n"
     ]
    }
   ],
   "source": [
    "g_train = GraphHandler(paths=paths,\n",
    "                        files={'data': dataset},\n",
    "                        board_size=board_size,\n",
    "                        data_array=dh.X_train,\n",
    "                        symbols=['RED', 'BLUE','UP', 'DOWN', 'RIGHT','LEFT'],\n",
    "                        hypervector_size=hypervector_size,\n",
    "                        hypervector_bits=hypervector_bits,\n",
    "                        verbose_level=2)\n",
    "\n",
    "g_train.build_complete_graphs()"
   ]
  },
  {
   "cell_type": "code",
   "execution_count": 10,
   "metadata": {},
   "outputs": [
    {
     "name": "stdout",
     "output_type": "stream",
     "text": [
      "121\n",
      "['RED', 'BLUE', 'UP', 'DOWN', 'RIGHT', 'LEFT', 'ROW_0', 'COL_0', 'ROW_1', 'COL_1', 'ROW_2', 'COL_2', 'ROW_3', 'COL_3', 'ROW_4', 'COL_4', 'ROW_5', 'COL_5', 'ROW_6', 'COL_6', 'ROW_7', 'COL_7', 'ROW_8', 'COL_8', 'ROW_9', 'COL_9', 'ROW_10', 'COL_10']\n",
      "120\n",
      "121\n",
      "122\n",
      "123\n",
      "124\n",
      "RED * * * * * ROW_0 COL_0 * * * * * * * * * * * * * * * * ROW_9 * * * RED * * * * * ROW_0 * * COL_1 * * * * * * * * * * * * * * * * * * * * * * * * ROW_0 * * * * COL_2 * * * * * * * * * * * * * * * * * * * * * * ROW_0 * * * * * * COL_3 * * * * * * * * * * * * * * RED * * * * * ROW_0 * * * * * * * * COL_4 * * * * * COL_7 * * * * * * * BLUE * * * * ROW_0 * * * * * * * * * * COL_5 * * * * * * * * * * RED * * * * * ROW_0 * * * * * * * * * * * * COL_6 * * * * * * * * * * * * * * ROW_0 * * * * * * * * * * * * * * COL_7 * * * * * * RED * * * * * ROW_0 * * * * * * * * * * * * * * * * COL_8 * * * * * BLUE * * * * ROW_0 * * * * * * * * * * * * * * * * * * COL_9 * * * BLUE * * * * ROW_0 * * * * * * * * * * * * * * * * * * * * COL_10 * BLUE * * * * * COL_0 ROW_1 * * * * * * * * * * * * * * * * * * * * BLUE * * * * * * ROW_1 COL_1 * * * * * * * * * * * * * * * * * * * BLUE * * * * * * ROW_1 * * COL_2 * * * * * * ROW_6 * * * * * * * * * * BLUE * * * * * * ROW_1 * * * * COL_3 * * * * * * * * * * * * * * * * * * * * * * ROW_1 * * * * * * COL_4 * * * * * * * * * * * * RED * * * * * * * ROW_1 * * * * * * * * COL_5 * * * * * * * * * * * * * * * * * * ROW_1 * * * * * * * * * * COL_6 * * * * * * * * RED * * * * * * * ROW_1 * * * * * * * * * * * * COL_7 * * * * * * * BLUE * * * * * * ROW_1 * * * * * * * * * * * * * * COL_8 * * * * * * * * * * * * ROW_1 * * * * * * * * * * * * * * * * COL_9 * * RED * * * * * * * ROW_1 * * * * * * * * * * * * * * * * * * COL_10 * BLUE * * * * * COL_0 * * ROW_2 * * * * * * * * * * * * * * * * * RED * * * * * * * * COL_1 ROW_2 * * * * * * * * * * * * * * * * * RED * * * * * * * * * ROW_2 COL_2 * * * * * * * * * * * * * * * * RED * * * * * * * * * ROW_2 * * COL_3 * * * * * * * * * * * * * * * BLUE * * * * * * * * ROW_2 * * * * COL_4 * * * * * * * * * * * * * BLUE * * * * * * * * ROW_2 * * * * * * COL_5 * * * * * * * * * * * BLUE * * * * * * * * ROW_2 * * * * * * * * COL_6 * * * * * * * * RED BLUE * * * * * * * * ROW_2 * * * * * * * * * * COL_7 * * * * * * * BLUE * * * * * * * * ROW_2 * * * * * * * * * * * * COL_8 * * * * * BLUE * * * * * * * * ROW_2 * * * * * * * * COL_6 * * * * * COL_9 * * * BLUE * * * * * * * * ROW_2 * * * * * * * * * * * * * * * * COL_10 * BLUE * * * * * COL_0 * * * * ROW_3 * * * * * * * * * * * * * * * * BLUE * * * * * * * COL_1 * * ROW_3 * * * * * * * * * * * * * * * * BLUE * * * * * * * * * COL_2 ROW_3 * * * * * ROW_6 * * * * * * * * * * BLUE * * * * * * * * * * ROW_3 COL_3 * * * * * * * * * * * * * * RED * * * * * * * * * * * ROW_3 * * COL_4 * * * * * COL_7 * * * * * * * BLUE * * * * * * * * * * ROW_3 * * * * COL_5 * * * * * * * * * * RED * * * * * * * * * * * ROW_3 * * * * * * COL_6 * * * * * * * * * * * * * * * * * * * * ROW_3 * * * * * * * * COL_7 * * * * * * * * * * * * * * * * * * ROW_3 * * * * * * * * * * COL_8 * * * * * BLUE * * * * * * * * * * ROW_3 * * * * * * * * * * * * COL_9 * * * BLUE * * * * * * * * * * ROW_3 * * * * * * * * * * * * * * COL_10 RED * * * * * * COL_0 * * * * * * ROW_4 * * * * * * * * * * * * * RED * * * * * * * * COL_1 * * * * ROW_4 * * * * * * * * * * * * * RED * * * * * * * * * * COL_2 * * ROW_4 * * * * * * * * * * * * * * * * * * * * * * * * * * COL_3 ROW_4 * * * * * * * * * * * * * * BLUE * * * * * * * * * * * * ROW_4 COL_4 * * * * * * * * * * * * RED * * * * * * * * * * * * * ROW_4 * * COL_5 * * * * * * * * * * * BLUE * * * * * * * * * * * * ROW_4 * * * * COL_6 * * * * * * * * * * * * * * * * * * * * * * ROW_4 COL_4 * * * * * COL_7 * * * * * * RED * * * * * * * * * * * * * ROW_4 * * * * * * * ROW_8 COL_8 * * * * RED * * * * * * * * * * * * * ROW_4 * * * * COL_6 * * * * * COL_9 * * * * * * * * * * * * * * * * ROW_4 * * * * * * * * * * * * COL_10 * BLUE * * * * * COL_0 * * * * * * * * ROW_5 * * * * * * * * * * * RED * * * * * * * * COL_1 * * * * * * ROW_5 * * * * * * * * * * * RED * * * * * * * * * * COL_2 * * * * ROW_5 * * * * * * * * * * * * * * * * * * * * * * * * COL_3 * * ROW_5 * * * * * * * * * * * * BLUE * * * * * * * * * * * * * COL_4 ROW_5 * * * * * * * * * * * * BLUE * * * * * * * * * * * * * * ROW_5 COL_5 * * * * * * * * * * RED * * * * * * * * * * * * * * * ROW_5 * * COL_6 * * * * * * * * * BLUE * * * * * * * * * * * * * * ROW_5 * * * * COL_7 * * * * * * * BLUE * * * * * * * * * * * * * * ROW_5 * * * * * * COL_8 * * * * * BLUE * * * * * * * * * * * * * * ROW_5 * * * * * * * * COL_9 * * RED * * * * * * * * * * * * * * * ROW_5 * * * * * * * * * * COL_10 * BLUE * * * * * COL_0 * * * * * * * * * * ROW_6 * * * * * * * * * RED * * * * * * * * COL_1 * * * * * * * * ROW_6 * * * * * * * * * * BLUE * * * * * * * * * COL_2 * * * * * * ROW_6 * * * * * * * * * RED * * * * * * * * * * * * COL_3 * * * * ROW_6 * * * * * * * * * * BLUE * * * * * * * * * * * * * COL_4 * * ROW_6 * * * * * * * * * * * * * * * * * * * * COL_2 * * * * * COL_5 ROW_6 * * * * * * * * * * * * * * * * * * * * * * * * * * * ROW_6 COL_6 * * * * * * * * * BLUE * * * * * * * * * * * * * * * * ROW_6 * * COL_7 * * * * * * * * * * * * * * * * * * * * * * * * ROW_6 * * * * COL_8 * * * * * * * * * * * * * * * * * * * * * * ROW_6 * * * * * * COL_9 * * * * * * * * * * * * * * * * * * * * ROW_6 * * * * * * * * COL_10 * BLUE * * * * * COL_0 * * * * * * * * * * * * ROW_7 * * * * * * * * BLUE * * * * * * * COL_1 * * * * * * * * * * ROW_7 * * * * * * * * * * * * * * * * * * COL_2 * * * * * * * * ROW_7 * * * * * * * * * * * * * * * * * * * * COL_3 * * * * * * ROW_7 * * * * * * * RED * * * * * * * * * * * * * * COL_4 * * * * ROW_7 COL_7 * * * * * * RED * * * * * * * * * * * * * * * * COL_5 * * ROW_7 * * * * * * * * * * * * * * * * * * * * * * * * * * COL_6 ROW_7 * * * * * * * * BLUE * * * * * * * * * * * * * * * * * * ROW_7 COL_7 * * * * * * RED * * * * * * * * * * * * * * * * * * * ROW_7 * * COL_8 * * * * RED * * * * * * * * * * * * * * * * * * COL_6 ROW_7 * * * * COL_9 * * RED * * * * * * * * * * * * * * * * * * * ROW_7 * * * * * * COL_10 RED * * * * * * COL_0 * * * * * * * * * * * * * * ROW_8 * * * * * * * * * * * * * * COL_1 * * * * * * * * * * * * ROW_8 * * * * * RED * * * * * * * * * * COL_2 * * * * * * * * * * ROW_8 * * * * * * BLUE * * * * * * * * * * * COL_3 * * * * * * * * ROW_8 * * * * * RED * * * * * * * * * * * * * ROW_4 COL_4 * * * * * COL_7 ROW_8 * * * * * * * * * * * * * * * * * * * * * * COL_5 * * * * ROW_8 * * * * * RED * * * * * * * * * * * * * * * * * * COL_6 * * ROW_8 * * * * * RED * * * * * * * * * * * * * * * * * * * * COL_7 ROW_8 * * * * * RED * * * * * * * * * * * * * * * * * * * * * ROW_8 COL_8 * * * * RED * * * * * * * * * * * * * * * * * * COL_6 * * ROW_8 * * COL_9 * * * BLUE * * * * * * * * * * * * * * * * * * * * ROW_8 * * * * COL_10 * * * * * * * COL_0 * * * * * * * * * * * * * * * * ROW_9 * * * RED * * * * * * * * COL_1 * * * * * * * * * * * * * * ROW_9 * * * * * * * * * * * * * * COL_2 * * * * * * * * * * * * ROW_9 * * * * * * * * * * * * * * * * COL_3 * * * * * * * * * * ROW_9 * * * * BLUE * * * * * * * * * * * * * COL_4 * * * * * * * * ROW_9 * * * RED * * * * * * * * * * * * * * * * COL_5 * * * * * * ROW_9 * * * * BLUE * * * * * * * * * * * * * * * * * COL_6 * * * * ROW_9 * * * * * * * * * * * * * * * * * * * * * * * * COL_7 * * ROW_9 * * * * BLUE * * * * * * * * * * * * * * * * * * * * * COL_8 ROW_9 * * * RED * * * * * * * * * * * * * * * * * * COL_6 * * * * ROW_9 COL_9 * * * * * * * * * * * * * * * * * * * * * * * * * * ROW_9 * * COL_10 * * * * * * * COL_0 * * * * * * * * * * * * * * * * * * ROW_10 * * BLUE * * * * * * * COL_1 * * * * * * * * * * * * * * * * ROW_10 * RED * * * * * * * * * * COL_2 * * * * * * * * * * * * * * ROW_10 * * * * * * * * * * * * * * COL_3 * * * * * * * * * * * * ROW_10 * * * * * * * * * * * * * * * * COL_4 * * * * * * * * * * ROW_10 * * * * * * * * * * * * * * * * * * COL_5 * * * * * * * * ROW_10 * * * * * * * * * * * * * * * * * * * * COL_6 * * * * * * ROW_10 * * * * * * * * * * * * * * * * * * * * * * COL_7 * * * * ROW_10 * RED * * * * * * * * * * * * * * * * * * * * * * COL_8 * * ROW_10 * RED * * * * * * * * * * * * * * * * * * COL_6 * * * * * COL_9 ROW_10 * RED * * * * * * * * * * * * * * * * * * * * * * * * * ROW_10 COL_10 * * * * RIGHT * * * * * * * * * * * * * * * * * * * * * * * * * * * * LEFT * * * * * * * * * * * * * * * * * * * * * * * * * DOWN * * * * * * * * * * * * * * * * * * * * * * * * * * UP * * * * * * * * * * * * * * * * * * * * * * * * * \n"
     ]
    }
   ],
   "source": [
    "print(g_train.n_nodes)\n",
    "print(g_train.symbols)\n",
    "print(g_train.max_index)\n",
    "print(g_train.right_index)\n",
    "print(g_train.left_index)\n",
    "print(g_train.down_index)\n",
    "print(g_train.up_index)\n",
    "g_train.graphs.print_graph(0)"
   ]
  },
  {
   "cell_type": "code",
   "execution_count": 11,
   "metadata": {},
   "outputs": [
    {
     "name": "stdout",
     "output_type": "stream",
     "text": [
      "Setting number of nodes to 13\n",
      "Adding nodes\n",
      "Adding edges and properties\n",
      "Encoding graphs\n"
     ]
    }
   ],
   "source": [
    "g_test = GraphHandler(data_array=dh.X_test, init_with=g_train.graphs, verbose_level=2)\n",
    "g_test.build_complete_graphs()"
   ]
  },
  {
   "cell_type": "code",
   "execution_count": 12,
   "metadata": {},
   "outputs": [
    {
     "name": "stdout",
     "output_type": "stream",
     "text": [
      "9\n",
      "['RED', 'BLUE', 'UP', 'DOWN', 'RIGHT', 'LEFT', 'ROW_0', 'COL_0', 'ROW_1', 'COL_1', 'ROW_2', 'COL_2']\n",
      "8\n",
      "9\n",
      "10\n",
      "11\n",
      "12\n",
      "* * * * * * ROW_0 COL_0 * * * * * * * * * * * * * * * * ROW_9 * * * * * * * * * ROW_0 * * COL_1 * * * * * * * * * * * * * * * * * * * BLUE * * * * ROW_0 * * * * COL_2 * * * * * * ROW_6 * * * * * * * * * * BLUE * * * * * COL_0 ROW_1 * * * * * * * * * * * * * * * * * * * * * * * * * * * ROW_1 COL_1 * * * * * * * * * * * * * * * * * * * * * * * * * * ROW_1 * * COL_2 * * * * * * * * * * * * * * * * * BLUE * * * * * COL_0 * * ROW_2 * * * * * * * * * * * * * * * * * * * * * * * * * * COL_1 ROW_2 * * * * * * * * * * * * * * * * * * * * * * * * * * * ROW_2 COL_2 * * * * * * * * * * * * * * * * * * * * RIGHT * * * * * * * * * * * * * * * * * * * * * * * * * * * * LEFT * * * * * * * * * * * * * * * * * * * * * * * * * DOWN * * * * * * * * * * * * * * * * * * * * * * * * * * UP * * * * * * * * * * * * * * * * * * * * * * * * * \n"
     ]
    }
   ],
   "source": [
    "print(g_test.n_nodes)\n",
    "print(g_test.symbols)\n",
    "print(g_test.max_index)\n",
    "print(g_test.right_index)\n",
    "print(g_test.left_index)\n",
    "print(g_test.down_index)\n",
    "print(g_test.up_index)\n",
    "g_test.graphs.print_graph(0)"
   ]
  },
  {
   "cell_type": "code",
   "execution_count": 13,
   "metadata": {},
   "outputs": [],
   "source": [
    "# Save and load graphs in order to verify that they will work in other scripts/notebooks\n",
    "dh.save_graphs(g_train.graphs, g_test.graphs)\n",
    "graphs_train, graphs_test, X_train, y_train, X_test, y_test = dh.load_graphs()"
   ]
  },
  {
   "cell_type": "code",
   "execution_count": 14,
   "metadata": {},
   "outputs": [
    {
     "name": "stdout",
     "output_type": "stream",
     "text": [
      "Number of Graphs: 80000\n",
      "Number of Nodes: 10000000\n",
      "X Shape: (10000000, 4)\n",
      "Edge Array Shape: (59840000, 2)\n",
      "Node Index Array: [      0     125     250 ... 9999625 9999750 9999875]\n",
      "Edge Index Array: [       0        5       10 ... 59839967 59839978 59839989]\n"
     ]
    }
   ],
   "source": [
    "# Verify sizes and shapes\n",
    "print(f\"Number of Graphs: {graphs_train.number_of_graphs}\")\n",
    "print(f\"Number of Nodes: {graphs_train.number_of_nodes}\")\n",
    "print(f\"X Shape: {graphs_train.X.shape}\")\n",
    "print(f\"Edge Array Shape: {graphs_train.edge.shape}\")\n",
    "\n",
    "# Check indices\n",
    "print(f\"Node Index Array: {graphs_train.node_index}\")\n",
    "print(f\"Edge Index Array: {graphs_train.edge_index}\")\n"
   ]
  },
  {
   "cell_type": "code",
   "execution_count": 15,
   "metadata": {},
   "outputs": [],
   "source": [
    "number_of_nodes = board_size*board_size\n",
    "number_of_clauses = 100000\n",
    "T = number_of_clauses*0.875\n",
    "depth = 7\n",
    "s = 2.0\n",
    "message_size = 32\n",
    "message_bits = 2\n",
    "max_included_literals = 32\n",
    "number_of_states = 200\n",
    "epochs = 40"
   ]
  },
  {
   "cell_type": "code",
   "execution_count": 16,
   "metadata": {},
   "outputs": [
    {
     "name": "stdout",
     "output_type": "stream",
     "text": [
      "Initialization of sparse structure.\n"
     ]
    }
   ],
   "source": [
    "tm = MultiClassGraphTsetlinMachine(\n",
    "    number_of_clauses,\n",
    "    T,\n",
    "    s,\n",
    "    depth=depth, \n",
    "    message_size = message_size,\n",
    "    message_bits = message_bits,\n",
    "    number_of_state_bits = 8,\n",
    "    boost_true_positive_feedback = 1,\n",
    "    #grid=(16*13,1,1),\n",
    "    #block=(128,1,1)\n",
    ")"
   ]
  },
  {
   "cell_type": "code",
   "execution_count": 17,
   "metadata": {
    "scrolled": true
   },
   "outputs": [
    {
     "name": "stdout",
     "output_type": "stream",
     "text": [
      "#1 Testing Accuracy: 57.77% Training Accuracy: 71.90%\n"
     ]
    },
    {
     "ename": "LogicError",
     "evalue": "cuCtxSynchronize failed: an illegal memory access was encountered",
     "output_type": "error",
     "traceback": [
      "\u001b[0;31m---------------------------------------------------------------------------\u001b[0m",
      "\u001b[0;31mLogicError\u001b[0m                                Traceback (most recent call last)",
      "Cell \u001b[0;32mIn[17], line 4\u001b[0m\n\u001b[1;32m      1\u001b[0m \u001b[38;5;28;01mfor\u001b[39;00m i \u001b[38;5;129;01min\u001b[39;00m \u001b[38;5;28mrange\u001b[39m(epochs):\n\u001b[1;32m      2\u001b[0m     tm\u001b[38;5;241m.\u001b[39mfit(graphs_train, y_train, epochs\u001b[38;5;241m=\u001b[39m\u001b[38;5;241m1\u001b[39m, incremental\u001b[38;5;241m=\u001b[39m\u001b[38;5;28;01mTrue\u001b[39;00m)\n\u001b[0;32m----> 4\u001b[0m     result_test \u001b[38;5;241m=\u001b[39m \u001b[38;5;241m100\u001b[39m \u001b[38;5;241m*\u001b[39m (\u001b[43mtm\u001b[49m\u001b[38;5;241;43m.\u001b[39;49m\u001b[43mpredict\u001b[49m\u001b[43m(\u001b[49m\u001b[43mgraphs_test\u001b[49m\u001b[43m)\u001b[49m \u001b[38;5;241m==\u001b[39m y_test)\u001b[38;5;241m.\u001b[39mmean()\n\u001b[1;32m      5\u001b[0m     result_train \u001b[38;5;241m=\u001b[39m \u001b[38;5;241m100\u001b[39m \u001b[38;5;241m*\u001b[39m (tm\u001b[38;5;241m.\u001b[39mpredict(graphs_train) \u001b[38;5;241m==\u001b[39m y_train)\u001b[38;5;241m.\u001b[39mmean()\n\u001b[1;32m      7\u001b[0m     \u001b[38;5;28mprint\u001b[39m(\u001b[38;5;124m\"\u001b[39m\u001b[38;5;124m#\u001b[39m\u001b[38;5;132;01m%d\u001b[39;00m\u001b[38;5;124m Testing Accuracy: \u001b[39m\u001b[38;5;132;01m%.2f\u001b[39;00m\u001b[38;5;132;01m%%\u001b[39;00m\u001b[38;5;124m Training Accuracy: \u001b[39m\u001b[38;5;132;01m%.2f\u001b[39;00m\u001b[38;5;132;01m%%\u001b[39;00m\u001b[38;5;124m\"\u001b[39m \u001b[38;5;241m%\u001b[39m (i\u001b[38;5;241m+\u001b[39m\u001b[38;5;241m1\u001b[39m, result_test, result_train))\n",
      "File \u001b[0;32m~/projects/hex/env/lib/python3.10/site-packages/GraphTsetlinMachine/tm.py:572\u001b[0m, in \u001b[0;36mMultiClassGraphTsetlinMachine.predict\u001b[0;34m(self, graphs)\u001b[0m\n\u001b[1;32m    571\u001b[0m \u001b[38;5;28;01mdef\u001b[39;00m \u001b[38;5;21mpredict\u001b[39m(\u001b[38;5;28mself\u001b[39m, graphs):\n\u001b[0;32m--> 572\u001b[0m \t\u001b[38;5;28;01mreturn\u001b[39;00m np\u001b[38;5;241m.\u001b[39margmax(\u001b[38;5;28;43mself\u001b[39;49m\u001b[38;5;241;43m.\u001b[39;49m\u001b[43mscore\u001b[49m\u001b[43m(\u001b[49m\u001b[43mgraphs\u001b[49m\u001b[43m)\u001b[49m, axis\u001b[38;5;241m=\u001b[39m\u001b[38;5;241m1\u001b[39m)\n",
      "File \u001b[0;32m~/projects/hex/env/lib/python3.10/site-packages/GraphTsetlinMachine/tm.py:569\u001b[0m, in \u001b[0;36mMultiClassGraphTsetlinMachine.score\u001b[0;34m(self, graphs)\u001b[0m\n\u001b[1;32m    568\u001b[0m \u001b[38;5;28;01mdef\u001b[39;00m \u001b[38;5;21mscore\u001b[39m(\u001b[38;5;28mself\u001b[39m, graphs):\n\u001b[0;32m--> 569\u001b[0m \t\u001b[38;5;28;01mreturn\u001b[39;00m \u001b[38;5;28;43mself\u001b[39;49m\u001b[38;5;241;43m.\u001b[39;49m\u001b[43m_score\u001b[49m\u001b[43m(\u001b[49m\u001b[43mgraphs\u001b[49m\u001b[43m)\u001b[49m\n",
      "File \u001b[0;32m~/projects/hex/env/lib/python3.10/site-packages/GraphTsetlinMachine/tm.py:500\u001b[0m, in \u001b[0;36mCommonTsetlinMachine._score\u001b[0;34m(self, graphs)\u001b[0m\n\u001b[1;32m    496\u001b[0m \tcuda\u001b[38;5;241m.\u001b[39mmemcpy_htod(\u001b[38;5;28mself\u001b[39m\u001b[38;5;241m.\u001b[39mclass_sum_gpu, class_sum[e,:])\n\u001b[1;32m    498\u001b[0m \t\u001b[38;5;66;03m### Inference \u001b[39;00m\n\u001b[0;32m--> 500\u001b[0m \t\u001b[38;5;28;43mself\u001b[39;49m\u001b[38;5;241;43m.\u001b[39;49m\u001b[43m_evaluate\u001b[49m\u001b[43m(\u001b[49m\n\u001b[1;32m    501\u001b[0m \u001b[43m\t\t\u001b[49m\u001b[43mgraphs\u001b[49m\u001b[43m,\u001b[49m\n\u001b[1;32m    502\u001b[0m \u001b[43m\t\t\u001b[49m\u001b[43mnp\u001b[49m\u001b[38;5;241;43m.\u001b[39;49m\u001b[43mint32\u001b[49m\u001b[43m(\u001b[49m\u001b[43mgraphs\u001b[49m\u001b[38;5;241;43m.\u001b[39;49m\u001b[43mnumber_of_graph_nodes\u001b[49m\u001b[43m[\u001b[49m\u001b[43me\u001b[49m\u001b[43m]\u001b[49m\u001b[43m)\u001b[49m\u001b[43m,\u001b[49m\n\u001b[1;32m    503\u001b[0m \u001b[43m\t\t\u001b[49m\u001b[43mnp\u001b[49m\u001b[38;5;241;43m.\u001b[39;49m\u001b[43mint32\u001b[49m\u001b[43m(\u001b[49m\u001b[43mgraphs\u001b[49m\u001b[38;5;241;43m.\u001b[39;49m\u001b[43mnode_index\u001b[49m\u001b[43m[\u001b[49m\u001b[43me\u001b[49m\u001b[43m]\u001b[49m\u001b[43m)\u001b[49m\u001b[43m,\u001b[49m\n\u001b[1;32m    504\u001b[0m \u001b[43m\t\t\u001b[49m\u001b[43mnp\u001b[49m\u001b[38;5;241;43m.\u001b[39;49m\u001b[43mint32\u001b[49m\u001b[43m(\u001b[49m\u001b[43mgraphs\u001b[49m\u001b[38;5;241;43m.\u001b[39;49m\u001b[43medge_index\u001b[49m\u001b[43m[\u001b[49m\u001b[43mgraphs\u001b[49m\u001b[38;5;241;43m.\u001b[39;49m\u001b[43mnode_index\u001b[49m\u001b[43m[\u001b[49m\u001b[43me\u001b[49m\u001b[43m]\u001b[49m\u001b[43m]\u001b[49m\u001b[43m)\u001b[49m\u001b[43m,\u001b[49m\n\u001b[1;32m    505\u001b[0m \u001b[43m\t\t\u001b[49m\u001b[38;5;28;43mself\u001b[39;49m\u001b[38;5;241;43m.\u001b[39;49m\u001b[43mcurrent_clause_node_output_test_gpu\u001b[49m\u001b[43m,\u001b[49m\n\u001b[1;32m    506\u001b[0m \u001b[43m\t\t\u001b[49m\u001b[38;5;28;43mself\u001b[39;49m\u001b[38;5;241;43m.\u001b[39;49m\u001b[43mnext_clause_node_output_test_gpu\u001b[49m\u001b[43m,\u001b[49m\n\u001b[1;32m    507\u001b[0m \u001b[43m\t\t\u001b[49m\u001b[38;5;28;43mself\u001b[39;49m\u001b[38;5;241;43m.\u001b[39;49m\u001b[43mnumber_of_graph_node_edges_test_gpu\u001b[49m\u001b[43m,\u001b[49m\n\u001b[1;32m    508\u001b[0m \u001b[43m\t\t\u001b[49m\u001b[38;5;28;43mself\u001b[39;49m\u001b[38;5;241;43m.\u001b[39;49m\u001b[43medge_test_gpu\u001b[49m\u001b[43m,\u001b[49m\n\u001b[1;32m    509\u001b[0m \u001b[43m\t\t\u001b[49m\u001b[38;5;28;43mself\u001b[39;49m\u001b[38;5;241;43m.\u001b[39;49m\u001b[43mclause_X_int_test_gpu\u001b[49m\u001b[43m,\u001b[49m\n\u001b[1;32m    510\u001b[0m \u001b[43m\t\t\u001b[49m\u001b[38;5;28;43mself\u001b[39;49m\u001b[38;5;241;43m.\u001b[39;49m\u001b[43mclause_X_test_gpu\u001b[49m\u001b[43m,\u001b[49m\n\u001b[1;32m    511\u001b[0m \u001b[43m\t\t\u001b[49m\u001b[38;5;28;43mself\u001b[39;49m\u001b[38;5;241;43m.\u001b[39;49m\u001b[43mencoded_X_test_gpu\u001b[49m\n\u001b[1;32m    512\u001b[0m \u001b[43m\t\u001b[49m\u001b[43m)\u001b[49m\n\u001b[1;32m    514\u001b[0m \tcuda\u001b[38;5;241m.\u001b[39mmemcpy_dtoh(class_sum[e,:], \u001b[38;5;28mself\u001b[39m\u001b[38;5;241m.\u001b[39mclass_sum_gpu)\n\u001b[1;32m    516\u001b[0m \u001b[38;5;28;01mreturn\u001b[39;00m class_sum\n",
      "File \u001b[0;32m~/projects/hex/env/lib/python3.10/site-packages/GraphTsetlinMachine/tm.py:309\u001b[0m, in \u001b[0;36mCommonTsetlinMachine._evaluate\u001b[0;34m(self, graphs, number_of_graph_nodes, node_index, edge_index, current_clause_node_output, next_clause_node_output, number_of_graph_node_edges, edge, clause_X_int, clause_X, encoded_X)\u001b[0m\n\u001b[1;32m    298\u001b[0m \u001b[38;5;66;03m# Calculate messages to be submitted from layer one\u001b[39;00m\n\u001b[1;32m    299\u001b[0m \u001b[38;5;28mself\u001b[39m\u001b[38;5;241m.\u001b[39mcalculate_messages\u001b[38;5;241m.\u001b[39mprepared_call(\n\u001b[1;32m    300\u001b[0m \t\u001b[38;5;28mself\u001b[39m\u001b[38;5;241m.\u001b[39mgrid,\n\u001b[1;32m    301\u001b[0m \t\u001b[38;5;28mself\u001b[39m\u001b[38;5;241m.\u001b[39mblock,\n\u001b[0;32m   (...)\u001b[0m\n\u001b[1;32m    307\u001b[0m \tencoded_X\n\u001b[1;32m    308\u001b[0m )\n\u001b[0;32m--> 309\u001b[0m \u001b[43mcuda\u001b[49m\u001b[38;5;241;43m.\u001b[39;49m\u001b[43mContext\u001b[49m\u001b[38;5;241;43m.\u001b[39;49m\u001b[43msynchronize\u001b[49m\u001b[43m(\u001b[49m\u001b[43m)\u001b[49m\n\u001b[1;32m    311\u001b[0m \u001b[38;5;66;03m# Iterate over layers\u001b[39;00m\n\u001b[1;32m    312\u001b[0m \u001b[38;5;28;01mfor\u001b[39;00m depth \u001b[38;5;129;01min\u001b[39;00m \u001b[38;5;28mrange\u001b[39m(\u001b[38;5;28mself\u001b[39m\u001b[38;5;241m.\u001b[39mdepth\u001b[38;5;241m-\u001b[39m\u001b[38;5;241m1\u001b[39m):\n\u001b[1;32m    313\u001b[0m \t\u001b[38;5;66;03m# Prepare messages\u001b[39;00m\n",
      "\u001b[0;31mLogicError\u001b[0m: cuCtxSynchronize failed: an illegal memory access was encountered"
     ]
    }
   ],
   "source": [
    "for i in range(epochs):\n",
    "    tm.fit(graphs_train, y_train, epochs=1, incremental=True)\n",
    "  \n",
    "    result_test = 100 * (tm.predict(graphs_test) == y_test).mean()\n",
    "    result_train = 100 * (tm.predict(graphs_train) == y_train).mean()\n",
    "    \n",
    "    print(\"#%d Testing Accuracy: %.2f%% Training Accuracy: %.2f%%\" % (i+1, result_test, result_train))\n",
    "  "
   ]
  },
  {
   "cell_type": "code",
   "execution_count": null,
   "metadata": {},
   "outputs": [],
   "source": [
    "tm.score(graphs_test)"
   ]
  },
  {
   "cell_type": "code",
   "execution_count": null,
   "metadata": {},
   "outputs": [],
   "source": [
    "predictions = tm.predict(graphs_test)\n",
    "predictions.mean()"
   ]
  },
  {
   "cell_type": "code",
   "execution_count": null,
   "metadata": {},
   "outputs": [],
   "source": [
    "print(classification_report(y_test, predictions))"
   ]
  },
  {
   "cell_type": "code",
   "execution_count": null,
   "metadata": {},
   "outputs": [],
   "source": [
    "confusion_matrix(y_test, predictions)"
   ]
  },
  {
   "cell_type": "code",
   "execution_count": null,
   "metadata": {},
   "outputs": [],
   "source": [
    "graphs_train.hypervectors"
   ]
  },
  {
   "cell_type": "code",
   "execution_count": null,
   "metadata": {},
   "outputs": [],
   "source": [
    "weights = tm.get_state()[1].reshape(2, -1)\n",
    "for i in range(tm.number_of_clauses):\n",
    "        print(\"Clause #%d W:(%d %d)\" % (i, weights[0,i], weights[1,i]), end=' ')\n",
    "        l = []\n",
    "        for k in range(hypervector_size * 2):\n",
    "            if tm.ta_action(0, i, k):\n",
    "                if k < hypervector_size:\n",
    "                    l.append(\"x%d\" % (k))\n",
    "                else:\n",
    "                    l.append(\"NOT x%d\" % (k - hypervector_size))\n",
    "        print(\" AND \".join(l))"
   ]
  }
 ],
 "metadata": {
  "kernelspec": {
   "display_name": "env",
   "language": "python",
   "name": "python3"
  },
  "language_info": {
   "codemirror_mode": {
    "name": "ipython",
    "version": 3
   },
   "file_extension": ".py",
   "mimetype": "text/x-python",
   "name": "python",
   "nbconvert_exporter": "python",
   "pygments_lexer": "ipython3",
   "version": "3.10.12"
  }
 },
 "nbformat": 4,
 "nbformat_minor": 4
}
