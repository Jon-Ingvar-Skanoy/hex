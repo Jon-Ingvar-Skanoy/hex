{
 "cells": [
  {
   "cell_type": "code",
   "execution_count": 1,
   "id": "1fea88b2-e85f-4ae4-8d7f-abe2978b1bfa",
   "metadata": {},
   "outputs": [],
   "source": [
    "import os\n",
    "import sys\n",
    "from pathlib import Path\n",
    "from GraphTsetlinMachine.graphs import Graphs\n",
    "import numpy as np\n",
    "from tqdm.auto import tqdm\n",
    "from src.datahandler import DataHandler\n",
    "from sklearn.model_selection import train_test_split\n",
    "import pickle"
   ]
  },
  {
   "cell_type": "code",
   "execution_count": 2,
   "id": "d35c3a6f-25d6-4c30-bfff-462e11a3899b",
   "metadata": {},
   "outputs": [],
   "source": [
    "os.makedirs(\"data\", exist_ok=True)\n",
    "os.makedirs(\"models\", exist_ok=True)\n",
    "os.makedirs(\"graphs\", exist_ok=True)"
   ]
  },
  {
   "cell_type": "code",
   "execution_count": 3,
   "id": "0f821c8c-7cf3-40ef-a118-cdbb4c00faa9",
   "metadata": {},
   "outputs": [],
   "source": [
    "paths = {\n",
    "    \"data\": Path(\"data\"),\n",
    "    \"models\": Path(\"models\"),\n",
    "    \"graphs\": Path(\"graphs\"),\n",
    "}"
   ]
  },
  {
   "cell_type": "code",
   "execution_count": 4,
   "id": "209e65f3-ee36-4006-9b4d-9effa8af6c02",
   "metadata": {},
   "outputs": [],
   "source": [
    "hypervector_bits = 2\n",
    "hypervector_size = 64\n",
    "\n",
    "samples = [1000,10000,100000]\n",
    "board_sizes = [3,4,5,6,7,8,9,10,11,12,13,14,15]\n",
    "moves_before = [0,2,5]"
   ]
  },
  {
   "cell_type": "code",
   "execution_count": 5,
   "id": "710b50f8-009c-425b-8401-29f3af01c264",
   "metadata": {},
   "outputs": [],
   "source": [
    "def getConnections(size, index):\n",
    "    x = index % size\n",
    "    y = index // size\n",
    "    max_index = size*size-1\n",
    "    right = max_index + 1\n",
    "    left = max_index + 2\n",
    "    down = max_index + 3\n",
    "    up = max_index + 4\n",
    "    \n",
    "    connections = []\n",
    "    directions = []\n",
    "\n",
    "    # Upper connections\n",
    "    if y > 0:\n",
    "        connections.append(x + (y - 1) * size)  # Directly above\n",
    "        directions.append(\"dir_up\")\n",
    "        if y % 2 == 0 and x > 0:  # Even row: diagonal left\n",
    "            connections.append(x - 1 + (y - 1) * size)\n",
    "            directions.append(\"up_left\")\n",
    "        elif y % 2 == 1 and x < size - 1:  # Odd row: diagonal right\n",
    "            connections.append(x + 1 + (y - 1) * size)\n",
    "            directions.append(\"up_right\")\n",
    "        else:\n",
    "            connections.append(up)\n",
    "            directions.append(\"up\")\n",
    "    else :\n",
    "        connections.append(up)\n",
    "        directions.append(\"up\")\n",
    "        \n",
    "    \n",
    "\n",
    "    # Left and right connections\n",
    "    if x > 0:\n",
    "        connections.append(x - 1 + y * size)  # Left\n",
    "        directions.append(\"dir_left\")\n",
    "    else:\n",
    "        connections.append(left)\n",
    "        directions.append(\"left\")\n",
    "    if x < size - 1:\n",
    "        connections.append(x + 1 + y * size)  # Right\n",
    "        directions.append(\"dir_right\")\n",
    "    else:\n",
    "        connections.append(right)\n",
    "        directions.append(\"right\")\n",
    "\n",
    "    # Lower connections\n",
    "    if y < size - 1:\n",
    "        connections.append(x + (y + 1) * size)  # Directly below\n",
    "        directions.append(\"dir_down\")\n",
    "        if y % 2 == 0 and x > 0:  # Even row: diagonal left\n",
    "            connections.append(x - 1 + (y + 1) * size)\n",
    "            directions.append(\"down_left\")\n",
    "        elif y % 2 == 1 and x < size - 1:  # Odd row: diagonal right\n",
    "            connections.append(x + 1 + (y + 1) * size)\n",
    "            directions.append(\"down_right\")\n",
    "        else:\n",
    "            connections.append(down)\n",
    "            directions.append(\"down\")\n",
    "    else:\n",
    "        connections.append(down)\n",
    "        directions.append(\"down\")\n",
    "\n",
    "    return connections, directions"
   ]
  },
  {
   "cell_type": "code",
   "execution_count": 6,
   "id": "18441856-17e1-4b76-8b3f-08faf308295b",
   "metadata": {
    "jupyter": {
     "source_hidden": true
    }
   },
   "outputs": [
    {
     "data": {
      "application/vnd.jupyter.widget-view+json": {
       "model_id": "92b94e52bcff47e785b72de3432d90fa",
       "version_major": 2,
       "version_minor": 0
      },
      "text/plain": [
       "Samples:   0%|          | 0/3 [00:00<?, ?it/s]"
      ]
     },
     "metadata": {},
     "output_type": "display_data"
    },
    {
     "data": {
      "application/vnd.jupyter.widget-view+json": {
       "model_id": "",
       "version_major": 2,
       "version_minor": 0
      },
      "text/plain": [
       "Moves Before:   0%|          | 0/3 [00:00<?, ?it/s]"
      ]
     },
     "metadata": {},
     "output_type": "display_data"
    },
    {
     "data": {
      "application/vnd.jupyter.widget-view+json": {
       "model_id": "",
       "version_major": 2,
       "version_minor": 0
      },
      "text/plain": [
       "Board Sizes:   0%|          | 0/13 [00:00<?, ?it/s]"
      ]
     },
     "metadata": {},
     "output_type": "display_data"
    },
    {
     "name": "stdout",
     "output_type": "stream",
     "text": [
      "File graphs/3x3_0_1000.pkl already exists. Skipping this dataset.\n",
      "File graphs/4x4_0_1000.pkl already exists. Skipping this dataset.\n",
      "File graphs/5x5_0_1000.pkl already exists. Skipping this dataset.\n",
      "File graphs/6x6_0_1000.pkl already exists. Skipping this dataset.\n",
      "File graphs/7x7_0_1000.pkl already exists. Skipping this dataset.\n",
      "File graphs/8x8_0_1000.pkl already exists. Skipping this dataset.\n",
      "File graphs/9x9_0_1000.pkl already exists. Skipping this dataset.\n",
      "File graphs/10x10_0_1000.pkl already exists. Skipping this dataset.\n",
      "File graphs/11x11_0_1000.pkl already exists. Skipping this dataset.\n",
      "File graphs/12x12_0_1000.pkl already exists. Skipping this dataset.\n",
      "File graphs/13x13_0_1000.pkl already exists. Skipping this dataset.\n",
      "File graphs/14x14_0_1000.pkl already exists. Skipping this dataset.\n",
      "File graphs/15x15_0_1000.pkl already exists. Skipping this dataset.\n"
     ]
    },
    {
     "data": {
      "application/vnd.jupyter.widget-view+json": {
       "model_id": "",
       "version_major": 2,
       "version_minor": 0
      },
      "text/plain": [
       "Board Sizes:   0%|          | 0/13 [00:00<?, ?it/s]"
      ]
     },
     "metadata": {},
     "output_type": "display_data"
    },
    {
     "name": "stdout",
     "output_type": "stream",
     "text": [
      "File graphs/3x3_2_1000.pkl already exists. Skipping this dataset.\n",
      "File graphs/4x4_2_1000.pkl already exists. Skipping this dataset.\n",
      "File graphs/5x5_2_1000.pkl already exists. Skipping this dataset.\n",
      "File graphs/6x6_2_1000.pkl already exists. Skipping this dataset.\n",
      "File graphs/7x7_2_1000.pkl already exists. Skipping this dataset.\n",
      "File graphs/8x8_2_1000.pkl already exists. Skipping this dataset.\n",
      "File graphs/9x9_2_1000.pkl already exists. Skipping this dataset.\n",
      "File graphs/10x10_2_1000.pkl already exists. Skipping this dataset.\n",
      "File graphs/11x11_2_1000.pkl already exists. Skipping this dataset.\n",
      "File graphs/12x12_2_1000.pkl already exists. Skipping this dataset.\n",
      "File graphs/13x13_2_1000.pkl already exists. Skipping this dataset.\n",
      "File graphs/14x14_2_1000.pkl already exists. Skipping this dataset.\n",
      "File graphs/15x15_2_1000.pkl already exists. Skipping this dataset.\n"
     ]
    },
    {
     "data": {
      "application/vnd.jupyter.widget-view+json": {
       "model_id": "",
       "version_major": 2,
       "version_minor": 0
      },
      "text/plain": [
       "Board Sizes:   0%|          | 0/13 [00:00<?, ?it/s]"
      ]
     },
     "metadata": {},
     "output_type": "display_data"
    },
    {
     "name": "stdout",
     "output_type": "stream",
     "text": [
      "File graphs/3x3_5_1000.pkl already exists. Skipping this dataset.\n",
      "File graphs/4x4_5_1000.pkl already exists. Skipping this dataset.\n",
      "File graphs/5x5_5_1000.pkl already exists. Skipping this dataset.\n",
      "File graphs/6x6_5_1000.pkl already exists. Skipping this dataset.\n",
      "File graphs/7x7_5_1000.pkl already exists. Skipping this dataset.\n",
      "File graphs/8x8_5_1000.pkl already exists. Skipping this dataset.\n",
      "File graphs/9x9_5_1000.pkl already exists. Skipping this dataset.\n",
      "File graphs/10x10_5_1000.pkl already exists. Skipping this dataset.\n",
      "File graphs/11x11_5_1000.pkl already exists. Skipping this dataset.\n",
      "File graphs/12x12_5_1000.pkl already exists. Skipping this dataset.\n",
      "File graphs/13x13_5_1000.pkl already exists. Skipping this dataset.\n",
      "File graphs/14x14_5_1000.pkl already exists. Skipping this dataset.\n",
      "File graphs/15x15_5_1000.pkl already exists. Skipping this dataset.\n"
     ]
    },
    {
     "data": {
      "application/vnd.jupyter.widget-view+json": {
       "model_id": "",
       "version_major": 2,
       "version_minor": 0
      },
      "text/plain": [
       "Moves Before:   0%|          | 0/3 [00:00<?, ?it/s]"
      ]
     },
     "metadata": {},
     "output_type": "display_data"
    },
    {
     "data": {
      "application/vnd.jupyter.widget-view+json": {
       "model_id": "",
       "version_major": 2,
       "version_minor": 0
      },
      "text/plain": [
       "Board Sizes:   0%|          | 0/13 [00:00<?, ?it/s]"
      ]
     },
     "metadata": {},
     "output_type": "display_data"
    },
    {
     "name": "stdout",
     "output_type": "stream",
     "text": [
      "File graphs/3x3_0_10000.pkl already exists. Skipping this dataset.\n",
      "File graphs/4x4_0_10000.pkl already exists. Skipping this dataset.\n",
      "File graphs/5x5_0_10000.pkl already exists. Skipping this dataset.\n",
      "File graphs/6x6_0_10000.pkl already exists. Skipping this dataset.\n",
      "File graphs/7x7_0_10000.pkl already exists. Skipping this dataset.\n",
      "File graphs/8x8_0_10000.pkl already exists. Skipping this dataset.\n",
      "File graphs/9x9_0_10000.pkl already exists. Skipping this dataset.\n",
      "File graphs/10x10_0_10000.pkl already exists. Skipping this dataset.\n",
      "File graphs/11x11_0_10000.pkl already exists. Skipping this dataset.\n",
      "File graphs/12x12_0_10000.pkl already exists. Skipping this dataset.\n",
      "File graphs/13x13_0_10000.pkl already exists. Skipping this dataset.\n",
      "File graphs/14x14_0_10000.pkl already exists. Skipping this dataset.\n",
      "File graphs/15x15_0_10000.pkl already exists. Skipping this dataset.\n"
     ]
    },
    {
     "data": {
      "application/vnd.jupyter.widget-view+json": {
       "model_id": "",
       "version_major": 2,
       "version_minor": 0
      },
      "text/plain": [
       "Board Sizes:   0%|          | 0/13 [00:00<?, ?it/s]"
      ]
     },
     "metadata": {},
     "output_type": "display_data"
    },
    {
     "name": "stdout",
     "output_type": "stream",
     "text": [
      "File graphs/3x3_2_10000.pkl already exists. Skipping this dataset.\n",
      "File graphs/4x4_2_10000.pkl already exists. Skipping this dataset.\n",
      "File graphs/5x5_2_10000.pkl already exists. Skipping this dataset.\n",
      "File graphs/6x6_2_10000.pkl already exists. Skipping this dataset.\n",
      "File graphs/7x7_2_10000.pkl already exists. Skipping this dataset.\n",
      "File graphs/8x8_2_10000.pkl already exists. Skipping this dataset.\n",
      "File graphs/9x9_2_10000.pkl already exists. Skipping this dataset.\n",
      "File graphs/10x10_2_10000.pkl already exists. Skipping this dataset.\n",
      "File graphs/11x11_2_10000.pkl already exists. Skipping this dataset.\n",
      "File graphs/12x12_2_10000.pkl already exists. Skipping this dataset.\n",
      "File graphs/13x13_2_10000.pkl already exists. Skipping this dataset.\n",
      "File graphs/14x14_2_10000.pkl already exists. Skipping this dataset.\n",
      "File graphs/15x15_2_10000.pkl already exists. Skipping this dataset.\n"
     ]
    },
    {
     "data": {
      "application/vnd.jupyter.widget-view+json": {
       "model_id": "",
       "version_major": 2,
       "version_minor": 0
      },
      "text/plain": [
       "Board Sizes:   0%|          | 0/13 [00:00<?, ?it/s]"
      ]
     },
     "metadata": {},
     "output_type": "display_data"
    },
    {
     "name": "stdout",
     "output_type": "stream",
     "text": [
      "File graphs/3x3_5_10000.pkl already exists. Skipping this dataset.\n",
      "File graphs/4x4_5_10000.pkl already exists. Skipping this dataset.\n",
      "File graphs/5x5_5_10000.pkl already exists. Skipping this dataset.\n",
      "File graphs/6x6_5_10000.pkl already exists. Skipping this dataset.\n",
      "File graphs/7x7_5_10000.pkl already exists. Skipping this dataset.\n",
      "File graphs/8x8_5_10000.pkl already exists. Skipping this dataset.\n",
      "File graphs/9x9_5_10000.pkl already exists. Skipping this dataset.\n",
      "File graphs/10x10_5_10000.pkl already exists. Skipping this dataset.\n",
      "File graphs/11x11_5_10000.pkl already exists. Skipping this dataset.\n",
      "File graphs/12x12_5_10000.pkl already exists. Skipping this dataset.\n",
      "File graphs/13x13_5_10000.pkl already exists. Skipping this dataset.\n",
      "File graphs/14x14_5_10000.pkl already exists. Skipping this dataset.\n",
      "File graphs/15x15_5_10000.pkl already exists. Skipping this dataset.\n"
     ]
    },
    {
     "data": {
      "application/vnd.jupyter.widget-view+json": {
       "model_id": "",
       "version_major": 2,
       "version_minor": 0
      },
      "text/plain": [
       "Moves Before:   0%|          | 0/3 [00:00<?, ?it/s]"
      ]
     },
     "metadata": {},
     "output_type": "display_data"
    },
    {
     "data": {
      "application/vnd.jupyter.widget-view+json": {
       "model_id": "",
       "version_major": 2,
       "version_minor": 0
      },
      "text/plain": [
       "Board Sizes:   0%|          | 0/13 [00:00<?, ?it/s]"
      ]
     },
     "metadata": {},
     "output_type": "display_data"
    },
    {
     "name": "stdout",
     "output_type": "stream",
     "text": [
      "File graphs/3x3_0_100000.pkl already exists. Skipping this dataset.\n",
      "File graphs/4x4_0_100000.pkl already exists. Skipping this dataset.\n",
      "File graphs/5x5_0_100000.pkl already exists. Skipping this dataset.\n",
      "File graphs/6x6_0_100000.pkl already exists. Skipping this dataset.\n",
      "File graphs/7x7_0_100000.pkl already exists. Skipping this dataset.\n",
      "File graphs/8x8_0_100000.pkl already exists. Skipping this dataset.\n",
      "File graphs/9x9_0_100000.pkl already exists. Skipping this dataset.\n",
      "File graphs/10x10_0_100000.pkl already exists. Skipping this dataset.\n",
      "File graphs/11x11_0_100000.pkl already exists. Skipping this dataset.\n",
      "File graphs/12x12_0_100000.pkl already exists. Skipping this dataset.\n",
      "File graphs/13x13_0_100000.pkl already exists. Skipping this dataset.\n",
      "File graphs/14x14_0_100000.pkl already exists. Skipping this dataset.\n",
      "File graphs/15x15_0_100000.pkl already exists. Skipping this dataset.\n"
     ]
    },
    {
     "data": {
      "application/vnd.jupyter.widget-view+json": {
       "model_id": "",
       "version_major": 2,
       "version_minor": 0
      },
      "text/plain": [
       "Board Sizes:   0%|          | 0/13 [00:00<?, ?it/s]"
      ]
     },
     "metadata": {},
     "output_type": "display_data"
    },
    {
     "name": "stdout",
     "output_type": "stream",
     "text": [
      "File graphs/3x3_2_100000.pkl already exists. Skipping this dataset.\n",
      "File graphs/4x4_2_100000.pkl already exists. Skipping this dataset.\n",
      "File graphs/5x5_2_100000.pkl already exists. Skipping this dataset.\n",
      "File graphs/6x6_2_100000.pkl already exists. Skipping this dataset.\n",
      "File graphs/7x7_2_100000.pkl already exists. Skipping this dataset.\n",
      "File graphs/8x8_2_100000.pkl already exists. Skipping this dataset.\n",
      "File graphs/9x9_2_100000.pkl already exists. Skipping this dataset.\n",
      "File graphs/10x10_2_100000.pkl already exists. Skipping this dataset.\n",
      "File graphs/11x11_2_100000.pkl already exists. Skipping this dataset.\n",
      "File graphs/12x12_2_100000.pkl already exists. Skipping this dataset.\n",
      "File graphs/13x13_2_100000.pkl already exists. Skipping this dataset.\n",
      "File graphs/14x14_2_100000.pkl already exists. Skipping this dataset.\n",
      "File graphs/15x15_2_100000.pkl already exists. Skipping this dataset.\n"
     ]
    },
    {
     "data": {
      "application/vnd.jupyter.widget-view+json": {
       "model_id": "",
       "version_major": 2,
       "version_minor": 0
      },
      "text/plain": [
       "Board Sizes:   0%|          | 0/13 [00:00<?, ?it/s]"
      ]
     },
     "metadata": {},
     "output_type": "display_data"
    },
    {
     "name": "stdout",
     "output_type": "stream",
     "text": [
      "File graphs/3x3_5_100000.pkl already exists. Skipping this dataset.\n",
      "File graphs/4x4_5_100000.pkl already exists. Skipping this dataset.\n",
      "File graphs/5x5_5_100000.pkl already exists. Skipping this dataset.\n",
      "File graphs/6x6_5_100000.pkl already exists. Skipping this dataset.\n",
      "File graphs/7x7_5_100000.pkl already exists. Skipping this dataset.\n",
      "File graphs/8x8_5_100000.pkl already exists. Skipping this dataset.\n",
      "File graphs/9x9_5_100000.pkl already exists. Skipping this dataset.\n",
      "File graphs/10x10_5_100000.pkl already exists. Skipping this dataset.\n",
      "File graphs/11x11_5_100000.pkl already exists. Skipping this dataset.\n",
      "File graphs/12x12_5_100000.pkl already exists. Skipping this dataset.\n",
      "File graphs/13x13_5_100000.pkl already exists. Skipping this dataset.\n",
      "File graphs/14x14_5_100000.pkl already exists. Skipping this dataset.\n",
      "File graphs/15x15_5_100000.pkl already exists. Skipping this dataset.\n"
     ]
    }
   ],
   "source": [
    "for n_samples in tqdm(samples, desc=\"Samples\"):\n",
    "    for mbf in tqdm(moves_before, desc=\"Moves Before\", leave=False):\n",
    "        for board_size in tqdm(board_sizes, desc=\"Board Sizes\", leave=False):\n",
    "            dataset = f\"{board_size}x{board_size}_{mbf}\"\n",
    "            file_path = f'graphs/{dataset}_{n_samples}.pkl'\n",
    "            if os.path.exists(file_path):\n",
    "                print(f\"File {file_path} already exists. Skipping this dataset.\")\n",
    "                continue  # Skip this iteration if the file exists\n",
    "            \n",
    "            dh = DataHandler(paths=paths, files={'data': dataset}, dataloader='np.genfromtxt', n_samples=n_samples)\n",
    "            data = dh.data\n",
    "            data.shape\n",
    "            getConnections(board_size, 28)\n",
    "            data = data[:n_samples]\n",
    "            X_data = data[:, :-1]\n",
    "            Y_data = data[:, -1]\n",
    "            X_data[0].shape\n",
    "            Y_data \n",
    "            \n",
    "            X_train, X_test, Y_train, Y_test = train_test_split(X_data, Y_data, test_size=0.2)\n",
    "            number_of_nodes = board_size*board_size\n",
    "            symbol_names = ['RED', 'BLUE','UP', 'DOWN', 'RIGHT','LEFT']\n",
    "            \n",
    "            for i in range(board_size):\n",
    "                symbol_names.append(f'ROW_{i}')\n",
    "                symbol_names.append(f'COL_{i}')\n",
    "            max_index = number_of_nodes-1\n",
    "            right_index = max_index + 1\n",
    "            left_index = max_index + 2\n",
    "            down_index = max_index + 3\n",
    "            up_index = max_index + 4\n",
    "\n",
    "            graphs_train = Graphs(X_train.shape[0],symbols=symbol_names, hypervector_size=hypervector_size, hypervector_bits=hypervector_bits, double_hashing = False)\n",
    "\n",
    "            for graph_id in range(X_train.shape[0]):\n",
    "                graphs_train.set_number_of_graph_nodes(graph_id, number_of_nodes+4)\n",
    "            \n",
    "            graphs_train.prepare_node_configuration()\n",
    "            # add up, down, left, right nodes\n",
    "            \n",
    "            # Add nodes to each graph\n",
    "            for graph_id in tqdm(range(X_train.shape[0]), desc=\"Train nodes\", leave=True):\n",
    "                for node_id in range(number_of_nodes):\n",
    "                    nr_neighbours = len(getConnections(board_size, node_id)[0])\n",
    "                    graphs_train.add_graph_node(graph_id, node_id, nr_neighbours) \n",
    "                graphs_train.add_graph_node(graph_id, right_index, board_size)\n",
    "                graphs_train.add_graph_node(graph_id, left_index, board_size)\n",
    "                graphs_train.add_graph_node(graph_id, down_index,board_size)\n",
    "                graphs_train.add_graph_node(graph_id, up_index, board_size)\n",
    "            \n",
    "            graphs_train.prepare_edge_configuration()\n",
    "\n",
    "            for graph_id in tqdm(range(X_train.shape[0]), desc=\"Train edges & props\", leave=True):\n",
    "                for node_id in range(number_of_nodes+4):\n",
    "                  \n",
    "                    neighbors, directions = getConnections(board_size,node_id) \n",
    "                    edge_type = 0\n",
    "                    if node_id<number_of_nodes:\n",
    "                        \n",
    "                        for neighbor_id,dir in zip(neighbors,directions):\n",
    "                            graphs_train.add_graph_node_edge(graph_id, node_id, neighbor_id,dir)\n",
    "            \n",
    "                        node_value = X_train[graph_id, node_id]\n",
    "                        \n",
    "                        if node_value == 1:\n",
    "                            graphs_train.add_graph_node_property(graph_id, node_id, 'RED')\n",
    "                            \n",
    "                        elif node_value == -1:\n",
    "                            graphs_train.add_graph_node_property(graph_id, node_id, 'BLUE')\n",
    "            \n",
    "                            \n",
    "                        row = node_id // board_size\n",
    "                        col = node_id % board_size\n",
    "                        \n",
    "                        graphs_train.add_graph_node_property(graph_id, node_id, f'ROW_{row}')\n",
    "                        graphs_train.add_graph_node_property(graph_id, node_id, f'COL_{col}')\n",
    "                    if node_id == right_index:\n",
    "                        neighbors = [i for i in range(board_size-1,board_size*board_size,board_size)]\n",
    "                        edge_type = 0\n",
    "                        for neighbor_id in neighbors:\n",
    "                            graphs_train.add_graph_node_edge(graph_id, node_id, neighbor_id,edge_type)\n",
    "                        graphs_train.add_graph_node_property(graph_id, node_id, 'RIGHT')\n",
    "                    if node_id == left_index:\n",
    "                        neighbors = [i for i in range(0,board_size*board_size,board_size)]\n",
    "                        edge_type = 1\n",
    "                        for neighbor_id in neighbors:\n",
    "                            graphs_train.add_graph_node_edge(graph_id, node_id, neighbor_id,edge_type)\n",
    "                        graphs_train.add_graph_node_property(graph_id, node_id, 'LEFT')\n",
    "                    if node_id == down_index:\n",
    "                        neighbors = [i for i in range(board_size*board_size-board_size,board_size*board_size,1)]\n",
    "                        edge_type = 2\n",
    "                        for neighbor_id in neighbors:\n",
    "                            graphs_train.add_graph_node_edge(graph_id, node_id, neighbor_id,edge_type)\n",
    "                        graphs_train.add_graph_node_property(graph_id, node_id, 'DOWN')\n",
    "                    if node_id == up_index:\n",
    "                        neighbors = [i for i in range(board_size)]\n",
    "                        edge_type = 3\n",
    "                        for neighbor_id in neighbors:\n",
    "                            graphs_train.add_graph_node_edge(graph_id, node_id, neighbor_id,edge_type)\n",
    "                        graphs_train.add_graph_node_property(graph_id, node_id, 'UP')\n",
    "\n",
    "            [i for i in range(board_size-1,board_size*board_size,board_size)]\n",
    "    \n",
    "            graphs_train.encode()\n",
    "    \n",
    "            X_test.shape[0]\n",
    "    \n",
    "            graphs_test = Graphs(X_test.shape[0], init_with=graphs_train)\n",
    "    \n",
    "            for graph_id in range(X_test.shape[0]):\n",
    "                graphs_test.set_number_of_graph_nodes(graph_id, number_of_nodes+4)\n",
    "    \n",
    "            graphs_test.prepare_node_configuration()\n",
    "            \n",
    "            for graph_id in tqdm(range(X_test.shape[0]), desc=\"Test nodes\", leave=True):\n",
    "                graphs_test.add_graph_node(graph_id, right_index, board_size)\n",
    "                graphs_test.add_graph_node(graph_id, left_index, board_size)\n",
    "                graphs_test.add_graph_node(graph_id, down_index,board_size)\n",
    "                graphs_test.add_graph_node(graph_id, up_index, board_size)\n",
    "                for node_id in range(number_of_nodes):\n",
    "                    nr_neighbours = len(getConnections(board_size, node_id)[0])\n",
    "                    graphs_test.add_graph_node(graph_id, node_id, nr_neighbours)  \n",
    "            \n",
    "            graphs_test.prepare_edge_configuration()\n",
    "    \n",
    "            for graph_id in tqdm(range(X_test.shape[0]), desc=\"Test edges & props\", leave=True):\n",
    "                for node_id in range(number_of_nodes+4):\n",
    "                 \n",
    "                    neighbors, directions = getConnections(board_size,node_id) \n",
    "                    edge_type = 0\n",
    "                    if node_id<number_of_nodes:\n",
    "                        for neighbor_id, dir in zip(neighbors,directions):\n",
    "                            graphs_test.add_graph_node_edge(graph_id, node_id, neighbor_id,dir)\n",
    "                \n",
    "                        node_value = X_test[graph_id, node_id]\n",
    "                \n",
    "                        if node_value == 1:\n",
    "                            graphs_test.add_graph_node_property(graph_id, node_id, 'RED')\n",
    "                    \n",
    "                        elif node_value == -1:\n",
    "                            \n",
    "                            graphs_test.add_graph_node_property(graph_id, node_id, 'BLUE')\n",
    "                   \n",
    "                        row = node_id // board_size\n",
    "                        col = node_id % board_size\n",
    "            \n",
    "                        graphs_test.add_graph_node_property(graph_id, node_id, f'ROW_{row}')\n",
    "                        graphs_test.add_graph_node_property(graph_id, node_id, f'COL_{col}')\n",
    "                \n",
    "                    if node_id == right_index:\n",
    "                        neighbors = [i for i in range(board_size-1,board_size*board_size,board_size)]\n",
    "                        edge_type = 0\n",
    "                        for neighbor_id in neighbors:\n",
    "                            graphs_test.add_graph_node_edge(graph_id, node_id, neighbor_id,edge_type)\n",
    "                        graphs_test.add_graph_node_property(graph_id, node_id, 'RIGHT')\n",
    "                    if node_id == left_index:\n",
    "                        neighbors = [i for i in range(0,board_size*board_size,board_size)]\n",
    "                        edge_type = 1\n",
    "                        for neighbor_id in neighbors:\n",
    "                            graphs_test.add_graph_node_edge(graph_id, node_id, neighbor_id,edge_type)\n",
    "                        graphs_test.add_graph_node_property(graph_id, node_id, 'LEFT')\n",
    "                    if node_id == down_index:\n",
    "                        neighbors = [i for i in range(board_size*board_size-board_size,board_size*board_size,1)]\n",
    "                        edge_type = 2\n",
    "                        for neighbor_id in neighbors:\n",
    "                            graphs_test.add_graph_node_edge(graph_id, node_id, neighbor_id,edge_type)\n",
    "                        graphs_test.add_graph_node_property(graph_id, node_id, 'DOWN')\n",
    "                    if node_id == up_index:\n",
    "                        neighbors = [i for i in range(board_size)]\n",
    "                        edge_type = 3\n",
    "                        for neighbor_id in neighbors:\n",
    "                            graphs_test.add_graph_node_edge(graph_id, node_id, neighbor_id,edge_type)\n",
    "                        graphs_test.add_graph_node_property(graph_id, node_id, 'UP')\n",
    "           \n",
    "    \n",
    "            graphs_test.encode()\n",
    "    \n",
    "            with open(file_path, 'wb') as f:\n",
    "                pickle.dump((graphs_train, graphs_test, X_train, Y_train, X_test, Y_test), f)"
   ]
  }
 ],
 "metadata": {
  "kernelspec": {
   "display_name": "Python 3 (ipykernel)",
   "language": "python",
   "name": "python3"
  },
  "language_info": {
   "codemirror_mode": {
    "name": "ipython",
    "version": 3
   },
   "file_extension": ".py",
   "mimetype": "text/x-python",
   "name": "python",
   "nbconvert_exporter": "python",
   "pygments_lexer": "ipython3",
   "version": "3.11.6"
  },
  "widgets": {
   "application/vnd.jupyter.widget-state+json": {
    "state": {
     "0064eb9f5e3342a09824c5d59e87b0a2": {
      "model_module": "@jupyter-widgets/controls",
      "model_module_version": "2.0.0",
      "model_name": "HTMLModel",
      "state": {
       "layout": "IPY_MODEL_06062f9883c248fe9c742ffd50b473ce",
       "style": "IPY_MODEL_9203c8143dcc4679b2bc2ee68227c337",
       "value": "Board Sizes:   0%"
      }
     },
     "014c33a7ea8344e587e3d2d6ba044a22": {
      "model_module": "@jupyter-widgets/controls",
      "model_module_version": "2.0.0",
      "model_name": "HTMLStyleModel",
      "state": {
       "description_width": "",
       "font_size": null,
       "text_color": null
      }
     },
     "0341146a3e8e4a1080eca921a04a9361": {
      "model_module": "@jupyter-widgets/base",
      "model_module_version": "2.0.0",
      "model_name": "LayoutModel",
      "state": {}
     },
     "06062f9883c248fe9c742ffd50b473ce": {
      "model_module": "@jupyter-widgets/base",
      "model_module_version": "2.0.0",
      "model_name": "LayoutModel",
      "state": {}
     },
     "07abc2950412442e88f6e52d5099d876": {
      "model_module": "@jupyter-widgets/controls",
      "model_module_version": "2.0.0",
      "model_name": "HTMLModel",
      "state": {
       "layout": "IPY_MODEL_edcbc8a57814498eafd80fd90cd04af6",
       "style": "IPY_MODEL_fda6f7145af04092bb22386ed8af1e7f",
       "value": "Board Sizes:   0%"
      }
     },
     "09c002f9964b4c918123e44472278cf6": {
      "model_module": "@jupyter-widgets/base",
      "model_module_version": "2.0.0",
      "model_name": "LayoutModel",
      "state": {
       "visibility": "hidden"
      }
     },
     "0c32dd37ad9243f6a23f19d823721426": {
      "model_module": "@jupyter-widgets/controls",
      "model_module_version": "2.0.0",
      "model_name": "HTMLStyleModel",
      "state": {
       "description_width": "",
       "font_size": null,
       "text_color": null
      }
     },
     "0d315df1d6104fcd818f407dfb269191": {
      "model_module": "@jupyter-widgets/controls",
      "model_module_version": "2.0.0",
      "model_name": "HTMLStyleModel",
      "state": {
       "description_width": "",
       "font_size": null,
       "text_color": null
      }
     },
     "0e06f81979ea4ef1bae9b18dc6a13c4c": {
      "model_module": "@jupyter-widgets/controls",
      "model_module_version": "2.0.0",
      "model_name": "HTMLModel",
      "state": {
       "layout": "IPY_MODEL_949bb823c9bd40499892b3e6bf01ffe3",
       "style": "IPY_MODEL_7cb405bd96574a068ad97a64c2bccf54",
       "value": " 0/3 [00:00&lt;?, ?it/s]"
      }
     },
     "0ed4e518ae704c1ba4673d188f719420": {
      "model_module": "@jupyter-widgets/controls",
      "model_module_version": "2.0.0",
      "model_name": "FloatProgressModel",
      "state": {
       "layout": "IPY_MODEL_76c54a66327b4a23894ed8ec504f95dc",
       "max": 13,
       "style": "IPY_MODEL_9ef944eceada4fc88dd23a4b9d4c6d76",
       "value": 13
      }
     },
     "107a1e34f7584a5f8b96e0a4f4a0c867": {
      "model_module": "@jupyter-widgets/controls",
      "model_module_version": "2.0.0",
      "model_name": "HTMLModel",
      "state": {
       "layout": "IPY_MODEL_f6f237ab9e164b1bb1263b584e1f0f9b",
       "style": "IPY_MODEL_528891f87b494a6ca07b03d270274b44",
       "value": "Moves Before:   0%"
      }
     },
     "113b59b9139e4e2c88c755885f1ae2af": {
      "model_module": "@jupyter-widgets/base",
      "model_module_version": "2.0.0",
      "model_name": "LayoutModel",
      "state": {
       "visibility": "hidden"
      }
     },
     "11b34974f0d54940ba885091927a0b08": {
      "model_module": "@jupyter-widgets/controls",
      "model_module_version": "2.0.0",
      "model_name": "ProgressStyleModel",
      "state": {
       "description_width": ""
      }
     },
     "12099b27fbd745919e062114aaee202b": {
      "model_module": "@jupyter-widgets/controls",
      "model_module_version": "2.0.0",
      "model_name": "HTMLStyleModel",
      "state": {
       "description_width": "",
       "font_size": null,
       "text_color": null
      }
     },
     "132b2bc03a6f4d2cb179f332ffb05b0d": {
      "model_module": "@jupyter-widgets/base",
      "model_module_version": "2.0.0",
      "model_name": "LayoutModel",
      "state": {}
     },
     "141f1c3faea9459cb59c97ea2a0c1f9b": {
      "model_module": "@jupyter-widgets/controls",
      "model_module_version": "2.0.0",
      "model_name": "HTMLStyleModel",
      "state": {
       "description_width": "",
       "font_size": null,
       "text_color": null
      }
     },
     "1de25f8e95f548b99333f13bb86dfe2e": {
      "model_module": "@jupyter-widgets/base",
      "model_module_version": "2.0.0",
      "model_name": "LayoutModel",
      "state": {}
     },
     "1e9bd03ac7864efb83405bf317ad6fc9": {
      "model_module": "@jupyter-widgets/controls",
      "model_module_version": "2.0.0",
      "model_name": "HTMLModel",
      "state": {
       "layout": "IPY_MODEL_b7714207436a4a508a2c3f3aa5bc38bc",
       "style": "IPY_MODEL_37adc8e15be64804a7b0cf6a232cfbd9",
       "value": " 0/13 [00:00&lt;?, ?it/s]"
      }
     },
     "1fb6f620b9f94c8b98884685ef7b557c": {
      "model_module": "@jupyter-widgets/base",
      "model_module_version": "2.0.0",
      "model_name": "LayoutModel",
      "state": {}
     },
     "20207b759722483b926486f6f0d0d7c1": {
      "model_module": "@jupyter-widgets/base",
      "model_module_version": "2.0.0",
      "model_name": "LayoutModel",
      "state": {}
     },
     "24f4d3d533d74620abbabf0dbb1e4b3c": {
      "model_module": "@jupyter-widgets/base",
      "model_module_version": "2.0.0",
      "model_name": "LayoutModel",
      "state": {
       "visibility": "hidden"
      }
     },
     "24fd641ef82b4e90a32a01d328b7d79a": {
      "model_module": "@jupyter-widgets/base",
      "model_module_version": "2.0.0",
      "model_name": "LayoutModel",
      "state": {}
     },
     "28945977bc304f42abbb0ad0c4a26687": {
      "model_module": "@jupyter-widgets/controls",
      "model_module_version": "2.0.0",
      "model_name": "HTMLModel",
      "state": {
       "layout": "IPY_MODEL_2b106659d0b744a0b0fb8a616d6d52e2",
       "style": "IPY_MODEL_141f1c3faea9459cb59c97ea2a0c1f9b",
       "value": "Board Sizes:   0%"
      }
     },
     "29cf3a11fbdc4525a49fd0727996aea3": {
      "model_module": "@jupyter-widgets/controls",
      "model_module_version": "2.0.0",
      "model_name": "HTMLModel",
      "state": {
       "layout": "IPY_MODEL_69a81c219fb14b0bad8e7155e89400d7",
       "style": "IPY_MODEL_7e8262e2bf524121a3187a6280873af5",
       "value": " 0/13 [00:00&lt;?, ?it/s]"
      }
     },
     "2b106659d0b744a0b0fb8a616d6d52e2": {
      "model_module": "@jupyter-widgets/base",
      "model_module_version": "2.0.0",
      "model_name": "LayoutModel",
      "state": {}
     },
     "2c9435d201e0478a9dc24d396b5867ea": {
      "model_module": "@jupyter-widgets/base",
      "model_module_version": "2.0.0",
      "model_name": "LayoutModel",
      "state": {}
     },
     "2ef0f07993844147b624a1a51c42cf88": {
      "model_module": "@jupyter-widgets/base",
      "model_module_version": "2.0.0",
      "model_name": "LayoutModel",
      "state": {}
     },
     "2fb96929fe1149a2a8931588805b573d": {
      "model_module": "@jupyter-widgets/controls",
      "model_module_version": "2.0.0",
      "model_name": "HTMLModel",
      "state": {
       "layout": "IPY_MODEL_9b277e370aed4bc48a4c7d9d366bc864",
       "style": "IPY_MODEL_9e5c05001b7f477c8b5bd7d5c69d2d44",
       "value": " 0/13 [00:00&lt;?, ?it/s]"
      }
     },
     "322282919d344df4946ab93e58954586": {
      "model_module": "@jupyter-widgets/base",
      "model_module_version": "2.0.0",
      "model_name": "LayoutModel",
      "state": {}
     },
     "327e75aa3bda41c2ae2a0163510d46d7": {
      "model_module": "@jupyter-widgets/base",
      "model_module_version": "2.0.0",
      "model_name": "LayoutModel",
      "state": {
       "visibility": "hidden"
      }
     },
     "33faa4ae796a4b7fa268e4db29069335": {
      "model_module": "@jupyter-widgets/base",
      "model_module_version": "2.0.0",
      "model_name": "LayoutModel",
      "state": {
       "visibility": "hidden"
      }
     },
     "37adc8e15be64804a7b0cf6a232cfbd9": {
      "model_module": "@jupyter-widgets/controls",
      "model_module_version": "2.0.0",
      "model_name": "HTMLStyleModel",
      "state": {
       "description_width": "",
       "font_size": null,
       "text_color": null
      }
     },
     "38dc4ea12c504a25b184e4d637d5e003": {
      "model_module": "@jupyter-widgets/controls",
      "model_module_version": "2.0.0",
      "model_name": "FloatProgressModel",
      "state": {
       "layout": "IPY_MODEL_1fb6f620b9f94c8b98884685ef7b557c",
       "max": 3,
       "style": "IPY_MODEL_8a9020f17501408f8ce25ac97b086b8c",
       "value": 3
      }
     },
     "3e26e5f13c574557a3ef97629e63e91a": {
      "model_module": "@jupyter-widgets/controls",
      "model_module_version": "2.0.0",
      "model_name": "ProgressStyleModel",
      "state": {
       "description_width": ""
      }
     },
     "3e7d010e0d3d47b281aba9dbe8342075": {
      "model_module": "@jupyter-widgets/base",
      "model_module_version": "2.0.0",
      "model_name": "LayoutModel",
      "state": {
       "visibility": "hidden"
      }
     },
     "417ca1320fd649a5afdf04790f7dab88": {
      "model_module": "@jupyter-widgets/controls",
      "model_module_version": "2.0.0",
      "model_name": "HTMLStyleModel",
      "state": {
       "description_width": "",
       "font_size": null,
       "text_color": null
      }
     },
     "4409dc9796704464b4d6f5bd334d1901": {
      "model_module": "@jupyter-widgets/controls",
      "model_module_version": "2.0.0",
      "model_name": "FloatProgressModel",
      "state": {
       "layout": "IPY_MODEL_2ef0f07993844147b624a1a51c42cf88",
       "max": 13,
       "style": "IPY_MODEL_65835211b8844d56aeec82d6ac91897b",
       "value": 13
      }
     },
     "479b2fa7406041c8864fdc6fb5d1c727": {
      "model_module": "@jupyter-widgets/controls",
      "model_module_version": "2.0.0",
      "model_name": "HTMLModel",
      "state": {
       "layout": "IPY_MODEL_b35db1ff12f14251b054fc8b0a91965f",
       "style": "IPY_MODEL_d2ff472fcbad4772bf88a630f86857c2",
       "value": "Board Sizes:   0%"
      }
     },
     "51d3cca1a96943cf818ea15f0aca0be0": {
      "model_module": "@jupyter-widgets/controls",
      "model_module_version": "2.0.0",
      "model_name": "ProgressStyleModel",
      "state": {
       "description_width": ""
      }
     },
     "528891f87b494a6ca07b03d270274b44": {
      "model_module": "@jupyter-widgets/controls",
      "model_module_version": "2.0.0",
      "model_name": "HTMLStyleModel",
      "state": {
       "description_width": "",
       "font_size": null,
       "text_color": null
      }
     },
     "54bdc930a86949a1b67f4bb2ecb45884": {
      "model_module": "@jupyter-widgets/base",
      "model_module_version": "2.0.0",
      "model_name": "LayoutModel",
      "state": {}
     },
     "55242376501b433da9c5eb50f23d13db": {
      "model_module": "@jupyter-widgets/base",
      "model_module_version": "2.0.0",
      "model_name": "LayoutModel",
      "state": {}
     },
     "57346c3d6dfd4ad3a3d264d162edbe4f": {
      "model_module": "@jupyter-widgets/controls",
      "model_module_version": "2.0.0",
      "model_name": "FloatProgressModel",
      "state": {
       "layout": "IPY_MODEL_f1c3d968f3b846c193392db990cfa5ed",
       "max": 13,
       "style": "IPY_MODEL_11b34974f0d54940ba885091927a0b08",
       "value": 13
      }
     },
     "5775dba160964dc994c50e1f4dc4d06e": {
      "model_module": "@jupyter-widgets/controls",
      "model_module_version": "2.0.0",
      "model_name": "HTMLModel",
      "state": {
       "layout": "IPY_MODEL_8fb24c742bb04bdc96377234751f003c",
       "style": "IPY_MODEL_a3567a8fe874401db46c2e533692341f",
       "value": " 0/13 [00:00&lt;?, ?it/s]"
      }
     },
     "583fb0c6a5544950b11a5f92a26ec08d": {
      "model_module": "@jupyter-widgets/controls",
      "model_module_version": "2.0.0",
      "model_name": "HTMLModel",
      "state": {
       "layout": "IPY_MODEL_e9963abcb6a6423186109324718ecfe2",
       "style": "IPY_MODEL_fa0af6f2835e41a3a6b5dd39fd8ec114",
       "value": " 0/3 [00:00&lt;?, ?it/s]"
      }
     },
     "59a66082594a4fdfa1e562a339e3a85b": {
      "model_module": "@jupyter-widgets/controls",
      "model_module_version": "2.0.0",
      "model_name": "HTMLStyleModel",
      "state": {
       "description_width": "",
       "font_size": null,
       "text_color": null
      }
     },
     "59cd773c572d4a23a4bbb023c96d9993": {
      "model_module": "@jupyter-widgets/controls",
      "model_module_version": "2.0.0",
      "model_name": "ProgressStyleModel",
      "state": {
       "description_width": ""
      }
     },
     "5ceba858c9e94fecb151371e65f4a19c": {
      "model_module": "@jupyter-widgets/controls",
      "model_module_version": "2.0.0",
      "model_name": "HTMLModel",
      "state": {
       "layout": "IPY_MODEL_d17de2c967f4475e9740e84a9eb52505",
       "style": "IPY_MODEL_014c33a7ea8344e587e3d2d6ba044a22",
       "value": "Board Sizes:   0%"
      }
     },
     "622453c1cb14496a99c7206dfc173201": {
      "model_module": "@jupyter-widgets/controls",
      "model_module_version": "2.0.0",
      "model_name": "HTMLModel",
      "state": {
       "layout": "IPY_MODEL_6c1068c0ed2f442ea60f410fbb0d8c4b",
       "style": "IPY_MODEL_0c32dd37ad9243f6a23f19d823721426",
       "value": " 0/3 [00:00&lt;?, ?it/s]"
      }
     },
     "628285f847ce484485bb37eefd0665e0": {
      "model_module": "@jupyter-widgets/controls",
      "model_module_version": "2.0.0",
      "model_name": "HTMLStyleModel",
      "state": {
       "description_width": "",
       "font_size": null,
       "text_color": null
      }
     },
     "62f207ee6da246daa2e23e7e7cb233ca": {
      "model_module": "@jupyter-widgets/base",
      "model_module_version": "2.0.0",
      "model_name": "LayoutModel",
      "state": {}
     },
     "65835211b8844d56aeec82d6ac91897b": {
      "model_module": "@jupyter-widgets/controls",
      "model_module_version": "2.0.0",
      "model_name": "ProgressStyleModel",
      "state": {
       "description_width": ""
      }
     },
     "6922e4dfd2a84ba29677c9ae7382d336": {
      "model_module": "@jupyter-widgets/base",
      "model_module_version": "2.0.0",
      "model_name": "LayoutModel",
      "state": {}
     },
     "69285f753724467d9d271b0ae2c86ced": {
      "model_module": "@jupyter-widgets/controls",
      "model_module_version": "2.0.0",
      "model_name": "HTMLModel",
      "state": {
       "layout": "IPY_MODEL_6922e4dfd2a84ba29677c9ae7382d336",
       "style": "IPY_MODEL_59a66082594a4fdfa1e562a339e3a85b",
       "value": " 3/3 [00:00&lt;00:00, 41.83it/s]"
      }
     },
     "69a81c219fb14b0bad8e7155e89400d7": {
      "model_module": "@jupyter-widgets/base",
      "model_module_version": "2.0.0",
      "model_name": "LayoutModel",
      "state": {}
     },
     "6bcb7301574948c6bef31210c6c162ef": {
      "model_module": "@jupyter-widgets/controls",
      "model_module_version": "2.0.0",
      "model_name": "HTMLModel",
      "state": {
       "layout": "IPY_MODEL_866dbd90fce94b10a2fbebc9a675aa39",
       "style": "IPY_MODEL_6feefc221c4e4561aaf42ca314f0c3dd",
       "value": " 0/13 [00:00&lt;?, ?it/s]"
      }
     },
     "6c1068c0ed2f442ea60f410fbb0d8c4b": {
      "model_module": "@jupyter-widgets/base",
      "model_module_version": "2.0.0",
      "model_name": "LayoutModel",
      "state": {}
     },
     "6fc0cbdaad0842fa82694c5771f2f839": {
      "model_module": "@jupyter-widgets/controls",
      "model_module_version": "2.0.0",
      "model_name": "HTMLModel",
      "state": {
       "layout": "IPY_MODEL_a84f882e0c9a4cde83bca2da133ff886",
       "style": "IPY_MODEL_a0780106eedf4f0f963fcd99e672a0ed",
       "value": "Moves Before:   0%"
      }
     },
     "6feefc221c4e4561aaf42ca314f0c3dd": {
      "model_module": "@jupyter-widgets/controls",
      "model_module_version": "2.0.0",
      "model_name": "HTMLStyleModel",
      "state": {
       "description_width": "",
       "font_size": null,
       "text_color": null
      }
     },
     "71f4cac02b5f4c44b645a425bef7447e": {
      "model_module": "@jupyter-widgets/controls",
      "model_module_version": "2.0.0",
      "model_name": "ProgressStyleModel",
      "state": {
       "description_width": ""
      }
     },
     "765a437140914696a329b9768e0e9f24": {
      "model_module": "@jupyter-widgets/controls",
      "model_module_version": "2.0.0",
      "model_name": "ProgressStyleModel",
      "state": {
       "description_width": ""
      }
     },
     "76c54a66327b4a23894ed8ec504f95dc": {
      "model_module": "@jupyter-widgets/base",
      "model_module_version": "2.0.0",
      "model_name": "LayoutModel",
      "state": {}
     },
     "7ac0eea7e5b9430582545b39fda3156f": {
      "model_module": "@jupyter-widgets/base",
      "model_module_version": "2.0.0",
      "model_name": "LayoutModel",
      "state": {}
     },
     "7b28bcdf74d64327a6a2854a31c1c27f": {
      "model_module": "@jupyter-widgets/controls",
      "model_module_version": "2.0.0",
      "model_name": "FloatProgressModel",
      "state": {
       "layout": "IPY_MODEL_e3a182bba5294040b2009776d4a72c2d",
       "max": 3,
       "style": "IPY_MODEL_51d3cca1a96943cf818ea15f0aca0be0",
       "value": 3
      }
     },
     "7beb7b5026734158a411573c8ab055a9": {
      "model_module": "@jupyter-widgets/base",
      "model_module_version": "2.0.0",
      "model_name": "LayoutModel",
      "state": {}
     },
     "7c3ebaa92b844dfaa10b733a62c35095": {
      "model_module": "@jupyter-widgets/controls",
      "model_module_version": "2.0.0",
      "model_name": "HTMLStyleModel",
      "state": {
       "description_width": "",
       "font_size": null,
       "text_color": null
      }
     },
     "7cb405bd96574a068ad97a64c2bccf54": {
      "model_module": "@jupyter-widgets/controls",
      "model_module_version": "2.0.0",
      "model_name": "HTMLStyleModel",
      "state": {
       "description_width": "",
       "font_size": null,
       "text_color": null
      }
     },
     "7e8262e2bf524121a3187a6280873af5": {
      "model_module": "@jupyter-widgets/controls",
      "model_module_version": "2.0.0",
      "model_name": "HTMLStyleModel",
      "state": {
       "description_width": "",
       "font_size": null,
       "text_color": null
      }
     },
     "866dbd90fce94b10a2fbebc9a675aa39": {
      "model_module": "@jupyter-widgets/base",
      "model_module_version": "2.0.0",
      "model_name": "LayoutModel",
      "state": {}
     },
     "8758019aaef3405885c8db1cecd10b4f": {
      "model_module": "@jupyter-widgets/base",
      "model_module_version": "2.0.0",
      "model_name": "LayoutModel",
      "state": {
       "visibility": "hidden"
      }
     },
     "8824c3191a33462cb0106b032a70fabd": {
      "model_module": "@jupyter-widgets/controls",
      "model_module_version": "2.0.0",
      "model_name": "FloatProgressModel",
      "state": {
       "layout": "IPY_MODEL_9f4a9968907a40da8856087dd5edd554",
       "max": 13,
       "style": "IPY_MODEL_3e26e5f13c574557a3ef97629e63e91a",
       "value": 13
      }
     },
     "8a9020f17501408f8ce25ac97b086b8c": {
      "model_module": "@jupyter-widgets/controls",
      "model_module_version": "2.0.0",
      "model_name": "ProgressStyleModel",
      "state": {
       "description_width": ""
      }
     },
     "8b8cfc1962aa437b8060e6f5c4f5ea86": {
      "model_module": "@jupyter-widgets/controls",
      "model_module_version": "2.0.0",
      "model_name": "HTMLStyleModel",
      "state": {
       "description_width": "",
       "font_size": null,
       "text_color": null
      }
     },
     "8de25434aef04ef082bebb24b7f7c836": {
      "model_module": "@jupyter-widgets/controls",
      "model_module_version": "2.0.0",
      "model_name": "HTMLStyleModel",
      "state": {
       "description_width": "",
       "font_size": null,
       "text_color": null
      }
     },
     "8dfcff67e0b1445cb275465ce8e66188": {
      "model_module": "@jupyter-widgets/controls",
      "model_module_version": "2.0.0",
      "model_name": "ProgressStyleModel",
      "state": {
       "description_width": ""
      }
     },
     "8fb24c742bb04bdc96377234751f003c": {
      "model_module": "@jupyter-widgets/base",
      "model_module_version": "2.0.0",
      "model_name": "LayoutModel",
      "state": {}
     },
     "901e87824ad2466a8ea56e386386a478": {
      "model_module": "@jupyter-widgets/controls",
      "model_module_version": "2.0.0",
      "model_name": "HTMLModel",
      "state": {
       "layout": "IPY_MODEL_ed0415abd86045a2a7729ac2e432db9c",
       "style": "IPY_MODEL_e2afd98b95a74e4784a3a8190d8e054c",
       "value": "Moves Before:   0%"
      }
     },
     "91d36bd08085467a9b7588617dbf9d4b": {
      "model_module": "@jupyter-widgets/base",
      "model_module_version": "2.0.0",
      "model_name": "LayoutModel",
      "state": {
       "visibility": "hidden"
      }
     },
     "9203c8143dcc4679b2bc2ee68227c337": {
      "model_module": "@jupyter-widgets/controls",
      "model_module_version": "2.0.0",
      "model_name": "HTMLStyleModel",
      "state": {
       "description_width": "",
       "font_size": null,
       "text_color": null
      }
     },
     "92b94e52bcff47e785b72de3432d90fa": {
      "model_module": "@jupyter-widgets/controls",
      "model_module_version": "2.0.0",
      "model_name": "HBoxModel",
      "state": {
       "children": [
        "IPY_MODEL_ea1460a152144be786d781faf43d4c62",
        "IPY_MODEL_9be60e9b72844b7d8190c9825c1b033b",
        "IPY_MODEL_69285f753724467d9d271b0ae2c86ced"
       ],
       "layout": "IPY_MODEL_322282919d344df4946ab93e58954586"
      }
     },
     "92f9596ccaa04798b48f7828629febab": {
      "model_module": "@jupyter-widgets/base",
      "model_module_version": "2.0.0",
      "model_name": "LayoutModel",
      "state": {
       "visibility": "hidden"
      }
     },
     "93976180cdf844a4bbbfa05e2734b4b3": {
      "model_module": "@jupyter-widgets/base",
      "model_module_version": "2.0.0",
      "model_name": "LayoutModel",
      "state": {
       "visibility": "hidden"
      }
     },
     "949bb823c9bd40499892b3e6bf01ffe3": {
      "model_module": "@jupyter-widgets/base",
      "model_module_version": "2.0.0",
      "model_name": "LayoutModel",
      "state": {}
     },
     "970588c25079407490d55034f234e3e5": {
      "model_module": "@jupyter-widgets/controls",
      "model_module_version": "2.0.0",
      "model_name": "FloatProgressModel",
      "state": {
       "layout": "IPY_MODEL_54bdc930a86949a1b67f4bb2ecb45884",
       "max": 13,
       "style": "IPY_MODEL_71f4cac02b5f4c44b645a425bef7447e",
       "value": 13
      }
     },
     "9b277e370aed4bc48a4c7d9d366bc864": {
      "model_module": "@jupyter-widgets/base",
      "model_module_version": "2.0.0",
      "model_name": "LayoutModel",
      "state": {}
     },
     "9be60e9b72844b7d8190c9825c1b033b": {
      "model_module": "@jupyter-widgets/controls",
      "model_module_version": "2.0.0",
      "model_name": "FloatProgressModel",
      "state": {
       "bar_style": "success",
       "layout": "IPY_MODEL_55242376501b433da9c5eb50f23d13db",
       "max": 3,
       "style": "IPY_MODEL_765a437140914696a329b9768e0e9f24",
       "value": 3
      }
     },
     "9e5c05001b7f477c8b5bd7d5c69d2d44": {
      "model_module": "@jupyter-widgets/controls",
      "model_module_version": "2.0.0",
      "model_name": "HTMLStyleModel",
      "state": {
       "description_width": "",
       "font_size": null,
       "text_color": null
      }
     },
     "9ef944eceada4fc88dd23a4b9d4c6d76": {
      "model_module": "@jupyter-widgets/controls",
      "model_module_version": "2.0.0",
      "model_name": "ProgressStyleModel",
      "state": {
       "description_width": ""
      }
     },
     "9f4a9968907a40da8856087dd5edd554": {
      "model_module": "@jupyter-widgets/base",
      "model_module_version": "2.0.0",
      "model_name": "LayoutModel",
      "state": {}
     },
     "a0050e81866e44a79fda6060c3947e8b": {
      "model_module": "@jupyter-widgets/controls",
      "model_module_version": "2.0.0",
      "model_name": "HTMLModel",
      "state": {
       "layout": "IPY_MODEL_b5b41fa791154025852ce6aa9c633dc0",
       "style": "IPY_MODEL_8b8cfc1962aa437b8060e6f5c4f5ea86",
       "value": " 0/13 [00:00&lt;?, ?it/s]"
      }
     },
     "a0780106eedf4f0f963fcd99e672a0ed": {
      "model_module": "@jupyter-widgets/controls",
      "model_module_version": "2.0.0",
      "model_name": "HTMLStyleModel",
      "state": {
       "description_width": "",
       "font_size": null,
       "text_color": null
      }
     },
     "a3567a8fe874401db46c2e533692341f": {
      "model_module": "@jupyter-widgets/controls",
      "model_module_version": "2.0.0",
      "model_name": "HTMLStyleModel",
      "state": {
       "description_width": "",
       "font_size": null,
       "text_color": null
      }
     },
     "a84f882e0c9a4cde83bca2da133ff886": {
      "model_module": "@jupyter-widgets/base",
      "model_module_version": "2.0.0",
      "model_name": "LayoutModel",
      "state": {}
     },
     "a97f34d2204f415a835a26531beda0b8": {
      "model_module": "@jupyter-widgets/controls",
      "model_module_version": "2.0.0",
      "model_name": "HTMLStyleModel",
      "state": {
       "description_width": "",
       "font_size": null,
       "text_color": null
      }
     },
     "abcac6d67d1d44328158486a521576b1": {
      "model_module": "@jupyter-widgets/controls",
      "model_module_version": "2.0.0",
      "model_name": "HTMLModel",
      "state": {
       "layout": "IPY_MODEL_7ac0eea7e5b9430582545b39fda3156f",
       "style": "IPY_MODEL_417ca1320fd649a5afdf04790f7dab88",
       "value": "Board Sizes:   0%"
      }
     },
     "ad3d337ee83247b0a3c1219116ec157f": {
      "model_module": "@jupyter-widgets/controls",
      "model_module_version": "2.0.0",
      "model_name": "ProgressStyleModel",
      "state": {
       "description_width": ""
      }
     },
     "ae110fda7dde41cda0b654a5163cc7c1": {
      "model_module": "@jupyter-widgets/controls",
      "model_module_version": "2.0.0",
      "model_name": "HTMLModel",
      "state": {
       "layout": "IPY_MODEL_0341146a3e8e4a1080eca921a04a9361",
       "style": "IPY_MODEL_a97f34d2204f415a835a26531beda0b8",
       "value": "Board Sizes:   0%"
      }
     },
     "b35db1ff12f14251b054fc8b0a91965f": {
      "model_module": "@jupyter-widgets/base",
      "model_module_version": "2.0.0",
      "model_name": "LayoutModel",
      "state": {}
     },
     "b3caa1b3e8fd4310aaf4b379f6052a79": {
      "model_module": "@jupyter-widgets/base",
      "model_module_version": "2.0.0",
      "model_name": "LayoutModel",
      "state": {}
     },
     "b5b41fa791154025852ce6aa9c633dc0": {
      "model_module": "@jupyter-widgets/base",
      "model_module_version": "2.0.0",
      "model_name": "LayoutModel",
      "state": {}
     },
     "b7714207436a4a508a2c3f3aa5bc38bc": {
      "model_module": "@jupyter-widgets/base",
      "model_module_version": "2.0.0",
      "model_name": "LayoutModel",
      "state": {}
     },
     "b782db7a5363441d9796135d71d63605": {
      "model_module": "@jupyter-widgets/controls",
      "model_module_version": "2.0.0",
      "model_name": "HTMLModel",
      "state": {
       "layout": "IPY_MODEL_1de25f8e95f548b99333f13bb86dfe2e",
       "style": "IPY_MODEL_628285f847ce484485bb37eefd0665e0",
       "value": "Board Sizes:   0%"
      }
     },
     "bc03502cf7a74eecab551e95fa9ed0b3": {
      "model_module": "@jupyter-widgets/base",
      "model_module_version": "2.0.0",
      "model_name": "LayoutModel",
      "state": {
       "visibility": "hidden"
      }
     },
     "c2aa38b6da664a07a86b42029128a8ad": {
      "model_module": "@jupyter-widgets/controls",
      "model_module_version": "2.0.0",
      "model_name": "ProgressStyleModel",
      "state": {
       "description_width": ""
      }
     },
     "c40e09e6431341f7854e6ab3c0fae481": {
      "model_module": "@jupyter-widgets/controls",
      "model_module_version": "2.0.0",
      "model_name": "ProgressStyleModel",
      "state": {
       "description_width": ""
      }
     },
     "c5e57a5cb7df4713971c69108620d5fa": {
      "model_module": "@jupyter-widgets/controls",
      "model_module_version": "2.0.0",
      "model_name": "FloatProgressModel",
      "state": {
       "layout": "IPY_MODEL_7beb7b5026734158a411573c8ab055a9",
       "max": 3,
       "style": "IPY_MODEL_c40e09e6431341f7854e6ab3c0fae481",
       "value": 3
      }
     },
     "cbf3301442e148698373823c2e9ac23f": {
      "model_module": "@jupyter-widgets/controls",
      "model_module_version": "2.0.0",
      "model_name": "FloatProgressModel",
      "state": {
       "layout": "IPY_MODEL_cfd51449e7604f1a8b54fe7e195c7966",
       "max": 13,
       "style": "IPY_MODEL_ad3d337ee83247b0a3c1219116ec157f",
       "value": 13
      }
     },
     "cd81ed4bc14449aeaf5ba268f8417a74": {
      "model_module": "@jupyter-widgets/controls",
      "model_module_version": "2.0.0",
      "model_name": "FloatProgressModel",
      "state": {
       "layout": "IPY_MODEL_f7c9ad67a9594a7ca684bdca0300a58b",
       "max": 13,
       "style": "IPY_MODEL_8dfcff67e0b1445cb275465ce8e66188",
       "value": 13
      }
     },
     "cfd51449e7604f1a8b54fe7e195c7966": {
      "model_module": "@jupyter-widgets/base",
      "model_module_version": "2.0.0",
      "model_name": "LayoutModel",
      "state": {}
     },
     "d17de2c967f4475e9740e84a9eb52505": {
      "model_module": "@jupyter-widgets/base",
      "model_module_version": "2.0.0",
      "model_name": "LayoutModel",
      "state": {}
     },
     "d2ac5662da3c4407b618b24893c1f755": {
      "model_module": "@jupyter-widgets/base",
      "model_module_version": "2.0.0",
      "model_name": "LayoutModel",
      "state": {
       "visibility": "hidden"
      }
     },
     "d2ff472fcbad4772bf88a630f86857c2": {
      "model_module": "@jupyter-widgets/controls",
      "model_module_version": "2.0.0",
      "model_name": "HTMLStyleModel",
      "state": {
       "description_width": "",
       "font_size": null,
       "text_color": null
      }
     },
     "d3c5aef0303040569ee01fc548648624": {
      "model_module": "@jupyter-widgets/controls",
      "model_module_version": "2.0.0",
      "model_name": "HTMLModel",
      "state": {
       "layout": "IPY_MODEL_24fd641ef82b4e90a32a01d328b7d79a",
       "style": "IPY_MODEL_7c3ebaa92b844dfaa10b733a62c35095",
       "value": "Board Sizes:   0%"
      }
     },
     "d8c98d49373941a686cf72ba69ed274f": {
      "model_module": "@jupyter-widgets/controls",
      "model_module_version": "2.0.0",
      "model_name": "HTMLStyleModel",
      "state": {
       "description_width": "",
       "font_size": null,
       "text_color": null
      }
     },
     "dd67a79eeddf463eb13d03dc07276e84": {
      "model_module": "@jupyter-widgets/controls",
      "model_module_version": "2.0.0",
      "model_name": "HTMLModel",
      "state": {
       "layout": "IPY_MODEL_2c9435d201e0478a9dc24d396b5867ea",
       "style": "IPY_MODEL_d8c98d49373941a686cf72ba69ed274f",
       "value": " 0/13 [00:00&lt;?, ?it/s]"
      }
     },
     "e2afd98b95a74e4784a3a8190d8e054c": {
      "model_module": "@jupyter-widgets/controls",
      "model_module_version": "2.0.0",
      "model_name": "HTMLStyleModel",
      "state": {
       "description_width": "",
       "font_size": null,
       "text_color": null
      }
     },
     "e3a182bba5294040b2009776d4a72c2d": {
      "model_module": "@jupyter-widgets/base",
      "model_module_version": "2.0.0",
      "model_name": "LayoutModel",
      "state": {}
     },
     "e406452ad3044046adb7cdd1bb990602": {
      "model_module": "@jupyter-widgets/controls",
      "model_module_version": "2.0.0",
      "model_name": "FloatProgressModel",
      "state": {
       "layout": "IPY_MODEL_f4bb0c42352547b4875e267f5c224068",
       "max": 13,
       "style": "IPY_MODEL_c2aa38b6da664a07a86b42029128a8ad",
       "value": 13
      }
     },
     "e9963abcb6a6423186109324718ecfe2": {
      "model_module": "@jupyter-widgets/base",
      "model_module_version": "2.0.0",
      "model_name": "LayoutModel",
      "state": {}
     },
     "ea1460a152144be786d781faf43d4c62": {
      "model_module": "@jupyter-widgets/controls",
      "model_module_version": "2.0.0",
      "model_name": "HTMLModel",
      "state": {
       "layout": "IPY_MODEL_132b2bc03a6f4d2cb179f332ffb05b0d",
       "style": "IPY_MODEL_0d315df1d6104fcd818f407dfb269191",
       "value": "Samples: 100%"
      }
     },
     "ea77d1d712794de8a422edf1d4610eb6": {
      "model_module": "@jupyter-widgets/controls",
      "model_module_version": "2.0.0",
      "model_name": "FloatProgressModel",
      "state": {
       "layout": "IPY_MODEL_62f207ee6da246daa2e23e7e7cb233ca",
       "max": 13,
       "style": "IPY_MODEL_59cd773c572d4a23a4bbb023c96d9993",
       "value": 13
      }
     },
     "ed0415abd86045a2a7729ac2e432db9c": {
      "model_module": "@jupyter-widgets/base",
      "model_module_version": "2.0.0",
      "model_name": "LayoutModel",
      "state": {}
     },
     "edcbc8a57814498eafd80fd90cd04af6": {
      "model_module": "@jupyter-widgets/base",
      "model_module_version": "2.0.0",
      "model_name": "LayoutModel",
      "state": {}
     },
     "ef0f69bb16994380b55b42b6e2e84f4e": {
      "model_module": "@jupyter-widgets/controls",
      "model_module_version": "2.0.0",
      "model_name": "HTMLModel",
      "state": {
       "layout": "IPY_MODEL_b3caa1b3e8fd4310aaf4b379f6052a79",
       "style": "IPY_MODEL_8de25434aef04ef082bebb24b7f7c836",
       "value": " 0/13 [00:00&lt;?, ?it/s]"
      }
     },
     "f1c3d968f3b846c193392db990cfa5ed": {
      "model_module": "@jupyter-widgets/base",
      "model_module_version": "2.0.0",
      "model_name": "LayoutModel",
      "state": {}
     },
     "f4bb0c42352547b4875e267f5c224068": {
      "model_module": "@jupyter-widgets/base",
      "model_module_version": "2.0.0",
      "model_name": "LayoutModel",
      "state": {}
     },
     "f6f237ab9e164b1bb1263b584e1f0f9b": {
      "model_module": "@jupyter-widgets/base",
      "model_module_version": "2.0.0",
      "model_name": "LayoutModel",
      "state": {}
     },
     "f7c9ad67a9594a7ca684bdca0300a58b": {
      "model_module": "@jupyter-widgets/base",
      "model_module_version": "2.0.0",
      "model_name": "LayoutModel",
      "state": {}
     },
     "f940c4549a7c4e53816d4b14e644d462": {
      "model_module": "@jupyter-widgets/controls",
      "model_module_version": "2.0.0",
      "model_name": "HTMLModel",
      "state": {
       "layout": "IPY_MODEL_20207b759722483b926486f6f0d0d7c1",
       "style": "IPY_MODEL_12099b27fbd745919e062114aaee202b",
       "value": " 0/13 [00:00&lt;?, ?it/s]"
      }
     },
     "fa0af6f2835e41a3a6b5dd39fd8ec114": {
      "model_module": "@jupyter-widgets/controls",
      "model_module_version": "2.0.0",
      "model_name": "HTMLStyleModel",
      "state": {
       "description_width": "",
       "font_size": null,
       "text_color": null
      }
     },
     "fda6f7145af04092bb22386ed8af1e7f": {
      "model_module": "@jupyter-widgets/controls",
      "model_module_version": "2.0.0",
      "model_name": "HTMLStyleModel",
      "state": {
       "description_width": "",
       "font_size": null,
       "text_color": null
      }
     }
    },
    "version_major": 2,
    "version_minor": 0
   }
  }
 },
 "nbformat": 4,
 "nbformat_minor": 5
}
