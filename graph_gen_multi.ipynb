{
 "cells": [
  {
   "cell_type": "code",
   "execution_count": 1,
   "id": "1fea88b2-e85f-4ae4-8d7f-abe2978b1bfa",
   "metadata": {
    "jupyter": {
     "source_hidden": true
    }
   },
   "outputs": [],
   "source": [
    "import os\n",
    "import sys\n",
    "from pathlib import Path\n",
    "from GraphTsetlinMachine.graphs import Graphs\n",
    "import numpy as np\n",
    "from tqdm.auto import tqdm \n",
    "from src.datahandler import DataHandler\n",
    "from sklearn.model_selection import train_test_split\n",
    "import pickle"
   ]
  },
  {
   "cell_type": "code",
   "execution_count": 2,
   "id": "d35c3a6f-25d6-4c30-bfff-462e11a3899b",
   "metadata": {
    "jupyter": {
     "source_hidden": true
    }
   },
   "outputs": [],
   "source": [
    "os.makedirs(\"data\", exist_ok=True)\n",
    "os.makedirs(\"models\", exist_ok=True)\n",
    "os.makedirs(\"graphs\", exist_ok=True)"
   ]
  },
  {
   "cell_type": "code",
   "execution_count": 3,
   "id": "0f821c8c-7cf3-40ef-a118-cdbb4c00faa9",
   "metadata": {
    "jupyter": {
     "source_hidden": true
    }
   },
   "outputs": [],
   "source": [
    "paths = {\n",
    "    \"data\": Path(\"data\"),\n",
    "    \"models\": Path(\"models\"),\n",
    "    \"graphs\": Path(\"graphs\"),\n",
    "}"
   ]
  },
  {
   "cell_type": "code",
   "execution_count": 4,
   "id": "209e65f3-ee36-4006-9b4d-9effa8af6c02",
   "metadata": {},
   "outputs": [],
   "source": [
    "hypervector_bits = 2\n",
    "hypervector_size = 64\n",
    "\n",
    "samples = [100000]\n",
    "board_sizes = [3,4,5,6,7,8,9,10,11,12,13,14,15]\n",
    "moves_before = [0, 2, 5]"
   ]
  },
  {
   "cell_type": "code",
   "execution_count": 5,
   "id": "710b50f8-009c-425b-8401-29f3af01c264",
   "metadata": {
    "jupyter": {
     "source_hidden": true
    }
   },
   "outputs": [],
   "source": [
    "def getConnections(size, index):\n",
    "    x = index % size\n",
    "    y = index // size\n",
    "    max_index = size*size-1\n",
    "    right = max_index + 1\n",
    "    left = max_index + 2\n",
    "    down = max_index + 3\n",
    "    up = max_index + 4\n",
    "    \n",
    "    connections = []\n",
    "    directions = []\n",
    "\n",
    "    # Upper connections\n",
    "    if y > 0:\n",
    "        connections.append(x + (y - 1) * size)  # Directly above\n",
    "        directions.append(\"dir_up\")\n",
    "        if y % 2 == 0 and x > 0:  # Even row: diagonal left\n",
    "            connections.append(x - 1 + (y - 1) * size)\n",
    "            directions.append(\"up_left\")\n",
    "        elif y % 2 == 1 and x < size - 1:  # Odd row: diagonal right\n",
    "            connections.append(x + 1 + (y - 1) * size)\n",
    "            directions.append(\"up_right\")\n",
    "        else:\n",
    "            connections.append(up)\n",
    "            directions.append(\"up\")\n",
    "    else :\n",
    "        connections.append(up)\n",
    "        directions.append(\"up\")\n",
    "        \n",
    "    \n",
    "\n",
    "    # Left and right connections\n",
    "    if x > 0:\n",
    "        connections.append(x - 1 + y * size)  # Left\n",
    "        directions.append(\"dir_left\")\n",
    "    else:\n",
    "        connections.append(left)\n",
    "        directions.append(\"left\")\n",
    "    if x < size - 1:\n",
    "        connections.append(x + 1 + y * size)  # Right\n",
    "        directions.append(\"dir_right\")\n",
    "    else:\n",
    "        connections.append(right)\n",
    "        directions.append(\"right\")\n",
    "\n",
    "    # Lower connections\n",
    "    if y < size - 1:\n",
    "        connections.append(x + (y + 1) * size)  # Directly below\n",
    "        directions.append(\"dir_down\")\n",
    "        if y % 2 == 0 and x > 0:  # Even row: diagonal left\n",
    "            connections.append(x - 1 + (y + 1) * size)\n",
    "            directions.append(\"down_left\")\n",
    "        elif y % 2 == 1 and x < size - 1:  # Odd row: diagonal right\n",
    "            connections.append(x + 1 + (y + 1) * size)\n",
    "            directions.append(\"down_right\")\n",
    "        else:\n",
    "            connections.append(down)\n",
    "            directions.append(\"down\")\n",
    "    else:\n",
    "        connections.append(down)\n",
    "        directions.append(\"down\")\n",
    "\n",
    "    return connections, directions"
   ]
  },
  {
   "cell_type": "code",
   "execution_count": null,
   "id": "18441856-17e1-4b76-8b3f-08faf308295b",
   "metadata": {},
   "outputs": [
    {
     "data": {
      "application/vnd.jupyter.widget-view+json": {
       "model_id": "3269acb045804c4d9ca537e3d2e3ee18",
       "version_major": 2,
       "version_minor": 0
      },
      "text/plain": [
       "Samples:   0%|          | 0/1 [00:00<?, ?it/s]"
      ]
     },
     "metadata": {},
     "output_type": "display_data"
    },
    {
     "data": {
      "application/vnd.jupyter.widget-view+json": {
       "model_id": "f4d7aa6bfd3e4d86965b85063f58fc89",
       "version_major": 2,
       "version_minor": 0
      },
      "text/plain": [
       "Moves Before:   0%|          | 0/3 [00:00<?, ?it/s]"
      ]
     },
     "metadata": {},
     "output_type": "display_data"
    },
    {
     "data": {
      "application/vnd.jupyter.widget-view+json": {
       "model_id": "0010587733194461a0223b1a04af69fb",
       "version_major": 2,
       "version_minor": 0
      },
      "text/plain": [
       "Board Sizes:   0%|          | 0/13 [00:00<?, ?it/s]"
      ]
     },
     "metadata": {},
     "output_type": "display_data"
    },
    {
     "data": {
      "application/vnd.jupyter.widget-view+json": {
       "model_id": "4a99a172641a4aba859bacb51df9dcce",
       "version_major": 2,
       "version_minor": 0
      },
      "text/plain": [
       "Train nodes:   0%|          | 0/80000 [00:00<?, ?it/s]"
      ]
     },
     "metadata": {},
     "output_type": "display_data"
    },
    {
     "data": {
      "application/vnd.jupyter.widget-view+json": {
       "model_id": "83e7251e40f246b5bfd21af440b8351d",
       "version_major": 2,
       "version_minor": 0
      },
      "text/plain": [
       "Train edges & props:   0%|          | 0/80000 [00:00<?, ?it/s]"
      ]
     },
     "metadata": {},
     "output_type": "display_data"
    },
    {
     "data": {
      "application/vnd.jupyter.widget-view+json": {
       "model_id": "33445d5b4d9b4faeb31c128671f7271e",
       "version_major": 2,
       "version_minor": 0
      },
      "text/plain": [
       "Test nodes:   0%|          | 0/20000 [00:00<?, ?it/s]"
      ]
     },
     "metadata": {},
     "output_type": "display_data"
    },
    {
     "data": {
      "application/vnd.jupyter.widget-view+json": {
       "model_id": "d07bfae4f47d44ddade5b2afa16a90ce",
       "version_major": 2,
       "version_minor": 0
      },
      "text/plain": [
       "Test edges & props:   0%|          | 0/20000 [00:00<?, ?it/s]"
      ]
     },
     "metadata": {},
     "output_type": "display_data"
    },
    {
     "data": {
      "application/vnd.jupyter.widget-view+json": {
       "model_id": "a1c08003961842a087599affd05ddd9a",
       "version_major": 2,
       "version_minor": 0
      },
      "text/plain": [
       "Train nodes:   0%|          | 0/80000 [00:00<?, ?it/s]"
      ]
     },
     "metadata": {},
     "output_type": "display_data"
    },
    {
     "data": {
      "application/vnd.jupyter.widget-view+json": {
       "model_id": "794f50f59b7d423cadbad3394f539d5f",
       "version_major": 2,
       "version_minor": 0
      },
      "text/plain": [
       "Train edges & props:   0%|          | 0/80000 [00:00<?, ?it/s]"
      ]
     },
     "metadata": {},
     "output_type": "display_data"
    },
    {
     "data": {
      "application/vnd.jupyter.widget-view+json": {
       "model_id": "2fdb179564d24718844c9e98fa89cd18",
       "version_major": 2,
       "version_minor": 0
      },
      "text/plain": [
       "Test nodes:   0%|          | 0/20000 [00:00<?, ?it/s]"
      ]
     },
     "metadata": {},
     "output_type": "display_data"
    },
    {
     "data": {
      "application/vnd.jupyter.widget-view+json": {
       "model_id": "f928f3c436de47bfb52600cbc8a989f7",
       "version_major": 2,
       "version_minor": 0
      },
      "text/plain": [
       "Test edges & props:   0%|          | 0/20000 [00:00<?, ?it/s]"
      ]
     },
     "metadata": {},
     "output_type": "display_data"
    },
    {
     "data": {
      "application/vnd.jupyter.widget-view+json": {
       "model_id": "0966e4a096534452a20a1bb824b4a068",
       "version_major": 2,
       "version_minor": 0
      },
      "text/plain": [
       "Train nodes:   0%|          | 0/80000 [00:00<?, ?it/s]"
      ]
     },
     "metadata": {},
     "output_type": "display_data"
    },
    {
     "data": {
      "application/vnd.jupyter.widget-view+json": {
       "model_id": "fd534c7666a44a318b96f0de9d972c18",
       "version_major": 2,
       "version_minor": 0
      },
      "text/plain": [
       "Train edges & props:   0%|          | 0/80000 [00:00<?, ?it/s]"
      ]
     },
     "metadata": {},
     "output_type": "display_data"
    },
    {
     "data": {
      "application/vnd.jupyter.widget-view+json": {
       "model_id": "83f5ee7f4a1748439b42ac6a1e8782c3",
       "version_major": 2,
       "version_minor": 0
      },
      "text/plain": [
       "Test nodes:   0%|          | 0/20000 [00:00<?, ?it/s]"
      ]
     },
     "metadata": {},
     "output_type": "display_data"
    },
    {
     "data": {
      "application/vnd.jupyter.widget-view+json": {
       "model_id": "f317bfa9e54c4c3e87b475c22b403d67",
       "version_major": 2,
       "version_minor": 0
      },
      "text/plain": [
       "Test edges & props:   0%|          | 0/20000 [00:00<?, ?it/s]"
      ]
     },
     "metadata": {},
     "output_type": "display_data"
    },
    {
     "data": {
      "application/vnd.jupyter.widget-view+json": {
       "model_id": "708de97038ee471583d5a2680dc65f7c",
       "version_major": 2,
       "version_minor": 0
      },
      "text/plain": [
       "Train nodes:   0%|          | 0/80000 [00:00<?, ?it/s]"
      ]
     },
     "metadata": {},
     "output_type": "display_data"
    },
    {
     "data": {
      "application/vnd.jupyter.widget-view+json": {
       "model_id": "9c6063c013d84b5d931fcaeeda4d10ff",
       "version_major": 2,
       "version_minor": 0
      },
      "text/plain": [
       "Train edges & props:   0%|          | 0/80000 [00:00<?, ?it/s]"
      ]
     },
     "metadata": {},
     "output_type": "display_data"
    },
    {
     "data": {
      "application/vnd.jupyter.widget-view+json": {
       "model_id": "69828e7138d14f23bdecb0661fa77670",
       "version_major": 2,
       "version_minor": 0
      },
      "text/plain": [
       "Test nodes:   0%|          | 0/20000 [00:00<?, ?it/s]"
      ]
     },
     "metadata": {},
     "output_type": "display_data"
    },
    {
     "data": {
      "application/vnd.jupyter.widget-view+json": {
       "model_id": "ba3edb67ebce49d19251af0db4cb1c70",
       "version_major": 2,
       "version_minor": 0
      },
      "text/plain": [
       "Test edges & props:   0%|          | 0/20000 [00:00<?, ?it/s]"
      ]
     },
     "metadata": {},
     "output_type": "display_data"
    },
    {
     "data": {
      "application/vnd.jupyter.widget-view+json": {
       "model_id": "6778ad981d77450abd8dd03b585c6610",
       "version_major": 2,
       "version_minor": 0
      },
      "text/plain": [
       "Train nodes:   0%|          | 0/80000 [00:00<?, ?it/s]"
      ]
     },
     "metadata": {},
     "output_type": "display_data"
    },
    {
     "data": {
      "application/vnd.jupyter.widget-view+json": {
       "model_id": "bacb29f464c64662aa9ed23ea56304fb",
       "version_major": 2,
       "version_minor": 0
      },
      "text/plain": [
       "Train edges & props:   0%|          | 0/80000 [00:00<?, ?it/s]"
      ]
     },
     "metadata": {},
     "output_type": "display_data"
    },
    {
     "data": {
      "application/vnd.jupyter.widget-view+json": {
       "model_id": "a8c771a57d714b2c90a9007b1e7c2d34",
       "version_major": 2,
       "version_minor": 0
      },
      "text/plain": [
       "Test nodes:   0%|          | 0/20000 [00:00<?, ?it/s]"
      ]
     },
     "metadata": {},
     "output_type": "display_data"
    },
    {
     "data": {
      "application/vnd.jupyter.widget-view+json": {
       "model_id": "31267afab0834a06bcc721defdc7b8f4",
       "version_major": 2,
       "version_minor": 0
      },
      "text/plain": [
       "Test edges & props:   0%|          | 0/20000 [00:00<?, ?it/s]"
      ]
     },
     "metadata": {},
     "output_type": "display_data"
    },
    {
     "data": {
      "application/vnd.jupyter.widget-view+json": {
       "model_id": "a4f666bf3d8c408ebb2012eeb50b352a",
       "version_major": 2,
       "version_minor": 0
      },
      "text/plain": [
       "Train nodes:   0%|          | 0/80000 [00:00<?, ?it/s]"
      ]
     },
     "metadata": {},
     "output_type": "display_data"
    },
    {
     "data": {
      "application/vnd.jupyter.widget-view+json": {
       "model_id": "872d5a17d7c34d74b4644b3a94f56ba0",
       "version_major": 2,
       "version_minor": 0
      },
      "text/plain": [
       "Train edges & props:   0%|          | 0/80000 [00:00<?, ?it/s]"
      ]
     },
     "metadata": {},
     "output_type": "display_data"
    },
    {
     "data": {
      "application/vnd.jupyter.widget-view+json": {
       "model_id": "ec63a6dc441d494eb8b7fcae5f1da23a",
       "version_major": 2,
       "version_minor": 0
      },
      "text/plain": [
       "Test nodes:   0%|          | 0/20000 [00:00<?, ?it/s]"
      ]
     },
     "metadata": {},
     "output_type": "display_data"
    },
    {
     "data": {
      "application/vnd.jupyter.widget-view+json": {
       "model_id": "7f297c5b7b6c431d802dd87327f05cad",
       "version_major": 2,
       "version_minor": 0
      },
      "text/plain": [
       "Test edges & props:   0%|          | 0/20000 [00:00<?, ?it/s]"
      ]
     },
     "metadata": {},
     "output_type": "display_data"
    },
    {
     "data": {
      "application/vnd.jupyter.widget-view+json": {
       "model_id": "e9492a40ed154d2492eb0cdbe7706dbd",
       "version_major": 2,
       "version_minor": 0
      },
      "text/plain": [
       "Train nodes:   0%|          | 0/80000 [00:00<?, ?it/s]"
      ]
     },
     "metadata": {},
     "output_type": "display_data"
    },
    {
     "data": {
      "application/vnd.jupyter.widget-view+json": {
       "model_id": "3fcc1d84077e41cc8cecae529c45a503",
       "version_major": 2,
       "version_minor": 0
      },
      "text/plain": [
       "Train edges & props:   0%|          | 0/80000 [00:00<?, ?it/s]"
      ]
     },
     "metadata": {},
     "output_type": "display_data"
    }
   ],
   "source": [
    "for n_samples in tqdm(samples, desc=\"Samples\"):\n",
    "    for mbf in tqdm(moves_before, desc=\"Moves Before\", leave=False):\n",
    "        for board_size in tqdm(board_sizes, desc=\"Board Sizes\", leave=False):\n",
    "            dataset = f\"{board_size}x{board_size}_{mbf}\"\n",
    "            dh = DataHandler(paths=paths, files={'data': dataset}, dataloader='np.genfromtxt', n_samples=n_samples)\n",
    "            data = dh.data\n",
    "            data.shape\n",
    "            getConnections(board_size, 28)\n",
    "            data = data[:n_samples]\n",
    "            X_data = data[:, :-1]\n",
    "            Y_data = data[:, -1]\n",
    "            X_data[0].shape\n",
    "            Y_data \n",
    "            \n",
    "            X_train, X_test, Y_train, Y_test = train_test_split(X_data, Y_data, test_size=0.2)\n",
    "            number_of_nodes = board_size*board_size\n",
    "            symbol_names = ['RED', 'BLUE','UP', 'DOWN', 'RIGHT','LEFT']\n",
    "            \n",
    "            for i in range(board_size):\n",
    "                symbol_names.append(f'ROW_{i}')\n",
    "                symbol_names.append(f'COL_{i}')\n",
    "            max_index = number_of_nodes-1\n",
    "            right_index = max_index + 1\n",
    "            left_index = max_index + 2\n",
    "            down_index = max_index + 3\n",
    "            up_index = max_index + 4\n",
    "\n",
    "            graphs_train = Graphs(X_train.shape[0],symbols=symbol_names, hypervector_size=hypervector_size, hypervector_bits=hypervector_bits, double_hashing = False)\n",
    "\n",
    "            for graph_id in range(X_train.shape[0]):\n",
    "                graphs_train.set_number_of_graph_nodes(graph_id, number_of_nodes+4)\n",
    "            \n",
    "            graphs_train.prepare_node_configuration()\n",
    "            # add up, down, left, right nodes\n",
    "            \n",
    "            # Add nodes to each graph\n",
    "            for graph_id in tqdm(range(X_train.shape[0]), desc=\"Train nodes\", leave=True):\n",
    "                for node_id in range(number_of_nodes):\n",
    "                    nr_neighbours = len(getConnections(board_size, node_id)[0])\n",
    "                    graphs_train.add_graph_node(graph_id, node_id, nr_neighbours) \n",
    "                graphs_train.add_graph_node(graph_id, right_index, board_size)\n",
    "                graphs_train.add_graph_node(graph_id, left_index, board_size)\n",
    "                graphs_train.add_graph_node(graph_id, down_index,board_size)\n",
    "                graphs_train.add_graph_node(graph_id, up_index, board_size)\n",
    "            \n",
    "            graphs_train.prepare_edge_configuration()\n",
    "\n",
    "            for graph_id in tqdm(range(X_train.shape[0]), desc=\"Train edges & props\", leave=True):\n",
    "                for node_id in range(number_of_nodes+4):\n",
    "                  \n",
    "                    neighbors, directions = getConnections(board_size,node_id) \n",
    "                    edge_type = 0\n",
    "                    if node_id<number_of_nodes:\n",
    "                        \n",
    "                        for neighbor_id,dir in zip(neighbors,directions):\n",
    "                            graphs_train.add_graph_node_edge(graph_id, node_id, neighbor_id,dir)\n",
    "            \n",
    "                        node_value = X_train[graph_id, node_id]\n",
    "                        \n",
    "                        if node_value == 1:\n",
    "                            graphs_train.add_graph_node_property(graph_id, node_id, 'RED')\n",
    "                            \n",
    "                        elif node_value == -1:\n",
    "                            graphs_train.add_graph_node_property(graph_id, node_id, 'BLUE')\n",
    "            \n",
    "                            \n",
    "                        row = node_id // board_size\n",
    "                        col = node_id % board_size\n",
    "                        \n",
    "                        graphs_train.add_graph_node_property(graph_id, node_id, f'ROW_{row}')\n",
    "                        graphs_train.add_graph_node_property(graph_id, node_id, f'COL_{col}')\n",
    "                    if node_id == right_index:\n",
    "                        neighbors = [i for i in range(board_size-1,board_size*board_size,board_size)]\n",
    "                        edge_type = 0\n",
    "                        for neighbor_id in neighbors:\n",
    "                            graphs_train.add_graph_node_edge(graph_id, node_id, neighbor_id,edge_type)\n",
    "                        graphs_train.add_graph_node_property(graph_id, node_id, 'RIGHT')\n",
    "                    if node_id == left_index:\n",
    "                        neighbors = [i for i in range(0,board_size*board_size,board_size)]\n",
    "                        edge_type = 1\n",
    "                        for neighbor_id in neighbors:\n",
    "                            graphs_train.add_graph_node_edge(graph_id, node_id, neighbor_id,edge_type)\n",
    "                        graphs_train.add_graph_node_property(graph_id, node_id, 'LEFT')\n",
    "                    if node_id == down_index:\n",
    "                        neighbors = [i for i in range(board_size*board_size-board_size,board_size*board_size,1)]\n",
    "                        edge_type = 2\n",
    "                        for neighbor_id in neighbors:\n",
    "                            graphs_train.add_graph_node_edge(graph_id, node_id, neighbor_id,edge_type)\n",
    "                        graphs_train.add_graph_node_property(graph_id, node_id, 'DOWN')\n",
    "                    if node_id == up_index:\n",
    "                        neighbors = [i for i in range(board_size)]\n",
    "                        edge_type = 3\n",
    "                        for neighbor_id in neighbors:\n",
    "                            graphs_train.add_graph_node_edge(graph_id, node_id, neighbor_id,edge_type)\n",
    "                        graphs_train.add_graph_node_property(graph_id, node_id, 'UP')\n",
    "\n",
    "            [i for i in range(board_size-1,board_size*board_size,board_size)]\n",
    "    \n",
    "            graphs_train.encode()\n",
    "    \n",
    "            X_test.shape[0]\n",
    "    \n",
    "            graphs_test = Graphs(X_test.shape[0], init_with=graphs_train)\n",
    "    \n",
    "            for graph_id in range(X_test.shape[0]):\n",
    "                graphs_test.set_number_of_graph_nodes(graph_id, number_of_nodes+4)\n",
    "    \n",
    "            graphs_test.prepare_node_configuration()\n",
    "            \n",
    "            for graph_id in tqdm(range(X_test.shape[0]), desc=\"Test nodes\", leave=True):\n",
    "                graphs_test.add_graph_node(graph_id, right_index, board_size)\n",
    "                graphs_test.add_graph_node(graph_id, left_index, board_size)\n",
    "                graphs_test.add_graph_node(graph_id, down_index,board_size)\n",
    "                graphs_test.add_graph_node(graph_id, up_index, board_size)\n",
    "                for node_id in range(number_of_nodes):\n",
    "                    nr_neighbours = len(getConnections(board_size, node_id)[0])\n",
    "                    graphs_test.add_graph_node(graph_id, node_id, nr_neighbours)  \n",
    "            \n",
    "            graphs_test.prepare_edge_configuration()\n",
    "    \n",
    "            for graph_id in tqdm(range(X_test.shape[0]), desc=\"Test edges & props\", leave=True):\n",
    "                for node_id in range(number_of_nodes+4):\n",
    "                 \n",
    "                    neighbors, directions = getConnections(board_size,node_id) \n",
    "                    edge_type = 0\n",
    "                    if node_id<number_of_nodes:\n",
    "                        for neighbor_id, dir in zip(neighbors,directions):\n",
    "                            graphs_test.add_graph_node_edge(graph_id, node_id, neighbor_id,dir)\n",
    "                \n",
    "                        node_value = X_test[graph_id, node_id]\n",
    "                \n",
    "                        if node_value == 1:\n",
    "                            graphs_test.add_graph_node_property(graph_id, node_id, 'RED')\n",
    "                    \n",
    "                        elif node_value == -1:\n",
    "                            \n",
    "                            graphs_test.add_graph_node_property(graph_id, node_id, 'BLUE')\n",
    "                   \n",
    "                        row = node_id // board_size\n",
    "                        col = node_id % board_size\n",
    "            \n",
    "                        graphs_test.add_graph_node_property(graph_id, node_id, f'ROW_{row}')\n",
    "                        graphs_test.add_graph_node_property(graph_id, node_id, f'COL_{col}')\n",
    "                \n",
    "                    if node_id == right_index:\n",
    "                        neighbors = [i for i in range(board_size-1,board_size*board_size,board_size)]\n",
    "                        edge_type = 0\n",
    "                        for neighbor_id in neighbors:\n",
    "                            graphs_test.add_graph_node_edge(graph_id, node_id, neighbor_id,edge_type)\n",
    "                        graphs_test.add_graph_node_property(graph_id, node_id, 'RIGHT')\n",
    "                    if node_id == left_index:\n",
    "                        neighbors = [i for i in range(0,board_size*board_size,board_size)]\n",
    "                        edge_type = 1\n",
    "                        for neighbor_id in neighbors:\n",
    "                            graphs_test.add_graph_node_edge(graph_id, node_id, neighbor_id,edge_type)\n",
    "                        graphs_test.add_graph_node_property(graph_id, node_id, 'LEFT')\n",
    "                    if node_id == down_index:\n",
    "                        neighbors = [i for i in range(board_size*board_size-board_size,board_size*board_size,1)]\n",
    "                        edge_type = 2\n",
    "                        for neighbor_id in neighbors:\n",
    "                            graphs_test.add_graph_node_edge(graph_id, node_id, neighbor_id,edge_type)\n",
    "                        graphs_test.add_graph_node_property(graph_id, node_id, 'DOWN')\n",
    "                    if node_id == up_index:\n",
    "                        neighbors = [i for i in range(board_size)]\n",
    "                        edge_type = 3\n",
    "                        for neighbor_id in neighbors:\n",
    "                            graphs_test.add_graph_node_edge(graph_id, node_id, neighbor_id,edge_type)\n",
    "                        graphs_test.add_graph_node_property(graph_id, node_id, 'UP')\n",
    "           \n",
    "    \n",
    "            graphs_test.encode()\n",
    "    \n",
    "            with open(f'graphs/{board_size}x{board_size}_{mbf}_{n_samples}.pkl', 'wb') as f:\n",
    "                pickle.dump((graphs_train, graphs_test, X_train, Y_train, X_test, Y_test), f)"
   ]
  }
 ],
 "metadata": {
  "kernelspec": {
   "display_name": "Python 3 (ipykernel)",
   "language": "python",
   "name": "python3"
  },
  "language_info": {
   "codemirror_mode": {
    "name": "ipython",
    "version": 3
   },
   "file_extension": ".py",
   "mimetype": "text/x-python",
   "name": "python",
   "nbconvert_exporter": "python",
   "pygments_lexer": "ipython3",
   "version": "3.11.6"
  },
  "widgets": {
   "application/vnd.jupyter.widget-state+json": {
    "state": {
     "0010587733194461a0223b1a04af69fb": {
      "model_module": "@jupyter-widgets/controls",
      "model_module_version": "2.0.0",
      "model_name": "HBoxModel",
      "state": {
       "children": [
        "IPY_MODEL_c3ebfbae58584e29ad61571a42735b13",
        "IPY_MODEL_417f8b1b46d846b6b553a6a2303712d7",
        "IPY_MODEL_1869fd53e6ce4a229926f97ad87ed7fc"
       ],
       "layout": "IPY_MODEL_ad34962f7d5a4c42899a32b5e6656498"
      }
     },
     "0084804b85314eaf91fffb7ce43926fe": {
      "model_module": "@jupyter-widgets/controls",
      "model_module_version": "2.0.0",
      "model_name": "ProgressStyleModel",
      "state": {
       "description_width": ""
      }
     },
     "01a9d45244a3404bb219775acb2566ca": {
      "model_module": "@jupyter-widgets/controls",
      "model_module_version": "2.0.0",
      "model_name": "HTMLStyleModel",
      "state": {
       "description_width": "",
       "font_size": null,
       "text_color": null
      }
     },
     "022e888df7f84b44aaa6c4531344a924": {
      "model_module": "@jupyter-widgets/base",
      "model_module_version": "2.0.0",
      "model_name": "LayoutModel",
      "state": {}
     },
     "03412730608c445e8cccd99dda27c29a": {
      "model_module": "@jupyter-widgets/controls",
      "model_module_version": "2.0.0",
      "model_name": "FloatProgressModel",
      "state": {
       "bar_style": "success",
       "layout": "IPY_MODEL_78a83669190c48d7865113b4f942b3b5",
       "max": 20000,
       "style": "IPY_MODEL_0721affb2d3244808021003edb03b665",
       "value": 20000
      }
     },
     "0388ba57adfd4d818cba421b28e6b4e9": {
      "model_module": "@jupyter-widgets/controls",
      "model_module_version": "2.0.0",
      "model_name": "HTMLModel",
      "state": {
       "layout": "IPY_MODEL_57b85ef201b94ff68af12c2cfc53cf13",
       "style": "IPY_MODEL_19fa94c90f434800b72e3fe18aaf9098",
       "value": "Train nodes: 100%"
      }
     },
     "03f77144a7ec4b5f9a2b9382d9809f09": {
      "model_module": "@jupyter-widgets/controls",
      "model_module_version": "2.0.0",
      "model_name": "HTMLModel",
      "state": {
       "layout": "IPY_MODEL_bc0c8bd883c94e75a40b8b829eca6861",
       "style": "IPY_MODEL_6a890153fe5e4010b35d46651f3cbfed",
       "value": " 80000/80000 [04:56&lt;00:00, 282.28it/s]"
      }
     },
     "04161a85a78a4f1090e3e2ad84ea3512": {
      "model_module": "@jupyter-widgets/controls",
      "model_module_version": "2.0.0",
      "model_name": "ProgressStyleModel",
      "state": {
       "description_width": ""
      }
     },
     "04d0185e067f46d6a167e7e885b141e9": {
      "model_module": "@jupyter-widgets/controls",
      "model_module_version": "2.0.0",
      "model_name": "FloatProgressModel",
      "state": {
       "bar_style": "success",
       "layout": "IPY_MODEL_59fc28252bc047098ac3084057efb341",
       "max": 80000,
       "style": "IPY_MODEL_04161a85a78a4f1090e3e2ad84ea3512",
       "value": 80000
      }
     },
     "0596a653c83e4e0695af85e47255343a": {
      "model_module": "@jupyter-widgets/controls",
      "model_module_version": "2.0.0",
      "model_name": "HTMLStyleModel",
      "state": {
       "description_width": "",
       "font_size": null,
       "text_color": null
      }
     },
     "0721affb2d3244808021003edb03b665": {
      "model_module": "@jupyter-widgets/controls",
      "model_module_version": "2.0.0",
      "model_name": "ProgressStyleModel",
      "state": {
       "description_width": ""
      }
     },
     "0889d675e84c4736808d3131713e4090": {
      "model_module": "@jupyter-widgets/controls",
      "model_module_version": "2.0.0",
      "model_name": "HTMLModel",
      "state": {
       "layout": "IPY_MODEL_d80813973773419e8758bd35213e2ed0",
       "style": "IPY_MODEL_3c71b7957c1b4218863e523aee1f5355",
       "value": " 80000/80000 [00:17&lt;00:00, 5399.61it/s]"
      }
     },
     "0966e4a096534452a20a1bb824b4a068": {
      "model_module": "@jupyter-widgets/controls",
      "model_module_version": "2.0.0",
      "model_name": "HBoxModel",
      "state": {
       "children": [
        "IPY_MODEL_2bad97a41d7c4a91b715762a92b1cf50",
        "IPY_MODEL_c494678b9cd046f995e3001e912ee220",
        "IPY_MODEL_0d4cc6837df340f68bfa604fe0f92f8f"
       ],
       "layout": "IPY_MODEL_d7555d1bfced426992ffdff7cab6c7f5"
      }
     },
     "09deff289aaf4496a94df38f5d1d1b13": {
      "model_module": "@jupyter-widgets/base",
      "model_module_version": "2.0.0",
      "model_name": "LayoutModel",
      "state": {}
     },
     "0d4cc6837df340f68bfa604fe0f92f8f": {
      "model_module": "@jupyter-widgets/controls",
      "model_module_version": "2.0.0",
      "model_name": "HTMLModel",
      "state": {
       "layout": "IPY_MODEL_268ecc29992f46be987db4e361088fce",
       "style": "IPY_MODEL_48e6c8d9778c4016bd7c95a77c254ab4",
       "value": " 80000/80000 [00:06&lt;00:00, 12908.49it/s]"
      }
     },
     "0e13deb9c5c04b79b62e1ccda722ea21": {
      "model_module": "@jupyter-widgets/controls",
      "model_module_version": "2.0.0",
      "model_name": "ProgressStyleModel",
      "state": {
       "description_width": ""
      }
     },
     "0e5ac97a824b4194b5786727447f5ea2": {
      "model_module": "@jupyter-widgets/controls",
      "model_module_version": "2.0.0",
      "model_name": "FloatProgressModel",
      "state": {
       "layout": "IPY_MODEL_2b5d7965e01143dd8d0d802f8e0132ab",
       "max": 80000,
       "style": "IPY_MODEL_0e13deb9c5c04b79b62e1ccda722ea21",
       "value": 552
      }
     },
     "0e9418c267f2424d99c3910a3b4fb1e1": {
      "model_module": "@jupyter-widgets/base",
      "model_module_version": "2.0.0",
      "model_name": "LayoutModel",
      "state": {}
     },
     "0f60693fcdde4dca96e3aa3d75eee274": {
      "model_module": "@jupyter-widgets/base",
      "model_module_version": "2.0.0",
      "model_name": "LayoutModel",
      "state": {}
     },
     "0ffbc2c011894371bb3fe18b9b38df72": {
      "model_module": "@jupyter-widgets/base",
      "model_module_version": "2.0.0",
      "model_name": "LayoutModel",
      "state": {}
     },
     "107f7631ee5a4ad285aade6a8a6237d6": {
      "model_module": "@jupyter-widgets/controls",
      "model_module_version": "2.0.0",
      "model_name": "ProgressStyleModel",
      "state": {
       "description_width": ""
      }
     },
     "10842ebb39604cdf8022780a6e76e679": {
      "model_module": "@jupyter-widgets/base",
      "model_module_version": "2.0.0",
      "model_name": "LayoutModel",
      "state": {}
     },
     "10ba5d0c6db742379cd67d9b17687861": {
      "model_module": "@jupyter-widgets/controls",
      "model_module_version": "2.0.0",
      "model_name": "HTMLModel",
      "state": {
       "layout": "IPY_MODEL_94b01ba0084440d18f65e1cf7c920fb0",
       "style": "IPY_MODEL_f7382f8601a447c48a6dab36736901ee",
       "value": " 20000/20000 [00:00&lt;00:00, 23921.69it/s]"
      }
     },
     "126c25312c5d473c96413821ddcced9f": {
      "model_module": "@jupyter-widgets/controls",
      "model_module_version": "2.0.0",
      "model_name": "FloatProgressModel",
      "state": {
       "bar_style": "success",
       "layout": "IPY_MODEL_a16d7561c8134499ab27edbdf46905a0",
       "max": 20000,
       "style": "IPY_MODEL_c6445a107bed452484d8161da2e2512f",
       "value": 20000
      }
     },
     "12b7f1b45129419e84adce24da6dcd4f": {
      "model_module": "@jupyter-widgets/controls",
      "model_module_version": "2.0.0",
      "model_name": "ProgressStyleModel",
      "state": {
       "description_width": ""
      }
     },
     "1414779947aa47e8a5bd28f1e213fc6c": {
      "model_module": "@jupyter-widgets/base",
      "model_module_version": "2.0.0",
      "model_name": "LayoutModel",
      "state": {}
     },
     "141aa43051754052bb7acb6778727ff8": {
      "model_module": "@jupyter-widgets/base",
      "model_module_version": "2.0.0",
      "model_name": "LayoutModel",
      "state": {}
     },
     "141b1e421a4b4c649989905b6236ce65": {
      "model_module": "@jupyter-widgets/controls",
      "model_module_version": "2.0.0",
      "model_name": "HTMLStyleModel",
      "state": {
       "description_width": "",
       "font_size": null,
       "text_color": null
      }
     },
     "1601e471e82a48718a75cae1d2da9d7c": {
      "model_module": "@jupyter-widgets/base",
      "model_module_version": "2.0.0",
      "model_name": "LayoutModel",
      "state": {}
     },
     "174a308343e84658b335f760dd19391a": {
      "model_module": "@jupyter-widgets/controls",
      "model_module_version": "2.0.0",
      "model_name": "HTMLModel",
      "state": {
       "layout": "IPY_MODEL_022e888df7f84b44aaa6c4531344a924",
       "style": "IPY_MODEL_1a5408f5ef9b4b068e8c7263a98fc290",
       "value": "Test edges &amp; props: 100%"
      }
     },
     "17593838e7754d6196f0334e30568887": {
      "model_module": "@jupyter-widgets/base",
      "model_module_version": "2.0.0",
      "model_name": "LayoutModel",
      "state": {}
     },
     "17705fd592e54b5397d56bdeb237f1d6": {
      "model_module": "@jupyter-widgets/controls",
      "model_module_version": "2.0.0",
      "model_name": "FloatProgressModel",
      "state": {
       "bar_style": "success",
       "layout": "IPY_MODEL_feffe565d3d94c849e134b9264ee3fd5",
       "max": 20000,
       "style": "IPY_MODEL_be50b6c8d3764347b07032b5c11499a6",
       "value": 20000
      }
     },
     "17d9811afa4c4d2493aeceb5eadf4843": {
      "model_module": "@jupyter-widgets/controls",
      "model_module_version": "2.0.0",
      "model_name": "FloatProgressModel",
      "state": {
       "bar_style": "success",
       "layout": "IPY_MODEL_ceff3c880fac43f4b0cc9ea42f968bc3",
       "max": 80000,
       "style": "IPY_MODEL_41bf529943b74206b41130e87b98ab02",
       "value": 80000
      }
     },
     "1869fd53e6ce4a229926f97ad87ed7fc": {
      "model_module": "@jupyter-widgets/controls",
      "model_module_version": "2.0.0",
      "model_name": "HTMLModel",
      "state": {
       "layout": "IPY_MODEL_215780b966334264bdcdca7934c12348",
       "style": "IPY_MODEL_8bc3d3b3a4734feb8795faa783479201",
       "value": " 6/13 [29:24&lt;44:23, 380.55s/it]"
      }
     },
     "19b2696e7fa34dc0bb7ab2920d33a39b": {
      "model_module": "@jupyter-widgets/base",
      "model_module_version": "2.0.0",
      "model_name": "LayoutModel",
      "state": {}
     },
     "19fa94c90f434800b72e3fe18aaf9098": {
      "model_module": "@jupyter-widgets/controls",
      "model_module_version": "2.0.0",
      "model_name": "HTMLStyleModel",
      "state": {
       "description_width": "",
       "font_size": null,
       "text_color": null
      }
     },
     "1a5408f5ef9b4b068e8c7263a98fc290": {
      "model_module": "@jupyter-widgets/controls",
      "model_module_version": "2.0.0",
      "model_name": "HTMLStyleModel",
      "state": {
       "description_width": "",
       "font_size": null,
       "text_color": null
      }
     },
     "1a84af47dfdd4cb789575dbdb67dc1cf": {
      "model_module": "@jupyter-widgets/controls",
      "model_module_version": "2.0.0",
      "model_name": "ProgressStyleModel",
      "state": {
       "description_width": ""
      }
     },
     "1a90d81cebd54be1b5230505b69e8cb7": {
      "model_module": "@jupyter-widgets/controls",
      "model_module_version": "2.0.0",
      "model_name": "HTMLStyleModel",
      "state": {
       "description_width": "",
       "font_size": null,
       "text_color": null
      }
     },
     "1b4eb97377204b84a0d0ea292a53e6cc": {
      "model_module": "@jupyter-widgets/controls",
      "model_module_version": "2.0.0",
      "model_name": "HTMLStyleModel",
      "state": {
       "description_width": "",
       "font_size": null,
       "text_color": null
      }
     },
     "1c1a0f6d118247cd8ed1180cc3d61a7f": {
      "model_module": "@jupyter-widgets/controls",
      "model_module_version": "2.0.0",
      "model_name": "HTMLStyleModel",
      "state": {
       "description_width": "",
       "font_size": null,
       "text_color": null
      }
     },
     "1dba861ae1cd43788d2e352a72e1ca33": {
      "model_module": "@jupyter-widgets/controls",
      "model_module_version": "2.0.0",
      "model_name": "HTMLStyleModel",
      "state": {
       "description_width": "",
       "font_size": null,
       "text_color": null
      }
     },
     "1e1cdaae042941abb0aad9496cde3c10": {
      "model_module": "@jupyter-widgets/controls",
      "model_module_version": "2.0.0",
      "model_name": "HTMLStyleModel",
      "state": {
       "description_width": "",
       "font_size": null,
       "text_color": null
      }
     },
     "1e3377814edb4dd18a54a98f19775377": {
      "model_module": "@jupyter-widgets/controls",
      "model_module_version": "2.0.0",
      "model_name": "FloatProgressModel",
      "state": {
       "bar_style": "success",
       "layout": "IPY_MODEL_f7d1a2fffc1d4dbf909e995163962a1b",
       "max": 80000,
       "style": "IPY_MODEL_acc2a2bfc9764b98b2e2bee69cd25872",
       "value": 80000
      }
     },
     "1ea19e827cf54f1580a714c72146f3f9": {
      "model_module": "@jupyter-widgets/controls",
      "model_module_version": "2.0.0",
      "model_name": "FloatProgressModel",
      "state": {
       "layout": "IPY_MODEL_19b2696e7fa34dc0bb7ab2920d33a39b",
       "max": 1,
       "style": "IPY_MODEL_3d02c0dbd94044148dff370022c74e82"
      }
     },
     "1fc1d6cf27894a6ea15a930be49c4cf0": {
      "model_module": "@jupyter-widgets/base",
      "model_module_version": "2.0.0",
      "model_name": "LayoutModel",
      "state": {}
     },
     "20834fa320ea4df79a7b843f64150c91": {
      "model_module": "@jupyter-widgets/controls",
      "model_module_version": "2.0.0",
      "model_name": "FloatProgressModel",
      "state": {
       "bar_style": "success",
       "layout": "IPY_MODEL_fb072ba04f68487c8f4c35a78cf06d97",
       "max": 80000,
       "style": "IPY_MODEL_12b7f1b45129419e84adce24da6dcd4f",
       "value": 80000
      }
     },
     "20945251518b41d788391ab45ab5a1da": {
      "model_module": "@jupyter-widgets/base",
      "model_module_version": "2.0.0",
      "model_name": "LayoutModel",
      "state": {}
     },
     "215780b966334264bdcdca7934c12348": {
      "model_module": "@jupyter-widgets/base",
      "model_module_version": "2.0.0",
      "model_name": "LayoutModel",
      "state": {}
     },
     "225ecbb5c772470db87077c990be06b0": {
      "model_module": "@jupyter-widgets/base",
      "model_module_version": "2.0.0",
      "model_name": "LayoutModel",
      "state": {}
     },
     "268e90937282496cafce20fd3ae74dd4": {
      "model_module": "@jupyter-widgets/controls",
      "model_module_version": "2.0.0",
      "model_name": "ProgressStyleModel",
      "state": {
       "description_width": ""
      }
     },
     "268ecc29992f46be987db4e361088fce": {
      "model_module": "@jupyter-widgets/base",
      "model_module_version": "2.0.0",
      "model_name": "LayoutModel",
      "state": {}
     },
     "268f82ccc18745c9bb3c8779d594bed7": {
      "model_module": "@jupyter-widgets/base",
      "model_module_version": "2.0.0",
      "model_name": "LayoutModel",
      "state": {}
     },
     "26e8af12ec8e4bd5a91a3b8b0973e0b4": {
      "model_module": "@jupyter-widgets/base",
      "model_module_version": "2.0.0",
      "model_name": "LayoutModel",
      "state": {}
     },
     "28136d217b59467fa79864e94d2c88bf": {
      "model_module": "@jupyter-widgets/controls",
      "model_module_version": "2.0.0",
      "model_name": "HTMLModel",
      "state": {
       "layout": "IPY_MODEL_268f82ccc18745c9bb3c8779d594bed7",
       "style": "IPY_MODEL_c39108490e444174bb0d9e346ca889f0",
       "value": "Train nodes: 100%"
      }
     },
     "2acc27e30ece455cba81311977a4709d": {
      "model_module": "@jupyter-widgets/controls",
      "model_module_version": "2.0.0",
      "model_name": "HTMLModel",
      "state": {
       "layout": "IPY_MODEL_d4c8f9753d3a4ae9b549c72e46a8d88d",
       "style": "IPY_MODEL_f38acedd768241a2ba7a93e96db133d8",
       "value": " 20000/20000 [00:01&lt;00:00, 12013.23it/s]"
      }
     },
     "2b02d0de6bc5493da681bc1288440abc": {
      "model_module": "@jupyter-widgets/controls",
      "model_module_version": "2.0.0",
      "model_name": "FloatProgressModel",
      "state": {
       "bar_style": "success",
       "layout": "IPY_MODEL_605387443e7448088b71f16f8492c2a4",
       "max": 80000,
       "style": "IPY_MODEL_82e937da0dc04d2aab3ed34c47913f1e",
       "value": 80000
      }
     },
     "2b5d7965e01143dd8d0d802f8e0132ab": {
      "model_module": "@jupyter-widgets/base",
      "model_module_version": "2.0.0",
      "model_name": "LayoutModel",
      "state": {}
     },
     "2b779dc6d37e49ee98b3b7dd51eb212e": {
      "model_module": "@jupyter-widgets/controls",
      "model_module_version": "2.0.0",
      "model_name": "HTMLModel",
      "state": {
       "layout": "IPY_MODEL_bc073e7182c84555a5f3aa82abe7c0ea",
       "style": "IPY_MODEL_d8aa5c9130304bf290ff3d761fcd4501",
       "value": "Test nodes: 100%"
      }
     },
     "2bad97a41d7c4a91b715762a92b1cf50": {
      "model_module": "@jupyter-widgets/controls",
      "model_module_version": "2.0.0",
      "model_name": "HTMLModel",
      "state": {
       "layout": "IPY_MODEL_dc2108a32e7043de88ec48d307389c70",
       "style": "IPY_MODEL_eca9ae2ff4e9408dbafc7745d0f63ba8",
       "value": "Train nodes: 100%"
      }
     },
     "2badc66cb75042ff90a88899740fc38e": {
      "model_module": "@jupyter-widgets/base",
      "model_module_version": "2.0.0",
      "model_name": "LayoutModel",
      "state": {}
     },
     "2c15c5c1761441d0a9f16928b986153d": {
      "model_module": "@jupyter-widgets/controls",
      "model_module_version": "2.0.0",
      "model_name": "HTMLModel",
      "state": {
       "layout": "IPY_MODEL_1fc1d6cf27894a6ea15a930be49c4cf0",
       "style": "IPY_MODEL_33ea72f20694422d9f70e27ae2641ec1",
       "value": " 80000/80000 [00:05&lt;00:00, 16247.77it/s]"
      }
     },
     "2d607df840dd4f7ca2f190219851de9b": {
      "model_module": "@jupyter-widgets/controls",
      "model_module_version": "2.0.0",
      "model_name": "HTMLModel",
      "state": {
       "layout": "IPY_MODEL_ca4683e25d2f4a6d9f068f7645150e35",
       "style": "IPY_MODEL_ac7ed90128e04f48b0f3c5def3fac650",
       "value": " 0/1 [00:00&lt;?, ?it/s]"
      }
     },
     "2e2b4b7370b746ed83f7eb22d828daf8": {
      "model_module": "@jupyter-widgets/controls",
      "model_module_version": "2.0.0",
      "model_name": "HTMLModel",
      "state": {
       "layout": "IPY_MODEL_988cc01a7e0344fbb225a57baeecec45",
       "style": "IPY_MODEL_141b1e421a4b4c649989905b6236ce65",
       "value": " 20000/20000 [00:03&lt;00:00, 6127.62it/s]"
      }
     },
     "2f6776d22a934525b5e92a8f3acb0356": {
      "model_module": "@jupyter-widgets/base",
      "model_module_version": "2.0.0",
      "model_name": "LayoutModel",
      "state": {}
     },
     "2fdb179564d24718844c9e98fa89cd18": {
      "model_module": "@jupyter-widgets/controls",
      "model_module_version": "2.0.0",
      "model_name": "HBoxModel",
      "state": {
       "children": [
        "IPY_MODEL_2b779dc6d37e49ee98b3b7dd51eb212e",
        "IPY_MODEL_b763bdbfc0d74e708cd8fe8e4835af2d",
        "IPY_MODEL_f5679c470cb749b28252b17c526e126b"
       ],
       "layout": "IPY_MODEL_c42a687189024f089a6dc92ca6db52b8"
      }
     },
     "31267afab0834a06bcc721defdc7b8f4": {
      "model_module": "@jupyter-widgets/controls",
      "model_module_version": "2.0.0",
      "model_name": "HBoxModel",
      "state": {
       "children": [
        "IPY_MODEL_ff576100e55f417cba781160f1716a94",
        "IPY_MODEL_126c25312c5d473c96413821ddcced9f",
        "IPY_MODEL_f0d270e1d9ce4c2086061c3c67382226"
       ],
       "layout": "IPY_MODEL_8be2b8d6c98541559570c7b5f79b7e6a"
      }
     },
     "3269acb045804c4d9ca537e3d2e3ee18": {
      "model_module": "@jupyter-widgets/controls",
      "model_module_version": "2.0.0",
      "model_name": "HBoxModel",
      "state": {
       "children": [
        "IPY_MODEL_4357a56ce921442fbff942d71d063c6b",
        "IPY_MODEL_1ea19e827cf54f1580a714c72146f3f9",
        "IPY_MODEL_2d607df840dd4f7ca2f190219851de9b"
       ],
       "layout": "IPY_MODEL_7aae2845b29a4b63b056556a39e4e5b4"
      }
     },
     "32c5806cf593432db5d0f4298e9e80b4": {
      "model_module": "@jupyter-widgets/base",
      "model_module_version": "2.0.0",
      "model_name": "LayoutModel",
      "state": {}
     },
     "33445d5b4d9b4faeb31c128671f7271e": {
      "model_module": "@jupyter-widgets/controls",
      "model_module_version": "2.0.0",
      "model_name": "HBoxModel",
      "state": {
       "children": [
        "IPY_MODEL_4eaade962c52479b82b5a46a08806865",
        "IPY_MODEL_e297ab35995c424bb796ac7ff9c8d7cd",
        "IPY_MODEL_10ba5d0c6db742379cd67d9b17687861"
       ],
       "layout": "IPY_MODEL_fda6a06a2d054eae94a39d8553954745"
      }
     },
     "3398515cbdaa417095641b084934f16d": {
      "model_module": "@jupyter-widgets/base",
      "model_module_version": "2.0.0",
      "model_name": "LayoutModel",
      "state": {}
     },
     "33c5e24b00d14a69ad3a2eb1457269ba": {
      "model_module": "@jupyter-widgets/controls",
      "model_module_version": "2.0.0",
      "model_name": "HTMLStyleModel",
      "state": {
       "description_width": "",
       "font_size": null,
       "text_color": null
      }
     },
     "33ea72f20694422d9f70e27ae2641ec1": {
      "model_module": "@jupyter-widgets/controls",
      "model_module_version": "2.0.0",
      "model_name": "HTMLStyleModel",
      "state": {
       "description_width": "",
       "font_size": null,
       "text_color": null
      }
     },
     "33f26c0e39f74261a130efb6439621ee": {
      "model_module": "@jupyter-widgets/base",
      "model_module_version": "2.0.0",
      "model_name": "LayoutModel",
      "state": {}
     },
     "356127f13dec43b0831ddda8a427d170": {
      "model_module": "@jupyter-widgets/base",
      "model_module_version": "2.0.0",
      "model_name": "LayoutModel",
      "state": {}
     },
     "35c98185524d48d7851c7a523e7fa906": {
      "model_module": "@jupyter-widgets/controls",
      "model_module_version": "2.0.0",
      "model_name": "HTMLModel",
      "state": {
       "layout": "IPY_MODEL_4a7577d6df9242d9b708b1a4661872d9",
       "style": "IPY_MODEL_1c1a0f6d118247cd8ed1180cc3d61a7f",
       "value": "Test nodes: 100%"
      }
     },
     "3785977945d44153baeae098f0e56ac7": {
      "model_module": "@jupyter-widgets/controls",
      "model_module_version": "2.0.0",
      "model_name": "ProgressStyleModel",
      "state": {
       "description_width": ""
      }
     },
     "37c7739d2b5742abbdfc93c7f9ca207a": {
      "model_module": "@jupyter-widgets/controls",
      "model_module_version": "2.0.0",
      "model_name": "HTMLModel",
      "state": {
       "layout": "IPY_MODEL_356127f13dec43b0831ddda8a427d170",
       "style": "IPY_MODEL_971d356ce0d94c70a19101685cbf0b78",
       "value": " 20000/20000 [00:55&lt;00:00, 365.28it/s]"
      }
     },
     "38c4b47c11e94efc99ba9cf01992c7da": {
      "model_module": "@jupyter-widgets/controls",
      "model_module_version": "2.0.0",
      "model_name": "HTMLStyleModel",
      "state": {
       "description_width": "",
       "font_size": null,
       "text_color": null
      }
     },
     "38e038d742854e3dafc3891e05979c7b": {
      "model_module": "@jupyter-widgets/controls",
      "model_module_version": "2.0.0",
      "model_name": "HTMLStyleModel",
      "state": {
       "description_width": "",
       "font_size": null,
       "text_color": null
      }
     },
     "39d44cba055d4d28b99bf60c9e636eae": {
      "model_module": "@jupyter-widgets/controls",
      "model_module_version": "2.0.0",
      "model_name": "ProgressStyleModel",
      "state": {
       "description_width": ""
      }
     },
     "3c71b7957c1b4218863e523aee1f5355": {
      "model_module": "@jupyter-widgets/controls",
      "model_module_version": "2.0.0",
      "model_name": "HTMLStyleModel",
      "state": {
       "description_width": "",
       "font_size": null,
       "text_color": null
      }
     },
     "3d02c0dbd94044148dff370022c74e82": {
      "model_module": "@jupyter-widgets/controls",
      "model_module_version": "2.0.0",
      "model_name": "ProgressStyleModel",
      "state": {
       "description_width": ""
      }
     },
     "3d307a81110741a6a62ac4bfe56b1f3f": {
      "model_module": "@jupyter-widgets/controls",
      "model_module_version": "2.0.0",
      "model_name": "HTMLStyleModel",
      "state": {
       "description_width": "",
       "font_size": null,
       "text_color": null
      }
     },
     "3d92ba7254ec4aba8d254c2c6fca1044": {
      "model_module": "@jupyter-widgets/controls",
      "model_module_version": "2.0.0",
      "model_name": "HTMLModel",
      "state": {
       "layout": "IPY_MODEL_7c5a29eb279a4ed793ec5dedbdce789a",
       "style": "IPY_MODEL_43c6c55321a14ae296dcb70cff1d37e4",
       "value": " 20000/20000 [00:25&lt;00:00, 797.35it/s]"
      }
     },
     "3e25e0f716cb4bcf899a018527b9ab0a": {
      "model_module": "@jupyter-widgets/controls",
      "model_module_version": "2.0.0",
      "model_name": "HTMLModel",
      "state": {
       "layout": "IPY_MODEL_60c63ed4872e4ad088edad5de5408c76",
       "style": "IPY_MODEL_540244a06a1a411ba5590177ddfa4c34",
       "value": " 20000/20000 [00:17&lt;00:00, 1155.26it/s]"
      }
     },
     "3f6a0077526d40858b0fcf4aa1e13a76": {
      "model_module": "@jupyter-widgets/base",
      "model_module_version": "2.0.0",
      "model_name": "LayoutModel",
      "state": {}
     },
     "3fcc1d84077e41cc8cecae529c45a503": {
      "model_module": "@jupyter-widgets/controls",
      "model_module_version": "2.0.0",
      "model_name": "HBoxModel",
      "state": {
       "children": [
        "IPY_MODEL_c577856cddca492180fa8dd018202bd3",
        "IPY_MODEL_0e5ac97a824b4194b5786727447f5ea2",
        "IPY_MODEL_5c8484e04a8f4232957a8de43e45dc70"
       ],
       "layout": "IPY_MODEL_54021408a4794c31b7bd5dfbab70987a"
      }
     },
     "400e9e08548040fdbd1e3f5ee133bb5a": {
      "model_module": "@jupyter-widgets/controls",
      "model_module_version": "2.0.0",
      "model_name": "HTMLModel",
      "state": {
       "layout": "IPY_MODEL_2badc66cb75042ff90a88899740fc38e",
       "style": "IPY_MODEL_1b4eb97377204b84a0d0ea292a53e6cc",
       "value": "Train nodes: 100%"
      }
     },
     "40649a16f0bc4fa5a6934ca0ffd19cd1": {
      "model_module": "@jupyter-widgets/controls",
      "model_module_version": "2.0.0",
      "model_name": "HTMLModel",
      "state": {
       "layout": "IPY_MODEL_945731ab11f54a5aa8085dbab8ceb4a7",
       "style": "IPY_MODEL_4a921d6f61c54b3bb697e6c2af27d624",
       "value": "Train edges &amp; props: 100%"
      }
     },
     "40e289735c7c47ec966a1e89b3c51870": {
      "model_module": "@jupyter-widgets/base",
      "model_module_version": "2.0.0",
      "model_name": "LayoutModel",
      "state": {}
     },
     "417f8b1b46d846b6b553a6a2303712d7": {
      "model_module": "@jupyter-widgets/controls",
      "model_module_version": "2.0.0",
      "model_name": "FloatProgressModel",
      "state": {
       "layout": "IPY_MODEL_94ce6b3256b24c00a784427dda1940d4",
       "max": 13,
       "style": "IPY_MODEL_39d44cba055d4d28b99bf60c9e636eae",
       "value": 6
      }
     },
     "41bf529943b74206b41130e87b98ab02": {
      "model_module": "@jupyter-widgets/controls",
      "model_module_version": "2.0.0",
      "model_name": "ProgressStyleModel",
      "state": {
       "description_width": ""
      }
     },
     "4285dcc511ca4ddbaf6ebcf26b1020d9": {
      "model_module": "@jupyter-widgets/controls",
      "model_module_version": "2.0.0",
      "model_name": "HTMLModel",
      "state": {
       "layout": "IPY_MODEL_bf8af4fd88614eeeb518c25d607aa251",
       "style": "IPY_MODEL_d809a220bc194d8f9f300101e59ac109",
       "value": " 0/3 [00:00&lt;?, ?it/s]"
      }
     },
     "4357a56ce921442fbff942d71d063c6b": {
      "model_module": "@jupyter-widgets/controls",
      "model_module_version": "2.0.0",
      "model_name": "HTMLModel",
      "state": {
       "layout": "IPY_MODEL_7d1ee5c4f1ac467ebe3bb81d7b137a1b",
       "style": "IPY_MODEL_a8e8433ca70747c5be51cec6746add47",
       "value": "Samples:   0%"
      }
     },
     "43c0697b19e84ee1b400f12237f568cf": {
      "model_module": "@jupyter-widgets/controls",
      "model_module_version": "2.0.0",
      "model_name": "HTMLModel",
      "state": {
       "layout": "IPY_MODEL_9eea013926e34b9a943f262fd322509b",
       "style": "IPY_MODEL_87aa50a4959c4b329ab689b945b39186",
       "value": "Train edges &amp; props: 100%"
      }
     },
     "43c6c55321a14ae296dcb70cff1d37e4": {
      "model_module": "@jupyter-widgets/controls",
      "model_module_version": "2.0.0",
      "model_name": "HTMLStyleModel",
      "state": {
       "description_width": "",
       "font_size": null,
       "text_color": null
      }
     },
     "44103cb67d41448da254e464ce8896f8": {
      "model_module": "@jupyter-widgets/controls",
      "model_module_version": "2.0.0",
      "model_name": "HTMLStyleModel",
      "state": {
       "description_width": "",
       "font_size": null,
       "text_color": null
      }
     },
     "4594f1d52aa243459cc33a0d932c4ef3": {
      "model_module": "@jupyter-widgets/controls",
      "model_module_version": "2.0.0",
      "model_name": "HTMLStyleModel",
      "state": {
       "description_width": "",
       "font_size": null,
       "text_color": null
      }
     },
     "486eae9a344d483f9e3095adf007e3ee": {
      "model_module": "@jupyter-widgets/base",
      "model_module_version": "2.0.0",
      "model_name": "LayoutModel",
      "state": {}
     },
     "48e6c8d9778c4016bd7c95a77c254ab4": {
      "model_module": "@jupyter-widgets/controls",
      "model_module_version": "2.0.0",
      "model_name": "HTMLStyleModel",
      "state": {
       "description_width": "",
       "font_size": null,
       "text_color": null
      }
     },
     "492159b93852429fa38da722bb20aa3b": {
      "model_module": "@jupyter-widgets/base",
      "model_module_version": "2.0.0",
      "model_name": "LayoutModel",
      "state": {}
     },
     "493b39de93bb4510be61d6f6dd4325f7": {
      "model_module": "@jupyter-widgets/base",
      "model_module_version": "2.0.0",
      "model_name": "LayoutModel",
      "state": {}
     },
     "4948ba81b93b409d93fe0afe06b052f1": {
      "model_module": "@jupyter-widgets/controls",
      "model_module_version": "2.0.0",
      "model_name": "FloatProgressModel",
      "state": {
       "bar_style": "success",
       "layout": "IPY_MODEL_7d744f7d0fdd4bab8dc1348a07d216e1",
       "max": 20000,
       "style": "IPY_MODEL_d70e6488d92749a6bb00c3eba0f56567",
       "value": 20000
      }
     },
     "4a55e4a7bf774a05acee3bc3d2bb46f5": {
      "model_module": "@jupyter-widgets/base",
      "model_module_version": "2.0.0",
      "model_name": "LayoutModel",
      "state": {}
     },
     "4a7577d6df9242d9b708b1a4661872d9": {
      "model_module": "@jupyter-widgets/base",
      "model_module_version": "2.0.0",
      "model_name": "LayoutModel",
      "state": {}
     },
     "4a921d6f61c54b3bb697e6c2af27d624": {
      "model_module": "@jupyter-widgets/controls",
      "model_module_version": "2.0.0",
      "model_name": "HTMLStyleModel",
      "state": {
       "description_width": "",
       "font_size": null,
       "text_color": null
      }
     },
     "4a99a172641a4aba859bacb51df9dcce": {
      "model_module": "@jupyter-widgets/controls",
      "model_module_version": "2.0.0",
      "model_name": "HBoxModel",
      "state": {
       "children": [
        "IPY_MODEL_400e9e08548040fdbd1e3f5ee133bb5a",
        "IPY_MODEL_d57025070c8e47709104104e4efc8dda",
        "IPY_MODEL_74dd5cc3a15c43c7bfffe19dcc65def4"
       ],
       "layout": "IPY_MODEL_4aade9e91b284328b7063c8067a1b54b"
      }
     },
     "4aade9e91b284328b7063c8067a1b54b": {
      "model_module": "@jupyter-widgets/base",
      "model_module_version": "2.0.0",
      "model_name": "LayoutModel",
      "state": {}
     },
     "4abed746853f49928eec2803b215ce55": {
      "model_module": "@jupyter-widgets/controls",
      "model_module_version": "2.0.0",
      "model_name": "HTMLModel",
      "state": {
       "layout": "IPY_MODEL_1601e471e82a48718a75cae1d2da9d7c",
       "style": "IPY_MODEL_f61d191486d44818a728633522e8d92b",
       "value": " 80000/80000 [02:51&lt;00:00, 537.24it/s]"
      }
     },
     "4c68f01fd1c24bdbbdfdf88c57f676a1": {
      "model_module": "@jupyter-widgets/controls",
      "model_module_version": "2.0.0",
      "model_name": "HTMLModel",
      "state": {
       "layout": "IPY_MODEL_32c5806cf593432db5d0f4298e9e80b4",
       "style": "IPY_MODEL_bfc7ac9cf26e42f98e01e2facfde3d17",
       "value": "Test edges &amp; props: 100%"
      }
     },
     "4e57ef30cf8d458ba83f20d703465677": {
      "model_module": "@jupyter-widgets/base",
      "model_module_version": "2.0.0",
      "model_name": "LayoutModel",
      "state": {}
     },
     "4eaade962c52479b82b5a46a08806865": {
      "model_module": "@jupyter-widgets/controls",
      "model_module_version": "2.0.0",
      "model_name": "HTMLModel",
      "state": {
       "layout": "IPY_MODEL_20945251518b41d788391ab45ab5a1da",
       "style": "IPY_MODEL_f0fb55617acb4edb89e9f145e68d4c79",
       "value": "Test nodes: 100%"
      }
     },
     "5236262a415d48c29a8b131aca707507": {
      "model_module": "@jupyter-widgets/base",
      "model_module_version": "2.0.0",
      "model_name": "LayoutModel",
      "state": {}
     },
     "52669f342c7f4549890e72a90eccd731": {
      "model_module": "@jupyter-widgets/controls",
      "model_module_version": "2.0.0",
      "model_name": "HTMLStyleModel",
      "state": {
       "description_width": "",
       "font_size": null,
       "text_color": null
      }
     },
     "53baae64c2204277a27ddae544b189e3": {
      "model_module": "@jupyter-widgets/base",
      "model_module_version": "2.0.0",
      "model_name": "LayoutModel",
      "state": {}
     },
     "54021408a4794c31b7bd5dfbab70987a": {
      "model_module": "@jupyter-widgets/base",
      "model_module_version": "2.0.0",
      "model_name": "LayoutModel",
      "state": {}
     },
     "540244a06a1a411ba5590177ddfa4c34": {
      "model_module": "@jupyter-widgets/controls",
      "model_module_version": "2.0.0",
      "model_name": "HTMLStyleModel",
      "state": {
       "description_width": "",
       "font_size": null,
       "text_color": null
      }
     },
     "542c645fa4654df7bbc8d372973e3390": {
      "model_module": "@jupyter-widgets/controls",
      "model_module_version": "2.0.0",
      "model_name": "FloatProgressModel",
      "state": {
       "bar_style": "success",
       "layout": "IPY_MODEL_17593838e7754d6196f0334e30568887",
       "max": 20000,
       "style": "IPY_MODEL_3785977945d44153baeae098f0e56ac7",
       "value": 20000
      }
     },
     "5445e85537a54a699dca43c1ba7db531": {
      "model_module": "@jupyter-widgets/controls",
      "model_module_version": "2.0.0",
      "model_name": "FloatProgressModel",
      "state": {
       "bar_style": "success",
       "layout": "IPY_MODEL_486eae9a344d483f9e3095adf007e3ee",
       "max": 80000,
       "style": "IPY_MODEL_b7345ee6bf2e436ab4a04d4120f07573",
       "value": 80000
      }
     },
     "571265a0a42b45eda8324fdc7134b880": {
      "model_module": "@jupyter-widgets/controls",
      "model_module_version": "2.0.0",
      "model_name": "ProgressStyleModel",
      "state": {
       "description_width": ""
      }
     },
     "57b85ef201b94ff68af12c2cfc53cf13": {
      "model_module": "@jupyter-widgets/base",
      "model_module_version": "2.0.0",
      "model_name": "LayoutModel",
      "state": {}
     },
     "57e0e1f07f844b63992160a0c4d452db": {
      "model_module": "@jupyter-widgets/base",
      "model_module_version": "2.0.0",
      "model_name": "LayoutModel",
      "state": {}
     },
     "582d42ecd36044e3ad2cf0a9fe07e611": {
      "model_module": "@jupyter-widgets/controls",
      "model_module_version": "2.0.0",
      "model_name": "HTMLModel",
      "state": {
       "layout": "IPY_MODEL_4e57ef30cf8d458ba83f20d703465677",
       "style": "IPY_MODEL_9333a27e21aa45e39f0472c989ca941c",
       "value": " 80000/80000 [06:24&lt;00:00, 217.65it/s]"
      }
     },
     "59fc28252bc047098ac3084057efb341": {
      "model_module": "@jupyter-widgets/base",
      "model_module_version": "2.0.0",
      "model_name": "LayoutModel",
      "state": {}
     },
     "5a1066bba13447f0993b930d4d2e5e15": {
      "model_module": "@jupyter-widgets/base",
      "model_module_version": "2.0.0",
      "model_name": "LayoutModel",
      "state": {}
     },
     "5a1bb61088574ecaa8f262642720e494": {
      "model_module": "@jupyter-widgets/controls",
      "model_module_version": "2.0.0",
      "model_name": "ProgressStyleModel",
      "state": {
       "description_width": ""
      }
     },
     "5a45652ede134a498453a10b29f3b27a": {
      "model_module": "@jupyter-widgets/base",
      "model_module_version": "2.0.0",
      "model_name": "LayoutModel",
      "state": {}
     },
     "5c8484e04a8f4232957a8de43e45dc70": {
      "model_module": "@jupyter-widgets/controls",
      "model_module_version": "2.0.0",
      "model_name": "HTMLModel",
      "state": {
       "layout": "IPY_MODEL_4a55e4a7bf774a05acee3bc3d2bb46f5",
       "style": "IPY_MODEL_6b44cb07e9914f4084b3f6f13a43230b",
       "value": " 534/80000 [00:03&lt;07:47, 170.12it/s]"
      }
     },
     "5d133cbe1e3745418fd4de7d10057d81": {
      "model_module": "@jupyter-widgets/controls",
      "model_module_version": "2.0.0",
      "model_name": "HTMLStyleModel",
      "state": {
       "description_width": "",
       "font_size": null,
       "text_color": null
      }
     },
     "5d35bca918564eefa9214e70dadc282b": {
      "model_module": "@jupyter-widgets/controls",
      "model_module_version": "2.0.0",
      "model_name": "ProgressStyleModel",
      "state": {
       "description_width": ""
      }
     },
     "5df8811f2a0b4f918ae37938975c8839": {
      "model_module": "@jupyter-widgets/base",
      "model_module_version": "2.0.0",
      "model_name": "LayoutModel",
      "state": {}
     },
     "605387443e7448088b71f16f8492c2a4": {
      "model_module": "@jupyter-widgets/base",
      "model_module_version": "2.0.0",
      "model_name": "LayoutModel",
      "state": {}
     },
     "60c63ed4872e4ad088edad5de5408c76": {
      "model_module": "@jupyter-widgets/base",
      "model_module_version": "2.0.0",
      "model_name": "LayoutModel",
      "state": {}
     },
     "62f4a2d5c08040e89847d3e645b2c692": {
      "model_module": "@jupyter-widgets/controls",
      "model_module_version": "2.0.0",
      "model_name": "HTMLModel",
      "state": {
       "layout": "IPY_MODEL_96d920f3132a42f980bfccf210155cce",
       "style": "IPY_MODEL_c076557c24c64fda91e574bf45796e95",
       "value": " 20000/20000 [01:37&lt;00:00, 212.46it/s]"
      }
     },
     "655e3589bf2342bf991e96bf9c553928": {
      "model_module": "@jupyter-widgets/controls",
      "model_module_version": "2.0.0",
      "model_name": "HTMLModel",
      "state": {
       "layout": "IPY_MODEL_835120c51e994594829fe1899b7f56b6",
       "style": "IPY_MODEL_a7e3e86ef7c9456baa6a38e2c0075c71",
       "value": "Train edges &amp; props: 100%"
      }
     },
     "66145223eb9f4b16a87e13def6600299": {
      "model_module": "@jupyter-widgets/controls",
      "model_module_version": "2.0.0",
      "model_name": "ProgressStyleModel",
      "state": {
       "description_width": ""
      }
     },
     "6778ad981d77450abd8dd03b585c6610": {
      "model_module": "@jupyter-widgets/controls",
      "model_module_version": "2.0.0",
      "model_name": "HBoxModel",
      "state": {
       "children": [
        "IPY_MODEL_28136d217b59467fa79864e94d2c88bf",
        "IPY_MODEL_eddca706a4714c558041c334a2fb4bef",
        "IPY_MODEL_acaa1bcc98254ba88c02d030c2da1dfd"
       ],
       "layout": "IPY_MODEL_e9b83679cd74475c911ce6bfd599408d"
      }
     },
     "67be7e225d334b8a8cdc087e2b448505": {
      "model_module": "@jupyter-widgets/controls",
      "model_module_version": "2.0.0",
      "model_name": "HTMLModel",
      "state": {
       "layout": "IPY_MODEL_10842ebb39604cdf8022780a6e76e679",
       "style": "IPY_MODEL_6dbfecebfe3f4179a8146cae72983aac",
       "value": "Train nodes: 100%"
      }
     },
     "69828e7138d14f23bdecb0661fa77670": {
      "model_module": "@jupyter-widgets/controls",
      "model_module_version": "2.0.0",
      "model_name": "HBoxModel",
      "state": {
       "children": [
        "IPY_MODEL_8bbac4057f1d46e99a9a01e974ee79b6",
        "IPY_MODEL_4948ba81b93b409d93fe0afe06b052f1",
        "IPY_MODEL_988de80060d1431384d5770191384059"
       ],
       "layout": "IPY_MODEL_d93a4234a78647748516d83ae7abd9e3"
      }
     },
     "6a890153fe5e4010b35d46651f3cbfed": {
      "model_module": "@jupyter-widgets/controls",
      "model_module_version": "2.0.0",
      "model_name": "HTMLStyleModel",
      "state": {
       "description_width": "",
       "font_size": null,
       "text_color": null
      }
     },
     "6a93e4a638544314a0cb8fe0cff490de": {
      "model_module": "@jupyter-widgets/base",
      "model_module_version": "2.0.0",
      "model_name": "LayoutModel",
      "state": {}
     },
     "6b44cb07e9914f4084b3f6f13a43230b": {
      "model_module": "@jupyter-widgets/controls",
      "model_module_version": "2.0.0",
      "model_name": "HTMLStyleModel",
      "state": {
       "description_width": "",
       "font_size": null,
       "text_color": null
      }
     },
     "6d2df7f6c1574cb785b3d34aefba5568": {
      "model_module": "@jupyter-widgets/base",
      "model_module_version": "2.0.0",
      "model_name": "LayoutModel",
      "state": {}
     },
     "6d60eef7b45c422892dd4b33fe990473": {
      "model_module": "@jupyter-widgets/controls",
      "model_module_version": "2.0.0",
      "model_name": "FloatProgressModel",
      "state": {
       "bar_style": "success",
       "layout": "IPY_MODEL_e34f7695e06445479f11f481dfd06dc6",
       "max": 80000,
       "style": "IPY_MODEL_571265a0a42b45eda8324fdc7134b880",
       "value": 80000
      }
     },
     "6dbfecebfe3f4179a8146cae72983aac": {
      "model_module": "@jupyter-widgets/controls",
      "model_module_version": "2.0.0",
      "model_name": "HTMLStyleModel",
      "state": {
       "description_width": "",
       "font_size": null,
       "text_color": null
      }
     },
     "6e23ce808ffd49a092dae0ce38e716a3": {
      "model_module": "@jupyter-widgets/controls",
      "model_module_version": "2.0.0",
      "model_name": "FloatProgressModel",
      "state": {
       "bar_style": "success",
       "layout": "IPY_MODEL_81789e548378466cbbd00eeda32a581d",
       "max": 20000,
       "style": "IPY_MODEL_f21139118cc945caadf7e00983d3046e",
       "value": 20000
      }
     },
     "6f203c4be69c44ee904a1016acf4b6af": {
      "model_module": "@jupyter-widgets/controls",
      "model_module_version": "2.0.0",
      "model_name": "HTMLStyleModel",
      "state": {
       "description_width": "",
       "font_size": null,
       "text_color": null
      }
     },
     "6f3f152190b241a6a094165451ca234e": {
      "model_module": "@jupyter-widgets/controls",
      "model_module_version": "2.0.0",
      "model_name": "HTMLModel",
      "state": {
       "layout": "IPY_MODEL_5236262a415d48c29a8b131aca707507",
       "style": "IPY_MODEL_4594f1d52aa243459cc33a0d932c4ef3",
       "value": " 80000/80000 [01:56&lt;00:00, 637.81it/s]"
      }
     },
     "70325c29d65940ffa1c4f31f31e1f0e5": {
      "model_module": "@jupyter-widgets/controls",
      "model_module_version": "2.0.0",
      "model_name": "HTMLStyleModel",
      "state": {
       "description_width": "",
       "font_size": null,
       "text_color": null
      }
     },
     "708de97038ee471583d5a2680dc65f7c": {
      "model_module": "@jupyter-widgets/controls",
      "model_module_version": "2.0.0",
      "model_name": "HBoxModel",
      "state": {
       "children": [
        "IPY_MODEL_0388ba57adfd4d818cba421b28e6b4e9",
        "IPY_MODEL_6d60eef7b45c422892dd4b33fe990473",
        "IPY_MODEL_b408de2c16a049fe9acd130a971ccf07"
       ],
       "layout": "IPY_MODEL_af56720a59dd4e7d85be4105e851c5c2"
      }
     },
     "72732f6c008e4bbea45cfb215b361a62": {
      "model_module": "@jupyter-widgets/base",
      "model_module_version": "2.0.0",
      "model_name": "LayoutModel",
      "state": {}
     },
     "74dd5cc3a15c43c7bfffe19dcc65def4": {
      "model_module": "@jupyter-widgets/controls",
      "model_module_version": "2.0.0",
      "model_name": "HTMLModel",
      "state": {
       "layout": "IPY_MODEL_833f4248d5554b3db6027250c7cb3bf1",
       "style": "IPY_MODEL_1a90d81cebd54be1b5230505b69e8cb7",
       "value": " 80000/80000 [00:03&lt;00:00, 27686.19it/s]"
      }
     },
     "753c3c7bd96841a6aa008e77e320872e": {
      "model_module": "@jupyter-widgets/controls",
      "model_module_version": "2.0.0",
      "model_name": "HTMLStyleModel",
      "state": {
       "description_width": "",
       "font_size": null,
       "text_color": null
      }
     },
     "78a83669190c48d7865113b4f942b3b5": {
      "model_module": "@jupyter-widgets/base",
      "model_module_version": "2.0.0",
      "model_name": "LayoutModel",
      "state": {}
     },
     "78f6be15e17d4178b8dc1fbe09dd1cc8": {
      "model_module": "@jupyter-widgets/base",
      "model_module_version": "2.0.0",
      "model_name": "LayoutModel",
      "state": {}
     },
     "794f50f59b7d423cadbad3394f539d5f": {
      "model_module": "@jupyter-widgets/controls",
      "model_module_version": "2.0.0",
      "model_name": "HBoxModel",
      "state": {
       "children": [
        "IPY_MODEL_43c0697b19e84ee1b400f12237f568cf",
        "IPY_MODEL_04d0185e067f46d6a167e7e885b141e9",
        "IPY_MODEL_6f3f152190b241a6a094165451ca234e"
       ],
       "layout": "IPY_MODEL_d127d695fc1a43ebb56cd2281753f86e"
      }
     },
     "7aae2845b29a4b63b056556a39e4e5b4": {
      "model_module": "@jupyter-widgets/base",
      "model_module_version": "2.0.0",
      "model_name": "LayoutModel",
      "state": {}
     },
     "7add3496af3f4aa7a8a041289f66269a": {
      "model_module": "@jupyter-widgets/base",
      "model_module_version": "2.0.0",
      "model_name": "LayoutModel",
      "state": {}
     },
     "7c5a29eb279a4ed793ec5dedbdce789a": {
      "model_module": "@jupyter-widgets/base",
      "model_module_version": "2.0.0",
      "model_name": "LayoutModel",
      "state": {}
     },
     "7c8f5f3e23c54f50a7d0b3fff587d637": {
      "model_module": "@jupyter-widgets/base",
      "model_module_version": "2.0.0",
      "model_name": "LayoutModel",
      "state": {}
     },
     "7d1ee5c4f1ac467ebe3bb81d7b137a1b": {
      "model_module": "@jupyter-widgets/base",
      "model_module_version": "2.0.0",
      "model_name": "LayoutModel",
      "state": {}
     },
     "7d744f7d0fdd4bab8dc1348a07d216e1": {
      "model_module": "@jupyter-widgets/base",
      "model_module_version": "2.0.0",
      "model_name": "LayoutModel",
      "state": {}
     },
     "7e2b1ddd1d3647679d43c913864ce08c": {
      "model_module": "@jupyter-widgets/base",
      "model_module_version": "2.0.0",
      "model_name": "LayoutModel",
      "state": {}
     },
     "7f297c5b7b6c431d802dd87327f05cad": {
      "model_module": "@jupyter-widgets/controls",
      "model_module_version": "2.0.0",
      "model_name": "HBoxModel",
      "state": {
       "children": [
        "IPY_MODEL_caf248c658b846759e4a0a2d92ca6d07",
        "IPY_MODEL_542c645fa4654df7bbc8d372973e3390",
        "IPY_MODEL_62f4a2d5c08040e89847d3e645b2c692"
       ],
       "layout": "IPY_MODEL_87fa7a5b222c4deb89a90901e971d6a3"
      }
     },
     "80d87f6037e145b28e17c7d343d4b2ab": {
      "model_module": "@jupyter-widgets/base",
      "model_module_version": "2.0.0",
      "model_name": "LayoutModel",
      "state": {}
     },
     "816616e75c454a679aa749691ca27e43": {
      "model_module": "@jupyter-widgets/controls",
      "model_module_version": "2.0.0",
      "model_name": "HTMLModel",
      "state": {
       "layout": "IPY_MODEL_1414779947aa47e8a5bd28f1e213fc6c",
       "style": "IPY_MODEL_8d6e2f0a539249ddaac3de4bfc62765e",
       "value": " 80000/80000 [00:21&lt;00:00, 4110.79it/s]"
      }
     },
     "81789e548378466cbbd00eeda32a581d": {
      "model_module": "@jupyter-widgets/base",
      "model_module_version": "2.0.0",
      "model_name": "LayoutModel",
      "state": {}
     },
     "817b49e895ba4e6cbe657480f0cd0b8b": {
      "model_module": "@jupyter-widgets/controls",
      "model_module_version": "2.0.0",
      "model_name": "HTMLStyleModel",
      "state": {
       "description_width": "",
       "font_size": null,
       "text_color": null
      }
     },
     "82e937da0dc04d2aab3ed34c47913f1e": {
      "model_module": "@jupyter-widgets/controls",
      "model_module_version": "2.0.0",
      "model_name": "ProgressStyleModel",
      "state": {
       "description_width": ""
      }
     },
     "833f4248d5554b3db6027250c7cb3bf1": {
      "model_module": "@jupyter-widgets/base",
      "model_module_version": "2.0.0",
      "model_name": "LayoutModel",
      "state": {}
     },
     "835120c51e994594829fe1899b7f56b6": {
      "model_module": "@jupyter-widgets/base",
      "model_module_version": "2.0.0",
      "model_name": "LayoutModel",
      "state": {}
     },
     "83878ad41b4449449cb03ba379f73a29": {
      "model_module": "@jupyter-widgets/controls",
      "model_module_version": "2.0.0",
      "model_name": "FloatProgressModel",
      "state": {
       "bar_style": "success",
       "layout": "IPY_MODEL_b2f8b506cc4a4e42828c37e5bad160d2",
       "max": 20000,
       "style": "IPY_MODEL_f35e23795d3941319cc7a34c42a07c0f",
       "value": 20000
      }
     },
     "83dfa710797c4d9fb4beb5dfd1a7b364": {
      "model_module": "@jupyter-widgets/controls",
      "model_module_version": "2.0.0",
      "model_name": "HTMLModel",
      "state": {
       "layout": "IPY_MODEL_fc36844bfea54d4783233cecd3839e17",
       "style": "IPY_MODEL_0596a653c83e4e0695af85e47255343a",
       "value": " 80000/80000 [01:09&lt;00:00, 1129.36it/s]"
      }
     },
     "83e7251e40f246b5bfd21af440b8351d": {
      "model_module": "@jupyter-widgets/controls",
      "model_module_version": "2.0.0",
      "model_name": "HBoxModel",
      "state": {
       "children": [
        "IPY_MODEL_40649a16f0bc4fa5a6934ca0ffd19cd1",
        "IPY_MODEL_c2f9223a35b743b3b136d350fda47d89",
        "IPY_MODEL_83dfa710797c4d9fb4beb5dfd1a7b364"
       ],
       "layout": "IPY_MODEL_8999971744394faf9fd43ac81b161c5b"
      }
     },
     "83f5ee7f4a1748439b42ac6a1e8782c3": {
      "model_module": "@jupyter-widgets/controls",
      "model_module_version": "2.0.0",
      "model_name": "HBoxModel",
      "state": {
       "children": [
        "IPY_MODEL_84d596b1a68d4348897c3e98d0c59d7b",
        "IPY_MODEL_ac77f5d06b83414f9d0739b78051f96a",
        "IPY_MODEL_2acc27e30ece455cba81311977a4709d"
       ],
       "layout": "IPY_MODEL_492159b93852429fa38da722bb20aa3b"
      }
     },
     "84d596b1a68d4348897c3e98d0c59d7b": {
      "model_module": "@jupyter-widgets/controls",
      "model_module_version": "2.0.0",
      "model_name": "HTMLModel",
      "state": {
       "layout": "IPY_MODEL_7c8f5f3e23c54f50a7d0b3fff587d637",
       "style": "IPY_MODEL_33c5e24b00d14a69ad3a2eb1457269ba",
       "value": "Test nodes: 100%"
      }
     },
     "872d5a17d7c34d74b4644b3a94f56ba0": {
      "model_module": "@jupyter-widgets/controls",
      "model_module_version": "2.0.0",
      "model_name": "HBoxModel",
      "state": {
       "children": [
        "IPY_MODEL_92876d4d86114f5f81d8d6d87b1542b6",
        "IPY_MODEL_976abf06c8e54479b7f0e9a28a2cae62",
        "IPY_MODEL_582d42ecd36044e3ad2cf0a9fe07e611"
       ],
       "layout": "IPY_MODEL_0ffbc2c011894371bb3fe18b9b38df72"
      }
     },
     "87aa50a4959c4b329ab689b945b39186": {
      "model_module": "@jupyter-widgets/controls",
      "model_module_version": "2.0.0",
      "model_name": "HTMLStyleModel",
      "state": {
       "description_width": "",
       "font_size": null,
       "text_color": null
      }
     },
     "87b1a9bd9df340f99688890486dcb119": {
      "model_module": "@jupyter-widgets/base",
      "model_module_version": "2.0.0",
      "model_name": "LayoutModel",
      "state": {}
     },
     "87de6946efdf47e6a5f1345357adb579": {
      "model_module": "@jupyter-widgets/base",
      "model_module_version": "2.0.0",
      "model_name": "LayoutModel",
      "state": {}
     },
     "87fa7a5b222c4deb89a90901e971d6a3": {
      "model_module": "@jupyter-widgets/base",
      "model_module_version": "2.0.0",
      "model_name": "LayoutModel",
      "state": {}
     },
     "8999971744394faf9fd43ac81b161c5b": {
      "model_module": "@jupyter-widgets/base",
      "model_module_version": "2.0.0",
      "model_name": "LayoutModel",
      "state": {}
     },
     "8a49baad2c7b442798d31e5b677a4491": {
      "model_module": "@jupyter-widgets/base",
      "model_module_version": "2.0.0",
      "model_name": "LayoutModel",
      "state": {}
     },
     "8bbac4057f1d46e99a9a01e974ee79b6": {
      "model_module": "@jupyter-widgets/controls",
      "model_module_version": "2.0.0",
      "model_name": "HTMLModel",
      "state": {
       "layout": "IPY_MODEL_225ecbb5c772470db87077c990be06b0",
       "style": "IPY_MODEL_beb9ecc5dba0483c9786f1ae08f63599",
       "value": "Test nodes: 100%"
      }
     },
     "8bc3d3b3a4734feb8795faa783479201": {
      "model_module": "@jupyter-widgets/controls",
      "model_module_version": "2.0.0",
      "model_name": "HTMLStyleModel",
      "state": {
       "description_width": "",
       "font_size": null,
       "text_color": null
      }
     },
     "8be2b8d6c98541559570c7b5f79b7e6a": {
      "model_module": "@jupyter-widgets/base",
      "model_module_version": "2.0.0",
      "model_name": "LayoutModel",
      "state": {}
     },
     "8d6e2f0a539249ddaac3de4bfc62765e": {
      "model_module": "@jupyter-widgets/controls",
      "model_module_version": "2.0.0",
      "model_name": "HTMLStyleModel",
      "state": {
       "description_width": "",
       "font_size": null,
       "text_color": null
      }
     },
     "910a4014cdb542c2bbf798d978887ebb": {
      "model_module": "@jupyter-widgets/base",
      "model_module_version": "2.0.0",
      "model_name": "LayoutModel",
      "state": {}
     },
     "92876d4d86114f5f81d8d6d87b1542b6": {
      "model_module": "@jupyter-widgets/controls",
      "model_module_version": "2.0.0",
      "model_name": "HTMLModel",
      "state": {
       "layout": "IPY_MODEL_2f6776d22a934525b5e92a8f3acb0356",
       "style": "IPY_MODEL_d8faeaf08e36483488f59d237d73a24c",
       "value": "Train edges &amp; props: 100%"
      }
     },
     "932e28a5a09b4453b6979d462c0a26da": {
      "model_module": "@jupyter-widgets/base",
      "model_module_version": "2.0.0",
      "model_name": "LayoutModel",
      "state": {}
     },
     "9333a27e21aa45e39f0472c989ca941c": {
      "model_module": "@jupyter-widgets/controls",
      "model_module_version": "2.0.0",
      "model_name": "HTMLStyleModel",
      "state": {
       "description_width": "",
       "font_size": null,
       "text_color": null
      }
     },
     "945731ab11f54a5aa8085dbab8ceb4a7": {
      "model_module": "@jupyter-widgets/base",
      "model_module_version": "2.0.0",
      "model_name": "LayoutModel",
      "state": {}
     },
     "94741b840d0346268715784ef14dd87b": {
      "model_module": "@jupyter-widgets/base",
      "model_module_version": "2.0.0",
      "model_name": "LayoutModel",
      "state": {}
     },
     "94b01ba0084440d18f65e1cf7c920fb0": {
      "model_module": "@jupyter-widgets/base",
      "model_module_version": "2.0.0",
      "model_name": "LayoutModel",
      "state": {}
     },
     "94ce6b3256b24c00a784427dda1940d4": {
      "model_module": "@jupyter-widgets/base",
      "model_module_version": "2.0.0",
      "model_name": "LayoutModel",
      "state": {}
     },
     "96100c08bafa4876badda39cae1836dd": {
      "model_module": "@jupyter-widgets/base",
      "model_module_version": "2.0.0",
      "model_name": "LayoutModel",
      "state": {}
     },
     "96d920f3132a42f980bfccf210155cce": {
      "model_module": "@jupyter-widgets/base",
      "model_module_version": "2.0.0",
      "model_name": "LayoutModel",
      "state": {}
     },
     "971d356ce0d94c70a19101685cbf0b78": {
      "model_module": "@jupyter-widgets/controls",
      "model_module_version": "2.0.0",
      "model_name": "HTMLStyleModel",
      "state": {
       "description_width": "",
       "font_size": null,
       "text_color": null
      }
     },
     "976abf06c8e54479b7f0e9a28a2cae62": {
      "model_module": "@jupyter-widgets/controls",
      "model_module_version": "2.0.0",
      "model_name": "FloatProgressModel",
      "state": {
       "bar_style": "success",
       "layout": "IPY_MODEL_ef9e310cdc0641d8bfad8bc6df338ccf",
       "max": 80000,
       "style": "IPY_MODEL_107f7631ee5a4ad285aade6a8a6237d6",
       "value": 80000
      }
     },
     "988cc01a7e0344fbb225a57baeecec45": {
      "model_module": "@jupyter-widgets/base",
      "model_module_version": "2.0.0",
      "model_name": "LayoutModel",
      "state": {}
     },
     "988de80060d1431384d5770191384059": {
      "model_module": "@jupyter-widgets/controls",
      "model_module_version": "2.0.0",
      "model_name": "HTMLModel",
      "state": {
       "layout": "IPY_MODEL_f17d117e22fc489491164c76ad184608",
       "style": "IPY_MODEL_38c4b47c11e94efc99ba9cf01992c7da",
       "value": " 20000/20000 [00:02&lt;00:00, 8530.57it/s]"
      }
     },
     "993afd17b73240f58af65f42d199dcc1": {
      "model_module": "@jupyter-widgets/controls",
      "model_module_version": "2.0.0",
      "model_name": "FloatProgressModel",
      "state": {
       "layout": "IPY_MODEL_5df8811f2a0b4f918ae37938975c8839",
       "max": 3,
       "style": "IPY_MODEL_66145223eb9f4b16a87e13def6600299"
      }
     },
     "9a9e43a594ee42e2b2327e6ea5fcd6da": {
      "model_module": "@jupyter-widgets/controls",
      "model_module_version": "2.0.0",
      "model_name": "FloatProgressModel",
      "state": {
       "bar_style": "success",
       "layout": "IPY_MODEL_cee75973d42c4373badd94c73eb9cad5",
       "max": 20000,
       "style": "IPY_MODEL_0084804b85314eaf91fffb7ce43926fe",
       "value": 20000
      }
     },
     "9c6063c013d84b5d931fcaeeda4d10ff": {
      "model_module": "@jupyter-widgets/controls",
      "model_module_version": "2.0.0",
      "model_name": "HBoxModel",
      "state": {
       "children": [
        "IPY_MODEL_f86fb83beb4e4ce9804f59b706520036",
        "IPY_MODEL_1e3377814edb4dd18a54a98f19775377",
        "IPY_MODEL_a26fd34cfe464e8d850b5756dff5a1b8"
       ],
       "layout": "IPY_MODEL_7e2b1ddd1d3647679d43c913864ce08c"
      }
     },
     "9cb424dde23e4ad2baeee66b4e3058d9": {
      "model_module": "@jupyter-widgets/controls",
      "model_module_version": "2.0.0",
      "model_name": "HTMLModel",
      "state": {
       "layout": "IPY_MODEL_94741b840d0346268715784ef14dd87b",
       "style": "IPY_MODEL_38e038d742854e3dafc3891e05979c7b",
       "value": "Test nodes: 100%"
      }
     },
     "9e73a71c301348f58b73438bc23718bb": {
      "model_module": "@jupyter-widgets/base",
      "model_module_version": "2.0.0",
      "model_name": "LayoutModel",
      "state": {}
     },
     "9eea013926e34b9a943f262fd322509b": {
      "model_module": "@jupyter-widgets/base",
      "model_module_version": "2.0.0",
      "model_name": "LayoutModel",
      "state": {}
     },
     "a16d7561c8134499ab27edbdf46905a0": {
      "model_module": "@jupyter-widgets/base",
      "model_module_version": "2.0.0",
      "model_name": "LayoutModel",
      "state": {}
     },
     "a1c08003961842a087599affd05ddd9a": {
      "model_module": "@jupyter-widgets/controls",
      "model_module_version": "2.0.0",
      "model_name": "HBoxModel",
      "state": {
       "children": [
        "IPY_MODEL_c12a37c2e230477ba2830754aad9c07f",
        "IPY_MODEL_ffaac2afba44476da8d5a555b88e169c",
        "IPY_MODEL_2c15c5c1761441d0a9f16928b986153d"
       ],
       "layout": "IPY_MODEL_7add3496af3f4aa7a8a041289f66269a"
      }
     },
     "a26fd34cfe464e8d850b5756dff5a1b8": {
      "model_module": "@jupyter-widgets/controls",
      "model_module_version": "2.0.0",
      "model_name": "HTMLModel",
      "state": {
       "layout": "IPY_MODEL_932e28a5a09b4453b6979d462c0a26da",
       "style": "IPY_MODEL_f36132bd01e44903a94d4ccefe025586",
       "value": " 80000/80000 [03:50&lt;00:00, 375.12it/s]"
      }
     },
     "a4f666bf3d8c408ebb2012eeb50b352a": {
      "model_module": "@jupyter-widgets/controls",
      "model_module_version": "2.0.0",
      "model_name": "HBoxModel",
      "state": {
       "children": [
        "IPY_MODEL_e8eda920dd3948b08aa5b28ece091d3a",
        "IPY_MODEL_20834fa320ea4df79a7b843f64150c91",
        "IPY_MODEL_0889d675e84c4736808d3131713e4090"
       ],
       "layout": "IPY_MODEL_5a1066bba13447f0993b930d4d2e5e15"
      }
     },
     "a732ebdb0be84c9fbf4a469042d57f66": {
      "model_module": "@jupyter-widgets/controls",
      "model_module_version": "2.0.0",
      "model_name": "HTMLStyleModel",
      "state": {
       "description_width": "",
       "font_size": null,
       "text_color": null
      }
     },
     "a777d037c1e8494f95a7eaadab3d5bbf": {
      "model_module": "@jupyter-widgets/controls",
      "model_module_version": "2.0.0",
      "model_name": "FloatProgressModel",
      "state": {
       "bar_style": "success",
       "layout": "IPY_MODEL_e7b85dd277994ec3bbe3aa607a10abe7",
       "max": 20000,
       "style": "IPY_MODEL_f00398ce175247afa10fb9985bfd3490",
       "value": 20000
      }
     },
     "a7e3e86ef7c9456baa6a38e2c0075c71": {
      "model_module": "@jupyter-widgets/controls",
      "model_module_version": "2.0.0",
      "model_name": "HTMLStyleModel",
      "state": {
       "description_width": "",
       "font_size": null,
       "text_color": null
      }
     },
     "a8494b63abf342fe84e727539f43f087": {
      "model_module": "@jupyter-widgets/controls",
      "model_module_version": "2.0.0",
      "model_name": "ProgressStyleModel",
      "state": {
       "description_width": ""
      }
     },
     "a8c771a57d714b2c90a9007b1e7c2d34": {
      "model_module": "@jupyter-widgets/controls",
      "model_module_version": "2.0.0",
      "model_name": "HBoxModel",
      "state": {
       "children": [
        "IPY_MODEL_35c98185524d48d7851c7a523e7fa906",
        "IPY_MODEL_a777d037c1e8494f95a7eaadab3d5bbf",
        "IPY_MODEL_2e2b4b7370b746ed83f7eb22d828daf8"
       ],
       "layout": "IPY_MODEL_3f6a0077526d40858b0fcf4aa1e13a76"
      }
     },
     "a8e8433ca70747c5be51cec6746add47": {
      "model_module": "@jupyter-widgets/controls",
      "model_module_version": "2.0.0",
      "model_name": "HTMLStyleModel",
      "state": {
       "description_width": "",
       "font_size": null,
       "text_color": null
      }
     },
     "ac77f5d06b83414f9d0739b78051f96a": {
      "model_module": "@jupyter-widgets/controls",
      "model_module_version": "2.0.0",
      "model_name": "FloatProgressModel",
      "state": {
       "bar_style": "success",
       "layout": "IPY_MODEL_26e8af12ec8e4bd5a91a3b8b0973e0b4",
       "max": 20000,
       "style": "IPY_MODEL_e381a939bce148148fd115fcbccbb070",
       "value": 20000
      }
     },
     "ac7ed90128e04f48b0f3c5def3fac650": {
      "model_module": "@jupyter-widgets/controls",
      "model_module_version": "2.0.0",
      "model_name": "HTMLStyleModel",
      "state": {
       "description_width": "",
       "font_size": null,
       "text_color": null
      }
     },
     "acaa1bcc98254ba88c02d030c2da1dfd": {
      "model_module": "@jupyter-widgets/controls",
      "model_module_version": "2.0.0",
      "model_name": "HTMLModel",
      "state": {
       "layout": "IPY_MODEL_3398515cbdaa417095641b084934f16d",
       "style": "IPY_MODEL_db465e7f1b95479faf0267d8a7cca63a",
       "value": " 80000/80000 [00:12&lt;00:00, 6311.05it/s]"
      }
     },
     "acc2a2bfc9764b98b2e2bee69cd25872": {
      "model_module": "@jupyter-widgets/controls",
      "model_module_version": "2.0.0",
      "model_name": "ProgressStyleModel",
      "state": {
       "description_width": ""
      }
     },
     "ad34962f7d5a4c42899a32b5e6656498": {
      "model_module": "@jupyter-widgets/base",
      "model_module_version": "2.0.0",
      "model_name": "LayoutModel",
      "state": {}
     },
     "af56720a59dd4e7d85be4105e851c5c2": {
      "model_module": "@jupyter-widgets/base",
      "model_module_version": "2.0.0",
      "model_name": "LayoutModel",
      "state": {}
     },
     "afb9df34b00840d48479fc93c47004fc": {
      "model_module": "@jupyter-widgets/controls",
      "model_module_version": "2.0.0",
      "model_name": "ProgressStyleModel",
      "state": {
       "description_width": ""
      }
     },
     "b2f8b506cc4a4e42828c37e5bad160d2": {
      "model_module": "@jupyter-widgets/base",
      "model_module_version": "2.0.0",
      "model_name": "LayoutModel",
      "state": {}
     },
     "b408de2c16a049fe9acd130a971ccf07": {
      "model_module": "@jupyter-widgets/controls",
      "model_module_version": "2.0.0",
      "model_name": "HTMLModel",
      "state": {
       "layout": "IPY_MODEL_6d2df7f6c1574cb785b3d34aefba5568",
       "style": "IPY_MODEL_44103cb67d41448da254e464ce8896f8",
       "value": " 80000/80000 [00:09&lt;00:00, 9095.58it/s]"
      }
     },
     "b457c6e93adf404e911b6720106abb8d": {
      "model_module": "@jupyter-widgets/base",
      "model_module_version": "2.0.0",
      "model_name": "LayoutModel",
      "state": {}
     },
     "b7345ee6bf2e436ab4a04d4120f07573": {
      "model_module": "@jupyter-widgets/controls",
      "model_module_version": "2.0.0",
      "model_name": "ProgressStyleModel",
      "state": {
       "description_width": ""
      }
     },
     "b763bdbfc0d74e708cd8fe8e4835af2d": {
      "model_module": "@jupyter-widgets/controls",
      "model_module_version": "2.0.0",
      "model_name": "FloatProgressModel",
      "state": {
       "bar_style": "success",
       "layout": "IPY_MODEL_d43591848e3c4b91a60aeefcc85cfdc4",
       "max": 20000,
       "style": "IPY_MODEL_268e90937282496cafce20fd3ae74dd4",
       "value": 20000
      }
     },
     "ba3edb67ebce49d19251af0db4cb1c70": {
      "model_module": "@jupyter-widgets/controls",
      "model_module_version": "2.0.0",
      "model_name": "HBoxModel",
      "state": {
       "children": [
        "IPY_MODEL_d46df71f885a438f8033c7bfef046077",
        "IPY_MODEL_9a9e43a594ee42e2b2327e6ea5fcd6da",
        "IPY_MODEL_37c7739d2b5742abbdfc93c7f9ca207a"
       ],
       "layout": "IPY_MODEL_e0d8cfcb0a3542db9a40fff395b17388"
      }
     },
     "bacb29f464c64662aa9ed23ea56304fb": {
      "model_module": "@jupyter-widgets/controls",
      "model_module_version": "2.0.0",
      "model_name": "HBoxModel",
      "state": {
       "children": [
        "IPY_MODEL_655e3589bf2342bf991e96bf9c553928",
        "IPY_MODEL_5445e85537a54a699dca43c1ba7db531",
        "IPY_MODEL_03f77144a7ec4b5f9a2b9382d9809f09"
       ],
       "layout": "IPY_MODEL_ca0d96beed5648209dc361616ece6527"
      }
     },
     "bb56264c5ec84165bd241079c652a053": {
      "model_module": "@jupyter-widgets/base",
      "model_module_version": "2.0.0",
      "model_name": "LayoutModel",
      "state": {}
     },
     "bbedad672a27428bbfd90b2986417ac4": {
      "model_module": "@jupyter-widgets/controls",
      "model_module_version": "2.0.0",
      "model_name": "ProgressStyleModel",
      "state": {
       "description_width": ""
      }
     },
     "bc073e7182c84555a5f3aa82abe7c0ea": {
      "model_module": "@jupyter-widgets/base",
      "model_module_version": "2.0.0",
      "model_name": "LayoutModel",
      "state": {}
     },
     "bc0c8bd883c94e75a40b8b829eca6861": {
      "model_module": "@jupyter-widgets/base",
      "model_module_version": "2.0.0",
      "model_name": "LayoutModel",
      "state": {}
     },
     "be50b6c8d3764347b07032b5c11499a6": {
      "model_module": "@jupyter-widgets/controls",
      "model_module_version": "2.0.0",
      "model_name": "ProgressStyleModel",
      "state": {
       "description_width": ""
      }
     },
     "be6ed0601bba4881a62975a37bf78b0f": {
      "model_module": "@jupyter-widgets/base",
      "model_module_version": "2.0.0",
      "model_name": "LayoutModel",
      "state": {}
     },
     "beb9ecc5dba0483c9786f1ae08f63599": {
      "model_module": "@jupyter-widgets/controls",
      "model_module_version": "2.0.0",
      "model_name": "HTMLStyleModel",
      "state": {
       "description_width": "",
       "font_size": null,
       "text_color": null
      }
     },
     "bed604da2ab14831994e81a08fad65c4": {
      "model_module": "@jupyter-widgets/controls",
      "model_module_version": "2.0.0",
      "model_name": "HTMLModel",
      "state": {
       "layout": "IPY_MODEL_493b39de93bb4510be61d6f6dd4325f7",
       "style": "IPY_MODEL_6f203c4be69c44ee904a1016acf4b6af",
       "value": " 20000/20000 [00:04&lt;00:00, 3878.98it/s]"
      }
     },
     "bf8af4fd88614eeeb518c25d607aa251": {
      "model_module": "@jupyter-widgets/base",
      "model_module_version": "2.0.0",
      "model_name": "LayoutModel",
      "state": {}
     },
     "bfc7ac9cf26e42f98e01e2facfde3d17": {
      "model_module": "@jupyter-widgets/controls",
      "model_module_version": "2.0.0",
      "model_name": "HTMLStyleModel",
      "state": {
       "description_width": "",
       "font_size": null,
       "text_color": null
      }
     },
     "c076557c24c64fda91e574bf45796e95": {
      "model_module": "@jupyter-widgets/controls",
      "model_module_version": "2.0.0",
      "model_name": "HTMLStyleModel",
      "state": {
       "description_width": "",
       "font_size": null,
       "text_color": null
      }
     },
     "c12a37c2e230477ba2830754aad9c07f": {
      "model_module": "@jupyter-widgets/controls",
      "model_module_version": "2.0.0",
      "model_name": "HTMLModel",
      "state": {
       "layout": "IPY_MODEL_53baae64c2204277a27ddae544b189e3",
       "style": "IPY_MODEL_a732ebdb0be84c9fbf4a469042d57f66",
       "value": "Train nodes: 100%"
      }
     },
     "c1ddbf453aa34592b2b6baf657bd6785": {
      "model_module": "@jupyter-widgets/base",
      "model_module_version": "2.0.0",
      "model_name": "LayoutModel",
      "state": {}
     },
     "c2136ba560ce47a58bf5b58e0c78c8e9": {
      "model_module": "@jupyter-widgets/base",
      "model_module_version": "2.0.0",
      "model_name": "LayoutModel",
      "state": {}
     },
     "c2f9223a35b743b3b136d350fda47d89": {
      "model_module": "@jupyter-widgets/controls",
      "model_module_version": "2.0.0",
      "model_name": "FloatProgressModel",
      "state": {
       "bar_style": "success",
       "layout": "IPY_MODEL_5a45652ede134a498453a10b29f3b27a",
       "max": 80000,
       "style": "IPY_MODEL_1a84af47dfdd4cb789575dbdb67dc1cf",
       "value": 80000
      }
     },
     "c39108490e444174bb0d9e346ca889f0": {
      "model_module": "@jupyter-widgets/controls",
      "model_module_version": "2.0.0",
      "model_name": "HTMLStyleModel",
      "state": {
       "description_width": "",
       "font_size": null,
       "text_color": null
      }
     },
     "c3ebfbae58584e29ad61571a42735b13": {
      "model_module": "@jupyter-widgets/controls",
      "model_module_version": "2.0.0",
      "model_name": "HTMLModel",
      "state": {
       "layout": "IPY_MODEL_8a49baad2c7b442798d31e5b677a4491",
       "style": "IPY_MODEL_3d307a81110741a6a62ac4bfe56b1f3f",
       "value": "Board Sizes:  46%"
      }
     },
     "c42a687189024f089a6dc92ca6db52b8": {
      "model_module": "@jupyter-widgets/base",
      "model_module_version": "2.0.0",
      "model_name": "LayoutModel",
      "state": {}
     },
     "c494678b9cd046f995e3001e912ee220": {
      "model_module": "@jupyter-widgets/controls",
      "model_module_version": "2.0.0",
      "model_name": "FloatProgressModel",
      "state": {
       "bar_style": "success",
       "layout": "IPY_MODEL_96100c08bafa4876badda39cae1836dd",
       "max": 80000,
       "style": "IPY_MODEL_a8494b63abf342fe84e727539f43f087",
       "value": 80000
      }
     },
     "c577856cddca492180fa8dd018202bd3": {
      "model_module": "@jupyter-widgets/controls",
      "model_module_version": "2.0.0",
      "model_name": "HTMLModel",
      "state": {
       "layout": "IPY_MODEL_78f6be15e17d4178b8dc1fbe09dd1cc8",
       "style": "IPY_MODEL_70325c29d65940ffa1c4f31f31e1f0e5",
       "value": "Train edges &amp; props:   1%"
      }
     },
     "c6445a107bed452484d8161da2e2512f": {
      "model_module": "@jupyter-widgets/controls",
      "model_module_version": "2.0.0",
      "model_name": "ProgressStyleModel",
      "state": {
       "description_width": ""
      }
     },
     "c750514c82ff4657aa2691cd8f5279f5": {
      "model_module": "@jupyter-widgets/base",
      "model_module_version": "2.0.0",
      "model_name": "LayoutModel",
      "state": {}
     },
     "ca0d96beed5648209dc361616ece6527": {
      "model_module": "@jupyter-widgets/base",
      "model_module_version": "2.0.0",
      "model_name": "LayoutModel",
      "state": {}
     },
     "ca4683e25d2f4a6d9f068f7645150e35": {
      "model_module": "@jupyter-widgets/base",
      "model_module_version": "2.0.0",
      "model_name": "LayoutModel",
      "state": {}
     },
     "caf248c658b846759e4a0a2d92ca6d07": {
      "model_module": "@jupyter-widgets/controls",
      "model_module_version": "2.0.0",
      "model_name": "HTMLModel",
      "state": {
       "layout": "IPY_MODEL_80d87f6037e145b28e17c7d343d4b2ab",
       "style": "IPY_MODEL_1dba861ae1cd43788d2e352a72e1ca33",
       "value": "Test edges &amp; props: 100%"
      }
     },
     "ce3313bc49d84a26865b5159013bbd71": {
      "model_module": "@jupyter-widgets/base",
      "model_module_version": "2.0.0",
      "model_name": "LayoutModel",
      "state": {}
     },
     "cee75973d42c4373badd94c73eb9cad5": {
      "model_module": "@jupyter-widgets/base",
      "model_module_version": "2.0.0",
      "model_name": "LayoutModel",
      "state": {}
     },
     "ceff3c880fac43f4b0cc9ea42f968bc3": {
      "model_module": "@jupyter-widgets/base",
      "model_module_version": "2.0.0",
      "model_name": "LayoutModel",
      "state": {}
     },
     "d07bfae4f47d44ddade5b2afa16a90ce": {
      "model_module": "@jupyter-widgets/controls",
      "model_module_version": "2.0.0",
      "model_name": "HBoxModel",
      "state": {
       "children": [
        "IPY_MODEL_e40e7a5918a5461081ea4b50a13597af",
        "IPY_MODEL_17705fd592e54b5397d56bdeb237f1d6",
        "IPY_MODEL_3e25e0f716cb4bcf899a018527b9ab0a"
       ],
       "layout": "IPY_MODEL_57e0e1f07f844b63992160a0c4d452db"
      }
     },
     "d127d695fc1a43ebb56cd2281753f86e": {
      "model_module": "@jupyter-widgets/base",
      "model_module_version": "2.0.0",
      "model_name": "LayoutModel",
      "state": {}
     },
     "d1679e3161f54b729c5b4e65b4f18efc": {
      "model_module": "@jupyter-widgets/controls",
      "model_module_version": "2.0.0",
      "model_name": "HTMLStyleModel",
      "state": {
       "description_width": "",
       "font_size": null,
       "text_color": null
      }
     },
     "d3655dcb64fd45d39eda77d56e965d10": {
      "model_module": "@jupyter-widgets/controls",
      "model_module_version": "2.0.0",
      "model_name": "HTMLModel",
      "state": {
       "layout": "IPY_MODEL_b457c6e93adf404e911b6720106abb8d",
       "style": "IPY_MODEL_1e1cdaae042941abb0aad9496cde3c10",
       "value": " 20000/20000 [00:44&lt;00:00, 466.46it/s]"
      }
     },
     "d43591848e3c4b91a60aeefcc85cfdc4": {
      "model_module": "@jupyter-widgets/base",
      "model_module_version": "2.0.0",
      "model_name": "LayoutModel",
      "state": {}
     },
     "d46df71f885a438f8033c7bfef046077": {
      "model_module": "@jupyter-widgets/controls",
      "model_module_version": "2.0.0",
      "model_name": "HTMLModel",
      "state": {
       "layout": "IPY_MODEL_bb56264c5ec84165bd241079c652a053",
       "style": "IPY_MODEL_5d133cbe1e3745418fd4de7d10057d81",
       "value": "Test edges &amp; props: 100%"
      }
     },
     "d4c8f9753d3a4ae9b549c72e46a8d88d": {
      "model_module": "@jupyter-widgets/base",
      "model_module_version": "2.0.0",
      "model_name": "LayoutModel",
      "state": {}
     },
     "d57025070c8e47709104104e4efc8dda": {
      "model_module": "@jupyter-widgets/controls",
      "model_module_version": "2.0.0",
      "model_name": "FloatProgressModel",
      "state": {
       "bar_style": "success",
       "layout": "IPY_MODEL_141aa43051754052bb7acb6778727ff8",
       "max": 80000,
       "style": "IPY_MODEL_afb9df34b00840d48479fc93c47004fc",
       "value": 80000
      }
     },
     "d70e6488d92749a6bb00c3eba0f56567": {
      "model_module": "@jupyter-widgets/controls",
      "model_module_version": "2.0.0",
      "model_name": "ProgressStyleModel",
      "state": {
       "description_width": ""
      }
     },
     "d7555d1bfced426992ffdff7cab6c7f5": {
      "model_module": "@jupyter-widgets/base",
      "model_module_version": "2.0.0",
      "model_name": "LayoutModel",
      "state": {}
     },
     "d80813973773419e8758bd35213e2ed0": {
      "model_module": "@jupyter-widgets/base",
      "model_module_version": "2.0.0",
      "model_name": "LayoutModel",
      "state": {}
     },
     "d809a220bc194d8f9f300101e59ac109": {
      "model_module": "@jupyter-widgets/controls",
      "model_module_version": "2.0.0",
      "model_name": "HTMLStyleModel",
      "state": {
       "description_width": "",
       "font_size": null,
       "text_color": null
      }
     },
     "d8aa5c9130304bf290ff3d761fcd4501": {
      "model_module": "@jupyter-widgets/controls",
      "model_module_version": "2.0.0",
      "model_name": "HTMLStyleModel",
      "state": {
       "description_width": "",
       "font_size": null,
       "text_color": null
      }
     },
     "d8faeaf08e36483488f59d237d73a24c": {
      "model_module": "@jupyter-widgets/controls",
      "model_module_version": "2.0.0",
      "model_name": "HTMLStyleModel",
      "state": {
       "description_width": "",
       "font_size": null,
       "text_color": null
      }
     },
     "d93a4234a78647748516d83ae7abd9e3": {
      "model_module": "@jupyter-widgets/base",
      "model_module_version": "2.0.0",
      "model_name": "LayoutModel",
      "state": {}
     },
     "d9d839d26b4c40d68b2a3955fd6e4151": {
      "model_module": "@jupyter-widgets/base",
      "model_module_version": "2.0.0",
      "model_name": "LayoutModel",
      "state": {}
     },
     "db465e7f1b95479faf0267d8a7cca63a": {
      "model_module": "@jupyter-widgets/controls",
      "model_module_version": "2.0.0",
      "model_name": "HTMLStyleModel",
      "state": {
       "description_width": "",
       "font_size": null,
       "text_color": null
      }
     },
     "dc2108a32e7043de88ec48d307389c70": {
      "model_module": "@jupyter-widgets/base",
      "model_module_version": "2.0.0",
      "model_name": "LayoutModel",
      "state": {}
     },
     "dfab784afbc440b7895cc7d4daca4f16": {
      "model_module": "@jupyter-widgets/controls",
      "model_module_version": "2.0.0",
      "model_name": "HTMLStyleModel",
      "state": {
       "description_width": "",
       "font_size": null,
       "text_color": null
      }
     },
     "e0d8cfcb0a3542db9a40fff395b17388": {
      "model_module": "@jupyter-widgets/base",
      "model_module_version": "2.0.0",
      "model_name": "LayoutModel",
      "state": {}
     },
     "e297ab35995c424bb796ac7ff9c8d7cd": {
      "model_module": "@jupyter-widgets/controls",
      "model_module_version": "2.0.0",
      "model_name": "FloatProgressModel",
      "state": {
       "bar_style": "success",
       "layout": "IPY_MODEL_d9d839d26b4c40d68b2a3955fd6e4151",
       "max": 20000,
       "style": "IPY_MODEL_5a1bb61088574ecaa8f262642720e494",
       "value": 20000
      }
     },
     "e34f7695e06445479f11f481dfd06dc6": {
      "model_module": "@jupyter-widgets/base",
      "model_module_version": "2.0.0",
      "model_name": "LayoutModel",
      "state": {}
     },
     "e381a939bce148148fd115fcbccbb070": {
      "model_module": "@jupyter-widgets/controls",
      "model_module_version": "2.0.0",
      "model_name": "ProgressStyleModel",
      "state": {
       "description_width": ""
      }
     },
     "e40e7a5918a5461081ea4b50a13597af": {
      "model_module": "@jupyter-widgets/controls",
      "model_module_version": "2.0.0",
      "model_name": "HTMLModel",
      "state": {
       "layout": "IPY_MODEL_09deff289aaf4496a94df38f5d1d1b13",
       "style": "IPY_MODEL_d1679e3161f54b729c5b4e65b4f18efc",
       "value": "Test edges &amp; props: 100%"
      }
     },
     "e7b85dd277994ec3bbe3aa607a10abe7": {
      "model_module": "@jupyter-widgets/base",
      "model_module_version": "2.0.0",
      "model_name": "LayoutModel",
      "state": {}
     },
     "e7e5d520743946db833470937ad1d5d2": {
      "model_module": "@jupyter-widgets/controls",
      "model_module_version": "2.0.0",
      "model_name": "HTMLModel",
      "state": {
       "layout": "IPY_MODEL_87b1a9bd9df340f99688890486dcb119",
       "style": "IPY_MODEL_817b49e895ba4e6cbe657480f0cd0b8b",
       "value": "Train edges &amp; props: 100%"
      }
     },
     "e8eda920dd3948b08aa5b28ece091d3a": {
      "model_module": "@jupyter-widgets/controls",
      "model_module_version": "2.0.0",
      "model_name": "HTMLModel",
      "state": {
       "layout": "IPY_MODEL_c1ddbf453aa34592b2b6baf657bd6785",
       "style": "IPY_MODEL_dfab784afbc440b7895cc7d4daca4f16",
       "value": "Train nodes: 100%"
      }
     },
     "e9492a40ed154d2492eb0cdbe7706dbd": {
      "model_module": "@jupyter-widgets/controls",
      "model_module_version": "2.0.0",
      "model_name": "HBoxModel",
      "state": {
       "children": [
        "IPY_MODEL_67be7e225d334b8a8cdc087e2b448505",
        "IPY_MODEL_2b02d0de6bc5493da681bc1288440abc",
        "IPY_MODEL_816616e75c454a679aa749691ca27e43"
       ],
       "layout": "IPY_MODEL_87de6946efdf47e6a5f1345357adb579"
      }
     },
     "e9b83679cd74475c911ce6bfd599408d": {
      "model_module": "@jupyter-widgets/base",
      "model_module_version": "2.0.0",
      "model_name": "LayoutModel",
      "state": {}
     },
     "ea81bf51b8ec440bbced929456708589": {
      "model_module": "@jupyter-widgets/controls",
      "model_module_version": "2.0.0",
      "model_name": "HTMLStyleModel",
      "state": {
       "description_width": "",
       "font_size": null,
       "text_color": null
      }
     },
     "ec63a6dc441d494eb8b7fcae5f1da23a": {
      "model_module": "@jupyter-widgets/controls",
      "model_module_version": "2.0.0",
      "model_name": "HBoxModel",
      "state": {
       "children": [
        "IPY_MODEL_9cb424dde23e4ad2baeee66b4e3058d9",
        "IPY_MODEL_6e23ce808ffd49a092dae0ce38e716a3",
        "IPY_MODEL_bed604da2ab14831994e81a08fad65c4"
       ],
       "layout": "IPY_MODEL_c750514c82ff4657aa2691cd8f5279f5"
      }
     },
     "eca9ae2ff4e9408dbafc7745d0f63ba8": {
      "model_module": "@jupyter-widgets/controls",
      "model_module_version": "2.0.0",
      "model_name": "HTMLStyleModel",
      "state": {
       "description_width": "",
       "font_size": null,
       "text_color": null
      }
     },
     "eddca706a4714c558041c334a2fb4bef": {
      "model_module": "@jupyter-widgets/controls",
      "model_module_version": "2.0.0",
      "model_name": "FloatProgressModel",
      "state": {
       "bar_style": "success",
       "layout": "IPY_MODEL_9e73a71c301348f58b73438bc23718bb",
       "max": 80000,
       "style": "IPY_MODEL_bbedad672a27428bbfd90b2986417ac4",
       "value": 80000
      }
     },
     "ef9e310cdc0641d8bfad8bc6df338ccf": {
      "model_module": "@jupyter-widgets/base",
      "model_module_version": "2.0.0",
      "model_name": "LayoutModel",
      "state": {}
     },
     "f00398ce175247afa10fb9985bfd3490": {
      "model_module": "@jupyter-widgets/controls",
      "model_module_version": "2.0.0",
      "model_name": "ProgressStyleModel",
      "state": {
       "description_width": ""
      }
     },
     "f0d270e1d9ce4c2086061c3c67382226": {
      "model_module": "@jupyter-widgets/controls",
      "model_module_version": "2.0.0",
      "model_name": "HTMLModel",
      "state": {
       "layout": "IPY_MODEL_ce3313bc49d84a26865b5159013bbd71",
       "style": "IPY_MODEL_f261bdc498694e6e96848c604d04bf8e",
       "value": " 20000/20000 [01:16&lt;00:00, 267.62it/s]"
      }
     },
     "f0fb55617acb4edb89e9f145e68d4c79": {
      "model_module": "@jupyter-widgets/controls",
      "model_module_version": "2.0.0",
      "model_name": "HTMLStyleModel",
      "state": {
       "description_width": "",
       "font_size": null,
       "text_color": null
      }
     },
     "f17d117e22fc489491164c76ad184608": {
      "model_module": "@jupyter-widgets/base",
      "model_module_version": "2.0.0",
      "model_name": "LayoutModel",
      "state": {}
     },
     "f21139118cc945caadf7e00983d3046e": {
      "model_module": "@jupyter-widgets/controls",
      "model_module_version": "2.0.0",
      "model_name": "ProgressStyleModel",
      "state": {
       "description_width": ""
      }
     },
     "f261bdc498694e6e96848c604d04bf8e": {
      "model_module": "@jupyter-widgets/controls",
      "model_module_version": "2.0.0",
      "model_name": "HTMLStyleModel",
      "state": {
       "description_width": "",
       "font_size": null,
       "text_color": null
      }
     },
     "f317bfa9e54c4c3e87b475c22b403d67": {
      "model_module": "@jupyter-widgets/controls",
      "model_module_version": "2.0.0",
      "model_name": "HBoxModel",
      "state": {
       "children": [
        "IPY_MODEL_4c68f01fd1c24bdbbdfdf88c57f676a1",
        "IPY_MODEL_03412730608c445e8cccd99dda27c29a",
        "IPY_MODEL_d3655dcb64fd45d39eda77d56e965d10"
       ],
       "layout": "IPY_MODEL_6a93e4a638544314a0cb8fe0cff490de"
      }
     },
     "f35e23795d3941319cc7a34c42a07c0f": {
      "model_module": "@jupyter-widgets/controls",
      "model_module_version": "2.0.0",
      "model_name": "ProgressStyleModel",
      "state": {
       "description_width": ""
      }
     },
     "f36132bd01e44903a94d4ccefe025586": {
      "model_module": "@jupyter-widgets/controls",
      "model_module_version": "2.0.0",
      "model_name": "HTMLStyleModel",
      "state": {
       "description_width": "",
       "font_size": null,
       "text_color": null
      }
     },
     "f38acedd768241a2ba7a93e96db133d8": {
      "model_module": "@jupyter-widgets/controls",
      "model_module_version": "2.0.0",
      "model_name": "HTMLStyleModel",
      "state": {
       "description_width": "",
       "font_size": null,
       "text_color": null
      }
     },
     "f4d7aa6bfd3e4d86965b85063f58fc89": {
      "model_module": "@jupyter-widgets/controls",
      "model_module_version": "2.0.0",
      "model_name": "HBoxModel",
      "state": {
       "children": [
        "IPY_MODEL_f9937c3bcb7b4831ba4431a4c211328e",
        "IPY_MODEL_993afd17b73240f58af65f42d199dcc1",
        "IPY_MODEL_4285dcc511ca4ddbaf6ebcf26b1020d9"
       ],
       "layout": "IPY_MODEL_0f60693fcdde4dca96e3aa3d75eee274"
      }
     },
     "f5679c470cb749b28252b17c526e126b": {
      "model_module": "@jupyter-widgets/controls",
      "model_module_version": "2.0.0",
      "model_name": "HTMLModel",
      "state": {
       "layout": "IPY_MODEL_0e9418c267f2424d99c3910a3b4fb1e1",
       "style": "IPY_MODEL_ea81bf51b8ec440bbced929456708589",
       "value": " 20000/20000 [00:01&lt;00:00, 18007.54it/s]"
      }
     },
     "f61d191486d44818a728633522e8d92b": {
      "model_module": "@jupyter-widgets/controls",
      "model_module_version": "2.0.0",
      "model_name": "HTMLStyleModel",
      "state": {
       "description_width": "",
       "font_size": null,
       "text_color": null
      }
     },
     "f7382f8601a447c48a6dab36736901ee": {
      "model_module": "@jupyter-widgets/controls",
      "model_module_version": "2.0.0",
      "model_name": "HTMLStyleModel",
      "state": {
       "description_width": "",
       "font_size": null,
       "text_color": null
      }
     },
     "f7d1a2fffc1d4dbf909e995163962a1b": {
      "model_module": "@jupyter-widgets/base",
      "model_module_version": "2.0.0",
      "model_name": "LayoutModel",
      "state": {}
     },
     "f86fb83beb4e4ce9804f59b706520036": {
      "model_module": "@jupyter-widgets/controls",
      "model_module_version": "2.0.0",
      "model_name": "HTMLModel",
      "state": {
       "layout": "IPY_MODEL_72732f6c008e4bbea45cfb215b361a62",
       "style": "IPY_MODEL_01a9d45244a3404bb219775acb2566ca",
       "value": "Train edges &amp; props: 100%"
      }
     },
     "f928f3c436de47bfb52600cbc8a989f7": {
      "model_module": "@jupyter-widgets/controls",
      "model_module_version": "2.0.0",
      "model_name": "HBoxModel",
      "state": {
       "children": [
        "IPY_MODEL_174a308343e84658b335f760dd19391a",
        "IPY_MODEL_83878ad41b4449449cb03ba379f73a29",
        "IPY_MODEL_3d92ba7254ec4aba8d254c2c6fca1044"
       ],
       "layout": "IPY_MODEL_be6ed0601bba4881a62975a37bf78b0f"
      }
     },
     "f9937c3bcb7b4831ba4431a4c211328e": {
      "model_module": "@jupyter-widgets/controls",
      "model_module_version": "2.0.0",
      "model_name": "HTMLModel",
      "state": {
       "layout": "IPY_MODEL_910a4014cdb542c2bbf798d978887ebb",
       "style": "IPY_MODEL_753c3c7bd96841a6aa008e77e320872e",
       "value": "Moves Before:   0%"
      }
     },
     "fb072ba04f68487c8f4c35a78cf06d97": {
      "model_module": "@jupyter-widgets/base",
      "model_module_version": "2.0.0",
      "model_name": "LayoutModel",
      "state": {}
     },
     "fc36844bfea54d4783233cecd3839e17": {
      "model_module": "@jupyter-widgets/base",
      "model_module_version": "2.0.0",
      "model_name": "LayoutModel",
      "state": {}
     },
     "fd534c7666a44a318b96f0de9d972c18": {
      "model_module": "@jupyter-widgets/controls",
      "model_module_version": "2.0.0",
      "model_name": "HBoxModel",
      "state": {
       "children": [
        "IPY_MODEL_e7e5d520743946db833470937ad1d5d2",
        "IPY_MODEL_17d9811afa4c4d2493aeceb5eadf4843",
        "IPY_MODEL_4abed746853f49928eec2803b215ce55"
       ],
       "layout": "IPY_MODEL_33f26c0e39f74261a130efb6439621ee"
      }
     },
     "fda6a06a2d054eae94a39d8553954745": {
      "model_module": "@jupyter-widgets/base",
      "model_module_version": "2.0.0",
      "model_name": "LayoutModel",
      "state": {}
     },
     "feffe565d3d94c849e134b9264ee3fd5": {
      "model_module": "@jupyter-widgets/base",
      "model_module_version": "2.0.0",
      "model_name": "LayoutModel",
      "state": {}
     },
     "ff576100e55f417cba781160f1716a94": {
      "model_module": "@jupyter-widgets/controls",
      "model_module_version": "2.0.0",
      "model_name": "HTMLModel",
      "state": {
       "layout": "IPY_MODEL_c2136ba560ce47a58bf5b58e0c78c8e9",
       "style": "IPY_MODEL_52669f342c7f4549890e72a90eccd731",
       "value": "Test edges &amp; props: 100%"
      }
     },
     "ffaac2afba44476da8d5a555b88e169c": {
      "model_module": "@jupyter-widgets/controls",
      "model_module_version": "2.0.0",
      "model_name": "FloatProgressModel",
      "state": {
       "bar_style": "success",
       "layout": "IPY_MODEL_40e289735c7c47ec966a1e89b3c51870",
       "max": 80000,
       "style": "IPY_MODEL_5d35bca918564eefa9214e70dadc282b",
       "value": 80000
      }
     }
    },
    "version_major": 2,
    "version_minor": 0
   }
  }
 },
 "nbformat": 4,
 "nbformat_minor": 5
}
