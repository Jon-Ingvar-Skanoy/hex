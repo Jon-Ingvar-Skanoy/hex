{
 "cells": [
  {
   "cell_type": "code",
   "execution_count": 1,
   "id": "1fea88b2-e85f-4ae4-8d7f-abe2978b1bfa",
   "metadata": {},
   "outputs": [],
   "source": [
    "import os\n",
    "import platform\n",
    "from pathlib import Path\n",
    "from tqdm.auto import tqdm\n",
    "from src.datahandler import DataHandler\n",
    "from src.graphhandler import GraphHandler\n",
    "from sklearn.model_selection import train_test_split\n",
    "import pickle\n",
    "from concurrent.futures import ProcessPoolExecutor, as_completed\n",
    "import fcntl"
   ]
  },
  {
   "cell_type": "code",
   "execution_count": 2,
   "id": "699584f9",
   "metadata": {},
   "outputs": [],
   "source": [
    "windows_drive = Path(\"/mnt/f/TsetlinModels\")"
   ]
  },
  {
   "cell_type": "code",
   "execution_count": 3,
   "id": "744b84ef",
   "metadata": {},
   "outputs": [],
   "source": [
    "def get_machine_info():\n",
    "    machine_name = platform.node()  \n",
    "    user = os.getenv(\"USER\") or os.getenv(\"USERNAME\") \n",
    "    os_name = platform.system()  # Get os\n",
    "    print(f\"Machine: {machine_name}\")\n",
    "    print(f\"OS: {os_name}\")\n",
    "    print(f\"User: {user}\")\n",
    "    \n",
    "    # Print machine info\n",
    "    return machine_name, os_name, user"
   ]
  },
  {
   "cell_type": "code",
   "execution_count": 4,
   "id": "d8ffe788",
   "metadata": {},
   "outputs": [],
   "source": [
    "def process_combination(board_size, hv_size, mb, double_hash, n_samples, op, mbf, paths):\n",
    "    seen_files = set()\n",
    "    dh_string = \"dh2\" if double_hash else \"dh1\"\n",
    "    dataset = f\"{board_size}x{board_size}_{n_samples}_{op}_{mbf}_{hv_size}_{mb}_{dh_string}\"\n",
    "    file_path = paths['graphs'] / f\"{dataset}.pkl\"\n",
    "\n",
    "    # Check if file has been processed\n",
    "    if file_path in seen_files or os.path.exists(file_path):\n",
    "        return str(f\"{board_size}x{board_size} - skipping...\")\n",
    "\n",
    "    seen_files.add(file_path)\n",
    "    \n",
    "    # Load data\n",
    "    dataset_label = f\"{board_size}x{board_size}_{n_samples*2}_{op}_{mbf}\"\n",
    "    data_handler = DataHandler(paths=paths, files={'data': dataset_label}, dataloader='np.genfromtxt', n_samples=n_samples)\n",
    "    data = data_handler.data[:n_samples]\n",
    "\n",
    "    # Prepare training and testing sets\n",
    "    X_data, Y_data = data[:, :-1], data[:, -1]\n",
    "    X_train, X_test, Y_train, Y_test = train_test_split(X_data, Y_data, test_size=0.2)\n",
    "    \n",
    "    # Prepare graph configuration\n",
    "    graphs_train = GraphHandler(paths=paths,\n",
    "                                board_size=board_size,\n",
    "                                data_array=X_train,\n",
    "                                symbols=['RED', 'BLUE','UP', 'DOWN', 'RIGHT','LEFT'],\n",
    "                                hypervector_size=hv_size,\n",
    "                                hypervector_bits=mb,\n",
    "                                double_hashing=double_hash)\n",
    "    \n",
    "    graphs_train.build_complete_graphs()\n",
    "\n",
    "    graphs_test = GraphHandler(paths=paths,\n",
    "                                board_size=board_size,\n",
    "                                data_array=X_test,\n",
    "                                init_with=graphs_train)\n",
    "    \n",
    "    graphs_test.build_complete_graphs()\n",
    "                                \n",
    "    with open(file_path, 'wb') as f:\n",
    "        fcntl.flock(f, fcntl.LOCK_EX) \n",
    "        pickle.dump((graphs_train.graphs, graphs_test.graphs, X_train, Y_train, X_test, Y_test), f)\n",
    "        fcntl.flock(f, fcntl.LOCK_UN)\n",
    "\n",
    "    return str(f\"{board_size}x{board_size} - building...\")"
   ]
  },
  {
   "cell_type": "code",
   "execution_count": 5,
   "id": "7b33aaad",
   "metadata": {},
   "outputs": [
    {
     "name": "stdout",
     "output_type": "stream",
     "text": [
      "Machine: Corsair\n",
      "OS: Linux\n",
      "User: jon\n"
     ]
    }
   ],
   "source": [
    "machine_name, os_name, user = get_machine_info()\n",
    "\n",
    "if machine_name == \"Corsair\" and os_name == \"Linux\" and user == \"jon\":\n",
    "    os.makedirs(windows_drive / \"data\", exist_ok=True)\n",
    "    os.makedirs(windows_drive / \"models\", exist_ok=True)\n",
    "    os.makedirs(windows_drive / \"graphs\", exist_ok=True)\n",
    "\n",
    "    paths = {\n",
    "        \"data\": windows_drive / \"data\",\n",
    "        \"models\": windows_drive / \"models\",\n",
    "        \"graphs\": windows_drive / \"graphs\",\n",
    "    }\n",
    "else:\n",
    "    os.makedirs(\"data\", exist_ok=True)\n",
    "    os.makedirs(\"models\", exist_ok=True)\n",
    "    os.makedirs(\"graphs\", exist_ok=True)\n",
    "\n",
    "    paths = {\n",
    "        \"data\": Path(\"data\"),\n",
    "        \"models\": Path(\"models\"),\n",
    "        \"graphs\": Path(\"graphs\"),\n",
    "    }"
   ]
  },
  {
   "cell_type": "code",
   "execution_count": 6,
   "id": "209e65f3-ee36-4006-9b4d-9effa8af6c02",
   "metadata": {},
   "outputs": [],
   "source": [
    "board_sizes = [4,5,6,7,8,9,10,11,12,13,14,15] #4,,6,7,8,9,10,11,12,13,14,15\n",
    "hv_sizes = [128,512] # (256 kills the kernel) 512,1024,2048,4096,8192,16384\n",
    "double_hashing = [True] #,True ,False\n",
    "hv_mbs = [2,4,8,16,32] #1,,4,8,16,32,64\n",
    "open_pos = [40] #5,15,25,35,45,0,10,20,,,50 40\n",
    "samples = [1000, 10000]\n",
    "moves_before = [0]"
   ]
  },
  {
   "cell_type": "code",
   "execution_count": 7,
   "id": "04edfea5",
   "metadata": {},
   "outputs": [
    {
     "data": {
      "application/vnd.jupyter.widget-view+json": {
       "model_id": "cb16cdfb6d0b4548a2367e728ec23f48",
       "version_major": 2,
       "version_minor": 0
      },
      "text/plain": [
       "  0%|          | 0/1 [00:00<?, ?it/s]"
      ]
     },
     "metadata": {},
     "output_type": "display_data"
    }
   ],
   "source": [
    "with ProcessPoolExecutor(max_workers=1) as executor: \n",
    "    futures = []\n",
    "    for board_size in board_sizes:\n",
    "        for hv_size in hv_sizes:\n",
    "            for hv_mb in hv_mbs:\n",
    "                for double_hash in double_hashing:\n",
    "                    for n_samples in samples:\n",
    "                        for op in open_pos:\n",
    "                            for mbf in moves_before:\n",
    "                                futures.append(executor.submit(\n",
    "                                    process_combination, board_size, hv_size, hv_mb, double_hash, n_samples, op, mbf, paths\n",
    "                                ))\n",
    "\n",
    "    with tqdm(total=len(futures)) as pbar:\n",
    "        for future in as_completed(futures):\n",
    "            try:\n",
    "                result = future.result()\n",
    "                pbar.set_description(f\"{result}\")\n",
    "                pbar.update(1)\n",
    "            except Exception as e:\n",
    "                print(f\"Error processing a combination: {e}\")"
   ]
  }
 ],
 "metadata": {
  "kernelspec": {
   "display_name": "env",
   "language": "python",
   "name": "python3"
  },
  "language_info": {
   "codemirror_mode": {
    "name": "ipython",
    "version": 3
   },
   "file_extension": ".py",
   "mimetype": "text/x-python",
   "name": "python",
   "nbconvert_exporter": "python",
   "pygments_lexer": "ipython3",
   "version": "3.10.12"
  },
  "widgets": {
   "application/vnd.jupyter.widget-state+json": {
    "state": {
     "00a15f284b724f2fac336a22a5975df9": {
      "model_module": "@jupyter-widgets/controls",
      "model_module_version": "2.0.0",
      "model_name": "ProgressStyleModel",
      "state": {
       "description_width": ""
      }
     },
     "010fcdccac3b405081c8d867b8d39786": {
      "model_module": "@jupyter-widgets/base",
      "model_module_version": "2.0.0",
      "model_name": "LayoutModel",
      "state": {}
     },
     "0180a7f333d1475a93e2bbf6b4a8f75b": {
      "model_module": "@jupyter-widgets/controls",
      "model_module_version": "2.0.0",
      "model_name": "HTMLModel",
      "state": {
       "layout": "IPY_MODEL_8bf0c1de683442ada8a2c58472a669e4",
       "style": "IPY_MODEL_dde1e34588b7438e8172fe912e126a48",
       "value": "Board Sizes:   0%"
      }
     },
     "023229ae14294398a9679feef8071547": {
      "model_module": "@jupyter-widgets/controls",
      "model_module_version": "2.0.0",
      "model_name": "HTMLStyleModel",
      "state": {
       "description_width": "",
       "font_size": null,
       "text_color": null
      }
     },
     "04bfde37018a467ca7b8ca758fadf545": {
      "model_module": "@jupyter-widgets/base",
      "model_module_version": "2.0.0",
      "model_name": "LayoutModel",
      "state": {}
     },
     "052a6ba882ce40e08c45860a1a67c8c5": {
      "model_module": "@jupyter-widgets/controls",
      "model_module_version": "2.0.0",
      "model_name": "ProgressStyleModel",
      "state": {
       "description_width": ""
      }
     },
     "05688d9355ea4b5d82d7085b1fe5eaa1": {
      "model_module": "@jupyter-widgets/controls",
      "model_module_version": "2.0.0",
      "model_name": "HTMLModel",
      "state": {
       "layout": "IPY_MODEL_d03d1743bfca45ff85204b0f1d9343d9",
       "style": "IPY_MODEL_8602117268954d15b72b23e4bbbf5a66",
       "value": "Board Sizes: 100%"
      }
     },
     "0571dd77f3f541438de03746bf3f860a": {
      "model_module": "@jupyter-widgets/controls",
      "model_module_version": "2.0.0",
      "model_name": "HTMLModel",
      "state": {
       "layout": "IPY_MODEL_13096aeb6b9d42a4b6717ec4c5b2aa87",
       "style": "IPY_MODEL_87e567b4375044babca522b87323d0f9",
       "value": "Test edges &amp; props: 100%"
      }
     },
     "06ea3b67250f445d97a70c36fb737305": {
      "model_module": "@jupyter-widgets/base",
      "model_module_version": "2.0.0",
      "model_name": "LayoutModel",
      "state": {}
     },
     "0732d3fbd1ee4141af8bab2d3c856cab": {
      "model_module": "@jupyter-widgets/controls",
      "model_module_version": "2.0.0",
      "model_name": "HTMLModel",
      "state": {
       "layout": "IPY_MODEL_f4e58fdfcfec4c0cad6bc782ecf9de3e",
       "style": "IPY_MODEL_bc2e576fa1d142428eef04ddfd7f726c",
       "value": "Samples:  33%"
      }
     },
     "075c1f7e711c4f5988dfc03d180a097f": {
      "model_module": "@jupyter-widgets/controls",
      "model_module_version": "2.0.0",
      "model_name": "ProgressStyleModel",
      "state": {
       "description_width": ""
      }
     },
     "076078d390414aa6b598390c19bbf352": {
      "model_module": "@jupyter-widgets/base",
      "model_module_version": "2.0.0",
      "model_name": "LayoutModel",
      "state": {}
     },
     "08a8c47dca00409da3342602119e40ae": {
      "model_module": "@jupyter-widgets/controls",
      "model_module_version": "2.0.0",
      "model_name": "FloatProgressModel",
      "state": {
       "bar_style": "success",
       "layout": "IPY_MODEL_09e0c78f4ac442109fb2228d61a352f1",
       "max": 800,
       "style": "IPY_MODEL_2ce1a3e5d2074edeb52d7067ad44b07f",
       "value": 800
      }
     },
     "095e03f30b2f40ca9ce26d82d54327b9": {
      "model_module": "@jupyter-widgets/controls",
      "model_module_version": "2.0.0",
      "model_name": "HTMLStyleModel",
      "state": {
       "description_width": "",
       "font_size": null,
       "text_color": null
      }
     },
     "09bba0424c58489bb48f388dc18ba127": {
      "model_module": "@jupyter-widgets/base",
      "model_module_version": "2.0.0",
      "model_name": "LayoutModel",
      "state": {}
     },
     "09dc2b4239984493ad50659894f8c80c": {
      "model_module": "@jupyter-widgets/base",
      "model_module_version": "2.0.0",
      "model_name": "LayoutModel",
      "state": {}
     },
     "09e0c78f4ac442109fb2228d61a352f1": {
      "model_module": "@jupyter-widgets/base",
      "model_module_version": "2.0.0",
      "model_name": "LayoutModel",
      "state": {}
     },
     "0a78d583390a4a50ad039a78afef86ae": {
      "model_module": "@jupyter-widgets/base",
      "model_module_version": "2.0.0",
      "model_name": "LayoutModel",
      "state": {}
     },
     "0aa08d8c128e495f9ee6ebfefc3bf687": {
      "model_module": "@jupyter-widgets/base",
      "model_module_version": "2.0.0",
      "model_name": "LayoutModel",
      "state": {}
     },
     "0b00c142e55e4e57aa33925f40bf89d8": {
      "model_module": "@jupyter-widgets/controls",
      "model_module_version": "2.0.0",
      "model_name": "FloatProgressModel",
      "state": {
       "bar_style": "success",
       "layout": "IPY_MODEL_a24854764feb4117ad10ea84e86a6654",
       "max": 200,
       "style": "IPY_MODEL_633414d61ad34df7bf136712dff7b76e",
       "value": 200
      }
     },
     "0b07bba80b1f40e899289100d3199d40": {
      "model_module": "@jupyter-widgets/base",
      "model_module_version": "2.0.0",
      "model_name": "LayoutModel",
      "state": {}
     },
     "0b30f66b0b4f4f61b22f153d7c0c8e49": {
      "model_module": "@jupyter-widgets/controls",
      "model_module_version": "2.0.0",
      "model_name": "HBoxModel",
      "state": {
       "children": [
        "IPY_MODEL_a34af4ffc0d44d27bfb36fdb6c98beaf",
        "IPY_MODEL_398dc3b651db476c8e95efd9fcfd3620",
        "IPY_MODEL_556fba21a891418d8c264513b7de41a2"
       ],
       "layout": "IPY_MODEL_96af3b2430574320948244919877e606"
      }
     },
     "0beb54558e7b4a79a32f9daf61c64b8d": {
      "model_module": "@jupyter-widgets/base",
      "model_module_version": "2.0.0",
      "model_name": "LayoutModel",
      "state": {}
     },
     "0c7b95f94ba5497f9598e5e373a6fb80": {
      "model_module": "@jupyter-widgets/base",
      "model_module_version": "2.0.0",
      "model_name": "LayoutModel",
      "state": {}
     },
     "0d4a0e3e03af48dbb00e1254de95c6fd": {
      "model_module": "@jupyter-widgets/base",
      "model_module_version": "2.0.0",
      "model_name": "LayoutModel",
      "state": {}
     },
     "0e31dbe82f264659a6011b84f5e09de6": {
      "model_module": "@jupyter-widgets/controls",
      "model_module_version": "2.0.0",
      "model_name": "HTMLModel",
      "state": {
       "layout": "IPY_MODEL_3e9e01d1274649acbd9eb9f4ab5a2f04",
       "style": "IPY_MODEL_f02a3f73a3f44f6badb1bd5771d4807d",
       "value": "Train edges &amp; props: 100%"
      }
     },
     "0e3be4616c1042d583b05de20e7bbe32": {
      "model_module": "@jupyter-widgets/controls",
      "model_module_version": "2.0.0",
      "model_name": "FloatProgressModel",
      "state": {
       "bar_style": "success",
       "layout": "IPY_MODEL_bd8311cc93fd4eeeb57613c1ce666aef",
       "max": 800,
       "style": "IPY_MODEL_7c2819525ba742948fcd580ebf6a987a",
       "value": 800
      }
     },
     "0e9055a4dda14e2c99a67bd437a5b72f": {
      "model_module": "@jupyter-widgets/controls",
      "model_module_version": "2.0.0",
      "model_name": "FloatProgressModel",
      "state": {
       "bar_style": "success",
       "layout": "IPY_MODEL_a074232c4cf54ae89da8354a3492e8bc",
       "max": 800,
       "style": "IPY_MODEL_4c83387b99de4591b1a0cab6c5105f58",
       "value": 800
      }
     },
     "0fbd65ccae9442d1a91a3f0464395ca6": {
      "model_module": "@jupyter-widgets/controls",
      "model_module_version": "2.0.0",
      "model_name": "ProgressStyleModel",
      "state": {
       "description_width": ""
      }
     },
     "0fffdc1ffe864e208c09a9a1cf54cb02": {
      "model_module": "@jupyter-widgets/base",
      "model_module_version": "2.0.0",
      "model_name": "LayoutModel",
      "state": {}
     },
     "1003913e759e42dc9d547d128e7e7cc2": {
      "model_module": "@jupyter-widgets/controls",
      "model_module_version": "2.0.0",
      "model_name": "HTMLStyleModel",
      "state": {
       "description_width": "",
       "font_size": null,
       "text_color": null
      }
     },
     "10c333fb24d34c4b8b3b99fc578ada2f": {
      "model_module": "@jupyter-widgets/controls",
      "model_module_version": "2.0.0",
      "model_name": "HBoxModel",
      "state": {
       "children": [
        "IPY_MODEL_5e8430e681cb4bcba343cdeb6260ffed",
        "IPY_MODEL_92c1fe381d9349609ac25bcff093c129",
        "IPY_MODEL_213e06ba83c84ea894cc743373c48d67"
       ],
       "layout": "IPY_MODEL_c80ceeef8ab844708eb4b0fa3d387f56"
      }
     },
     "11b8f48d2b224a06b73e9dd5f632f883": {
      "model_module": "@jupyter-widgets/controls",
      "model_module_version": "2.0.0",
      "model_name": "HTMLStyleModel",
      "state": {
       "description_width": "",
       "font_size": null,
       "text_color": null
      }
     },
     "12e7f4a59c354c4f9bf5a78142eb5ba3": {
      "model_module": "@jupyter-widgets/base",
      "model_module_version": "2.0.0",
      "model_name": "LayoutModel",
      "state": {}
     },
     "13096aeb6b9d42a4b6717ec4c5b2aa87": {
      "model_module": "@jupyter-widgets/base",
      "model_module_version": "2.0.0",
      "model_name": "LayoutModel",
      "state": {}
     },
     "1332bcab7082428d9eef83c3051dc7b3": {
      "model_module": "@jupyter-widgets/controls",
      "model_module_version": "2.0.0",
      "model_name": "ProgressStyleModel",
      "state": {
       "description_width": ""
      }
     },
     "13b65af449ad415aa6762a144e89f82a": {
      "model_module": "@jupyter-widgets/base",
      "model_module_version": "2.0.0",
      "model_name": "LayoutModel",
      "state": {}
     },
     "1421eb3cd9e54261a52003b25ab2ead3": {
      "model_module": "@jupyter-widgets/controls",
      "model_module_version": "2.0.0",
      "model_name": "HTMLModel",
      "state": {
       "layout": "IPY_MODEL_8b3b66bfb8e9426189fd4b83ed4286e4",
       "style": "IPY_MODEL_ba344c2fc7cb4bb5ab18d962eae50b25",
       "value": " 800/800 [00:00&lt;00:00, 1483.96it/s]"
      }
     },
     "1424a3e383bd46c385de42a0b03dafbc": {
      "model_module": "@jupyter-widgets/controls",
      "model_module_version": "2.0.0",
      "model_name": "HTMLStyleModel",
      "state": {
       "description_width": "",
       "font_size": null,
       "text_color": null
      }
     },
     "15178eb226bd45ea84ee4dde98185458": {
      "model_module": "@jupyter-widgets/controls",
      "model_module_version": "2.0.0",
      "model_name": "HBoxModel",
      "state": {
       "children": [
        "IPY_MODEL_9b1c9c66999f46b7a1f99cfe436b34fa",
        "IPY_MODEL_50c0103efec64183b2dc2373d8465905",
        "IPY_MODEL_2a3804d8797c45a9930eb8db94ab050d"
       ],
       "layout": "IPY_MODEL_076078d390414aa6b598390c19bbf352"
      }
     },
     "152d1fd865434f4192fc88b4298d38d4": {
      "model_module": "@jupyter-widgets/base",
      "model_module_version": "2.0.0",
      "model_name": "LayoutModel",
      "state": {}
     },
     "164b52c568bc4945b13c49ce9b262626": {
      "model_module": "@jupyter-widgets/controls",
      "model_module_version": "2.0.0",
      "model_name": "HTMLModel",
      "state": {
       "layout": "IPY_MODEL_cd406679756d46a5981cad9208db6d12",
       "style": "IPY_MODEL_5db6825ea23f48f7baff4f603d059a48",
       "value": " 200/200 [00:02&lt;00:00, 77.66it/s]"
      }
     },
     "16ce40da610c4918aed267e35aa08ae5": {
      "model_module": "@jupyter-widgets/controls",
      "model_module_version": "2.0.0",
      "model_name": "HTMLStyleModel",
      "state": {
       "description_width": "",
       "font_size": null,
       "text_color": null
      }
     },
     "16e9554298f04c44bd6b49555ab94e4c": {
      "model_module": "@jupyter-widgets/base",
      "model_module_version": "2.0.0",
      "model_name": "LayoutModel",
      "state": {}
     },
     "17636b8ba6c24cdfa655301abb611da7": {
      "model_module": "@jupyter-widgets/base",
      "model_module_version": "2.0.0",
      "model_name": "LayoutModel",
      "state": {}
     },
     "1857f38fb3bc4bd6ac79e36586a8d7a4": {
      "model_module": "@jupyter-widgets/controls",
      "model_module_version": "2.0.0",
      "model_name": "FloatProgressModel",
      "state": {
       "bar_style": "success",
       "layout": "IPY_MODEL_010fcdccac3b405081c8d867b8d39786",
       "max": 200,
       "style": "IPY_MODEL_54453dbdd82a40c982b271276031d8fb",
       "value": 200
      }
     },
     "19d82947421442cebb997bd0b2d9200c": {
      "model_module": "@jupyter-widgets/controls",
      "model_module_version": "2.0.0",
      "model_name": "HTMLStyleModel",
      "state": {
       "description_width": "",
       "font_size": null,
       "text_color": null
      }
     },
     "1b60cfb17e97406e8e1507ae7357b716": {
      "model_module": "@jupyter-widgets/controls",
      "model_module_version": "2.0.0",
      "model_name": "HTMLModel",
      "state": {
       "layout": "IPY_MODEL_28b92a1476064c56a3b265ef1c0125a6",
       "style": "IPY_MODEL_618fa973f8314608ab1d5cb8b8e0b8e1",
       "value": "Train edges &amp; props: 100%"
      }
     },
     "1ba349bbe02a4711ab6faec2cd1daa49": {
      "model_module": "@jupyter-widgets/controls",
      "model_module_version": "2.0.0",
      "model_name": "FloatProgressModel",
      "state": {
       "bar_style": "success",
       "layout": "IPY_MODEL_505d410b71864576969fb581d3768732",
       "max": 800,
       "style": "IPY_MODEL_0fbd65ccae9442d1a91a3f0464395ca6",
       "value": 800
      }
     },
     "1c57d77ce9794a89823c73be7710af75": {
      "model_module": "@jupyter-widgets/controls",
      "model_module_version": "2.0.0",
      "model_name": "HTMLStyleModel",
      "state": {
       "description_width": "",
       "font_size": null,
       "text_color": null
      }
     },
     "1ce4e6d8a2804f6e9e29a88f36d956a2": {
      "model_module": "@jupyter-widgets/controls",
      "model_module_version": "2.0.0",
      "model_name": "HTMLStyleModel",
      "state": {
       "description_width": "",
       "font_size": null,
       "text_color": null
      }
     },
     "1d03750981534bbcac5a20a390b802fd": {
      "model_module": "@jupyter-widgets/controls",
      "model_module_version": "2.0.0",
      "model_name": "ProgressStyleModel",
      "state": {
       "description_width": ""
      }
     },
     "1d5ad9ed14d649bc98e2d591cb4b1fda": {
      "model_module": "@jupyter-widgets/controls",
      "model_module_version": "2.0.0",
      "model_name": "HTMLModel",
      "state": {
       "layout": "IPY_MODEL_da164ff8eff94bdeb2d41d1d8d541495",
       "style": "IPY_MODEL_3f887d1b84284581a0a91c85d26119e3",
       "value": "Train edges &amp; props: 100%"
      }
     },
     "1db0d5db5bab484e948ff9e713fa7543": {
      "model_module": "@jupyter-widgets/controls",
      "model_module_version": "2.0.0",
      "model_name": "HTMLStyleModel",
      "state": {
       "description_width": "",
       "font_size": null,
       "text_color": null
      }
     },
     "1e1edceeb2fd4a248ca381ee4d9ea90b": {
      "model_module": "@jupyter-widgets/base",
      "model_module_version": "2.0.0",
      "model_name": "LayoutModel",
      "state": {}
     },
     "1e4aaf68668e4f479d0a85ecd3c28bcd": {
      "model_module": "@jupyter-widgets/base",
      "model_module_version": "2.0.0",
      "model_name": "LayoutModel",
      "state": {}
     },
     "1f5b209b7c664267b32af7bfaafc141a": {
      "model_module": "@jupyter-widgets/controls",
      "model_module_version": "2.0.0",
      "model_name": "HTMLStyleModel",
      "state": {
       "description_width": "",
       "font_size": null,
       "text_color": null
      }
     },
     "1ffc345b5ea849abb2137715cff0e158": {
      "model_module": "@jupyter-widgets/base",
      "model_module_version": "2.0.0",
      "model_name": "LayoutModel",
      "state": {}
     },
     "20fc962621be4813bcbc424c97121489": {
      "model_module": "@jupyter-widgets/base",
      "model_module_version": "2.0.0",
      "model_name": "LayoutModel",
      "state": {}
     },
     "213e06ba83c84ea894cc743373c48d67": {
      "model_module": "@jupyter-widgets/controls",
      "model_module_version": "2.0.0",
      "model_name": "HTMLModel",
      "state": {
       "layout": "IPY_MODEL_87be706490bc48688301f230fd992260",
       "style": "IPY_MODEL_636d6b5fde5d49e884a8c5f7130cbb0b",
       "value": " 200/200 [00:03&lt;00:00, 67.79it/s]"
      }
     },
     "21c1e152c22c42dab74be620ba603cd1": {
      "model_module": "@jupyter-widgets/controls",
      "model_module_version": "2.0.0",
      "model_name": "HTMLStyleModel",
      "state": {
       "description_width": "",
       "font_size": null,
       "text_color": null
      }
     },
     "21d92c1547b94e3e8104e065c2689524": {
      "model_module": "@jupyter-widgets/base",
      "model_module_version": "2.0.0",
      "model_name": "LayoutModel",
      "state": {}
     },
     "22f8d1593cfd4fa48a19f80fd7225820": {
      "model_module": "@jupyter-widgets/controls",
      "model_module_version": "2.0.0",
      "model_name": "HTMLModel",
      "state": {
       "layout": "IPY_MODEL_86f75070629441058e6dbcc872dd7b74",
       "style": "IPY_MODEL_b5e156bd6c64481099a0935e92d5c1ef",
       "value": " 200/200 [00:03&lt;00:00, 60.26it/s]"
      }
     },
     "241711607eec4cb0b00c4b0367e6639f": {
      "model_module": "@jupyter-widgets/controls",
      "model_module_version": "2.0.0",
      "model_name": "HTMLModel",
      "state": {
       "layout": "IPY_MODEL_66f083411e3c4e1a9347717c969fb361",
       "style": "IPY_MODEL_75a16bab3d5d49629d720c71dcf6e8f9",
       "value": " 200/200 [00:00&lt;00:00, 1555.15it/s]"
      }
     },
     "24ff7a89ccb146868c7a4cb6c155a54a": {
      "model_module": "@jupyter-widgets/base",
      "model_module_version": "2.0.0",
      "model_name": "LayoutModel",
      "state": {}
     },
     "25d5491a23734f9b87410771b60b51af": {
      "model_module": "@jupyter-widgets/controls",
      "model_module_version": "2.0.0",
      "model_name": "HTMLStyleModel",
      "state": {
       "description_width": "",
       "font_size": null,
       "text_color": null
      }
     },
     "279f0d1abea14e2d984a533f40242a18": {
      "model_module": "@jupyter-widgets/base",
      "model_module_version": "2.0.0",
      "model_name": "LayoutModel",
      "state": {}
     },
     "27e37b3afdd94cefb289a3403a2c30c9": {
      "model_module": "@jupyter-widgets/controls",
      "model_module_version": "2.0.0",
      "model_name": "FloatProgressModel",
      "state": {
       "bar_style": "success",
       "layout": "IPY_MODEL_cc5962cc91304ed3965236103d4abf6e",
       "max": 200,
       "style": "IPY_MODEL_1332bcab7082428d9eef83c3051dc7b3",
       "value": 200
      }
     },
     "286ab67b71af417b91c0aa2ba1a9da11": {
      "model_module": "@jupyter-widgets/controls",
      "model_module_version": "2.0.0",
      "model_name": "HBoxModel",
      "state": {
       "children": [
        "IPY_MODEL_582ca31e8cb04e5b86372dba43625d9b",
        "IPY_MODEL_d435bb375aae44fc910a6bf1ed9f8857",
        "IPY_MODEL_241711607eec4cb0b00c4b0367e6639f"
       ],
       "layout": "IPY_MODEL_706d750eebdc43cdb9c6c9f9b9501d34"
      }
     },
     "28849ae25e8941608b2b9e51f9a171f0": {
      "model_module": "@jupyter-widgets/controls",
      "model_module_version": "2.0.0",
      "model_name": "HBoxModel",
      "state": {
       "children": [
        "IPY_MODEL_0732d3fbd1ee4141af8bab2d3c856cab",
        "IPY_MODEL_e3ec6c840eb64db8b543248798b7a6a1",
        "IPY_MODEL_897192ad6169437cb44e1f394dc0884e"
       ],
       "layout": "IPY_MODEL_fd2d307e322f410fb488a3c9ecc798cf"
      }
     },
     "28b92a1476064c56a3b265ef1c0125a6": {
      "model_module": "@jupyter-widgets/base",
      "model_module_version": "2.0.0",
      "model_name": "LayoutModel",
      "state": {}
     },
     "2a3804d8797c45a9930eb8db94ab050d": {
      "model_module": "@jupyter-widgets/controls",
      "model_module_version": "2.0.0",
      "model_name": "HTMLModel",
      "state": {
       "layout": "IPY_MODEL_df0f7af6ca9640ea8ab0b4d4028d5f95",
       "style": "IPY_MODEL_6c6c21615a9c42dd90c99a00e74ae0ff",
       "value": " 200/200 [00:00&lt;00:00, 1680.80it/s]"
      }
     },
     "2a98e2bc20d843fa991b1cb34320bd82": {
      "model_module": "@jupyter-widgets/controls",
      "model_module_version": "2.0.0",
      "model_name": "ProgressStyleModel",
      "state": {
       "description_width": ""
      }
     },
     "2be56b31bf18404e8647d2ea7d65ffea": {
      "model_module": "@jupyter-widgets/controls",
      "model_module_version": "2.0.0",
      "model_name": "FloatProgressModel",
      "state": {
       "bar_style": "success",
       "layout": "IPY_MODEL_7472ffee0420489b8e6052dda317811b",
       "max": 200,
       "style": "IPY_MODEL_b79e867de85f49cda4d158c81b6af629",
       "value": 200
      }
     },
     "2ce1a3e5d2074edeb52d7067ad44b07f": {
      "model_module": "@jupyter-widgets/controls",
      "model_module_version": "2.0.0",
      "model_name": "ProgressStyleModel",
      "state": {
       "description_width": ""
      }
     },
     "2de8dc73faba4f229f3d09ee15d933b4": {
      "model_module": "@jupyter-widgets/controls",
      "model_module_version": "2.0.0",
      "model_name": "HTMLStyleModel",
      "state": {
       "description_width": "",
       "font_size": null,
       "text_color": null
      }
     },
     "2ed4a2338e9b4ebd816927ac81b0baad": {
      "model_module": "@jupyter-widgets/base",
      "model_module_version": "2.0.0",
      "model_name": "LayoutModel",
      "state": {}
     },
     "2efea02b32b746318e8deb9db4081459": {
      "model_module": "@jupyter-widgets/controls",
      "model_module_version": "2.0.0",
      "model_name": "HTMLModel",
      "state": {
       "layout": "IPY_MODEL_619138c775e24569875f1d98080b1453",
       "style": "IPY_MODEL_a109dfb9e1e846e3862d6e842cf0db2d",
       "value": "Train nodes: 100%"
      }
     },
     "2f1960d67bdd43a6bd2112c80f50d9e0": {
      "model_module": "@jupyter-widgets/controls",
      "model_module_version": "2.0.0",
      "model_name": "HBoxModel",
      "state": {
       "children": [
        "IPY_MODEL_b784f99527a5478ea47da0d647ec1aaf",
        "IPY_MODEL_87a261e8eeca4578b5316c763a3d5e42",
        "IPY_MODEL_a05283c4f4d24b2bbf91163a7feec43a"
       ],
       "layout": "IPY_MODEL_954a5d67e8e8494a9161a711ee39d1f9"
      }
     },
     "2f5ffb3d36d94602b305fbe1e2dc8069": {
      "model_module": "@jupyter-widgets/controls",
      "model_module_version": "2.0.0",
      "model_name": "HTMLModel",
      "state": {
       "layout": "IPY_MODEL_24ff7a89ccb146868c7a4cb6c155a54a",
       "style": "IPY_MODEL_39286cd3e1e0468b9e4b6fafa0136169",
       "value": " 200/200 [00:00&lt;00:00, 2112.93it/s]"
      }
     },
     "2f91dea6fbc44867a75994dc9aa68182": {
      "model_module": "@jupyter-widgets/controls",
      "model_module_version": "2.0.0",
      "model_name": "ProgressStyleModel",
      "state": {
       "description_width": ""
      }
     },
     "2fa0c3ad09354c2abc013d4a7f1d5f01": {
      "model_module": "@jupyter-widgets/base",
      "model_module_version": "2.0.0",
      "model_name": "LayoutModel",
      "state": {}
     },
     "2ffb25501e004d169ee006dc229127d4": {
      "model_module": "@jupyter-widgets/controls",
      "model_module_version": "2.0.0",
      "model_name": "HBoxModel",
      "state": {
       "children": [
        "IPY_MODEL_90e5fccf82734abe9f38027192bdef61",
        "IPY_MODEL_27e37b3afdd94cefb289a3403a2c30c9",
        "IPY_MODEL_df99eb1aef2f4f71a45503e66cfcccee"
       ],
       "layout": "IPY_MODEL_1e4aaf68668e4f479d0a85ecd3c28bcd"
      }
     },
     "3026b9bc4c2c4ea48b71992109602f61": {
      "model_module": "@jupyter-widgets/base",
      "model_module_version": "2.0.0",
      "model_name": "LayoutModel",
      "state": {}
     },
     "311dcd6c74584a8bb0ce74ed0f1141f5": {
      "model_module": "@jupyter-widgets/controls",
      "model_module_version": "2.0.0",
      "model_name": "HBoxModel",
      "state": {
       "children": [
        "IPY_MODEL_a9e5450f1ecf4dd8a36894a434c91cd7",
        "IPY_MODEL_d091e10ffa2c44d1b88d007dc210c37a",
        "IPY_MODEL_80a6a267e65947048ff1256adb03f41c"
       ],
       "layout": "IPY_MODEL_9fb9a96ae791465ab99d1f2c7e0595fd"
      }
     },
     "31450ef39fa14d92b237d4f7bcb5e97c": {
      "model_module": "@jupyter-widgets/controls",
      "model_module_version": "2.0.0",
      "model_name": "ProgressStyleModel",
      "state": {
       "description_width": ""
      }
     },
     "31bef24598b246e888d921e2f0c5dec3": {
      "model_module": "@jupyter-widgets/controls",
      "model_module_version": "2.0.0",
      "model_name": "HTMLStyleModel",
      "state": {
       "description_width": "",
       "font_size": null,
       "text_color": null
      }
     },
     "320714dd5558408cac7a4450c7196b06": {
      "model_module": "@jupyter-widgets/controls",
      "model_module_version": "2.0.0",
      "model_name": "HTMLStyleModel",
      "state": {
       "description_width": "",
       "font_size": null,
       "text_color": null
      }
     },
     "3377fdd05584483b95c18bdbdb7890ef": {
      "model_module": "@jupyter-widgets/base",
      "model_module_version": "2.0.0",
      "model_name": "LayoutModel",
      "state": {}
     },
     "34ce117cf3544a20808def532cc5cb52": {
      "model_module": "@jupyter-widgets/base",
      "model_module_version": "2.0.0",
      "model_name": "LayoutModel",
      "state": {}
     },
     "35bbea18856f4fd8b433bbead0859f30": {
      "model_module": "@jupyter-widgets/controls",
      "model_module_version": "2.0.0",
      "model_name": "ProgressStyleModel",
      "state": {
       "description_width": ""
      }
     },
     "35ea143e3a80430dbf30c869448b967f": {
      "model_module": "@jupyter-widgets/controls",
      "model_module_version": "2.0.0",
      "model_name": "HTMLStyleModel",
      "state": {
       "description_width": "",
       "font_size": null,
       "text_color": null
      }
     },
     "35f45e5a2aba4dfcba575bc5e6aa0cd4": {
      "model_module": "@jupyter-widgets/controls",
      "model_module_version": "2.0.0",
      "model_name": "HTMLStyleModel",
      "state": {
       "description_width": "",
       "font_size": null,
       "text_color": null
      }
     },
     "3614f77fd18e4266930a8b48d4efd177": {
      "model_module": "@jupyter-widgets/controls",
      "model_module_version": "2.0.0",
      "model_name": "ProgressStyleModel",
      "state": {
       "description_width": ""
      }
     },
     "368fce30b0a14e8c992f34ef36a2c825": {
      "model_module": "@jupyter-widgets/base",
      "model_module_version": "2.0.0",
      "model_name": "LayoutModel",
      "state": {}
     },
     "372a572f822c47cc9ca3630d5eef144d": {
      "model_module": "@jupyter-widgets/base",
      "model_module_version": "2.0.0",
      "model_name": "LayoutModel",
      "state": {}
     },
     "3810db9bba8d4f8284fcfc26a25583b8": {
      "model_module": "@jupyter-widgets/base",
      "model_module_version": "2.0.0",
      "model_name": "LayoutModel",
      "state": {}
     },
     "386d3fb3308d4341b5ef900557c1b48e": {
      "model_module": "@jupyter-widgets/controls",
      "model_module_version": "2.0.0",
      "model_name": "FloatProgressModel",
      "state": {
       "bar_style": "success",
       "layout": "IPY_MODEL_21d92c1547b94e3e8104e065c2689524",
       "max": 800,
       "style": "IPY_MODEL_4dcd56f39ad443b4a7b28f3550d88240",
       "value": 800
      }
     },
     "3887d6df348c4babb2c894e805cf96ee": {
      "model_module": "@jupyter-widgets/controls",
      "model_module_version": "2.0.0",
      "model_name": "HTMLStyleModel",
      "state": {
       "description_width": "",
       "font_size": null,
       "text_color": null
      }
     },
     "39286cd3e1e0468b9e4b6fafa0136169": {
      "model_module": "@jupyter-widgets/controls",
      "model_module_version": "2.0.0",
      "model_name": "HTMLStyleModel",
      "state": {
       "description_width": "",
       "font_size": null,
       "text_color": null
      }
     },
     "398dc3b651db476c8e95efd9fcfd3620": {
      "model_module": "@jupyter-widgets/controls",
      "model_module_version": "2.0.0",
      "model_name": "FloatProgressModel",
      "state": {
       "bar_style": "success",
       "layout": "IPY_MODEL_06ea3b67250f445d97a70c36fb737305",
       "max": 800,
       "style": "IPY_MODEL_075c1f7e711c4f5988dfc03d180a097f",
       "value": 800
      }
     },
     "39d40114cdb54c059164c50df7f1d19a": {
      "model_module": "@jupyter-widgets/controls",
      "model_module_version": "2.0.0",
      "model_name": "HTMLStyleModel",
      "state": {
       "description_width": "",
       "font_size": null,
       "text_color": null
      }
     },
     "3aae9154dcf84d068fdde98cbd31ac82": {
      "model_module": "@jupyter-widgets/controls",
      "model_module_version": "2.0.0",
      "model_name": "HBoxModel",
      "state": {
       "children": [
        "IPY_MODEL_4ecf3782c91e49388922f12b5891d02f",
        "IPY_MODEL_e12f069ff10b408992c0aa97d24794d4",
        "IPY_MODEL_fa83c446e7f34b53909299eb71a3382f"
       ],
       "layout": "IPY_MODEL_db3aa9e37341430592f9c8416f6a77a3"
      }
     },
     "3b05d90efc984cd9ab575d222f7e6c0d": {
      "model_module": "@jupyter-widgets/base",
      "model_module_version": "2.0.0",
      "model_name": "LayoutModel",
      "state": {}
     },
     "3b0e8eb0be654423971da973a7a521a7": {
      "model_module": "@jupyter-widgets/base",
      "model_module_version": "2.0.0",
      "model_name": "LayoutModel",
      "state": {}
     },
     "3b80541cea8f48e6a9d8224392a6f872": {
      "model_module": "@jupyter-widgets/base",
      "model_module_version": "2.0.0",
      "model_name": "LayoutModel",
      "state": {}
     },
     "3bb3b13ac5254b37be0aa7e5e6041696": {
      "model_module": "@jupyter-widgets/base",
      "model_module_version": "2.0.0",
      "model_name": "LayoutModel",
      "state": {}
     },
     "3bd0987eeb9842769a6a19e3bfedca44": {
      "model_module": "@jupyter-widgets/controls",
      "model_module_version": "2.0.0",
      "model_name": "HTMLStyleModel",
      "state": {
       "description_width": "",
       "font_size": null,
       "text_color": null
      }
     },
     "3c0dc896be264d50a54f4c2c6a65547a": {
      "model_module": "@jupyter-widgets/base",
      "model_module_version": "2.0.0",
      "model_name": "LayoutModel",
      "state": {}
     },
     "3ce2a296ae6a45c199814812c78e73df": {
      "model_module": "@jupyter-widgets/base",
      "model_module_version": "2.0.0",
      "model_name": "LayoutModel",
      "state": {}
     },
     "3d19be405c544c358e1684f102082127": {
      "model_module": "@jupyter-widgets/controls",
      "model_module_version": "2.0.0",
      "model_name": "HTMLModel",
      "state": {
       "layout": "IPY_MODEL_04bfde37018a467ca7b8ca758fadf545",
       "style": "IPY_MODEL_58bf1c7facdc4cc59b349971f76bc473",
       "value": " 200/200 [00:02&lt;00:00, 68.59it/s]"
      }
     },
     "3dc4854335884778968d96b92afbf316": {
      "model_module": "@jupyter-widgets/base",
      "model_module_version": "2.0.0",
      "model_name": "LayoutModel",
      "state": {}
     },
     "3dc9d7b4d0704cda9a03cd24e80698db": {
      "model_module": "@jupyter-widgets/controls",
      "model_module_version": "2.0.0",
      "model_name": "HTMLModel",
      "state": {
       "layout": "IPY_MODEL_cbac0853a1fc46229ac9a4dafb5d42bd",
       "style": "IPY_MODEL_19d82947421442cebb997bd0b2d9200c",
       "value": " 200/200 [00:03&lt;00:00, 56.75it/s]"
      }
     },
     "3e7e6724dfad402bbce9abd0c1a5baa3": {
      "model_module": "@jupyter-widgets/base",
      "model_module_version": "2.0.0",
      "model_name": "LayoutModel",
      "state": {}
     },
     "3e9e01d1274649acbd9eb9f4ab5a2f04": {
      "model_module": "@jupyter-widgets/base",
      "model_module_version": "2.0.0",
      "model_name": "LayoutModel",
      "state": {}
     },
     "3f6c2a69a9704becab2fa7737305f156": {
      "model_module": "@jupyter-widgets/base",
      "model_module_version": "2.0.0",
      "model_name": "LayoutModel",
      "state": {}
     },
     "3f887d1b84284581a0a91c85d26119e3": {
      "model_module": "@jupyter-widgets/controls",
      "model_module_version": "2.0.0",
      "model_name": "HTMLStyleModel",
      "state": {
       "description_width": "",
       "font_size": null,
       "text_color": null
      }
     },
     "3fe99650dfab4dab9fdde55d4dd81f48": {
      "model_module": "@jupyter-widgets/base",
      "model_module_version": "2.0.0",
      "model_name": "LayoutModel",
      "state": {}
     },
     "4022d98734e445b090e43687b7d5b1bf": {
      "model_module": "@jupyter-widgets/base",
      "model_module_version": "2.0.0",
      "model_name": "LayoutModel",
      "state": {}
     },
     "404ae080fb2342bb9676d18c52247ba0": {
      "model_module": "@jupyter-widgets/base",
      "model_module_version": "2.0.0",
      "model_name": "LayoutModel",
      "state": {}
     },
     "40af0aeb200a4e94bf3dd4bfa2bd3415": {
      "model_module": "@jupyter-widgets/base",
      "model_module_version": "2.0.0",
      "model_name": "LayoutModel",
      "state": {}
     },
     "412b25bedcd64ab6b6abc4745c287f84": {
      "model_module": "@jupyter-widgets/controls",
      "model_module_version": "2.0.0",
      "model_name": "HTMLModel",
      "state": {
       "layout": "IPY_MODEL_b15bd19c0a244073aa8ca0ee27a87a36",
       "style": "IPY_MODEL_8e7e6f7a37d94e1a94b7d6ca4c3aa664",
       "value": " 800/800 [00:09&lt;00:00, 80.79it/s]"
      }
     },
     "41728b7a3b244d12bf48b6e5f83019ab": {
      "model_module": "@jupyter-widgets/controls",
      "model_module_version": "2.0.0",
      "model_name": "HTMLModel",
      "state": {
       "layout": "IPY_MODEL_6630a0bee78b43d08c4b93b0168dc830",
       "style": "IPY_MODEL_663117363c4a49708b468f9c76669b04",
       "value": " 200/200 [00:00&lt;00:00, 1601.00it/s]"
      }
     },
     "42355d1b9ebb49758bf6ee9b5f10d18b": {
      "model_module": "@jupyter-widgets/base",
      "model_module_version": "2.0.0",
      "model_name": "LayoutModel",
      "state": {}
     },
     "42c0c6381b444d62a3a77007ee6955a6": {
      "model_module": "@jupyter-widgets/controls",
      "model_module_version": "2.0.0",
      "model_name": "HTMLModel",
      "state": {
       "layout": "IPY_MODEL_4e931160899e4758852f1ae9bd831fd6",
       "style": "IPY_MODEL_35ea143e3a80430dbf30c869448b967f",
       "value": "Board Sizes: 100%"
      }
     },
     "432dc14e25504b67bf69b70e7b4bcb02": {
      "model_module": "@jupyter-widgets/controls",
      "model_module_version": "2.0.0",
      "model_name": "ProgressStyleModel",
      "state": {
       "description_width": ""
      }
     },
     "433679164f814fd3ab901032cf42bd4d": {
      "model_module": "@jupyter-widgets/controls",
      "model_module_version": "2.0.0",
      "model_name": "HTMLStyleModel",
      "state": {
       "description_width": "",
       "font_size": null,
       "text_color": null
      }
     },
     "43403c8532b64265a84134ef746da58a": {
      "model_module": "@jupyter-widgets/controls",
      "model_module_version": "2.0.0",
      "model_name": "HTMLStyleModel",
      "state": {
       "description_width": "",
       "font_size": null,
       "text_color": null
      }
     },
     "439babc02325403b9b13642f734e660b": {
      "model_module": "@jupyter-widgets/controls",
      "model_module_version": "2.0.0",
      "model_name": "HTMLStyleModel",
      "state": {
       "description_width": "",
       "font_size": null,
       "text_color": null
      }
     },
     "43c5ca4dbd814569a57e787eff9f599f": {
      "model_module": "@jupyter-widgets/controls",
      "model_module_version": "2.0.0",
      "model_name": "HTMLModel",
      "state": {
       "layout": "IPY_MODEL_e164ce9bdfaa47ba937c24fd0d61addb",
       "style": "IPY_MODEL_7c139c5529384108b43aa4f08ea4b050",
       "value": " 0/3 [00:00&lt;?, ?it/s]"
      }
     },
     "44b0fe82119543aebf2f394a94b3f59b": {
      "model_module": "@jupyter-widgets/controls",
      "model_module_version": "2.0.0",
      "model_name": "HTMLModel",
      "state": {
       "layout": "IPY_MODEL_91d31ce009b2426cb20aa4116dbbce72",
       "style": "IPY_MODEL_433679164f814fd3ab901032cf42bd4d",
       "value": " 0/3 [00:00&lt;?, ?it/s]"
      }
     },
     "45127a26fbcd468ba5ef4786b698bfb3": {
      "model_module": "@jupyter-widgets/controls",
      "model_module_version": "2.0.0",
      "model_name": "FloatProgressModel",
      "state": {
       "bar_style": "success",
       "layout": "IPY_MODEL_ab2b2461cc0043ecb854c426da6ec11c",
       "max": 800,
       "style": "IPY_MODEL_5e9f673c7dd0482c943ff52da4eb460f",
       "value": 800
      }
     },
     "459586bc6ed943ec8e44fb298d3e56b7": {
      "model_module": "@jupyter-widgets/controls",
      "model_module_version": "2.0.0",
      "model_name": "ProgressStyleModel",
      "state": {
       "description_width": ""
      }
     },
     "46ac3e6ce8e84c7688fb2801e3bcc7e7": {
      "model_module": "@jupyter-widgets/controls",
      "model_module_version": "2.0.0",
      "model_name": "HBoxModel",
      "state": {
       "children": [
        "IPY_MODEL_6e399b76de6c4d8899623e4464844e1d",
        "IPY_MODEL_9c78f063940a4e5ebccf62669c468a5a",
        "IPY_MODEL_d7e0c0bd275a4db0969df98cf11850a3"
       ],
       "layout": "IPY_MODEL_c499d6b2f5ff4f839ed390501e344f19"
      }
     },
     "46ae010ff0c549889d165b81d596e49f": {
      "model_module": "@jupyter-widgets/controls",
      "model_module_version": "2.0.0",
      "model_name": "HTMLStyleModel",
      "state": {
       "description_width": "",
       "font_size": null,
       "text_color": null
      }
     },
     "478791ae87ec4859992dff0e9c0f5461": {
      "model_module": "@jupyter-widgets/controls",
      "model_module_version": "2.0.0",
      "model_name": "HTMLStyleModel",
      "state": {
       "description_width": "",
       "font_size": null,
       "text_color": null
      }
     },
     "47ad6907c87c4ab2a435e17a060c0b9d": {
      "model_module": "@jupyter-widgets/base",
      "model_module_version": "2.0.0",
      "model_name": "LayoutModel",
      "state": {}
     },
     "483b2108d5cc45e4b921e5a113061a55": {
      "model_module": "@jupyter-widgets/base",
      "model_module_version": "2.0.0",
      "model_name": "LayoutModel",
      "state": {}
     },
     "4853c2a6088349e8a4d7aca3f81c9192": {
      "model_module": "@jupyter-widgets/controls",
      "model_module_version": "2.0.0",
      "model_name": "HTMLStyleModel",
      "state": {
       "description_width": "",
       "font_size": null,
       "text_color": null
      }
     },
     "48e9b0ce0c6046c19a998329a5630fc4": {
      "model_module": "@jupyter-widgets/controls",
      "model_module_version": "2.0.0",
      "model_name": "HTMLModel",
      "state": {
       "layout": "IPY_MODEL_a6c60daa947442d2b5de28054c7ad04f",
       "style": "IPY_MODEL_83e7a50ac086443783362b4524a01de7",
       "value": " 800/800 [00:11&lt;00:00, 66.63it/s]"
      }
     },
     "4941892e5d5f4921bba913b2b424a7b4": {
      "model_module": "@jupyter-widgets/controls",
      "model_module_version": "2.0.0",
      "model_name": "HTMLModel",
      "state": {
       "layout": "IPY_MODEL_ad538dcaf74a4733a68388806d3f8cff",
       "style": "IPY_MODEL_cb457bdb6fc54661af93911e59e1ac21",
       "value": "Board Sizes: 100%"
      }
     },
     "4b8c963d75af4370b3299ee7d48f2f26": {
      "model_module": "@jupyter-widgets/controls",
      "model_module_version": "2.0.0",
      "model_name": "HTMLModel",
      "state": {
       "layout": "IPY_MODEL_e815705de5d44ff8893bddd5bac855e9",
       "style": "IPY_MODEL_50302025eb474ebb9c6d91c920d641da",
       "value": " 800/800 [00:13&lt;00:00, 57.95it/s]"
      }
     },
     "4c83387b99de4591b1a0cab6c5105f58": {
      "model_module": "@jupyter-widgets/controls",
      "model_module_version": "2.0.0",
      "model_name": "ProgressStyleModel",
      "state": {
       "description_width": ""
      }
     },
     "4dcd56f39ad443b4a7b28f3550d88240": {
      "model_module": "@jupyter-widgets/controls",
      "model_module_version": "2.0.0",
      "model_name": "ProgressStyleModel",
      "state": {
       "description_width": ""
      }
     },
     "4dd0169ada4e4950b12f8f4a9fb87caf": {
      "model_module": "@jupyter-widgets/base",
      "model_module_version": "2.0.0",
      "model_name": "LayoutModel",
      "state": {}
     },
     "4e8b2a1b26be4cecb7d0d627c4d40a33": {
      "model_module": "@jupyter-widgets/controls",
      "model_module_version": "2.0.0",
      "model_name": "HTMLStyleModel",
      "state": {
       "description_width": "",
       "font_size": null,
       "text_color": null
      }
     },
     "4e931160899e4758852f1ae9bd831fd6": {
      "model_module": "@jupyter-widgets/base",
      "model_module_version": "2.0.0",
      "model_name": "LayoutModel",
      "state": {}
     },
     "4ec59cde2df64809bc646e1ea42caa4f": {
      "model_module": "@jupyter-widgets/controls",
      "model_module_version": "2.0.0",
      "model_name": "HTMLModel",
      "state": {
       "layout": "IPY_MODEL_20fc962621be4813bcbc424c97121489",
       "style": "IPY_MODEL_35f45e5a2aba4dfcba575bc5e6aa0cd4",
       "value": "Test edges &amp; props: 100%"
      }
     },
     "4eca095d0404429ca5186f9076c38fc3": {
      "model_module": "@jupyter-widgets/controls",
      "model_module_version": "2.0.0",
      "model_name": "HTMLModel",
      "state": {
       "layout": "IPY_MODEL_3b80541cea8f48e6a9d8224392a6f872",
       "style": "IPY_MODEL_799bb86dc58c405bb9815397903ff787",
       "value": "Test nodes: 100%"
      }
     },
     "4ecf3782c91e49388922f12b5891d02f": {
      "model_module": "@jupyter-widgets/controls",
      "model_module_version": "2.0.0",
      "model_name": "HTMLModel",
      "state": {
       "layout": "IPY_MODEL_1ffc345b5ea849abb2137715cff0e158",
       "style": "IPY_MODEL_df587eefbb744793a07bb3e89ecd6d0d",
       "value": "Train edges &amp; props: 100%"
      }
     },
     "50302025eb474ebb9c6d91c920d641da": {
      "model_module": "@jupyter-widgets/controls",
      "model_module_version": "2.0.0",
      "model_name": "HTMLStyleModel",
      "state": {
       "description_width": "",
       "font_size": null,
       "text_color": null
      }
     },
     "505d410b71864576969fb581d3768732": {
      "model_module": "@jupyter-widgets/base",
      "model_module_version": "2.0.0",
      "model_name": "LayoutModel",
      "state": {}
     },
     "50c0103efec64183b2dc2373d8465905": {
      "model_module": "@jupyter-widgets/controls",
      "model_module_version": "2.0.0",
      "model_name": "FloatProgressModel",
      "state": {
       "bar_style": "success",
       "layout": "IPY_MODEL_940389d4b7d945d594a8ea8232b4bf96",
       "max": 200,
       "style": "IPY_MODEL_fda291ba7edc4929b00fe3d5f77d369a",
       "value": 200
      }
     },
     "520fd41adaa64ccfbd1f1aa29704d0c3": {
      "model_module": "@jupyter-widgets/base",
      "model_module_version": "2.0.0",
      "model_name": "LayoutModel",
      "state": {}
     },
     "527cd69e80d64d4d98d8b9634a223c7b": {
      "model_module": "@jupyter-widgets/base",
      "model_module_version": "2.0.0",
      "model_name": "LayoutModel",
      "state": {}
     },
     "53691efcb35240489d82780bac676069": {
      "model_module": "@jupyter-widgets/controls",
      "model_module_version": "2.0.0",
      "model_name": "HTMLModel",
      "state": {
       "layout": "IPY_MODEL_a5887a82a79e4f619d203d5e53762a2b",
       "style": "IPY_MODEL_fd76c76969a34dc29a9ea38bbe1990a4",
       "value": " 800/800 [00:00&lt;00:00, 1436.57it/s]"
      }
     },
     "539c21769e104b138706fb8ed4310bf9": {
      "model_module": "@jupyter-widgets/controls",
      "model_module_version": "2.0.0",
      "model_name": "FloatProgressModel",
      "state": {
       "bar_style": "success",
       "layout": "IPY_MODEL_eaa1c2302dae4f6db96bb06367840748",
       "max": 200,
       "style": "IPY_MODEL_d6c995d346d64b5aaa487c6dbe3b0d0b",
       "value": 200
      }
     },
     "54453dbdd82a40c982b271276031d8fb": {
      "model_module": "@jupyter-widgets/controls",
      "model_module_version": "2.0.0",
      "model_name": "ProgressStyleModel",
      "state": {
       "description_width": ""
      }
     },
     "54cb77d685044cea9a59920e32c65459": {
      "model_module": "@jupyter-widgets/controls",
      "model_module_version": "2.0.0",
      "model_name": "HTMLStyleModel",
      "state": {
       "description_width": "",
       "font_size": null,
       "text_color": null
      }
     },
     "54e3187cd2d64364abbe848a908fef04": {
      "model_module": "@jupyter-widgets/base",
      "model_module_version": "2.0.0",
      "model_name": "LayoutModel",
      "state": {}
     },
     "556fba21a891418d8c264513b7de41a2": {
      "model_module": "@jupyter-widgets/controls",
      "model_module_version": "2.0.0",
      "model_name": "HTMLModel",
      "state": {
       "layout": "IPY_MODEL_3dc4854335884778968d96b92afbf316",
       "style": "IPY_MODEL_54cb77d685044cea9a59920e32c65459",
       "value": " 800/800 [00:00&lt;00:00, 1987.70it/s]"
      }
     },
     "561277b0317748d19ac7f22eb3eaef9c": {
      "model_module": "@jupyter-widgets/base",
      "model_module_version": "2.0.0",
      "model_name": "LayoutModel",
      "state": {}
     },
     "57b5d8985ac84ce2b7b39899cc168bcf": {
      "model_module": "@jupyter-widgets/controls",
      "model_module_version": "2.0.0",
      "model_name": "HTMLStyleModel",
      "state": {
       "description_width": "",
       "font_size": null,
       "text_color": null
      }
     },
     "580973dd1e424e1d85f42f2f5cace4bb": {
      "model_module": "@jupyter-widgets/base",
      "model_module_version": "2.0.0",
      "model_name": "LayoutModel",
      "state": {}
     },
     "582ca31e8cb04e5b86372dba43625d9b": {
      "model_module": "@jupyter-widgets/controls",
      "model_module_version": "2.0.0",
      "model_name": "HTMLModel",
      "state": {
       "layout": "IPY_MODEL_63fe2b2a61544215bcb1bb0e98aa1590",
       "style": "IPY_MODEL_f9ec550ed4db414a85ab480ec7b85971",
       "value": "Test nodes: 100%"
      }
     },
     "58bf1c7facdc4cc59b349971f76bc473": {
      "model_module": "@jupyter-widgets/controls",
      "model_module_version": "2.0.0",
      "model_name": "HTMLStyleModel",
      "state": {
       "description_width": "",
       "font_size": null,
       "text_color": null
      }
     },
     "598d09f8afe6478490349b7e81a0c50d": {
      "model_module": "@jupyter-widgets/base",
      "model_module_version": "2.0.0",
      "model_name": "LayoutModel",
      "state": {}
     },
     "5b19f444b97a413386c850503c08dfb4": {
      "model_module": "@jupyter-widgets/controls",
      "model_module_version": "2.0.0",
      "model_name": "HBoxModel",
      "state": {
       "children": [
        "IPY_MODEL_0571dd77f3f541438de03746bf3f860a",
        "IPY_MODEL_bd80ca41deef4828b6940ec062bfeedc",
        "IPY_MODEL_e04d564a1af846adb8ade5932410726f"
       ],
       "layout": "IPY_MODEL_3ce2a296ae6a45c199814812c78e73df"
      }
     },
     "5b70f7f00e114db19e6bdcec9ac210cb": {
      "model_module": "@jupyter-widgets/controls",
      "model_module_version": "2.0.0",
      "model_name": "HTMLStyleModel",
      "state": {
       "description_width": "",
       "font_size": null,
       "text_color": null
      }
     },
     "5bcd51345e8e4ba3a6c6114b39da3bd4": {
      "model_module": "@jupyter-widgets/controls",
      "model_module_version": "2.0.0",
      "model_name": "HTMLStyleModel",
      "state": {
       "description_width": "",
       "font_size": null,
       "text_color": null
      }
     },
     "5cf9dd2f0e6d4c92936cf59584ee3848": {
      "model_module": "@jupyter-widgets/base",
      "model_module_version": "2.0.0",
      "model_name": "LayoutModel",
      "state": {}
     },
     "5db6825ea23f48f7baff4f603d059a48": {
      "model_module": "@jupyter-widgets/controls",
      "model_module_version": "2.0.0",
      "model_name": "HTMLStyleModel",
      "state": {
       "description_width": "",
       "font_size": null,
       "text_color": null
      }
     },
     "5e614f6911094eb0a601ba2c9e0a4826": {
      "model_module": "@jupyter-widgets/controls",
      "model_module_version": "2.0.0",
      "model_name": "HTMLModel",
      "state": {
       "layout": "IPY_MODEL_404ae080fb2342bb9676d18c52247ba0",
       "style": "IPY_MODEL_623f408e89f44988a34acdaf7967b673",
       "value": "Moves Before:   0%"
      }
     },
     "5e8430e681cb4bcba343cdeb6260ffed": {
      "model_module": "@jupyter-widgets/controls",
      "model_module_version": "2.0.0",
      "model_name": "HTMLModel",
      "state": {
       "layout": "IPY_MODEL_0b07bba80b1f40e899289100d3199d40",
       "style": "IPY_MODEL_f1891e102e9242bd9dfcd24e2b1f7d44",
       "value": "Test edges &amp; props: 100%"
      }
     },
     "5e9f673c7dd0482c943ff52da4eb460f": {
      "model_module": "@jupyter-widgets/controls",
      "model_module_version": "2.0.0",
      "model_name": "ProgressStyleModel",
      "state": {
       "description_width": ""
      }
     },
     "5fce87fbb5024f3a8bb07c2f3996b75d": {
      "model_module": "@jupyter-widgets/controls",
      "model_module_version": "2.0.0",
      "model_name": "HTMLModel",
      "state": {
       "layout": "IPY_MODEL_4dd0169ada4e4950b12f8f4a9fb87caf",
       "style": "IPY_MODEL_3887d6df348c4babb2c894e805cf96ee",
       "value": "Test edges &amp; props: 100%"
      }
     },
     "618fa973f8314608ab1d5cb8b8e0b8e1": {
      "model_module": "@jupyter-widgets/controls",
      "model_module_version": "2.0.0",
      "model_name": "HTMLStyleModel",
      "state": {
       "description_width": "",
       "font_size": null,
       "text_color": null
      }
     },
     "619138c775e24569875f1d98080b1453": {
      "model_module": "@jupyter-widgets/base",
      "model_module_version": "2.0.0",
      "model_name": "LayoutModel",
      "state": {}
     },
     "6207160ca3ba41749f1a316dce009673": {
      "model_module": "@jupyter-widgets/controls",
      "model_module_version": "2.0.0",
      "model_name": "HBoxModel",
      "state": {
       "children": [
        "IPY_MODEL_c912671215324a6ab27752781d0b757f",
        "IPY_MODEL_1857f38fb3bc4bd6ac79e36586a8d7a4",
        "IPY_MODEL_efd901ec94624274b7d62a2fef1af99f"
       ],
       "layout": "IPY_MODEL_520fd41adaa64ccfbd1f1aa29704d0c3"
      }
     },
     "623f408e89f44988a34acdaf7967b673": {
      "model_module": "@jupyter-widgets/controls",
      "model_module_version": "2.0.0",
      "model_name": "HTMLStyleModel",
      "state": {
       "description_width": "",
       "font_size": null,
       "text_color": null
      }
     },
     "629d854c30464f8a8a19ad254a8994dc": {
      "model_module": "@jupyter-widgets/controls",
      "model_module_version": "2.0.0",
      "model_name": "ProgressStyleModel",
      "state": {
       "description_width": ""
      }
     },
     "633414d61ad34df7bf136712dff7b76e": {
      "model_module": "@jupyter-widgets/controls",
      "model_module_version": "2.0.0",
      "model_name": "ProgressStyleModel",
      "state": {
       "description_width": ""
      }
     },
     "6341f5cfffd34b9b86c6aeab444875fc": {
      "model_module": "@jupyter-widgets/controls",
      "model_module_version": "2.0.0",
      "model_name": "HTMLModel",
      "state": {
       "layout": "IPY_MODEL_3c0dc896be264d50a54f4c2c6a65547a",
       "style": "IPY_MODEL_1c57d77ce9794a89823c73be7710af75",
       "value": "Train edges &amp; props: 100%"
      }
     },
     "636d6b5fde5d49e884a8c5f7130cbb0b": {
      "model_module": "@jupyter-widgets/controls",
      "model_module_version": "2.0.0",
      "model_name": "HTMLStyleModel",
      "state": {
       "description_width": "",
       "font_size": null,
       "text_color": null
      }
     },
     "63fe2b2a61544215bcb1bb0e98aa1590": {
      "model_module": "@jupyter-widgets/base",
      "model_module_version": "2.0.0",
      "model_name": "LayoutModel",
      "state": {}
     },
     "6461dcb1c6e94e0a9846966bdc41c67d": {
      "model_module": "@jupyter-widgets/controls",
      "model_module_version": "2.0.0",
      "model_name": "HTMLModel",
      "state": {
       "layout": "IPY_MODEL_16e9554298f04c44bd6b49555ab94e4c",
       "style": "IPY_MODEL_c04e691569d4437b9f642df8293005ef",
       "value": " 800/800 [00:11&lt;00:00, 67.74it/s]"
      }
     },
     "64eac8c13fc44d44a3ba1f315b2f3fc1": {
      "model_module": "@jupyter-widgets/base",
      "model_module_version": "2.0.0",
      "model_name": "LayoutModel",
      "state": {}
     },
     "6630a0bee78b43d08c4b93b0168dc830": {
      "model_module": "@jupyter-widgets/base",
      "model_module_version": "2.0.0",
      "model_name": "LayoutModel",
      "state": {}
     },
     "663117363c4a49708b468f9c76669b04": {
      "model_module": "@jupyter-widgets/controls",
      "model_module_version": "2.0.0",
      "model_name": "HTMLStyleModel",
      "state": {
       "description_width": "",
       "font_size": null,
       "text_color": null
      }
     },
     "668644a6e1234eaf91bdd25b0ff95187": {
      "model_module": "@jupyter-widgets/controls",
      "model_module_version": "2.0.0",
      "model_name": "HTMLModel",
      "state": {
       "layout": "IPY_MODEL_d782a0571cee48c6a392473d7392fe57",
       "style": "IPY_MODEL_4853c2a6088349e8a4d7aca3f81c9192",
       "value": " 200/200 [00:02&lt;00:00, 85.08it/s]"
      }
     },
     "6688655b3180438ca5a6853d20afb049": {
      "model_module": "@jupyter-widgets/base",
      "model_module_version": "2.0.0",
      "model_name": "LayoutModel",
      "state": {}
     },
     "66f083411e3c4e1a9347717c969fb361": {
      "model_module": "@jupyter-widgets/base",
      "model_module_version": "2.0.0",
      "model_name": "LayoutModel",
      "state": {}
     },
     "68366a99ffbc44cf96e48036463539ec": {
      "model_module": "@jupyter-widgets/controls",
      "model_module_version": "2.0.0",
      "model_name": "HTMLModel",
      "state": {
       "layout": "IPY_MODEL_ae397d20853c4a5e9a962a9f664d7532",
       "style": "IPY_MODEL_1f5b209b7c664267b32af7bfaafc141a",
       "value": "Test edges &amp; props: 100%"
      }
     },
     "68d1f4c06efb4302a86034facf40ddf2": {
      "model_module": "@jupyter-widgets/controls",
      "model_module_version": "2.0.0",
      "model_name": "HBoxModel",
      "state": {
       "children": [
        "IPY_MODEL_2efea02b32b746318e8deb9db4081459",
        "IPY_MODEL_45127a26fbcd468ba5ef4786b698bfb3",
        "IPY_MODEL_9992b8320e78429ea9879b4b55cbd272"
       ],
       "layout": "IPY_MODEL_f125ea607c6d4fe680c26c912536954a"
      }
     },
     "6a19293a15c046f39d2f1d4b0d4f4c5d": {
      "model_module": "@jupyter-widgets/controls",
      "model_module_version": "2.0.0",
      "model_name": "HTMLStyleModel",
      "state": {
       "description_width": "",
       "font_size": null,
       "text_color": null
      }
     },
     "6ad660603fd647e38da5675c3b673d18": {
      "model_module": "@jupyter-widgets/controls",
      "model_module_version": "2.0.0",
      "model_name": "HBoxModel",
      "state": {
       "children": [
        "IPY_MODEL_4eca095d0404429ca5186f9076c38fc3",
        "IPY_MODEL_98d566bfef2a4e32aaae6f1c2f455d13",
        "IPY_MODEL_6ce5c3f3cd2147ea831380ae91f242e0"
       ],
       "layout": "IPY_MODEL_3bb3b13ac5254b37be0aa7e5e6041696"
      }
     },
     "6af484a22e164d0d8c7c640a64a12ed8": {
      "model_module": "@jupyter-widgets/controls",
      "model_module_version": "2.0.0",
      "model_name": "ProgressStyleModel",
      "state": {
       "description_width": ""
      }
     },
     "6bd1f8c275ec475783c93b160103bc3d": {
      "model_module": "@jupyter-widgets/controls",
      "model_module_version": "2.0.0",
      "model_name": "HBoxModel",
      "state": {
       "children": [
        "IPY_MODEL_7b7e6c3a3e064a8c8974093c16dd46f9",
        "IPY_MODEL_7e2cb5dbcf87498eacbbdf31ab954f8f",
        "IPY_MODEL_3d19be405c544c358e1684f102082127"
       ],
       "layout": "IPY_MODEL_ea53476ca98745be97b09b808391ed8b"
      }
     },
     "6c6c21615a9c42dd90c99a00e74ae0ff": {
      "model_module": "@jupyter-widgets/controls",
      "model_module_version": "2.0.0",
      "model_name": "HTMLStyleModel",
      "state": {
       "description_width": "",
       "font_size": null,
       "text_color": null
      }
     },
     "6ce5c3f3cd2147ea831380ae91f242e0": {
      "model_module": "@jupyter-widgets/controls",
      "model_module_version": "2.0.0",
      "model_name": "HTMLModel",
      "state": {
       "layout": "IPY_MODEL_88abeac025404decb8fc8394e8889afd",
       "style": "IPY_MODEL_5b70f7f00e114db19e6bdcec9ac210cb",
       "value": " 200/200 [00:00&lt;00:00, 2056.38it/s]"
      }
     },
     "6d9b0ebf15e14d01b78a7942e4dda0ff": {
      "model_module": "@jupyter-widgets/controls",
      "model_module_version": "2.0.0",
      "model_name": "HTMLModel",
      "state": {
       "layout": "IPY_MODEL_09bba0424c58489bb48f388dc18ba127",
       "style": "IPY_MODEL_46ae010ff0c549889d165b81d596e49f",
       "value": "Test nodes: 100%"
      }
     },
     "6e0840f3ff30449ab40d5f6d672fc9b3": {
      "model_module": "@jupyter-widgets/base",
      "model_module_version": "2.0.0",
      "model_name": "LayoutModel",
      "state": {}
     },
     "6e399b76de6c4d8899623e4464844e1d": {
      "model_module": "@jupyter-widgets/controls",
      "model_module_version": "2.0.0",
      "model_name": "HTMLModel",
      "state": {
       "layout": "IPY_MODEL_894567beb9a6421788d03e324cc2dca1",
       "style": "IPY_MODEL_478791ae87ec4859992dff0e9c0f5461",
       "value": "Train edges &amp; props: 100%"
      }
     },
     "6e521e8f423c48dea117afedde5f5269": {
      "model_module": "@jupyter-widgets/controls",
      "model_module_version": "2.0.0",
      "model_name": "ProgressStyleModel",
      "state": {
       "description_width": ""
      }
     },
     "6e64a1bde72847baa548b52107596b27": {
      "model_module": "@jupyter-widgets/controls",
      "model_module_version": "2.0.0",
      "model_name": "FloatProgressModel",
      "state": {
       "bar_style": "success",
       "layout": "IPY_MODEL_34ce117cf3544a20808def532cc5cb52",
       "max": 800,
       "style": "IPY_MODEL_2f91dea6fbc44867a75994dc9aa68182",
       "value": 800
      }
     },
     "6efa0fea42df4f3ebf3ef3347cbe374e": {
      "model_module": "@jupyter-widgets/base",
      "model_module_version": "2.0.0",
      "model_name": "LayoutModel",
      "state": {}
     },
     "706120834d9747b0b3b08d1bfc3d7e76": {
      "model_module": "@jupyter-widgets/controls",
      "model_module_version": "2.0.0",
      "model_name": "HTMLModel",
      "state": {
       "layout": "IPY_MODEL_09dc2b4239984493ad50659894f8c80c",
       "style": "IPY_MODEL_d48c0f561d6a47b2a30a7a0410944dde",
       "value": "Train edges &amp; props: 100%"
      }
     },
     "706d750eebdc43cdb9c6c9f9b9501d34": {
      "model_module": "@jupyter-widgets/base",
      "model_module_version": "2.0.0",
      "model_name": "LayoutModel",
      "state": {}
     },
     "7232a564d00c475bbbf74c921e8e7450": {
      "model_module": "@jupyter-widgets/controls",
      "model_module_version": "2.0.0",
      "model_name": "FloatProgressModel",
      "state": {
       "bar_style": "success",
       "layout": "IPY_MODEL_90158b3e336f4a37857ccb62d38ff326",
       "max": 800,
       "style": "IPY_MODEL_e201481353ce4551afedd523c0d886a7",
       "value": 800
      }
     },
     "72c6237836b04507b6bddb27e16145e5": {
      "model_module": "@jupyter-widgets/controls",
      "model_module_version": "2.0.0",
      "model_name": "FloatProgressModel",
      "state": {
       "bar_style": "success",
       "layout": "IPY_MODEL_898269292ee54f14b91ff688c1016841",
       "max": 800,
       "style": "IPY_MODEL_35bbea18856f4fd8b433bbead0859f30",
       "value": 800
      }
     },
     "73391d317e7a4686883967f614f6da56": {
      "model_module": "@jupyter-widgets/base",
      "model_module_version": "2.0.0",
      "model_name": "LayoutModel",
      "state": {}
     },
     "73f85b4925d14ed0bdbe8c55bab2779e": {
      "model_module": "@jupyter-widgets/base",
      "model_module_version": "2.0.0",
      "model_name": "LayoutModel",
      "state": {}
     },
     "73fd15baaecf4d9e80c9581f82539717": {
      "model_module": "@jupyter-widgets/base",
      "model_module_version": "2.0.0",
      "model_name": "LayoutModel",
      "state": {}
     },
     "7472ffee0420489b8e6052dda317811b": {
      "model_module": "@jupyter-widgets/base",
      "model_module_version": "2.0.0",
      "model_name": "LayoutModel",
      "state": {}
     },
     "7484f07f4b604287941422fd07ee7c49": {
      "model_module": "@jupyter-widgets/controls",
      "model_module_version": "2.0.0",
      "model_name": "HBoxModel",
      "state": {
       "children": [
        "IPY_MODEL_6d9b0ebf15e14d01b78a7942e4dda0ff",
        "IPY_MODEL_539c21769e104b138706fb8ed4310bf9",
        "IPY_MODEL_f70f5f045a3a4245ad8928910f2caa3f"
       ],
       "layout": "IPY_MODEL_73391d317e7a4686883967f614f6da56"
      }
     },
     "748761f5901d4d67aba2631a9ed7056a": {
      "model_module": "@jupyter-widgets/controls",
      "model_module_version": "2.0.0",
      "model_name": "ProgressStyleModel",
      "state": {
       "description_width": ""
      }
     },
     "7516dbe9fdc34c20928cab83cd207473": {
      "model_module": "@jupyter-widgets/controls",
      "model_module_version": "2.0.0",
      "model_name": "HTMLModel",
      "state": {
       "layout": "IPY_MODEL_975d314efeac41c392e23a7b2581c90b",
       "style": "IPY_MODEL_11b8f48d2b224a06b73e9dd5f632f883",
       "value": " 0/1 [02:25&lt;?, ?it/s]"
      }
     },
     "75a16bab3d5d49629d720c71dcf6e8f9": {
      "model_module": "@jupyter-widgets/controls",
      "model_module_version": "2.0.0",
      "model_name": "HTMLStyleModel",
      "state": {
       "description_width": "",
       "font_size": null,
       "text_color": null
      }
     },
     "7670b8a9a8fc4d3cb34b511c00131eb7": {
      "model_module": "@jupyter-widgets/base",
      "model_module_version": "2.0.0",
      "model_name": "LayoutModel",
      "state": {}
     },
     "76bc3b131e2f43f483212a4b674f2fc5": {
      "model_module": "@jupyter-widgets/base",
      "model_module_version": "2.0.0",
      "model_name": "LayoutModel",
      "state": {}
     },
     "779541ea2dcf437b908611458fcc2d73": {
      "model_module": "@jupyter-widgets/controls",
      "model_module_version": "2.0.0",
      "model_name": "HTMLModel",
      "state": {
       "layout": "IPY_MODEL_a4de4884f5f249f7a1300fba41c79b6f",
       "style": "IPY_MODEL_43403c8532b64265a84134ef746da58a",
       "value": "Train edges &amp; props: 100%"
      }
     },
     "77b94bdb368c44c48653624947c9a042": {
      "model_module": "@jupyter-widgets/controls",
      "model_module_version": "2.0.0",
      "model_name": "HTMLModel",
      "state": {
       "layout": "IPY_MODEL_87756e6062ed49a0913b3146749ae5c1",
       "style": "IPY_MODEL_39d40114cdb54c059164c50df7f1d19a",
       "value": " 800/800 [00:00&lt;00:00, 2096.61it/s]"
      }
     },
     "77e14c0c2b1d479581b69d36b17ff3c8": {
      "model_module": "@jupyter-widgets/base",
      "model_module_version": "2.0.0",
      "model_name": "LayoutModel",
      "state": {}
     },
     "799bb86dc58c405bb9815397903ff787": {
      "model_module": "@jupyter-widgets/controls",
      "model_module_version": "2.0.0",
      "model_name": "HTMLStyleModel",
      "state": {
       "description_width": "",
       "font_size": null,
       "text_color": null
      }
     },
     "7a4a44eaaeff4c1a9577180a89c406a0": {
      "model_module": "@jupyter-widgets/controls",
      "model_module_version": "2.0.0",
      "model_name": "HTMLStyleModel",
      "state": {
       "description_width": "",
       "font_size": null,
       "text_color": null
      }
     },
     "7ab1976a28934549900c5844557f951c": {
      "model_module": "@jupyter-widgets/base",
      "model_module_version": "2.0.0",
      "model_name": "LayoutModel",
      "state": {
       "visibility": "hidden"
      }
     },
     "7b7e6c3a3e064a8c8974093c16dd46f9": {
      "model_module": "@jupyter-widgets/controls",
      "model_module_version": "2.0.0",
      "model_name": "HTMLModel",
      "state": {
       "layout": "IPY_MODEL_3e7e6724dfad402bbce9abd0c1a5baa3",
       "style": "IPY_MODEL_e6aa46c8ebad4d97b5f7c57a6bafe27c",
       "value": "Test edges &amp; props: 100%"
      }
     },
     "7c139c5529384108b43aa4f08ea4b050": {
      "model_module": "@jupyter-widgets/controls",
      "model_module_version": "2.0.0",
      "model_name": "HTMLStyleModel",
      "state": {
       "description_width": "",
       "font_size": null,
       "text_color": null
      }
     },
     "7c2819525ba742948fcd580ebf6a987a": {
      "model_module": "@jupyter-widgets/controls",
      "model_module_version": "2.0.0",
      "model_name": "ProgressStyleModel",
      "state": {
       "description_width": ""
      }
     },
     "7c44acd2aba34aae8a24b9ce0d3d03bb": {
      "model_module": "@jupyter-widgets/base",
      "model_module_version": "2.0.0",
      "model_name": "LayoutModel",
      "state": {}
     },
     "7cc148a67f0440bbb9a35276ca89f351": {
      "model_module": "@jupyter-widgets/base",
      "model_module_version": "2.0.0",
      "model_name": "LayoutModel",
      "state": {}
     },
     "7cf9c435eb2146a1a813fd7aa31e7944": {
      "model_module": "@jupyter-widgets/controls",
      "model_module_version": "2.0.0",
      "model_name": "HTMLStyleModel",
      "state": {
       "description_width": "",
       "font_size": null,
       "text_color": null
      }
     },
     "7e2cb5dbcf87498eacbbdf31ab954f8f": {
      "model_module": "@jupyter-widgets/controls",
      "model_module_version": "2.0.0",
      "model_name": "FloatProgressModel",
      "state": {
       "bar_style": "success",
       "layout": "IPY_MODEL_eb03f0cf4688497fb6c0fdaceecbb0f1",
       "max": 200,
       "style": "IPY_MODEL_9c1a92d78f5d4bf08ebf9c501c8e4d97",
       "value": 200
      }
     },
     "7ef3c84e76004eacbd4c54c610f92234": {
      "model_module": "@jupyter-widgets/controls",
      "model_module_version": "2.0.0",
      "model_name": "FloatProgressModel",
      "state": {
       "bar_style": "danger",
       "layout": "IPY_MODEL_2fa0c3ad09354c2abc013d4a7f1d5f01",
       "max": 3,
       "style": "IPY_MODEL_6e521e8f423c48dea117afedde5f5269"
      }
     },
     "7fd5cb28050347f5b10c8a26c631cc9a": {
      "model_module": "@jupyter-widgets/controls",
      "model_module_version": "2.0.0",
      "model_name": "HTMLStyleModel",
      "state": {
       "description_width": "",
       "font_size": null,
       "text_color": null
      }
     },
     "80a6a267e65947048ff1256adb03f41c": {
      "model_module": "@jupyter-widgets/controls",
      "model_module_version": "2.0.0",
      "model_name": "HTMLModel",
      "state": {
       "layout": "IPY_MODEL_77e14c0c2b1d479581b69d36b17ff3c8",
       "style": "IPY_MODEL_1ce4e6d8a2804f6e9e29a88f36d956a2",
       "value": " 200/200 [00:00&lt;00:00, 2108.80it/s]"
      }
     },
     "81b4c8b9a0e7421ab6d4bd5204c037b3": {
      "model_module": "@jupyter-widgets/base",
      "model_module_version": "2.0.0",
      "model_name": "LayoutModel",
      "state": {}
     },
     "82eadfedf8da4baf9c5b5208802ddd54": {
      "model_module": "@jupyter-widgets/base",
      "model_module_version": "2.0.0",
      "model_name": "LayoutModel",
      "state": {}
     },
     "83e7a50ac086443783362b4524a01de7": {
      "model_module": "@jupyter-widgets/controls",
      "model_module_version": "2.0.0",
      "model_name": "HTMLStyleModel",
      "state": {
       "description_width": "",
       "font_size": null,
       "text_color": null
      }
     },
     "84d1acc6909d484cb9214dcc0891a19d": {
      "model_module": "@jupyter-widgets/controls",
      "model_module_version": "2.0.0",
      "model_name": "HTMLModel",
      "state": {
       "layout": "IPY_MODEL_527cd69e80d64d4d98d8b9634a223c7b",
       "style": "IPY_MODEL_b0d902b3a0c24767903045700c6a950e",
       "value": "Train nodes: 100%"
      }
     },
     "8567c3d32ab44d4486ba2e6ed24d7482": {
      "model_module": "@jupyter-widgets/controls",
      "model_module_version": "2.0.0",
      "model_name": "HTMLStyleModel",
      "state": {
       "description_width": "",
       "font_size": null,
       "text_color": null
      }
     },
     "85ac167be3de433fb1dc4fe4ebb05016": {
      "model_module": "@jupyter-widgets/controls",
      "model_module_version": "2.0.0",
      "model_name": "ProgressStyleModel",
      "state": {
       "description_width": ""
      }
     },
     "85e2475dddcc424ab6fe8638a93366b5": {
      "model_module": "@jupyter-widgets/controls",
      "model_module_version": "2.0.0",
      "model_name": "HTMLStyleModel",
      "state": {
       "description_width": "",
       "font_size": null,
       "text_color": null
      }
     },
     "8602117268954d15b72b23e4bbbf5a66": {
      "model_module": "@jupyter-widgets/controls",
      "model_module_version": "2.0.0",
      "model_name": "HTMLStyleModel",
      "state": {
       "description_width": "",
       "font_size": null,
       "text_color": null
      }
     },
     "8638eeb303174bc3a6318d021652d92f": {
      "model_module": "@jupyter-widgets/controls",
      "model_module_version": "2.0.0",
      "model_name": "HBoxModel",
      "state": {
       "children": [
        "IPY_MODEL_1b60cfb17e97406e8e1507ae7357b716",
        "IPY_MODEL_964172a4c4964bb09879a394e4136090",
        "IPY_MODEL_48e9b0ce0c6046c19a998329a5630fc4"
       ],
       "layout": "IPY_MODEL_7670b8a9a8fc4d3cb34b511c00131eb7"
      }
     },
     "86f75070629441058e6dbcc872dd7b74": {
      "model_module": "@jupyter-widgets/base",
      "model_module_version": "2.0.0",
      "model_name": "LayoutModel",
      "state": {}
     },
     "87756e6062ed49a0913b3146749ae5c1": {
      "model_module": "@jupyter-widgets/base",
      "model_module_version": "2.0.0",
      "model_name": "LayoutModel",
      "state": {}
     },
     "87a261e8eeca4578b5316c763a3d5e42": {
      "model_module": "@jupyter-widgets/controls",
      "model_module_version": "2.0.0",
      "model_name": "FloatProgressModel",
      "state": {
       "bar_style": "success",
       "layout": "IPY_MODEL_bebfcb32ecbb4aa4a36585d43c05ed9e",
       "max": 200,
       "style": "IPY_MODEL_dbbb4af490214e8b81b84bcab82146f3",
       "value": 200
      }
     },
     "87be706490bc48688301f230fd992260": {
      "model_module": "@jupyter-widgets/base",
      "model_module_version": "2.0.0",
      "model_name": "LayoutModel",
      "state": {}
     },
     "87d8bb65aea2437c86d1cdd6bc65c80e": {
      "model_module": "@jupyter-widgets/controls",
      "model_module_version": "2.0.0",
      "model_name": "HTMLModel",
      "state": {
       "layout": "IPY_MODEL_152d1fd865434f4192fc88b4298d38d4",
       "style": "IPY_MODEL_8567c3d32ab44d4486ba2e6ed24d7482",
       "value": "Test edges &amp; props: 100%"
      }
     },
     "87e567b4375044babca522b87323d0f9": {
      "model_module": "@jupyter-widgets/controls",
      "model_module_version": "2.0.0",
      "model_name": "HTMLStyleModel",
      "state": {
       "description_width": "",
       "font_size": null,
       "text_color": null
      }
     },
     "87ecab0fc9724bfc865f10594d6baec1": {
      "model_module": "@jupyter-widgets/controls",
      "model_module_version": "2.0.0",
      "model_name": "HTMLStyleModel",
      "state": {
       "description_width": "",
       "font_size": null,
       "text_color": null
      }
     },
     "88388ecb3e2a436a9b6c17829b093c04": {
      "model_module": "@jupyter-widgets/controls",
      "model_module_version": "2.0.0",
      "model_name": "HTMLModel",
      "state": {
       "layout": "IPY_MODEL_f7ca2d86276e4f819ecee877879bf7a6",
       "style": "IPY_MODEL_095e03f30b2f40ca9ce26d82d54327b9",
       "value": " 3/3 [00:48&lt;00:00, 16.76s/it]"
      }
     },
     "88abeac025404decb8fc8394e8889afd": {
      "model_module": "@jupyter-widgets/base",
      "model_module_version": "2.0.0",
      "model_name": "LayoutModel",
      "state": {}
     },
     "89086dacf2254307928fc6ff6dfba22e": {
      "model_module": "@jupyter-widgets/controls",
      "model_module_version": "2.0.0",
      "model_name": "HBoxModel",
      "state": {
       "children": [
        "IPY_MODEL_cce964d00a2044d6959b6b68849879da",
        "IPY_MODEL_9c6fda29899b4e6faad9a5b0f16b2b2e",
        "IPY_MODEL_7516dbe9fdc34c20928cab83cd207473"
       ],
       "layout": "IPY_MODEL_af616840ec5e49659a441cc3a2ac0259"
      }
     },
     "891ab75906af44dcaaab3e014d1b5dc1": {
      "model_module": "@jupyter-widgets/base",
      "model_module_version": "2.0.0",
      "model_name": "LayoutModel",
      "state": {}
     },
     "894567beb9a6421788d03e324cc2dca1": {
      "model_module": "@jupyter-widgets/base",
      "model_module_version": "2.0.0",
      "model_name": "LayoutModel",
      "state": {}
     },
     "897192ad6169437cb44e1f394dc0884e": {
      "model_module": "@jupyter-widgets/controls",
      "model_module_version": "2.0.0",
      "model_name": "HTMLModel",
      "state": {
       "layout": "IPY_MODEL_6e0840f3ff30449ab40d5f6d672fc9b3",
       "style": "IPY_MODEL_e1438e05dba846f4bc51340a95707ed2",
       "value": " 1/3 [02:25&lt;04:51, 145.53s/it]"
      }
     },
     "898269292ee54f14b91ff688c1016841": {
      "model_module": "@jupyter-widgets/base",
      "model_module_version": "2.0.0",
      "model_name": "LayoutModel",
      "state": {}
     },
     "89e82a067ef7468f89d3ac1d485dfcc5": {
      "model_module": "@jupyter-widgets/base",
      "model_module_version": "2.0.0",
      "model_name": "LayoutModel",
      "state": {}
     },
     "8a8a0fd9fb9d4939b0a78974cfd4685d": {
      "model_module": "@jupyter-widgets/base",
      "model_module_version": "2.0.0",
      "model_name": "LayoutModel",
      "state": {}
     },
     "8afe620e2fee41b38f62e4365956d864": {
      "model_module": "@jupyter-widgets/base",
      "model_module_version": "2.0.0",
      "model_name": "LayoutModel",
      "state": {}
     },
     "8b3b66bfb8e9426189fd4b83ed4286e4": {
      "model_module": "@jupyter-widgets/base",
      "model_module_version": "2.0.0",
      "model_name": "LayoutModel",
      "state": {}
     },
     "8b7e9d7c6add4413b9596a950153d5ad": {
      "model_module": "@jupyter-widgets/base",
      "model_module_version": "2.0.0",
      "model_name": "LayoutModel",
      "state": {}
     },
     "8bf0c1de683442ada8a2c58472a669e4": {
      "model_module": "@jupyter-widgets/base",
      "model_module_version": "2.0.0",
      "model_name": "LayoutModel",
      "state": {}
     },
     "8c687c1674d44b78ab7e629f20499c7b": {
      "model_module": "@jupyter-widgets/base",
      "model_module_version": "2.0.0",
      "model_name": "LayoutModel",
      "state": {}
     },
     "8dea9227efc54ab6aed2dbc7728815c0": {
      "model_module": "@jupyter-widgets/controls",
      "model_module_version": "2.0.0",
      "model_name": "FloatProgressModel",
      "state": {
       "layout": "IPY_MODEL_cb8f3325695f4a3aa5e3fb5b8956c179",
       "max": 3,
       "style": "IPY_MODEL_748761f5901d4d67aba2631a9ed7056a",
       "value": 3
      }
     },
     "8dfc0b89eb2e4f3e9ce872354cd0084e": {
      "model_module": "@jupyter-widgets/controls",
      "model_module_version": "2.0.0",
      "model_name": "HBoxModel",
      "state": {
       "children": [
        "IPY_MODEL_4ec59cde2df64809bc646e1ea42caa4f",
        "IPY_MODEL_a3831d3377864a5795dbd48e529fd48e",
        "IPY_MODEL_164b52c568bc4945b13c49ce9b262626"
       ],
       "layout": "IPY_MODEL_fbd661a2931b422daa929ba76e10f298"
      }
     },
     "8e7e6f7a37d94e1a94b7d6ca4c3aa664": {
      "model_module": "@jupyter-widgets/controls",
      "model_module_version": "2.0.0",
      "model_name": "HTMLStyleModel",
      "state": {
       "description_width": "",
       "font_size": null,
       "text_color": null
      }
     },
     "8ec877634f6245d4a2720a2ed829b2f8": {
      "model_module": "@jupyter-widgets/base",
      "model_module_version": "2.0.0",
      "model_name": "LayoutModel",
      "state": {}
     },
     "8f7fd1057409426fbd990a658dedf2f9": {
      "model_module": "@jupyter-widgets/controls",
      "model_module_version": "2.0.0",
      "model_name": "HTMLModel",
      "state": {
       "layout": "IPY_MODEL_3f6c2a69a9704becab2fa7737305f156",
       "style": "IPY_MODEL_b9c14b8aafd44b8790ccd32fbe7b95a8",
       "value": " 3/3 [00:48&lt;00:00, 16.61s/it]"
      }
     },
     "90158b3e336f4a37857ccb62d38ff326": {
      "model_module": "@jupyter-widgets/base",
      "model_module_version": "2.0.0",
      "model_name": "LayoutModel",
      "state": {}
     },
     "902388f5df44474982d9971b69d32e2c": {
      "model_module": "@jupyter-widgets/controls",
      "model_module_version": "2.0.0",
      "model_name": "HTMLModel",
      "state": {
       "layout": "IPY_MODEL_372a572f822c47cc9ca3630d5eef144d",
       "style": "IPY_MODEL_023229ae14294398a9679feef8071547",
       "value": " 800/800 [00:13&lt;00:00, 57.66it/s]"
      }
     },
     "9077df6beba84b30ab6f1b7053ff0a7d": {
      "model_module": "@jupyter-widgets/controls",
      "model_module_version": "2.0.0",
      "model_name": "HTMLStyleModel",
      "state": {
       "description_width": "",
       "font_size": null,
       "text_color": null
      }
     },
     "90aede4deeeb482d91bac99b55cf1c44": {
      "model_module": "@jupyter-widgets/base",
      "model_module_version": "2.0.0",
      "model_name": "LayoutModel",
      "state": {
       "visibility": "hidden"
      }
     },
     "90e5fccf82734abe9f38027192bdef61": {
      "model_module": "@jupyter-widgets/controls",
      "model_module_version": "2.0.0",
      "model_name": "HTMLModel",
      "state": {
       "layout": "IPY_MODEL_be8de6b6922646c193fb6fe102b02238",
       "style": "IPY_MODEL_fb8022fa97554277a89a438d12f122c1",
       "value": "Test nodes: 100%"
      }
     },
     "91c0219f78bd4d9aac230b1eb5b5245a": {
      "model_module": "@jupyter-widgets/controls",
      "model_module_version": "2.0.0",
      "model_name": "ProgressStyleModel",
      "state": {
       "description_width": ""
      }
     },
     "91d31ce009b2426cb20aa4116dbbce72": {
      "model_module": "@jupyter-widgets/base",
      "model_module_version": "2.0.0",
      "model_name": "LayoutModel",
      "state": {}
     },
     "92812f4e758b430e8b0bebfb7cd8a201": {
      "model_module": "@jupyter-widgets/controls",
      "model_module_version": "2.0.0",
      "model_name": "HBoxModel",
      "state": {
       "children": [
        "IPY_MODEL_87d8bb65aea2437c86d1cdd6bc65c80e",
        "IPY_MODEL_f9c6b211f6414e36b401808ecb9ed1eb",
        "IPY_MODEL_22f8d1593cfd4fa48a19f80fd7225820"
       ],
       "layout": "IPY_MODEL_54e3187cd2d64364abbe848a908fef04"
      }
     },
     "92c1fe381d9349609ac25bcff093c129": {
      "model_module": "@jupyter-widgets/controls",
      "model_module_version": "2.0.0",
      "model_name": "FloatProgressModel",
      "state": {
       "bar_style": "success",
       "layout": "IPY_MODEL_3377fdd05584483b95c18bdbdb7890ef",
       "max": 200,
       "style": "IPY_MODEL_3614f77fd18e4266930a8b48d4efd177",
       "value": 200
      }
     },
     "93f5ac8b61ee43b78976a7bd703c202a": {
      "model_module": "@jupyter-widgets/base",
      "model_module_version": "2.0.0",
      "model_name": "LayoutModel",
      "state": {}
     },
     "940389d4b7d945d594a8ea8232b4bf96": {
      "model_module": "@jupyter-widgets/base",
      "model_module_version": "2.0.0",
      "model_name": "LayoutModel",
      "state": {}
     },
     "94c4bd0c173a4ce28999ab5bbb31083e": {
      "model_module": "@jupyter-widgets/base",
      "model_module_version": "2.0.0",
      "model_name": "LayoutModel",
      "state": {}
     },
     "94dcfc616b5b46329482fef3ad1e7159": {
      "model_module": "@jupyter-widgets/controls",
      "model_module_version": "2.0.0",
      "model_name": "HTMLModel",
      "state": {
       "layout": "IPY_MODEL_d60f90dc02fc4007bdc4cdd3688c11cc",
       "style": "IPY_MODEL_1424a3e383bd46c385de42a0b03dafbc",
       "value": " 3/3 [00:48&lt;00:00, 16.80s/it]"
      }
     },
     "954a5d67e8e8494a9161a711ee39d1f9": {
      "model_module": "@jupyter-widgets/base",
      "model_module_version": "2.0.0",
      "model_name": "LayoutModel",
      "state": {}
     },
     "964172a4c4964bb09879a394e4136090": {
      "model_module": "@jupyter-widgets/controls",
      "model_module_version": "2.0.0",
      "model_name": "FloatProgressModel",
      "state": {
       "bar_style": "success",
       "layout": "IPY_MODEL_efd6d76d855747819e430f722d21fdbf",
       "max": 800,
       "style": "IPY_MODEL_1d03750981534bbcac5a20a390b802fd",
       "value": 800
      }
     },
     "96af3b2430574320948244919877e606": {
      "model_module": "@jupyter-widgets/base",
      "model_module_version": "2.0.0",
      "model_name": "LayoutModel",
      "state": {}
     },
     "97413b95c00c4d1c83df485a68e34b16": {
      "model_module": "@jupyter-widgets/controls",
      "model_module_version": "2.0.0",
      "model_name": "HBoxModel",
      "state": {
       "children": [
        "IPY_MODEL_b75aef1d45b540558814aa012940eba5",
        "IPY_MODEL_c4afae474de94b0189fc61cdd0708950",
        "IPY_MODEL_c6a30882db514f7f9c746ea5b055e14a"
       ],
       "layout": "IPY_MODEL_a31f9f1dcc684b7fa37deae99fe2d507"
      }
     },
     "9741ae4f4ccd4a3e95754cefbbc2b79f": {
      "model_module": "@jupyter-widgets/controls",
      "model_module_version": "2.0.0",
      "model_name": "HTMLModel",
      "state": {
       "layout": "IPY_MODEL_d1d422592cba43b3a973bd9943bd4da2",
       "style": "IPY_MODEL_3bd0987eeb9842769a6a19e3bfedca44",
       "value": " 800/800 [00:11&lt;00:00, 65.85it/s]"
      }
     },
     "975d314efeac41c392e23a7b2581c90b": {
      "model_module": "@jupyter-widgets/base",
      "model_module_version": "2.0.0",
      "model_name": "LayoutModel",
      "state": {}
     },
     "98d566bfef2a4e32aaae6f1c2f455d13": {
      "model_module": "@jupyter-widgets/controls",
      "model_module_version": "2.0.0",
      "model_name": "FloatProgressModel",
      "state": {
       "bar_style": "success",
       "layout": "IPY_MODEL_3b05d90efc984cd9ab575d222f7e6c0d",
       "max": 200,
       "style": "IPY_MODEL_31450ef39fa14d92b237d4f7bcb5e97c",
       "value": 200
      }
     },
     "9992b8320e78429ea9879b4b55cbd272": {
      "model_module": "@jupyter-widgets/controls",
      "model_module_version": "2.0.0",
      "model_name": "HTMLModel",
      "state": {
       "layout": "IPY_MODEL_0aa08d8c128e495f9ee6ebfefc3bf687",
       "style": "IPY_MODEL_6a19293a15c046f39d2f1d4b0d4f4c5d",
       "value": " 800/800 [00:00&lt;00:00, 1743.08it/s]"
      }
     },
     "9b1c9c66999f46b7a1f99cfe436b34fa": {
      "model_module": "@jupyter-widgets/controls",
      "model_module_version": "2.0.0",
      "model_name": "HTMLModel",
      "state": {
       "layout": "IPY_MODEL_483b2108d5cc45e4b921e5a113061a55",
       "style": "IPY_MODEL_31bef24598b246e888d921e2f0c5dec3",
       "value": "Test nodes: 100%"
      }
     },
     "9b886dc19ea04901bc24737612c7d390": {
      "model_module": "@jupyter-widgets/base",
      "model_module_version": "2.0.0",
      "model_name": "LayoutModel",
      "state": {}
     },
     "9baaf52327b5476fb5f696829b6ec180": {
      "model_module": "@jupyter-widgets/controls",
      "model_module_version": "2.0.0",
      "model_name": "HBoxModel",
      "state": {
       "children": [
        "IPY_MODEL_d4e40e76c8904f77a68596bc80b81dec",
        "IPY_MODEL_08a8c47dca00409da3342602119e40ae",
        "IPY_MODEL_dafadcfc8b4f434ba553159f1c85609f"
       ],
       "layout": "IPY_MODEL_279f0d1abea14e2d984a533f40242a18"
      }
     },
     "9c1a92d78f5d4bf08ebf9c501c8e4d97": {
      "model_module": "@jupyter-widgets/controls",
      "model_module_version": "2.0.0",
      "model_name": "ProgressStyleModel",
      "state": {
       "description_width": ""
      }
     },
     "9c6fda29899b4e6faad9a5b0f16b2b2e": {
      "model_module": "@jupyter-widgets/controls",
      "model_module_version": "2.0.0",
      "model_name": "FloatProgressModel",
      "state": {
       "bar_style": "danger",
       "layout": "IPY_MODEL_0d4a0e3e03af48dbb00e1254de95c6fd",
       "max": 1,
       "style": "IPY_MODEL_d446e5572f33425db48b2b73ce53ae3f"
      }
     },
     "9c78f063940a4e5ebccf62669c468a5a": {
      "model_module": "@jupyter-widgets/controls",
      "model_module_version": "2.0.0",
      "model_name": "FloatProgressModel",
      "state": {
       "bar_style": "success",
       "layout": "IPY_MODEL_8b7e9d7c6add4413b9596a950153d5ad",
       "max": 800,
       "style": "IPY_MODEL_91c0219f78bd4d9aac230b1eb5b5245a",
       "value": 800
      }
     },
     "9eac55aaedfa4fe49fa1483c66dce1ec": {
      "model_module": "@jupyter-widgets/controls",
      "model_module_version": "2.0.0",
      "model_name": "HTMLModel",
      "state": {
       "layout": "IPY_MODEL_76bc3b131e2f43f483212a4b674f2fc5",
       "style": "IPY_MODEL_5bcd51345e8e4ba3a6c6114b39da3bd4",
       "value": " 200/200 [00:03&lt;00:00, 64.71it/s]"
      }
     },
     "9fb9a96ae791465ab99d1f2c7e0595fd": {
      "model_module": "@jupyter-widgets/base",
      "model_module_version": "2.0.0",
      "model_name": "LayoutModel",
      "state": {}
     },
     "a05283c4f4d24b2bbf91163a7feec43a": {
      "model_module": "@jupyter-widgets/controls",
      "model_module_version": "2.0.0",
      "model_name": "HTMLModel",
      "state": {
       "layout": "IPY_MODEL_6efa0fea42df4f3ebf3ef3347cbe374e",
       "style": "IPY_MODEL_2de8dc73faba4f229f3d09ee15d933b4",
       "value": " 200/200 [00:00&lt;00:00, 1587.28it/s]"
      }
     },
     "a074232c4cf54ae89da8354a3492e8bc": {
      "model_module": "@jupyter-widgets/base",
      "model_module_version": "2.0.0",
      "model_name": "LayoutModel",
      "state": {}
     },
     "a109dfb9e1e846e3862d6e842cf0db2d": {
      "model_module": "@jupyter-widgets/controls",
      "model_module_version": "2.0.0",
      "model_name": "HTMLStyleModel",
      "state": {
       "description_width": "",
       "font_size": null,
       "text_color": null
      }
     },
     "a1da5d939ae34ff182c86c1491aab65e": {
      "model_module": "@jupyter-widgets/controls",
      "model_module_version": "2.0.0",
      "model_name": "HTMLStyleModel",
      "state": {
       "description_width": "",
       "font_size": null,
       "text_color": null
      }
     },
     "a24854764feb4117ad10ea84e86a6654": {
      "model_module": "@jupyter-widgets/base",
      "model_module_version": "2.0.0",
      "model_name": "LayoutModel",
      "state": {}
     },
     "a289f09567ac4b4aaed18b3a3bf42b44": {
      "model_module": "@jupyter-widgets/controls",
      "model_module_version": "2.0.0",
      "model_name": "HTMLModel",
      "state": {
       "layout": "IPY_MODEL_c2d490056938457593d3223dcf81203a",
       "style": "IPY_MODEL_f72b5d011db1423face2f1e55ac67e68",
       "value": "Train nodes: 100%"
      }
     },
     "a297f5af719144c1aec75eb985981a37": {
      "model_module": "@jupyter-widgets/controls",
      "model_module_version": "2.0.0",
      "model_name": "ProgressStyleModel",
      "state": {
       "description_width": ""
      }
     },
     "a31f9f1dcc684b7fa37deae99fe2d507": {
      "model_module": "@jupyter-widgets/base",
      "model_module_version": "2.0.0",
      "model_name": "LayoutModel",
      "state": {}
     },
     "a34af4ffc0d44d27bfb36fdb6c98beaf": {
      "model_module": "@jupyter-widgets/controls",
      "model_module_version": "2.0.0",
      "model_name": "HTMLModel",
      "state": {
       "layout": "IPY_MODEL_580973dd1e424e1d85f42f2f5cace4bb",
       "style": "IPY_MODEL_320714dd5558408cac7a4450c7196b06",
       "value": "Train nodes: 100%"
      }
     },
     "a3778568fbe349149d016e3220dd11eb": {
      "model_module": "@jupyter-widgets/base",
      "model_module_version": "2.0.0",
      "model_name": "LayoutModel",
      "state": {
       "visibility": "hidden"
      }
     },
     "a3831d3377864a5795dbd48e529fd48e": {
      "model_module": "@jupyter-widgets/controls",
      "model_module_version": "2.0.0",
      "model_name": "FloatProgressModel",
      "state": {
       "bar_style": "success",
       "layout": "IPY_MODEL_9b886dc19ea04901bc24737612c7d390",
       "max": 200,
       "style": "IPY_MODEL_f058a4e3748c42fca0c84f2681ece289",
       "value": 200
      }
     },
     "a3dc2b12b1e34b5a95fcc033239f10a9": {
      "model_module": "@jupyter-widgets/controls",
      "model_module_version": "2.0.0",
      "model_name": "ProgressStyleModel",
      "state": {
       "description_width": ""
      }
     },
     "a4de4884f5f249f7a1300fba41c79b6f": {
      "model_module": "@jupyter-widgets/base",
      "model_module_version": "2.0.0",
      "model_name": "LayoutModel",
      "state": {}
     },
     "a5887a82a79e4f619d203d5e53762a2b": {
      "model_module": "@jupyter-widgets/base",
      "model_module_version": "2.0.0",
      "model_name": "LayoutModel",
      "state": {}
     },
     "a6c60daa947442d2b5de28054c7ad04f": {
      "model_module": "@jupyter-widgets/base",
      "model_module_version": "2.0.0",
      "model_name": "LayoutModel",
      "state": {}
     },
     "a70dd24cc7d145ea873c7f0e05eecbcf": {
      "model_module": "@jupyter-widgets/controls",
      "model_module_version": "2.0.0",
      "model_name": "HTMLModel",
      "state": {
       "layout": "IPY_MODEL_e0a5c6c0e5674dd6bf0ce8b445d066bd",
       "style": "IPY_MODEL_7fd5cb28050347f5b10c8a26c631cc9a",
       "value": "Train edges &amp; props: 100%"
      }
     },
     "a89b07625447463ab3bc71f5a566e012": {
      "model_module": "@jupyter-widgets/controls",
      "model_module_version": "2.0.0",
      "model_name": "HTMLModel",
      "state": {
       "layout": "IPY_MODEL_368fce30b0a14e8c992f34ef36a2c825",
       "style": "IPY_MODEL_87ecab0fc9724bfc865f10594d6baec1",
       "value": "Test nodes: 100%"
      }
     },
     "a9e5450f1ecf4dd8a36894a434c91cd7": {
      "model_module": "@jupyter-widgets/controls",
      "model_module_version": "2.0.0",
      "model_name": "HTMLModel",
      "state": {
       "layout": "IPY_MODEL_e863d8b87670400ca902b309a43e98ca",
       "style": "IPY_MODEL_7a4a44eaaeff4c1a9577180a89c406a0",
       "value": "Test nodes: 100%"
      }
     },
     "aa1f75abe1984e7fbf55dfb11eeb2a58": {
      "model_module": "@jupyter-widgets/base",
      "model_module_version": "2.0.0",
      "model_name": "LayoutModel",
      "state": {}
     },
     "aac25b14891c4b0b8b4268811da0d294": {
      "model_module": "@jupyter-widgets/controls",
      "model_module_version": "2.0.0",
      "model_name": "HBoxModel",
      "state": {
       "children": [
        "IPY_MODEL_706120834d9747b0b3b08d1bfc3d7e76",
        "IPY_MODEL_72c6237836b04507b6bddb27e16145e5",
        "IPY_MODEL_412b25bedcd64ab6b6abc4745c287f84"
       ],
       "layout": "IPY_MODEL_c059e7b4c25e49c4aa4db04f2e147a1b"
      }
     },
     "ab2b2461cc0043ecb854c426da6ec11c": {
      "model_module": "@jupyter-widgets/base",
      "model_module_version": "2.0.0",
      "model_name": "LayoutModel",
      "state": {}
     },
     "ab56d184603144e79b0cd4c7642f269c": {
      "model_module": "@jupyter-widgets/base",
      "model_module_version": "2.0.0",
      "model_name": "LayoutModel",
      "state": {}
     },
     "ab75ef81efa147c1b778eaab7d21e568": {
      "model_module": "@jupyter-widgets/controls",
      "model_module_version": "2.0.0",
      "model_name": "HTMLModel",
      "state": {
       "layout": "IPY_MODEL_561277b0317748d19ac7f22eb3eaef9c",
       "style": "IPY_MODEL_bd4ade099b4e4699be81f7d32fa91419",
       "value": "Test edges &amp; props: 100%"
      }
     },
     "ad538dcaf74a4733a68388806d3f8cff": {
      "model_module": "@jupyter-widgets/base",
      "model_module_version": "2.0.0",
      "model_name": "LayoutModel",
      "state": {}
     },
     "ae397d20853c4a5e9a962a9f664d7532": {
      "model_module": "@jupyter-widgets/base",
      "model_module_version": "2.0.0",
      "model_name": "LayoutModel",
      "state": {}
     },
     "ae6a8f11f55b4a86b80aa4343f305b05": {
      "model_module": "@jupyter-widgets/base",
      "model_module_version": "2.0.0",
      "model_name": "LayoutModel",
      "state": {}
     },
     "aeb2a2d21b19464fb08b85e52e96b131": {
      "model_module": "@jupyter-widgets/controls",
      "model_module_version": "2.0.0",
      "model_name": "HTMLStyleModel",
      "state": {
       "description_width": "",
       "font_size": null,
       "text_color": null
      }
     },
     "af1a7c2b08684fb2a571d7622b6354fe": {
      "model_module": "@jupyter-widgets/base",
      "model_module_version": "2.0.0",
      "model_name": "LayoutModel",
      "state": {}
     },
     "af5e4e4efb544078871a6901910c3d05": {
      "model_module": "@jupyter-widgets/controls",
      "model_module_version": "2.0.0",
      "model_name": "FloatProgressModel",
      "state": {
       "layout": "IPY_MODEL_5cf9dd2f0e6d4c92936cf59584ee3848",
       "max": 3,
       "style": "IPY_MODEL_459586bc6ed943ec8e44fb298d3e56b7",
       "value": 3
      }
     },
     "af616840ec5e49659a441cc3a2ac0259": {
      "model_module": "@jupyter-widgets/base",
      "model_module_version": "2.0.0",
      "model_name": "LayoutModel",
      "state": {}
     },
     "afd29238c46840a4a80d28179e865cba": {
      "model_module": "@jupyter-widgets/controls",
      "model_module_version": "2.0.0",
      "model_name": "HTMLModel",
      "state": {
       "layout": "IPY_MODEL_e26a2fc9a4be47e88c400c017bc03e90",
       "style": "IPY_MODEL_16ce40da610c4918aed267e35aa08ae5",
       "value": " 800/800 [00:00&lt;00:00, 1750.48it/s]"
      }
     },
     "b0afc09fc7104743b986689f759cac2d": {
      "model_module": "@jupyter-widgets/controls",
      "model_module_version": "2.0.0",
      "model_name": "HBoxModel",
      "state": {
       "children": [
        "IPY_MODEL_68366a99ffbc44cf96e48036463539ec",
        "IPY_MODEL_2be56b31bf18404e8647d2ea7d65ffea",
        "IPY_MODEL_9eac55aaedfa4fe49fa1483c66dce1ec"
       ],
       "layout": "IPY_MODEL_b67ce5c3c5b144c1884a93e8996a0192"
      }
     },
     "b0d902b3a0c24767903045700c6a950e": {
      "model_module": "@jupyter-widgets/controls",
      "model_module_version": "2.0.0",
      "model_name": "HTMLStyleModel",
      "state": {
       "description_width": "",
       "font_size": null,
       "text_color": null
      }
     },
     "b15bd19c0a244073aa8ca0ee27a87a36": {
      "model_module": "@jupyter-widgets/base",
      "model_module_version": "2.0.0",
      "model_name": "LayoutModel",
      "state": {}
     },
     "b3dd4a7a853443a7878c65b63b904b89": {
      "model_module": "@jupyter-widgets/controls",
      "model_module_version": "2.0.0",
      "model_name": "ProgressStyleModel",
      "state": {
       "description_width": ""
      }
     },
     "b4b7df2e9d3345a092aabbf7a312ca8a": {
      "model_module": "@jupyter-widgets/controls",
      "model_module_version": "2.0.0",
      "model_name": "FloatProgressModel",
      "state": {
       "layout": "IPY_MODEL_6688655b3180438ca5a6853d20afb049",
       "max": 3,
       "style": "IPY_MODEL_b50d5e99817f4f8dbcbac28f4df014fb",
       "value": 3
      }
     },
     "b50d5e99817f4f8dbcbac28f4df014fb": {
      "model_module": "@jupyter-widgets/controls",
      "model_module_version": "2.0.0",
      "model_name": "ProgressStyleModel",
      "state": {
       "description_width": ""
      }
     },
     "b576d3fe98384bfaaf24ede90d6387bc": {
      "model_module": "@jupyter-widgets/controls",
      "model_module_version": "2.0.0",
      "model_name": "HBoxModel",
      "state": {
       "children": [
        "IPY_MODEL_e82c1e4cf5d94016a4442f2079457257",
        "IPY_MODEL_c71dbef395f54a54908e77ab4258d700",
        "IPY_MODEL_77b94bdb368c44c48653624947c9a042"
       ],
       "layout": "IPY_MODEL_be1dd7de69dd41c9a07994c41fd45e81"
      }
     },
     "b5e156bd6c64481099a0935e92d5c1ef": {
      "model_module": "@jupyter-widgets/controls",
      "model_module_version": "2.0.0",
      "model_name": "HTMLStyleModel",
      "state": {
       "description_width": "",
       "font_size": null,
       "text_color": null
      }
     },
     "b67ce5c3c5b144c1884a93e8996a0192": {
      "model_module": "@jupyter-widgets/base",
      "model_module_version": "2.0.0",
      "model_name": "LayoutModel",
      "state": {}
     },
     "b75aef1d45b540558814aa012940eba5": {
      "model_module": "@jupyter-widgets/controls",
      "model_module_version": "2.0.0",
      "model_name": "HTMLModel",
      "state": {
       "layout": "IPY_MODEL_3810db9bba8d4f8284fcfc26a25583b8",
       "style": "IPY_MODEL_7cf9c435eb2146a1a813fd7aa31e7944",
       "value": "Train nodes: 100%"
      }
     },
     "b77d2b68a6c849af8ca2ebc23790e2b1": {
      "model_module": "@jupyter-widgets/controls",
      "model_module_version": "2.0.0",
      "model_name": "FloatProgressModel",
      "state": {
       "bar_style": "success",
       "layout": "IPY_MODEL_c4c6fa826705439f8f796931dc1714f2",
       "max": 200,
       "style": "IPY_MODEL_b3dd4a7a853443a7878c65b63b904b89",
       "value": 200
      }
     },
     "b784f99527a5478ea47da0d647ec1aaf": {
      "model_module": "@jupyter-widgets/controls",
      "model_module_version": "2.0.0",
      "model_name": "HTMLModel",
      "state": {
       "layout": "IPY_MODEL_0a78d583390a4a50ad039a78afef86ae",
       "style": "IPY_MODEL_4e8b2a1b26be4cecb7d0d627c4d40a33",
       "value": "Test nodes: 100%"
      }
     },
     "b79e867de85f49cda4d158c81b6af629": {
      "model_module": "@jupyter-widgets/controls",
      "model_module_version": "2.0.0",
      "model_name": "ProgressStyleModel",
      "state": {
       "description_width": ""
      }
     },
     "b9c14b8aafd44b8790ccd32fbe7b95a8": {
      "model_module": "@jupyter-widgets/controls",
      "model_module_version": "2.0.0",
      "model_name": "HTMLStyleModel",
      "state": {
       "description_width": "",
       "font_size": null,
       "text_color": null
      }
     },
     "ba344c2fc7cb4bb5ab18d962eae50b25": {
      "model_module": "@jupyter-widgets/controls",
      "model_module_version": "2.0.0",
      "model_name": "HTMLStyleModel",
      "state": {
       "description_width": "",
       "font_size": null,
       "text_color": null
      }
     },
     "bad3c46df611410bacb27abc22d9342a": {
      "model_module": "@jupyter-widgets/controls",
      "model_module_version": "2.0.0",
      "model_name": "HTMLModel",
      "state": {
       "layout": "IPY_MODEL_3fe99650dfab4dab9fdde55d4dd81f48",
       "style": "IPY_MODEL_57b5d8985ac84ce2b7b39899cc168bcf",
       "value": " 800/800 [00:00&lt;00:00, 1536.02it/s]"
      }
     },
     "bc2e576fa1d142428eef04ddfd7f726c": {
      "model_module": "@jupyter-widgets/controls",
      "model_module_version": "2.0.0",
      "model_name": "HTMLStyleModel",
      "state": {
       "description_width": "",
       "font_size": null,
       "text_color": null
      }
     },
     "bd4ade099b4e4699be81f7d32fa91419": {
      "model_module": "@jupyter-widgets/controls",
      "model_module_version": "2.0.0",
      "model_name": "HTMLStyleModel",
      "state": {
       "description_width": "",
       "font_size": null,
       "text_color": null
      }
     },
     "bd80ca41deef4828b6940ec062bfeedc": {
      "model_module": "@jupyter-widgets/controls",
      "model_module_version": "2.0.0",
      "model_name": "FloatProgressModel",
      "state": {
       "bar_style": "success",
       "layout": "IPY_MODEL_82eadfedf8da4baf9c5b5208802ddd54",
       "max": 200,
       "style": "IPY_MODEL_052a6ba882ce40e08c45860a1a67c8c5",
       "value": 200
      }
     },
     "bd8311cc93fd4eeeb57613c1ce666aef": {
      "model_module": "@jupyter-widgets/base",
      "model_module_version": "2.0.0",
      "model_name": "LayoutModel",
      "state": {}
     },
     "be1dd7de69dd41c9a07994c41fd45e81": {
      "model_module": "@jupyter-widgets/base",
      "model_module_version": "2.0.0",
      "model_name": "LayoutModel",
      "state": {}
     },
     "be8de6b6922646c193fb6fe102b02238": {
      "model_module": "@jupyter-widgets/base",
      "model_module_version": "2.0.0",
      "model_name": "LayoutModel",
      "state": {}
     },
     "bea371f82a90471eadcf8679284865c0": {
      "model_module": "@jupyter-widgets/base",
      "model_module_version": "2.0.0",
      "model_name": "LayoutModel",
      "state": {}
     },
     "bebfcb32ecbb4aa4a36585d43c05ed9e": {
      "model_module": "@jupyter-widgets/base",
      "model_module_version": "2.0.0",
      "model_name": "LayoutModel",
      "state": {}
     },
     "bfddd466bd354ed787206259d8b15d50": {
      "model_module": "@jupyter-widgets/controls",
      "model_module_version": "2.0.0",
      "model_name": "HTMLStyleModel",
      "state": {
       "description_width": "",
       "font_size": null,
       "text_color": null
      }
     },
     "c026101618ba42f2a42f5e0375f4087a": {
      "model_module": "@jupyter-widgets/base",
      "model_module_version": "2.0.0",
      "model_name": "LayoutModel",
      "state": {
       "visibility": "hidden"
      }
     },
     "c04e691569d4437b9f642df8293005ef": {
      "model_module": "@jupyter-widgets/controls",
      "model_module_version": "2.0.0",
      "model_name": "HTMLStyleModel",
      "state": {
       "description_width": "",
       "font_size": null,
       "text_color": null
      }
     },
     "c059e7b4c25e49c4aa4db04f2e147a1b": {
      "model_module": "@jupyter-widgets/base",
      "model_module_version": "2.0.0",
      "model_name": "LayoutModel",
      "state": {}
     },
     "c17ac8c831f243b28688361c2ee933e0": {
      "model_module": "@jupyter-widgets/controls",
      "model_module_version": "2.0.0",
      "model_name": "HBoxModel",
      "state": {
       "children": [
        "IPY_MODEL_a89b07625447463ab3bc71f5a566e012",
        "IPY_MODEL_dc516d05976940ddb589466d18b70d69",
        "IPY_MODEL_41728b7a3b244d12bf48b6e5f83019ab"
       ],
       "layout": "IPY_MODEL_47ad6907c87c4ab2a435e17a060c0b9d"
      }
     },
     "c1a4f201ac8043c9bf4beb0e8db416d1": {
      "model_module": "@jupyter-widgets/base",
      "model_module_version": "2.0.0",
      "model_name": "LayoutModel",
      "state": {}
     },
     "c1e30c33e28d47fcbb9ecc715ad9f37a": {
      "model_module": "@jupyter-widgets/base",
      "model_module_version": "2.0.0",
      "model_name": "LayoutModel",
      "state": {}
     },
     "c2d490056938457593d3223dcf81203a": {
      "model_module": "@jupyter-widgets/base",
      "model_module_version": "2.0.0",
      "model_name": "LayoutModel",
      "state": {}
     },
     "c496cda2295d47919931909d7bff5752": {
      "model_module": "@jupyter-widgets/controls",
      "model_module_version": "2.0.0",
      "model_name": "HBoxModel",
      "state": {
       "children": [
        "IPY_MODEL_a289f09567ac4b4aaed18b3a3bf42b44",
        "IPY_MODEL_0e3be4616c1042d583b05de20e7bbe32",
        "IPY_MODEL_1421eb3cd9e54261a52003b25ab2ead3"
       ],
       "layout": "IPY_MODEL_ab56d184603144e79b0cd4c7642f269c"
      }
     },
     "c499d6b2f5ff4f839ed390501e344f19": {
      "model_module": "@jupyter-widgets/base",
      "model_module_version": "2.0.0",
      "model_name": "LayoutModel",
      "state": {}
     },
     "c4afae474de94b0189fc61cdd0708950": {
      "model_module": "@jupyter-widgets/controls",
      "model_module_version": "2.0.0",
      "model_name": "FloatProgressModel",
      "state": {
       "bar_style": "success",
       "layout": "IPY_MODEL_93f5ac8b61ee43b78976a7bd703c202a",
       "max": 800,
       "style": "IPY_MODEL_2a98e2bc20d843fa991b1cb34320bd82",
       "value": 800
      }
     },
     "c4c6fa826705439f8f796931dc1714f2": {
      "model_module": "@jupyter-widgets/base",
      "model_module_version": "2.0.0",
      "model_name": "LayoutModel",
      "state": {}
     },
     "c5521bb31714430da8355cb9c8d45017": {
      "model_module": "@jupyter-widgets/controls",
      "model_module_version": "2.0.0",
      "model_name": "HTMLStyleModel",
      "state": {
       "description_width": "",
       "font_size": null,
       "text_color": null
      }
     },
     "c65919c771694cafa3fd923ed1523581": {
      "model_module": "@jupyter-widgets/controls",
      "model_module_version": "2.0.0",
      "model_name": "HBoxModel",
      "state": {
       "children": [
        "IPY_MODEL_ec9e2ae1112a4bd9af3c7e26f25ae631",
        "IPY_MODEL_0b00c142e55e4e57aa33925f40bf89d8",
        "IPY_MODEL_2f5ffb3d36d94602b305fbe1e2dc8069"
       ],
       "layout": "IPY_MODEL_c1a4f201ac8043c9bf4beb0e8db416d1"
      }
     },
     "c6a30882db514f7f9c746ea5b055e14a": {
      "model_module": "@jupyter-widgets/controls",
      "model_module_version": "2.0.0",
      "model_name": "HTMLModel",
      "state": {
       "layout": "IPY_MODEL_e09662239c994eceb73719cea0bfbcbe",
       "style": "IPY_MODEL_e1087f678e2c4d2c89df6f3fa5819c3f",
       "value": " 800/800 [00:00&lt;00:00, 2144.81it/s]"
      }
     },
     "c71dbef395f54a54908e77ab4258d700": {
      "model_module": "@jupyter-widgets/controls",
      "model_module_version": "2.0.0",
      "model_name": "FloatProgressModel",
      "state": {
       "bar_style": "success",
       "layout": "IPY_MODEL_12e7f4a59c354c4f9bf5a78142eb5ba3",
       "max": 800,
       "style": "IPY_MODEL_fcf5ba350d09413896d91753f2675a3e",
       "value": 800
      }
     },
     "c80ceeef8ab844708eb4b0fa3d387f56": {
      "model_module": "@jupyter-widgets/base",
      "model_module_version": "2.0.0",
      "model_name": "LayoutModel",
      "state": {}
     },
     "c912671215324a6ab27752781d0b757f": {
      "model_module": "@jupyter-widgets/controls",
      "model_module_version": "2.0.0",
      "model_name": "HTMLModel",
      "state": {
       "layout": "IPY_MODEL_e3598578a7c248908beda3c4aea95236",
       "style": "IPY_MODEL_bfddd466bd354ed787206259d8b15d50",
       "value": "Test edges &amp; props: 100%"
      }
     },
     "c9ba6abac555447b845a44a34b7dbc22": {
      "model_module": "@jupyter-widgets/controls",
      "model_module_version": "2.0.0",
      "model_name": "HTMLStyleModel",
      "state": {
       "description_width": "",
       "font_size": null,
       "text_color": null
      }
     },
     "cb0019f6106e473ebf98f69c00bc2eaf": {
      "model_module": "@jupyter-widgets/controls",
      "model_module_version": "2.0.0",
      "model_name": "HBoxModel",
      "state": {
       "children": [
        "IPY_MODEL_779541ea2dcf437b908611458fcc2d73",
        "IPY_MODEL_1ba349bbe02a4711ab6faec2cd1daa49",
        "IPY_MODEL_9741ae4f4ccd4a3e95754cefbbc2b79f"
       ],
       "layout": "IPY_MODEL_cd5af4b507b24531be628c03a3824bf6"
      }
     },
     "cb457bdb6fc54661af93911e59e1ac21": {
      "model_module": "@jupyter-widgets/controls",
      "model_module_version": "2.0.0",
      "model_name": "HTMLStyleModel",
      "state": {
       "description_width": "",
       "font_size": null,
       "text_color": null
      }
     },
     "cb8f3325695f4a3aa5e3fb5b8956c179": {
      "model_module": "@jupyter-widgets/base",
      "model_module_version": "2.0.0",
      "model_name": "LayoutModel",
      "state": {}
     },
     "cbac0853a1fc46229ac9a4dafb5d42bd": {
      "model_module": "@jupyter-widgets/base",
      "model_module_version": "2.0.0",
      "model_name": "LayoutModel",
      "state": {}
     },
     "cc5228fa15aa4640a0f3d0719f4f7b66": {
      "model_module": "@jupyter-widgets/controls",
      "model_module_version": "2.0.0",
      "model_name": "HTMLModel",
      "state": {
       "layout": "IPY_MODEL_73fd15baaecf4d9e80c9581f82539717",
       "style": "IPY_MODEL_a1da5d939ae34ff182c86c1491aab65e",
       "value": "Moves Before: 100%"
      }
     },
     "cc5962cc91304ed3965236103d4abf6e": {
      "model_module": "@jupyter-widgets/base",
      "model_module_version": "2.0.0",
      "model_name": "LayoutModel",
      "state": {}
     },
     "cce964d00a2044d6959b6b68849879da": {
      "model_module": "@jupyter-widgets/controls",
      "model_module_version": "2.0.0",
      "model_name": "HTMLModel",
      "state": {
       "layout": "IPY_MODEL_3026b9bc4c2c4ea48b71992109602f61",
       "style": "IPY_MODEL_1db0d5db5bab484e948ff9e713fa7543",
       "value": "Open positions:   0%"
      }
     },
     "cd343593c96f44378d1bd8a75ee3c10b": {
      "model_module": "@jupyter-widgets/controls",
      "model_module_version": "2.0.0",
      "model_name": "ProgressStyleModel",
      "state": {
       "description_width": ""
      }
     },
     "cd406679756d46a5981cad9208db6d12": {
      "model_module": "@jupyter-widgets/base",
      "model_module_version": "2.0.0",
      "model_name": "LayoutModel",
      "state": {}
     },
     "cd5af4b507b24531be628c03a3824bf6": {
      "model_module": "@jupyter-widgets/base",
      "model_module_version": "2.0.0",
      "model_name": "LayoutModel",
      "state": {}
     },
     "cda423835d9c485984c29f53c98ca926": {
      "model_module": "@jupyter-widgets/controls",
      "model_module_version": "2.0.0",
      "model_name": "HTMLStyleModel",
      "state": {
       "description_width": "",
       "font_size": null,
       "text_color": null
      }
     },
     "ce345e82ee4c497685412cdfaea0988a": {
      "model_module": "@jupyter-widgets/controls",
      "model_module_version": "2.0.0",
      "model_name": "HBoxModel",
      "state": {
       "children": [
        "IPY_MODEL_0e31dbe82f264659a6011b84f5e09de6",
        "IPY_MODEL_7232a564d00c475bbbf74c921e8e7450",
        "IPY_MODEL_4b8c963d75af4370b3299ee7d48f2f26"
       ],
       "layout": "IPY_MODEL_17636b8ba6c24cdfa655301abb611da7"
      }
     },
     "ce3b8136dc064490b6e8df6942e666ca": {
      "model_module": "@jupyter-widgets/controls",
      "model_module_version": "2.0.0",
      "model_name": "HBoxModel",
      "state": {
       "children": [
        "IPY_MODEL_ab75ef81efa147c1b778eaab7d21e568",
        "IPY_MODEL_f72dd4158f1d400b867ee467a14ff4b7",
        "IPY_MODEL_668644a6e1234eaf91bdd25b0ff95187"
       ],
       "layout": "IPY_MODEL_7c44acd2aba34aae8a24b9ce0d3d03bb"
      }
     },
     "ce5bfdab8ecd42e88fb3d9a66330c27b": {
      "model_module": "@jupyter-widgets/controls",
      "model_module_version": "2.0.0",
      "model_name": "HTMLModel",
      "state": {
       "layout": "IPY_MODEL_d6b76b247a074865acf512414712b6fe",
       "style": "IPY_MODEL_25d5491a23734f9b87410771b60b51af",
       "value": "Train nodes: 100%"
      }
     },
     "cfc5918ee9ae4a4c870de0cf8358ff1f": {
      "model_module": "@jupyter-widgets/controls",
      "model_module_version": "2.0.0",
      "model_name": "ProgressStyleModel",
      "state": {
       "description_width": ""
      }
     },
     "d03d1743bfca45ff85204b0f1d9343d9": {
      "model_module": "@jupyter-widgets/base",
      "model_module_version": "2.0.0",
      "model_name": "LayoutModel",
      "state": {}
     },
     "d091e10ffa2c44d1b88d007dc210c37a": {
      "model_module": "@jupyter-widgets/controls",
      "model_module_version": "2.0.0",
      "model_name": "FloatProgressModel",
      "state": {
       "bar_style": "success",
       "layout": "IPY_MODEL_891ab75906af44dcaaab3e014d1b5dc1",
       "max": 200,
       "style": "IPY_MODEL_a3dc2b12b1e34b5a95fcc033239f10a9",
       "value": 200
      }
     },
     "d18f6a37602f40bbb459818d0fc305d1": {
      "model_module": "@jupyter-widgets/controls",
      "model_module_version": "2.0.0",
      "model_name": "HTMLStyleModel",
      "state": {
       "description_width": "",
       "font_size": null,
       "text_color": null
      }
     },
     "d1d422592cba43b3a973bd9943bd4da2": {
      "model_module": "@jupyter-widgets/base",
      "model_module_version": "2.0.0",
      "model_name": "LayoutModel",
      "state": {}
     },
     "d2b5569a279a43bc9d47487188dfe983": {
      "model_module": "@jupyter-widgets/controls",
      "model_module_version": "2.0.0",
      "model_name": "HBoxModel",
      "state": {
       "children": [
        "IPY_MODEL_6341f5cfffd34b9b86c6aeab444875fc",
        "IPY_MODEL_0e9055a4dda14e2c99a67bd437a5b72f",
        "IPY_MODEL_902388f5df44474982d9971b69d32e2c"
       ],
       "layout": "IPY_MODEL_8c687c1674d44b78ab7e629f20499c7b"
      }
     },
     "d4185ff1f592400d91ff89e7af553c30": {
      "model_module": "@jupyter-widgets/controls",
      "model_module_version": "2.0.0",
      "model_name": "HBoxModel",
      "state": {
       "children": [
        "IPY_MODEL_0180a7f333d1475a93e2bbf6b4a8f75b",
        "IPY_MODEL_e0d3c041a31d4f8c99894015676db0c7",
        "IPY_MODEL_43c5ca4dbd814569a57e787eff9f599f"
       ],
       "layout": "IPY_MODEL_c1e30c33e28d47fcbb9ecc715ad9f37a"
      }
     },
     "d435bb375aae44fc910a6bf1ed9f8857": {
      "model_module": "@jupyter-widgets/controls",
      "model_module_version": "2.0.0",
      "model_name": "FloatProgressModel",
      "state": {
       "bar_style": "success",
       "layout": "IPY_MODEL_40af0aeb200a4e94bf3dd4bfa2bd3415",
       "max": 200,
       "style": "IPY_MODEL_a297f5af719144c1aec75eb985981a37",
       "value": 200
      }
     },
     "d446e5572f33425db48b2b73ce53ae3f": {
      "model_module": "@jupyter-widgets/controls",
      "model_module_version": "2.0.0",
      "model_name": "ProgressStyleModel",
      "state": {
       "description_width": ""
      }
     },
     "d48c0f561d6a47b2a30a7a0410944dde": {
      "model_module": "@jupyter-widgets/controls",
      "model_module_version": "2.0.0",
      "model_name": "HTMLStyleModel",
      "state": {
       "description_width": "",
       "font_size": null,
       "text_color": null
      }
     },
     "d4e40e76c8904f77a68596bc80b81dec": {
      "model_module": "@jupyter-widgets/controls",
      "model_module_version": "2.0.0",
      "model_name": "HTMLModel",
      "state": {
       "layout": "IPY_MODEL_e2bd8d972f1c4effa64058341f467448",
       "style": "IPY_MODEL_e19d77debeb54a04bc95cda7a361c4d7",
       "value": "Train nodes: 100%"
      }
     },
     "d4fdda56e6a34327a62e39f84d3bc127": {
      "model_module": "@jupyter-widgets/controls",
      "model_module_version": "2.0.0",
      "model_name": "ProgressStyleModel",
      "state": {
       "description_width": ""
      }
     },
     "d60f90dc02fc4007bdc4cdd3688c11cc": {
      "model_module": "@jupyter-widgets/base",
      "model_module_version": "2.0.0",
      "model_name": "LayoutModel",
      "state": {}
     },
     "d6b76b247a074865acf512414712b6fe": {
      "model_module": "@jupyter-widgets/base",
      "model_module_version": "2.0.0",
      "model_name": "LayoutModel",
      "state": {}
     },
     "d6c995d346d64b5aaa487c6dbe3b0d0b": {
      "model_module": "@jupyter-widgets/controls",
      "model_module_version": "2.0.0",
      "model_name": "ProgressStyleModel",
      "state": {
       "description_width": ""
      }
     },
     "d782a0571cee48c6a392473d7392fe57": {
      "model_module": "@jupyter-widgets/base",
      "model_module_version": "2.0.0",
      "model_name": "LayoutModel",
      "state": {}
     },
     "d7e0c0bd275a4db0969df98cf11850a3": {
      "model_module": "@jupyter-widgets/controls",
      "model_module_version": "2.0.0",
      "model_name": "HTMLModel",
      "state": {
       "layout": "IPY_MODEL_e05cb0c9d4e74c47b14db42d28402b4b",
       "style": "IPY_MODEL_9077df6beba84b30ab6f1b7053ff0a7d",
       "value": " 800/800 [00:09&lt;00:00, 78.93it/s]"
      }
     },
     "d9c5d174399e4d22a7614388a99ce1ba": {
      "model_module": "@jupyter-widgets/base",
      "model_module_version": "2.0.0",
      "model_name": "LayoutModel",
      "state": {}
     },
     "da164ff8eff94bdeb2d41d1d8d541495": {
      "model_module": "@jupyter-widgets/base",
      "model_module_version": "2.0.0",
      "model_name": "LayoutModel",
      "state": {}
     },
     "da1e854d7bad42659dc098d0fa862fc8": {
      "model_module": "@jupyter-widgets/controls",
      "model_module_version": "2.0.0",
      "model_name": "ProgressStyleModel",
      "state": {
       "description_width": ""
      }
     },
     "da6eb7b1aac1441986b0117739ac7976": {
      "model_module": "@jupyter-widgets/controls",
      "model_module_version": "2.0.0",
      "model_name": "HTMLStyleModel",
      "state": {
       "description_width": "",
       "font_size": null,
       "text_color": null
      }
     },
     "dafadcfc8b4f434ba553159f1c85609f": {
      "model_module": "@jupyter-widgets/controls",
      "model_module_version": "2.0.0",
      "model_name": "HTMLModel",
      "state": {
       "layout": "IPY_MODEL_ae6a8f11f55b4a86b80aa4343f305b05",
       "style": "IPY_MODEL_cda423835d9c485984c29f53c98ca926",
       "value": " 800/800 [00:00&lt;00:00, 1761.02it/s]"
      }
     },
     "db3aa9e37341430592f9c8416f6a77a3": {
      "model_module": "@jupyter-widgets/base",
      "model_module_version": "2.0.0",
      "model_name": "LayoutModel",
      "state": {}
     },
     "dbbb4af490214e8b81b84bcab82146f3": {
      "model_module": "@jupyter-widgets/controls",
      "model_module_version": "2.0.0",
      "model_name": "ProgressStyleModel",
      "state": {
       "description_width": ""
      }
     },
     "dc516d05976940ddb589466d18b70d69": {
      "model_module": "@jupyter-widgets/controls",
      "model_module_version": "2.0.0",
      "model_name": "FloatProgressModel",
      "state": {
       "bar_style": "success",
       "layout": "IPY_MODEL_0fffdc1ffe864e208c09a9a1cf54cb02",
       "max": 200,
       "style": "IPY_MODEL_cd343593c96f44378d1bd8a75ee3c10b",
       "value": 200
      }
     },
     "dd71efe863d34398bb1b32ed909f28ab": {
      "model_module": "@jupyter-widgets/controls",
      "model_module_version": "2.0.0",
      "model_name": "FloatProgressModel",
      "state": {
       "layout": "IPY_MODEL_64eac8c13fc44d44a3ba1f315b2f3fc1",
       "max": 3,
       "style": "IPY_MODEL_cfc5918ee9ae4a4c870de0cf8358ff1f",
       "value": 3
      }
     },
     "dde1e34588b7438e8172fe912e126a48": {
      "model_module": "@jupyter-widgets/controls",
      "model_module_version": "2.0.0",
      "model_name": "HTMLStyleModel",
      "state": {
       "description_width": "",
       "font_size": null,
       "text_color": null
      }
     },
     "de6be449d89d4cfbaa7d9ec5125e61f1": {
      "model_module": "@jupyter-widgets/controls",
      "model_module_version": "2.0.0",
      "model_name": "HBoxModel",
      "state": {
       "children": [
        "IPY_MODEL_84d1acc6909d484cb9214dcc0891a19d",
        "IPY_MODEL_e13407eba71048429f03cbf94c2baac3",
        "IPY_MODEL_bad3c46df611410bacb27abc22d9342a"
       ],
       "layout": "IPY_MODEL_bea371f82a90471eadcf8679284865c0"
      }
     },
     "deeacdd2763247b59e965c04e2a6ad29": {
      "model_module": "@jupyter-widgets/controls",
      "model_module_version": "2.0.0",
      "model_name": "FloatProgressModel",
      "state": {
       "bar_style": "success",
       "layout": "IPY_MODEL_af1a7c2b08684fb2a571d7622b6354fe",
       "max": 800,
       "style": "IPY_MODEL_00a15f284b724f2fac336a22a5975df9",
       "value": 800
      }
     },
     "df0f7af6ca9640ea8ab0b4d4028d5f95": {
      "model_module": "@jupyter-widgets/base",
      "model_module_version": "2.0.0",
      "model_name": "LayoutModel",
      "state": {}
     },
     "df587eefbb744793a07bb3e89ecd6d0d": {
      "model_module": "@jupyter-widgets/controls",
      "model_module_version": "2.0.0",
      "model_name": "HTMLStyleModel",
      "state": {
       "description_width": "",
       "font_size": null,
       "text_color": null
      }
     },
     "df99eb1aef2f4f71a45503e66cfcccee": {
      "model_module": "@jupyter-widgets/controls",
      "model_module_version": "2.0.0",
      "model_name": "HTMLModel",
      "state": {
       "layout": "IPY_MODEL_0beb54558e7b4a79a32f9daf61c64b8d",
       "style": "IPY_MODEL_1003913e759e42dc9d547d128e7e7cc2",
       "value": " 200/200 [00:00&lt;00:00, 1852.01it/s]"
      }
     },
     "e04d564a1af846adb8ade5932410726f": {
      "model_module": "@jupyter-widgets/controls",
      "model_module_version": "2.0.0",
      "model_name": "HTMLModel",
      "state": {
       "layout": "IPY_MODEL_94c4bd0c173a4ce28999ab5bbb31083e",
       "style": "IPY_MODEL_fa822bf440c1439d8fe69ebaecbbae74",
       "value": " 200/200 [00:02&lt;00:00, 81.42it/s]"
      }
     },
     "e05cb0c9d4e74c47b14db42d28402b4b": {
      "model_module": "@jupyter-widgets/base",
      "model_module_version": "2.0.0",
      "model_name": "LayoutModel",
      "state": {}
     },
     "e09662239c994eceb73719cea0bfbcbe": {
      "model_module": "@jupyter-widgets/base",
      "model_module_version": "2.0.0",
      "model_name": "LayoutModel",
      "state": {}
     },
     "e0a5c6c0e5674dd6bf0ce8b445d066bd": {
      "model_module": "@jupyter-widgets/base",
      "model_module_version": "2.0.0",
      "model_name": "LayoutModel",
      "state": {}
     },
     "e0d3c041a31d4f8c99894015676db0c7": {
      "model_module": "@jupyter-widgets/controls",
      "model_module_version": "2.0.0",
      "model_name": "FloatProgressModel",
      "state": {
       "bar_style": "danger",
       "layout": "IPY_MODEL_e62016e15f9f4e49b8d311221d808563",
       "max": 3,
       "style": "IPY_MODEL_629d854c30464f8a8a19ad254a8994dc"
      }
     },
     "e1087f678e2c4d2c89df6f3fa5819c3f": {
      "model_module": "@jupyter-widgets/controls",
      "model_module_version": "2.0.0",
      "model_name": "HTMLStyleModel",
      "state": {
       "description_width": "",
       "font_size": null,
       "text_color": null
      }
     },
     "e12f069ff10b408992c0aa97d24794d4": {
      "model_module": "@jupyter-widgets/controls",
      "model_module_version": "2.0.0",
      "model_name": "FloatProgressModel",
      "state": {
       "bar_style": "success",
       "layout": "IPY_MODEL_8ec877634f6245d4a2720a2ed829b2f8",
       "max": 800,
       "style": "IPY_MODEL_6af484a22e164d0d8c7c640a64a12ed8",
       "value": 800
      }
     },
     "e13407eba71048429f03cbf94c2baac3": {
      "model_module": "@jupyter-widgets/controls",
      "model_module_version": "2.0.0",
      "model_name": "FloatProgressModel",
      "state": {
       "bar_style": "success",
       "layout": "IPY_MODEL_3b0e8eb0be654423971da973a7a521a7",
       "max": 800,
       "style": "IPY_MODEL_85ac167be3de433fb1dc4fe4ebb05016",
       "value": 800
      }
     },
     "e1438e05dba846f4bc51340a95707ed2": {
      "model_module": "@jupyter-widgets/controls",
      "model_module_version": "2.0.0",
      "model_name": "HTMLStyleModel",
      "state": {
       "description_width": "",
       "font_size": null,
       "text_color": null
      }
     },
     "e164ce9bdfaa47ba937c24fd0d61addb": {
      "model_module": "@jupyter-widgets/base",
      "model_module_version": "2.0.0",
      "model_name": "LayoutModel",
      "state": {}
     },
     "e19d77debeb54a04bc95cda7a361c4d7": {
      "model_module": "@jupyter-widgets/controls",
      "model_module_version": "2.0.0",
      "model_name": "HTMLStyleModel",
      "state": {
       "description_width": "",
       "font_size": null,
       "text_color": null
      }
     },
     "e201481353ce4551afedd523c0d886a7": {
      "model_module": "@jupyter-widgets/controls",
      "model_module_version": "2.0.0",
      "model_name": "ProgressStyleModel",
      "state": {
       "description_width": ""
      }
     },
     "e26a2fc9a4be47e88c400c017bc03e90": {
      "model_module": "@jupyter-widgets/base",
      "model_module_version": "2.0.0",
      "model_name": "LayoutModel",
      "state": {}
     },
     "e2bd8d972f1c4effa64058341f467448": {
      "model_module": "@jupyter-widgets/base",
      "model_module_version": "2.0.0",
      "model_name": "LayoutModel",
      "state": {}
     },
     "e3598578a7c248908beda3c4aea95236": {
      "model_module": "@jupyter-widgets/base",
      "model_module_version": "2.0.0",
      "model_name": "LayoutModel",
      "state": {}
     },
     "e3ec6c840eb64db8b543248798b7a6a1": {
      "model_module": "@jupyter-widgets/controls",
      "model_module_version": "2.0.0",
      "model_name": "FloatProgressModel",
      "state": {
       "bar_style": "danger",
       "layout": "IPY_MODEL_4022d98734e445b090e43687b7d5b1bf",
       "max": 3,
       "style": "IPY_MODEL_fc1514aca3114e6ca7e56037223a75cb",
       "value": 1
      }
     },
     "e58c84869303406da42563ced5d52df4": {
      "model_module": "@jupyter-widgets/controls",
      "model_module_version": "2.0.0",
      "model_name": "FloatProgressModel",
      "state": {
       "bar_style": "success",
       "layout": "IPY_MODEL_1e1edceeb2fd4a248ca381ee4d9ea90b",
       "max": 800,
       "style": "IPY_MODEL_d4fdda56e6a34327a62e39f84d3bc127",
       "value": 800
      }
     },
     "e62016e15f9f4e49b8d311221d808563": {
      "model_module": "@jupyter-widgets/base",
      "model_module_version": "2.0.0",
      "model_name": "LayoutModel",
      "state": {}
     },
     "e6aa46c8ebad4d97b5f7c57a6bafe27c": {
      "model_module": "@jupyter-widgets/controls",
      "model_module_version": "2.0.0",
      "model_name": "HTMLStyleModel",
      "state": {
       "description_width": "",
       "font_size": null,
       "text_color": null
      }
     },
     "e815705de5d44ff8893bddd5bac855e9": {
      "model_module": "@jupyter-widgets/base",
      "model_module_version": "2.0.0",
      "model_name": "LayoutModel",
      "state": {}
     },
     "e82c1e4cf5d94016a4442f2079457257": {
      "model_module": "@jupyter-widgets/controls",
      "model_module_version": "2.0.0",
      "model_name": "HTMLModel",
      "state": {
       "layout": "IPY_MODEL_2ed4a2338e9b4ebd816927ac81b0baad",
       "style": "IPY_MODEL_c9ba6abac555447b845a44a34b7dbc22",
       "value": "Train nodes: 100%"
      }
     },
     "e863d8b87670400ca902b309a43e98ca": {
      "model_module": "@jupyter-widgets/base",
      "model_module_version": "2.0.0",
      "model_name": "LayoutModel",
      "state": {}
     },
     "e9a1a550954e4718a4c040d7621b08fe": {
      "model_module": "@jupyter-widgets/controls",
      "model_module_version": "2.0.0",
      "model_name": "HBoxModel",
      "state": {
       "children": [
        "IPY_MODEL_5e614f6911094eb0a601ba2c9e0a4826",
        "IPY_MODEL_7ef3c84e76004eacbd4c54c610f92234",
        "IPY_MODEL_44b0fe82119543aebf2f394a94b3f59b"
       ],
       "layout": "IPY_MODEL_73f85b4925d14ed0bdbe8c55bab2779e"
      }
     },
     "ea53476ca98745be97b09b808391ed8b": {
      "model_module": "@jupyter-widgets/base",
      "model_module_version": "2.0.0",
      "model_name": "LayoutModel",
      "state": {}
     },
     "eaa1c2302dae4f6db96bb06367840748": {
      "model_module": "@jupyter-widgets/base",
      "model_module_version": "2.0.0",
      "model_name": "LayoutModel",
      "state": {}
     },
     "eb03f0cf4688497fb6c0fdaceecbb0f1": {
      "model_module": "@jupyter-widgets/base",
      "model_module_version": "2.0.0",
      "model_name": "LayoutModel",
      "state": {}
     },
     "ec9e2ae1112a4bd9af3c7e26f25ae631": {
      "model_module": "@jupyter-widgets/controls",
      "model_module_version": "2.0.0",
      "model_name": "HTMLModel",
      "state": {
       "layout": "IPY_MODEL_d9c5d174399e4d22a7614388a99ce1ba",
       "style": "IPY_MODEL_aeb2a2d21b19464fb08b85e52e96b131",
       "value": "Test nodes: 100%"
      }
     },
     "ee35d6736cac49179defe19e2803d77f": {
      "model_module": "@jupyter-widgets/controls",
      "model_module_version": "2.0.0",
      "model_name": "HTMLModel",
      "state": {
       "layout": "IPY_MODEL_fc1c08b1bc15488ab1819467c0a08be2",
       "style": "IPY_MODEL_439babc02325403b9b13642f734e660b",
       "value": "Train nodes: 100%"
      }
     },
     "ef29f6ec4be342a8aac86d3d49c09a88": {
      "model_module": "@jupyter-widgets/controls",
      "model_module_version": "2.0.0",
      "model_name": "HBoxModel",
      "state": {
       "children": [
        "IPY_MODEL_1d5ad9ed14d649bc98e2d591cb4b1fda",
        "IPY_MODEL_e58c84869303406da42563ced5d52df4",
        "IPY_MODEL_f66b5a4ac9414378a03e2a8d225f240f"
       ],
       "layout": "IPY_MODEL_aa1f75abe1984e7fbf55dfb11eeb2a58"
      }
     },
     "ef899c87a20a4b0fb0f8969010155dd2": {
      "model_module": "@jupyter-widgets/controls",
      "model_module_version": "2.0.0",
      "model_name": "HBoxModel",
      "state": {
       "children": [
        "IPY_MODEL_5fce87fbb5024f3a8bb07c2f3996b75d",
        "IPY_MODEL_b77d2b68a6c849af8ca2ebc23790e2b1",
        "IPY_MODEL_3dc9d7b4d0704cda9a03cd24e80698db"
       ],
       "layout": "IPY_MODEL_598d09f8afe6478490349b7e81a0c50d"
      }
     },
     "efd6d76d855747819e430f722d21fdbf": {
      "model_module": "@jupyter-widgets/base",
      "model_module_version": "2.0.0",
      "model_name": "LayoutModel",
      "state": {}
     },
     "efd901ec94624274b7d62a2fef1af99f": {
      "model_module": "@jupyter-widgets/controls",
      "model_module_version": "2.0.0",
      "model_name": "HTMLModel",
      "state": {
       "layout": "IPY_MODEL_8afe620e2fee41b38f62e4365956d864",
       "style": "IPY_MODEL_21c1e152c22c42dab74be620ba603cd1",
       "value": " 200/200 [00:03&lt;00:00, 62.59it/s]"
      }
     },
     "f02a3f73a3f44f6badb1bd5771d4807d": {
      "model_module": "@jupyter-widgets/controls",
      "model_module_version": "2.0.0",
      "model_name": "HTMLStyleModel",
      "state": {
       "description_width": "",
       "font_size": null,
       "text_color": null
      }
     },
     "f058a4e3748c42fca0c84f2681ece289": {
      "model_module": "@jupyter-widgets/controls",
      "model_module_version": "2.0.0",
      "model_name": "ProgressStyleModel",
      "state": {
       "description_width": ""
      }
     },
     "f125ea607c6d4fe680c26c912536954a": {
      "model_module": "@jupyter-widgets/base",
      "model_module_version": "2.0.0",
      "model_name": "LayoutModel",
      "state": {}
     },
     "f1891e102e9242bd9dfcd24e2b1f7d44": {
      "model_module": "@jupyter-widgets/controls",
      "model_module_version": "2.0.0",
      "model_name": "HTMLStyleModel",
      "state": {
       "description_width": "",
       "font_size": null,
       "text_color": null
      }
     },
     "f25d9a51f6794992aff4fd6d1a7969aa": {
      "model_module": "@jupyter-widgets/controls",
      "model_module_version": "2.0.0",
      "model_name": "HBoxModel",
      "state": {
       "children": [
        "IPY_MODEL_a70dd24cc7d145ea873c7f0e05eecbcf",
        "IPY_MODEL_386d3fb3308d4341b5ef900557c1b48e",
        "IPY_MODEL_6461dcb1c6e94e0a9846966bdc41c67d"
       ],
       "layout": "IPY_MODEL_fc584716ecd6408e81ca184eb85172b0"
      }
     },
     "f4e58fdfcfec4c0cad6bc782ecf9de3e": {
      "model_module": "@jupyter-widgets/base",
      "model_module_version": "2.0.0",
      "model_name": "LayoutModel",
      "state": {}
     },
     "f66b5a4ac9414378a03e2a8d225f240f": {
      "model_module": "@jupyter-widgets/controls",
      "model_module_version": "2.0.0",
      "model_name": "HTMLModel",
      "state": {
       "layout": "IPY_MODEL_89e82a067ef7468f89d3ac1d485dfcc5",
       "style": "IPY_MODEL_da6eb7b1aac1441986b0117739ac7976",
       "value": " 800/800 [00:13&lt;00:00, 62.80it/s]"
      }
     },
     "f6a5c5fc77c24c88b770b89f73b8949b": {
      "model_module": "@jupyter-widgets/controls",
      "model_module_version": "2.0.0",
      "model_name": "HBoxModel",
      "state": {
       "children": [
        "IPY_MODEL_ee35d6736cac49179defe19e2803d77f",
        "IPY_MODEL_6e64a1bde72847baa548b52107596b27",
        "IPY_MODEL_afd29238c46840a4a80d28179e865cba"
       ],
       "layout": "IPY_MODEL_8a8a0fd9fb9d4939b0a78974cfd4685d"
      }
     },
     "f70f5f045a3a4245ad8928910f2caa3f": {
      "model_module": "@jupyter-widgets/controls",
      "model_module_version": "2.0.0",
      "model_name": "HTMLModel",
      "state": {
       "layout": "IPY_MODEL_0c7b95f94ba5497f9598e5e373a6fb80",
       "style": "IPY_MODEL_85e2475dddcc424ab6fe8638a93366b5",
       "value": " 200/200 [00:00&lt;00:00, 1352.20it/s]"
      }
     },
     "f72b5d011db1423face2f1e55ac67e68": {
      "model_module": "@jupyter-widgets/controls",
      "model_module_version": "2.0.0",
      "model_name": "HTMLStyleModel",
      "state": {
       "description_width": "",
       "font_size": null,
       "text_color": null
      }
     },
     "f72dd4158f1d400b867ee467a14ff4b7": {
      "model_module": "@jupyter-widgets/controls",
      "model_module_version": "2.0.0",
      "model_name": "FloatProgressModel",
      "state": {
       "bar_style": "success",
       "layout": "IPY_MODEL_42355d1b9ebb49758bf6ee9b5f10d18b",
       "max": 200,
       "style": "IPY_MODEL_da1e854d7bad42659dc098d0fa862fc8",
       "value": 200
      }
     },
     "f7ca2d86276e4f819ecee877879bf7a6": {
      "model_module": "@jupyter-widgets/base",
      "model_module_version": "2.0.0",
      "model_name": "LayoutModel",
      "state": {}
     },
     "f89f7a6bba0c4101854bcd7a9ae1c46d": {
      "model_module": "@jupyter-widgets/controls",
      "model_module_version": "2.0.0",
      "model_name": "HTMLModel",
      "state": {
       "layout": "IPY_MODEL_fe886413c474454d8a543548df5ccd82",
       "style": "IPY_MODEL_d18f6a37602f40bbb459818d0fc305d1",
       "value": " 3/3 [02:25&lt;00:00, 48.50s/it]"
      }
     },
     "f9c6b211f6414e36b401808ecb9ed1eb": {
      "model_module": "@jupyter-widgets/controls",
      "model_module_version": "2.0.0",
      "model_name": "FloatProgressModel",
      "state": {
       "bar_style": "success",
       "layout": "IPY_MODEL_7cc148a67f0440bbb9a35276ca89f351",
       "max": 200,
       "style": "IPY_MODEL_432dc14e25504b67bf69b70e7b4bcb02",
       "value": 200
      }
     },
     "f9ec550ed4db414a85ab480ec7b85971": {
      "model_module": "@jupyter-widgets/controls",
      "model_module_version": "2.0.0",
      "model_name": "HTMLStyleModel",
      "state": {
       "description_width": "",
       "font_size": null,
       "text_color": null
      }
     },
     "fa822bf440c1439d8fe69ebaecbbae74": {
      "model_module": "@jupyter-widgets/controls",
      "model_module_version": "2.0.0",
      "model_name": "HTMLStyleModel",
      "state": {
       "description_width": "",
       "font_size": null,
       "text_color": null
      }
     },
     "fa83c446e7f34b53909299eb71a3382f": {
      "model_module": "@jupyter-widgets/controls",
      "model_module_version": "2.0.0",
      "model_name": "HTMLModel",
      "state": {
       "layout": "IPY_MODEL_81b4c8b9a0e7421ab6d4bd5204c037b3",
       "style": "IPY_MODEL_c5521bb31714430da8355cb9c8d45017",
       "value": " 800/800 [00:09&lt;00:00, 80.55it/s]"
      }
     },
     "fb8022fa97554277a89a438d12f122c1": {
      "model_module": "@jupyter-widgets/controls",
      "model_module_version": "2.0.0",
      "model_name": "HTMLStyleModel",
      "state": {
       "description_width": "",
       "font_size": null,
       "text_color": null
      }
     },
     "fbd661a2931b422daa929ba76e10f298": {
      "model_module": "@jupyter-widgets/base",
      "model_module_version": "2.0.0",
      "model_name": "LayoutModel",
      "state": {}
     },
     "fc1514aca3114e6ca7e56037223a75cb": {
      "model_module": "@jupyter-widgets/controls",
      "model_module_version": "2.0.0",
      "model_name": "ProgressStyleModel",
      "state": {
       "description_width": ""
      }
     },
     "fc1c08b1bc15488ab1819467c0a08be2": {
      "model_module": "@jupyter-widgets/base",
      "model_module_version": "2.0.0",
      "model_name": "LayoutModel",
      "state": {}
     },
     "fc32d4c2da7a4d08a544bfbcff06a09a": {
      "model_module": "@jupyter-widgets/controls",
      "model_module_version": "2.0.0",
      "model_name": "HBoxModel",
      "state": {
       "children": [
        "IPY_MODEL_ce5bfdab8ecd42e88fb3d9a66330c27b",
        "IPY_MODEL_deeacdd2763247b59e965c04e2a6ad29",
        "IPY_MODEL_53691efcb35240489d82780bac676069"
       ],
       "layout": "IPY_MODEL_13b65af449ad415aa6762a144e89f82a"
      }
     },
     "fc584716ecd6408e81ca184eb85172b0": {
      "model_module": "@jupyter-widgets/base",
      "model_module_version": "2.0.0",
      "model_name": "LayoutModel",
      "state": {}
     },
     "fcf5ba350d09413896d91753f2675a3e": {
      "model_module": "@jupyter-widgets/controls",
      "model_module_version": "2.0.0",
      "model_name": "ProgressStyleModel",
      "state": {
       "description_width": ""
      }
     },
     "fd2d307e322f410fb488a3c9ecc798cf": {
      "model_module": "@jupyter-widgets/base",
      "model_module_version": "2.0.0",
      "model_name": "LayoutModel",
      "state": {}
     },
     "fd76c76969a34dc29a9ea38bbe1990a4": {
      "model_module": "@jupyter-widgets/controls",
      "model_module_version": "2.0.0",
      "model_name": "HTMLStyleModel",
      "state": {
       "description_width": "",
       "font_size": null,
       "text_color": null
      }
     },
     "fda291ba7edc4929b00fe3d5f77d369a": {
      "model_module": "@jupyter-widgets/controls",
      "model_module_version": "2.0.0",
      "model_name": "ProgressStyleModel",
      "state": {
       "description_width": ""
      }
     },
     "fe886413c474454d8a543548df5ccd82": {
      "model_module": "@jupyter-widgets/base",
      "model_module_version": "2.0.0",
      "model_name": "LayoutModel",
      "state": {}
     }
    },
    "version_major": 2,
    "version_minor": 0
   }
  }
 },
 "nbformat": 4,
 "nbformat_minor": 5
}
