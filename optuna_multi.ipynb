{
 "cells": [
  {
   "cell_type": "code",
   "execution_count": 1,
   "id": "595eba53-f4ec-43d9-88a7-24f2803f2ed5",
   "metadata": {},
   "outputs": [],
   "source": [
    "import os\n",
    "import sys\n",
    "import platform\n",
    "from pathlib import Path\n",
    "from GraphTsetlinMachine.graphs import Graphs\n",
    "from GraphTsetlinMachine.tm import MultiClassGraphTsetlinMachine\n",
    "import pickle\n",
    "import logging\n",
    "import optuna\n",
    "from optuna.exceptions import TrialPruned \n",
    "from tqdm.auto import tqdm\n",
    "from sklearn.metrics import f1_score, precision_score, recall_score\n",
    "import math\n",
    "from functools import partial"
   ]
  },
  {
   "cell_type": "code",
   "execution_count": 2,
   "id": "ccfa87c9-6827-488e-bac2-5ee2fa1f49c8",
   "metadata": {},
   "outputs": [],
   "source": [
    "optuna.logging.set_verbosity(optuna.logging.WARNING)"
   ]
  },
  {
   "cell_type": "code",
   "execution_count": 3,
   "id": "54a6f734",
   "metadata": {},
   "outputs": [],
   "source": [
    "def get_machine_info():\n",
    "    machine_name = platform.node()  \n",
    "    user = os.getenv(\"USER\") or os.getenv(\"USERNAME\") \n",
    "    os_name = platform.system()  # Get os\n",
    "    print(f\"Machine: {machine_name}\")\n",
    "    print(f\"OS: {os_name}\")\n",
    "    print(f\"User: {user}\")\n",
    "    \n",
    "    # Print machine info\n",
    "    return machine_name, os_name, user"
   ]
  },
  {
   "cell_type": "code",
   "execution_count": 4,
   "id": "9ba6f052",
   "metadata": {},
   "outputs": [
    {
     "name": "stdout",
     "output_type": "stream",
     "text": [
      "Machine: Corsair\n",
      "OS: Linux\n",
      "User: jon\n"
     ]
    }
   ],
   "source": [
    "machine_name, os_name, user = get_machine_info()"
   ]
  },
  {
   "cell_type": "code",
   "execution_count": 5,
   "id": "f0e6e6bb",
   "metadata": {},
   "outputs": [],
   "source": [
    "if machine_name == \"Corsair\" and os_name == \"Linux\" and user == \"jon\":\n",
    "    windows_drive = Path(\"/mnt/b/TsetlinModels\")\n",
    "    os.makedirs(windows_drive / \"data\", exist_ok=True)\n",
    "    os.makedirs(windows_drive / \"models\", exist_ok=True)\n",
    "    os.makedirs(windows_drive / \"graphs\", exist_ok=True)\n",
    "\n",
    "    paths = {\n",
    "        \"data\": windows_drive / \"data\",\n",
    "        \"models\": windows_drive / \"models\",\n",
    "        \"graphs\": windows_drive / \"graphs\",\n",
    "    }\n",
    "else:\n",
    "    os.makedirs(\"data\", exist_ok=True)\n",
    "    os.makedirs(\"models\", exist_ok=True)\n",
    "    os.makedirs(\"graphs\", exist_ok=True)\n",
    "\n",
    "    paths = {\n",
    "        \"data\": Path(\"data\"),\n",
    "        \"models\": Path(\"models\"),\n",
    "        \"graphs\": Path(\"graphs\"),\n",
    "    }"
   ]
  },
  {
   "cell_type": "code",
   "execution_count": 6,
   "id": "4142ceb3-19d6-4b13-a896-b4958a3bc14d",
   "metadata": {},
   "outputs": [],
   "source": [
    "hypervector_bits = 2\n",
    "hypervector_size = 64\n",
    "\n",
    "samples = [1000,10000,100000]\n",
    "board_sizes = [3,4,5,6,7,8,9,10,11,12,13,14,15]\n",
    "moves_before = [0, 2, 5]"
   ]
  },
  {
   "cell_type": "code",
   "execution_count": 7,
   "id": "d3a6b646-60aa-4409-b948-4d073ee5b6b1",
   "metadata": {},
   "outputs": [],
   "source": [
    "def stop_when_100_accuracy(study, trial):\n",
    "    if trial.value >= 100: \n",
    "        study.stop()"
   ]
  },
  {
   "cell_type": "code",
   "execution_count": 8,
   "id": "869c1104-87eb-434c-8bdb-9ebc3c3f5121",
   "metadata": {},
   "outputs": [],
   "source": [
    "def objective(trial, graphs_train, graphs_test, X_train, Y_train, X_test, Y_test, board_size, mbf, n_samples, dataset):\n",
    "    max_clauses = n_samples*10\n",
    "    max_epochs = math.sqrt(n_samples)*max(1,mbf)\n",
    "    \n",
    "    number_of_clauses = trial.suggest_int('number_of_clauses', board_size**2, max_clauses)\n",
    "    T = trial.suggest_float('T_factor', 0.5, number_of_clauses * 1.2)\n",
    "    s = trial.suggest_float('s', 0.1, board_size)\n",
    "    depth = trial.suggest_int('depth', 2, board_size+1)\n",
    "    epochs = trial.suggest_int('epochs', 15, max_epochs)\n",
    "    message_size = 32\n",
    "    message_bits = 2\n",
    "\n",
    "    tm = MultiClassGraphTsetlinMachine(\n",
    "        number_of_clauses,\n",
    "        T,\n",
    "        s,\n",
    "        depth=depth,\n",
    "        message_size=message_size,\n",
    "        message_bits=message_bits,\n",
    "        number_of_state_bits=8,\n",
    "        boost_true_positive_feedback=1,\n",
    "        grid=(16*13,1,1),\n",
    "        block=(128,1,1),\n",
    "    )\n",
    "\n",
    "    print(f\"Start trial with c={number_of_clauses}, T={T}, s={s}, d={depth}, e={epochs}\")\n",
    "\n",
    "    best_test_acc = 0\n",
    "    best_f1 = 0\n",
    "    best_prec = 0\n",
    "    best_rec = 0\n",
    "    \n",
    "    progress_bar = tqdm(range(epochs), desc=f\"{dataset}\", leave=True)\n",
    "    for epoch in progress_bar:\n",
    "        tm.fit(graphs_train, Y_train, epochs=1, incremental=True)\n",
    "\n",
    "        result_test = 100 * (tm.predict(graphs_test) == Y_test).mean()\n",
    "\n",
    "        f1_score_test = f1_score(Y_test, tm.predict(graphs_test), average='weighted', zero_division=0)\n",
    "        precision_test = precision_score(Y_test, tm.predict(graphs_test), average='weighted', zero_division=0)\n",
    "        recall_test = recall_score(Y_test, tm.predict(graphs_test), average='weighted', zero_division=0)\n",
    "\n",
    "        if result_test > best_test_acc:\n",
    "            best_test_acc = result_test\n",
    "            best_f1 = f1_score_test\n",
    "            best_prec = precision_test\n",
    "            best_rec = recall_test\n",
    "\n",
    "        trial.set_user_attr(\"f1\", f1_score_test)\n",
    "        trial.set_user_attr(\"precision\", precision_test)\n",
    "        trial.set_user_attr(\"recall\", recall_test)\n",
    "\n",
    "\n",
    "        progress_bar.set_postfix({\n",
    "            'Acc':f'{result_test:.2f}%',\n",
    "            'BestAcc': f'{best_test_acc:.2f}%',\n",
    "            'F1': f'{best_f1:.2f}',\n",
    "            'Prec': f'{best_prec:.2f}',\n",
    "            'Rec': f'{best_rec:.2f}'\n",
    "        })\n",
    "\n",
    "        \n",
    "        if result_test >= 100 and f1_score_test >= 1:\n",
    "            return result_test\n",
    "            \n",
    "        if epoch > 5 and best_test_acc < 90:\n",
    "            if trial.should_prune():\n",
    "                raise TrialPruned()\n",
    "\n",
    "    return result_test"
   ]
  },
  {
   "cell_type": "code",
   "execution_count": null,
   "id": "00567080-10de-4fda-8c21-0bf62b20840c",
   "metadata": {},
   "outputs": [
    {
     "data": {
      "application/vnd.jupyter.widget-view+json": {
       "model_id": "d7baf0c74c8f4dd78e28ca3a034bb859",
       "version_major": 2,
       "version_minor": 0
      },
      "text/plain": [
       "Samples:   0%|          | 0/3 [00:00<?, ?it/s]"
      ]
     },
     "metadata": {},
     "output_type": "display_data"
    },
    {
     "data": {
      "application/vnd.jupyter.widget-view+json": {
       "model_id": "e2226c5c7dd44322bc2397ab28ed2b4a",
       "version_major": 2,
       "version_minor": 0
      },
      "text/plain": [
       "Board Sizes:   0%|          | 0/13 [00:00<?, ?it/s]"
      ]
     },
     "metadata": {},
     "output_type": "display_data"
    },
    {
     "data": {
      "application/vnd.jupyter.widget-view+json": {
       "model_id": "8ddad10a6a8f4999a59c0d07da846aea",
       "version_major": 2,
       "version_minor": 0
      },
      "text/plain": [
       "Moves Before:   0%|          | 0/3 [00:00<?, ?it/s]"
      ]
     },
     "metadata": {},
     "output_type": "display_data"
    },
    {
     "name": "stdout",
     "output_type": "stream",
     "text": [
      "No valid trials found for Study_3x3_0, continuing with optimization.\n",
      "Initialization of sparse structure.\n",
      "Start trial with c=1233, T=919.0441024847984, s=2.5603653098604906, d=2, e=16\n"
     ]
    },
    {
     "data": {
      "application/vnd.jupyter.widget-view+json": {
       "model_id": "19e8d7b22cc64ad4830637e873d4296a",
       "version_major": 2,
       "version_minor": 0
      },
      "text/plain": [
       "3x3_0:   0%|          | 0/16 [00:00<?, ?it/s]"
      ]
     },
     "metadata": {},
     "output_type": "display_data"
    },
    {
     "name": "stdout",
     "output_type": "stream",
     "text": [
      "No trials found for Study_3x3_2. Running new optimization.\n",
      "Initialization of sparse structure.\n",
      "Start trial with c=3341, T=3673.391876189983, s=1.0109512776574654, d=4, e=31\n"
     ]
    },
    {
     "data": {
      "application/vnd.jupyter.widget-view+json": {
       "model_id": "923da0127cd548b88b29eed22a752faf",
       "version_major": 2,
       "version_minor": 0
      },
      "text/plain": [
       "3x3_2:   0%|          | 0/31 [00:00<?, ?it/s]"
      ]
     },
     "metadata": {},
     "output_type": "display_data"
    },
    {
     "name": "stdout",
     "output_type": "stream",
     "text": [
      "No trials found for Study_3x3_5. Running new optimization.\n",
      "Initialization of sparse structure.\n",
      "Start trial with c=5415, T=4668.892643124797, s=2.5644675202604024, d=2, e=90\n"
     ]
    },
    {
     "data": {
      "application/vnd.jupyter.widget-view+json": {
       "model_id": "92b903353b374f4cb84795e77bc6f0f4",
       "version_major": 2,
       "version_minor": 0
      },
      "text/plain": [
       "3x3_5:   0%|          | 0/90 [00:00<?, ?it/s]"
      ]
     },
     "metadata": {},
     "output_type": "display_data"
    },
    {
     "data": {
      "application/vnd.jupyter.widget-view+json": {
       "model_id": "4230957b27a546ce881cd1a449b512b8",
       "version_major": 2,
       "version_minor": 0
      },
      "text/plain": [
       "Moves Before:   0%|          | 0/3 [00:00<?, ?it/s]"
      ]
     },
     "metadata": {},
     "output_type": "display_data"
    },
    {
     "name": "stdout",
     "output_type": "stream",
     "text": [
      "No trials found for Study_4x4_0. Running new optimization.\n",
      "Initialization of sparse structure.\n",
      "Start trial with c=7267, T=2720.448763450113, s=2.2738383356690126, d=5, e=24\n"
     ]
    },
    {
     "data": {
      "application/vnd.jupyter.widget-view+json": {
       "model_id": "ef9a33e21fcb434187a3d433ea460671",
       "version_major": 2,
       "version_minor": 0
      },
      "text/plain": [
       "4x4_0:   0%|          | 0/24 [00:00<?, ?it/s]"
      ]
     },
     "metadata": {},
     "output_type": "display_data"
    },
    {
     "name": "stdout",
     "output_type": "stream",
     "text": [
      "Initialization of sparse structure.\n",
      "Start trial with c=8972, T=4244.283469671237, s=3.066712622794668, d=3, e=24\n"
     ]
    },
    {
     "data": {
      "application/vnd.jupyter.widget-view+json": {
       "model_id": "4436f8e5fac54fd4947638c2f883e2ed",
       "version_major": 2,
       "version_minor": 0
      },
      "text/plain": [
       "4x4_0:   0%|          | 0/24 [00:00<?, ?it/s]"
      ]
     },
     "metadata": {},
     "output_type": "display_data"
    },
    {
     "name": "stdout",
     "output_type": "stream",
     "text": [
      "Initialization of sparse structure.\n",
      "Start trial with c=7326, T=2672.7410691482687, s=2.4445553575249295, d=3, e=26\n"
     ]
    },
    {
     "data": {
      "application/vnd.jupyter.widget-view+json": {
       "model_id": "9ec5e212e2754cda9641b8d1f82990fa",
       "version_major": 2,
       "version_minor": 0
      },
      "text/plain": [
       "4x4_0:   0%|          | 0/26 [00:00<?, ?it/s]"
      ]
     },
     "metadata": {},
     "output_type": "display_data"
    },
    {
     "name": "stdout",
     "output_type": "stream",
     "text": [
      "No trials found for Study_4x4_2. Running new optimization.\n",
      "Initialization of sparse structure.\n",
      "Start trial with c=1545, T=1375.7552943988285, s=2.4666582439026485, d=4, e=28\n"
     ]
    },
    {
     "data": {
      "application/vnd.jupyter.widget-view+json": {
       "model_id": "7b8b6ccb7fee49c5aa9eed8a1f620fa8",
       "version_major": 2,
       "version_minor": 0
      },
      "text/plain": [
       "4x4_2:   0%|          | 0/28 [00:00<?, ?it/s]"
      ]
     },
     "metadata": {},
     "output_type": "display_data"
    }
   ],
   "source": [
    "# Running multiple studies for different configurations of the dataset\n",
    "for n_samples in tqdm(samples, desc=\"Samples\"):\n",
    "    for board_size in tqdm(board_sizes, desc=\"Board Sizes\", leave=False):\n",
    "        for mbf in tqdm(moves_before, desc=\"Moves Before\", leave=False):\n",
    "            dataset = f\"{board_size}x{board_size}_{mbf}\"\n",
    "            file_path = paths[\"graphs\"] / f\"{dataset}_{n_samples}.pkl\"\n",
    "            with open(file_path, 'rb') as f:\n",
    "                graphs_train, graphs_test, X_train, Y_train, X_test, Y_test = pickle.load(f)\n",
    "\n",
    "            study = optuna.create_study(\n",
    "                #directions=[\"maximize\", \"minimize\"],  # Maximize accuracy, minimize number of clauses\n",
    "                direction=\"maximize\",\n",
    "                study_name=f\"Study_{dataset}\",\n",
    "                storage=\"sqlite:///results/optuna/ja_tsehex_local.db\",\n",
    "                load_if_exists=True\n",
    "                #pruner=optuna.pruners.MedianPruner()\n",
    "            )\n",
    "\n",
    "            if len(study.trials) > 0:\n",
    "                try:\n",
    "                    if study.best_trial.value >= 100:\n",
    "                        print(f\"Study {study.study_name} already has 100% accuracy. Skipping further optimization.\")\n",
    "                        continue\n",
    "                except ValueError:\n",
    "                    print(f\"No valid trials found for {study.study_name}, continuing with optimization.\")\n",
    "            else:\n",
    "                print(f\"No trials found for {study.study_name}. Running new optimization.\")\n",
    "\n",
    "            objective_with_params = partial(objective, graphs_train=graphs_train, graphs_test=graphs_test, \n",
    "                                            X_train=X_train, Y_train=Y_train, X_test=X_test, Y_test=Y_test, \n",
    "                                            board_size=board_size, mbf=mbf, n_samples=n_samples, dataset=dataset)\n",
    "\n",
    "            try:\n",
    "                study.optimize(objective_with_params, n_trials=1000, callbacks=[stop_when_100_accuracy])\n",
    "            except KeyboardInterrupt:\n",
    "                print(\"Optimization interrupted!\")\n",
    "                print(f\"Best result so far: {study.best_params}\")"
   ]
  },
  {
   "cell_type": "code",
   "execution_count": null,
   "id": "b8f327fd-6222-4f2a-8adc-aed2c7cb8850",
   "metadata": {},
   "outputs": [],
   "source": []
  }
 ],
 "metadata": {
  "kernelspec": {
   "display_name": "env",
   "language": "python",
   "name": "python3"
  },
  "language_info": {
   "codemirror_mode": {
    "name": "ipython",
    "version": 3
   },
   "file_extension": ".py",
   "mimetype": "text/x-python",
   "name": "python",
   "nbconvert_exporter": "python",
   "pygments_lexer": "ipython3",
   "version": "3.10.12"
  },
  "widgets": {
   "application/vnd.jupyter.widget-state+json": {
    "state": {
     "02fcf38846c14d1d8ecc1af52ee51c87": {
      "model_module": "@jupyter-widgets/base",
      "model_module_version": "2.0.0",
      "model_name": "LayoutModel",
      "state": {}
     },
     "04df4c24ccab49e4ad2c936434c1570c": {
      "model_module": "@jupyter-widgets/base",
      "model_module_version": "2.0.0",
      "model_name": "LayoutModel",
      "state": {}
     },
     "086ee21264a447378c9e5e30c1e85dd8": {
      "model_module": "@jupyter-widgets/controls",
      "model_module_version": "2.0.0",
      "model_name": "HBoxModel",
      "state": {
       "children": [
        "IPY_MODEL_637dec14bbd94434abdb7ef5e33a2edc",
        "IPY_MODEL_ea6240224f634d66a038fd99ed1db2b8",
        "IPY_MODEL_09bd2010ef6f41f4be769f5bd8f739c2"
       ],
       "layout": "IPY_MODEL_0cdeb02701e0462cb0c7144e81645ee1"
      }
     },
     "09276f4e5f094398a5128b8b7b77be60": {
      "model_module": "@jupyter-widgets/controls",
      "model_module_version": "2.0.0",
      "model_name": "ProgressStyleModel",
      "state": {
       "description_width": ""
      }
     },
     "09bd2010ef6f41f4be769f5bd8f739c2": {
      "model_module": "@jupyter-widgets/controls",
      "model_module_version": "2.0.0",
      "model_name": "HTMLModel",
      "state": {
       "layout": "IPY_MODEL_fa432a59c89640b2b715a1225a8c3355",
       "style": "IPY_MODEL_aff8679964d845a3b6e82ecaf65444ef",
       "value": " 0/3 [00:00&lt;?, ?it/s]"
      }
     },
     "0b182f97d20d47f9b18ccdc00590e31d": {
      "model_module": "@jupyter-widgets/controls",
      "model_module_version": "2.0.0",
      "model_name": "HTMLModel",
      "state": {
       "layout": "IPY_MODEL_692b14d460c74a3da30070a20a9f96d1",
       "style": "IPY_MODEL_8c291336e1ea408ba0cdbad12ea11bcf",
       "value": " 1/13 [00:00&lt;00:07,  1.62it/s]"
      }
     },
     "0c5671907f8e4ddbbace1919b1baae43": {
      "model_module": "@jupyter-widgets/controls",
      "model_module_version": "2.0.0",
      "model_name": "HTMLStyleModel",
      "state": {
       "description_width": "",
       "font_size": null,
       "text_color": null
      }
     },
     "0cdeb02701e0462cb0c7144e81645ee1": {
      "model_module": "@jupyter-widgets/base",
      "model_module_version": "2.0.0",
      "model_name": "LayoutModel",
      "state": {}
     },
     "0f28e0477f7948a3a5e88ef83ad29d54": {
      "model_module": "@jupyter-widgets/base",
      "model_module_version": "2.0.0",
      "model_name": "LayoutModel",
      "state": {
       "visibility": "hidden"
      }
     },
     "10adf581696b478d989d09f66fcc20e8": {
      "model_module": "@jupyter-widgets/controls",
      "model_module_version": "2.0.0",
      "model_name": "HTMLStyleModel",
      "state": {
       "description_width": "",
       "font_size": null,
       "text_color": null
      }
     },
     "10f76e6c1ae54c6d9497e77114375e38": {
      "model_module": "@jupyter-widgets/controls",
      "model_module_version": "2.0.0",
      "model_name": "HBoxModel",
      "state": {
       "children": [
        "IPY_MODEL_31ecc09e92e149dba573caaa879b019d",
        "IPY_MODEL_c9d484cb7df04938aeeb19b0462252cc",
        "IPY_MODEL_be6a08f05547405996ebaa771e71f521"
       ],
       "layout": "IPY_MODEL_02fcf38846c14d1d8ecc1af52ee51c87"
      }
     },
     "1f0773def36e4ca3a398b0742233c668": {
      "model_module": "@jupyter-widgets/controls",
      "model_module_version": "2.0.0",
      "model_name": "ProgressStyleModel",
      "state": {
       "description_width": ""
      }
     },
     "261b1d4efb5644efa5230305200c5123": {
      "model_module": "@jupyter-widgets/controls",
      "model_module_version": "2.0.0",
      "model_name": "HBoxModel",
      "state": {
       "children": [
        "IPY_MODEL_86ff281d1ae2486b844a6a53b2a81f09",
        "IPY_MODEL_7815e498150d4760af68dffdcbf3dff7",
        "IPY_MODEL_ab8325b9e5f24950847eed348b86fc0c"
       ],
       "layout": "IPY_MODEL_3d8741a393e04837bd5b267b30f74fad"
      }
     },
     "3023aa1506714e4792f9195bdbfe0b0f": {
      "model_module": "@jupyter-widgets/base",
      "model_module_version": "2.0.0",
      "model_name": "LayoutModel",
      "state": {}
     },
     "31ecc09e92e149dba573caaa879b019d": {
      "model_module": "@jupyter-widgets/controls",
      "model_module_version": "2.0.0",
      "model_name": "HTMLModel",
      "state": {
       "layout": "IPY_MODEL_36da30643cf64226bb3038110d841c03",
       "style": "IPY_MODEL_459423c395744c30a92d77a35cd9e604",
       "value": "Samples:   0%"
      }
     },
     "35548f2f0fba4b1881e4b56b13dd6636": {
      "model_module": "@jupyter-widgets/base",
      "model_module_version": "2.0.0",
      "model_name": "LayoutModel",
      "state": {}
     },
     "36da30643cf64226bb3038110d841c03": {
      "model_module": "@jupyter-widgets/base",
      "model_module_version": "2.0.0",
      "model_name": "LayoutModel",
      "state": {}
     },
     "3d8741a393e04837bd5b267b30f74fad": {
      "model_module": "@jupyter-widgets/base",
      "model_module_version": "2.0.0",
      "model_name": "LayoutModel",
      "state": {}
     },
     "42cc7cdeb5214bad84501bbb8846a6f3": {
      "model_module": "@jupyter-widgets/controls",
      "model_module_version": "2.0.0",
      "model_name": "HTMLStyleModel",
      "state": {
       "description_width": "",
       "font_size": null,
       "text_color": null
      }
     },
     "43b85d91422045f8a4c1d6f721307f52": {
      "model_module": "@jupyter-widgets/controls",
      "model_module_version": "2.0.0",
      "model_name": "HTMLStyleModel",
      "state": {
       "description_width": "",
       "font_size": null,
       "text_color": null
      }
     },
     "459423c395744c30a92d77a35cd9e604": {
      "model_module": "@jupyter-widgets/controls",
      "model_module_version": "2.0.0",
      "model_name": "HTMLStyleModel",
      "state": {
       "description_width": "",
       "font_size": null,
       "text_color": null
      }
     },
     "4b568a5b44f74e33a7e58bd37bf46668": {
      "model_module": "@jupyter-widgets/base",
      "model_module_version": "2.0.0",
      "model_name": "LayoutModel",
      "state": {}
     },
     "4df9c406ca6c4a1c83c8937c0e148725": {
      "model_module": "@jupyter-widgets/base",
      "model_module_version": "2.0.0",
      "model_name": "LayoutModel",
      "state": {}
     },
     "5545ebffea064f2fab993943ddc8d8d0": {
      "model_module": "@jupyter-widgets/controls",
      "model_module_version": "2.0.0",
      "model_name": "HTMLStyleModel",
      "state": {
       "description_width": "",
       "font_size": null,
       "text_color": null
      }
     },
     "55901df4aed64041841769ba5a2d6b1f": {
      "model_module": "@jupyter-widgets/base",
      "model_module_version": "2.0.0",
      "model_name": "LayoutModel",
      "state": {}
     },
     "607183362c5d4472aa2c8932fb1f9ee0": {
      "model_module": "@jupyter-widgets/base",
      "model_module_version": "2.0.0",
      "model_name": "LayoutModel",
      "state": {}
     },
     "637dec14bbd94434abdb7ef5e33a2edc": {
      "model_module": "@jupyter-widgets/controls",
      "model_module_version": "2.0.0",
      "model_name": "HTMLModel",
      "state": {
       "layout": "IPY_MODEL_966ca2b85dff4c50a8a7c32ff1d2e591",
       "style": "IPY_MODEL_5545ebffea064f2fab993943ddc8d8d0",
       "value": "Moves Before:   0%"
      }
     },
     "692b14d460c74a3da30070a20a9f96d1": {
      "model_module": "@jupyter-widgets/base",
      "model_module_version": "2.0.0",
      "model_name": "LayoutModel",
      "state": {}
     },
     "70d73c178f604612b86ca51ef0026c5d": {
      "model_module": "@jupyter-widgets/controls",
      "model_module_version": "2.0.0",
      "model_name": "HTMLStyleModel",
      "state": {
       "description_width": "",
       "font_size": null,
       "text_color": null
      }
     },
     "7815e498150d4760af68dffdcbf3dff7": {
      "model_module": "@jupyter-widgets/controls",
      "model_module_version": "2.0.0",
      "model_name": "FloatProgressModel",
      "state": {
       "layout": "IPY_MODEL_35548f2f0fba4b1881e4b56b13dd6636",
       "max": 157,
       "style": "IPY_MODEL_1f0773def36e4ca3a398b0742233c668",
       "value": 15
      }
     },
     "798e8490ddef4e239044468856cd4b8f": {
      "model_module": "@jupyter-widgets/controls",
      "model_module_version": "2.0.0",
      "model_name": "HTMLModel",
      "state": {
       "layout": "IPY_MODEL_967ae72485a447f38399a9b9700741aa",
       "style": "IPY_MODEL_e3abb546d5c44afba8815ad2727ccfa5",
       "value": " 3/3 [00:00&lt;00:00,  5.59it/s]"
      }
     },
     "7fc79058fc3d4c8a9fdc5d832c26bd62": {
      "model_module": "@jupyter-widgets/controls",
      "model_module_version": "2.0.0",
      "model_name": "FloatProgressModel",
      "state": {
       "layout": "IPY_MODEL_e20e9ee657ad447eb3971d3bf092ab78",
       "max": 13,
       "style": "IPY_MODEL_c5915ee4040e4e52b698c1070fd99502",
       "value": 1
      }
     },
     "86ff281d1ae2486b844a6a53b2a81f09": {
      "model_module": "@jupyter-widgets/controls",
      "model_module_version": "2.0.0",
      "model_name": "HTMLModel",
      "state": {
       "layout": "IPY_MODEL_8a8c4459d01f473cb76c8fb6d7bd94a3",
       "style": "IPY_MODEL_70d73c178f604612b86ca51ef0026c5d",
       "value": "4x4_5:  10%"
      }
     },
     "8a8c4459d01f473cb76c8fb6d7bd94a3": {
      "model_module": "@jupyter-widgets/base",
      "model_module_version": "2.0.0",
      "model_name": "LayoutModel",
      "state": {}
     },
     "8aa65e047dd44c50aa7c62ac8de5e581": {
      "model_module": "@jupyter-widgets/base",
      "model_module_version": "2.0.0",
      "model_name": "LayoutModel",
      "state": {}
     },
     "8c291336e1ea408ba0cdbad12ea11bcf": {
      "model_module": "@jupyter-widgets/controls",
      "model_module_version": "2.0.0",
      "model_name": "HTMLStyleModel",
      "state": {
       "description_width": "",
       "font_size": null,
       "text_color": null
      }
     },
     "966ca2b85dff4c50a8a7c32ff1d2e591": {
      "model_module": "@jupyter-widgets/base",
      "model_module_version": "2.0.0",
      "model_name": "LayoutModel",
      "state": {}
     },
     "967ae72485a447f38399a9b9700741aa": {
      "model_module": "@jupyter-widgets/base",
      "model_module_version": "2.0.0",
      "model_name": "LayoutModel",
      "state": {}
     },
     "9810487c265648ba91400a4c175857d6": {
      "model_module": "@jupyter-widgets/controls",
      "model_module_version": "2.0.0",
      "model_name": "HTMLModel",
      "state": {
       "layout": "IPY_MODEL_4b568a5b44f74e33a7e58bd37bf46668",
       "style": "IPY_MODEL_10adf581696b478d989d09f66fcc20e8",
       "value": "Moves Before: 100%"
      }
     },
     "a562de092fba40739bfce65f5b5cde32": {
      "model_module": "@jupyter-widgets/controls",
      "model_module_version": "2.0.0",
      "model_name": "HTMLModel",
      "state": {
       "layout": "IPY_MODEL_4df9c406ca6c4a1c83c8937c0e148725",
       "style": "IPY_MODEL_43b85d91422045f8a4c1d6f721307f52",
       "value": "Board Sizes:   8%"
      }
     },
     "ab8325b9e5f24950847eed348b86fc0c": {
      "model_module": "@jupyter-widgets/controls",
      "model_module_version": "2.0.0",
      "model_name": "HTMLModel",
      "state": {
       "layout": "IPY_MODEL_04df4c24ccab49e4ad2c936434c1570c",
       "style": "IPY_MODEL_42cc7cdeb5214bad84501bbb8846a6f3",
       "value": " 15/157 [00:18&lt;02:15,  1.05it/s, Acc=78.00%, BestAcc=79.00%, F1=0.79, Prec=0.80, Rec=0.79]"
      }
     },
     "aff8679964d845a3b6e82ecaf65444ef": {
      "model_module": "@jupyter-widgets/controls",
      "model_module_version": "2.0.0",
      "model_name": "HTMLStyleModel",
      "state": {
       "description_width": "",
       "font_size": null,
       "text_color": null
      }
     },
     "b4b27f9605a0419a8310fc1cd9fca23e": {
      "model_module": "@jupyter-widgets/controls",
      "model_module_version": "2.0.0",
      "model_name": "ProgressStyleModel",
      "state": {
       "description_width": ""
      }
     },
     "bd5699e49014414db8177d664e88b3d8": {
      "model_module": "@jupyter-widgets/controls",
      "model_module_version": "2.0.0",
      "model_name": "ProgressStyleModel",
      "state": {
       "description_width": ""
      }
     },
     "be6a08f05547405996ebaa771e71f521": {
      "model_module": "@jupyter-widgets/controls",
      "model_module_version": "2.0.0",
      "model_name": "HTMLModel",
      "state": {
       "layout": "IPY_MODEL_3023aa1506714e4792f9195bdbfe0b0f",
       "style": "IPY_MODEL_0c5671907f8e4ddbbace1919b1baae43",
       "value": " 0/3 [00:00&lt;?, ?it/s]"
      }
     },
     "c5915ee4040e4e52b698c1070fd99502": {
      "model_module": "@jupyter-widgets/controls",
      "model_module_version": "2.0.0",
      "model_name": "ProgressStyleModel",
      "state": {
       "description_width": ""
      }
     },
     "c93bc8b07ef14329899f3758f2a8b475": {
      "model_module": "@jupyter-widgets/controls",
      "model_module_version": "2.0.0",
      "model_name": "HBoxModel",
      "state": {
       "children": [
        "IPY_MODEL_a562de092fba40739bfce65f5b5cde32",
        "IPY_MODEL_7fc79058fc3d4c8a9fdc5d832c26bd62",
        "IPY_MODEL_0b182f97d20d47f9b18ccdc00590e31d"
       ],
       "layout": "IPY_MODEL_607183362c5d4472aa2c8932fb1f9ee0"
      }
     },
     "c9d484cb7df04938aeeb19b0462252cc": {
      "model_module": "@jupyter-widgets/controls",
      "model_module_version": "2.0.0",
      "model_name": "FloatProgressModel",
      "state": {
       "layout": "IPY_MODEL_8aa65e047dd44c50aa7c62ac8de5e581",
       "max": 3,
       "style": "IPY_MODEL_b4b27f9605a0419a8310fc1cd9fca23e"
      }
     },
     "ca9d39966a3f4e43a15b52d20d07be7f": {
      "model_module": "@jupyter-widgets/base",
      "model_module_version": "2.0.0",
      "model_name": "LayoutModel",
      "state": {}
     },
     "e20e9ee657ad447eb3971d3bf092ab78": {
      "model_module": "@jupyter-widgets/base",
      "model_module_version": "2.0.0",
      "model_name": "LayoutModel",
      "state": {}
     },
     "e3abb546d5c44afba8815ad2727ccfa5": {
      "model_module": "@jupyter-widgets/controls",
      "model_module_version": "2.0.0",
      "model_name": "HTMLStyleModel",
      "state": {
       "description_width": "",
       "font_size": null,
       "text_color": null
      }
     },
     "ea6240224f634d66a038fd99ed1db2b8": {
      "model_module": "@jupyter-widgets/controls",
      "model_module_version": "2.0.0",
      "model_name": "FloatProgressModel",
      "state": {
       "layout": "IPY_MODEL_55901df4aed64041841769ba5a2d6b1f",
       "max": 3,
       "style": "IPY_MODEL_09276f4e5f094398a5128b8b7b77be60"
      }
     },
     "fa432a59c89640b2b715a1225a8c3355": {
      "model_module": "@jupyter-widgets/base",
      "model_module_version": "2.0.0",
      "model_name": "LayoutModel",
      "state": {}
     },
     "fcbb317afcc2494193e555efb1cc6f3f": {
      "model_module": "@jupyter-widgets/controls",
      "model_module_version": "2.0.0",
      "model_name": "FloatProgressModel",
      "state": {
       "layout": "IPY_MODEL_ca9d39966a3f4e43a15b52d20d07be7f",
       "max": 3,
       "style": "IPY_MODEL_bd5699e49014414db8177d664e88b3d8",
       "value": 3
      }
     }
    },
    "version_major": 2,
    "version_minor": 0
   }
  }
 },
 "nbformat": 4,
 "nbformat_minor": 5
}
