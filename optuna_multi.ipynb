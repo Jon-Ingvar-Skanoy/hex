{
 "cells": [
  {
   "cell_type": "code",
   "execution_count": 1,
   "id": "595eba53-f4ec-43d9-88a7-24f2803f2ed5",
   "metadata": {},
   "outputs": [],
   "source": [
    "import os\n",
    "import sys\n",
    "import platform\n",
    "from pathlib import Path\n",
    "from GraphTsetlinMachine.graphs import Graphs\n",
    "from GraphTsetlinMachine.tm import MultiClassGraphTsetlinMachine\n",
    "import pickle\n",
    "import logging\n",
    "import optuna\n",
    "from optuna.exceptions import TrialPruned \n",
    "from tqdm.auto import tqdm\n",
    "from sklearn.metrics import f1_score, precision_score, recall_score\n",
    "import math\n",
    "from functools import partial"
   ]
  },
  {
   "cell_type": "code",
   "execution_count": 2,
   "id": "ccfa87c9-6827-488e-bac2-5ee2fa1f49c8",
   "metadata": {},
   "outputs": [],
   "source": [
    "optuna.logging.set_verbosity(optuna.logging.WARNING)"
   ]
  },
  {
   "cell_type": "code",
   "execution_count": 3,
   "id": "54a6f734",
   "metadata": {},
   "outputs": [],
   "source": [
    "def get_machine_info():\n",
    "    machine_name = platform.node()  \n",
    "    user = os.getenv(\"USER\") or os.getenv(\"USERNAME\") \n",
    "    os_name = platform.system()  # Get os\n",
    "    print(f\"Machine: {machine_name}\")\n",
    "    print(f\"OS: {os_name}\")\n",
    "    print(f\"User: {user}\")\n",
    "    \n",
    "    # Print machine info\n",
    "    return machine_name, os_name, user"
   ]
  },
  {
   "cell_type": "code",
   "execution_count": 4,
   "id": "9ba6f052",
   "metadata": {},
   "outputs": [
    {
     "name": "stdout",
     "output_type": "stream",
     "text": [
      "Machine: jupyter-jalarssen\n",
      "OS: Linux\n",
      "User: jalarssen\n"
     ]
    }
   ],
   "source": [
    "machine_name, os_name, user = get_machine_info()"
   ]
  },
  {
   "cell_type": "code",
   "execution_count": 5,
   "id": "f0e6e6bb",
   "metadata": {},
   "outputs": [],
   "source": [
    "if machine_name == \"Corsair\" and os_name == \"Linux\" and user == \"jon\":\n",
    "    windows_drive = Path(\"/mnt/b/TsetlinModels\")\n",
    "    os.makedirs(windows_drive / \"data\", exist_ok=True)\n",
    "    os.makedirs(windows_drive / \"models\", exist_ok=True)\n",
    "    os.makedirs(windows_drive / \"graphs\", exist_ok=True)\n",
    "\n",
    "    paths = {\n",
    "        \"data\": windows_drive / \"data\",\n",
    "        \"models\": windows_drive / \"models\",\n",
    "        \"graphs\": windows_drive / \"graphs\",\n",
    "    }\n",
    "    DB = \"ja_tsehex_local.db\"\n",
    "else:\n",
    "    os.makedirs(\"data\", exist_ok=True)\n",
    "    os.makedirs(\"models\", exist_ok=True)\n",
    "    os.makedirs(\"graphs\", exist_ok=True)\n",
    "\n",
    "    paths = {\n",
    "        \"data\": Path(\"data\"),\n",
    "        \"models\": Path(\"models\"),\n",
    "        \"graphs\": Path(\"graphs\"),\n",
    "    }\n",
    "    DB = \"ja_tsehex.db\""
   ]
  },
  {
   "cell_type": "code",
   "execution_count": 6,
   "id": "4142ceb3-19d6-4b13-a896-b4958a3bc14d",
   "metadata": {},
   "outputs": [],
   "source": [
    "hypervector_bits = 2\n",
    "hypervector_size = 64\n",
    "\n",
    "open_pos = [40] # , 50, 60\n",
    "samples = [1000,10000,100000]\n",
    "board_sizes = [13,14,15] #11,12,\n",
    "moves_before = [0, 2, 5]"
   ]
  },
  {
   "cell_type": "code",
   "execution_count": 7,
   "id": "d3a6b646-60aa-4409-b948-4d073ee5b6b1",
   "metadata": {},
   "outputs": [],
   "source": [
    "def stop_when_100_accuracy(study, trial):\n",
    "    if trial.value >= 100: \n",
    "        study.stop()"
   ]
  },
  {
   "cell_type": "code",
   "execution_count": 8,
   "id": "869c1104-87eb-434c-8bdb-9ebc3c3f5121",
   "metadata": {},
   "outputs": [],
   "source": [
    "def objective(trial, graphs_train, graphs_test, X_train, Y_train, X_test, Y_test, board_size, mbf, n_samples, dataset):\n",
    "    #max_clauses = n_samples*10\n",
    "    #max_epochs = math.sqrt(n_samples)*max(1,mbf)\n",
    "    \n",
    "    number_of_clauses = trial.suggest_int('number_of_clauses', 5000, 200000)\n",
    "    T = trial.suggest_float('T_factor', 0.5, number_of_clauses * 1.2)\n",
    "    s = trial.suggest_float('s', 0.01, board_size*0.4)\n",
    "    depth = trial.suggest_int('depth', 3, 16)\n",
    "    epochs = trial.suggest_int('epochs', 15, 100)\n",
    "    message_size = 32\n",
    "    message_bits = 2\n",
    "\n",
    "    tm = MultiClassGraphTsetlinMachine(\n",
    "        number_of_clauses,\n",
    "        T,\n",
    "        s,\n",
    "        depth=depth,\n",
    "        message_size=message_size,\n",
    "        message_bits=message_bits,\n",
    "        number_of_state_bits=8,\n",
    "        boost_true_positive_feedback=1,\n",
    "        grid=(16*13,1,1),\n",
    "        block=(128,1,1),\n",
    "    )\n",
    "\n",
    "    print(f\"Start trial with c={number_of_clauses}, T={T}, s={s}, d={depth}, e={epochs}\")\n",
    "\n",
    "    best_test_acc = 0\n",
    "    best_f1 = 0\n",
    "    best_prec = 0\n",
    "    best_rec = 0\n",
    "    \n",
    "    progress_bar = tqdm(range(epochs), desc=f\"{dataset}\", leave=True)\n",
    "    for epoch in progress_bar:\n",
    "        tm.fit(graphs_train, Y_train, epochs=1, incremental=True)\n",
    "\n",
    "        result_test = 100 * (tm.predict(graphs_test) == Y_test).mean()\n",
    "\n",
    "        f1_score_test = f1_score(Y_test, tm.predict(graphs_test), average='weighted', zero_division=0)\n",
    "        precision_test = precision_score(Y_test, tm.predict(graphs_test), average='weighted', zero_division=0)\n",
    "        recall_test = recall_score(Y_test, tm.predict(graphs_test), average='weighted', zero_division=0)\n",
    "\n",
    "        if result_test > best_test_acc:\n",
    "            best_test_acc = result_test\n",
    "            best_f1 = f1_score_test\n",
    "            best_prec = precision_test\n",
    "            best_rec = recall_test\n",
    "\n",
    "        trial.set_user_attr(\"f1\", f1_score_test)\n",
    "        trial.set_user_attr(\"precision\", precision_test)\n",
    "        trial.set_user_attr(\"recall\", recall_test)\n",
    "\n",
    "\n",
    "        progress_bar.set_postfix({\n",
    "            'Acc':f'{result_test:.2f}%',\n",
    "            'BestAcc': f'{best_test_acc:.2f}%',\n",
    "            'F1': f'{best_f1:.2f}',\n",
    "            'Prec': f'{best_prec:.2f}',\n",
    "            'Rec': f'{best_rec:.2f}'\n",
    "        })\n",
    "\n",
    "        \n",
    "        if result_test >= 100 and f1_score_test >= 1:\n",
    "            return result_test\n",
    "            \n",
    "        trial.report(result_test, epoch)\n",
    "        \n",
    "        if trial.should_prune():\n",
    "            raise TrialPruned()\n",
    "\n",
    "    return result_test"
   ]
  },
  {
   "cell_type": "code",
   "execution_count": null,
   "id": "00567080-10de-4fda-8c21-0bf62b20840c",
   "metadata": {},
   "outputs": [
    {
     "data": {
      "application/vnd.jupyter.widget-view+json": {
       "model_id": "2218ece6751549749210f8dcf8b3adf2",
       "version_major": 2,
       "version_minor": 0
      },
      "text/plain": [
       "Open positions:   0%|          | 0/1 [00:00<?, ?it/s]"
      ]
     },
     "metadata": {},
     "output_type": "display_data"
    },
    {
     "data": {
      "application/vnd.jupyter.widget-view+json": {
       "model_id": "52a214ace02e42b2a619dd0e78db254d",
       "version_major": 2,
       "version_minor": 0
      },
      "text/plain": [
       "Samples:   0%|          | 0/3 [00:00<?, ?it/s]"
      ]
     },
     "metadata": {},
     "output_type": "display_data"
    },
    {
     "data": {
      "application/vnd.jupyter.widget-view+json": {
       "model_id": "1a5ec6ad105d40e890eaae3524eb058b",
       "version_major": 2,
       "version_minor": 0
      },
      "text/plain": [
       "Board Sizes:   0%|          | 0/3 [00:00<?, ?it/s]"
      ]
     },
     "metadata": {},
     "output_type": "display_data"
    },
    {
     "data": {
      "application/vnd.jupyter.widget-view+json": {
       "model_id": "daaca119a4fd4912a260549ad194dff3",
       "version_major": 2,
       "version_minor": 0
      },
      "text/plain": [
       "Moves Before:   0%|          | 0/3 [00:00<?, ?it/s]"
      ]
     },
     "metadata": {},
     "output_type": "display_data"
    },
    {
     "name": "stderr",
     "output_type": "stream",
     "text": [
      "/tmp/ipykernel_150980/2657410140.py:17: ExperimentalWarning: PatientPruner is experimental (supported from v2.8.0). The interface can change in the future.\n",
      "  pruner=optuna.pruners.PatientPruner(optuna.pruners.SuccessiveHalvingPruner(), patience=5)\n"
     ]
    },
    {
     "name": "stdout",
     "output_type": "stream",
     "text": [
      "No trials found for Study_13x13_1000_40_0. Running new optimization.\n",
      "Initialization of sparse structure.\n",
      "Start trial with c=94189, T=5787.588623774524, s=1.2415460446638984, d=8, e=63\n"
     ]
    },
    {
     "data": {
      "application/vnd.jupyter.widget-view+json": {
       "model_id": "fe2a9b461cd0469fb0f731edd1f65a7e",
       "version_major": 2,
       "version_minor": 0
      },
      "text/plain": [
       "13x13_1000_40_0:   0%|          | 0/63 [00:00<?, ?it/s]"
      ]
     },
     "metadata": {},
     "output_type": "display_data"
    },
    {
     "name": "stdout",
     "output_type": "stream",
     "text": [
      "Initialization of sparse structure.\n",
      "Start trial with c=104776, T=71851.0090415516, s=3.091469006878781, d=14, e=54\n"
     ]
    },
    {
     "data": {
      "application/vnd.jupyter.widget-view+json": {
       "model_id": "297cb5b8d3fb4faaaa1cc56898cafc2f",
       "version_major": 2,
       "version_minor": 0
      },
      "text/plain": [
       "13x13_1000_40_0:   0%|          | 0/54 [00:00<?, ?it/s]"
      ]
     },
     "metadata": {},
     "output_type": "display_data"
    }
   ],
   "source": [
    "# Running multiple studies for different configurations of the dataset\n",
    "for pos in tqdm(open_pos, desc=\"Open positions\"):\n",
    "    for n_samples in tqdm(samples, desc=\"Samples\", leave=False):\n",
    "        for board_size in tqdm(board_sizes, desc=\"Board Sizes\", leave=False):\n",
    "            for mbf in tqdm(moves_before, desc=\"Moves Before\", leave=False):\n",
    "                dataset = f\"{board_size}x{board_size}_{n_samples}_{pos}_{mbf}\"\n",
    "                file_path = paths[\"graphs\"] / f\"{dataset}.pkl\"\n",
    "                with open(file_path, 'rb') as f:\n",
    "                    graphs_train, graphs_test, X_train, Y_train, X_test, Y_test = pickle.load(f)\n",
    "    \n",
    "                study = optuna.create_study(\n",
    "                    #directions=[\"maximize\", \"minimize\"],  # Maximize accuracy, minimize number of clauses\n",
    "                    direction=\"maximize\",\n",
    "                    study_name=f\"Study_{dataset}\",\n",
    "                    storage=f\"sqlite:///results/optuna/{DB}\",\n",
    "                    load_if_exists=True,\n",
    "                    pruner=optuna.pruners.PatientPruner(optuna.pruners.SuccessiveHalvingPruner(), patience=5)\n",
    "                )\n",
    "    \n",
    "                if len(study.trials) > 0:\n",
    "                    try:\n",
    "                        if study.best_trial.value >= 100:\n",
    "                            print(f\"Study {study.study_name} already has 100% accuracy. Skipping further optimization.\")\n",
    "                            continue\n",
    "                    except ValueError:\n",
    "                        print(f\"No valid trials found for {study.study_name}, continuing with optimization.\")\n",
    "                else:\n",
    "                    print(f\"No trials found for {study.study_name}. Running new optimization.\")\n",
    "    \n",
    "                objective_with_params = partial(objective, graphs_train=graphs_train, graphs_test=graphs_test, \n",
    "                                                X_train=X_train, Y_train=Y_train, X_test=X_test, Y_test=Y_test, \n",
    "                                                board_size=board_size, mbf=mbf, n_samples=n_samples, dataset=dataset)\n",
    "    \n",
    "                try:\n",
    "                    study.optimize(objective_with_params, n_trials=1000, callbacks=[stop_when_100_accuracy])\n",
    "                except KeyboardInterrupt:\n",
    "                    print(\"Optimization interrupted!\")\n",
    "                    print(f\"Best result so far: {study.best_params}\")"
   ]
  }
 ],
 "metadata": {
  "kernelspec": {
   "display_name": "Python 3 (ipykernel)",
   "language": "python",
   "name": "python3"
  },
  "language_info": {
   "codemirror_mode": {
    "name": "ipython",
    "version": 3
   },
   "file_extension": ".py",
   "mimetype": "text/x-python",
   "name": "python",
   "nbconvert_exporter": "python",
   "pygments_lexer": "ipython3",
   "version": "3.11.6"
  },
  "widgets": {
   "application/vnd.jupyter.widget-state+json": {
    "state": {
     "0037693f57c34a1681085a01d333fd02": {
      "model_module": "@jupyter-widgets/controls",
      "model_module_version": "2.0.0",
      "model_name": "HTMLStyleModel",
      "state": {
       "description_width": "",
       "font_size": null,
       "text_color": null
      }
     },
     "041ce1c06569437aa93293088a0203e3": {
      "model_module": "@jupyter-widgets/controls",
      "model_module_version": "2.0.0",
      "model_name": "ProgressStyleModel",
      "state": {
       "description_width": ""
      }
     },
     "09939517415d4ccfaee6017eb5dedb1e": {
      "model_module": "@jupyter-widgets/base",
      "model_module_version": "2.0.0",
      "model_name": "LayoutModel",
      "state": {}
     },
     "0a110c34fae6462eb5845b6bfa8b9790": {
      "model_module": "@jupyter-widgets/controls",
      "model_module_version": "2.0.0",
      "model_name": "HTMLStyleModel",
      "state": {
       "description_width": "",
       "font_size": null,
       "text_color": null
      }
     },
     "16353206fcec44238cbe6d708d9e4ba1": {
      "model_module": "@jupyter-widgets/controls",
      "model_module_version": "2.0.0",
      "model_name": "HTMLModel",
      "state": {
       "layout": "IPY_MODEL_68af6d5ef9d44e2d83d67f6264d30a64",
       "style": "IPY_MODEL_4433d8c4a7fc484db30aaf0c2a1a81e7",
       "value": " 32/54 [27:36&lt;18:12, 49.64s/it, Acc=58.00%, BestAcc=58.00%, F1=0.50, Prec=0.66, Rec=0.58]"
      }
     },
     "19f2ca4fc67d4293baf3cea7950c5045": {
      "model_module": "@jupyter-widgets/controls",
      "model_module_version": "2.0.0",
      "model_name": "HTMLModel",
      "state": {
       "layout": "IPY_MODEL_c522cb87083c404bae1e7517d5275b73",
       "style": "IPY_MODEL_435f73a73f0f4ae9a93041c70cba976b",
       "value": " 0/3 [00:00&lt;?, ?it/s]"
      }
     },
     "1a08a991a7f541f8bbf7b25649167bfd": {
      "model_module": "@jupyter-widgets/controls",
      "model_module_version": "2.0.0",
      "model_name": "HTMLModel",
      "state": {
       "layout": "IPY_MODEL_b1051fd431b046fcaa23eeafd8843680",
       "style": "IPY_MODEL_727d79edecf44e3899433fb4f0476c2e",
       "value": "Samples:   0%"
      }
     },
     "1a5ec6ad105d40e890eaae3524eb058b": {
      "model_module": "@jupyter-widgets/controls",
      "model_module_version": "2.0.0",
      "model_name": "HBoxModel",
      "state": {
       "children": [
        "IPY_MODEL_a3cce557236748ba8a928d7a6abb712d",
        "IPY_MODEL_5f6f037c09c348838f257b77e8070a4b",
        "IPY_MODEL_da2706cf25ed4b678b3f8c64ce6d5349"
       ],
       "layout": "IPY_MODEL_7b1247e762014bd694347fc2806e9f00"
      }
     },
     "2106650c5cc24816b1336ea53c7f338f": {
      "model_module": "@jupyter-widgets/base",
      "model_module_version": "2.0.0",
      "model_name": "LayoutModel",
      "state": {}
     },
     "214c0edb962343809dd8790cc47297b7": {
      "model_module": "@jupyter-widgets/controls",
      "model_module_version": "2.0.0",
      "model_name": "HTMLStyleModel",
      "state": {
       "description_width": "",
       "font_size": null,
       "text_color": null
      }
     },
     "2218ece6751549749210f8dcf8b3adf2": {
      "model_module": "@jupyter-widgets/controls",
      "model_module_version": "2.0.0",
      "model_name": "HBoxModel",
      "state": {
       "children": [
        "IPY_MODEL_555052165bec425ab27ae0f97621a6d2",
        "IPY_MODEL_704613788771448e9920b5b5c2f140c6",
        "IPY_MODEL_bc18850780e94191bd0cacde41e6d88f"
       ],
       "layout": "IPY_MODEL_09939517415d4ccfaee6017eb5dedb1e"
      }
     },
     "251b45fe3dc9474388a80c8244c1d044": {
      "model_module": "@jupyter-widgets/controls",
      "model_module_version": "2.0.0",
      "model_name": "HTMLStyleModel",
      "state": {
       "description_width": "",
       "font_size": null,
       "text_color": null
      }
     },
     "28c0a4729919498c91e011d4ebb2bb1d": {
      "model_module": "@jupyter-widgets/controls",
      "model_module_version": "2.0.0",
      "model_name": "HTMLStyleModel",
      "state": {
       "description_width": "",
       "font_size": null,
       "text_color": null
      }
     },
     "297cb5b8d3fb4faaaa1cc56898cafc2f": {
      "model_module": "@jupyter-widgets/controls",
      "model_module_version": "2.0.0",
      "model_name": "HBoxModel",
      "state": {
       "children": [
        "IPY_MODEL_7bc58c0af7b448e283ce0278d4b722b8",
        "IPY_MODEL_3c83dacb6279426ebe163e6c24eb1da4",
        "IPY_MODEL_16353206fcec44238cbe6d708d9e4ba1"
       ],
       "layout": "IPY_MODEL_b0f8d3f77e514f41995fe72213746dce"
      }
     },
     "2fe74da4ea164a2d8955cb0387083c24": {
      "model_module": "@jupyter-widgets/controls",
      "model_module_version": "2.0.0",
      "model_name": "HTMLModel",
      "state": {
       "layout": "IPY_MODEL_8dc9a05e38694b3283f0b59d04d20030",
       "style": "IPY_MODEL_214c0edb962343809dd8790cc47297b7",
       "value": "Moves Before:   0%"
      }
     },
     "33485f90a6b34533b0823e5500239b63": {
      "model_module": "@jupyter-widgets/controls",
      "model_module_version": "2.0.0",
      "model_name": "HTMLStyleModel",
      "state": {
       "description_width": "",
       "font_size": null,
       "text_color": null
      }
     },
     "3c83dacb6279426ebe163e6c24eb1da4": {
      "model_module": "@jupyter-widgets/controls",
      "model_module_version": "2.0.0",
      "model_name": "FloatProgressModel",
      "state": {
       "layout": "IPY_MODEL_c436e3b9acab4460a3a28edd1f2b3f15",
       "max": 54,
       "style": "IPY_MODEL_6ac54c61ad3747778d3ea8f16c645e2d",
       "value": 32
      }
     },
     "435f73a73f0f4ae9a93041c70cba976b": {
      "model_module": "@jupyter-widgets/controls",
      "model_module_version": "2.0.0",
      "model_name": "HTMLStyleModel",
      "state": {
       "description_width": "",
       "font_size": null,
       "text_color": null
      }
     },
     "4433d8c4a7fc484db30aaf0c2a1a81e7": {
      "model_module": "@jupyter-widgets/controls",
      "model_module_version": "2.0.0",
      "model_name": "HTMLStyleModel",
      "state": {
       "description_width": "",
       "font_size": null,
       "text_color": null
      }
     },
     "45b4d538828545989d40c3415512621c": {
      "model_module": "@jupyter-widgets/controls",
      "model_module_version": "2.0.0",
      "model_name": "ProgressStyleModel",
      "state": {
       "description_width": ""
      }
     },
     "46c3a709eda3494dbbedd6d867afe650": {
      "model_module": "@jupyter-widgets/base",
      "model_module_version": "2.0.0",
      "model_name": "LayoutModel",
      "state": {}
     },
     "4db5d48ba82540148d4018d37abc20d5": {
      "model_module": "@jupyter-widgets/base",
      "model_module_version": "2.0.0",
      "model_name": "LayoutModel",
      "state": {}
     },
     "4dbb28aef7dd40649c57d30a44c1d480": {
      "model_module": "@jupyter-widgets/controls",
      "model_module_version": "2.0.0",
      "model_name": "HTMLStyleModel",
      "state": {
       "description_width": "",
       "font_size": null,
       "text_color": null
      }
     },
     "4fe2b1135d104afc98e1b2bc839860a5": {
      "model_module": "@jupyter-widgets/base",
      "model_module_version": "2.0.0",
      "model_name": "LayoutModel",
      "state": {}
     },
     "52a214ace02e42b2a619dd0e78db254d": {
      "model_module": "@jupyter-widgets/controls",
      "model_module_version": "2.0.0",
      "model_name": "HBoxModel",
      "state": {
       "children": [
        "IPY_MODEL_1a08a991a7f541f8bbf7b25649167bfd",
        "IPY_MODEL_5ce5cf33581f419ba4550e26c828750b",
        "IPY_MODEL_19f2ca4fc67d4293baf3cea7950c5045"
       ],
       "layout": "IPY_MODEL_ea7da7265ed1438b80fccfa0a818c1cc"
      }
     },
     "5383312f0b154e26a1d8f44147a81689": {
      "model_module": "@jupyter-widgets/controls",
      "model_module_version": "2.0.0",
      "model_name": "HTMLStyleModel",
      "state": {
       "description_width": "",
       "font_size": null,
       "text_color": null
      }
     },
     "555052165bec425ab27ae0f97621a6d2": {
      "model_module": "@jupyter-widgets/controls",
      "model_module_version": "2.0.0",
      "model_name": "HTMLModel",
      "state": {
       "layout": "IPY_MODEL_4db5d48ba82540148d4018d37abc20d5",
       "style": "IPY_MODEL_251b45fe3dc9474388a80c8244c1d044",
       "value": "Open positions:   0%"
      }
     },
     "55a76359d3a0441db68d1a035a9d75c8": {
      "model_module": "@jupyter-widgets/controls",
      "model_module_version": "2.0.0",
      "model_name": "ProgressStyleModel",
      "state": {
       "description_width": ""
      }
     },
     "5ce5cf33581f419ba4550e26c828750b": {
      "model_module": "@jupyter-widgets/controls",
      "model_module_version": "2.0.0",
      "model_name": "FloatProgressModel",
      "state": {
       "layout": "IPY_MODEL_78bf3d5bda72466b9c9d04e5f6ff82c4",
       "max": 3,
       "style": "IPY_MODEL_55a76359d3a0441db68d1a035a9d75c8"
      }
     },
     "5f6f037c09c348838f257b77e8070a4b": {
      "model_module": "@jupyter-widgets/controls",
      "model_module_version": "2.0.0",
      "model_name": "FloatProgressModel",
      "state": {
       "layout": "IPY_MODEL_2106650c5cc24816b1336ea53c7f338f",
       "max": 3,
       "style": "IPY_MODEL_b19afeb3d51249d885f8923dcc596cf0"
      }
     },
     "68af6d5ef9d44e2d83d67f6264d30a64": {
      "model_module": "@jupyter-widgets/base",
      "model_module_version": "2.0.0",
      "model_name": "LayoutModel",
      "state": {}
     },
     "6ac54c61ad3747778d3ea8f16c645e2d": {
      "model_module": "@jupyter-widgets/controls",
      "model_module_version": "2.0.0",
      "model_name": "ProgressStyleModel",
      "state": {
       "description_width": ""
      }
     },
     "704613788771448e9920b5b5c2f140c6": {
      "model_module": "@jupyter-widgets/controls",
      "model_module_version": "2.0.0",
      "model_name": "FloatProgressModel",
      "state": {
       "layout": "IPY_MODEL_db7d1b0caf274d9785a68528e15640d2",
       "max": 1,
       "style": "IPY_MODEL_d40ccc8b10a949c0a287af0eb706429c"
      }
     },
     "727d79edecf44e3899433fb4f0476c2e": {
      "model_module": "@jupyter-widgets/controls",
      "model_module_version": "2.0.0",
      "model_name": "HTMLStyleModel",
      "state": {
       "description_width": "",
       "font_size": null,
       "text_color": null
      }
     },
     "775a47c11df64a83828bf24ae046375e": {
      "model_module": "@jupyter-widgets/controls",
      "model_module_version": "2.0.0",
      "model_name": "HTMLModel",
      "state": {
       "layout": "IPY_MODEL_8535866f9da54c33801fb505718bc831",
       "style": "IPY_MODEL_0a110c34fae6462eb5845b6bfa8b9790",
       "value": " 63/63 [29:26&lt;00:00, 27.97s/it, Acc=73.50%, BestAcc=74.00%, F1=0.74, Prec=0.74, Rec=0.74]"
      }
     },
     "78bf3d5bda72466b9c9d04e5f6ff82c4": {
      "model_module": "@jupyter-widgets/base",
      "model_module_version": "2.0.0",
      "model_name": "LayoutModel",
      "state": {}
     },
     "7b1247e762014bd694347fc2806e9f00": {
      "model_module": "@jupyter-widgets/base",
      "model_module_version": "2.0.0",
      "model_name": "LayoutModel",
      "state": {}
     },
     "7bc58c0af7b448e283ce0278d4b722b8": {
      "model_module": "@jupyter-widgets/controls",
      "model_module_version": "2.0.0",
      "model_name": "HTMLModel",
      "state": {
       "layout": "IPY_MODEL_f52c2158469a44dfa0bccc4afe8f4fb2",
       "style": "IPY_MODEL_33485f90a6b34533b0823e5500239b63",
       "value": "13x13_1000_40_0:  59%"
      }
     },
     "7d276ecf1011454c855383c3b2960ac3": {
      "model_module": "@jupyter-widgets/base",
      "model_module_version": "2.0.0",
      "model_name": "LayoutModel",
      "state": {}
     },
     "8535866f9da54c33801fb505718bc831": {
      "model_module": "@jupyter-widgets/base",
      "model_module_version": "2.0.0",
      "model_name": "LayoutModel",
      "state": {}
     },
     "8dc9a05e38694b3283f0b59d04d20030": {
      "model_module": "@jupyter-widgets/base",
      "model_module_version": "2.0.0",
      "model_name": "LayoutModel",
      "state": {}
     },
     "9092d6d60c2e456bbc461b05ed05ecf9": {
      "model_module": "@jupyter-widgets/base",
      "model_module_version": "2.0.0",
      "model_name": "LayoutModel",
      "state": {}
     },
     "95ccab67602643dc8491688e2e35e73b": {
      "model_module": "@jupyter-widgets/controls",
      "model_module_version": "2.0.0",
      "model_name": "HTMLModel",
      "state": {
       "layout": "IPY_MODEL_a854039cdefc4c3c9aea8612cf895027",
       "style": "IPY_MODEL_4dbb28aef7dd40649c57d30a44c1d480",
       "value": " 0/3 [00:00&lt;?, ?it/s]"
      }
     },
     "99d46d4db2d848849a0bb6d9070debc3": {
      "model_module": "@jupyter-widgets/controls",
      "model_module_version": "2.0.0",
      "model_name": "HTMLModel",
      "state": {
       "layout": "IPY_MODEL_46c3a709eda3494dbbedd6d867afe650",
       "style": "IPY_MODEL_5383312f0b154e26a1d8f44147a81689",
       "value": "13x13_1000_40_0: 100%"
      }
     },
     "a3cce557236748ba8a928d7a6abb712d": {
      "model_module": "@jupyter-widgets/controls",
      "model_module_version": "2.0.0",
      "model_name": "HTMLModel",
      "state": {
       "layout": "IPY_MODEL_9092d6d60c2e456bbc461b05ed05ecf9",
       "style": "IPY_MODEL_ab259caafc1a405d8acc147402c55833",
       "value": "Board Sizes:   0%"
      }
     },
     "a854039cdefc4c3c9aea8612cf895027": {
      "model_module": "@jupyter-widgets/base",
      "model_module_version": "2.0.0",
      "model_name": "LayoutModel",
      "state": {}
     },
     "ab259caafc1a405d8acc147402c55833": {
      "model_module": "@jupyter-widgets/controls",
      "model_module_version": "2.0.0",
      "model_name": "HTMLStyleModel",
      "state": {
       "description_width": "",
       "font_size": null,
       "text_color": null
      }
     },
     "b0f8d3f77e514f41995fe72213746dce": {
      "model_module": "@jupyter-widgets/base",
      "model_module_version": "2.0.0",
      "model_name": "LayoutModel",
      "state": {}
     },
     "b1051fd431b046fcaa23eeafd8843680": {
      "model_module": "@jupyter-widgets/base",
      "model_module_version": "2.0.0",
      "model_name": "LayoutModel",
      "state": {}
     },
     "b19afeb3d51249d885f8923dcc596cf0": {
      "model_module": "@jupyter-widgets/controls",
      "model_module_version": "2.0.0",
      "model_name": "ProgressStyleModel",
      "state": {
       "description_width": ""
      }
     },
     "bc18850780e94191bd0cacde41e6d88f": {
      "model_module": "@jupyter-widgets/controls",
      "model_module_version": "2.0.0",
      "model_name": "HTMLModel",
      "state": {
       "layout": "IPY_MODEL_f9c0f1c2cc6041b99831f93262334f0a",
       "style": "IPY_MODEL_28c0a4729919498c91e011d4ebb2bb1d",
       "value": " 0/1 [00:00&lt;?, ?it/s]"
      }
     },
     "c436e3b9acab4460a3a28edd1f2b3f15": {
      "model_module": "@jupyter-widgets/base",
      "model_module_version": "2.0.0",
      "model_name": "LayoutModel",
      "state": {}
     },
     "c522cb87083c404bae1e7517d5275b73": {
      "model_module": "@jupyter-widgets/base",
      "model_module_version": "2.0.0",
      "model_name": "LayoutModel",
      "state": {}
     },
     "d40ccc8b10a949c0a287af0eb706429c": {
      "model_module": "@jupyter-widgets/controls",
      "model_module_version": "2.0.0",
      "model_name": "ProgressStyleModel",
      "state": {
       "description_width": ""
      }
     },
     "d63234d61150409cb398ac0026b5ff63": {
      "model_module": "@jupyter-widgets/base",
      "model_module_version": "2.0.0",
      "model_name": "LayoutModel",
      "state": {}
     },
     "da2706cf25ed4b678b3f8c64ce6d5349": {
      "model_module": "@jupyter-widgets/controls",
      "model_module_version": "2.0.0",
      "model_name": "HTMLModel",
      "state": {
       "layout": "IPY_MODEL_f127a402ec474740ba2ae40ef2975548",
       "style": "IPY_MODEL_0037693f57c34a1681085a01d333fd02",
       "value": " 0/3 [00:00&lt;?, ?it/s]"
      }
     },
     "daaca119a4fd4912a260549ad194dff3": {
      "model_module": "@jupyter-widgets/controls",
      "model_module_version": "2.0.0",
      "model_name": "HBoxModel",
      "state": {
       "children": [
        "IPY_MODEL_2fe74da4ea164a2d8955cb0387083c24",
        "IPY_MODEL_dbb4adaba7d64699a53f5e3de26d99eb",
        "IPY_MODEL_95ccab67602643dc8491688e2e35e73b"
       ],
       "layout": "IPY_MODEL_feeda6e6822144c5984033d170fe6b88"
      }
     },
     "db7d1b0caf274d9785a68528e15640d2": {
      "model_module": "@jupyter-widgets/base",
      "model_module_version": "2.0.0",
      "model_name": "LayoutModel",
      "state": {}
     },
     "dbb4adaba7d64699a53f5e3de26d99eb": {
      "model_module": "@jupyter-widgets/controls",
      "model_module_version": "2.0.0",
      "model_name": "FloatProgressModel",
      "state": {
       "layout": "IPY_MODEL_4fe2b1135d104afc98e1b2bc839860a5",
       "max": 3,
       "style": "IPY_MODEL_45b4d538828545989d40c3415512621c"
      }
     },
     "ea7da7265ed1438b80fccfa0a818c1cc": {
      "model_module": "@jupyter-widgets/base",
      "model_module_version": "2.0.0",
      "model_name": "LayoutModel",
      "state": {}
     },
     "ee41172cb6094f1da4223609ec26eee2": {
      "model_module": "@jupyter-widgets/controls",
      "model_module_version": "2.0.0",
      "model_name": "FloatProgressModel",
      "state": {
       "bar_style": "success",
       "layout": "IPY_MODEL_7d276ecf1011454c855383c3b2960ac3",
       "max": 63,
       "style": "IPY_MODEL_041ce1c06569437aa93293088a0203e3",
       "value": 63
      }
     },
     "f127a402ec474740ba2ae40ef2975548": {
      "model_module": "@jupyter-widgets/base",
      "model_module_version": "2.0.0",
      "model_name": "LayoutModel",
      "state": {}
     },
     "f52c2158469a44dfa0bccc4afe8f4fb2": {
      "model_module": "@jupyter-widgets/base",
      "model_module_version": "2.0.0",
      "model_name": "LayoutModel",
      "state": {}
     },
     "f9c0f1c2cc6041b99831f93262334f0a": {
      "model_module": "@jupyter-widgets/base",
      "model_module_version": "2.0.0",
      "model_name": "LayoutModel",
      "state": {}
     },
     "fe2a9b461cd0469fb0f731edd1f65a7e": {
      "model_module": "@jupyter-widgets/controls",
      "model_module_version": "2.0.0",
      "model_name": "HBoxModel",
      "state": {
       "children": [
        "IPY_MODEL_99d46d4db2d848849a0bb6d9070debc3",
        "IPY_MODEL_ee41172cb6094f1da4223609ec26eee2",
        "IPY_MODEL_775a47c11df64a83828bf24ae046375e"
       ],
       "layout": "IPY_MODEL_d63234d61150409cb398ac0026b5ff63"
      }
     },
     "feeda6e6822144c5984033d170fe6b88": {
      "model_module": "@jupyter-widgets/base",
      "model_module_version": "2.0.0",
      "model_name": "LayoutModel",
      "state": {}
     }
    },
    "version_major": 2,
    "version_minor": 0
   }
  }
 },
 "nbformat": 4,
 "nbformat_minor": 5
}
