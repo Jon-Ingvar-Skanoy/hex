{
 "cells": [
  {
   "cell_type": "code",
   "execution_count": 1,
   "id": "595eba53-f4ec-43d9-88a7-24f2803f2ed5",
   "metadata": {
    "jupyter": {
     "source_hidden": true
    }
   },
   "outputs": [],
   "source": [
    "import pickle\n",
    "import optuna\n",
    "from tqdm.auto import tqdm\n",
    "from optuna.exceptions import TrialPruned\n",
    "from GraphTsetlinMachine.graphs import Graphs\n",
    "from GraphTsetlinMachine.tm import MultiClassGraphTsetlinMachine\n",
    "from sklearn.metrics import f1_score, precision_score, recall_score"
   ]
  },
  {
   "cell_type": "code",
   "execution_count": 2,
   "id": "4142ceb3-19d6-4b13-a896-b4958a3bc14d",
   "metadata": {},
   "outputs": [],
   "source": [
    "hypervector_bits = 2\n",
    "hypervector_size = 64\n",
    "\n",
    "samples = [1000,10000,100000]\n",
    "board_sizes = [3,4,5,6,7,8,9,10,11,12,13,14,15]\n",
    "moves_before = [0, 2, 5]"
   ]
  },
  {
   "cell_type": "code",
   "execution_count": 3,
   "id": "d3a6b646-60aa-4409-b948-4d073ee5b6b1",
   "metadata": {},
   "outputs": [],
   "source": [
    "def stop_when_100_accuracy(study, trial):\n",
    "    if trial.value >= 100:  # Check if the current trial has achieved 100% accuracy\n",
    "        #print(\"100% accuracy reached, stopping further trials for this study.\")\n",
    "        study.stop()  # Stop the current study"
   ]
  },
  {
   "cell_type": "code",
   "execution_count": 4,
   "id": "869c1104-87eb-434c-8bdb-9ebc3c3f5121",
   "metadata": {},
   "outputs": [],
   "source": [
    "def objective(trial):\n",
    "    # Suggest values for hyperparameters\n",
    "    max_clauses = n_samples*10\n",
    "    number_of_clauses = trial.suggest_int('number_of_clauses', board_size**2, max_clauses)\n",
    "    T = trial.suggest_float('T_factor', 0.5, number_of_clauses * 1.2)\n",
    "    s = trial.suggest_float('s', 0.1, board_size)\n",
    "    depth = trial.suggest_int('depth', 2, board_size+1)\n",
    "    epochs = trial.suggest_int('epochs', 15, 100)\n",
    "    message_size = 32\n",
    "    message_bits = 2\n",
    "\n",
    "    # Initialize the Tsetlin machine with suggested hyperparameters\n",
    "    tm = MultiClassGraphTsetlinMachine(\n",
    "        number_of_clauses,\n",
    "        T,\n",
    "        s,\n",
    "        depth=depth,\n",
    "        message_size=message_size,\n",
    "        message_bits=message_bits,\n",
    "        number_of_state_bits=8,\n",
    "        boost_true_positive_feedback=1,\n",
    "    )\n",
    "\n",
    "    print(f\"Start trial with c={number_of_clauses}, T={T}, s={s}, d={depth}, e={epochs}\")\n",
    "\n",
    "    best_test_acc = 0\n",
    "    best_f1 = 0\n",
    "    best_prec = 0\n",
    "    best_rec = 0\n",
    "    \n",
    "    progress_bar = tqdm(range(epochs), desc=f\"{dataset}\", leave=True)\n",
    "    for epoch in progress_bar:\n",
    "        # Train the model\n",
    "        tm.fit(graphs_train, Y_train, epochs=1, incremental=True)\n",
    "\n",
    "        result_test = 100 * (tm.predict(graphs_test) == Y_test).mean()\n",
    "\n",
    "        f1_score_test = f1_score(Y_test, tm.predict(graphs_test), average='weighted', zero_division=0)\n",
    "        precision_test = precision_score(Y_test, tm.predict(graphs_test), average='weighted', zero_division=0)\n",
    "        recall_test = recall_score(Y_test, tm.predict(graphs_test), average='weighted', zero_division=0)\n",
    "\n",
    "        if result_test > best_test_acc:\n",
    "            best_test_acc = result_test\n",
    "            best_f1 = f1_score_test\n",
    "            best_prec = precision_test\n",
    "            best_rec = recall_test\n",
    "\n",
    "        trial.set_user_attr(\"f1\", f1_score_test)\n",
    "        trial.set_user_attr(\"precision\", precision_test)\n",
    "        trial.set_user_attr(\"recall\", recall_test)\n",
    "\n",
    "\n",
    "        progress_bar.set_postfix({\n",
    "            'Acc':f'{result_test:.2f}%',\n",
    "            'BestAcc': f'{best_test_acc:.2f}%',\n",
    "            'F1': f'{best_f1:.2f}',\n",
    "            'Prec': f'{best_prec:.2f}',\n",
    "            'Rec': f'{best_rec:.2f}'\n",
    "        })\n",
    "\n",
    "        # Early stopping conditions\n",
    "        if result_test >= 100 and f1_score_test >= 1:\n",
    "            return result_test\n",
    "            \n",
    "        if epoch > 5 and best_test_acc < 90:\n",
    "            if trial.should_prune():\n",
    "                raise TrialPruned()\n",
    "\n",
    "    # Return both objectives: accuracy (to maximize) and number_of_clauses (to minimize)\n",
    "    return result_test"
   ]
  },
  {
   "cell_type": "code",
   "execution_count": null,
   "id": "00567080-10de-4fda-8c21-0bf62b20840c",
   "metadata": {},
   "outputs": [
    {
     "data": {
      "application/vnd.jupyter.widget-view+json": {
       "model_id": "bbcfdbdd6f4c46319de298558f609c0c",
       "version_major": 2,
       "version_minor": 0
      },
      "text/plain": [
       "Samples:   0%|          | 0/3 [00:00<?, ?it/s]"
      ]
     },
     "metadata": {},
     "output_type": "display_data"
    },
    {
     "data": {
      "application/vnd.jupyter.widget-view+json": {
       "model_id": "257c18f3688945d5a3f75df44b65903b",
       "version_major": 2,
       "version_minor": 0
      },
      "text/plain": [
       "Board Sizes:   0%|          | 0/13 [00:00<?, ?it/s]"
      ]
     },
     "metadata": {},
     "output_type": "display_data"
    },
    {
     "data": {
      "application/vnd.jupyter.widget-view+json": {
       "model_id": "",
       "version_major": 2,
       "version_minor": 0
      },
      "text/plain": [
       "Moves Before:   0%|          | 0/3 [00:00<?, ?it/s]"
      ]
     },
     "metadata": {},
     "output_type": "display_data"
    },
    {
     "name": "stderr",
     "output_type": "stream",
     "text": [
      "[I 2024-10-21 20:27:24,611] Using an existing study with name 'Study_3x3_0' instead of creating a new one.\n"
     ]
    },
    {
     "name": "stdout",
     "output_type": "stream",
     "text": [
      "Initialization of sparse structure.\n",
      "Start trial with c=5414, T=3821.358101405683, s=0.6689103797660491, d=2, e=100\n"
     ]
    },
    {
     "data": {
      "application/vnd.jupyter.widget-view+json": {
       "model_id": "3604d076ae754ab78ee8c27c09418639",
       "version_major": 2,
       "version_minor": 0
      },
      "text/plain": [
       "3x3_0:   0%|          | 0/100 [00:00<?, ?it/s]"
      ]
     },
     "metadata": {},
     "output_type": "display_data"
    },
    {
     "name": "stderr",
     "output_type": "stream",
     "text": [
      "[I 2024-10-21 20:28:07,935] Trial 14 finished with value: 42.5 and parameters: {'number_of_clauses': 5414, 'T_factor': 3821.358101405683, 's': 0.6689103797660491, 'depth': 2, 'epochs': 100}. Best is trial 5 with value: 100.0.\n"
     ]
    },
    {
     "name": "stdout",
     "output_type": "stream",
     "text": [
      "Initialization of sparse structure.\n",
      "Start trial with c=8685, T=5042.501589606824, s=1.4464787921069786, d=2, e=65\n"
     ]
    },
    {
     "data": {
      "application/vnd.jupyter.widget-view+json": {
       "model_id": "d50e68f55fff426a8a8d5853309563db",
       "version_major": 2,
       "version_minor": 0
      },
      "text/plain": [
       "3x3_0:   0%|          | 0/65 [00:00<?, ?it/s]"
      ]
     },
     "metadata": {},
     "output_type": "display_data"
    },
    {
     "name": "stderr",
     "output_type": "stream",
     "text": [
      "[I 2024-10-21 20:28:33,464] Trial 15 finished with value: 98.5 and parameters: {'number_of_clauses': 8685, 'T_factor': 5042.501589606824, 's': 1.4464787921069786, 'depth': 2, 'epochs': 65}. Best is trial 5 with value: 100.0.\n"
     ]
    },
    {
     "name": "stdout",
     "output_type": "stream",
     "text": [
      "Initialization of sparse structure.\n",
      "Start trial with c=3306, T=1464.4082999798734, s=0.6545789813228038, d=4, e=26\n"
     ]
    },
    {
     "data": {
      "application/vnd.jupyter.widget-view+json": {
       "model_id": "b2865e8cb7f44014942847d3e7b99da9",
       "version_major": 2,
       "version_minor": 0
      },
      "text/plain": [
       "3x3_0:   0%|          | 0/26 [00:00<?, ?it/s]"
      ]
     },
     "metadata": {},
     "output_type": "display_data"
    },
    {
     "name": "stderr",
     "output_type": "stream",
     "text": [
      "[I 2024-10-21 20:28:53,373] Trial 16 finished with value: 36.5 and parameters: {'number_of_clauses': 3306, 'T_factor': 1464.4082999798734, 's': 0.6545789813228038, 'depth': 4, 'epochs': 26}. Best is trial 5 with value: 100.0.\n"
     ]
    },
    {
     "name": "stdout",
     "output_type": "stream",
     "text": [
      "Initialization of sparse structure.\n",
      "Start trial with c=6301, T=2285.2605033440377, s=1.503120561778435, d=4, e=82\n"
     ]
    },
    {
     "data": {
      "application/vnd.jupyter.widget-view+json": {
       "model_id": "9e2c35b4467f4a19a7a19ba06c6a6729",
       "version_major": 2,
       "version_minor": 0
      },
      "text/plain": [
       "3x3_0:   0%|          | 0/82 [00:00<?, ?it/s]"
      ]
     },
     "metadata": {},
     "output_type": "display_data"
    },
    {
     "name": "stderr",
     "output_type": "stream",
     "text": [
      "[I 2024-10-21 20:29:45,542] Trial 17 finished with value: 65.0 and parameters: {'number_of_clauses': 6301, 'T_factor': 2285.2605033440377, 's': 1.503120561778435, 'depth': 4, 'epochs': 82}. Best is trial 5 with value: 100.0.\n"
     ]
    },
    {
     "name": "stdout",
     "output_type": "stream",
     "text": [
      "Initialization of sparse structure.\n",
      "Start trial with c=9995, T=11508.10930371163, s=2.366191227930418, d=4, e=54\n"
     ]
    },
    {
     "data": {
      "application/vnd.jupyter.widget-view+json": {
       "model_id": "328ced7605eb49d2830383afa3757132",
       "version_major": 2,
       "version_minor": 0
      },
      "text/plain": [
       "3x3_0:   0%|          | 0/54 [00:00<?, ?it/s]"
      ]
     },
     "metadata": {},
     "output_type": "display_data"
    },
    {
     "name": "stderr",
     "output_type": "stream",
     "text": [
      "[I 2024-10-21 20:30:26,628] Trial 18 finished with value: 91.5 and parameters: {'number_of_clauses': 9995, 'T_factor': 11508.10930371163, 's': 2.366191227930418, 'depth': 4, 'epochs': 54}. Best is trial 5 with value: 100.0.\n"
     ]
    },
    {
     "name": "stdout",
     "output_type": "stream",
     "text": [
      "Initialization of sparse structure.\n",
      "Start trial with c=6534, T=4896.769106100845, s=1.3360160531582823, d=2, e=27\n"
     ]
    },
    {
     "data": {
      "application/vnd.jupyter.widget-view+json": {
       "model_id": "ce7417a3cd6e4c1fabc9029cfdbf3eb0",
       "version_major": 2,
       "version_minor": 0
      },
      "text/plain": [
       "3x3_0:   0%|          | 0/27 [00:00<?, ?it/s]"
      ]
     },
     "metadata": {},
     "output_type": "display_data"
    },
    {
     "name": "stderr",
     "output_type": "stream",
     "text": [
      "[I 2024-10-21 20:30:39,626] Trial 19 finished with value: 65.0 and parameters: {'number_of_clauses': 6534, 'T_factor': 4896.769106100845, 's': 1.3360160531582823, 'depth': 2, 'epochs': 27}. Best is trial 5 with value: 100.0.\n"
     ]
    },
    {
     "name": "stdout",
     "output_type": "stream",
     "text": [
      "Initialization of sparse structure.\n",
      "Start trial with c=8788, T=3791.169894980494, s=0.720531963566715, d=4, e=42\n"
     ]
    },
    {
     "data": {
      "application/vnd.jupyter.widget-view+json": {
       "model_id": "b4125f77ab3046f2bcec551434001cb6",
       "version_major": 2,
       "version_minor": 0
      },
      "text/plain": [
       "3x3_0:   0%|          | 0/42 [00:00<?, ?it/s]"
      ]
     },
     "metadata": {},
     "output_type": "display_data"
    },
    {
     "name": "stderr",
     "output_type": "stream",
     "text": [
      "[I 2024-10-21 20:31:12,628] Trial 20 finished with value: 99.5 and parameters: {'number_of_clauses': 8788, 'T_factor': 3791.169894980494, 's': 0.720531963566715, 'depth': 4, 'epochs': 42}. Best is trial 5 with value: 100.0.\n"
     ]
    },
    {
     "name": "stdout",
     "output_type": "stream",
     "text": [
      "Initialization of sparse structure.\n",
      "Start trial with c=2492, T=1011.00017569186, s=2.419183809387108, d=3, e=60\n"
     ]
    },
    {
     "data": {
      "application/vnd.jupyter.widget-view+json": {
       "model_id": "cf9dae9482d94bd8be813c37bdb5a227",
       "version_major": 2,
       "version_minor": 0
      },
      "text/plain": [
       "3x3_0:   0%|          | 0/60 [00:00<?, ?it/s]"
      ]
     },
     "metadata": {},
     "output_type": "display_data"
    },
    {
     "name": "stderr",
     "output_type": "stream",
     "text": [
      "[I 2024-10-21 20:31:43,406] Trial 21 finished with value: 65.0 and parameters: {'number_of_clauses': 2492, 'T_factor': 1011.00017569186, 's': 2.419183809387108, 'depth': 3, 'epochs': 60}. Best is trial 5 with value: 100.0.\n"
     ]
    },
    {
     "name": "stdout",
     "output_type": "stream",
     "text": [
      "Initialization of sparse structure.\n",
      "Start trial with c=9282, T=4058.948760602853, s=1.1913398486377667, d=4, e=81\n"
     ]
    },
    {
     "data": {
      "application/vnd.jupyter.widget-view+json": {
       "model_id": "ac2c30c1025241e9a3fb4a4fd160b75b",
       "version_major": 2,
       "version_minor": 0
      },
      "text/plain": [
       "3x3_0:   0%|          | 0/81 [00:00<?, ?it/s]"
      ]
     },
     "metadata": {},
     "output_type": "display_data"
    },
    {
     "name": "stderr",
     "output_type": "stream",
     "text": [
      "[I 2024-10-21 20:32:03,393] Trial 22 finished with value: 100.0 and parameters: {'number_of_clauses': 9282, 'T_factor': 4058.948760602853, 's': 1.1913398486377667, 'depth': 4, 'epochs': 81}. Best is trial 5 with value: 100.0.\n",
      "[I 2024-10-21 20:32:03,440] A new study created in RDB with name: Study_3x3_2\n"
     ]
    },
    {
     "name": "stdout",
     "output_type": "stream",
     "text": [
      "Initialization of sparse structure.\n",
      "Start trial with c=4599, T=4214.6741476875995, s=0.9959304336577249, d=3, e=27\n"
     ]
    },
    {
     "data": {
      "application/vnd.jupyter.widget-view+json": {
       "model_id": "2d1ad08124454810a25de846c7703e1d",
       "version_major": 2,
       "version_minor": 0
      },
      "text/plain": [
       "3x3_2:   0%|          | 0/27 [00:00<?, ?it/s]"
      ]
     },
     "metadata": {},
     "output_type": "display_data"
    },
    {
     "name": "stderr",
     "output_type": "stream",
     "text": [
      "[I 2024-10-21 20:32:20,062] Trial 0 finished with value: 68.0 and parameters: {'number_of_clauses': 4599, 'T_factor': 4214.6741476875995, 's': 0.9959304336577249, 'depth': 3, 'epochs': 27}. Best is trial 0 with value: 68.0.\n"
     ]
    },
    {
     "name": "stdout",
     "output_type": "stream",
     "text": [
      "Initialization of sparse structure.\n",
      "Start trial with c=3937, T=3036.330366755624, s=1.9903306835567294, d=4, e=70\n"
     ]
    },
    {
     "data": {
      "application/vnd.jupyter.widget-view+json": {
       "model_id": "6d97f14909d94e93aec69b331b8b6b1e",
       "version_major": 2,
       "version_minor": 0
      },
      "text/plain": [
       "3x3_2:   0%|          | 0/70 [00:00<?, ?it/s]"
      ]
     },
     "metadata": {},
     "output_type": "display_data"
    },
    {
     "name": "stderr",
     "output_type": "stream",
     "text": [
      "[I 2024-10-21 20:33:02,568] Trial 1 finished with value: 68.0 and parameters: {'number_of_clauses': 3937, 'T_factor': 3036.330366755624, 's': 1.9903306835567294, 'depth': 4, 'epochs': 70}. Best is trial 0 with value: 68.0.\n"
     ]
    },
    {
     "name": "stdout",
     "output_type": "stream",
     "text": [
      "Initialization of sparse structure.\n",
      "Start trial with c=9004, T=589.5553099987309, s=0.19833215465054854, d=2, e=74\n"
     ]
    },
    {
     "data": {
      "application/vnd.jupyter.widget-view+json": {
       "model_id": "5314cebbb04048a8b5216d8a8d0350eb",
       "version_major": 2,
       "version_minor": 0
      },
      "text/plain": [
       "3x3_2:   0%|          | 0/74 [00:00<?, ?it/s]"
      ]
     },
     "metadata": {},
     "output_type": "display_data"
    },
    {
     "name": "stderr",
     "output_type": "stream",
     "text": [
      "[I 2024-10-21 20:33:33,269] Trial 2 finished with value: 98.0 and parameters: {'number_of_clauses': 9004, 'T_factor': 589.5553099987309, 's': 0.19833215465054854, 'depth': 2, 'epochs': 74}. Best is trial 2 with value: 98.0.\n"
     ]
    },
    {
     "name": "stdout",
     "output_type": "stream",
     "text": [
      "Initialization of sparse structure.\n",
      "Start trial with c=3223, T=1302.9648659691004, s=1.723965544627172, d=4, e=26\n"
     ]
    },
    {
     "data": {
      "application/vnd.jupyter.widget-view+json": {
       "model_id": "3201c99229834b209e1f777b1b8e775a",
       "version_major": 2,
       "version_minor": 0
      },
      "text/plain": [
       "3x3_2:   0%|          | 0/26 [00:00<?, ?it/s]"
      ]
     },
     "metadata": {},
     "output_type": "display_data"
    },
    {
     "name": "stderr",
     "output_type": "stream",
     "text": [
      "[I 2024-10-21 20:33:51,543] Trial 3 finished with value: 68.0 and parameters: {'number_of_clauses': 3223, 'T_factor': 1302.9648659691004, 's': 1.723965544627172, 'depth': 4, 'epochs': 26}. Best is trial 2 with value: 98.0.\n"
     ]
    },
    {
     "name": "stdout",
     "output_type": "stream",
     "text": [
      "Initialization of sparse structure.\n",
      "Start trial with c=2576, T=2260.3188517286076, s=2.792505735914996, d=2, e=98\n"
     ]
    },
    {
     "data": {
      "application/vnd.jupyter.widget-view+json": {
       "model_id": "310d3dbd79524166bae75ccc91f23514",
       "version_major": 2,
       "version_minor": 0
      },
      "text/plain": [
       "3x3_2:   0%|          | 0/98 [00:00<?, ?it/s]"
      ]
     },
     "metadata": {},
     "output_type": "display_data"
    },
    {
     "name": "stderr",
     "output_type": "stream",
     "text": [
      "[I 2024-10-21 20:34:25,078] Trial 4 finished with value: 68.0 and parameters: {'number_of_clauses': 2576, 'T_factor': 2260.3188517286076, 's': 2.792505735914996, 'depth': 2, 'epochs': 98}. Best is trial 2 with value: 98.0.\n"
     ]
    },
    {
     "name": "stdout",
     "output_type": "stream",
     "text": [
      "Initialization of sparse structure.\n",
      "Start trial with c=1344, T=69.2084538307639, s=2.0704699162697717, d=3, e=83\n"
     ]
    },
    {
     "data": {
      "application/vnd.jupyter.widget-view+json": {
       "model_id": "3deb0fa590664fe09b6ed7cadb116047",
       "version_major": 2,
       "version_minor": 0
      },
      "text/plain": [
       "3x3_2:   0%|          | 0/83 [00:00<?, ?it/s]"
      ]
     },
     "metadata": {},
     "output_type": "display_data"
    },
    {
     "name": "stderr",
     "output_type": "stream",
     "text": [
      "[I 2024-10-21 20:35:04,514] Trial 5 finished with value: 68.0 and parameters: {'number_of_clauses': 1344, 'T_factor': 69.2084538307639, 's': 2.0704699162697717, 'depth': 3, 'epochs': 83}. Best is trial 2 with value: 98.0.\n"
     ]
    },
    {
     "name": "stdout",
     "output_type": "stream",
     "text": [
      "Initialization of sparse structure.\n",
      "Start trial with c=3511, T=508.76749314699754, s=1.0140695291268136, d=2, e=60\n"
     ]
    },
    {
     "data": {
      "application/vnd.jupyter.widget-view+json": {
       "model_id": "c5a4a02a35fe4f999ff6793b57d867a3",
       "version_major": 2,
       "version_minor": 0
      },
      "text/plain": [
       "3x3_2:   0%|          | 0/60 [00:00<?, ?it/s]"
      ]
     },
     "metadata": {},
     "output_type": "display_data"
    },
    {
     "name": "stderr",
     "output_type": "stream",
     "text": [
      "[I 2024-10-21 20:35:27,332] Trial 6 finished with value: 68.0 and parameters: {'number_of_clauses': 3511, 'T_factor': 508.76749314699754, 's': 1.0140695291268136, 'depth': 2, 'epochs': 60}. Best is trial 2 with value: 98.0.\n"
     ]
    },
    {
     "name": "stdout",
     "output_type": "stream",
     "text": [
      "Initialization of sparse structure.\n",
      "Start trial with c=2030, T=1915.803653808034, s=1.9374232807889704, d=4, e=34\n"
     ]
    },
    {
     "data": {
      "application/vnd.jupyter.widget-view+json": {
       "model_id": "5fe15fafefff4b5387f9c087a095634e",
       "version_major": 2,
       "version_minor": 0
      },
      "text/plain": [
       "3x3_2:   0%|          | 0/34 [00:00<?, ?it/s]"
      ]
     },
     "metadata": {},
     "output_type": "display_data"
    },
    {
     "name": "stderr",
     "output_type": "stream",
     "text": [
      "[I 2024-10-21 20:35:49,832] Trial 7 finished with value: 68.0 and parameters: {'number_of_clauses': 2030, 'T_factor': 1915.803653808034, 's': 1.9374232807889704, 'depth': 4, 'epochs': 34}. Best is trial 2 with value: 98.0.\n"
     ]
    },
    {
     "name": "stdout",
     "output_type": "stream",
     "text": [
      "Initialization of sparse structure.\n",
      "Start trial with c=4463, T=5339.4934363441635, s=2.9852658798187512, d=3, e=53\n"
     ]
    },
    {
     "data": {
      "application/vnd.jupyter.widget-view+json": {
       "model_id": "a23bd8acd42e4ebb9adc2a2333d37e9c",
       "version_major": 2,
       "version_minor": 0
      },
      "text/plain": [
       "3x3_2:   0%|          | 0/53 [00:00<?, ?it/s]"
      ]
     },
     "metadata": {},
     "output_type": "display_data"
    },
    {
     "name": "stderr",
     "output_type": "stream",
     "text": [
      "[I 2024-10-21 20:36:16,332] Trial 8 finished with value: 68.0 and parameters: {'number_of_clauses': 4463, 'T_factor': 5339.4934363441635, 's': 2.9852658798187512, 'depth': 3, 'epochs': 53}. Best is trial 2 with value: 98.0.\n"
     ]
    },
    {
     "name": "stdout",
     "output_type": "stream",
     "text": [
      "Initialization of sparse structure.\n",
      "Start trial with c=3255, T=1514.2409072384094, s=0.2238821380249505, d=4, e=77\n"
     ]
    },
    {
     "data": {
      "application/vnd.jupyter.widget-view+json": {
       "model_id": "7504d107c70b4bd0936300e722b07ab1",
       "version_major": 2,
       "version_minor": 0
      },
      "text/plain": [
       "3x3_2:   0%|          | 0/77 [00:00<?, ?it/s]"
      ]
     },
     "metadata": {},
     "output_type": "display_data"
    },
    {
     "name": "stderr",
     "output_type": "stream",
     "text": [
      "[I 2024-10-21 20:37:05,068] Trial 9 finished with value: 68.0 and parameters: {'number_of_clauses': 3255, 'T_factor': 1514.2409072384094, 's': 0.2238821380249505, 'depth': 4, 'epochs': 77}. Best is trial 2 with value: 98.0.\n"
     ]
    },
    {
     "name": "stdout",
     "output_type": "stream",
     "text": [
      "Initialization of sparse structure.\n",
      "Start trial with c=9700, T=9234.493128677334, s=0.21534106452156476, d=2, e=45\n"
     ]
    },
    {
     "data": {
      "application/vnd.jupyter.widget-view+json": {
       "model_id": "57c4b739be764c3eb9d889a3104bf5c9",
       "version_major": 2,
       "version_minor": 0
      },
      "text/plain": [
       "3x3_2:   0%|          | 0/45 [00:00<?, ?it/s]"
      ]
     },
     "metadata": {},
     "output_type": "display_data"
    },
    {
     "name": "stderr",
     "output_type": "stream",
     "text": [
      "[I 2024-10-21 20:37:25,545] Trial 10 finished with value: 98.0 and parameters: {'number_of_clauses': 9700, 'T_factor': 9234.493128677334, 's': 0.21534106452156476, 'depth': 2, 'epochs': 45}. Best is trial 2 with value: 98.0.\n"
     ]
    },
    {
     "name": "stdout",
     "output_type": "stream",
     "text": [
      "Initialization of sparse structure.\n",
      "Start trial with c=9967, T=9162.4180765901, s=0.13643673945375737, d=2, e=45\n"
     ]
    },
    {
     "data": {
      "application/vnd.jupyter.widget-view+json": {
       "model_id": "b266c9123d434bae9e58b518d7386d1e",
       "version_major": 2,
       "version_minor": 0
      },
      "text/plain": [
       "3x3_2:   0%|          | 0/45 [00:00<?, ?it/s]"
      ]
     },
     "metadata": {},
     "output_type": "display_data"
    },
    {
     "name": "stderr",
     "output_type": "stream",
     "text": [
      "[I 2024-10-21 20:37:43,759] Trial 11 finished with value: 98.5 and parameters: {'number_of_clauses': 9967, 'T_factor': 9162.4180765901, 's': 0.13643673945375737, 'depth': 2, 'epochs': 45}. Best is trial 11 with value: 98.5.\n"
     ]
    },
    {
     "name": "stdout",
     "output_type": "stream",
     "text": [
      "Initialization of sparse structure.\n",
      "Start trial with c=9920, T=8804.2240472147, s=0.7730865365295205, d=2, e=45\n"
     ]
    },
    {
     "data": {
      "application/vnd.jupyter.widget-view+json": {
       "model_id": "d21204a858b944e896cb579839955150",
       "version_major": 2,
       "version_minor": 0
      },
      "text/plain": [
       "3x3_2:   0%|          | 0/45 [00:00<?, ?it/s]"
      ]
     },
     "metadata": {},
     "output_type": "display_data"
    },
    {
     "name": "stderr",
     "output_type": "stream",
     "text": [
      "[I 2024-10-21 20:38:05,059] Trial 12 finished with value: 98.5 and parameters: {'number_of_clauses': 9920, 'T_factor': 8804.2240472147, 's': 0.7730865365295205, 'depth': 2, 'epochs': 45}. Best is trial 11 with value: 98.5.\n"
     ]
    },
    {
     "name": "stdout",
     "output_type": "stream",
     "text": [
      "Initialization of sparse structure.\n",
      "Start trial with c=7101, T=8310.153754768995, s=0.7314167098816711, d=2, e=42\n"
     ]
    },
    {
     "data": {
      "application/vnd.jupyter.widget-view+json": {
       "model_id": "f88f246aa02c41248b99cdd6ee7aeb0b",
       "version_major": 2,
       "version_minor": 0
      },
      "text/plain": [
       "3x3_2:   0%|          | 0/42 [00:00<?, ?it/s]"
      ]
     },
     "metadata": {},
     "output_type": "display_data"
    },
    {
     "name": "stderr",
     "output_type": "stream",
     "text": [
      "[I 2024-10-21 20:38:22,953] Trial 13 finished with value: 68.0 and parameters: {'number_of_clauses': 7101, 'T_factor': 8310.153754768995, 's': 0.7314167098816711, 'depth': 2, 'epochs': 42}. Best is trial 11 with value: 98.5.\n"
     ]
    },
    {
     "name": "stdout",
     "output_type": "stream",
     "text": [
      "Initialization of sparse structure.\n",
      "Start trial with c=7644, T=7060.410218710508, s=0.7438700585595325, d=2, e=16\n"
     ]
    },
    {
     "data": {
      "application/vnd.jupyter.widget-view+json": {
       "model_id": "50dca90005c14422a322bdf16987aa16",
       "version_major": 2,
       "version_minor": 0
      },
      "text/plain": [
       "3x3_2:   0%|          | 0/16 [00:00<?, ?it/s]"
      ]
     },
     "metadata": {},
     "output_type": "display_data"
    },
    {
     "name": "stderr",
     "output_type": "stream",
     "text": [
      "[I 2024-10-21 20:38:30,560] Trial 14 finished with value: 69.0 and parameters: {'number_of_clauses': 7644, 'T_factor': 7060.410218710508, 's': 0.7438700585595325, 'depth': 2, 'epochs': 16}. Best is trial 11 with value: 98.5.\n"
     ]
    },
    {
     "name": "stdout",
     "output_type": "stream",
     "text": [
      "Initialization of sparse structure.\n",
      "Start trial with c=6435, T=6292.620943461464, s=1.2790498625924225, d=3, e=57\n"
     ]
    },
    {
     "data": {
      "application/vnd.jupyter.widget-view+json": {
       "model_id": "bf5ca69b97e14327bee796617310b56d",
       "version_major": 2,
       "version_minor": 0
      },
      "text/plain": [
       "3x3_2:   0%|          | 0/57 [00:00<?, ?it/s]"
      ]
     },
     "metadata": {},
     "output_type": "display_data"
    },
    {
     "name": "stderr",
     "output_type": "stream",
     "text": [
      "[I 2024-10-21 20:38:59,729] Trial 15 finished with value: 68.0 and parameters: {'number_of_clauses': 6435, 'T_factor': 6292.620943461464, 's': 1.2790498625924225, 'depth': 3, 'epochs': 57}. Best is trial 11 with value: 98.5.\n"
     ]
    },
    {
     "name": "stdout",
     "output_type": "stream",
     "text": [
      "Initialization of sparse structure.\n",
      "Start trial with c=79, T=37.82257699821148, s=0.49574488264327854, d=3, e=45\n"
     ]
    },
    {
     "data": {
      "application/vnd.jupyter.widget-view+json": {
       "model_id": "693ca1944caa4d43b6536962402c4aac",
       "version_major": 2,
       "version_minor": 0
      },
      "text/plain": [
       "3x3_2:   0%|          | 0/45 [00:00<?, ?it/s]"
      ]
     },
     "metadata": {},
     "output_type": "display_data"
    },
    {
     "name": "stderr",
     "output_type": "stream",
     "text": [
      "[I 2024-10-21 20:39:28,192] Trial 16 finished with value: 68.0 and parameters: {'number_of_clauses': 79, 'T_factor': 37.82257699821148, 's': 0.49574488264327854, 'depth': 3, 'epochs': 45}. Best is trial 11 with value: 98.5.\n"
     ]
    },
    {
     "name": "stdout",
     "output_type": "stream",
     "text": [
      "Initialization of sparse structure.\n",
      "Start trial with c=8493, T=9823.398728206326, s=0.5255133033007572, d=2, e=35\n"
     ]
    },
    {
     "data": {
      "application/vnd.jupyter.widget-view+json": {
       "model_id": "dec742410cf84846b48d7f3c160da05c",
       "version_major": 2,
       "version_minor": 0
      },
      "text/plain": [
       "3x3_2:   0%|          | 0/35 [00:00<?, ?it/s]"
      ]
     },
     "metadata": {},
     "output_type": "display_data"
    },
    {
     "name": "stderr",
     "output_type": "stream",
     "text": [
      "[I 2024-10-21 20:39:45,427] Trial 17 finished with value: 92.0 and parameters: {'number_of_clauses': 8493, 'T_factor': 9823.398728206326, 's': 0.5255133033007572, 'depth': 2, 'epochs': 35}. Best is trial 11 with value: 98.5.\n"
     ]
    },
    {
     "name": "stdout",
     "output_type": "stream",
     "text": [
      "Initialization of sparse structure.\n",
      "Start trial with c=5598, T=5500.629572435249, s=1.3216961281566668, d=2, e=63\n"
     ]
    },
    {
     "data": {
      "application/vnd.jupyter.widget-view+json": {
       "model_id": "6e415ea276ff4ebda1b116a9f04c5033",
       "version_major": 2,
       "version_minor": 0
      },
      "text/plain": [
       "3x3_2:   0%|          | 0/63 [00:00<?, ?it/s]"
      ]
     },
     "metadata": {},
     "output_type": "display_data"
    },
    {
     "name": "stderr",
     "output_type": "stream",
     "text": [
      "[I 2024-10-21 20:40:10,515] Trial 18 finished with value: 68.0 and parameters: {'number_of_clauses': 5598, 'T_factor': 5500.629572435249, 's': 1.3216961281566668, 'depth': 2, 'epochs': 63}. Best is trial 11 with value: 98.5.\n"
     ]
    },
    {
     "name": "stdout",
     "output_type": "stream",
     "text": [
      "Initialization of sparse structure.\n",
      "Start trial with c=9921, T=11216.777173137889, s=0.5288167955441766, d=3, e=15\n"
     ]
    },
    {
     "data": {
      "application/vnd.jupyter.widget-view+json": {
       "model_id": "8f8edf906ba34eff9224b3eb2a3972ab",
       "version_major": 2,
       "version_minor": 0
      },
      "text/plain": [
       "3x3_2:   0%|          | 0/15 [00:00<?, ?it/s]"
      ]
     },
     "metadata": {},
     "output_type": "display_data"
    },
    {
     "name": "stderr",
     "output_type": "stream",
     "text": [
      "[I 2024-10-21 20:40:22,742] Trial 19 finished with value: 88.5 and parameters: {'number_of_clauses': 9921, 'T_factor': 11216.777173137889, 's': 0.5288167955441766, 'depth': 3, 'epochs': 15}. Best is trial 11 with value: 98.5.\n"
     ]
    },
    {
     "name": "stdout",
     "output_type": "stream",
     "text": [
      "Initialization of sparse structure.\n",
      "Start trial with c=8125, T=7508.019238412523, s=0.9941126554857411, d=2, e=51\n"
     ]
    },
    {
     "data": {
      "application/vnd.jupyter.widget-view+json": {
       "model_id": "33fb4cfc886340269d79f5e650a2ae79",
       "version_major": 2,
       "version_minor": 0
      },
      "text/plain": [
       "3x3_2:   0%|          | 0/51 [00:00<?, ?it/s]"
      ]
     },
     "metadata": {},
     "output_type": "display_data"
    },
    {
     "name": "stderr",
     "output_type": "stream",
     "text": [
      "[I 2024-10-21 20:40:45,721] Trial 20 finished with value: 94.0 and parameters: {'number_of_clauses': 8125, 'T_factor': 7508.019238412523, 's': 0.9941126554857411, 'depth': 2, 'epochs': 51}. Best is trial 11 with value: 98.5.\n"
     ]
    },
    {
     "name": "stdout",
     "output_type": "stream",
     "text": [
      "Initialization of sparse structure.\n",
      "Start trial with c=8803, T=8941.477223808826, s=0.23837997670252375, d=2, e=69\n"
     ]
    },
    {
     "data": {
      "application/vnd.jupyter.widget-view+json": {
       "model_id": "13bdafe4166e43e38ab28bef630de461",
       "version_major": 2,
       "version_minor": 0
      },
      "text/plain": [
       "3x3_2:   0%|          | 0/69 [00:00<?, ?it/s]"
      ]
     },
     "metadata": {},
     "output_type": "display_data"
    },
    {
     "name": "stderr",
     "output_type": "stream",
     "text": [
      "[I 2024-10-21 20:41:18,627] Trial 21 finished with value: 98.5 and parameters: {'number_of_clauses': 8803, 'T_factor': 8941.477223808826, 's': 0.23837997670252375, 'depth': 2, 'epochs': 69}. Best is trial 11 with value: 98.5.\n"
     ]
    },
    {
     "name": "stdout",
     "output_type": "stream",
     "text": [
      "Initialization of sparse structure.\n",
      "Start trial with c=9047, T=9915.576817144683, s=0.1018931149641405, d=2, e=86\n"
     ]
    },
    {
     "data": {
      "application/vnd.jupyter.widget-view+json": {
       "model_id": "0bf7e893745c4eb98715f2b28a93aa1c",
       "version_major": 2,
       "version_minor": 0
      },
      "text/plain": [
       "3x3_2:   0%|          | 0/86 [00:00<?, ?it/s]"
      ]
     },
     "metadata": {},
     "output_type": "display_data"
    },
    {
     "name": "stderr",
     "output_type": "stream",
     "text": [
      "[I 2024-10-21 20:41:53,032] Trial 22 finished with value: 98.0 and parameters: {'number_of_clauses': 9047, 'T_factor': 9915.576817144683, 's': 0.1018931149641405, 'depth': 2, 'epochs': 86}. Best is trial 11 with value: 98.5.\n"
     ]
    },
    {
     "name": "stdout",
     "output_type": "stream",
     "text": [
      "Initialization of sparse structure.\n",
      "Start trial with c=9883, T=11806.921015998047, s=0.42604414268436575, d=2, e=64\n"
     ]
    },
    {
     "data": {
      "application/vnd.jupyter.widget-view+json": {
       "model_id": "f558bd95162941ecbbb14b11de2eef9c",
       "version_major": 2,
       "version_minor": 0
      },
      "text/plain": [
       "3x3_2:   0%|          | 0/64 [00:00<?, ?it/s]"
      ]
     },
     "metadata": {},
     "output_type": "display_data"
    },
    {
     "name": "stderr",
     "output_type": "stream",
     "text": [
      "[I 2024-10-21 20:42:21,510] Trial 23 finished with value: 99.5 and parameters: {'number_of_clauses': 9883, 'T_factor': 11806.921015998047, 's': 0.42604414268436575, 'depth': 2, 'epochs': 64}. Best is trial 23 with value: 99.5.\n"
     ]
    },
    {
     "name": "stdout",
     "output_type": "stream",
     "text": [
      "Initialization of sparse structure.\n",
      "Start trial with c=9906, T=11859.877123680588, s=0.702193257489383, d=2, e=39\n"
     ]
    },
    {
     "data": {
      "application/vnd.jupyter.widget-view+json": {
       "model_id": "7fc1f20601974fa2abd49f916ce5c98e",
       "version_major": 2,
       "version_minor": 0
      },
      "text/plain": [
       "3x3_2:   0%|          | 0/39 [00:00<?, ?it/s]"
      ]
     },
     "metadata": {},
     "output_type": "display_data"
    },
    {
     "name": "stderr",
     "output_type": "stream",
     "text": [
      "[I 2024-10-21 20:42:39,749] Trial 24 finished with value: 97.5 and parameters: {'number_of_clauses': 9906, 'T_factor': 11859.877123680588, 's': 0.702193257489383, 'depth': 2, 'epochs': 39}. Best is trial 23 with value: 99.5.\n"
     ]
    },
    {
     "name": "stdout",
     "output_type": "stream",
     "text": [
      "Initialization of sparse structure.\n",
      "Start trial with c=6888, T=6623.621685772017, s=0.4365539569070372, d=2, e=52\n"
     ]
    },
    {
     "data": {
      "application/vnd.jupyter.widget-view+json": {
       "model_id": "d6a6b9662de449719af077d1d15dba52",
       "version_major": 2,
       "version_minor": 0
      },
      "text/plain": [
       "3x3_2:   0%|          | 0/52 [00:00<?, ?it/s]"
      ]
     },
     "metadata": {},
     "output_type": "display_data"
    },
    {
     "name": "stderr",
     "output_type": "stream",
     "text": [
      "[I 2024-10-21 20:43:00,791] Trial 25 finished with value: 68.0 and parameters: {'number_of_clauses': 6888, 'T_factor': 6623.621685772017, 's': 0.4365539569070372, 'depth': 2, 'epochs': 52}. Best is trial 23 with value: 99.5.\n"
     ]
    },
    {
     "name": "stdout",
     "output_type": "stream",
     "text": [
      "Initialization of sparse structure.\n",
      "Start trial with c=5763, T=4562.061982735553, s=2.4417951366235995, d=3, e=63\n"
     ]
    },
    {
     "data": {
      "application/vnd.jupyter.widget-view+json": {
       "model_id": "4c90d09dfcd4433aaa30788b7983465c",
       "version_major": 2,
       "version_minor": 0
      },
      "text/plain": [
       "3x3_2:   0%|          | 0/63 [00:00<?, ?it/s]"
      ]
     },
     "metadata": {},
     "output_type": "display_data"
    },
    {
     "name": "stderr",
     "output_type": "stream",
     "text": [
      "[I 2024-10-21 20:43:31,978] Trial 26 finished with value: 68.0 and parameters: {'number_of_clauses': 5763, 'T_factor': 4562.061982735553, 's': 2.4417951366235995, 'depth': 3, 'epochs': 63}. Best is trial 23 with value: 99.5.\n"
     ]
    },
    {
     "name": "stdout",
     "output_type": "stream",
     "text": [
      "Initialization of sparse structure.\n",
      "Start trial with c=7776, T=7881.343095094642, s=1.3373673099898609, d=2, e=48\n"
     ]
    },
    {
     "data": {
      "application/vnd.jupyter.widget-view+json": {
       "model_id": "e923ba1435db4bc9a1f267290bf2e597",
       "version_major": 2,
       "version_minor": 0
      },
      "text/plain": [
       "3x3_2:   0%|          | 0/48 [00:00<?, ?it/s]"
      ]
     },
     "metadata": {},
     "output_type": "display_data"
    },
    {
     "name": "stderr",
     "output_type": "stream",
     "text": [
      "[I 2024-10-21 20:43:52,499] Trial 27 finished with value: 94.5 and parameters: {'number_of_clauses': 7776, 'T_factor': 7881.343095094642, 's': 1.3373673099898609, 'depth': 2, 'epochs': 48}. Best is trial 23 with value: 99.5.\n"
     ]
    },
    {
     "name": "stdout",
     "output_type": "stream",
     "text": [
      "Initialization of sparse structure.\n",
      "Start trial with c=9449, T=10557.250936875316, s=0.3762872416462112, d=3, e=37\n"
     ]
    },
    {
     "data": {
      "application/vnd.jupyter.widget-view+json": {
       "model_id": "0f499a6b412f49f1be88c4754fb7d3f4",
       "version_major": 2,
       "version_minor": 0
      },
      "text/plain": [
       "3x3_2:   0%|          | 0/37 [00:00<?, ?it/s]"
      ]
     },
     "metadata": {},
     "output_type": "display_data"
    },
    {
     "name": "stderr",
     "output_type": "stream",
     "text": [
      "[I 2024-10-21 20:44:15,786] Trial 28 finished with value: 96.0 and parameters: {'number_of_clauses': 9449, 'T_factor': 10557.250936875316, 's': 0.3762872416462112, 'depth': 3, 'epochs': 37}. Best is trial 23 with value: 99.5.\n"
     ]
    },
    {
     "name": "stdout",
     "output_type": "stream",
     "text": [
      "Initialization of sparse structure.\n",
      "Start trial with c=8535, T=8545.583176809432, s=0.968113873198243, d=3, e=31\n"
     ]
    },
    {
     "data": {
      "application/vnd.jupyter.widget-view+json": {
       "model_id": "836d6daa75e440a6a22542a8c4365e41",
       "version_major": 2,
       "version_minor": 0
      },
      "text/plain": [
       "3x3_2:   0%|          | 0/31 [00:00<?, ?it/s]"
      ]
     },
     "metadata": {},
     "output_type": "display_data"
    },
    {
     "name": "stderr",
     "output_type": "stream",
     "text": [
      "[I 2024-10-21 20:44:35,815] Trial 29 finished with value: 88.0 and parameters: {'number_of_clauses': 8535, 'T_factor': 8545.583176809432, 's': 0.968113873198243, 'depth': 3, 'epochs': 31}. Best is trial 23 with value: 99.5.\n"
     ]
    },
    {
     "name": "stdout",
     "output_type": "stream",
     "text": [
      "Initialization of sparse structure.\n",
      "Start trial with c=9217, T=9739.812426479042, s=0.8525106822889996, d=2, e=21\n"
     ]
    },
    {
     "data": {
      "application/vnd.jupyter.widget-view+json": {
       "model_id": "e0049224d49d49dda5fbbe9cabb823a6",
       "version_major": 2,
       "version_minor": 0
      },
      "text/plain": [
       "3x3_2:   0%|          | 0/21 [00:00<?, ?it/s]"
      ]
     },
     "metadata": {},
     "output_type": "display_data"
    },
    {
     "name": "stderr",
     "output_type": "stream",
     "text": [
      "[I 2024-10-21 20:44:47,828] Trial 30 finished with value: 92.0 and parameters: {'number_of_clauses': 9217, 'T_factor': 9739.812426479042, 's': 0.8525106822889996, 'depth': 2, 'epochs': 21}. Best is trial 23 with value: 99.5.\n"
     ]
    },
    {
     "name": "stdout",
     "output_type": "stream",
     "text": [
      "Initialization of sparse structure.\n",
      "Start trial with c=8704, T=8977.998129648537, s=0.33336904270313317, d=2, e=69\n"
     ]
    },
    {
     "data": {
      "application/vnd.jupyter.widget-view+json": {
       "model_id": "8e5a177d0de44c138e48f75ed723349f",
       "version_major": 2,
       "version_minor": 0
      },
      "text/plain": [
       "3x3_2:   0%|          | 0/69 [00:00<?, ?it/s]"
      ]
     },
     "metadata": {},
     "output_type": "display_data"
    },
    {
     "name": "stderr",
     "output_type": "stream",
     "text": [
      "[I 2024-10-21 20:45:19,586] Trial 31 finished with value: 98.0 and parameters: {'number_of_clauses': 8704, 'T_factor': 8977.998129648537, 's': 0.33336904270313317, 'depth': 2, 'epochs': 69}. Best is trial 23 with value: 99.5.\n"
     ]
    },
    {
     "name": "stdout",
     "output_type": "stream",
     "text": [
      "Initialization of sparse structure.\n",
      "Start trial with c=9954, T=10980.203073114877, s=0.6328485839396212, d=2, e=67\n"
     ]
    },
    {
     "data": {
      "application/vnd.jupyter.widget-view+json": {
       "model_id": "53831c9777474ff48184f96f052149f1",
       "version_major": 2,
       "version_minor": 0
      },
      "text/plain": [
       "3x3_2:   0%|          | 0/67 [00:00<?, ?it/s]"
      ]
     },
     "metadata": {},
     "output_type": "display_data"
    },
    {
     "name": "stderr",
     "output_type": "stream",
     "text": [
      "[I 2024-10-21 20:45:48,008] Trial 32 finished with value: 99.5 and parameters: {'number_of_clauses': 9954, 'T_factor': 10980.203073114877, 's': 0.6328485839396212, 'depth': 2, 'epochs': 67}. Best is trial 23 with value: 99.5.\n"
     ]
    },
    {
     "name": "stdout",
     "output_type": "stream",
     "text": [
      "Initialization of sparse structure.\n",
      "Start trial with c=9939, T=11856.067868001885, s=0.6322107928356028, d=2, e=58\n"
     ]
    },
    {
     "data": {
      "application/vnd.jupyter.widget-view+json": {
       "model_id": "37f6e5cf92114b54b0090d4034de535c",
       "version_major": 2,
       "version_minor": 0
      },
      "text/plain": [
       "3x3_2:   0%|          | 0/58 [00:00<?, ?it/s]"
      ]
     },
     "metadata": {},
     "output_type": "display_data"
    },
    {
     "name": "stderr",
     "output_type": "stream",
     "text": [
      "[I 2024-10-21 20:46:13,674] Trial 33 finished with value: 98.5 and parameters: {'number_of_clauses': 9939, 'T_factor': 11856.067868001885, 's': 0.6322107928356028, 'depth': 2, 'epochs': 58}. Best is trial 23 with value: 99.5.\n"
     ]
    },
    {
     "name": "stdout",
     "output_type": "stream",
     "text": [
      "Initialization of sparse structure.\n",
      "Start trial with c=7990, T=8327.19153335829, s=1.1438109025824872, d=2, e=77\n"
     ]
    },
    {
     "data": {
      "application/vnd.jupyter.widget-view+json": {
       "model_id": "1fdd0aae3a6b4a19bf358a81daaa3202",
       "version_major": 2,
       "version_minor": 0
      },
      "text/plain": [
       "3x3_2:   0%|          | 0/77 [00:00<?, ?it/s]"
      ]
     },
     "metadata": {},
     "output_type": "display_data"
    },
    {
     "name": "stderr",
     "output_type": "stream",
     "text": [
      "[I 2024-10-21 20:46:47,922] Trial 34 finished with value: 96.0 and parameters: {'number_of_clauses': 7990, 'T_factor': 8327.19153335829, 's': 1.1438109025824872, 'depth': 2, 'epochs': 77}. Best is trial 23 with value: 99.5.\n"
     ]
    },
    {
     "name": "stdout",
     "output_type": "stream",
     "text": [
      "Initialization of sparse structure.\n",
      "Start trial with c=9352, T=10428.944007480715, s=0.8365242706597663, d=2, e=66\n"
     ]
    },
    {
     "data": {
      "application/vnd.jupyter.widget-view+json": {
       "model_id": "88b8f380863641e89104d826c09c0321",
       "version_major": 2,
       "version_minor": 0
      },
      "text/plain": [
       "3x3_2:   0%|          | 0/66 [00:00<?, ?it/s]"
      ]
     },
     "metadata": {},
     "output_type": "display_data"
    },
    {
     "name": "stderr",
     "output_type": "stream",
     "text": [
      "[I 2024-10-21 20:47:15,694] Trial 35 finished with value: 98.0 and parameters: {'number_of_clauses': 9352, 'T_factor': 10428.944007480715, 's': 0.8365242706597663, 'depth': 2, 'epochs': 66}. Best is trial 23 with value: 99.5.\n"
     ]
    },
    {
     "name": "stdout",
     "output_type": "stream",
     "text": [
      "Initialization of sparse structure.\n",
      "Start trial with c=7278, T=7703.423065309001, s=1.5884848187969123, d=2, e=85\n"
     ]
    },
    {
     "data": {
      "application/vnd.jupyter.widget-view+json": {
       "model_id": "167011095079403d83bbb28441f38729",
       "version_major": 2,
       "version_minor": 0
      },
      "text/plain": [
       "3x3_2:   0%|          | 0/85 [00:00<?, ?it/s]"
      ]
     },
     "metadata": {},
     "output_type": "display_data"
    },
    {
     "name": "stderr",
     "output_type": "stream",
     "text": [
      "[I 2024-10-21 20:47:50,610] Trial 36 finished with value: 75.0 and parameters: {'number_of_clauses': 7278, 'T_factor': 7703.423065309001, 's': 1.5884848187969123, 'depth': 2, 'epochs': 85}. Best is trial 23 with value: 99.5.\n"
     ]
    },
    {
     "name": "stdout",
     "output_type": "stream",
     "text": [
      "Initialization of sparse structure.\n",
      "Start trial with c=9274, T=10500.969389229092, s=0.6043951947979646, d=2, e=55\n"
     ]
    },
    {
     "data": {
      "application/vnd.jupyter.widget-view+json": {
       "model_id": "8711c671edea450e8401dc0bfcf15176",
       "version_major": 2,
       "version_minor": 0
      },
      "text/plain": [
       "3x3_2:   0%|          | 0/55 [00:00<?, ?it/s]"
      ]
     },
     "metadata": {},
     "output_type": "display_data"
    },
    {
     "name": "stderr",
     "output_type": "stream",
     "text": [
      "[I 2024-10-21 20:48:14,521] Trial 37 finished with value: 97.5 and parameters: {'number_of_clauses': 9274, 'T_factor': 10500.969389229092, 's': 0.6043951947979646, 'depth': 2, 'epochs': 55}. Best is trial 23 with value: 99.5.\n"
     ]
    },
    {
     "name": "stdout",
     "output_type": "stream",
     "text": [
      "Initialization of sparse structure.\n",
      "Start trial with c=8243, T=3603.005650532097, s=0.10494104817592839, d=3, e=92\n"
     ]
    },
    {
     "data": {
      "application/vnd.jupyter.widget-view+json": {
       "model_id": "0cebcaec81a74071b01b53d614c5acb3",
       "version_major": 2,
       "version_minor": 0
      },
      "text/plain": [
       "3x3_2:   0%|          | 0/92 [00:00<?, ?it/s]"
      ]
     },
     "metadata": {},
     "output_type": "display_data"
    },
    {
     "name": "stderr",
     "output_type": "stream",
     "text": [
      "[I 2024-10-21 20:49:09,784] Trial 38 finished with value: 97.5 and parameters: {'number_of_clauses': 8243, 'T_factor': 3603.005650532097, 's': 0.10494104817592839, 'depth': 3, 'epochs': 92}. Best is trial 23 with value: 99.5.\n"
     ]
    },
    {
     "name": "stdout",
     "output_type": "stream",
     "text": [
      "Initialization of sparse structure.\n",
      "Start trial with c=6421, T=7020.469485537933, s=0.37046795247850123, d=2, e=75\n"
     ]
    },
    {
     "data": {
      "application/vnd.jupyter.widget-view+json": {
       "model_id": "0b78a0b3d7d5499a8dbabf1171be9a8a",
       "version_major": 2,
       "version_minor": 0
      },
      "text/plain": [
       "3x3_2:   0%|          | 0/75 [00:00<?, ?it/s]"
      ]
     },
     "metadata": {},
     "output_type": "display_data"
    },
    {
     "name": "stderr",
     "output_type": "stream",
     "text": [
      "[I 2024-10-21 20:49:38,667] Trial 39 finished with value: 68.0 and parameters: {'number_of_clauses': 6421, 'T_factor': 7020.469485537933, 's': 0.37046795247850123, 'depth': 2, 'epochs': 75}. Best is trial 23 with value: 99.5.\n"
     ]
    },
    {
     "name": "stdout",
     "output_type": "stream",
     "text": [
      "Initialization of sparse structure.\n",
      "Start trial with c=8962, T=9435.353470662654, s=1.148580285270519, d=2, e=29\n"
     ]
    },
    {
     "data": {
      "application/vnd.jupyter.widget-view+json": {
       "model_id": "5778d3f81f4c49bf9f29a2efc4b1fad4",
       "version_major": 2,
       "version_minor": 0
      },
      "text/plain": [
       "3x3_2:   0%|          | 0/29 [00:00<?, ?it/s]"
      ]
     },
     "metadata": {},
     "output_type": "display_data"
    },
    {
     "name": "stderr",
     "output_type": "stream",
     "text": [
      "[I 2024-10-21 20:49:53,240] Trial 40 finished with value: 97.0 and parameters: {'number_of_clauses': 8962, 'T_factor': 9435.353470662654, 's': 1.148580285270519, 'depth': 2, 'epochs': 29}. Best is trial 23 with value: 99.5.\n"
     ]
    },
    {
     "name": "stdout",
     "output_type": "stream",
     "text": [
      "Initialization of sparse structure.\n",
      "Start trial with c=8827, T=8902.491020368101, s=0.2848125960083511, d=2, e=69\n"
     ]
    },
    {
     "data": {
      "application/vnd.jupyter.widget-view+json": {
       "model_id": "bdbac3c46f1847b4b914933f13e67c31",
       "version_major": 2,
       "version_minor": 0
      },
      "text/plain": [
       "3x3_2:   0%|          | 0/69 [00:00<?, ?it/s]"
      ]
     },
     "metadata": {},
     "output_type": "display_data"
    },
    {
     "name": "stderr",
     "output_type": "stream",
     "text": [
      "[I 2024-10-21 20:50:25,902] Trial 41 finished with value: 98.5 and parameters: {'number_of_clauses': 8827, 'T_factor': 8902.491020368101, 's': 0.2848125960083511, 'depth': 2, 'epochs': 69}. Best is trial 23 with value: 99.5.\n"
     ]
    },
    {
     "name": "stdout",
     "output_type": "stream",
     "text": [
      "Initialization of sparse structure.\n",
      "Start trial with c=9955, T=11146.332814836742, s=0.2656072528741192, d=2, e=73\n"
     ]
    },
    {
     "data": {
      "application/vnd.jupyter.widget-view+json": {
       "model_id": "ed983ec25fa14630941b79c27f8953e1",
       "version_major": 2,
       "version_minor": 0
      },
      "text/plain": [
       "3x3_2:   0%|          | 0/73 [00:00<?, ?it/s]"
      ]
     },
     "metadata": {},
     "output_type": "display_data"
    },
    {
     "name": "stderr",
     "output_type": "stream",
     "text": [
      "[I 2024-10-21 20:50:57,436] Trial 42 finished with value: 99.5 and parameters: {'number_of_clauses': 9955, 'T_factor': 11146.332814836742, 's': 0.2656072528741192, 'depth': 2, 'epochs': 73}. Best is trial 23 with value: 99.5.\n"
     ]
    },
    {
     "name": "stdout",
     "output_type": "stream",
     "text": [
      "Initialization of sparse structure.\n",
      "Start trial with c=9444, T=10806.2365663006, s=0.43814642790343944, d=4, e=80\n"
     ]
    },
    {
     "data": {
      "application/vnd.jupyter.widget-view+json": {
       "model_id": "e9f87e937a4047ec96319514dc28725b",
       "version_major": 2,
       "version_minor": 0
      },
      "text/plain": [
       "3x3_2:   0%|          | 0/80 [00:00<?, ?it/s]"
      ]
     },
     "metadata": {},
     "output_type": "display_data"
    },
    {
     "name": "stderr",
     "output_type": "stream",
     "text": [
      "[I 2024-10-21 20:51:42,282] Trial 43 finished with value: 100.0 and parameters: {'number_of_clauses': 9444, 'T_factor': 10806.2365663006, 's': 0.43814642790343944, 'depth': 4, 'epochs': 80}. Best is trial 43 with value: 100.0.\n",
      "[I 2024-10-21 20:51:42,332] A new study created in RDB with name: Study_3x3_5\n"
     ]
    },
    {
     "name": "stdout",
     "output_type": "stream",
     "text": [
      "Initialization of sparse structure.\n",
      "Start trial with c=675, T=363.147068309035, s=2.8646589278812353, d=4, e=78\n"
     ]
    },
    {
     "data": {
      "application/vnd.jupyter.widget-view+json": {
       "model_id": "ac39f59e46ac43e69660eb7d9e6df6d0",
       "version_major": 2,
       "version_minor": 0
      },
      "text/plain": [
       "3x3_5:   0%|          | 0/78 [00:00<?, ?it/s]"
      ]
     },
     "metadata": {},
     "output_type": "display_data"
    },
    {
     "name": "stderr",
     "output_type": "stream",
     "text": [
      "[I 2024-10-21 20:52:28,415] Trial 0 finished with value: 68.0 and parameters: {'number_of_clauses': 675, 'T_factor': 363.147068309035, 's': 2.8646589278812353, 'depth': 4, 'epochs': 78}. Best is trial 0 with value: 68.0.\n"
     ]
    },
    {
     "name": "stdout",
     "output_type": "stream",
     "text": [
      "Initialization of sparse structure.\n",
      "Start trial with c=7385, T=1918.3413868133466, s=2.448286008202126, d=2, e=56\n"
     ]
    },
    {
     "data": {
      "application/vnd.jupyter.widget-view+json": {
       "model_id": "e77d97731cdd4814849705cf75156031",
       "version_major": 2,
       "version_minor": 0
      },
      "text/plain": [
       "3x3_5:   0%|          | 0/56 [00:00<?, ?it/s]"
      ]
     },
     "metadata": {},
     "output_type": "display_data"
    },
    {
     "name": "stderr",
     "output_type": "stream",
     "text": [
      "[I 2024-10-21 20:52:53,874] Trial 1 finished with value: 74.5 and parameters: {'number_of_clauses': 7385, 'T_factor': 1918.3413868133466, 's': 2.448286008202126, 'depth': 2, 'epochs': 56}. Best is trial 1 with value: 74.5.\n"
     ]
    },
    {
     "name": "stdout",
     "output_type": "stream",
     "text": [
      "Initialization of sparse structure.\n",
      "Start trial with c=6691, T=5658.089534566294, s=1.099367502589218, d=4, e=17\n"
     ]
    },
    {
     "data": {
      "application/vnd.jupyter.widget-view+json": {
       "model_id": "652f8c6fb2554151ac9ff9089d0009a6",
       "version_major": 2,
       "version_minor": 0
      },
      "text/plain": [
       "3x3_5:   0%|          | 0/17 [00:00<?, ?it/s]"
      ]
     },
     "metadata": {},
     "output_type": "display_data"
    },
    {
     "name": "stderr",
     "output_type": "stream",
     "text": [
      "[I 2024-10-21 20:53:12,922] Trial 2 finished with value: 68.0 and parameters: {'number_of_clauses': 6691, 'T_factor': 5658.089534566294, 's': 1.099367502589218, 'depth': 4, 'epochs': 17}. Best is trial 1 with value: 74.5.\n"
     ]
    },
    {
     "name": "stdout",
     "output_type": "stream",
     "text": [
      "Initialization of sparse structure.\n",
      "Start trial with c=2692, T=1949.8044797574064, s=0.27627728660567596, d=2, e=31\n"
     ]
    },
    {
     "data": {
      "application/vnd.jupyter.widget-view+json": {
       "model_id": "f7c752c0728e49c6b884a36763bf4ade",
       "version_major": 2,
       "version_minor": 0
      },
      "text/plain": [
       "3x3_5:   0%|          | 0/31 [00:00<?, ?it/s]"
      ]
     },
     "metadata": {},
     "output_type": "display_data"
    },
    {
     "name": "stderr",
     "output_type": "stream",
     "text": [
      "[I 2024-10-21 20:53:28,127] Trial 3 finished with value: 68.0 and parameters: {'number_of_clauses': 2692, 'T_factor': 1949.8044797574064, 's': 0.27627728660567596, 'depth': 2, 'epochs': 31}. Best is trial 1 with value: 74.5.\n"
     ]
    },
    {
     "name": "stdout",
     "output_type": "stream",
     "text": [
      "Initialization of sparse structure.\n",
      "Start trial with c=4937, T=2738.808935850873, s=0.5552387341414357, d=2, e=18\n"
     ]
    },
    {
     "data": {
      "application/vnd.jupyter.widget-view+json": {
       "model_id": "958442959d814b43961cc5c2f882e4b3",
       "version_major": 2,
       "version_minor": 0
      },
      "text/plain": [
       "3x3_5:   0%|          | 0/18 [00:00<?, ?it/s]"
      ]
     },
     "metadata": {},
     "output_type": "display_data"
    },
    {
     "name": "stderr",
     "output_type": "stream",
     "text": [
      "[I 2024-10-21 20:53:38,143] Trial 4 finished with value: 69.0 and parameters: {'number_of_clauses': 4937, 'T_factor': 2738.808935850873, 's': 0.5552387341414357, 'depth': 2, 'epochs': 18}. Best is trial 1 with value: 74.5.\n"
     ]
    },
    {
     "name": "stdout",
     "output_type": "stream",
     "text": [
      "Initialization of sparse structure.\n",
      "Start trial with c=9070, T=8181.33421143425, s=0.9639900847812567, d=4, e=87\n"
     ]
    },
    {
     "data": {
      "application/vnd.jupyter.widget-view+json": {
       "model_id": "5ece4a8750df42f0a543f11f9f764432",
       "version_major": 2,
       "version_minor": 0
      },
      "text/plain": [
       "3x3_5:   0%|          | 0/87 [00:00<?, ?it/s]"
      ]
     },
     "metadata": {},
     "output_type": "display_data"
    },
    {
     "name": "stderr",
     "output_type": "stream",
     "text": [
      "[I 2024-10-21 20:54:04,474] Trial 5 finished with value: 100.0 and parameters: {'number_of_clauses': 9070, 'T_factor': 8181.33421143425, 's': 0.9639900847812567, 'depth': 4, 'epochs': 87}. Best is trial 5 with value: 100.0.\n"
     ]
    },
    {
     "data": {
      "application/vnd.jupyter.widget-view+json": {
       "model_id": "986f0595211b4b738beb5a0470abf6c5",
       "version_major": 2,
       "version_minor": 0
      },
      "text/plain": [
       "Moves Before:   0%|          | 0/3 [00:00<?, ?it/s]"
      ]
     },
     "metadata": {},
     "output_type": "display_data"
    },
    {
     "name": "stderr",
     "output_type": "stream",
     "text": [
      "[I 2024-10-21 20:54:04,506] Using an existing study with name 'Study_4x4_0' instead of creating a new one.\n"
     ]
    },
    {
     "name": "stdout",
     "output_type": "stream",
     "text": [
      "Initialization of sparse structure.\n",
      "Start trial with c=9835, T=7753.249267960532, s=2.3718986045702386, d=2, e=92\n"
     ]
    },
    {
     "data": {
      "application/vnd.jupyter.widget-view+json": {
       "model_id": "328c705a8f7e4fddbb5843e480ac6095",
       "version_major": 2,
       "version_minor": 0
      },
      "text/plain": [
       "4x4_0:   0%|          | 0/92 [00:00<?, ?it/s]"
      ]
     },
     "metadata": {},
     "output_type": "display_data"
    },
    {
     "name": "stderr",
     "output_type": "stream",
     "text": [
      "[I 2024-10-21 20:54:30,026] Trial 27 finished with value: 100.0 and parameters: {'number_of_clauses': 9835, 'T_factor': 7753.249267960532, 's': 2.3718986045702386, 'depth': 2, 'epochs': 92}. Best is trial 19 with value: 100.0.\n",
      "[I 2024-10-21 20:54:30,067] A new study created in RDB with name: Study_4x4_2\n"
     ]
    },
    {
     "name": "stdout",
     "output_type": "stream",
     "text": [
      "Initialization of sparse structure.\n",
      "Start trial with c=9028, T=1199.3015812685142, s=0.2757983110959782, d=3, e=92\n"
     ]
    },
    {
     "data": {
      "application/vnd.jupyter.widget-view+json": {
       "model_id": "d74a90d59c4f4a0dbfdc25d135fb69b4",
       "version_major": 2,
       "version_minor": 0
      },
      "text/plain": [
       "4x4_2:   0%|          | 0/92 [00:00<?, ?it/s]"
      ]
     },
     "metadata": {},
     "output_type": "display_data"
    },
    {
     "name": "stderr",
     "output_type": "stream",
     "text": [
      "[I 2024-10-21 20:55:25,615] Trial 0 finished with value: 88.5 and parameters: {'number_of_clauses': 9028, 'T_factor': 1199.3015812685142, 's': 0.2757983110959782, 'depth': 3, 'epochs': 92}. Best is trial 0 with value: 88.5.\n"
     ]
    },
    {
     "name": "stdout",
     "output_type": "stream",
     "text": [
      "Initialization of sparse structure.\n",
      "Start trial with c=7247, T=3806.6284015595306, s=0.4460875420220024, d=2, e=29\n"
     ]
    },
    {
     "data": {
      "application/vnd.jupyter.widget-view+json": {
       "model_id": "40a62576fd7747b7bc13440c84cc9a6c",
       "version_major": 2,
       "version_minor": 0
      },
      "text/plain": [
       "4x4_2:   0%|          | 0/29 [00:00<?, ?it/s]"
      ]
     },
     "metadata": {},
     "output_type": "display_data"
    },
    {
     "name": "stderr",
     "output_type": "stream",
     "text": [
      "[I 2024-10-21 20:55:40,160] Trial 1 finished with value: 59.0 and parameters: {'number_of_clauses': 7247, 'T_factor': 3806.6284015595306, 's': 0.4460875420220024, 'depth': 2, 'epochs': 29}. Best is trial 0 with value: 88.5.\n"
     ]
    },
    {
     "name": "stdout",
     "output_type": "stream",
     "text": [
      "Initialization of sparse structure.\n",
      "Start trial with c=1037, T=661.4134747906302, s=3.3515417716896785, d=3, e=51\n"
     ]
    },
    {
     "data": {
      "application/vnd.jupyter.widget-view+json": {
       "model_id": "a8451cd468e44cfe9a44bf771df30bcd",
       "version_major": 2,
       "version_minor": 0
      },
      "text/plain": [
       "4x4_2:   0%|          | 0/51 [00:00<?, ?it/s]"
      ]
     },
     "metadata": {},
     "output_type": "display_data"
    },
    {
     "name": "stderr",
     "output_type": "stream",
     "text": [
      "[I 2024-10-21 20:56:08,280] Trial 2 finished with value: 58.5 and parameters: {'number_of_clauses': 1037, 'T_factor': 661.4134747906302, 's': 3.3515417716896785, 'depth': 3, 'epochs': 51}. Best is trial 0 with value: 88.5.\n"
     ]
    },
    {
     "name": "stdout",
     "output_type": "stream",
     "text": [
      "Initialization of sparse structure.\n",
      "Start trial with c=9235, T=4240.779592626028, s=1.9115084898361134, d=4, e=34\n"
     ]
    },
    {
     "data": {
      "application/vnd.jupyter.widget-view+json": {
       "model_id": "cf479c6c780642e19fb870973d2b0b86",
       "version_major": 2,
       "version_minor": 0
      },
      "text/plain": [
       "4x4_2:   0%|          | 0/34 [00:00<?, ?it/s]"
      ]
     },
     "metadata": {},
     "output_type": "display_data"
    },
    {
     "name": "stderr",
     "output_type": "stream",
     "text": [
      "[I 2024-10-21 20:56:36,479] Trial 3 finished with value: 93.0 and parameters: {'number_of_clauses': 9235, 'T_factor': 4240.779592626028, 's': 1.9115084898361134, 'depth': 4, 'epochs': 34}. Best is trial 3 with value: 93.0.\n"
     ]
    },
    {
     "name": "stdout",
     "output_type": "stream",
     "text": [
      "Initialization of sparse structure.\n",
      "Start trial with c=6947, T=6066.91131424363, s=2.5432140935157794, d=3, e=34\n"
     ]
    },
    {
     "data": {
      "application/vnd.jupyter.widget-view+json": {
       "model_id": "2fa36962f92b4468948426d38ec0c468",
       "version_major": 2,
       "version_minor": 0
      },
      "text/plain": [
       "4x4_2:   0%|          | 0/34 [00:00<?, ?it/s]"
      ]
     },
     "metadata": {},
     "output_type": "display_data"
    },
    {
     "name": "stderr",
     "output_type": "stream",
     "text": [
      "[I 2024-10-21 20:56:56,711] Trial 4 finished with value: 58.5 and parameters: {'number_of_clauses': 6947, 'T_factor': 6066.91131424363, 's': 2.5432140935157794, 'depth': 3, 'epochs': 34}. Best is trial 3 with value: 93.0.\n"
     ]
    },
    {
     "name": "stdout",
     "output_type": "stream",
     "text": [
      "Initialization of sparse structure.\n",
      "Start trial with c=7823, T=1702.1766483871306, s=1.9203865742410064, d=3, e=66\n"
     ]
    },
    {
     "data": {
      "application/vnd.jupyter.widget-view+json": {
       "model_id": "1df4c7bc5ae64a7aaddc40c284eda2ae",
       "version_major": 2,
       "version_minor": 0
      },
      "text/plain": [
       "4x4_2:   0%|          | 0/66 [00:00<?, ?it/s]"
      ]
     },
     "metadata": {},
     "output_type": "display_data"
    },
    {
     "name": "stderr",
     "output_type": "stream",
     "text": [
      "[I 2024-10-21 20:57:33,359] Trial 5 finished with value: 75.5 and parameters: {'number_of_clauses': 7823, 'T_factor': 1702.1766483871306, 's': 1.9203865742410064, 'depth': 3, 'epochs': 66}. Best is trial 3 with value: 93.0.\n"
     ]
    },
    {
     "name": "stdout",
     "output_type": "stream",
     "text": [
      "Initialization of sparse structure.\n",
      "Start trial with c=3683, T=497.077099486401, s=1.367562597597582, d=2, e=33\n"
     ]
    },
    {
     "data": {
      "application/vnd.jupyter.widget-view+json": {
       "model_id": "9b501f3867ef4096a864b09624f1555b",
       "version_major": 2,
       "version_minor": 0
      },
      "text/plain": [
       "4x4_2:   0%|          | 0/33 [00:00<?, ?it/s]"
      ]
     },
     "metadata": {},
     "output_type": "display_data"
    },
    {
     "name": "stderr",
     "output_type": "stream",
     "text": [
      "[I 2024-10-21 20:57:49,132] Trial 6 finished with value: 58.5 and parameters: {'number_of_clauses': 3683, 'T_factor': 497.077099486401, 's': 1.367562597597582, 'depth': 2, 'epochs': 33}. Best is trial 3 with value: 93.0.\n"
     ]
    },
    {
     "name": "stdout",
     "output_type": "stream",
     "text": [
      "Initialization of sparse structure.\n",
      "Start trial with c=3839, T=110.9237461840046, s=0.8591983584470144, d=4, e=74\n"
     ]
    },
    {
     "data": {
      "application/vnd.jupyter.widget-view+json": {
       "model_id": "90978be3744b41138dc3c96d23883790",
       "version_major": 2,
       "version_minor": 0
      },
      "text/plain": [
       "4x4_2:   0%|          | 0/74 [00:00<?, ?it/s]"
      ]
     },
     "metadata": {},
     "output_type": "display_data"
    },
    {
     "name": "stderr",
     "output_type": "stream",
     "text": [
      "[I 2024-10-21 20:58:44,754] Trial 7 finished with value: 60.5 and parameters: {'number_of_clauses': 3839, 'T_factor': 110.9237461840046, 's': 0.8591983584470144, 'depth': 4, 'epochs': 74}. Best is trial 3 with value: 93.0.\n"
     ]
    },
    {
     "name": "stdout",
     "output_type": "stream",
     "text": [
      "Initialization of sparse structure.\n",
      "Start trial with c=4731, T=915.9258806476645, s=3.490918912412389, d=3, e=76\n"
     ]
    },
    {
     "data": {
      "application/vnd.jupyter.widget-view+json": {
       "model_id": "46bf067c0e1f41f8b986c06f6fbd91a3",
       "version_major": 2,
       "version_minor": 0
      },
      "text/plain": [
       "4x4_2:   0%|          | 0/76 [00:00<?, ?it/s]"
      ]
     },
     "metadata": {},
     "output_type": "display_data"
    },
    {
     "name": "stderr",
     "output_type": "stream",
     "text": [
      "[I 2024-10-21 20:59:25,358] Trial 8 finished with value: 58.5 and parameters: {'number_of_clauses': 4731, 'T_factor': 915.9258806476645, 's': 3.490918912412389, 'depth': 3, 'epochs': 76}. Best is trial 3 with value: 93.0.\n"
     ]
    },
    {
     "name": "stdout",
     "output_type": "stream",
     "text": [
      "Initialization of sparse structure.\n",
      "Start trial with c=1363, T=633.692479832293, s=2.5590279879601856, d=4, e=17\n"
     ]
    },
    {
     "data": {
      "application/vnd.jupyter.widget-view+json": {
       "model_id": "1ee02167c66845909e0ca9739a73ba05",
       "version_major": 2,
       "version_minor": 0
      },
      "text/plain": [
       "4x4_2:   0%|          | 0/17 [00:00<?, ?it/s]"
      ]
     },
     "metadata": {},
     "output_type": "display_data"
    },
    {
     "name": "stderr",
     "output_type": "stream",
     "text": [
      "[I 2024-10-21 20:59:39,184] Trial 9 finished with value: 58.5 and parameters: {'number_of_clauses': 1363, 'T_factor': 633.692479832293, 's': 2.5590279879601856, 'depth': 4, 'epochs': 17}. Best is trial 3 with value: 93.0.\n"
     ]
    },
    {
     "name": "stdout",
     "output_type": "stream",
     "text": [
      "Initialization of sparse structure.\n",
      "Start trial with c=9641, T=9532.282039158556, s=1.6195060564799573, d=5, e=50\n"
     ]
    },
    {
     "data": {
      "application/vnd.jupyter.widget-view+json": {
       "model_id": "c33c928eb86a48c283773b72b30d9acf",
       "version_major": 2,
       "version_minor": 0
      },
      "text/plain": [
       "4x4_2:   0%|          | 0/50 [00:00<?, ?it/s]"
      ]
     },
     "metadata": {},
     "output_type": "display_data"
    },
    {
     "name": "stderr",
     "output_type": "stream",
     "text": [
      "[I 2024-10-21 21:00:23,021] Trial 10 finished with value: 89.5 and parameters: {'number_of_clauses': 9641, 'T_factor': 9532.282039158556, 's': 1.6195060564799573, 'depth': 5, 'epochs': 50}. Best is trial 3 with value: 93.0.\n"
     ]
    },
    {
     "name": "stdout",
     "output_type": "stream",
     "text": [
      "Initialization of sparse structure.\n",
      "Start trial with c=9328, T=10791.575451319322, s=1.7175586072734816, d=5, e=52\n"
     ]
    },
    {
     "data": {
      "application/vnd.jupyter.widget-view+json": {
       "model_id": "a6b46063ad2d411682ff821fd6ad7a22",
       "version_major": 2,
       "version_minor": 0
      },
      "text/plain": [
       "4x4_2:   0%|          | 0/52 [00:00<?, ?it/s]"
      ]
     },
     "metadata": {},
     "output_type": "display_data"
    },
    {
     "name": "stderr",
     "output_type": "stream",
     "text": [
      "[I 2024-10-21 21:01:08,451] Trial 11 finished with value: 86.0 and parameters: {'number_of_clauses': 9328, 'T_factor': 10791.575451319322, 's': 1.7175586072734816, 'depth': 5, 'epochs': 52}. Best is trial 3 with value: 93.0.\n"
     ]
    },
    {
     "name": "stdout",
     "output_type": "stream",
     "text": [
      "Initialization of sparse structure.\n",
      "Start trial with c=9867, T=8028.474934666312, s=2.5032645757643364, d=5, e=45\n"
     ]
    },
    {
     "data": {
      "application/vnd.jupyter.widget-view+json": {
       "model_id": "51b1f8cdf976439dbe3158b0d43ef4ec",
       "version_major": 2,
       "version_minor": 0
      },
      "text/plain": [
       "4x4_2:   0%|          | 0/45 [00:00<?, ?it/s]"
      ]
     },
     "metadata": {},
     "output_type": "display_data"
    },
    {
     "name": "stderr",
     "output_type": "stream",
     "text": [
      "[I 2024-10-21 21:01:51,351] Trial 12 finished with value: 88.5 and parameters: {'number_of_clauses': 9867, 'T_factor': 8028.474934666312, 's': 2.5032645757643364, 'depth': 5, 'epochs': 45}. Best is trial 3 with value: 93.0.\n"
     ]
    },
    {
     "name": "stdout",
     "output_type": "stream",
     "text": [
      "Initialization of sparse structure.\n",
      "Start trial with c=6476, T=3168.1280591385753, s=1.0468777979301813, d=5, e=17\n"
     ]
    },
    {
     "data": {
      "application/vnd.jupyter.widget-view+json": {
       "model_id": "394c759782b946cdbd9cdd225dd0934b",
       "version_major": 2,
       "version_minor": 0
      },
      "text/plain": [
       "4x4_2:   0%|          | 0/17 [00:00<?, ?it/s]"
      ]
     },
     "metadata": {},
     "output_type": "display_data"
    },
    {
     "name": "stderr",
     "output_type": "stream",
     "text": [
      "[I 2024-10-21 21:02:08,933] Trial 13 finished with value: 58.5 and parameters: {'number_of_clauses': 6476, 'T_factor': 3168.1280591385753, 's': 1.0468777979301813, 'depth': 5, 'epochs': 17}. Best is trial 3 with value: 93.0.\n"
     ]
    },
    {
     "name": "stdout",
     "output_type": "stream",
     "text": [
      "Initialization of sparse structure.\n",
      "Start trial with c=7983, T=6088.003997542781, s=1.589085424236178, d=4, e=40\n"
     ]
    },
    {
     "data": {
      "application/vnd.jupyter.widget-view+json": {
       "model_id": "ee736901fe0443c1bd6120b4943e9e21",
       "version_major": 2,
       "version_minor": 0
      },
      "text/plain": [
       "4x4_2:   0%|          | 0/40 [00:00<?, ?it/s]"
      ]
     },
     "metadata": {},
     "output_type": "display_data"
    },
    {
     "name": "stderr",
     "output_type": "stream",
     "text": [
      "[I 2024-10-21 21:02:41,717] Trial 14 finished with value: 84.0 and parameters: {'number_of_clauses': 7983, 'T_factor': 6088.003997542781, 's': 1.589085424236178, 'depth': 4, 'epochs': 40}. Best is trial 3 with value: 93.0.\n"
     ]
    },
    {
     "name": "stdout",
     "output_type": "stream",
     "text": [
      "Initialization of sparse structure.\n",
      "Start trial with c=5495, T=2627.991770099523, s=2.09458418326114, d=5, e=60\n"
     ]
    },
    {
     "data": {
      "application/vnd.jupyter.widget-view+json": {
       "model_id": "7111ee7d1c6e4140854bf99786a0a27b",
       "version_major": 2,
       "version_minor": 0
      },
      "text/plain": [
       "4x4_2:   0%|          | 0/60 [00:00<?, ?it/s]"
      ]
     },
     "metadata": {},
     "output_type": "display_data"
    },
    {
     "name": "stderr",
     "output_type": "stream",
     "text": [
      "[I 2024-10-21 21:03:30,999] Trial 15 finished with value: 58.5 and parameters: {'number_of_clauses': 5495, 'T_factor': 2627.991770099523, 's': 2.09458418326114, 'depth': 5, 'epochs': 60}. Best is trial 3 with value: 93.0.\n"
     ]
    },
    {
     "name": "stdout",
     "output_type": "stream",
     "text": [
      "Initialization of sparse structure.\n",
      "Start trial with c=8693, T=8300.104489384792, s=2.96717164641571, d=4, e=100\n"
     ]
    },
    {
     "data": {
      "application/vnd.jupyter.widget-view+json": {
       "model_id": "e982b2ba069545ab94c43134832ca8a1",
       "version_major": 2,
       "version_minor": 0
      },
      "text/plain": [
       "4x4_2:   0%|          | 0/100 [00:00<?, ?it/s]"
      ]
     },
     "metadata": {},
     "output_type": "display_data"
    },
    {
     "name": "stderr",
     "output_type": "stream",
     "text": [
      "[I 2024-10-21 21:04:43,723] Trial 16 finished with value: 85.0 and parameters: {'number_of_clauses': 8693, 'T_factor': 8300.104489384792, 's': 2.96717164641571, 'depth': 4, 'epochs': 100}. Best is trial 3 with value: 93.0.\n"
     ]
    },
    {
     "name": "stdout",
     "output_type": "stream",
     "text": [
      "Initialization of sparse structure.\n",
      "Start trial with c=9979, T=11528.769995638937, s=1.1759008753276152, d=5, e=23\n"
     ]
    },
    {
     "data": {
      "application/vnd.jupyter.widget-view+json": {
       "model_id": "45752775326647a78227ef73181522ab",
       "version_major": 2,
       "version_minor": 0
      },
      "text/plain": [
       "4x4_2:   0%|          | 0/23 [00:00<?, ?it/s]"
      ]
     },
     "metadata": {},
     "output_type": "display_data"
    },
    {
     "name": "stderr",
     "output_type": "stream",
     "text": [
      "[I 2024-10-21 21:05:06,910] Trial 17 finished with value: 85.0 and parameters: {'number_of_clauses': 9979, 'T_factor': 11528.769995638937, 's': 1.1759008753276152, 'depth': 5, 'epochs': 23}. Best is trial 3 with value: 93.0.\n"
     ]
    },
    {
     "name": "stdout",
     "output_type": "stream",
     "text": [
      "Initialization of sparse structure.\n",
      "Start trial with c=8514, T=4798.400059323995, s=2.2876030614709797, d=4, e=43\n"
     ]
    },
    {
     "data": {
      "application/vnd.jupyter.widget-view+json": {
       "model_id": "26a38e06facb4ed2a0c5447a758c2e44",
       "version_major": 2,
       "version_minor": 0
      },
      "text/plain": [
       "4x4_2:   0%|          | 0/43 [00:00<?, ?it/s]"
      ]
     },
     "metadata": {},
     "output_type": "display_data"
    },
    {
     "name": "stderr",
     "output_type": "stream",
     "text": [
      "[I 2024-10-21 21:05:40,755] Trial 18 finished with value: 95.0 and parameters: {'number_of_clauses': 8514, 'T_factor': 4798.400059323995, 's': 2.2876030614709797, 'depth': 4, 'epochs': 43}. Best is trial 18 with value: 95.0.\n"
     ]
    },
    {
     "name": "stdout",
     "output_type": "stream",
     "text": [
      "Initialization of sparse structure.\n",
      "Start trial with c=5752, T=4573.430600001537, s=3.891502474387872, d=4, e=41\n"
     ]
    },
    {
     "data": {
      "application/vnd.jupyter.widget-view+json": {
       "model_id": "a0376c7c7ff84831a2367e1676ef4ae6",
       "version_major": 2,
       "version_minor": 0
      },
      "text/plain": [
       "4x4_2:   0%|          | 0/41 [00:00<?, ?it/s]"
      ]
     },
     "metadata": {},
     "output_type": "display_data"
    },
    {
     "name": "stderr",
     "output_type": "stream",
     "text": [
      "[I 2024-10-21 21:06:11,581] Trial 19 finished with value: 55.00000000000001 and parameters: {'number_of_clauses': 5752, 'T_factor': 4573.430600001537, 's': 3.891502474387872, 'depth': 4, 'epochs': 41}. Best is trial 18 with value: 95.0.\n"
     ]
    },
    {
     "name": "stdout",
     "output_type": "stream",
     "text": [
      "Initialization of sparse structure.\n",
      "Start trial with c=8378, T=5114.6132346437025, s=2.1509085910478998, d=4, e=27\n"
     ]
    },
    {
     "data": {
      "application/vnd.jupyter.widget-view+json": {
       "model_id": "e7df44b91a264d0084ee1f5fb091fa88",
       "version_major": 2,
       "version_minor": 0
      },
      "text/plain": [
       "4x4_2:   0%|          | 0/27 [00:00<?, ?it/s]"
      ]
     },
     "metadata": {},
     "output_type": "display_data"
    },
    {
     "name": "stderr",
     "output_type": "stream",
     "text": [
      "[I 2024-10-21 21:06:32,908] Trial 20 finished with value: 86.0 and parameters: {'number_of_clauses': 8378, 'T_factor': 5114.6132346437025, 's': 2.1509085910478998, 'depth': 4, 'epochs': 27}. Best is trial 18 with value: 95.0.\n"
     ]
    },
    {
     "name": "stdout",
     "output_type": "stream",
     "text": [
      "Initialization of sparse structure.\n",
      "Start trial with c=8990, T=7241.228903364846, s=2.153781719492106, d=5, e=48\n"
     ]
    },
    {
     "data": {
      "application/vnd.jupyter.widget-view+json": {
       "model_id": "12957b4471454be2a7859ff1cb58e36b",
       "version_major": 2,
       "version_minor": 0
      },
      "text/plain": [
       "4x4_2:   0%|          | 0/48 [00:00<?, ?it/s]"
      ]
     },
     "metadata": {},
     "output_type": "display_data"
    },
    {
     "name": "stderr",
     "output_type": "stream",
     "text": [
      "[I 2024-10-21 21:07:15,005] Trial 21 finished with value: 87.0 and parameters: {'number_of_clauses': 8990, 'T_factor': 7241.228903364846, 's': 2.153781719492106, 'depth': 5, 'epochs': 48}. Best is trial 18 with value: 95.0.\n"
     ]
    },
    {
     "name": "stdout",
     "output_type": "stream",
     "text": [
      "Initialization of sparse structure.\n",
      "Start trial with c=7619, T=5636.314080090491, s=1.5125303244255002, d=4, e=59\n"
     ]
    },
    {
     "data": {
      "application/vnd.jupyter.widget-view+json": {
       "model_id": "b12bcfd88d3e4b0dbe7dba64902b5c8e",
       "version_major": 2,
       "version_minor": 0
      },
      "text/plain": [
       "4x4_2:   0%|          | 0/59 [00:00<?, ?it/s]"
      ]
     },
     "metadata": {},
     "output_type": "display_data"
    },
    {
     "name": "stderr",
     "output_type": "stream",
     "text": [
      "[I 2024-10-21 21:07:56,123] Trial 22 finished with value: 86.5 and parameters: {'number_of_clauses': 7619, 'T_factor': 5636.314080090491, 's': 1.5125303244255002, 'depth': 4, 'epochs': 59}. Best is trial 18 with value: 95.0.\n"
     ]
    },
    {
     "name": "stdout",
     "output_type": "stream",
     "text": [
      "Initialization of sparse structure.\n",
      "Start trial with c=9850, T=9828.962746848887, s=2.9215552886194676, d=4, e=38\n"
     ]
    },
    {
     "data": {
      "application/vnd.jupyter.widget-view+json": {
       "model_id": "6d1a809e503249298e8cf43741192dd8",
       "version_major": 2,
       "version_minor": 0
      },
      "text/plain": [
       "4x4_2:   0%|          | 0/38 [00:00<?, ?it/s]"
      ]
     },
     "metadata": {},
     "output_type": "display_data"
    },
    {
     "name": "stderr",
     "output_type": "stream",
     "text": [
      "[I 2024-10-21 21:08:26,324] Trial 23 finished with value: 83.5 and parameters: {'number_of_clauses': 9850, 'T_factor': 9828.962746848887, 's': 2.9215552886194676, 'depth': 4, 'epochs': 38}. Best is trial 18 with value: 95.0.\n"
     ]
    },
    {
     "name": "stdout",
     "output_type": "stream",
     "text": [
      "Initialization of sparse structure.\n",
      "Start trial with c=6698, T=3892.164739533804, s=0.5978453972462565, d=5, e=66\n"
     ]
    },
    {
     "data": {
      "application/vnd.jupyter.widget-view+json": {
       "model_id": "52d3e213c3a442938f57129ea362f424",
       "version_major": 2,
       "version_minor": 0
      },
      "text/plain": [
       "4x4_2:   0%|          | 0/66 [00:00<?, ?it/s]"
      ]
     },
     "metadata": {},
     "output_type": "display_data"
    }
   ],
   "source": [
    "# Running multiple studies for different configurations of the dataset\n",
    "for n_samples in tqdm(samples, desc=\"Samples\"):\n",
    "    for board_size in tqdm(board_sizes, desc=\"Board Sizes\", leave=False):\n",
    "        for mbf in tqdm(moves_before, desc=\"Moves Before\", leave=False):\n",
    "            dataset = f\"{board_size}x{board_size}_{mbf}\"\n",
    "            with open(f\"graphs/{dataset}_{n_samples}.pkl\", 'rb') as f:\n",
    "                graphs_train, graphs_test, X_train, Y_train, X_test, Y_test = pickle.load(f)\n",
    "\n",
    "            study = optuna.create_study(\n",
    "                #directions=[\"maximize\", \"minimize\"],  # Maximize accuracy, minimize number of clauses\n",
    "                direction=\"maximize\",\n",
    "                study_name=f\"Study_{dataset}\",\n",
    "                storage=\"sqlite:///ja_tsehex.db\",  # Save to SQLite database\n",
    "                load_if_exists=True\n",
    "                #pruner=optuna.pruners.MedianPruner()\n",
    "            )\n",
    "\n",
    "            try:\n",
    "                # Run the study and handle early stop for 100% accuracy\n",
    "                study.optimize(objective, n_trials=100, callbacks=[stop_when_100_accuracy])\n",
    "            except KeyboardInterrupt:\n",
    "                print(\"Optimization interrupted!\")\n",
    "                print(f\"Best result so far: {study.best_params}\")\n",
    "\n",
    "            # Get and display the Pareto front of the study\n",
    "            #pareto_front = study.best_trials\n",
    "            #if pareto_front:\n",
    "                # Display the Pareto optimal solutions\n",
    "                #print(f\"Pareto front for {dataset}:\")\n",
    "                #for trial in pareto_front:\n",
    "                    #print(f\"Trial {trial.number}: accuracy={trial.values[0]}, clauses={trial.values[1]}\")\n",
    "            #else:\n",
    "                #print(f\"No Pareto-optimal trials found for {dataset}.\")"
   ]
  },
  {
   "cell_type": "code",
   "execution_count": null,
   "id": "b8f327fd-6222-4f2a-8adc-aed2c7cb8850",
   "metadata": {},
   "outputs": [],
   "source": []
  }
 ],
 "metadata": {
  "kernelspec": {
   "display_name": "Python 3 (ipykernel)",
   "language": "python",
   "name": "python3"
  },
  "language_info": {
   "codemirror_mode": {
    "name": "ipython",
    "version": 3
   },
   "file_extension": ".py",
   "mimetype": "text/x-python",
   "name": "python",
   "nbconvert_exporter": "python",
   "pygments_lexer": "ipython3",
   "version": "3.11.6"
  },
  "widgets": {
   "application/vnd.jupyter.widget-state+json": {
    "state": {
     "000282865b9648dc9f14eb3206626597": {
      "model_module": "@jupyter-widgets/controls",
      "model_module_version": "2.0.0",
      "model_name": "HTMLStyleModel",
      "state": {
       "description_width": "",
       "font_size": null,
       "text_color": null
      }
     },
     "009f6764bc184a73b25f25b0d95063eb": {
      "model_module": "@jupyter-widgets/controls",
      "model_module_version": "2.0.0",
      "model_name": "HTMLStyleModel",
      "state": {
       "description_width": "",
       "font_size": null,
       "text_color": null
      }
     },
     "0177265b15d94b869797b98ed46a3965": {
      "model_module": "@jupyter-widgets/base",
      "model_module_version": "2.0.0",
      "model_name": "LayoutModel",
      "state": {}
     },
     "01c5762465664ef4a0e6126687764722": {
      "model_module": "@jupyter-widgets/controls",
      "model_module_version": "2.0.0",
      "model_name": "FloatProgressModel",
      "state": {
       "bar_style": "success",
       "layout": "IPY_MODEL_fbfe61d07f4249cc8fc5adabe051ad69",
       "max": 64,
       "style": "IPY_MODEL_84a9f679b88641e9a147c2805600a57b",
       "value": 64
      }
     },
     "01f7ca13f4a14bcdbe8cecd83c488bf5": {
      "model_module": "@jupyter-widgets/base",
      "model_module_version": "2.0.0",
      "model_name": "LayoutModel",
      "state": {}
     },
     "029c12813b2a4d90917ba0090e5261c8": {
      "model_module": "@jupyter-widgets/base",
      "model_module_version": "2.0.0",
      "model_name": "LayoutModel",
      "state": {}
     },
     "02c57e2f845f49d0ae35f25ca0a50013": {
      "model_module": "@jupyter-widgets/controls",
      "model_module_version": "2.0.0",
      "model_name": "ProgressStyleModel",
      "state": {
       "description_width": ""
      }
     },
     "02e05af295f94a038e98c7975bfa98b6": {
      "model_module": "@jupyter-widgets/base",
      "model_module_version": "2.0.0",
      "model_name": "LayoutModel",
      "state": {}
     },
     "035268b9fde44e58a27c827a88002972": {
      "model_module": "@jupyter-widgets/controls",
      "model_module_version": "2.0.0",
      "model_name": "HTMLModel",
      "state": {
       "layout": "IPY_MODEL_8d201762a4534ca28146c51cd3a4da67",
       "style": "IPY_MODEL_be76bf69bf6a44c59e5dd1b3dd6f3294",
       "value": "3x3_0: 100%"
      }
     },
     "03a6e38dbf694035aa6a13992332afe2": {
      "model_module": "@jupyter-widgets/controls",
      "model_module_version": "2.0.0",
      "model_name": "HTMLModel",
      "state": {
       "layout": "IPY_MODEL_92f400db1be54d15a843a617338e4350",
       "style": "IPY_MODEL_b6501053181e43e990251ca97f80c75b",
       "value": "4x4_0:  61%"
      }
     },
     "03c12504f2bf430eaa3058adef4a32a5": {
      "model_module": "@jupyter-widgets/controls",
      "model_module_version": "2.0.0",
      "model_name": "HTMLStyleModel",
      "state": {
       "description_width": "",
       "font_size": null,
       "text_color": null
      }
     },
     "04544140924241bc8fc0cfab0f8656f0": {
      "model_module": "@jupyter-widgets/base",
      "model_module_version": "2.0.0",
      "model_name": "LayoutModel",
      "state": {}
     },
     "05364f0c4aac4eb5b83a54961adffb3e": {
      "model_module": "@jupyter-widgets/base",
      "model_module_version": "2.0.0",
      "model_name": "LayoutModel",
      "state": {}
     },
     "0563cbc348eb4782a92f88cff599307a": {
      "model_module": "@jupyter-widgets/controls",
      "model_module_version": "2.0.0",
      "model_name": "FloatProgressModel",
      "state": {
       "bar_style": "success",
       "layout": "IPY_MODEL_564eb35cdaf04b6ca07a109216d43105",
       "max": 60,
       "style": "IPY_MODEL_a63ba13a750f45748c90ef9498114a05",
       "value": 60
      }
     },
     "05c5069386524a3eb1dc92494d466948": {
      "model_module": "@jupyter-widgets/controls",
      "model_module_version": "2.0.0",
      "model_name": "ProgressStyleModel",
      "state": {
       "description_width": ""
      }
     },
     "063e1e8f4f98487093d06b49d470fb5b": {
      "model_module": "@jupyter-widgets/base",
      "model_module_version": "2.0.0",
      "model_name": "LayoutModel",
      "state": {}
     },
     "066224bae4704be5b565f846e3821ef1": {
      "model_module": "@jupyter-widgets/controls",
      "model_module_version": "2.0.0",
      "model_name": "HTMLStyleModel",
      "state": {
       "description_width": "",
       "font_size": null,
       "text_color": null
      }
     },
     "06aa5d2a95d241b79caa68d37f478310": {
      "model_module": "@jupyter-widgets/controls",
      "model_module_version": "2.0.0",
      "model_name": "HTMLStyleModel",
      "state": {
       "description_width": "",
       "font_size": null,
       "text_color": null
      }
     },
     "06f540e4ffe948af81f3ec51fdfd72e1": {
      "model_module": "@jupyter-widgets/controls",
      "model_module_version": "2.0.0",
      "model_name": "FloatProgressModel",
      "state": {
       "bar_style": "success",
       "layout": "IPY_MODEL_59067821d9fa430fb472a7affa066a90",
       "max": 31,
       "style": "IPY_MODEL_720bb44fa2c6443c944ce0b46971163b",
       "value": 31
      }
     },
     "07513e916265489dbac7adc105705fc5": {
      "model_module": "@jupyter-widgets/controls",
      "model_module_version": "2.0.0",
      "model_name": "HTMLStyleModel",
      "state": {
       "description_width": "",
       "font_size": null,
       "text_color": null
      }
     },
     "075957b88ac041eeb80c4942262d809f": {
      "model_module": "@jupyter-widgets/base",
      "model_module_version": "2.0.0",
      "model_name": "LayoutModel",
      "state": {}
     },
     "0785a03540b943118efe00f1151926b4": {
      "model_module": "@jupyter-widgets/controls",
      "model_module_version": "2.0.0",
      "model_name": "HTMLStyleModel",
      "state": {
       "description_width": "",
       "font_size": null,
       "text_color": null
      }
     },
     "07ba0846ca904aa4bcf4394857f706a9": {
      "model_module": "@jupyter-widgets/controls",
      "model_module_version": "2.0.0",
      "model_name": "HTMLStyleModel",
      "state": {
       "description_width": "",
       "font_size": null,
       "text_color": null
      }
     },
     "084c2b28dd5f4c21947e3292a38a93a8": {
      "model_module": "@jupyter-widgets/controls",
      "model_module_version": "2.0.0",
      "model_name": "HTMLStyleModel",
      "state": {
       "description_width": "",
       "font_size": null,
       "text_color": null
      }
     },
     "0867a3059ad84596b6adbd915af3b0b4": {
      "model_module": "@jupyter-widgets/controls",
      "model_module_version": "2.0.0",
      "model_name": "FloatProgressModel",
      "state": {
       "bar_style": "success",
       "layout": "IPY_MODEL_b6aa6151bacd4999862d1578fb94325b",
       "max": 29,
       "style": "IPY_MODEL_f6d68d7ce1064b8ebb79487db5ce2267",
       "value": 29
      }
     },
     "093981b0272c4c0d873849bb9e4cfcf6": {
      "model_module": "@jupyter-widgets/controls",
      "model_module_version": "2.0.0",
      "model_name": "HTMLStyleModel",
      "state": {
       "description_width": "",
       "font_size": null,
       "text_color": null
      }
     },
     "09e0542916ae45ec82bd9d4315393aa4": {
      "model_module": "@jupyter-widgets/base",
      "model_module_version": "2.0.0",
      "model_name": "LayoutModel",
      "state": {}
     },
     "0a01e0428f5f487595848e2411326804": {
      "model_module": "@jupyter-widgets/controls",
      "model_module_version": "2.0.0",
      "model_name": "ProgressStyleModel",
      "state": {
       "description_width": ""
      }
     },
     "0a91d28430744ddd86184271f6165cc2": {
      "model_module": "@jupyter-widgets/base",
      "model_module_version": "2.0.0",
      "model_name": "LayoutModel",
      "state": {}
     },
     "0b78a0b3d7d5499a8dbabf1171be9a8a": {
      "model_module": "@jupyter-widgets/controls",
      "model_module_version": "2.0.0",
      "model_name": "HBoxModel",
      "state": {
       "children": [
        "IPY_MODEL_a2dfba10eb2d4daeaa50a1bf05f2aacb",
        "IPY_MODEL_d30359a33c554a838752e9959546464e",
        "IPY_MODEL_36ce66e2ddd141af97d41bb6b464b5a1"
       ],
       "layout": "IPY_MODEL_d7a202885fbd46b1ac5ca0b01da196ef"
      }
     },
     "0b86fc1903aa4cc2a29f231b8d128891": {
      "model_module": "@jupyter-widgets/base",
      "model_module_version": "2.0.0",
      "model_name": "LayoutModel",
      "state": {}
     },
     "0b9e8a8ea2874460a2f5c830584da0a4": {
      "model_module": "@jupyter-widgets/base",
      "model_module_version": "2.0.0",
      "model_name": "LayoutModel",
      "state": {}
     },
     "0be2e802174e4e538bf4cbbeca94c015": {
      "model_module": "@jupyter-widgets/controls",
      "model_module_version": "2.0.0",
      "model_name": "HTMLStyleModel",
      "state": {
       "description_width": "",
       "font_size": null,
       "text_color": null
      }
     },
     "0bf7e893745c4eb98715f2b28a93aa1c": {
      "model_module": "@jupyter-widgets/controls",
      "model_module_version": "2.0.0",
      "model_name": "HBoxModel",
      "state": {
       "children": [
        "IPY_MODEL_a515bff8df1f4a6aaf04705e2f50f957",
        "IPY_MODEL_39d42519087b436e8c248e36e1a50283",
        "IPY_MODEL_1aeee83855b7498182ae2acc5ff7469f"
       ],
       "layout": "IPY_MODEL_665b09bb83924847bfd5099aa3dad16f"
      }
     },
     "0c1a7e3498314eb89e685df3bc546b34": {
      "model_module": "@jupyter-widgets/controls",
      "model_module_version": "2.0.0",
      "model_name": "HTMLModel",
      "state": {
       "layout": "IPY_MODEL_4df871ca389d4dd2b83ab64753a1d267",
       "style": "IPY_MODEL_bc0a5178acfe4f01823dd9e8e0fe29f4",
       "value": " 76/76 [00:40&lt;00:00,  2.21it/s, Acc=58.50%, BestAcc=59.50%, F1=0.47, Prec=0.62, Rec=0.59]"
      }
     },
     "0c3b67e3c686430bbdfa61539b987a46": {
      "model_module": "@jupyter-widgets/controls",
      "model_module_version": "2.0.0",
      "model_name": "HTMLStyleModel",
      "state": {
       "description_width": "",
       "font_size": null,
       "text_color": null
      }
     },
     "0cb1df5d8a044237bd4ad317272d70d1": {
      "model_module": "@jupyter-widgets/controls",
      "model_module_version": "2.0.0",
      "model_name": "FloatProgressModel",
      "state": {
       "bar_style": "success",
       "layout": "IPY_MODEL_f1b28fc1dae5492baa54e952ee54db81",
       "max": 43,
       "style": "IPY_MODEL_d66a9a6a7b61495884074affb7cb3ac8",
       "value": 43
      }
     },
     "0cebcaec81a74071b01b53d614c5acb3": {
      "model_module": "@jupyter-widgets/controls",
      "model_module_version": "2.0.0",
      "model_name": "HBoxModel",
      "state": {
       "children": [
        "IPY_MODEL_7e23f38700f5462a956eead219f8f2c1",
        "IPY_MODEL_a9ef5fbca70b491cb3d38b816cc814f9",
        "IPY_MODEL_36651587c1714d0982ffca8e840a0dd0"
       ],
       "layout": "IPY_MODEL_86a958f8f3534595931146c4e5ce051b"
      }
     },
     "0d3ebe6eba22478d9151817d434dd714": {
      "model_module": "@jupyter-widgets/controls",
      "model_module_version": "2.0.0",
      "model_name": "FloatProgressModel",
      "state": {
       "bar_style": "success",
       "layout": "IPY_MODEL_934376098394404683e7ccb548565f1c",
       "max": 34,
       "style": "IPY_MODEL_61d8fb098b7845e898db93beec584249",
       "value": 34
      }
     },
     "0e0f3355777149c298005034394b4180": {
      "model_module": "@jupyter-widgets/base",
      "model_module_version": "2.0.0",
      "model_name": "LayoutModel",
      "state": {}
     },
     "0e879cd1453047e7bb6a42f7bc6be13f": {
      "model_module": "@jupyter-widgets/base",
      "model_module_version": "2.0.0",
      "model_name": "LayoutModel",
      "state": {}
     },
     "0eb8e744fa1246d2873cc50786fb1f11": {
      "model_module": "@jupyter-widgets/controls",
      "model_module_version": "2.0.0",
      "model_name": "ProgressStyleModel",
      "state": {
       "description_width": ""
      }
     },
     "0efe94a65e1849eaac8008087b1aa7fb": {
      "model_module": "@jupyter-widgets/base",
      "model_module_version": "2.0.0",
      "model_name": "LayoutModel",
      "state": {}
     },
     "0f499a6b412f49f1be88c4754fb7d3f4": {
      "model_module": "@jupyter-widgets/controls",
      "model_module_version": "2.0.0",
      "model_name": "HBoxModel",
      "state": {
       "children": [
        "IPY_MODEL_9683b3ba5eef4fbb8bc5f7268b3dbbd7",
        "IPY_MODEL_fd53cf3cb4684acf8c24b96c9c80c12e",
        "IPY_MODEL_cd905d7ebd4d4268b6cd8c935d0048ad"
       ],
       "layout": "IPY_MODEL_0e0f3355777149c298005034394b4180"
      }
     },
     "0f52e5fe237445ea86de0e2cd69c0ac9": {
      "model_module": "@jupyter-widgets/base",
      "model_module_version": "2.0.0",
      "model_name": "LayoutModel",
      "state": {}
     },
     "0f99320d66714af4bba49a26e53b134e": {
      "model_module": "@jupyter-widgets/base",
      "model_module_version": "2.0.0",
      "model_name": "LayoutModel",
      "state": {}
     },
     "0fa1f45d22024c86bd98244f221294b9": {
      "model_module": "@jupyter-widgets/controls",
      "model_module_version": "2.0.0",
      "model_name": "HTMLStyleModel",
      "state": {
       "description_width": "",
       "font_size": null,
       "text_color": null
      }
     },
     "0ffde64528de450488bdb751a3217d93": {
      "model_module": "@jupyter-widgets/controls",
      "model_module_version": "2.0.0",
      "model_name": "HTMLStyleModel",
      "state": {
       "description_width": "",
       "font_size": null,
       "text_color": null
      }
     },
     "1056b846d74e4517a0c80eb1af9b9023": {
      "model_module": "@jupyter-widgets/controls",
      "model_module_version": "2.0.0",
      "model_name": "ProgressStyleModel",
      "state": {
       "description_width": ""
      }
     },
     "10d2fa1feff84ee2b7a6c6abf6f2f1e7": {
      "model_module": "@jupyter-widgets/controls",
      "model_module_version": "2.0.0",
      "model_name": "ProgressStyleModel",
      "state": {
       "description_width": ""
      }
     },
     "10da226ebbd241308e65034e496d614f": {
      "model_module": "@jupyter-widgets/base",
      "model_module_version": "2.0.0",
      "model_name": "LayoutModel",
      "state": {}
     },
     "10f6ee3eb2e94d70962f9ffcd20ea028": {
      "model_module": "@jupyter-widgets/controls",
      "model_module_version": "2.0.0",
      "model_name": "HTMLModel",
      "state": {
       "layout": "IPY_MODEL_2c5e5886b33a40e4848666efe806b7e6",
       "style": "IPY_MODEL_d78712632e8a412cb5a2aa61e533faee",
       "value": "3x3_2: 100%"
      }
     },
     "11719de4f609449e9615a11980d0d9c7": {
      "model_module": "@jupyter-widgets/base",
      "model_module_version": "2.0.0",
      "model_name": "LayoutModel",
      "state": {}
     },
     "11e4793959954ba7bea65ffd2505ad31": {
      "model_module": "@jupyter-widgets/base",
      "model_module_version": "2.0.0",
      "model_name": "LayoutModel",
      "state": {}
     },
     "1212d46209a246d1be3f6199dd224fa4": {
      "model_module": "@jupyter-widgets/controls",
      "model_module_version": "2.0.0",
      "model_name": "HTMLStyleModel",
      "state": {
       "description_width": "",
       "font_size": null,
       "text_color": null
      }
     },
     "12219a523a284549bfb975ee4e542a58": {
      "model_module": "@jupyter-widgets/controls",
      "model_module_version": "2.0.0",
      "model_name": "HTMLModel",
      "state": {
       "layout": "IPY_MODEL_e937ecfb73664758a9c39fe5add638a9",
       "style": "IPY_MODEL_85e5d939b7684d21ae0a98ff43a922e5",
       "value": " 1/3 [00:25&lt;00:51, 25.55s/it]"
      }
     },
     "12957b4471454be2a7859ff1cb58e36b": {
      "model_module": "@jupyter-widgets/controls",
      "model_module_version": "2.0.0",
      "model_name": "HBoxModel",
      "state": {
       "children": [
        "IPY_MODEL_375ff0d732554f3899e9719014738a88",
        "IPY_MODEL_b0b58a2aeaf4406bb8ed4880a1d28ac1",
        "IPY_MODEL_b55e23c3e3f8453c925928e9d361f978"
       ],
       "layout": "IPY_MODEL_d26b3cb29c70446eb5ff19ae899052af"
      }
     },
     "129715b965634279852e48be374f517a": {
      "model_module": "@jupyter-widgets/controls",
      "model_module_version": "2.0.0",
      "model_name": "HTMLModel",
      "state": {
       "layout": "IPY_MODEL_ea16f28ee30c4bf4bc3ce662340c6ac8",
       "style": "IPY_MODEL_f0091e477ca4400fbd33d4cbbdfa29be",
       "value": " 78/78 [00:45&lt;00:00,  1.86it/s, Acc=68.00%, BestAcc=68.00%, F1=0.55, Prec=0.46, Rec=0.68]"
      }
     },
     "1354015bbb984a61be774ec15ea89c37": {
      "model_module": "@jupyter-widgets/base",
      "model_module_version": "2.0.0",
      "model_name": "LayoutModel",
      "state": {}
     },
     "136d7bc4c0b8426fb3807a7df904bb67": {
      "model_module": "@jupyter-widgets/controls",
      "model_module_version": "2.0.0",
      "model_name": "HTMLModel",
      "state": {
       "layout": "IPY_MODEL_bfabe7bd0aba450887cea9dfad63214a",
       "style": "IPY_MODEL_c028e43ceee1420887e35b005f9e06ac",
       "value": " 53/53 [00:26&lt;00:00,  2.34it/s, Acc=68.00%, BestAcc=68.00%, F1=0.55, Prec=0.46, Rec=0.68]"
      }
     },
     "139f1ff503154b338fa7d0782bf492d9": {
      "model_module": "@jupyter-widgets/controls",
      "model_module_version": "2.0.0",
      "model_name": "HTMLStyleModel",
      "state": {
       "description_width": "",
       "font_size": null,
       "text_color": null
      }
     },
     "13bdafe4166e43e38ab28bef630de461": {
      "model_module": "@jupyter-widgets/controls",
      "model_module_version": "2.0.0",
      "model_name": "HBoxModel",
      "state": {
       "children": [
        "IPY_MODEL_dad793e254fa41139168875f5c1b2cee",
        "IPY_MODEL_3869157f47694c2e98377bf0ddc8fb03",
        "IPY_MODEL_b4aed765ba9e4c17bf5e0c9da9a93811"
       ],
       "layout": "IPY_MODEL_eb9533c2a7df4696830048e666ea359e"
      }
     },
     "1403ee2fb0f04cfa909349a7cca3e5a2": {
      "model_module": "@jupyter-widgets/controls",
      "model_module_version": "2.0.0",
      "model_name": "HTMLStyleModel",
      "state": {
       "description_width": "",
       "font_size": null,
       "text_color": null
      }
     },
     "147d5eaa6e814db0a52175f724967fdf": {
      "model_module": "@jupyter-widgets/controls",
      "model_module_version": "2.0.0",
      "model_name": "ProgressStyleModel",
      "state": {
       "description_width": ""
      }
     },
     "14950f52bb8a4bb9bf2d4eb858acf431": {
      "model_module": "@jupyter-widgets/controls",
      "model_module_version": "2.0.0",
      "model_name": "HTMLModel",
      "state": {
       "layout": "IPY_MODEL_063e1e8f4f98487093d06b49d470fb5b",
       "style": "IPY_MODEL_1403ee2fb0f04cfa909349a7cca3e5a2",
       "value": " 26/26 [00:19&lt;00:00,  1.51it/s, Acc=36.50%, BestAcc=37.00%, F1=0.22, Prec=0.78, Rec=0.37]"
      }
     },
     "14af6ea4ac4b452198e60a7f080b5517": {
      "model_module": "@jupyter-widgets/controls",
      "model_module_version": "2.0.0",
      "model_name": "HTMLStyleModel",
      "state": {
       "description_width": "",
       "font_size": null,
       "text_color": null
      }
     },
     "14e3ce897fed41f6af3dc628626f96f1": {
      "model_module": "@jupyter-widgets/base",
      "model_module_version": "2.0.0",
      "model_name": "LayoutModel",
      "state": {}
     },
     "14ecb9b55a714fff83ffbc0e25de7d57": {
      "model_module": "@jupyter-widgets/base",
      "model_module_version": "2.0.0",
      "model_name": "LayoutModel",
      "state": {}
     },
     "15a023d0bc0f4afd99509c6fa74040b1": {
      "model_module": "@jupyter-widgets/controls",
      "model_module_version": "2.0.0",
      "model_name": "HTMLModel",
      "state": {
       "layout": "IPY_MODEL_657b8ee2ab98415f90153454554a868a",
       "style": "IPY_MODEL_d676b8f3a7bd41b7b4f79c4d89b96436",
       "value": "3x3_2: 100%"
      }
     },
     "163c7044e3a249149e189dc0caf3ee29": {
      "model_module": "@jupyter-widgets/controls",
      "model_module_version": "2.0.0",
      "model_name": "FloatProgressModel",
      "state": {
       "bar_style": "danger",
       "layout": "IPY_MODEL_05364f0c4aac4eb5b83a54961adffb3e",
       "max": 92,
       "style": "IPY_MODEL_9974a39e387b403b9b1ac194d53509b8",
       "value": 56
      }
     },
     "167011095079403d83bbb28441f38729": {
      "model_module": "@jupyter-widgets/controls",
      "model_module_version": "2.0.0",
      "model_name": "HBoxModel",
      "state": {
       "children": [
        "IPY_MODEL_a0cb46c0fdef4115b28aa02f181b9b44",
        "IPY_MODEL_78e117723a4643c1ad1fec3aaef5fdb6",
        "IPY_MODEL_3d303ac8a98f4ed8ad16a680b5078f16"
       ],
       "layout": "IPY_MODEL_2f8f3f44c07e4ca4a17c2d6500353ac8"
      }
     },
     "167b0dc9bf6f417ca1dd55e7a74ce099": {
      "model_module": "@jupyter-widgets/controls",
      "model_module_version": "2.0.0",
      "model_name": "FloatProgressModel",
      "state": {
       "bar_style": "success",
       "layout": "IPY_MODEL_432209c6f87b4230924c7b6f563bd526",
       "max": 29,
       "style": "IPY_MODEL_e200d408dcb44d03bce3b79e3325359d",
       "value": 29
      }
     },
     "17289c8b12434665826eb5db9c6b5a23": {
      "model_module": "@jupyter-widgets/controls",
      "model_module_version": "2.0.0",
      "model_name": "HTMLModel",
      "state": {
       "layout": "IPY_MODEL_93ba2ee496a2458999f1326d8c6ff827",
       "style": "IPY_MODEL_5f9d2cf71a994d008cdabd762669bedf",
       "value": " 42/42 [00:17&lt;00:00,  3.01it/s, Acc=68.00%, BestAcc=68.00%, F1=0.55, Prec=0.46, Rec=0.68]"
      }
     },
     "17c5a4d4f458407aa6f49c487f2dc9a8": {
      "model_module": "@jupyter-widgets/base",
      "model_module_version": "2.0.0",
      "model_name": "LayoutModel",
      "state": {}
     },
     "18137c0ba1d048c7a4a9984985dfa46d": {
      "model_module": "@jupyter-widgets/controls",
      "model_module_version": "2.0.0",
      "model_name": "ProgressStyleModel",
      "state": {
       "description_width": ""
      }
     },
     "183b6de6257f4c1da62a6fab5fc5abd6": {
      "model_module": "@jupyter-widgets/controls",
      "model_module_version": "2.0.0",
      "model_name": "HTMLStyleModel",
      "state": {
       "description_width": "",
       "font_size": null,
       "text_color": null
      }
     },
     "1867190a050049d08b170c636a783844": {
      "model_module": "@jupyter-widgets/controls",
      "model_module_version": "2.0.0",
      "model_name": "HTMLStyleModel",
      "state": {
       "description_width": "",
       "font_size": null,
       "text_color": null
      }
     },
     "187ad53419374618966019f552a0d2fb": {
      "model_module": "@jupyter-widgets/base",
      "model_module_version": "2.0.0",
      "model_name": "LayoutModel",
      "state": {}
     },
     "1897818529c64548a7554b511dc9d3ac": {
      "model_module": "@jupyter-widgets/controls",
      "model_module_version": "2.0.0",
      "model_name": "HTMLStyleModel",
      "state": {
       "description_width": "",
       "font_size": null,
       "text_color": null
      }
     },
     "18ace2e8199c4be1a20b32a789a44352": {
      "model_module": "@jupyter-widgets/base",
      "model_module_version": "2.0.0",
      "model_name": "LayoutModel",
      "state": {}
     },
     "18cdea3d237a465ab43bd29208cbf549": {
      "model_module": "@jupyter-widgets/base",
      "model_module_version": "2.0.0",
      "model_name": "LayoutModel",
      "state": {}
     },
     "1906039bdf3e4ac48aa929511ffc6a25": {
      "model_module": "@jupyter-widgets/controls",
      "model_module_version": "2.0.0",
      "model_name": "FloatProgressModel",
      "state": {
       "bar_style": "success",
       "layout": "IPY_MODEL_17c5a4d4f458407aa6f49c487f2dc9a8",
       "max": 73,
       "style": "IPY_MODEL_7f60641f51794ca4affe9f61d9e0122a",
       "value": 73
      }
     },
     "1933929d57bd4cd3b01c66599853243b": {
      "model_module": "@jupyter-widgets/controls",
      "model_module_version": "2.0.0",
      "model_name": "FloatProgressModel",
      "state": {
       "bar_style": "success",
       "layout": "IPY_MODEL_04544140924241bc8fc0cfab0f8656f0",
       "max": 27,
       "style": "IPY_MODEL_b6dd55d6644b407bb02c150059c1f953",
       "value": 27
      }
     },
     "198a7f941f994de39e59d2ac46ab3cbc": {
      "model_module": "@jupyter-widgets/base",
      "model_module_version": "2.0.0",
      "model_name": "LayoutModel",
      "state": {}
     },
     "199657b84e3c4ccd8e2e9f23d36b2b11": {
      "model_module": "@jupyter-widgets/controls",
      "model_module_version": "2.0.0",
      "model_name": "HTMLStyleModel",
      "state": {
       "description_width": "",
       "font_size": null,
       "text_color": null
      }
     },
     "19ceff3b801345a0b125be20814cdcc1": {
      "model_module": "@jupyter-widgets/controls",
      "model_module_version": "2.0.0",
      "model_name": "HTMLModel",
      "state": {
       "layout": "IPY_MODEL_c59cedbae6d144cf814ad29bf2709363",
       "style": "IPY_MODEL_430c23fdf99e4043913431c822d34c8a",
       "value": " 74/74 [00:30&lt;00:00,  2.86it/s, Acc=98.00%, BestAcc=99.50%, F1=0.99, Prec=1.00, Rec=0.99]"
      }
     },
     "19d4284f05564581b984644611453ab2": {
      "model_module": "@jupyter-widgets/controls",
      "model_module_version": "2.0.0",
      "model_name": "HTMLModel",
      "state": {
       "layout": "IPY_MODEL_8fb0b27a4a9a460ba52127c72407601e",
       "style": "IPY_MODEL_791e54f4e6034afa859885117eb893b5",
       "value": " 52/52 [00:45&lt;00:00,  1.11it/s, Acc=86.00%, BestAcc=87.50%, F1=0.87, Prec=0.88, Rec=0.88]"
      }
     },
     "1a341a48778c4e8fbfe947f45cafce45": {
      "model_module": "@jupyter-widgets/base",
      "model_module_version": "2.0.0",
      "model_name": "LayoutModel",
      "state": {}
     },
     "1a464f141eed4596aaa76f00cf6163b7": {
      "model_module": "@jupyter-widgets/controls",
      "model_module_version": "2.0.0",
      "model_name": "ProgressStyleModel",
      "state": {
       "description_width": ""
      }
     },
     "1a81a8ed457b4e3e8103dfd64b1b5f88": {
      "model_module": "@jupyter-widgets/base",
      "model_module_version": "2.0.0",
      "model_name": "LayoutModel",
      "state": {}
     },
     "1aadf9f93fd94f238411c6062ca8a072": {
      "model_module": "@jupyter-widgets/base",
      "model_module_version": "2.0.0",
      "model_name": "LayoutModel",
      "state": {}
     },
     "1ad7ed7862244f8b8847ddd0b27bd708": {
      "model_module": "@jupyter-widgets/base",
      "model_module_version": "2.0.0",
      "model_name": "LayoutModel",
      "state": {}
     },
     "1aeee83855b7498182ae2acc5ff7469f": {
      "model_module": "@jupyter-widgets/controls",
      "model_module_version": "2.0.0",
      "model_name": "HTMLModel",
      "state": {
       "layout": "IPY_MODEL_d9cf1b91db5d4060ad07bed6005cbc2a",
       "style": "IPY_MODEL_acc5452e5449432389538c8ad7c545da",
       "value": " 86/86 [00:34&lt;00:00,  2.93it/s, Acc=98.00%, BestAcc=99.50%, F1=0.99, Prec=1.00, Rec=0.99]"
      }
     },
     "1b25ad6f0b37410b807eb2180ce08036": {
      "model_module": "@jupyter-widgets/base",
      "model_module_version": "2.0.0",
      "model_name": "LayoutModel",
      "state": {}
     },
     "1bc91ab94ea94bc1a586d67bf81e5e7a": {
      "model_module": "@jupyter-widgets/base",
      "model_module_version": "2.0.0",
      "model_name": "LayoutModel",
      "state": {}
     },
     "1bcf99d4e55d480cb92cb851a3d3b819": {
      "model_module": "@jupyter-widgets/controls",
      "model_module_version": "2.0.0",
      "model_name": "FloatProgressModel",
      "state": {
       "bar_style": "success",
       "layout": "IPY_MODEL_decbd2bca5a74893889f1045ebf879f0",
       "max": 76,
       "style": "IPY_MODEL_6f397e3e62064624bfcdc683644d8385",
       "value": 76
      }
     },
     "1cd4545f65f04a7cb55f6b39631939e1": {
      "model_module": "@jupyter-widgets/controls",
      "model_module_version": "2.0.0",
      "model_name": "HTMLStyleModel",
      "state": {
       "description_width": "",
       "font_size": null,
       "text_color": null
      }
     },
     "1cf1c896f0044fd58a12b1272197f6f0": {
      "model_module": "@jupyter-widgets/controls",
      "model_module_version": "2.0.0",
      "model_name": "HTMLStyleModel",
      "state": {
       "description_width": "",
       "font_size": null,
       "text_color": null
      }
     },
     "1d01d9a4dd0748c6905f3e6e43c35c45": {
      "model_module": "@jupyter-widgets/controls",
      "model_module_version": "2.0.0",
      "model_name": "HTMLModel",
      "state": {
       "layout": "IPY_MODEL_80c75437bec549c3972b34907f396633",
       "style": "IPY_MODEL_622d4318cbd3422fb1344dc3d2cf8fd4",
       "value": "4x4_2: 100%"
      }
     },
     "1d4921963acc4b4b8f432eedeb3f836d": {
      "model_module": "@jupyter-widgets/controls",
      "model_module_version": "2.0.0",
      "model_name": "HTMLModel",
      "state": {
       "layout": "IPY_MODEL_30893308cbb342e3b2bd42b281400e1d",
       "style": "IPY_MODEL_88451cf52a124497b2a7010328c3b7bf",
       "value": " 51/51 [00:22&lt;00:00,  2.64it/s, Acc=94.00%, BestAcc=94.00%, F1=0.94, Prec=0.94, Rec=0.94]"
      }
     },
     "1da698cef3134475add40306aeaef145": {
      "model_module": "@jupyter-widgets/controls",
      "model_module_version": "2.0.0",
      "model_name": "ProgressStyleModel",
      "state": {
       "description_width": ""
      }
     },
     "1de2552f71a64c54be6abe8c793b8765": {
      "model_module": "@jupyter-widgets/base",
      "model_module_version": "2.0.0",
      "model_name": "LayoutModel",
      "state": {}
     },
     "1df4c7bc5ae64a7aaddc40c284eda2ae": {
      "model_module": "@jupyter-widgets/controls",
      "model_module_version": "2.0.0",
      "model_name": "HBoxModel",
      "state": {
       "children": [
        "IPY_MODEL_1d01d9a4dd0748c6905f3e6e43c35c45",
        "IPY_MODEL_856e6f405e094ca98125ec638e14a4a2",
        "IPY_MODEL_45e7408f0a474bf1a81da532d8ba9a99"
       ],
       "layout": "IPY_MODEL_cdc5c6adfcd14bddb8d23d3a98074c74"
      }
     },
     "1e20c36ab12d4413b17d4a43bede887c": {
      "model_module": "@jupyter-widgets/controls",
      "model_module_version": "2.0.0",
      "model_name": "HTMLStyleModel",
      "state": {
       "description_width": "",
       "font_size": null,
       "text_color": null
      }
     },
     "1e459b1d21d64052872692eddef6bd28": {
      "model_module": "@jupyter-widgets/base",
      "model_module_version": "2.0.0",
      "model_name": "LayoutModel",
      "state": {}
     },
     "1e6fc54381224ae9bc7bb5d5bb17e113": {
      "model_module": "@jupyter-widgets/base",
      "model_module_version": "2.0.0",
      "model_name": "LayoutModel",
      "state": {}
     },
     "1ed483a368f7401a8506a4e5a56011e5": {
      "model_module": "@jupyter-widgets/base",
      "model_module_version": "2.0.0",
      "model_name": "LayoutModel",
      "state": {}
     },
     "1ee02167c66845909e0ca9739a73ba05": {
      "model_module": "@jupyter-widgets/controls",
      "model_module_version": "2.0.0",
      "model_name": "HBoxModel",
      "state": {
       "children": [
        "IPY_MODEL_9b51fcf0982e4531a5f3d9b94fccf850",
        "IPY_MODEL_d7b1fbb92cdb4d2a99014beab9ecf5f2",
        "IPY_MODEL_305405d806cd4121a6de919b1f194379"
       ],
       "layout": "IPY_MODEL_7f4a58f7262f4cd191c212684baca6a1"
      }
     },
     "1ef018e74b244962b5f311b5d35e47f4": {
      "model_module": "@jupyter-widgets/base",
      "model_module_version": "2.0.0",
      "model_name": "LayoutModel",
      "state": {}
     },
     "1f0a298dc3c5497087cb192af76bd5e1": {
      "model_module": "@jupyter-widgets/controls",
      "model_module_version": "2.0.0",
      "model_name": "ProgressStyleModel",
      "state": {
       "description_width": ""
      }
     },
     "1f0c75d504544d839b4c6f3f2061c18a": {
      "model_module": "@jupyter-widgets/controls",
      "model_module_version": "2.0.0",
      "model_name": "HTMLModel",
      "state": {
       "layout": "IPY_MODEL_b87cb7f5aae5429fb6528b2e101b58ba",
       "style": "IPY_MODEL_8bdf50fee5ab46b3b2bafeb9f83064e6",
       "value": " 100/100 [00:43&lt;00:00,  2.55it/s, Acc=42.50%, BestAcc=48.00%, F1=0.42, Prec=0.79, Rec=0.48]"
      }
     },
     "1f368ed8502249a1a459fc0a0bad6d62": {
      "model_module": "@jupyter-widgets/controls",
      "model_module_version": "2.0.0",
      "model_name": "HTMLModel",
      "state": {
       "layout": "IPY_MODEL_d734a7dd6ef946809f45a7a25733f74e",
       "style": "IPY_MODEL_066224bae4704be5b565f846e3821ef1",
       "value": "4x4_2: 100%"
      }
     },
     "1fdd0aae3a6b4a19bf358a81daaa3202": {
      "model_module": "@jupyter-widgets/controls",
      "model_module_version": "2.0.0",
      "model_name": "HBoxModel",
      "state": {
       "children": [
        "IPY_MODEL_257b0c298bbb4aff92182db970ad5932",
        "IPY_MODEL_55dba8a121584769a3200ca572606d87",
        "IPY_MODEL_b721edcbe39249b29c7e043483af2291"
       ],
       "layout": "IPY_MODEL_4aa8f9b36d25488281c4de1fd4ea46a7"
      }
     },
     "21006c98929449058747607fee0767f6": {
      "model_module": "@jupyter-widgets/controls",
      "model_module_version": "2.0.0",
      "model_name": "HTMLModel",
      "state": {
       "layout": "IPY_MODEL_b3c25c359e2742caa8567e19ccc77a07",
       "style": "IPY_MODEL_afa6a6c325a2485a8de241f7c34db726",
       "value": "4x4_2: 100%"
      }
     },
     "21ac5b2c03844ecebb05dffd5dccf1f7": {
      "model_module": "@jupyter-widgets/base",
      "model_module_version": "2.0.0",
      "model_name": "LayoutModel",
      "state": {}
     },
     "222b6186e52941c0a28ffea84d356ad2": {
      "model_module": "@jupyter-widgets/controls",
      "model_module_version": "2.0.0",
      "model_name": "FloatProgressModel",
      "state": {
       "bar_style": "success",
       "layout": "IPY_MODEL_638ca1a34368489dae34de082c3828c3",
       "max": 78,
       "style": "IPY_MODEL_1056b846d74e4517a0c80eb1af9b9023",
       "value": 78
      }
     },
     "2260699457514a3e9d85f69e854e0117": {
      "model_module": "@jupyter-widgets/base",
      "model_module_version": "2.0.0",
      "model_name": "LayoutModel",
      "state": {}
     },
     "226fa4c678174b0a84c80ca0e2bcea79": {
      "model_module": "@jupyter-widgets/controls",
      "model_module_version": "2.0.0",
      "model_name": "FloatProgressModel",
      "state": {
       "bar_style": "success",
       "layout": "IPY_MODEL_d55ba385065a41688ca8063b442385b0",
       "max": 92,
       "style": "IPY_MODEL_ea34a55bbcfa405f8a7fd311ad905a12",
       "value": 92
      }
     },
     "2298dfdef518411bba0aa757b0cc1aaf": {
      "model_module": "@jupyter-widgets/controls",
      "model_module_version": "2.0.0",
      "model_name": "HTMLModel",
      "state": {
       "layout": "IPY_MODEL_d2bed772cb8f47b3ba04d1f7119f4466",
       "style": "IPY_MODEL_07513e916265489dbac7adc105705fc5",
       "value": " 92/92 [00:55&lt;00:00,  1.91it/s, Acc=88.50%, BestAcc=91.50%, F1=0.91, Prec=0.92, Rec=0.92]"
      }
     },
     "22bbbcc685e74ed4808b2488de250575": {
      "model_module": "@jupyter-widgets/controls",
      "model_module_version": "2.0.0",
      "model_name": "ProgressStyleModel",
      "state": {
       "description_width": ""
      }
     },
     "2310480bb7fe49ec96077d1610fdf527": {
      "model_module": "@jupyter-widgets/base",
      "model_module_version": "2.0.0",
      "model_name": "LayoutModel",
      "state": {}
     },
     "23190780ffef4609b6a30d6855969cee": {
      "model_module": "@jupyter-widgets/controls",
      "model_module_version": "2.0.0",
      "model_name": "HTMLModel",
      "state": {
       "layout": "IPY_MODEL_a7b4563a573a450892ad5b5c2c687fb4",
       "style": "IPY_MODEL_98fc9c8b3df14fa29408267d20f21288",
       "value": " 23/23 [00:22&lt;00:00,  1.28it/s, Acc=85.00%, BestAcc=85.50%, F1=0.85, Prec=0.86, Rec=0.85]"
      }
     },
     "23c1bc068e0f4be0bf2f70038ee96560": {
      "model_module": "@jupyter-widgets/base",
      "model_module_version": "2.0.0",
      "model_name": "LayoutModel",
      "state": {}
     },
     "23f15d1e556a4de6a7f7ed7da688e863": {
      "model_module": "@jupyter-widgets/controls",
      "model_module_version": "2.0.0",
      "model_name": "HTMLStyleModel",
      "state": {
       "description_width": "",
       "font_size": null,
       "text_color": null
      }
     },
     "248d77be269745db94e6b307652c747e": {
      "model_module": "@jupyter-widgets/controls",
      "model_module_version": "2.0.0",
      "model_name": "ProgressStyleModel",
      "state": {
       "description_width": ""
      }
     },
     "249b2f563aa44909b8593e751c8940e0": {
      "model_module": "@jupyter-widgets/controls",
      "model_module_version": "2.0.0",
      "model_name": "HTMLStyleModel",
      "state": {
       "description_width": "",
       "font_size": null,
       "text_color": null
      }
     },
     "2523d97e9656469a98ba03928e658b2d": {
      "model_module": "@jupyter-widgets/controls",
      "model_module_version": "2.0.0",
      "model_name": "HTMLModel",
      "state": {
       "layout": "IPY_MODEL_c5b07f57b2fb4d1db1bb0e0587f55d1a",
       "style": "IPY_MODEL_9ac0f4826b6644c29e7df7d32cb5a297",
       "value": " 27/27 [00:12&lt;00:00,  3.22it/s, Acc=65.00%, BestAcc=75.00%, F1=0.71, Prec=0.78, Rec=0.75]"
      }
     },
     "2558c5c3879b466eb5c69f711106c4c5": {
      "model_module": "@jupyter-widgets/base",
      "model_module_version": "2.0.0",
      "model_name": "LayoutModel",
      "state": {}
     },
     "257b0c298bbb4aff92182db970ad5932": {
      "model_module": "@jupyter-widgets/controls",
      "model_module_version": "2.0.0",
      "model_name": "HTMLModel",
      "state": {
       "layout": "IPY_MODEL_6a5e09eef7e94f0baef62c76331f9bdd",
       "style": "IPY_MODEL_a2c2cd6b48ae40faa907a2e73339b7bc",
       "value": "3x3_2: 100%"
      }
     },
     "257c18f3688945d5a3f75df44b65903b": {
      "model_module": "@jupyter-widgets/controls",
      "model_module_version": "2.0.0",
      "model_name": "HBoxModel",
      "state": {
       "children": [
        "IPY_MODEL_bd559af70a2c4ddd92db980ae4b72deb",
        "IPY_MODEL_af723cfb016f476eb6526730749958a7",
        "IPY_MODEL_710f10dbaef9449183b98c840e0d8cac"
       ],
       "layout": "IPY_MODEL_c75f0b63bcb549cea8949f87a01e357d"
      }
     },
     "258f6da7cbbe4d71b902a4c8d398ecc0": {
      "model_module": "@jupyter-widgets/controls",
      "model_module_version": "2.0.0",
      "model_name": "HTMLModel",
      "state": {
       "layout": "IPY_MODEL_e93257ebe6cc43729387b23604992a45",
       "style": "IPY_MODEL_40c15dca7d1c46438e8f0e3df8cbd9f0",
       "value": " 27/27 [00:16&lt;00:00,  2.12it/s, Acc=68.00%, BestAcc=68.00%, F1=0.55, Prec=0.46, Rec=0.68]"
      }
     },
     "25f8e2c1f8024856b79ffd85a9c41251": {
      "model_module": "@jupyter-widgets/base",
      "model_module_version": "2.0.0",
      "model_name": "LayoutModel",
      "state": {}
     },
     "2673c35da9334f15b2e6024b0405910f": {
      "model_module": "@jupyter-widgets/controls",
      "model_module_version": "2.0.0",
      "model_name": "ProgressStyleModel",
      "state": {
       "description_width": ""
      }
     },
     "26a38e06facb4ed2a0c5447a758c2e44": {
      "model_module": "@jupyter-widgets/controls",
      "model_module_version": "2.0.0",
      "model_name": "HBoxModel",
      "state": {
       "children": [
        "IPY_MODEL_d5ee63344e52421c8687dad1716516f1",
        "IPY_MODEL_0cb1df5d8a044237bd4ad317272d70d1",
        "IPY_MODEL_650107255266484da78bf17ab9efa0da"
       ],
       "layout": "IPY_MODEL_560df56e2dc14204b0186852c1aac74b"
      }
     },
     "26f99622dd8945d59d61ba78b22489a6": {
      "model_module": "@jupyter-widgets/controls",
      "model_module_version": "2.0.0",
      "model_name": "HTMLStyleModel",
      "state": {
       "description_width": "",
       "font_size": null,
       "text_color": null
      }
     },
     "278ac3b787c84ba6be945ff54107b3e5": {
      "model_module": "@jupyter-widgets/base",
      "model_module_version": "2.0.0",
      "model_name": "LayoutModel",
      "state": {}
     },
     "27d1b9fedff24a019df9ee03b9eb236f": {
      "model_module": "@jupyter-widgets/controls",
      "model_module_version": "2.0.0",
      "model_name": "HTMLModel",
      "state": {
       "layout": "IPY_MODEL_37dddd7cb3e2445aa5cf3da3965b8d0c",
       "style": "IPY_MODEL_89bd81927fe24530949a73f9e3c71928",
       "value": " 54/54 [00:40&lt;00:00,  1.59it/s, Acc=91.50%, BestAcc=91.50%, F1=0.92, Prec=0.93, Rec=0.92]"
      }
     },
     "27f490c658d34a9eafba5c3a1fb17db0": {
      "model_module": "@jupyter-widgets/controls",
      "model_module_version": "2.0.0",
      "model_name": "HTMLModel",
      "state": {
       "layout": "IPY_MODEL_c93d0704493e4b27bde036c2b9c41d47",
       "style": "IPY_MODEL_bf145cedbb1b4e569ebb0a33544d91db",
       "value": "4x4_2: 100%"
      }
     },
     "28206dba438640a09193f1fb766a52ff": {
      "model_module": "@jupyter-widgets/controls",
      "model_module_version": "2.0.0",
      "model_name": "HTMLModel",
      "state": {
       "layout": "IPY_MODEL_c5625b81ace544a196862f31656cc4a6",
       "style": "IPY_MODEL_8f7c52af0a80417ca3933b014ff4c7e6",
       "value": " 52/52 [00:20&lt;00:00,  3.01it/s, Acc=68.00%, BestAcc=68.00%, F1=0.55, Prec=0.46, Rec=0.68]"
      }
     },
     "28818391684b4be38c3213fb2b325495": {
      "model_module": "@jupyter-widgets/controls",
      "model_module_version": "2.0.0",
      "model_name": "HTMLStyleModel",
      "state": {
       "description_width": "",
       "font_size": null,
       "text_color": null
      }
     },
     "28b11474d8594e25b321aaefe7393514": {
      "model_module": "@jupyter-widgets/controls",
      "model_module_version": "2.0.0",
      "model_name": "FloatProgressModel",
      "state": {
       "bar_style": "success",
       "layout": "IPY_MODEL_187ad53419374618966019f552a0d2fb",
       "max": 66,
       "style": "IPY_MODEL_9b6d784b7fa2498297d14f2b1bb8e2e8",
       "value": 66
      }
     },
     "292482ab3349483786abf3cc4a127e27": {
      "model_module": "@jupyter-widgets/base",
      "model_module_version": "2.0.0",
      "model_name": "LayoutModel",
      "state": {}
     },
     "2964377577104b75a25827e3151fbec2": {
      "model_module": "@jupyter-widgets/base",
      "model_module_version": "2.0.0",
      "model_name": "LayoutModel",
      "state": {}
     },
     "298fa8cb9e964870bafc57c53a882b19": {
      "model_module": "@jupyter-widgets/base",
      "model_module_version": "2.0.0",
      "model_name": "LayoutModel",
      "state": {}
     },
     "2994ca77053a4dc09c23341925aa4eef": {
      "model_module": "@jupyter-widgets/base",
      "model_module_version": "2.0.0",
      "model_name": "LayoutModel",
      "state": {}
     },
     "29d9210ff2154c14bf23a8e697479293": {
      "model_module": "@jupyter-widgets/base",
      "model_module_version": "2.0.0",
      "model_name": "LayoutModel",
      "state": {}
     },
     "2a133a295a234a4e881ad80b433dfe74": {
      "model_module": "@jupyter-widgets/base",
      "model_module_version": "2.0.0",
      "model_name": "LayoutModel",
      "state": {}
     },
     "2a24574f21964a5ea11febd8cb92f3fd": {
      "model_module": "@jupyter-widgets/controls",
      "model_module_version": "2.0.0",
      "model_name": "ProgressStyleModel",
      "state": {
       "description_width": ""
      }
     },
     "2ae092880adc4caa870cb4c321f7c425": {
      "model_module": "@jupyter-widgets/base",
      "model_module_version": "2.0.0",
      "model_name": "LayoutModel",
      "state": {}
     },
     "2b02a3ec776949ecaecfd8de67db2741": {
      "model_module": "@jupyter-widgets/controls",
      "model_module_version": "2.0.0",
      "model_name": "HTMLModel",
      "state": {
       "layout": "IPY_MODEL_e5fafe280b5546bdb5d99dd2a5b62c23",
       "style": "IPY_MODEL_68d30b9a8f4b456a86a40da91affab0a",
       "value": "3x3_5:  40%"
      }
     },
     "2b37666ed5de455d80e3d56c0a19b65d": {
      "model_module": "@jupyter-widgets/controls",
      "model_module_version": "2.0.0",
      "model_name": "HTMLStyleModel",
      "state": {
       "description_width": "",
       "font_size": null,
       "text_color": null
      }
     },
     "2ba2538108ec4977999841cca5ecf5e7": {
      "model_module": "@jupyter-widgets/base",
      "model_module_version": "2.0.0",
      "model_name": "LayoutModel",
      "state": {}
     },
     "2c5e5886b33a40e4848666efe806b7e6": {
      "model_module": "@jupyter-widgets/base",
      "model_module_version": "2.0.0",
      "model_name": "LayoutModel",
      "state": {}
     },
     "2c6e36478fc2473b865eea9878577bdc": {
      "model_module": "@jupyter-widgets/controls",
      "model_module_version": "2.0.0",
      "model_name": "FloatProgressModel",
      "state": {
       "bar_style": "success",
       "layout": "IPY_MODEL_4dc870dcbebe45c69a549ef8f67e79a6",
       "max": 23,
       "style": "IPY_MODEL_8b522dae1da74d2ba119779455d4a812",
       "value": 23
      }
     },
     "2ceee3cbc82c41da8f44e035bba84b3e": {
      "model_module": "@jupyter-widgets/base",
      "model_module_version": "2.0.0",
      "model_name": "LayoutModel",
      "state": {}
     },
     "2d1ad08124454810a25de846c7703e1d": {
      "model_module": "@jupyter-widgets/controls",
      "model_module_version": "2.0.0",
      "model_name": "HBoxModel",
      "state": {
       "children": [
        "IPY_MODEL_c8a71ddc8a624092b889df1227c838f4",
        "IPY_MODEL_1933929d57bd4cd3b01c66599853243b",
        "IPY_MODEL_258f6da7cbbe4d71b902a4c8d398ecc0"
       ],
       "layout": "IPY_MODEL_5e90acc161f44cadb5c98d816ccb45de"
      }
     },
     "2db022eaabc641d98f7b5a164ffa18d7": {
      "model_module": "@jupyter-widgets/controls",
      "model_module_version": "2.0.0",
      "model_name": "HTMLStyleModel",
      "state": {
       "description_width": "",
       "font_size": null,
       "text_color": null
      }
     },
     "2db4892b2ce8475b802bca02b6fea414": {
      "model_module": "@jupyter-widgets/controls",
      "model_module_version": "2.0.0",
      "model_name": "HTMLStyleModel",
      "state": {
       "description_width": "",
       "font_size": null,
       "text_color": null
      }
     },
     "2de644fea0c7445fb4a41ef68eb36a89": {
      "model_module": "@jupyter-widgets/base",
      "model_module_version": "2.0.0",
      "model_name": "LayoutModel",
      "state": {}
     },
     "2e9774a4aab14a23b40b399c76feec82": {
      "model_module": "@jupyter-widgets/base",
      "model_module_version": "2.0.0",
      "model_name": "LayoutModel",
      "state": {}
     },
     "2f8f3f44c07e4ca4a17c2d6500353ac8": {
      "model_module": "@jupyter-widgets/base",
      "model_module_version": "2.0.0",
      "model_name": "LayoutModel",
      "state": {}
     },
     "2fa36962f92b4468948426d38ec0c468": {
      "model_module": "@jupyter-widgets/controls",
      "model_module_version": "2.0.0",
      "model_name": "HBoxModel",
      "state": {
       "children": [
        "IPY_MODEL_9549860aef374a6dabff89b68ae4f46e",
        "IPY_MODEL_78d9a65553844a9cae1926b8f946c683",
        "IPY_MODEL_d353d5facd28432cbc35baf71816e55e"
       ],
       "layout": "IPY_MODEL_84625f0e2b50457ea9b97d078fe0ca3f"
      }
     },
     "300e29b250714d5abef801ab073044d7": {
      "model_module": "@jupyter-widgets/base",
      "model_module_version": "2.0.0",
      "model_name": "LayoutModel",
      "state": {}
     },
     "305405d806cd4121a6de919b1f194379": {
      "model_module": "@jupyter-widgets/controls",
      "model_module_version": "2.0.0",
      "model_name": "HTMLModel",
      "state": {
       "layout": "IPY_MODEL_308dea75b7534defbeec4bea5fe4cd20",
       "style": "IPY_MODEL_ef7ec719bf704734838a7959b80eefda",
       "value": " 17/17 [00:13&lt;00:00,  1.65it/s, Acc=58.50%, BestAcc=58.50%, F1=0.43, Prec=0.34, Rec=0.58]"
      }
     },
     "305425032ba94768a2e54b99e91124f1": {
      "model_module": "@jupyter-widgets/controls",
      "model_module_version": "2.0.0",
      "model_name": "ProgressStyleModel",
      "state": {
       "description_width": ""
      }
     },
     "30715522d2de4a4cbc9702f310417030": {
      "model_module": "@jupyter-widgets/controls",
      "model_module_version": "2.0.0",
      "model_name": "FloatProgressModel",
      "state": {
       "bar_style": "success",
       "layout": "IPY_MODEL_579f33f965aa435f9a6565c62e45d1f6",
       "max": 54,
       "style": "IPY_MODEL_b68f84c3f803416a8cf89f9724443124",
       "value": 54
      }
     },
     "30893308cbb342e3b2bd42b281400e1d": {
      "model_module": "@jupyter-widgets/base",
      "model_module_version": "2.0.0",
      "model_name": "LayoutModel",
      "state": {}
     },
     "308dea75b7534defbeec4bea5fe4cd20": {
      "model_module": "@jupyter-widgets/base",
      "model_module_version": "2.0.0",
      "model_name": "LayoutModel",
      "state": {}
     },
     "310d3dbd79524166bae75ccc91f23514": {
      "model_module": "@jupyter-widgets/controls",
      "model_module_version": "2.0.0",
      "model_name": "HBoxModel",
      "state": {
       "children": [
        "IPY_MODEL_aba229c36835467fae82f87cb903c40a",
        "IPY_MODEL_5fd634600fb7457b9b4cba6acd8286dd",
        "IPY_MODEL_afee0694d4f4443a92472f1fa4525392"
       ],
       "layout": "IPY_MODEL_7226a8147ee44eb1aa98ed36a61e757c"
      }
     },
     "3111661336744769929cb2b277d96bb0": {
      "model_module": "@jupyter-widgets/base",
      "model_module_version": "2.0.0",
      "model_name": "LayoutModel",
      "state": {}
     },
     "3139f84c22c0465b9cbe90b08315329a": {
      "model_module": "@jupyter-widgets/controls",
      "model_module_version": "2.0.0",
      "model_name": "FloatProgressModel",
      "state": {
       "bar_style": "success",
       "layout": "IPY_MODEL_721bf59dac57475cab7f8a94c2a092be",
       "max": 17,
       "style": "IPY_MODEL_67446326045e435d88c5e5772b489c18",
       "value": 17
      }
     },
     "31a93e7b18b64d32b6dbfda25ba28310": {
      "model_module": "@jupyter-widgets/base",
      "model_module_version": "2.0.0",
      "model_name": "LayoutModel",
      "state": {}
     },
     "31f98a66c21b4db897badb08f3c4d091": {
      "model_module": "@jupyter-widgets/base",
      "model_module_version": "2.0.0",
      "model_name": "LayoutModel",
      "state": {}
     },
     "3201c99229834b209e1f777b1b8e775a": {
      "model_module": "@jupyter-widgets/controls",
      "model_module_version": "2.0.0",
      "model_name": "HBoxModel",
      "state": {
       "children": [
        "IPY_MODEL_8808b67b5e014633b45b436e0c64ea4f",
        "IPY_MODEL_5dc557b7ee4f49529455fe506880a2e0",
        "IPY_MODEL_39056031bd8f4a5194aced93bc0d0482"
       ],
       "layout": "IPY_MODEL_81d2fc44e5594eb090d5d605a16fccb6"
      }
     },
     "327e703b301f493098431cc06221de9f": {
      "model_module": "@jupyter-widgets/controls",
      "model_module_version": "2.0.0",
      "model_name": "HTMLModel",
      "state": {
       "layout": "IPY_MODEL_a290add729dd4057bbed3f81d2c72574",
       "style": "IPY_MODEL_0ffde64528de450488bdb751a3217d93",
       "value": "3x3_2: 100%"
      }
     },
     "328c705a8f7e4fddbb5843e480ac6095": {
      "model_module": "@jupyter-widgets/controls",
      "model_module_version": "2.0.0",
      "model_name": "HBoxModel",
      "state": {
       "children": [
        "IPY_MODEL_03a6e38dbf694035aa6a13992332afe2",
        "IPY_MODEL_163c7044e3a249149e189dc0caf3ee29",
        "IPY_MODEL_f2973493c4f143be93a895481e557e45"
       ],
       "layout": "IPY_MODEL_31a93e7b18b64d32b6dbfda25ba28310"
      }
     },
     "328ced7605eb49d2830383afa3757132": {
      "model_module": "@jupyter-widgets/controls",
      "model_module_version": "2.0.0",
      "model_name": "HBoxModel",
      "state": {
       "children": [
        "IPY_MODEL_99d3fef4143d4d8898d337bb6ee7fa3b",
        "IPY_MODEL_30715522d2de4a4cbc9702f310417030",
        "IPY_MODEL_27d1b9fedff24a019df9ee03b9eb236f"
       ],
       "layout": "IPY_MODEL_d588b03c6eb2494da23990fd2eebb498"
      }
     },
     "328fe67db6f44d8ca2163844c8fd7c81": {
      "model_module": "@jupyter-widgets/controls",
      "model_module_version": "2.0.0",
      "model_name": "ProgressStyleModel",
      "state": {
       "description_width": ""
      }
     },
     "32964351026b4f488b3ce5b55492ea3d": {
      "model_module": "@jupyter-widgets/base",
      "model_module_version": "2.0.0",
      "model_name": "LayoutModel",
      "state": {}
     },
     "338f7bfa2a604c9d95d0a063cc968a3a": {
      "model_module": "@jupyter-widgets/controls",
      "model_module_version": "2.0.0",
      "model_name": "HTMLStyleModel",
      "state": {
       "description_width": "",
       "font_size": null,
       "text_color": null
      }
     },
     "339d008d66a349bb9cc8edf5429d9d6a": {
      "model_module": "@jupyter-widgets/base",
      "model_module_version": "2.0.0",
      "model_name": "LayoutModel",
      "state": {}
     },
     "33f05cf1357a4d1dbb5efb1b7fc7dae7": {
      "model_module": "@jupyter-widgets/controls",
      "model_module_version": "2.0.0",
      "model_name": "HTMLModel",
      "state": {
       "layout": "IPY_MODEL_eeb10a2345b84866aa5b84a4ae645d2a",
       "style": "IPY_MODEL_53db9a3094bd418b9d4c7e820a0b6c6e",
       "value": " 15/15 [00:11&lt;00:00,  1.78it/s, Acc=88.50%, BestAcc=88.50%, F1=0.88, Prec=0.90, Rec=0.89]"
      }
     },
     "33fb4cfc886340269d79f5e650a2ae79": {
      "model_module": "@jupyter-widgets/controls",
      "model_module_version": "2.0.0",
      "model_name": "HBoxModel",
      "state": {
       "children": [
        "IPY_MODEL_42ad5b62f0374a1da5b71c14cc3f3073",
        "IPY_MODEL_609bb7f5a2654c598da7bf8abc5d1ed7",
        "IPY_MODEL_1d4921963acc4b4b8f432eedeb3f836d"
       ],
       "layout": "IPY_MODEL_390c97fff2e642b885906174e873d9b5"
      }
     },
     "345d60818e2c4a2cbbdc19ee85d3c3c2": {
      "model_module": "@jupyter-widgets/base",
      "model_module_version": "2.0.0",
      "model_name": "LayoutModel",
      "state": {}
     },
     "348feb3eed434c1bb72fe528a652e224": {
      "model_module": "@jupyter-widgets/base",
      "model_module_version": "2.0.0",
      "model_name": "LayoutModel",
      "state": {}
     },
     "34e6337658234f839296455dd5d011ad": {
      "model_module": "@jupyter-widgets/controls",
      "model_module_version": "2.0.0",
      "model_name": "HBoxModel",
      "state": {
       "children": [
        "IPY_MODEL_3e2d8cf74bf94862acef73a4e98ef4e5",
        "IPY_MODEL_6f12fe640e5f433791daed869c8ba5b4",
        "IPY_MODEL_8c62b81f92d34b37bf4b1b7e214eccb8"
       ],
       "layout": "IPY_MODEL_876a719843fd42d4a60bfde8efe31aee"
      }
     },
     "35545a5a3df845bda944dec2107dea7b": {
      "model_module": "@jupyter-widgets/base",
      "model_module_version": "2.0.0",
      "model_name": "LayoutModel",
      "state": {}
     },
     "358e4765b6bf48fa8240a7a4a38b8603": {
      "model_module": "@jupyter-widgets/controls",
      "model_module_version": "2.0.0",
      "model_name": "HTMLStyleModel",
      "state": {
       "description_width": "",
       "font_size": null,
       "text_color": null
      }
     },
     "3604d076ae754ab78ee8c27c09418639": {
      "model_module": "@jupyter-widgets/controls",
      "model_module_version": "2.0.0",
      "model_name": "HBoxModel",
      "state": {
       "children": [
        "IPY_MODEL_e6d863fa98f641fb99164c5828502e1c",
        "IPY_MODEL_8f672a1079204dd6bf98fa1ffcac1eec",
        "IPY_MODEL_1f0c75d504544d839b4c6f3f2061c18a"
       ],
       "layout": "IPY_MODEL_1e459b1d21d64052872692eddef6bd28"
      }
     },
     "36505523c1a44a9e9ce2353afd9eaace": {
      "model_module": "@jupyter-widgets/controls",
      "model_module_version": "2.0.0",
      "model_name": "ProgressStyleModel",
      "state": {
       "description_width": ""
      }
     },
     "36651587c1714d0982ffca8e840a0dd0": {
      "model_module": "@jupyter-widgets/controls",
      "model_module_version": "2.0.0",
      "model_name": "HTMLModel",
      "state": {
       "layout": "IPY_MODEL_b6929e347f374050bc0670beaaeb0bf8",
       "style": "IPY_MODEL_183b6de6257f4c1da62a6fab5fc5abd6",
       "value": " 92/92 [00:55&lt;00:00,  2.07it/s, Acc=97.50%, BestAcc=98.50%, F1=0.98, Prec=0.99, Rec=0.98]"
      }
     },
     "36917c8b05a74c0fb0061522da41a545": {
      "model_module": "@jupyter-widgets/base",
      "model_module_version": "2.0.0",
      "model_name": "LayoutModel",
      "state": {}
     },
     "36ce66e2ddd141af97d41bb6b464b5a1": {
      "model_module": "@jupyter-widgets/controls",
      "model_module_version": "2.0.0",
      "model_name": "HTMLModel",
      "state": {
       "layout": "IPY_MODEL_7daaadfe8b8646d8bad571ce362aa189",
       "style": "IPY_MODEL_e4d34029cfb24ea1af453f3523280874",
       "value": " 75/75 [00:28&lt;00:00,  3.01it/s, Acc=68.00%, BestAcc=68.00%, F1=0.55, Prec=0.46, Rec=0.68]"
      }
     },
     "36ec9a24504247818e5e822433e4b964": {
      "model_module": "@jupyter-widgets/controls",
      "model_module_version": "2.0.0",
      "model_name": "HTMLStyleModel",
      "state": {
       "description_width": "",
       "font_size": null,
       "text_color": null
      }
     },
     "36f54eb6dd8d4197884eef594f299920": {
      "model_module": "@jupyter-widgets/base",
      "model_module_version": "2.0.0",
      "model_name": "LayoutModel",
      "state": {}
     },
     "375ff0d732554f3899e9719014738a88": {
      "model_module": "@jupyter-widgets/controls",
      "model_module_version": "2.0.0",
      "model_name": "HTMLModel",
      "state": {
       "layout": "IPY_MODEL_61db9de0949444c98953d4cd2eedbf9d",
       "style": "IPY_MODEL_6202e8f5e5494a5e86ede9e7ec17ac98",
       "value": "4x4_2: 100%"
      }
     },
     "3781bd0424e14d9b8dafd4dd6957a41d": {
      "model_module": "@jupyter-widgets/controls",
      "model_module_version": "2.0.0",
      "model_name": "HTMLModel",
      "state": {
       "layout": "IPY_MODEL_f860854f3f814147b991d2e3f7cb4d22",
       "style": "IPY_MODEL_535e3875a5a341449a5df24ae5784ccd",
       "value": "4x4_2: 100%"
      }
     },
     "37c7c0364ae3421081d1ad4d56f3dcd9": {
      "model_module": "@jupyter-widgets/controls",
      "model_module_version": "2.0.0",
      "model_name": "HTMLStyleModel",
      "state": {
       "description_width": "",
       "font_size": null,
       "text_color": null
      }
     },
     "37dddd7cb3e2445aa5cf3da3965b8d0c": {
      "model_module": "@jupyter-widgets/base",
      "model_module_version": "2.0.0",
      "model_name": "LayoutModel",
      "state": {}
     },
     "37f6e5cf92114b54b0090d4034de535c": {
      "model_module": "@jupyter-widgets/controls",
      "model_module_version": "2.0.0",
      "model_name": "HBoxModel",
      "state": {
       "children": [
        "IPY_MODEL_38a01430c811456187696f232de4c0d4",
        "IPY_MODEL_9b7cb52795e9442288f701e60a2d0395",
        "IPY_MODEL_d76c21646a6a48588be371dfa4892d53"
       ],
       "layout": "IPY_MODEL_4969f43e433245d7bd3503b41ad7b235"
      }
     },
     "3807017a23db421bbc25ac0ba9ba65dd": {
      "model_module": "@jupyter-widgets/controls",
      "model_module_version": "2.0.0",
      "model_name": "FloatProgressModel",
      "state": {
       "bar_style": "success",
       "layout": "IPY_MODEL_694ade47ec53401680fff582d41e4916",
       "max": 74,
       "style": "IPY_MODEL_9f416db65c354364834d592a16359b98",
       "value": 74
      }
     },
     "3819bdebf88f4e22be558a5877e3d409": {
      "model_module": "@jupyter-widgets/controls",
      "model_module_version": "2.0.0",
      "model_name": "FloatProgressModel",
      "state": {
       "layout": "IPY_MODEL_7c389b1720b143499027a3ae2955648a",
       "max": 3,
       "style": "IPY_MODEL_59768c55b0ae4deaa92aef1f52fac67e",
       "value": 3
      }
     },
     "3869157f47694c2e98377bf0ddc8fb03": {
      "model_module": "@jupyter-widgets/controls",
      "model_module_version": "2.0.0",
      "model_name": "FloatProgressModel",
      "state": {
       "bar_style": "success",
       "layout": "IPY_MODEL_8e6a72d069fb44cbba8af673e4cb0ab6",
       "max": 69,
       "style": "IPY_MODEL_65b315f1cb814098a10acd12ced19356",
       "value": 69
      }
     },
     "38a01430c811456187696f232de4c0d4": {
      "model_module": "@jupyter-widgets/controls",
      "model_module_version": "2.0.0",
      "model_name": "HTMLModel",
      "state": {
       "layout": "IPY_MODEL_c4d54a35fcf24a03ae6b987ef51bbe73",
       "style": "IPY_MODEL_0be2e802174e4e538bf4cbbeca94c015",
       "value": "3x3_2: 100%"
      }
     },
     "38c8c63933914344b63b08ebb2db5831": {
      "model_module": "@jupyter-widgets/base",
      "model_module_version": "2.0.0",
      "model_name": "LayoutModel",
      "state": {}
     },
     "39056031bd8f4a5194aced93bc0d0482": {
      "model_module": "@jupyter-widgets/controls",
      "model_module_version": "2.0.0",
      "model_name": "HTMLModel",
      "state": {
       "layout": "IPY_MODEL_5de16ed18bbe404692451c19dcb58bee",
       "style": "IPY_MODEL_14af6ea4ac4b452198e60a7f080b5517",
       "value": " 26/26 [00:18&lt;00:00,  1.79it/s, Acc=68.00%, BestAcc=68.00%, F1=0.55, Prec=0.46, Rec=0.68]"
      }
     },
     "390c97fff2e642b885906174e873d9b5": {
      "model_module": "@jupyter-widgets/base",
      "model_module_version": "2.0.0",
      "model_name": "LayoutModel",
      "state": {}
     },
     "394c759782b946cdbd9cdd225dd0934b": {
      "model_module": "@jupyter-widgets/controls",
      "model_module_version": "2.0.0",
      "model_name": "HBoxModel",
      "state": {
       "children": [
        "IPY_MODEL_40293e8f41774d7399604675cbf52ca3",
        "IPY_MODEL_7aa1ce1b29444553a136a4097fb57af6",
        "IPY_MODEL_c115ee93631849dcb071d38209addcd0"
       ],
       "layout": "IPY_MODEL_53bc2a5049da42728f73eaa22d486895"
      }
     },
     "39d42519087b436e8c248e36e1a50283": {
      "model_module": "@jupyter-widgets/controls",
      "model_module_version": "2.0.0",
      "model_name": "FloatProgressModel",
      "state": {
       "bar_style": "success",
       "layout": "IPY_MODEL_cc1e059694b743f6867f06eb37f79a41",
       "max": 86,
       "style": "IPY_MODEL_b7848bb63e12489789c10105465e62a6",
       "value": 86
      }
     },
     "39f55df87d2d46aab284dede79947542": {
      "model_module": "@jupyter-widgets/base",
      "model_module_version": "2.0.0",
      "model_name": "LayoutModel",
      "state": {}
     },
     "3a6ee4ac66054a2b9cce22355bfe2cf7": {
      "model_module": "@jupyter-widgets/base",
      "model_module_version": "2.0.0",
      "model_name": "LayoutModel",
      "state": {}
     },
     "3a78f739db804fb09b3643ab292e4054": {
      "model_module": "@jupyter-widgets/controls",
      "model_module_version": "2.0.0",
      "model_name": "FloatProgressModel",
      "state": {
       "bar_style": "danger",
       "layout": "IPY_MODEL_98856a46d061467c8e2b2ef50feec061",
       "max": 80,
       "style": "IPY_MODEL_02c57e2f845f49d0ae35f25ca0a50013",
       "value": 58
      }
     },
     "3ae285c628724a65a2d2df3899cc149e": {
      "model_module": "@jupyter-widgets/controls",
      "model_module_version": "2.0.0",
      "model_name": "HTMLStyleModel",
      "state": {
       "description_width": "",
       "font_size": null,
       "text_color": null
      }
     },
     "3b60e72eedc241cc83ee6ad7c82ff876": {
      "model_module": "@jupyter-widgets/controls",
      "model_module_version": "2.0.0",
      "model_name": "HTMLStyleModel",
      "state": {
       "description_width": "",
       "font_size": null,
       "text_color": null
      }
     },
     "3c943f124a65492ca3c1b6ebac2271f8": {
      "model_module": "@jupyter-widgets/controls",
      "model_module_version": "2.0.0",
      "model_name": "HTMLModel",
      "state": {
       "layout": "IPY_MODEL_81d413a0cf6344878aeecda75a62bbb8",
       "style": "IPY_MODEL_07ba0846ca904aa4bcf4394857f706a9",
       "value": " 29/29 [00:14&lt;00:00,  2.56it/s, Acc=59.00%, BestAcc=61.00%, F1=0.49, Prec=0.77, Rec=0.61]"
      }
     },
     "3ce73fe3ffeb4ba4b9c3c9f5cb25d04b": {
      "model_module": "@jupyter-widgets/controls",
      "model_module_version": "2.0.0",
      "model_name": "HTMLModel",
      "state": {
       "layout": "IPY_MODEL_278ac3b787c84ba6be945ff54107b3e5",
       "style": "IPY_MODEL_37c7c0364ae3421081d1ad4d56f3dcd9",
       "value": " 39/39 [00:18&lt;00:00,  2.81it/s, Acc=97.50%, BestAcc=98.50%, F1=0.98, Prec=0.99, Rec=0.98]"
      }
     },
     "3cfb1fc955574b4fae3910da4b132da3": {
      "model_module": "@jupyter-widgets/controls",
      "model_module_version": "2.0.0",
      "model_name": "HTMLModel",
      "state": {
       "layout": "IPY_MODEL_868ee5b7b9944b47a888dbf1410381d4",
       "style": "IPY_MODEL_94e94a197e4a49d4aaf442798f2062a9",
       "value": " 21/21 [00:11&lt;00:00,  2.79it/s, Acc=92.00%, BestAcc=92.00%, F1=0.92, Prec=0.93, Rec=0.92]"
      }
     },
     "3d2d35dda22c42f6906b72ce842ba376": {
      "model_module": "@jupyter-widgets/controls",
      "model_module_version": "2.0.0",
      "model_name": "HTMLStyleModel",
      "state": {
       "description_width": "",
       "font_size": null,
       "text_color": null
      }
     },
     "3d303ac8a98f4ed8ad16a680b5078f16": {
      "model_module": "@jupyter-widgets/controls",
      "model_module_version": "2.0.0",
      "model_name": "HTMLModel",
      "state": {
       "layout": "IPY_MODEL_e9ed7b59a2f94e85b084c812747151e0",
       "style": "IPY_MODEL_23f15d1e556a4de6a7f7ed7da688e863",
       "value": " 85/85 [00:34&lt;00:00,  2.71it/s, Acc=75.00%, BestAcc=78.00%, F1=0.75, Prec=0.80, Rec=0.78]"
      }
     },
     "3d5c09869f58453ebe1159861174b477": {
      "model_module": "@jupyter-widgets/controls",
      "model_module_version": "2.0.0",
      "model_name": "HTMLModel",
      "state": {
       "layout": "IPY_MODEL_a6ccb82d8ef64bccbd2f1a068dbcee18",
       "style": "IPY_MODEL_28818391684b4be38c3213fb2b325495",
       "value": " 35/35 [00:16&lt;00:00,  2.68it/s, Acc=92.00%, BestAcc=92.00%, F1=0.92, Prec=0.93, Rec=0.92]"
      }
     },
     "3d8c135a463e474fac115400438d13e8": {
      "model_module": "@jupyter-widgets/controls",
      "model_module_version": "2.0.0",
      "model_name": "FloatProgressModel",
      "state": {
       "bar_style": "success",
       "layout": "IPY_MODEL_b5015ed9576e44b1b9ad8a5acef36d06",
       "max": 52,
       "style": "IPY_MODEL_2a24574f21964a5ea11febd8cb92f3fd",
       "value": 52
      }
     },
     "3dc0dc12c0ef4d2d9c513f07d1a66f52": {
      "model_module": "@jupyter-widgets/controls",
      "model_module_version": "2.0.0",
      "model_name": "HTMLStyleModel",
      "state": {
       "description_width": "",
       "font_size": null,
       "text_color": null
      }
     },
     "3deb0fa590664fe09b6ed7cadb116047": {
      "model_module": "@jupyter-widgets/controls",
      "model_module_version": "2.0.0",
      "model_name": "HBoxModel",
      "state": {
       "children": [
        "IPY_MODEL_777da17d973a4b298a04e8d2a95e1648",
        "IPY_MODEL_d77b7931a44b40a8bb0913f24160b2fe",
        "IPY_MODEL_b217d1f0e2d248859a13f6b50d812430"
       ],
       "layout": "IPY_MODEL_6c2d02b9d397486e8240ece3fc000b74"
      }
     },
     "3e2d8cf74bf94862acef73a4e98ef4e5": {
      "model_module": "@jupyter-widgets/controls",
      "model_module_version": "2.0.0",
      "model_name": "HTMLModel",
      "state": {
       "layout": "IPY_MODEL_f42c433e26c64199909b44b8fb2179a2",
       "style": "IPY_MODEL_1212d46209a246d1be3f6199dd224fa4",
       "value": "6x6_0:   0%"
      }
     },
     "3e7803330e3245339b9ce4d05748cdb8": {
      "model_module": "@jupyter-widgets/controls",
      "model_module_version": "2.0.0",
      "model_name": "FloatProgressModel",
      "state": {
       "bar_style": "success",
       "layout": "IPY_MODEL_879da435d8e945c79478e06956efa25c",
       "max": 42,
       "style": "IPY_MODEL_597c0a2aaddf4d74aa837e6d88499cce",
       "value": 42
      }
     },
     "3f5e0a97e8b140c7bcc3afca927d7df6": {
      "model_module": "@jupyter-widgets/controls",
      "model_module_version": "2.0.0",
      "model_name": "HTMLModel",
      "state": {
       "layout": "IPY_MODEL_f328f0a2815841478a515ff0876d8d2a",
       "style": "IPY_MODEL_7081649a2ef14d3d962163c470993a55",
       "value": " 65/65 [00:25&lt;00:00,  2.89it/s, Acc=98.50%, BestAcc=99.50%, F1=1.00, Prec=1.00, Rec=0.99]"
      }
     },
     "3f84a9f5e80f435084583ffb3d8e6fee": {
      "model_module": "@jupyter-widgets/controls",
      "model_module_version": "2.0.0",
      "model_name": "HTMLModel",
      "state": {
       "layout": "IPY_MODEL_e4656fe1f3b94fa8a18f2b66efbf2c56",
       "style": "IPY_MODEL_8c5276d67f44409ca285cd4d137a74e3",
       "value": " 45/45 [00:20&lt;00:00,  2.93it/s, Acc=98.00%, BestAcc=98.50%, F1=0.98, Prec=0.99, Rec=0.98]"
      }
     },
     "3ffb5033300a4cd9b79f15fe29cb0d2e": {
      "model_module": "@jupyter-widgets/controls",
      "model_module_version": "2.0.0",
      "model_name": "HTMLStyleModel",
      "state": {
       "description_width": "",
       "font_size": null,
       "text_color": null
      }
     },
     "40235d93e35641579c71f07ad8b7681c": {
      "model_module": "@jupyter-widgets/controls",
      "model_module_version": "2.0.0",
      "model_name": "HTMLModel",
      "state": {
       "layout": "IPY_MODEL_c21e8acb289341938bc2425a9bc4caac",
       "style": "IPY_MODEL_917ad14c4eca48158f279cdecd5e6720",
       "value": "3x3_2: 100%"
      }
     },
     "40293e8f41774d7399604675cbf52ca3": {
      "model_module": "@jupyter-widgets/controls",
      "model_module_version": "2.0.0",
      "model_name": "HTMLModel",
      "state": {
       "layout": "IPY_MODEL_a07aa01c720a43e09d8b56dcf6e9423e",
       "style": "IPY_MODEL_b05ddaeaea074b3da4798b87d323d126",
       "value": "4x4_2: 100%"
      }
     },
     "40a3c7b3a3db4a6eae3d9f0c44838860": {
      "model_module": "@jupyter-widgets/base",
      "model_module_version": "2.0.0",
      "model_name": "LayoutModel",
      "state": {}
     },
     "40a62576fd7747b7bc13440c84cc9a6c": {
      "model_module": "@jupyter-widgets/controls",
      "model_module_version": "2.0.0",
      "model_name": "HBoxModel",
      "state": {
       "children": [
        "IPY_MODEL_5ad9ead10ac74e9ab9f8aed669d6d960",
        "IPY_MODEL_0867a3059ad84596b6adbd915af3b0b4",
        "IPY_MODEL_3c943f124a65492ca3c1b6ebac2271f8"
       ],
       "layout": "IPY_MODEL_ec86e0894266479c95d985e335a16f24"
      }
     },
     "40c15dca7d1c46438e8f0e3df8cbd9f0": {
      "model_module": "@jupyter-widgets/controls",
      "model_module_version": "2.0.0",
      "model_name": "HTMLStyleModel",
      "state": {
       "description_width": "",
       "font_size": null,
       "text_color": null
      }
     },
     "40cd9acf282d4ee4bdd36d33098ebdf1": {
      "model_module": "@jupyter-widgets/controls",
      "model_module_version": "2.0.0",
      "model_name": "HTMLStyleModel",
      "state": {
       "description_width": "",
       "font_size": null,
       "text_color": null
      }
     },
     "41858503e5b74bde8d5696e978dc10c4": {
      "model_module": "@jupyter-widgets/controls",
      "model_module_version": "2.0.0",
      "model_name": "ProgressStyleModel",
      "state": {
       "description_width": ""
      }
     },
     "41ca7d5258af4d6588f1c3649b5f6a4e": {
      "model_module": "@jupyter-widgets/base",
      "model_module_version": "2.0.0",
      "model_name": "LayoutModel",
      "state": {}
     },
     "42ad5b62f0374a1da5b71c14cc3f3073": {
      "model_module": "@jupyter-widgets/controls",
      "model_module_version": "2.0.0",
      "model_name": "HTMLModel",
      "state": {
       "layout": "IPY_MODEL_2ceee3cbc82c41da8f44e035bba84b3e",
       "style": "IPY_MODEL_7dad5edc3b114895bbda17da865174ce",
       "value": "3x3_2: 100%"
      }
     },
     "430c23fdf99e4043913431c822d34c8a": {
      "model_module": "@jupyter-widgets/controls",
      "model_module_version": "2.0.0",
      "model_name": "HTMLStyleModel",
      "state": {
       "description_width": "",
       "font_size": null,
       "text_color": null
      }
     },
     "432209c6f87b4230924c7b6f563bd526": {
      "model_module": "@jupyter-widgets/base",
      "model_module_version": "2.0.0",
      "model_name": "LayoutModel",
      "state": {}
     },
     "445b65ffada947e2825e412ba2db1a76": {
      "model_module": "@jupyter-widgets/base",
      "model_module_version": "2.0.0",
      "model_name": "LayoutModel",
      "state": {}
     },
     "446782fe93aa49228bdbeba32b07577f": {
      "model_module": "@jupyter-widgets/controls",
      "model_module_version": "2.0.0",
      "model_name": "HTMLModel",
      "state": {
       "layout": "IPY_MODEL_c3b8887cdb3a46a0a675ce626daf05e7",
       "style": "IPY_MODEL_7e9b2fefd69844ddacf5674e0141f289",
       "value": " 31/31 [00:19&lt;00:00,  1.88it/s, Acc=88.00%, BestAcc=92.00%, F1=0.92, Prec=0.93, Rec=0.92]"
      }
     },
     "44f356204875472fb6a12911af04ddf1": {
      "model_module": "@jupyter-widgets/controls",
      "model_module_version": "2.0.0",
      "model_name": "ProgressStyleModel",
      "state": {
       "description_width": ""
      }
     },
     "450c76cca9c94f20b7900debe88348b5": {
      "model_module": "@jupyter-widgets/controls",
      "model_module_version": "2.0.0",
      "model_name": "HTMLStyleModel",
      "state": {
       "description_width": "",
       "font_size": null,
       "text_color": null
      }
     },
     "452366eddb914083831eccc45ca5ecef": {
      "model_module": "@jupyter-widgets/base",
      "model_module_version": "2.0.0",
      "model_name": "LayoutModel",
      "state": {
       "visibility": "hidden"
      }
     },
     "45752775326647a78227ef73181522ab": {
      "model_module": "@jupyter-widgets/controls",
      "model_module_version": "2.0.0",
      "model_name": "HBoxModel",
      "state": {
       "children": [
        "IPY_MODEL_87f91847cdf84286ae7df6a8f44b97d1",
        "IPY_MODEL_2c6e36478fc2473b865eea9878577bdc",
        "IPY_MODEL_23190780ffef4609b6a30d6855969cee"
       ],
       "layout": "IPY_MODEL_7634e806562d4e2f85f0a35717e25703"
      }
     },
     "457870e85ed04e77ae1ef8e57f82d5a5": {
      "model_module": "@jupyter-widgets/controls",
      "model_module_version": "2.0.0",
      "model_name": "HTMLStyleModel",
      "state": {
       "description_width": "",
       "font_size": null,
       "text_color": null
      }
     },
     "45d2cbbbc440472da35891de7a63d02b": {
      "model_module": "@jupyter-widgets/controls",
      "model_module_version": "2.0.0",
      "model_name": "FloatProgressModel",
      "state": {
       "bar_style": "success",
       "layout": "IPY_MODEL_0a91d28430744ddd86184271f6165cc2",
       "max": 42,
       "style": "IPY_MODEL_dc3fc1eb5f37411a825fec296acbf91f",
       "value": 42
      }
     },
     "45e2d6b68ec7400b88c03d4b9ea4f134": {
      "model_module": "@jupyter-widgets/base",
      "model_module_version": "2.0.0",
      "model_name": "LayoutModel",
      "state": {}
     },
     "45e7408f0a474bf1a81da532d8ba9a99": {
      "model_module": "@jupyter-widgets/controls",
      "model_module_version": "2.0.0",
      "model_name": "HTMLModel",
      "state": {
       "layout": "IPY_MODEL_c5ac87a1462345eead4121e8e08f3204",
       "style": "IPY_MODEL_338f7bfa2a604c9d95d0a063cc968a3a",
       "value": " 66/66 [00:36&lt;00:00,  1.94it/s, Acc=75.50%, BestAcc=95.00%, F1=0.95, Prec=0.95, Rec=0.95]"
      }
     },
     "4687afbf31b04b48aa61748cebe10988": {
      "model_module": "@jupyter-widgets/base",
      "model_module_version": "2.0.0",
      "model_name": "LayoutModel",
      "state": {}
     },
     "46bf067c0e1f41f8b986c06f6fbd91a3": {
      "model_module": "@jupyter-widgets/controls",
      "model_module_version": "2.0.0",
      "model_name": "HBoxModel",
      "state": {
       "children": [
        "IPY_MODEL_adf34176ea874fa98fe28e9085cadcca",
        "IPY_MODEL_1bcf99d4e55d480cb92cb851a3d3b819",
        "IPY_MODEL_0c1a7e3498314eb89e685df3bc546b34"
       ],
       "layout": "IPY_MODEL_b4bdd9dea63e4e18a0181641e50565da"
      }
     },
     "46d7b4f8c170447da887177875bd1555": {
      "model_module": "@jupyter-widgets/controls",
      "model_module_version": "2.0.0",
      "model_name": "HTMLModel",
      "state": {
       "layout": "IPY_MODEL_01f7ca13f4a14bcdbe8cecd83c488bf5",
       "style": "IPY_MODEL_64fecbff6a08453ba6bdcbfa87e158df",
       "value": " 27/27 [00:21&lt;00:00,  1.59it/s, Acc=86.00%, BestAcc=86.00%, F1=0.85, Prec=0.88, Rec=0.86]"
      }
     },
     "471f14e60d7744f2809e754a57001969": {
      "model_module": "@jupyter-widgets/controls",
      "model_module_version": "2.0.0",
      "model_name": "ProgressStyleModel",
      "state": {
       "description_width": ""
      }
     },
     "472b351a22ad4ae0a05ccec06662a0bd": {
      "model_module": "@jupyter-widgets/base",
      "model_module_version": "2.0.0",
      "model_name": "LayoutModel",
      "state": {}
     },
     "475568baaea449df9512a8514e649a02": {
      "model_module": "@jupyter-widgets/controls",
      "model_module_version": "2.0.0",
      "model_name": "FloatProgressModel",
      "state": {
       "bar_style": "success",
       "layout": "IPY_MODEL_58bdbba130c24ec8a247a191d051e8cb",
       "max": 82,
       "style": "IPY_MODEL_5c92e6e1335f4c7ca45901f405f106b4",
       "value": 82
      }
     },
     "477ac52801ae498bb3fcbb89179c68bd": {
      "model_module": "@jupyter-widgets/base",
      "model_module_version": "2.0.0",
      "model_name": "LayoutModel",
      "state": {}
     },
     "4788ad45d9734f098a78d21aec1f2c15": {
      "model_module": "@jupyter-widgets/base",
      "model_module_version": "2.0.0",
      "model_name": "LayoutModel",
      "state": {}
     },
     "47d02669f4f745d4b7ff470be8b92b48": {
      "model_module": "@jupyter-widgets/controls",
      "model_module_version": "2.0.0",
      "model_name": "FloatProgressModel",
      "state": {
       "layout": "IPY_MODEL_9c079b0f3b1b44ed8da08003bd1636be",
       "max": 3,
       "style": "IPY_MODEL_1da698cef3134475add40306aeaef145"
      }
     },
     "47fb5ef498a34a96bcf243efff5ffcd4": {
      "model_module": "@jupyter-widgets/base",
      "model_module_version": "2.0.0",
      "model_name": "LayoutModel",
      "state": {}
     },
     "4800ed83b53d49988e8f1b1600259a3b": {
      "model_module": "@jupyter-widgets/base",
      "model_module_version": "2.0.0",
      "model_name": "LayoutModel",
      "state": {}
     },
     "48c8e83d2540464f920c242cf52d4e44": {
      "model_module": "@jupyter-widgets/controls",
      "model_module_version": "2.0.0",
      "model_name": "FloatProgressModel",
      "state": {
       "bar_style": "success",
       "layout": "IPY_MODEL_6dc9787ef3a7453b916001edea0395d6",
       "max": 77,
       "style": "IPY_MODEL_18137c0ba1d048c7a4a9984985dfa46d",
       "value": 77
      }
     },
     "48ee63d2386643e9b47bdd7d75e0e908": {
      "model_module": "@jupyter-widgets/controls",
      "model_module_version": "2.0.0",
      "model_name": "ProgressStyleModel",
      "state": {
       "description_width": ""
      }
     },
     "490b4bdd627344a8b711a8685af9a286": {
      "model_module": "@jupyter-widgets/controls",
      "model_module_version": "2.0.0",
      "model_name": "HTMLModel",
      "state": {
       "layout": "IPY_MODEL_38c8c63933914344b63b08ebb2db5831",
       "style": "IPY_MODEL_740c4e3384ff406a86e96d5d48726e23",
       "value": "3x3_2: 100%"
      }
     },
     "4969f43e433245d7bd3503b41ad7b235": {
      "model_module": "@jupyter-widgets/base",
      "model_module_version": "2.0.0",
      "model_name": "LayoutModel",
      "state": {}
     },
     "49b1e8cdac68460b9507036c85b5dcf8": {
      "model_module": "@jupyter-widgets/base",
      "model_module_version": "2.0.0",
      "model_name": "LayoutModel",
      "state": {}
     },
     "49d418ace9c3426abbe1913a7866e27a": {
      "model_module": "@jupyter-widgets/base",
      "model_module_version": "2.0.0",
      "model_name": "LayoutModel",
      "state": {}
     },
     "4a44a0efa34d4c388203b3da36742483": {
      "model_module": "@jupyter-widgets/base",
      "model_module_version": "2.0.0",
      "model_name": "LayoutModel",
      "state": {}
     },
     "4a8dd1d6b1bb47fab742daad38aab311": {
      "model_module": "@jupyter-widgets/controls",
      "model_module_version": "2.0.0",
      "model_name": "HTMLStyleModel",
      "state": {
       "description_width": "",
       "font_size": null,
       "text_color": null
      }
     },
     "4aa8f9b36d25488281c4de1fd4ea46a7": {
      "model_module": "@jupyter-widgets/base",
      "model_module_version": "2.0.0",
      "model_name": "LayoutModel",
      "state": {}
     },
     "4acc96357c1b407cb38122e2f784ef2f": {
      "model_module": "@jupyter-widgets/base",
      "model_module_version": "2.0.0",
      "model_name": "LayoutModel",
      "state": {}
     },
     "4ae4a1cf4e6346ae9234c33de5a8a467": {
      "model_module": "@jupyter-widgets/base",
      "model_module_version": "2.0.0",
      "model_name": "LayoutModel",
      "state": {}
     },
     "4b3e04c1d87e46608db7e5a4c643a011": {
      "model_module": "@jupyter-widgets/controls",
      "model_module_version": "2.0.0",
      "model_name": "HTMLStyleModel",
      "state": {
       "description_width": "",
       "font_size": null,
       "text_color": null
      }
     },
     "4bb84eaeb60e45089ab1ba0958a054c7": {
      "model_module": "@jupyter-widgets/controls",
      "model_module_version": "2.0.0",
      "model_name": "HTMLStyleModel",
      "state": {
       "description_width": "",
       "font_size": null,
       "text_color": null
      }
     },
     "4bdd8ae45eb246e29e6125152bed25cb": {
      "model_module": "@jupyter-widgets/base",
      "model_module_version": "2.0.0",
      "model_name": "LayoutModel",
      "state": {}
     },
     "4c0cdf6a90ea4d6ebacb485ae9a82fc2": {
      "model_module": "@jupyter-widgets/base",
      "model_module_version": "2.0.0",
      "model_name": "LayoutModel",
      "state": {}
     },
     "4c71b57a63a84943b564ef0a18240eeb": {
      "model_module": "@jupyter-widgets/controls",
      "model_module_version": "2.0.0",
      "model_name": "HTMLModel",
      "state": {
       "layout": "IPY_MODEL_a41faccece3e471585c0613bd1b77071",
       "style": "IPY_MODEL_542ea11f5ef04e5287d511a5182f9b6e",
       "value": "3x3_2: 100%"
      }
     },
     "4c90d09dfcd4433aaa30788b7983465c": {
      "model_module": "@jupyter-widgets/controls",
      "model_module_version": "2.0.0",
      "model_name": "HBoxModel",
      "state": {
       "children": [
        "IPY_MODEL_b0def78106be4467a96dfe72187dcaa1",
        "IPY_MODEL_f40452a73b2943a587052beca12577d7",
        "IPY_MODEL_efc124ef0b5046deb25a16598b91b242"
       ],
       "layout": "IPY_MODEL_e33f76c436cb43128bb44d816000148e"
      }
     },
     "4cd2cc76606f4194a9af4c904e000710": {
      "model_module": "@jupyter-widgets/base",
      "model_module_version": "2.0.0",
      "model_name": "LayoutModel",
      "state": {}
     },
     "4d2cb0fb66db4a189758dd364ca58e53": {
      "model_module": "@jupyter-widgets/base",
      "model_module_version": "2.0.0",
      "model_name": "LayoutModel",
      "state": {}
     },
     "4dc870dcbebe45c69a549ef8f67e79a6": {
      "model_module": "@jupyter-widgets/base",
      "model_module_version": "2.0.0",
      "model_name": "LayoutModel",
      "state": {}
     },
     "4df871ca389d4dd2b83ab64753a1d267": {
      "model_module": "@jupyter-widgets/base",
      "model_module_version": "2.0.0",
      "model_name": "LayoutModel",
      "state": {}
     },
     "4e0c48a455f441659dd21304252cb2e1": {
      "model_module": "@jupyter-widgets/controls",
      "model_module_version": "2.0.0",
      "model_name": "ProgressStyleModel",
      "state": {
       "description_width": ""
      }
     },
     "4e24deb5df25487eb7b368df1167523b": {
      "model_module": "@jupyter-widgets/controls",
      "model_module_version": "2.0.0",
      "model_name": "FloatProgressModel",
      "state": {
       "bar_style": "success",
       "layout": "IPY_MODEL_d02738a039df4bdea577b4a52d6be218",
       "max": 21,
       "style": "IPY_MODEL_9ac615a717b04275bcb08cd52d9bb323",
       "value": 21
      }
     },
     "4e3fdfa3c158481984cdbac28b726e7d": {
      "model_module": "@jupyter-widgets/base",
      "model_module_version": "2.0.0",
      "model_name": "LayoutModel",
      "state": {}
     },
     "4e886f4da3004b169d7607570f6718ec": {
      "model_module": "@jupyter-widgets/controls",
      "model_module_version": "2.0.0",
      "model_name": "HTMLStyleModel",
      "state": {
       "description_width": "",
       "font_size": null,
       "text_color": null
      }
     },
     "4f0bb3796c954082a5799939c9c7ca17": {
      "model_module": "@jupyter-widgets/controls",
      "model_module_version": "2.0.0",
      "model_name": "HTMLStyleModel",
      "state": {
       "description_width": "",
       "font_size": null,
       "text_color": null
      }
     },
     "4f7cc44e93894024a121eac0be8231fc": {
      "model_module": "@jupyter-widgets/controls",
      "model_module_version": "2.0.0",
      "model_name": "HTMLModel",
      "state": {
       "layout": "IPY_MODEL_0efe94a65e1849eaac8008087b1aa7fb",
       "style": "IPY_MODEL_36ec9a24504247818e5e822433e4b964",
       "value": "3x3_2: 100%"
      }
     },
     "4fba799387074afdb285e713e841b201": {
      "model_module": "@jupyter-widgets/controls",
      "model_module_version": "2.0.0",
      "model_name": "HTMLStyleModel",
      "state": {
       "description_width": "",
       "font_size": null,
       "text_color": null
      }
     },
     "4fe34a99478343d6bee946b24f70665f": {
      "model_module": "@jupyter-widgets/controls",
      "model_module_version": "2.0.0",
      "model_name": "HTMLModel",
      "state": {
       "layout": "IPY_MODEL_b8f77271b93442938e9b85c6d380524a",
       "style": "IPY_MODEL_ef8db0a242e34a5e9fc32e11542f918a",
       "value": "3x3_2: 100%"
      }
     },
     "500e235f8dd34f1496a02412dd1bf276": {
      "model_module": "@jupyter-widgets/controls",
      "model_module_version": "2.0.0",
      "model_name": "HTMLStyleModel",
      "state": {
       "description_width": "",
       "font_size": null,
       "text_color": null
      }
     },
     "5086500011f44e10b0eb58fef117c7d0": {
      "model_module": "@jupyter-widgets/controls",
      "model_module_version": "2.0.0",
      "model_name": "HTMLModel",
      "state": {
       "layout": "IPY_MODEL_32964351026b4f488b3ce5b55492ea3d",
       "style": "IPY_MODEL_89126329672c401daf8b7545871ecb41",
       "value": "3x3_2: 100%"
      }
     },
     "50a0255be1624d7387ffe4660955e113": {
      "model_module": "@jupyter-widgets/base",
      "model_module_version": "2.0.0",
      "model_name": "LayoutModel",
      "state": {}
     },
     "50dc1361a00f42db850586e9136dd918": {
      "model_module": "@jupyter-widgets/controls",
      "model_module_version": "2.0.0",
      "model_name": "HTMLStyleModel",
      "state": {
       "description_width": "",
       "font_size": null,
       "text_color": null
      }
     },
     "50dca90005c14422a322bdf16987aa16": {
      "model_module": "@jupyter-widgets/controls",
      "model_module_version": "2.0.0",
      "model_name": "HBoxModel",
      "state": {
       "children": [
        "IPY_MODEL_9404fe1255254c3a8c20d79fafcb6ace",
        "IPY_MODEL_93e4543e34434a9a97b796a74debd754",
        "IPY_MODEL_d433345a906543fc84deb52dbd637c5a"
       ],
       "layout": "IPY_MODEL_6c6e630d4a2d4df5a1099412738cc401"
      }
     },
     "51409dfe58264ffca00b613b804ab017": {
      "model_module": "@jupyter-widgets/controls",
      "model_module_version": "2.0.0",
      "model_name": "HTMLModel",
      "state": {
       "layout": "IPY_MODEL_4acc96357c1b407cb38122e2f784ef2f",
       "style": "IPY_MODEL_1867190a050049d08b170c636a783844",
       "value": "4x4_2: 100%"
      }
     },
     "51429e858e3249858761d5df7fd6948b": {
      "model_module": "@jupyter-widgets/controls",
      "model_module_version": "2.0.0",
      "model_name": "HTMLStyleModel",
      "state": {
       "description_width": "",
       "font_size": null,
       "text_color": null
      }
     },
     "517b4d3ff6e649a38bc851a2c437b7c2": {
      "model_module": "@jupyter-widgets/base",
      "model_module_version": "2.0.0",
      "model_name": "LayoutModel",
      "state": {}
     },
     "51b1f8cdf976439dbe3158b0d43ef4ec": {
      "model_module": "@jupyter-widgets/controls",
      "model_module_version": "2.0.0",
      "model_name": "HBoxModel",
      "state": {
       "children": [
        "IPY_MODEL_3781bd0424e14d9b8dafd4dd6957a41d",
        "IPY_MODEL_692477e5b66847ea945986b32f7ac39b",
        "IPY_MODEL_cfe8e1c8e08044dbab4c8bbdf3b92853"
       ],
       "layout": "IPY_MODEL_a3ac44fef351429894adae3bdbcbc986"
      }
     },
     "521e215999ec406d96f53e25bbe50a50": {
      "model_module": "@jupyter-widgets/controls",
      "model_module_version": "2.0.0",
      "model_name": "HTMLStyleModel",
      "state": {
       "description_width": "",
       "font_size": null,
       "text_color": null
      }
     },
     "52d3e213c3a442938f57129ea362f424": {
      "model_module": "@jupyter-widgets/controls",
      "model_module_version": "2.0.0",
      "model_name": "HBoxModel",
      "state": {
       "children": [
        "IPY_MODEL_925e1800db7e4ba8bfd8f4f1e2b94b3a",
        "IPY_MODEL_95bac0059bd24f3aa896046e09e05317",
        "IPY_MODEL_a9131dfa3f5841af8f1f95ec3f99db57"
       ],
       "layout": "IPY_MODEL_68e087c9a0054f459d3f62631ac60433"
      }
     },
     "530461f704ec446bbfcfd7c7096a327c": {
      "model_module": "@jupyter-widgets/base",
      "model_module_version": "2.0.0",
      "model_name": "LayoutModel",
      "state": {}
     },
     "5314cebbb04048a8b5216d8a8d0350eb": {
      "model_module": "@jupyter-widgets/controls",
      "model_module_version": "2.0.0",
      "model_name": "HBoxModel",
      "state": {
       "children": [
        "IPY_MODEL_40235d93e35641579c71f07ad8b7681c",
        "IPY_MODEL_e25f0511be4744f797b49f50c2c8fc89",
        "IPY_MODEL_19ceff3b801345a0b125be20814cdcc1"
       ],
       "layout": "IPY_MODEL_65a7bf914ea64140976221270046f6e8"
      }
     },
     "534994253ec1429cac4cec9318779fbf": {
      "model_module": "@jupyter-widgets/base",
      "model_module_version": "2.0.0",
      "model_name": "LayoutModel",
      "state": {}
     },
     "535e3875a5a341449a5df24ae5784ccd": {
      "model_module": "@jupyter-widgets/controls",
      "model_module_version": "2.0.0",
      "model_name": "HTMLStyleModel",
      "state": {
       "description_width": "",
       "font_size": null,
       "text_color": null
      }
     },
     "5362ded6d6bb46c982145a96d71ca02b": {
      "model_module": "@jupyter-widgets/controls",
      "model_module_version": "2.0.0",
      "model_name": "HTMLModel",
      "state": {
       "layout": "IPY_MODEL_f7fcce0c908e4f42a4fc68b7ba284532",
       "style": "IPY_MODEL_7dc3f89c9c894007a14b5766208e5357",
       "value": "3x3_2: 100%"
      }
     },
     "537dedfc5c9a43a69b4dbf9b64be773d": {
      "model_module": "@jupyter-widgets/base",
      "model_module_version": "2.0.0",
      "model_name": "LayoutModel",
      "state": {}
     },
     "53831c9777474ff48184f96f052149f1": {
      "model_module": "@jupyter-widgets/controls",
      "model_module_version": "2.0.0",
      "model_name": "HBoxModel",
      "state": {
       "children": [
        "IPY_MODEL_64a3759fc8ce4d5ab234c23a662fbb0b",
        "IPY_MODEL_59fe63f6716048d9838a1ada334ab4a3",
        "IPY_MODEL_ce553512a6414441b3f4cfa6b5836660"
       ],
       "layout": "IPY_MODEL_683ebcb1883743bea5dcf7488e1b60d5"
      }
     },
     "53bc2a5049da42728f73eaa22d486895": {
      "model_module": "@jupyter-widgets/base",
      "model_module_version": "2.0.0",
      "model_name": "LayoutModel",
      "state": {}
     },
     "53bf98aac6294b7ab9f83f1e0bf8863d": {
      "model_module": "@jupyter-widgets/base",
      "model_module_version": "2.0.0",
      "model_name": "LayoutModel",
      "state": {}
     },
     "53d482d5a48d41d4bea3d4c519ded299": {
      "model_module": "@jupyter-widgets/base",
      "model_module_version": "2.0.0",
      "model_name": "LayoutModel",
      "state": {}
     },
     "53db9a3094bd418b9d4c7e820a0b6c6e": {
      "model_module": "@jupyter-widgets/controls",
      "model_module_version": "2.0.0",
      "model_name": "HTMLStyleModel",
      "state": {
       "description_width": "",
       "font_size": null,
       "text_color": null
      }
     },
     "542ea11f5ef04e5287d511a5182f9b6e": {
      "model_module": "@jupyter-widgets/controls",
      "model_module_version": "2.0.0",
      "model_name": "HTMLStyleModel",
      "state": {
       "description_width": "",
       "font_size": null,
       "text_color": null
      }
     },
     "54b7bdd5574545a18d25f35b1e354d76": {
      "model_module": "@jupyter-widgets/base",
      "model_module_version": "2.0.0",
      "model_name": "LayoutModel",
      "state": {}
     },
     "5516787ecff44ebd85e6c3e255b9e4af": {
      "model_module": "@jupyter-widgets/controls",
      "model_module_version": "2.0.0",
      "model_name": "ProgressStyleModel",
      "state": {
       "description_width": ""
      }
     },
     "553e4beec2e546788b546cb05a746f8e": {
      "model_module": "@jupyter-widgets/controls",
      "model_module_version": "2.0.0",
      "model_name": "HTMLModel",
      "state": {
       "layout": "IPY_MODEL_5e02b6755d834ec88602076cea53f978",
       "style": "IPY_MODEL_2b37666ed5de455d80e3d56c0a19b65d",
       "value": "4x4_2: 100%"
      }
     },
     "555a460399f748d89882589e513eb2a0": {
      "model_module": "@jupyter-widgets/base",
      "model_module_version": "2.0.0",
      "model_name": "LayoutModel",
      "state": {}
     },
     "558d3a2e49634ce39d4bc62789631971": {
      "model_module": "@jupyter-widgets/base",
      "model_module_version": "2.0.0",
      "model_name": "LayoutModel",
      "state": {}
     },
     "55dba8a121584769a3200ca572606d87": {
      "model_module": "@jupyter-widgets/controls",
      "model_module_version": "2.0.0",
      "model_name": "FloatProgressModel",
      "state": {
       "bar_style": "success",
       "layout": "IPY_MODEL_9505c1696db54f02a0e34f5bb8cb53d1",
       "max": 77,
       "style": "IPY_MODEL_578b3e87e12f451483a13f053a32c291",
       "value": 77
      }
     },
     "560df56e2dc14204b0186852c1aac74b": {
      "model_module": "@jupyter-widgets/base",
      "model_module_version": "2.0.0",
      "model_name": "LayoutModel",
      "state": {}
     },
     "562ee8e894074529b19c59ecf7368b94": {
      "model_module": "@jupyter-widgets/controls",
      "model_module_version": "2.0.0",
      "model_name": "HTMLModel",
      "state": {
       "layout": "IPY_MODEL_e8f1396e49264643a2c2e9efda4e46ae",
       "style": "IPY_MODEL_450c76cca9c94f20b7900debe88348b5",
       "value": " 69/69 [00:31&lt;00:00,  2.83it/s, Acc=98.00%, BestAcc=98.00%, F1=0.98, Prec=0.98, Rec=0.98]"
      }
     },
     "564eb35cdaf04b6ca07a109216d43105": {
      "model_module": "@jupyter-widgets/base",
      "model_module_version": "2.0.0",
      "model_name": "LayoutModel",
      "state": {}
     },
     "56c8a08ccb9d49769af37d66571830b3": {
      "model_module": "@jupyter-widgets/controls",
      "model_module_version": "2.0.0",
      "model_name": "HTMLModel",
      "state": {
       "layout": "IPY_MODEL_965b3da476534aea9d9944ea27f1f54b",
       "style": "IPY_MODEL_f4bb969fbe3e4d37aa490100f3369efb",
       "value": "3x3_2: 100%"
      }
     },
     "56d609a88d8043b097b3a890818d98b8": {
      "model_module": "@jupyter-widgets/controls",
      "model_module_version": "2.0.0",
      "model_name": "HTMLStyleModel",
      "state": {
       "description_width": "",
       "font_size": null,
       "text_color": null
      }
     },
     "5778d3f81f4c49bf9f29a2efc4b1fad4": {
      "model_module": "@jupyter-widgets/controls",
      "model_module_version": "2.0.0",
      "model_name": "HBoxModel",
      "state": {
       "children": [
        "IPY_MODEL_da98f93decfb430badbbdba9216b96b8",
        "IPY_MODEL_167b0dc9bf6f417ca1dd55e7a74ce099",
        "IPY_MODEL_958357a1a31840a1915a06e1a2405462"
       ],
       "layout": "IPY_MODEL_8db4dfbf3e1a4633a800fa158b28bca2"
      }
     },
     "578b3e87e12f451483a13f053a32c291": {
      "model_module": "@jupyter-widgets/controls",
      "model_module_version": "2.0.0",
      "model_name": "ProgressStyleModel",
      "state": {
       "description_width": ""
      }
     },
     "579f33f965aa435f9a6565c62e45d1f6": {
      "model_module": "@jupyter-widgets/base",
      "model_module_version": "2.0.0",
      "model_name": "LayoutModel",
      "state": {}
     },
     "57c4b739be764c3eb9d889a3104bf5c9": {
      "model_module": "@jupyter-widgets/controls",
      "model_module_version": "2.0.0",
      "model_name": "HBoxModel",
      "state": {
       "children": [
        "IPY_MODEL_4c71b57a63a84943b564ef0a18240eeb",
        "IPY_MODEL_5c6ba707b06840e8bf01b53c4eb076a4",
        "IPY_MODEL_3f84a9f5e80f435084583ffb3d8e6fee"
       ],
       "layout": "IPY_MODEL_d536036b64a74b92a1798c3249455e8c"
      }
     },
     "57eeb9bc51f24977abe24d3fec50f442": {
      "model_module": "@jupyter-widgets/controls",
      "model_module_version": "2.0.0",
      "model_name": "HTMLModel",
      "state": {
       "layout": "IPY_MODEL_18cdea3d237a465ab43bd29208cbf549",
       "style": "IPY_MODEL_4fba799387074afdb285e713e841b201",
       "value": " 18/18 [00:09&lt;00:00,  2.86it/s, Acc=69.00%, BestAcc=69.50%, F1=0.58, Prec=0.79, Rec=0.69]"
      }
     },
     "580203f5b0f14c708b7fb96390287e86": {
      "model_module": "@jupyter-widgets/controls",
      "model_module_version": "2.0.0",
      "model_name": "HTMLModel",
      "state": {
       "layout": "IPY_MODEL_adfe1034adc84e5894be2220d56f3208",
       "style": "IPY_MODEL_8718aee3862146eba68543bf4694c6ed",
       "value": " 58/80 [00:44&lt;00:14,  1.52it/s, Acc=99.50%, BestAcc=99.50%, F1=0.99, Prec=1.00, Rec=0.99]"
      }
     },
     "583afdac002b4dca936fdbc4aee5eee9": {
      "model_module": "@jupyter-widgets/base",
      "model_module_version": "2.0.0",
      "model_name": "LayoutModel",
      "state": {}
     },
     "5863cbbe0a894366be2e22b4a9070c90": {
      "model_module": "@jupyter-widgets/base",
      "model_module_version": "2.0.0",
      "model_name": "LayoutModel",
      "state": {}
     },
     "58bdbba130c24ec8a247a191d051e8cb": {
      "model_module": "@jupyter-widgets/base",
      "model_module_version": "2.0.0",
      "model_name": "LayoutModel",
      "state": {}
     },
     "59067821d9fa430fb472a7affa066a90": {
      "model_module": "@jupyter-widgets/base",
      "model_module_version": "2.0.0",
      "model_name": "LayoutModel",
      "state": {}
     },
     "59253ab557ce472e8b71845b4b08d990": {
      "model_module": "@jupyter-widgets/controls",
      "model_module_version": "2.0.0",
      "model_name": "HTMLModel",
      "state": {
       "layout": "IPY_MODEL_45e2d6b68ec7400b88c03d4b9ea4f134",
       "style": "IPY_MODEL_40cd9acf282d4ee4bdd36d33098ebdf1",
       "value": "4x4_2: 100%"
      }
     },
     "59768c55b0ae4deaa92aef1f52fac67e": {
      "model_module": "@jupyter-widgets/controls",
      "model_module_version": "2.0.0",
      "model_name": "ProgressStyleModel",
      "state": {
       "description_width": ""
      }
     },
     "597c0a2aaddf4d74aa837e6d88499cce": {
      "model_module": "@jupyter-widgets/controls",
      "model_module_version": "2.0.0",
      "model_name": "ProgressStyleModel",
      "state": {
       "description_width": ""
      }
     },
     "59fe63f6716048d9838a1ada334ab4a3": {
      "model_module": "@jupyter-widgets/controls",
      "model_module_version": "2.0.0",
      "model_name": "FloatProgressModel",
      "state": {
       "bar_style": "success",
       "layout": "IPY_MODEL_31f98a66c21b4db897badb08f3c4d091",
       "max": 67,
       "style": "IPY_MODEL_d95fa4893a194ecba10c042daa39b3eb",
       "value": 67
      }
     },
     "5ad9ead10ac74e9ab9f8aed669d6d960": {
      "model_module": "@jupyter-widgets/controls",
      "model_module_version": "2.0.0",
      "model_name": "HTMLModel",
      "state": {
       "layout": "IPY_MODEL_7fbdd6ab8e384a00a19aaf5638b037dd",
       "style": "IPY_MODEL_964387c15f6541c9becf2e685096af1d",
       "value": "4x4_2: 100%"
      }
     },
     "5b20f0fa1f7c4c76a823f9322016fbff": {
      "model_module": "@jupyter-widgets/base",
      "model_module_version": "2.0.0",
      "model_name": "LayoutModel",
      "state": {}
     },
     "5c0fe68b39b04a78a95744d0349c456c": {
      "model_module": "@jupyter-widgets/controls",
      "model_module_version": "2.0.0",
      "model_name": "HTMLStyleModel",
      "state": {
       "description_width": "",
       "font_size": null,
       "text_color": null
      }
     },
     "5c1894fc5c34456dbf2bee331b534d0c": {
      "model_module": "@jupyter-widgets/base",
      "model_module_version": "2.0.0",
      "model_name": "LayoutModel",
      "state": {}
     },
     "5c5e28b0818c42dbbac855a2120e3e1f": {
      "model_module": "@jupyter-widgets/controls",
      "model_module_version": "2.0.0",
      "model_name": "HTMLModel",
      "state": {
       "layout": "IPY_MODEL_41ca7d5258af4d6588f1c3649b5f6a4e",
       "style": "IPY_MODEL_979754c8ace04e06845e9d17c234b142",
       "value": " 34/34 [00:22&lt;00:00,  1.82it/s, Acc=68.00%, BestAcc=68.00%, F1=0.55, Prec=0.46, Rec=0.68]"
      }
     },
     "5c6ba707b06840e8bf01b53c4eb076a4": {
      "model_module": "@jupyter-widgets/controls",
      "model_module_version": "2.0.0",
      "model_name": "FloatProgressModel",
      "state": {
       "bar_style": "success",
       "layout": "IPY_MODEL_df8a6cf00870490289d8a73d22999a97",
       "max": 45,
       "style": "IPY_MODEL_1f0a298dc3c5497087cb192af76bd5e1",
       "value": 45
      }
     },
     "5c92e6e1335f4c7ca45901f405f106b4": {
      "model_module": "@jupyter-widgets/controls",
      "model_module_version": "2.0.0",
      "model_name": "ProgressStyleModel",
      "state": {
       "description_width": ""
      }
     },
     "5c9e41f90ed649738b1ee4d7bebfed23": {
      "model_module": "@jupyter-widgets/base",
      "model_module_version": "2.0.0",
      "model_name": "LayoutModel",
      "state": {}
     },
     "5d7f84f31643494a8a3fd4a9b467528b": {
      "model_module": "@jupyter-widgets/controls",
      "model_module_version": "2.0.0",
      "model_name": "HTMLModel",
      "state": {
       "layout": "IPY_MODEL_2964377577104b75a25827e3151fbec2",
       "style": "IPY_MODEL_84bd9913b2994623a2b5fab5440e47cb",
       "value": " 3/3 [26:40&lt;00:00, 504.20s/it]"
      }
     },
     "5dc557b7ee4f49529455fe506880a2e0": {
      "model_module": "@jupyter-widgets/controls",
      "model_module_version": "2.0.0",
      "model_name": "FloatProgressModel",
      "state": {
       "bar_style": "success",
       "layout": "IPY_MODEL_c7da1483ecf342e4b548e41caaf2ea7e",
       "max": 26,
       "style": "IPY_MODEL_c169a947024b4c869f6723c1ef628d67",
       "value": 26
      }
     },
     "5dd5166fb9dd482396acc455e071080f": {
      "model_module": "@jupyter-widgets/controls",
      "model_module_version": "2.0.0",
      "model_name": "HTMLModel",
      "state": {
       "layout": "IPY_MODEL_298fa8cb9e964870bafc57c53a882b19",
       "style": "IPY_MODEL_3b60e72eedc241cc83ee6ad7c82ff876",
       "value": " 45/45 [00:28&lt;00:00,  2.12it/s, Acc=68.00%, BestAcc=69.50%, F1=0.58, Prec=0.79, Rec=0.69]"
      }
     },
     "5de16ed18bbe404692451c19dcb58bee": {
      "model_module": "@jupyter-widgets/base",
      "model_module_version": "2.0.0",
      "model_name": "LayoutModel",
      "state": {}
     },
     "5e02b6755d834ec88602076cea53f978": {
      "model_module": "@jupyter-widgets/base",
      "model_module_version": "2.0.0",
      "model_name": "LayoutModel",
      "state": {}
     },
     "5e3ae0be36ec469bb2b1a3be0819ef32": {
      "model_module": "@jupyter-widgets/base",
      "model_module_version": "2.0.0",
      "model_name": "LayoutModel",
      "state": {}
     },
     "5e90acc161f44cadb5c98d816ccb45de": {
      "model_module": "@jupyter-widgets/base",
      "model_module_version": "2.0.0",
      "model_name": "LayoutModel",
      "state": {}
     },
     "5ece4a8750df42f0a543f11f9f764432": {
      "model_module": "@jupyter-widgets/controls",
      "model_module_version": "2.0.0",
      "model_name": "HBoxModel",
      "state": {
       "children": [
        "IPY_MODEL_2b02a3ec776949ecaecfd8de67db2741",
        "IPY_MODEL_f0916f8bd1744eb0a4d91461c8c6b4cb",
        "IPY_MODEL_606e1f6662534e0aa670aa9f6cc571c2"
       ],
       "layout": "IPY_MODEL_cc5d924a7e2b4d6d8914aee8ca167ae8"
      }
     },
     "5f6de357c2a7478caa9cf9141b80d525": {
      "model_module": "@jupyter-widgets/base",
      "model_module_version": "2.0.0",
      "model_name": "LayoutModel",
      "state": {}
     },
     "5f9d2cf71a994d008cdabd762669bedf": {
      "model_module": "@jupyter-widgets/controls",
      "model_module_version": "2.0.0",
      "model_name": "HTMLStyleModel",
      "state": {
       "description_width": "",
       "font_size": null,
       "text_color": null
      }
     },
     "5fc45943d16f410eba2b93d4e6e769d7": {
      "model_module": "@jupyter-widgets/base",
      "model_module_version": "2.0.0",
      "model_name": "LayoutModel",
      "state": {}
     },
     "5fd634600fb7457b9b4cba6acd8286dd": {
      "model_module": "@jupyter-widgets/controls",
      "model_module_version": "2.0.0",
      "model_name": "FloatProgressModel",
      "state": {
       "bar_style": "success",
       "layout": "IPY_MODEL_63d61d12c2d44cc19996aed74e090ab5",
       "max": 98,
       "style": "IPY_MODEL_ad684a3b36704939b64aff78162cd20f",
       "value": 98
      }
     },
     "5fe15fafefff4b5387f9c087a095634e": {
      "model_module": "@jupyter-widgets/controls",
      "model_module_version": "2.0.0",
      "model_name": "HBoxModel",
      "state": {
       "children": [
        "IPY_MODEL_4fe34a99478343d6bee946b24f70665f",
        "IPY_MODEL_0d3ebe6eba22478d9151817d434dd714",
        "IPY_MODEL_5c5e28b0818c42dbbac855a2120e3e1f"
       ],
       "layout": "IPY_MODEL_345d60818e2c4a2cbbdc19ee85d3c3c2"
      }
     },
     "606e1f6662534e0aa670aa9f6cc571c2": {
      "model_module": "@jupyter-widgets/controls",
      "model_module_version": "2.0.0",
      "model_name": "HTMLModel",
      "state": {
       "layout": "IPY_MODEL_e38f9d4751814f3794907cfa20afabdd",
       "style": "IPY_MODEL_dfb503fd95c740babe7864bff6b53c69",
       "value": " 35/87 [00:26&lt;00:32,  1.59it/s, Acc=99.50%, BestAcc=99.50%, F1=1.00, Prec=1.00, Rec=0.99]"
      }
     },
     "609bb7f5a2654c598da7bf8abc5d1ed7": {
      "model_module": "@jupyter-widgets/controls",
      "model_module_version": "2.0.0",
      "model_name": "FloatProgressModel",
      "state": {
       "bar_style": "success",
       "layout": "IPY_MODEL_10da226ebbd241308e65034e496d614f",
       "max": 51,
       "style": "IPY_MODEL_7bd20fe3b3a8453fb5cb90ef980b38c3",
       "value": 51
      }
     },
     "615c8a11ccd1440299c4e1b9cc3dc89c": {
      "model_module": "@jupyter-widgets/base",
      "model_module_version": "2.0.0",
      "model_name": "LayoutModel",
      "state": {}
     },
     "61d8fb098b7845e898db93beec584249": {
      "model_module": "@jupyter-widgets/controls",
      "model_module_version": "2.0.0",
      "model_name": "ProgressStyleModel",
      "state": {
       "description_width": ""
      }
     },
     "61db9de0949444c98953d4cd2eedbf9d": {
      "model_module": "@jupyter-widgets/base",
      "model_module_version": "2.0.0",
      "model_name": "LayoutModel",
      "state": {}
     },
     "6202e8f5e5494a5e86ede9e7ec17ac98": {
      "model_module": "@jupyter-widgets/controls",
      "model_module_version": "2.0.0",
      "model_name": "HTMLStyleModel",
      "state": {
       "description_width": "",
       "font_size": null,
       "text_color": null
      }
     },
     "622d4318cbd3422fb1344dc3d2cf8fd4": {
      "model_module": "@jupyter-widgets/controls",
      "model_module_version": "2.0.0",
      "model_name": "HTMLStyleModel",
      "state": {
       "description_width": "",
       "font_size": null,
       "text_color": null
      }
     },
     "6290e2736a0444189688803d821140d2": {
      "model_module": "@jupyter-widgets/controls",
      "model_module_version": "2.0.0",
      "model_name": "HTMLStyleModel",
      "state": {
       "description_width": "",
       "font_size": null,
       "text_color": null
      }
     },
     "62c4eb471cea4d81897a8e9f80544993": {
      "model_module": "@jupyter-widgets/controls",
      "model_module_version": "2.0.0",
      "model_name": "HTMLStyleModel",
      "state": {
       "description_width": "",
       "font_size": null,
       "text_color": null
      }
     },
     "631df8cf3e604799b5c4dfd0baa42a9e": {
      "model_module": "@jupyter-widgets/controls",
      "model_module_version": "2.0.0",
      "model_name": "HTMLStyleModel",
      "state": {
       "description_width": "",
       "font_size": null,
       "text_color": null
      }
     },
     "637dc8ee6614442bb3edab85eef06e62": {
      "model_module": "@jupyter-widgets/base",
      "model_module_version": "2.0.0",
      "model_name": "LayoutModel",
      "state": {}
     },
     "638ca1a34368489dae34de082c3828c3": {
      "model_module": "@jupyter-widgets/base",
      "model_module_version": "2.0.0",
      "model_name": "LayoutModel",
      "state": {}
     },
     "63b9e378c2e84bc78ba5118a5ec880e7": {
      "model_module": "@jupyter-widgets/controls",
      "model_module_version": "2.0.0",
      "model_name": "HTMLModel",
      "state": {
       "layout": "IPY_MODEL_e7d2ce0d42f64ae2a014456f7f5af5f2",
       "style": "IPY_MODEL_084c2b28dd5f4c21947e3292a38a93a8",
       "value": " 77/77 [00:48&lt;00:00,  1.71it/s, Acc=68.00%, BestAcc=68.00%, F1=0.55, Prec=0.46, Rec=0.68]"
      }
     },
     "63d61d12c2d44cc19996aed74e090ab5": {
      "model_module": "@jupyter-widgets/base",
      "model_module_version": "2.0.0",
      "model_name": "LayoutModel",
      "state": {}
     },
     "63df24882fa447eabf85321e090d2c1f": {
      "model_module": "@jupyter-widgets/base",
      "model_module_version": "2.0.0",
      "model_name": "LayoutModel",
      "state": {}
     },
     "63e84445d2de4274ba679405a8f9d437": {
      "model_module": "@jupyter-widgets/base",
      "model_module_version": "2.0.0",
      "model_name": "LayoutModel",
      "state": {}
     },
     "63f6314fbfbf4bcebed125b37f50ddb2": {
      "model_module": "@jupyter-widgets/controls",
      "model_module_version": "2.0.0",
      "model_name": "HTMLModel",
      "state": {
       "layout": "IPY_MODEL_89d4f6c7c237411a9c3da60312019a2f",
       "style": "IPY_MODEL_9b0951a0f33c4f15b5a525fa034f2ed0",
       "value": "3x3_5: 100%"
      }
     },
     "6446b1c40c2d4f49bf3379ab82021f2d": {
      "model_module": "@jupyter-widgets/controls",
      "model_module_version": "2.0.0",
      "model_name": "HTMLModel",
      "state": {
       "layout": "IPY_MODEL_445b65ffada947e2825e412ba2db1a76",
       "style": "IPY_MODEL_51429e858e3249858761d5df7fd6948b",
       "value": " 45/45 [00:17&lt;00:00,  2.68it/s, Acc=98.50%, BestAcc=99.00%, F1=0.99, Prec=0.99, Rec=0.99]"
      }
     },
     "64773d9d3dbc460298bee2ab9aaeb6f9": {
      "model_module": "@jupyter-widgets/base",
      "model_module_version": "2.0.0",
      "model_name": "LayoutModel",
      "state": {}
     },
     "64a3759fc8ce4d5ab234c23a662fbb0b": {
      "model_module": "@jupyter-widgets/controls",
      "model_module_version": "2.0.0",
      "model_name": "HTMLModel",
      "state": {
       "layout": "IPY_MODEL_1bc91ab94ea94bc1a586d67bf81e5e7a",
       "style": "IPY_MODEL_7d7cebb67775483fb472211787a736f7",
       "value": "3x3_2: 100%"
      }
     },
     "64fecbff6a08453ba6bdcbfa87e158df": {
      "model_module": "@jupyter-widgets/controls",
      "model_module_version": "2.0.0",
      "model_name": "HTMLStyleModel",
      "state": {
       "description_width": "",
       "font_size": null,
       "text_color": null
      }
     },
     "650107255266484da78bf17ab9efa0da": {
      "model_module": "@jupyter-widgets/controls",
      "model_module_version": "2.0.0",
      "model_name": "HTMLModel",
      "state": {
       "layout": "IPY_MODEL_7dca87283df244d483c6f11b20c42022",
       "style": "IPY_MODEL_6abe75f61e8b4f14b21d9394ba45769e",
       "value": " 43/43 [00:31&lt;00:00,  1.38it/s, Acc=95.00%, BestAcc=95.00%, F1=0.95, Prec=0.95, Rec=0.95]"
      }
     },
     "652a45c2256b4c2e870b747e630eb0c8": {
      "model_module": "@jupyter-widgets/controls",
      "model_module_version": "2.0.0",
      "model_name": "HTMLStyleModel",
      "state": {
       "description_width": "",
       "font_size": null,
       "text_color": null
      }
     },
     "652f8c6fb2554151ac9ff9089d0009a6": {
      "model_module": "@jupyter-widgets/controls",
      "model_module_version": "2.0.0",
      "model_name": "HBoxModel",
      "state": {
       "children": [
        "IPY_MODEL_7342eccbe7474ab6b8d98c7e0aa17c5e",
        "IPY_MODEL_3139f84c22c0465b9cbe90b08315329a",
        "IPY_MODEL_a8d534c07a6d44b3ac3588b99697d819"
       ],
       "layout": "IPY_MODEL_4788ad45d9734f098a78d21aec1f2c15"
      }
     },
     "657b8ee2ab98415f90153454554a868a": {
      "model_module": "@jupyter-widgets/base",
      "model_module_version": "2.0.0",
      "model_name": "LayoutModel",
      "state": {}
     },
     "65a7bf914ea64140976221270046f6e8": {
      "model_module": "@jupyter-widgets/base",
      "model_module_version": "2.0.0",
      "model_name": "LayoutModel",
      "state": {}
     },
     "65b315f1cb814098a10acd12ced19356": {
      "model_module": "@jupyter-widgets/controls",
      "model_module_version": "2.0.0",
      "model_name": "ProgressStyleModel",
      "state": {
       "description_width": ""
      }
     },
     "65d3664c10e34191aecd7dcf9936641e": {
      "model_module": "@jupyter-widgets/base",
      "model_module_version": "2.0.0",
      "model_name": "LayoutModel",
      "state": {}
     },
     "665b09bb83924847bfd5099aa3dad16f": {
      "model_module": "@jupyter-widgets/base",
      "model_module_version": "2.0.0",
      "model_name": "LayoutModel",
      "state": {}
     },
     "6718b2bc72db4b229d4ea14f87daa92a": {
      "model_module": "@jupyter-widgets/base",
      "model_module_version": "2.0.0",
      "model_name": "LayoutModel",
      "state": {}
     },
     "67446326045e435d88c5e5772b489c18": {
      "model_module": "@jupyter-widgets/controls",
      "model_module_version": "2.0.0",
      "model_name": "ProgressStyleModel",
      "state": {
       "description_width": ""
      }
     },
     "6752a0ffdc3b499aa601912552ed8f11": {
      "model_module": "@jupyter-widgets/controls",
      "model_module_version": "2.0.0",
      "model_name": "HTMLModel",
      "state": {
       "layout": "IPY_MODEL_21ac5b2c03844ecebb05dffd5dccf1f7",
       "style": "IPY_MODEL_3dc0dc12c0ef4d2d9c513f07d1a66f52",
       "value": " 42/42 [00:32&lt;00:00,  1.52it/s, Acc=99.50%, BestAcc=99.50%, F1=0.99, Prec=1.00, Rec=0.99]"
      }
     },
     "675f90ed0c55479fbcd9e093f7a9da5f": {
      "model_module": "@jupyter-widgets/controls",
      "model_module_version": "2.0.0",
      "model_name": "HTMLModel",
      "state": {
       "layout": "IPY_MODEL_534994253ec1429cac4cec9318779fbf",
       "style": "IPY_MODEL_6bc7b97b35c547a9a4c17d64d6e5143c",
       "value": " 31/31 [00:14&lt;00:00,  2.85it/s, Acc=68.00%, BestAcc=69.50%, F1=0.58, Prec=0.79, Rec=0.69]"
      }
     },
     "6789381e0f9640cc9fabe68e8a8d909a": {
      "model_module": "@jupyter-widgets/controls",
      "model_module_version": "2.0.0",
      "model_name": "HTMLStyleModel",
      "state": {
       "description_width": "",
       "font_size": null,
       "text_color": null
      }
     },
     "67bd0172878e46cd9ca934da3a064aa0": {
      "model_module": "@jupyter-widgets/controls",
      "model_module_version": "2.0.0",
      "model_name": "HTMLModel",
      "state": {
       "layout": "IPY_MODEL_14e3ce897fed41f6af3dc628626f96f1",
       "style": "IPY_MODEL_72075d2e37ab415db7dc2e1683227fe4",
       "value": " 73/73 [00:31&lt;00:00,  2.71it/s, Acc=99.50%, BestAcc=99.50%, F1=0.99, Prec=1.00, Rec=0.99]"
      }
     },
     "67c7bd034a034496a74379294ce187e6": {
      "model_module": "@jupyter-widgets/controls",
      "model_module_version": "2.0.0",
      "model_name": "HTMLStyleModel",
      "state": {
       "description_width": "",
       "font_size": null,
       "text_color": null
      }
     },
     "67fe075b27094547a02ecfe9b178b3af": {
      "model_module": "@jupyter-widgets/controls",
      "model_module_version": "2.0.0",
      "model_name": "FloatProgressModel",
      "state": {
       "bar_style": "success",
       "layout": "IPY_MODEL_ad0374be3c6644ffb915cb74c6e526ac",
       "max": 45,
       "style": "IPY_MODEL_5516787ecff44ebd85e6c3e255b9e4af",
       "value": 45
      }
     },
     "681da061c10245aab75b23b10b3255a4": {
      "model_module": "@jupyter-widgets/base",
      "model_module_version": "2.0.0",
      "model_name": "LayoutModel",
      "state": {}
     },
     "683ebcb1883743bea5dcf7488e1b60d5": {
      "model_module": "@jupyter-widgets/base",
      "model_module_version": "2.0.0",
      "model_name": "LayoutModel",
      "state": {}
     },
     "688e2b68a5d04049b6cc99376d5d28d6": {
      "model_module": "@jupyter-widgets/controls",
      "model_module_version": "2.0.0",
      "model_name": "ProgressStyleModel",
      "state": {
       "description_width": ""
      }
     },
     "68d30b9a8f4b456a86a40da91affab0a": {
      "model_module": "@jupyter-widgets/controls",
      "model_module_version": "2.0.0",
      "model_name": "HTMLStyleModel",
      "state": {
       "description_width": "",
       "font_size": null,
       "text_color": null
      }
     },
     "68d5378416ff49d29123d54bfb2684f2": {
      "model_module": "@jupyter-widgets/base",
      "model_module_version": "2.0.0",
      "model_name": "LayoutModel",
      "state": {}
     },
     "68e087c9a0054f459d3f62631ac60433": {
      "model_module": "@jupyter-widgets/base",
      "model_module_version": "2.0.0",
      "model_name": "LayoutModel",
      "state": {}
     },
     "692477e5b66847ea945986b32f7ac39b": {
      "model_module": "@jupyter-widgets/controls",
      "model_module_version": "2.0.0",
      "model_name": "FloatProgressModel",
      "state": {
       "bar_style": "success",
       "layout": "IPY_MODEL_c35812b1335a4273b5ed38c7a1466f5c",
       "max": 45,
       "style": "IPY_MODEL_bb9a0d7d809d4d84b465258af4b32781",
       "value": 45
      }
     },
     "693ca1944caa4d43b6536962402c4aac": {
      "model_module": "@jupyter-widgets/controls",
      "model_module_version": "2.0.0",
      "model_name": "HBoxModel",
      "state": {
       "children": [
        "IPY_MODEL_a44cc7b22ef44c64a9eeaca96812ffa5",
        "IPY_MODEL_910511a331834724a03ef0757af9c9d7",
        "IPY_MODEL_5dd5166fb9dd482396acc455e071080f"
       ],
       "layout": "IPY_MODEL_97343efbb0df44a09341ada9fd8aa1de"
      }
     },
     "694ade47ec53401680fff582d41e4916": {
      "model_module": "@jupyter-widgets/base",
      "model_module_version": "2.0.0",
      "model_name": "LayoutModel",
      "state": {}
     },
     "69a2b1c68e4c4c829d984a22c054f7f0": {
      "model_module": "@jupyter-widgets/controls",
      "model_module_version": "2.0.0",
      "model_name": "FloatProgressModel",
      "state": {
       "bar_style": "success",
       "layout": "IPY_MODEL_adb8ce6e3a35483d91954abb9f17835d",
       "max": 55,
       "style": "IPY_MODEL_a12098cec5034b96986b16b302b25d68",
       "value": 55
      }
     },
     "69e7700bc80f44f6b0850a9c8cf592e9": {
      "model_module": "@jupyter-widgets/base",
      "model_module_version": "2.0.0",
      "model_name": "LayoutModel",
      "state": {}
     },
     "6a5e09eef7e94f0baef62c76331f9bdd": {
      "model_module": "@jupyter-widgets/base",
      "model_module_version": "2.0.0",
      "model_name": "LayoutModel",
      "state": {}
     },
     "6aaafb086a0047748ffb823b7e55cf01": {
      "model_module": "@jupyter-widgets/base",
      "model_module_version": "2.0.0",
      "model_name": "LayoutModel",
      "state": {}
     },
     "6abe75f61e8b4f14b21d9394ba45769e": {
      "model_module": "@jupyter-widgets/controls",
      "model_module_version": "2.0.0",
      "model_name": "HTMLStyleModel",
      "state": {
       "description_width": "",
       "font_size": null,
       "text_color": null
      }
     },
     "6b32f2ebbc494bf0ba8bd55eeafafb4f": {
      "model_module": "@jupyter-widgets/base",
      "model_module_version": "2.0.0",
      "model_name": "LayoutModel",
      "state": {}
     },
     "6bc7b97b35c547a9a4c17d64d6e5143c": {
      "model_module": "@jupyter-widgets/controls",
      "model_module_version": "2.0.0",
      "model_name": "HTMLStyleModel",
      "state": {
       "description_width": "",
       "font_size": null,
       "text_color": null
      }
     },
     "6c1c71a2a42c471da36203a36d19042a": {
      "model_module": "@jupyter-widgets/controls",
      "model_module_version": "2.0.0",
      "model_name": "ProgressStyleModel",
      "state": {
       "description_width": ""
      }
     },
     "6c2d02b9d397486e8240ece3fc000b74": {
      "model_module": "@jupyter-widgets/base",
      "model_module_version": "2.0.0",
      "model_name": "LayoutModel",
      "state": {}
     },
     "6c6e630d4a2d4df5a1099412738cc401": {
      "model_module": "@jupyter-widgets/base",
      "model_module_version": "2.0.0",
      "model_name": "LayoutModel",
      "state": {}
     },
     "6c99dc8a038d424a85f20771b1fa1d7f": {
      "model_module": "@jupyter-widgets/base",
      "model_module_version": "2.0.0",
      "model_name": "LayoutModel",
      "state": {}
     },
     "6d1a809e503249298e8cf43741192dd8": {
      "model_module": "@jupyter-widgets/controls",
      "model_module_version": "2.0.0",
      "model_name": "HBoxModel",
      "state": {
       "children": [
        "IPY_MODEL_51409dfe58264ffca00b613b804ab017",
        "IPY_MODEL_772b64d648f943de92ff47dd6f233eb9",
        "IPY_MODEL_de9cdda188bc49ed8a65f5304076c8d6"
       ],
       "layout": "IPY_MODEL_ce2d0ccccf61462f8d1e6eaafa4f8b0b"
      }
     },
     "6d1d6d6110aa469099d9e147dd076376": {
      "model_module": "@jupyter-widgets/controls",
      "model_module_version": "2.0.0",
      "model_name": "FloatProgressModel",
      "state": {
       "bar_style": "success",
       "layout": "IPY_MODEL_a7afee7db43848d0a35da56528e29040",
       "max": 60,
       "style": "IPY_MODEL_d7ef728d2330425288eca11abb397000",
       "value": 60
      }
     },
     "6d97f14909d94e93aec69b331b8b6b1e": {
      "model_module": "@jupyter-widgets/controls",
      "model_module_version": "2.0.0",
      "model_name": "HBoxModel",
      "state": {
       "children": [
        "IPY_MODEL_72690746cfe6473da33cfbe0f3bd41b9",
        "IPY_MODEL_9c81336338c147f2b960ef3c61236fdc",
        "IPY_MODEL_741b7c808ab145268c0282f2944622ae"
       ],
       "layout": "IPY_MODEL_84a5d6adb9e24c5fb4acae4af5d7d80d"
      }
     },
     "6dc9787ef3a7453b916001edea0395d6": {
      "model_module": "@jupyter-widgets/base",
      "model_module_version": "2.0.0",
      "model_name": "LayoutModel",
      "state": {}
     },
     "6de588b21f064627bd498bff68cd2efd": {
      "model_module": "@jupyter-widgets/controls",
      "model_module_version": "2.0.0",
      "model_name": "ProgressStyleModel",
      "state": {
       "description_width": ""
      }
     },
     "6e3292c56d124b8a968a8cb0052af1d2": {
      "model_module": "@jupyter-widgets/base",
      "model_module_version": "2.0.0",
      "model_name": "LayoutModel",
      "state": {}
     },
     "6e415ea276ff4ebda1b116a9f04c5033": {
      "model_module": "@jupyter-widgets/controls",
      "model_module_version": "2.0.0",
      "model_name": "HBoxModel",
      "state": {
       "children": [
        "IPY_MODEL_5086500011f44e10b0eb58fef117c7d0",
        "IPY_MODEL_a0e223e7423143d0925612643253829a",
        "IPY_MODEL_a46a849b6209418d9da101ddca4e4de2"
       ],
       "layout": "IPY_MODEL_864e5d2cf64e4ef7a105882c72d41318"
      }
     },
     "6ee8d2d83f7a4860a95e06a388b4caaa": {
      "model_module": "@jupyter-widgets/base",
      "model_module_version": "2.0.0",
      "model_name": "LayoutModel",
      "state": {}
     },
     "6f12fe640e5f433791daed869c8ba5b4": {
      "model_module": "@jupyter-widgets/controls",
      "model_module_version": "2.0.0",
      "model_name": "FloatProgressModel",
      "state": {
       "layout": "IPY_MODEL_5863cbbe0a894366be2e22b4a9070c90",
       "max": 22,
       "style": "IPY_MODEL_22bbbcc685e74ed4808b2488de250575"
      }
     },
     "6f397e3e62064624bfcdc683644d8385": {
      "model_module": "@jupyter-widgets/controls",
      "model_module_version": "2.0.0",
      "model_name": "ProgressStyleModel",
      "state": {
       "description_width": ""
      }
     },
     "6f9bcf395f354c0b83bc602da7e91266": {
      "model_module": "@jupyter-widgets/base",
      "model_module_version": "2.0.0",
      "model_name": "LayoutModel",
      "state": {}
     },
     "7081649a2ef14d3d962163c470993a55": {
      "model_module": "@jupyter-widgets/controls",
      "model_module_version": "2.0.0",
      "model_name": "HTMLStyleModel",
      "state": {
       "description_width": "",
       "font_size": null,
       "text_color": null
      }
     },
     "7093b754b7dd427e88ac8a9bd3aa6043": {
      "model_module": "@jupyter-widgets/controls",
      "model_module_version": "2.0.0",
      "model_name": "HTMLStyleModel",
      "state": {
       "description_width": "",
       "font_size": null,
       "text_color": null
      }
     },
     "70c3a0ed34e445a9869358bfcd1eba06": {
      "model_module": "@jupyter-widgets/controls",
      "model_module_version": "2.0.0",
      "model_name": "FloatProgressModel",
      "state": {
       "bar_style": "danger",
       "layout": "IPY_MODEL_36917c8b05a74c0fb0061522da41a545",
       "max": 81,
       "style": "IPY_MODEL_05c5069386524a3eb1dc92494d466948",
       "value": 25
      }
     },
     "710f10dbaef9449183b98c840e0d8cac": {
      "model_module": "@jupyter-widgets/controls",
      "model_module_version": "2.0.0",
      "model_name": "HTMLModel",
      "state": {
       "layout": "IPY_MODEL_0f52e5fe237445ea86de0e2cd69c0ac9",
       "style": "IPY_MODEL_eb82c9e5f0b449d7b521659b7a29b2f7",
       "value": " 1/13 [26:40&lt;5:20:02, 1600.23s/it]"
      }
     },
     "7111ee7d1c6e4140854bf99786a0a27b": {
      "model_module": "@jupyter-widgets/controls",
      "model_module_version": "2.0.0",
      "model_name": "HBoxModel",
      "state": {
       "children": [
        "IPY_MODEL_d15096126dd04b08ac60820ac8bc0455",
        "IPY_MODEL_6d1d6d6110aa469099d9e147dd076376",
        "IPY_MODEL_72ee62edbb994146b3c6bcae13218f12"
       ],
       "layout": "IPY_MODEL_0e879cd1453047e7bb6a42f7bc6be13f"
      }
     },
     "7184496779e4441198eee4a3d9480e66": {
      "model_module": "@jupyter-widgets/base",
      "model_module_version": "2.0.0",
      "model_name": "LayoutModel",
      "state": {}
     },
     "71c27611314148eaa71a45405127b150": {
      "model_module": "@jupyter-widgets/controls",
      "model_module_version": "2.0.0",
      "model_name": "ProgressStyleModel",
      "state": {
       "description_width": ""
      }
     },
     "72075d2e37ab415db7dc2e1683227fe4": {
      "model_module": "@jupyter-widgets/controls",
      "model_module_version": "2.0.0",
      "model_name": "HTMLStyleModel",
      "state": {
       "description_width": "",
       "font_size": null,
       "text_color": null
      }
     },
     "720bb44fa2c6443c944ce0b46971163b": {
      "model_module": "@jupyter-widgets/controls",
      "model_module_version": "2.0.0",
      "model_name": "ProgressStyleModel",
      "state": {
       "description_width": ""
      }
     },
     "721bf59dac57475cab7f8a94c2a092be": {
      "model_module": "@jupyter-widgets/base",
      "model_module_version": "2.0.0",
      "model_name": "LayoutModel",
      "state": {}
     },
     "7226a8147ee44eb1aa98ed36a61e757c": {
      "model_module": "@jupyter-widgets/base",
      "model_module_version": "2.0.0",
      "model_name": "LayoutModel",
      "state": {}
     },
     "7254a2f8a62d4261b11ded7720c3216f": {
      "model_module": "@jupyter-widgets/controls",
      "model_module_version": "2.0.0",
      "model_name": "FloatProgressModel",
      "state": {
       "bar_style": "success",
       "layout": "IPY_MODEL_53bf98aac6294b7ab9f83f1e0bf8863d",
       "max": 45,
       "style": "IPY_MODEL_f7472e7eab8f4421948789b0b823d29b",
       "value": 45
      }
     },
     "72690746cfe6473da33cfbe0f3bd41b9": {
      "model_module": "@jupyter-widgets/controls",
      "model_module_version": "2.0.0",
      "model_name": "HTMLModel",
      "state": {
       "layout": "IPY_MODEL_9fa4b4ac5363481292c1692983cd65a5",
       "style": "IPY_MODEL_72adda865cc74320b05bb4ae78af4327",
       "value": "3x3_2: 100%"
      }
     },
     "729a94b1e202445c9b57f75bb43a4708": {
      "model_module": "@jupyter-widgets/controls",
      "model_module_version": "2.0.0",
      "model_name": "HTMLModel",
      "state": {
       "layout": "IPY_MODEL_1a341a48778c4e8fbfe947f45cafce45",
       "style": "IPY_MODEL_358e4765b6bf48fa8240a7a4a38b8603",
       "value": " 41/41 [00:30&lt;00:00,  1.56it/s, Acc=55.00%, BestAcc=65.00%, F1=0.63, Prec=0.65, Rec=0.65]"
      }
     },
     "72adda865cc74320b05bb4ae78af4327": {
      "model_module": "@jupyter-widgets/controls",
      "model_module_version": "2.0.0",
      "model_name": "HTMLStyleModel",
      "state": {
       "description_width": "",
       "font_size": null,
       "text_color": null
      }
     },
     "72ee62edbb994146b3c6bcae13218f12": {
      "model_module": "@jupyter-widgets/controls",
      "model_module_version": "2.0.0",
      "model_name": "HTMLModel",
      "state": {
       "layout": "IPY_MODEL_2a133a295a234a4e881ad80b433dfe74",
       "style": "IPY_MODEL_3ae285c628724a65a2d2df3899cc149e",
       "value": " 60/60 [00:49&lt;00:00,  1.31it/s, Acc=58.50%, BestAcc=67.00%, F1=0.64, Prec=0.68, Rec=0.67]"
      }
     },
     "7342eccbe7474ab6b8d98c7e0aa17c5e": {
      "model_module": "@jupyter-widgets/controls",
      "model_module_version": "2.0.0",
      "model_name": "HTMLModel",
      "state": {
       "layout": "IPY_MODEL_cfbc0cb5f1a54b2a88665bc88b45c537",
       "style": "IPY_MODEL_0fa1f45d22024c86bd98244f221294b9",
       "value": "3x3_5: 100%"
      }
     },
     "734d32e6308b44bda74e127ddef5a753": {
      "model_module": "@jupyter-widgets/controls",
      "model_module_version": "2.0.0",
      "model_name": "HTMLModel",
      "state": {
       "layout": "IPY_MODEL_fdafc7255dcd4cfca3099c24550fa563",
       "style": "IPY_MODEL_98c2a24e3f3d4911803c83a4dad8ea47",
       "value": " 82/82 [00:51&lt;00:00,  1.72it/s, Acc=65.00%, BestAcc=75.00%, F1=0.70, Prec=0.82, Rec=0.75]"
      }
     },
     "73a3388ac94b49ae8fa8e702f4dd1595": {
      "model_module": "@jupyter-widgets/base",
      "model_module_version": "2.0.0",
      "model_name": "LayoutModel",
      "state": {}
     },
     "740c4e3384ff406a86e96d5d48726e23": {
      "model_module": "@jupyter-widgets/controls",
      "model_module_version": "2.0.0",
      "model_name": "HTMLStyleModel",
      "state": {
       "description_width": "",
       "font_size": null,
       "text_color": null
      }
     },
     "741b7c808ab145268c0282f2944622ae": {
      "model_module": "@jupyter-widgets/controls",
      "model_module_version": "2.0.0",
      "model_name": "HTMLModel",
      "state": {
       "layout": "IPY_MODEL_d20c9dbdfdac4ef484427043fa952fab",
       "style": "IPY_MODEL_1cd4545f65f04a7cb55f6b39631939e1",
       "value": " 70/70 [00:42&lt;00:00,  1.81it/s, Acc=68.00%, BestAcc=68.00%, F1=0.55, Prec=0.46, Rec=0.68]"
      }
     },
     "7442dd49280048df9087389604c72bb0": {
      "model_module": "@jupyter-widgets/controls",
      "model_module_version": "2.0.0",
      "model_name": "HTMLModel",
      "state": {
       "layout": "IPY_MODEL_cd0be27a78624f91a77eeeb26a1662a4",
       "style": "IPY_MODEL_a45aacdba36a4384b1e7d495ba9efb93",
       "value": " 60/60 [00:22&lt;00:00,  3.21it/s, Acc=68.00%, BestAcc=68.00%, F1=0.55, Prec=0.46, Rec=0.68]"
      }
     },
     "748507e29c0845db802792757629a0f9": {
      "model_module": "@jupyter-widgets/controls",
      "model_module_version": "2.0.0",
      "model_name": "HTMLModel",
      "state": {
       "layout": "IPY_MODEL_5e3ae0be36ec469bb2b1a3be0819ef32",
       "style": "IPY_MODEL_b01e63086f9f40768f7f220665957de9",
       "value": "3x3_5: 100%"
      }
     },
     "7504d107c70b4bd0936300e722b07ab1": {
      "model_module": "@jupyter-widgets/controls",
      "model_module_version": "2.0.0",
      "model_name": "HBoxModel",
      "state": {
       "children": [
        "IPY_MODEL_983d75f8edaa4841aa0cde80c152f4cc",
        "IPY_MODEL_48c8e83d2540464f920c242cf52d4e44",
        "IPY_MODEL_63b9e378c2e84bc78ba5118a5ec880e7"
       ],
       "layout": "IPY_MODEL_3111661336744769929cb2b277d96bb0"
      }
     },
     "752e35f03d66403ea0a2a0de2ca3c06f": {
      "model_module": "@jupyter-widgets/controls",
      "model_module_version": "2.0.0",
      "model_name": "HTMLModel",
      "state": {
       "layout": "IPY_MODEL_d1480abac792484a8104fbf8f6838d44",
       "style": "IPY_MODEL_dad71f7de167472c8b051ecbe762bb16",
       "value": "3x3_2: 100%"
      }
     },
     "755fdf38eca54811813109536a22574f": {
      "model_module": "@jupyter-widgets/base",
      "model_module_version": "2.0.0",
      "model_name": "LayoutModel",
      "state": {}
     },
     "75a1f6a2400e4f728c996710e5d704de": {
      "model_module": "@jupyter-widgets/base",
      "model_module_version": "2.0.0",
      "model_name": "LayoutModel",
      "state": {}
     },
     "75c42b7d0add4757b992eaae45d386de": {
      "model_module": "@jupyter-widgets/controls",
      "model_module_version": "2.0.0",
      "model_name": "HTMLModel",
      "state": {
       "layout": "IPY_MODEL_29d9210ff2154c14bf23a8e697479293",
       "style": "IPY_MODEL_03c12504f2bf430eaa3058adef4a32a5",
       "value": " 48/48 [00:20&lt;00:00,  2.66it/s, Acc=94.50%, BestAcc=94.50%, F1=0.94, Prec=0.95, Rec=0.94]"
      }
     },
     "75f2f744d11c4183b10c610b15f9b819": {
      "model_module": "@jupyter-widgets/controls",
      "model_module_version": "2.0.0",
      "model_name": "HTMLModel",
      "state": {
       "layout": "IPY_MODEL_fb74165f5a614ba1939867815919ead2",
       "style": "IPY_MODEL_e0d44bb3beb048bc80da03f2eef94cff",
       "value": "3x3_2: 100%"
      }
     },
     "7612249d760e481c8bdb7433c32c0658": {
      "model_module": "@jupyter-widgets/base",
      "model_module_version": "2.0.0",
      "model_name": "LayoutModel",
      "state": {}
     },
     "76254fc5decb4b28aa550851326e62c1": {
      "model_module": "@jupyter-widgets/base",
      "model_module_version": "2.0.0",
      "model_name": "LayoutModel",
      "state": {}
     },
     "7634e806562d4e2f85f0a35717e25703": {
      "model_module": "@jupyter-widgets/base",
      "model_module_version": "2.0.0",
      "model_name": "LayoutModel",
      "state": {}
     },
     "768b20055bbb4f7cb3fd1f456cbfc65d": {
      "model_module": "@jupyter-widgets/base",
      "model_module_version": "2.0.0",
      "model_name": "LayoutModel",
      "state": {}
     },
     "76a236eb97eb44e59f2dc0fd796c4401": {
      "model_module": "@jupyter-widgets/controls",
      "model_module_version": "2.0.0",
      "model_name": "HTMLStyleModel",
      "state": {
       "description_width": "",
       "font_size": null,
       "text_color": null
      }
     },
     "76cbbcccf66b45528657827f8259c317": {
      "model_module": "@jupyter-widgets/controls",
      "model_module_version": "2.0.0",
      "model_name": "FloatProgressModel",
      "state": {
       "bar_style": "success",
       "layout": "IPY_MODEL_23c1bc068e0f4be0bf2f70038ee96560",
       "max": 59,
       "style": "IPY_MODEL_da5d3248fe19405e81a2f213a1ccb203",
       "value": 59
      }
     },
     "76d446ddd4f44439b68ad88a91cd4382": {
      "model_module": "@jupyter-widgets/controls",
      "model_module_version": "2.0.0",
      "model_name": "ProgressStyleModel",
      "state": {
       "description_width": ""
      }
     },
     "76e38a3cb4e545af85e504a7c164b956": {
      "model_module": "@jupyter-widgets/base",
      "model_module_version": "2.0.0",
      "model_name": "LayoutModel",
      "state": {}
     },
     "772b64d648f943de92ff47dd6f233eb9": {
      "model_module": "@jupyter-widgets/controls",
      "model_module_version": "2.0.0",
      "model_name": "FloatProgressModel",
      "state": {
       "bar_style": "success",
       "layout": "IPY_MODEL_d7b67f1ba50a4aeead7d14733c1504e4",
       "max": 38,
       "style": "IPY_MODEL_8359c758cdad4e7b9cdfb25f78229576",
       "value": 38
      }
     },
     "777da17d973a4b298a04e8d2a95e1648": {
      "model_module": "@jupyter-widgets/controls",
      "model_module_version": "2.0.0",
      "model_name": "HTMLModel",
      "state": {
       "layout": "IPY_MODEL_c162f99ce21546a4bf4c39c140a9db5a",
       "style": "IPY_MODEL_c0609f5fcce44a14bfe0824f1dddb275",
       "value": "3x3_2: 100%"
      }
     },
     "77d637e2218045e5916a5ff3ff27b35d": {
      "model_module": "@jupyter-widgets/controls",
      "model_module_version": "2.0.0",
      "model_name": "HTMLModel",
      "state": {
       "layout": "IPY_MODEL_2ae092880adc4caa870cb4c321f7c425",
       "style": "IPY_MODEL_4a8dd1d6b1bb47fab742daad38aab311",
       "value": " 56/56 [00:25&lt;00:00,  2.20it/s, Acc=74.50%, BestAcc=87.00%, F1=0.86, Prec=0.88, Rec=0.87]"
      }
     },
     "78c0d0669efa432892610dbee24c9869": {
      "model_module": "@jupyter-widgets/controls",
      "model_module_version": "2.0.0",
      "model_name": "FloatProgressModel",
      "state": {
       "bar_style": "success",
       "layout": "IPY_MODEL_11719de4f609449e9615a11980d0d9c7",
       "max": 56,
       "style": "IPY_MODEL_97f81d7314bd4d93adf8761c1540fcdd",
       "value": 56
      }
     },
     "78d9a65553844a9cae1926b8f946c683": {
      "model_module": "@jupyter-widgets/controls",
      "model_module_version": "2.0.0",
      "model_name": "FloatProgressModel",
      "state": {
       "bar_style": "success",
       "layout": "IPY_MODEL_1aadf9f93fd94f238411c6062ca8a072",
       "max": 34,
       "style": "IPY_MODEL_b2b927faaaa2421ca325a52927a9419b",
       "value": 34
      }
     },
     "78e117723a4643c1ad1fec3aaef5fdb6": {
      "model_module": "@jupyter-widgets/controls",
      "model_module_version": "2.0.0",
      "model_name": "FloatProgressModel",
      "state": {
       "bar_style": "success",
       "layout": "IPY_MODEL_d8950a4769bc4ffcb3d0957474095b04",
       "max": 85,
       "style": "IPY_MODEL_4e0c48a455f441659dd21304252cb2e1",
       "value": 85
      }
     },
     "79066d77a7c5404ca410acad73e19162": {
      "model_module": "@jupyter-widgets/controls",
      "model_module_version": "2.0.0",
      "model_name": "HTMLModel",
      "state": {
       "layout": "IPY_MODEL_df7a4214cbde448482be9f8aa9612e09",
       "style": "IPY_MODEL_7093b754b7dd427e88ac8a9bd3aa6043",
       "value": "3x3_2: 100%"
      }
     },
     "7908cdbf5783479193e0da38e75da297": {
      "model_module": "@jupyter-widgets/base",
      "model_module_version": "2.0.0",
      "model_name": "LayoutModel",
      "state": {}
     },
     "7913c38076454aeea09f621ddf8d0213": {
      "model_module": "@jupyter-widgets/base",
      "model_module_version": "2.0.0",
      "model_name": "LayoutModel",
      "state": {}
     },
     "79189615723443d887ed76609d323717": {
      "model_module": "@jupyter-widgets/base",
      "model_module_version": "2.0.0",
      "model_name": "LayoutModel",
      "state": {}
     },
     "791e54f4e6034afa859885117eb893b5": {
      "model_module": "@jupyter-widgets/controls",
      "model_module_version": "2.0.0",
      "model_name": "HTMLStyleModel",
      "state": {
       "description_width": "",
       "font_size": null,
       "text_color": null
      }
     },
     "79aa8f04101f4ab295cf6b56ad79aafd": {
      "model_module": "@jupyter-widgets/controls",
      "model_module_version": "2.0.0",
      "model_name": "ProgressStyleModel",
      "state": {
       "description_width": ""
      }
     },
     "79bc11a006d04d11aaf61f224a9af0a1": {
      "model_module": "@jupyter-widgets/controls",
      "model_module_version": "2.0.0",
      "model_name": "HTMLStyleModel",
      "state": {
       "description_width": "",
       "font_size": null,
       "text_color": null
      }
     },
     "7a0efb0363d14bd2ab4011efc26f542b": {
      "model_module": "@jupyter-widgets/controls",
      "model_module_version": "2.0.0",
      "model_name": "FloatProgressModel",
      "state": {
       "bar_style": "success",
       "layout": "IPY_MODEL_9cd402565d764566bd863c6548101ca9",
       "max": 60,
       "style": "IPY_MODEL_44f356204875472fb6a12911af04ddf1",
       "value": 60
      }
     },
     "7aa1ce1b29444553a136a4097fb57af6": {
      "model_module": "@jupyter-widgets/controls",
      "model_module_version": "2.0.0",
      "model_name": "FloatProgressModel",
      "state": {
       "bar_style": "success",
       "layout": "IPY_MODEL_69e7700bc80f44f6b0850a9c8cf592e9",
       "max": 17,
       "style": "IPY_MODEL_d1b65209b4774cb8a8612904d1688bd4",
       "value": 17
      }
     },
     "7b882686153945cea861ed9f7be6a1c9": {
      "model_module": "@jupyter-widgets/controls",
      "model_module_version": "2.0.0",
      "model_name": "FloatProgressModel",
      "state": {
       "bar_style": "success",
       "layout": "IPY_MODEL_8d976bd816a24eb0bd5b9d26d7f455a9",
       "max": 69,
       "style": "IPY_MODEL_e402f4bc7df54da98a2e8a4d97b25c26",
       "value": 69
      }
     },
     "7bd20fe3b3a8453fb5cb90ef980b38c3": {
      "model_module": "@jupyter-widgets/controls",
      "model_module_version": "2.0.0",
      "model_name": "ProgressStyleModel",
      "state": {
       "description_width": ""
      }
     },
     "7be8ad27b4c545b395005641031c2ebc": {
      "model_module": "@jupyter-widgets/base",
      "model_module_version": "2.0.0",
      "model_name": "LayoutModel",
      "state": {}
     },
     "7c104c474326475b9b64fa1c692446bb": {
      "model_module": "@jupyter-widgets/controls",
      "model_module_version": "2.0.0",
      "model_name": "HTMLModel",
      "state": {
       "layout": "IPY_MODEL_d5c8d32f454244dab33bb2cf31db82d9",
       "style": "IPY_MODEL_1cf1c896f0044fd58a12b1272197f6f0",
       "value": "4x4_2: 100%"
      }
     },
     "7c389b1720b143499027a3ae2955648a": {
      "model_module": "@jupyter-widgets/base",
      "model_module_version": "2.0.0",
      "model_name": "LayoutModel",
      "state": {}
     },
     "7c57d67f61fb48389477ca70b4bb9457": {
      "model_module": "@jupyter-widgets/base",
      "model_module_version": "2.0.0",
      "model_name": "LayoutModel",
      "state": {}
     },
     "7ce99154ec2b4f2595036116d9d012a5": {
      "model_module": "@jupyter-widgets/controls",
      "model_module_version": "2.0.0",
      "model_name": "HTMLModel",
      "state": {
       "layout": "IPY_MODEL_49b1e8cdac68460b9507036c85b5dcf8",
       "style": "IPY_MODEL_b310abd48efc4bf6b8084d6083ab06b2",
       "value": " 59/59 [00:40&lt;00:00,  1.56it/s, Acc=86.50%, BestAcc=87.50%, F1=0.87, Prec=0.87, Rec=0.88]"
      }
     },
     "7cfd4978fb2d49139c855e75fa4593b5": {
      "model_module": "@jupyter-widgets/controls",
      "model_module_version": "2.0.0",
      "model_name": "HTMLStyleModel",
      "state": {
       "description_width": "",
       "font_size": null,
       "text_color": null
      }
     },
     "7d7cebb67775483fb472211787a736f7": {
      "model_module": "@jupyter-widgets/controls",
      "model_module_version": "2.0.0",
      "model_name": "HTMLStyleModel",
      "state": {
       "description_width": "",
       "font_size": null,
       "text_color": null
      }
     },
     "7daaadfe8b8646d8bad571ce362aa189": {
      "model_module": "@jupyter-widgets/base",
      "model_module_version": "2.0.0",
      "model_name": "LayoutModel",
      "state": {}
     },
     "7dad5edc3b114895bbda17da865174ce": {
      "model_module": "@jupyter-widgets/controls",
      "model_module_version": "2.0.0",
      "model_name": "HTMLStyleModel",
      "state": {
       "description_width": "",
       "font_size": null,
       "text_color": null
      }
     },
     "7dc3f89c9c894007a14b5766208e5357": {
      "model_module": "@jupyter-widgets/controls",
      "model_module_version": "2.0.0",
      "model_name": "HTMLStyleModel",
      "state": {
       "description_width": "",
       "font_size": null,
       "text_color": null
      }
     },
     "7dca87283df244d483c6f11b20c42022": {
      "model_module": "@jupyter-widgets/base",
      "model_module_version": "2.0.0",
      "model_name": "LayoutModel",
      "state": {}
     },
     "7dfacc002be14cf7bc92bddaa0818a89": {
      "model_module": "@jupyter-widgets/controls",
      "model_module_version": "2.0.0",
      "model_name": "HTMLModel",
      "state": {
       "layout": "IPY_MODEL_530461f704ec446bbfcfd7c7096a327c",
       "style": "IPY_MODEL_d0d5919156bd4c2091c61a32ce93cc70",
       "value": "4x4_2: 100%"
      }
     },
     "7dfb6fadef3a4ce7ba11d69c58c4b2fd": {
      "model_module": "@jupyter-widgets/base",
      "model_module_version": "2.0.0",
      "model_name": "LayoutModel",
      "state": {}
     },
     "7e23f38700f5462a956eead219f8f2c1": {
      "model_module": "@jupyter-widgets/controls",
      "model_module_version": "2.0.0",
      "model_name": "HTMLModel",
      "state": {
       "layout": "IPY_MODEL_b156cbbe065e4cfbafa23eaaab841321",
       "style": "IPY_MODEL_0c3b67e3c686430bbdfa61539b987a46",
       "value": "3x3_2: 100%"
      }
     },
     "7e2eafc713a043a1b046dae87c0b87d4": {
      "model_module": "@jupyter-widgets/controls",
      "model_module_version": "2.0.0",
      "model_name": "HTMLStyleModel",
      "state": {
       "description_width": "",
       "font_size": null,
       "text_color": null
      }
     },
     "7e4a7cd328df483a898580586d4dc5a5": {
      "model_module": "@jupyter-widgets/controls",
      "model_module_version": "2.0.0",
      "model_name": "HTMLModel",
      "state": {
       "layout": "IPY_MODEL_d03cad7307714636bd267e3dcac42dc0",
       "style": "IPY_MODEL_a047d0eddbb64819949e08bbbf054cbf",
       "value": " 60/60 [00:30&lt;00:00,  2.22it/s, Acc=65.00%, BestAcc=70.00%, F1=0.70, Prec=0.69, Rec=0.70]"
      }
     },
     "7e9b2fefd69844ddacf5674e0141f289": {
      "model_module": "@jupyter-widgets/controls",
      "model_module_version": "2.0.0",
      "model_name": "HTMLStyleModel",
      "state": {
       "description_width": "",
       "font_size": null,
       "text_color": null
      }
     },
     "7f467d285d5c4b6fbb4d347f2cb70059": {
      "model_module": "@jupyter-widgets/base",
      "model_module_version": "2.0.0",
      "model_name": "LayoutModel",
      "state": {}
     },
     "7f4a58f7262f4cd191c212684baca6a1": {
      "model_module": "@jupyter-widgets/base",
      "model_module_version": "2.0.0",
      "model_name": "LayoutModel",
      "state": {}
     },
     "7f60641f51794ca4affe9f61d9e0122a": {
      "model_module": "@jupyter-widgets/controls",
      "model_module_version": "2.0.0",
      "model_name": "ProgressStyleModel",
      "state": {
       "description_width": ""
      }
     },
     "7fbdd6ab8e384a00a19aaf5638b037dd": {
      "model_module": "@jupyter-widgets/base",
      "model_module_version": "2.0.0",
      "model_name": "LayoutModel",
      "state": {}
     },
     "7fbf31ae735744b084022ac35c4708ea": {
      "model_module": "@jupyter-widgets/controls",
      "model_module_version": "2.0.0",
      "model_name": "HTMLStyleModel",
      "state": {
       "description_width": "",
       "font_size": null,
       "text_color": null
      }
     },
     "7fc1f20601974fa2abd49f916ce5c98e": {
      "model_module": "@jupyter-widgets/controls",
      "model_module_version": "2.0.0",
      "model_name": "HBoxModel",
      "state": {
       "children": [
        "IPY_MODEL_79066d77a7c5404ca410acad73e19162",
        "IPY_MODEL_d876a97463f64a8ca64a74f6df2f1de2",
        "IPY_MODEL_3ce73fe3ffeb4ba4b9c3c9f5cb25d04b"
       ],
       "layout": "IPY_MODEL_b343394d0b0241bc94518d5d30d9d765"
      }
     },
     "80c75437bec549c3972b34907f396633": {
      "model_module": "@jupyter-widgets/base",
      "model_module_version": "2.0.0",
      "model_name": "LayoutModel",
      "state": {}
     },
     "80dbcaecec1b49db960d634b791e8416": {
      "model_module": "@jupyter-widgets/controls",
      "model_module_version": "2.0.0",
      "model_name": "HTMLStyleModel",
      "state": {
       "description_width": "",
       "font_size": null,
       "text_color": null
      }
     },
     "81256b754b2847d98493e61b9759f03e": {
      "model_module": "@jupyter-widgets/controls",
      "model_module_version": "2.0.0",
      "model_name": "HTMLStyleModel",
      "state": {
       "description_width": "",
       "font_size": null,
       "text_color": null
      }
     },
     "8158163eba0e40519c0391f745e0a55b": {
      "model_module": "@jupyter-widgets/controls",
      "model_module_version": "2.0.0",
      "model_name": "HTMLStyleModel",
      "state": {
       "description_width": "",
       "font_size": null,
       "text_color": null
      }
     },
     "81d2fc44e5594eb090d5d605a16fccb6": {
      "model_module": "@jupyter-widgets/base",
      "model_module_version": "2.0.0",
      "model_name": "LayoutModel",
      "state": {}
     },
     "81d413a0cf6344878aeecda75a62bbb8": {
      "model_module": "@jupyter-widgets/base",
      "model_module_version": "2.0.0",
      "model_name": "LayoutModel",
      "state": {}
     },
     "823d75e20eee4669956d986cf41763b2": {
      "model_module": "@jupyter-widgets/base",
      "model_module_version": "2.0.0",
      "model_name": "LayoutModel",
      "state": {}
     },
     "82dda654919c46599484d159a3e8e98e": {
      "model_module": "@jupyter-widgets/controls",
      "model_module_version": "2.0.0",
      "model_name": "HTMLStyleModel",
      "state": {
       "description_width": "",
       "font_size": null,
       "text_color": null
      }
     },
     "8359c758cdad4e7b9cdfb25f78229576": {
      "model_module": "@jupyter-widgets/controls",
      "model_module_version": "2.0.0",
      "model_name": "ProgressStyleModel",
      "state": {
       "description_width": ""
      }
     },
     "836806dede0c4b89afc87528d33633b2": {
      "model_module": "@jupyter-widgets/controls",
      "model_module_version": "2.0.0",
      "model_name": "ProgressStyleModel",
      "state": {
       "description_width": ""
      }
     },
     "836d6daa75e440a6a22542a8c4365e41": {
      "model_module": "@jupyter-widgets/controls",
      "model_module_version": "2.0.0",
      "model_name": "HBoxModel",
      "state": {
       "children": [
        "IPY_MODEL_d5f05d1f86044d4682a8c04e9e8b61ad",
        "IPY_MODEL_b4bc99ebc10544509079b9109e9b502a",
        "IPY_MODEL_446782fe93aa49228bdbeba32b07577f"
       ],
       "layout": "IPY_MODEL_4d2cb0fb66db4a189758dd364ca58e53"
      }
     },
     "83d5ef4e975f4830baf0a81c1062be0a": {
      "model_module": "@jupyter-widgets/controls",
      "model_module_version": "2.0.0",
      "model_name": "HTMLStyleModel",
      "state": {
       "description_width": "",
       "font_size": null,
       "text_color": null
      }
     },
     "83f9dc910dde4653befea9eed68148fd": {
      "model_module": "@jupyter-widgets/base",
      "model_module_version": "2.0.0",
      "model_name": "LayoutModel",
      "state": {}
     },
     "84625f0e2b50457ea9b97d078fe0ca3f": {
      "model_module": "@jupyter-widgets/base",
      "model_module_version": "2.0.0",
      "model_name": "LayoutModel",
      "state": {}
     },
     "8466549b1fb24beb804873fe2a8413ad": {
      "model_module": "@jupyter-widgets/controls",
      "model_module_version": "2.0.0",
      "model_name": "HTMLModel",
      "state": {
       "layout": "IPY_MODEL_63df24882fa447eabf85321e090d2c1f",
       "style": "IPY_MODEL_000282865b9648dc9f14eb3206626597",
       "value": " 33/33 [00:15&lt;00:00,  2.87it/s, Acc=58.50%, BestAcc=60.00%, F1=0.53, Prec=0.59, Rec=0.60]"
      }
     },
     "84a5d6adb9e24c5fb4acae4af5d7d80d": {
      "model_module": "@jupyter-widgets/base",
      "model_module_version": "2.0.0",
      "model_name": "LayoutModel",
      "state": {}
     },
     "84a9f679b88641e9a147c2805600a57b": {
      "model_module": "@jupyter-widgets/controls",
      "model_module_version": "2.0.0",
      "model_name": "ProgressStyleModel",
      "state": {
       "description_width": ""
      }
     },
     "84b2fe74019a4ec09d57901858ee0948": {
      "model_module": "@jupyter-widgets/controls",
      "model_module_version": "2.0.0",
      "model_name": "HTMLStyleModel",
      "state": {
       "description_width": "",
       "font_size": null,
       "text_color": null
      }
     },
     "84bb5c0175874090a26d8918f79f1665": {
      "model_module": "@jupyter-widgets/controls",
      "model_module_version": "2.0.0",
      "model_name": "HTMLModel",
      "state": {
       "layout": "IPY_MODEL_25f8e2c1f8024856b79ffd85a9c41251",
       "style": "IPY_MODEL_67c7bd034a034496a74379294ce187e6",
       "value": " 69/69 [00:32&lt;00:00,  2.90it/s, Acc=98.50%, BestAcc=98.50%, F1=0.98, Prec=0.99, Rec=0.98]"
      }
     },
     "84bd9913b2994623a2b5fab5440e47cb": {
      "model_module": "@jupyter-widgets/controls",
      "model_module_version": "2.0.0",
      "model_name": "HTMLStyleModel",
      "state": {
       "description_width": "",
       "font_size": null,
       "text_color": null
      }
     },
     "852e9e07b61e41fabe288295db5a0ef8": {
      "model_module": "@jupyter-widgets/controls",
      "model_module_version": "2.0.0",
      "model_name": "ProgressStyleModel",
      "state": {
       "description_width": ""
      }
     },
     "856e6f405e094ca98125ec638e14a4a2": {
      "model_module": "@jupyter-widgets/controls",
      "model_module_version": "2.0.0",
      "model_name": "FloatProgressModel",
      "state": {
       "bar_style": "success",
       "layout": "IPY_MODEL_1de2552f71a64c54be6abe8c793b8765",
       "max": 66,
       "style": "IPY_MODEL_6c1c71a2a42c471da36203a36d19042a",
       "value": 66
      }
     },
     "85e5d939b7684d21ae0a98ff43a922e5": {
      "model_module": "@jupyter-widgets/controls",
      "model_module_version": "2.0.0",
      "model_name": "HTMLStyleModel",
      "state": {
       "description_width": "",
       "font_size": null,
       "text_color": null
      }
     },
     "864e5d2cf64e4ef7a105882c72d41318": {
      "model_module": "@jupyter-widgets/base",
      "model_module_version": "2.0.0",
      "model_name": "LayoutModel",
      "state": {}
     },
     "868ee5b7b9944b47a888dbf1410381d4": {
      "model_module": "@jupyter-widgets/base",
      "model_module_version": "2.0.0",
      "model_name": "LayoutModel",
      "state": {}
     },
     "86a958f8f3534595931146c4e5ce051b": {
      "model_module": "@jupyter-widgets/base",
      "model_module_version": "2.0.0",
      "model_name": "LayoutModel",
      "state": {}
     },
     "86ad9c3218304e4aba9a558fe6a25490": {
      "model_module": "@jupyter-widgets/base",
      "model_module_version": "2.0.0",
      "model_name": "LayoutModel",
      "state": {}
     },
     "86e6047b77d341f09fae69f1bf69be1d": {
      "model_module": "@jupyter-widgets/controls",
      "model_module_version": "2.0.0",
      "model_name": "HTMLModel",
      "state": {
       "layout": "IPY_MODEL_4ae4a1cf4e6346ae9234c33de5a8a467",
       "style": "IPY_MODEL_befd30d8dc9b4cc1bc2d443e214ebbad",
       "value": "Samples:   0%"
      }
     },
     "8711c671edea450e8401dc0bfcf15176": {
      "model_module": "@jupyter-widgets/controls",
      "model_module_version": "2.0.0",
      "model_name": "HBoxModel",
      "state": {
       "children": [
        "IPY_MODEL_8e94fc771e2c4677847d7fbbf00529c7",
        "IPY_MODEL_69a2b1c68e4c4c829d984a22c054f7f0",
        "IPY_MODEL_e26576bf3e294c30aad3ae2bf09c2786"
       ],
       "layout": "IPY_MODEL_2ba2538108ec4977999841cca5ecf5e7"
      }
     },
     "8718aee3862146eba68543bf4694c6ed": {
      "model_module": "@jupyter-widgets/controls",
      "model_module_version": "2.0.0",
      "model_name": "HTMLStyleModel",
      "state": {
       "description_width": "",
       "font_size": null,
       "text_color": null
      }
     },
     "876a719843fd42d4a60bfde8efe31aee": {
      "model_module": "@jupyter-widgets/base",
      "model_module_version": "2.0.0",
      "model_name": "LayoutModel",
      "state": {}
     },
     "87728dfcaa4f4331b71d260062a108e4": {
      "model_module": "@jupyter-widgets/base",
      "model_module_version": "2.0.0",
      "model_name": "LayoutModel",
      "state": {}
     },
     "879da435d8e945c79478e06956efa25c": {
      "model_module": "@jupyter-widgets/base",
      "model_module_version": "2.0.0",
      "model_name": "LayoutModel",
      "state": {}
     },
     "87f80cea16284a4db328bcaaee5339a4": {
      "model_module": "@jupyter-widgets/base",
      "model_module_version": "2.0.0",
      "model_name": "LayoutModel",
      "state": {}
     },
     "87f91847cdf84286ae7df6a8f44b97d1": {
      "model_module": "@jupyter-widgets/controls",
      "model_module_version": "2.0.0",
      "model_name": "HTMLModel",
      "state": {
       "layout": "IPY_MODEL_14ecb9b55a714fff83ffbc0e25de7d57",
       "style": "IPY_MODEL_fd7ca83fe70c4b13a3e6e3fc964a9819",
       "value": "4x4_2: 100%"
      }
     },
     "8808b67b5e014633b45b436e0c64ea4f": {
      "model_module": "@jupyter-widgets/controls",
      "model_module_version": "2.0.0",
      "model_name": "HTMLModel",
      "state": {
       "layout": "IPY_MODEL_0b86fc1903aa4cc2a29f231b8d128891",
       "style": "IPY_MODEL_a32a6dcaa7b344ab91a8162fb9acb733",
       "value": "3x3_2: 100%"
      }
     },
     "8814eb6d7f554683a1c40ba2e1841979": {
      "model_module": "@jupyter-widgets/controls",
      "model_module_version": "2.0.0",
      "model_name": "HTMLStyleModel",
      "state": {
       "description_width": "",
       "font_size": null,
       "text_color": null
      }
     },
     "88451cf52a124497b2a7010328c3b7bf": {
      "model_module": "@jupyter-widgets/controls",
      "model_module_version": "2.0.0",
      "model_name": "HTMLStyleModel",
      "state": {
       "description_width": "",
       "font_size": null,
       "text_color": null
      }
     },
     "88b8f380863641e89104d826c09c0321": {
      "model_module": "@jupyter-widgets/controls",
      "model_module_version": "2.0.0",
      "model_name": "HBoxModel",
      "state": {
       "children": [
        "IPY_MODEL_490b4bdd627344a8b711a8685af9a286",
        "IPY_MODEL_28b11474d8594e25b321aaefe7393514",
        "IPY_MODEL_98d61f720cfd4436b711bd77cb17dff0"
       ],
       "layout": "IPY_MODEL_2260699457514a3e9d85f69e854e0117"
      }
     },
     "89126329672c401daf8b7545871ecb41": {
      "model_module": "@jupyter-widgets/controls",
      "model_module_version": "2.0.0",
      "model_name": "HTMLStyleModel",
      "state": {
       "description_width": "",
       "font_size": null,
       "text_color": null
      }
     },
     "893d142f686b45e9ad25af4600db15be": {
      "model_module": "@jupyter-widgets/controls",
      "model_module_version": "2.0.0",
      "model_name": "HTMLStyleModel",
      "state": {
       "description_width": "",
       "font_size": null,
       "text_color": null
      }
     },
     "894b8cf25f67456f8b9f5ec4744fd773": {
      "model_module": "@jupyter-widgets/controls",
      "model_module_version": "2.0.0",
      "model_name": "HTMLStyleModel",
      "state": {
       "description_width": "",
       "font_size": null,
       "text_color": null
      }
     },
     "8995bde063f144ea817006f1fba84bd2": {
      "model_module": "@jupyter-widgets/controls",
      "model_module_version": "2.0.0",
      "model_name": "HTMLModel",
      "state": {
       "layout": "IPY_MODEL_1354015bbb984a61be774ec15ea89c37",
       "style": "IPY_MODEL_e20e0e71e71b431f8bcd7ef8a92191b2",
       "value": " 100/100 [01:11&lt;00:00,  1.37it/s, Acc=85.00%, BestAcc=89.00%, F1=0.89, Prec=0.91, Rec=0.89]"
      }
     },
     "89bd81927fe24530949a73f9e3c71928": {
      "model_module": "@jupyter-widgets/controls",
      "model_module_version": "2.0.0",
      "model_name": "HTMLStyleModel",
      "state": {
       "description_width": "",
       "font_size": null,
       "text_color": null
      }
     },
     "89d4f6c7c237411a9c3da60312019a2f": {
      "model_module": "@jupyter-widgets/base",
      "model_module_version": "2.0.0",
      "model_name": "LayoutModel",
      "state": {}
     },
     "8a354d777c6c485184137a325dd31077": {
      "model_module": "@jupyter-widgets/controls",
      "model_module_version": "2.0.0",
      "model_name": "FloatProgressModel",
      "state": {
       "bar_style": "success",
       "layout": "IPY_MODEL_f8608003655f4153b242cad1dab16dab",
       "max": 15,
       "style": "IPY_MODEL_e657ab79b23a4606b240293dba8f31b5",
       "value": 15
      }
     },
     "8b01aa29ab964e0493732f5f085e6798": {
      "model_module": "@jupyter-widgets/controls",
      "model_module_version": "2.0.0",
      "model_name": "HTMLModel",
      "state": {
       "layout": "IPY_MODEL_823d75e20eee4669956d986cf41763b2",
       "style": "IPY_MODEL_56d609a88d8043b097b3a890818d98b8",
       "value": "4x4_2: 100%"
      }
     },
     "8b522dae1da74d2ba119779455d4a812": {
      "model_module": "@jupyter-widgets/controls",
      "model_module_version": "2.0.0",
      "model_name": "ProgressStyleModel",
      "state": {
       "description_width": ""
      }
     },
     "8bdf50fee5ab46b3b2bafeb9f83064e6": {
      "model_module": "@jupyter-widgets/controls",
      "model_module_version": "2.0.0",
      "model_name": "HTMLStyleModel",
      "state": {
       "description_width": "",
       "font_size": null,
       "text_color": null
      }
     },
     "8c5276d67f44409ca285cd4d137a74e3": {
      "model_module": "@jupyter-widgets/controls",
      "model_module_version": "2.0.0",
      "model_name": "HTMLStyleModel",
      "state": {
       "description_width": "",
       "font_size": null,
       "text_color": null
      }
     },
     "8c62b81f92d34b37bf4b1b7e214eccb8": {
      "model_module": "@jupyter-widgets/controls",
      "model_module_version": "2.0.0",
      "model_name": "HTMLModel",
      "state": {
       "layout": "IPY_MODEL_e38c69b12ff44bcba90875fcc4d6e666",
       "style": "IPY_MODEL_7cfd4978fb2d49139c855e75fa4593b5",
       "value": " 0/22 [00:00&lt;?, ?it/s]"
      }
     },
     "8c65441626db4dfe91463c9fca1790f5": {
      "model_module": "@jupyter-widgets/controls",
      "model_module_version": "2.0.0",
      "model_name": "HTMLModel",
      "state": {
       "layout": "IPY_MODEL_5fc45943d16f410eba2b93d4e6e769d7",
       "style": "IPY_MODEL_fde0c1c8b2a14b108e06696cd3f67a64",
       "value": "3x3_2: 100%"
      }
     },
     "8d201762a4534ca28146c51cd3a4da67": {
      "model_module": "@jupyter-widgets/base",
      "model_module_version": "2.0.0",
      "model_name": "LayoutModel",
      "state": {}
     },
     "8d976bd816a24eb0bd5b9d26d7f455a9": {
      "model_module": "@jupyter-widgets/base",
      "model_module_version": "2.0.0",
      "model_name": "LayoutModel",
      "state": {}
     },
     "8db4dfbf3e1a4633a800fa158b28bca2": {
      "model_module": "@jupyter-widgets/base",
      "model_module_version": "2.0.0",
      "model_name": "LayoutModel",
      "state": {}
     },
     "8dc5a2745e41448090e9410073dc3892": {
      "model_module": "@jupyter-widgets/controls",
      "model_module_version": "2.0.0",
      "model_name": "HTMLStyleModel",
      "state": {
       "description_width": "",
       "font_size": null,
       "text_color": null
      }
     },
     "8e5a177d0de44c138e48f75ed723349f": {
      "model_module": "@jupyter-widgets/controls",
      "model_module_version": "2.0.0",
      "model_name": "HBoxModel",
      "state": {
       "children": [
        "IPY_MODEL_ec732b43e04c433dbc715fd8737d68ff",
        "IPY_MODEL_7b882686153945cea861ed9f7be6a1c9",
        "IPY_MODEL_562ee8e894074529b19c59ecf7368b94"
       ],
       "layout": "IPY_MODEL_5c9e41f90ed649738b1ee4d7bebfed23"
      }
     },
     "8e6a72d069fb44cbba8af673e4cb0ab6": {
      "model_module": "@jupyter-widgets/base",
      "model_module_version": "2.0.0",
      "model_name": "LayoutModel",
      "state": {}
     },
     "8e94fc771e2c4677847d7fbbf00529c7": {
      "model_module": "@jupyter-widgets/controls",
      "model_module_version": "2.0.0",
      "model_name": "HTMLModel",
      "state": {
       "layout": "IPY_MODEL_6ee8d2d83f7a4860a95e06a388b4caaa",
       "style": "IPY_MODEL_7e2eafc713a043a1b046dae87c0b87d4",
       "value": "3x3_2: 100%"
      }
     },
     "8ec0e2d9108e4005a26b5a5f23fc67c7": {
      "model_module": "@jupyter-widgets/base",
      "model_module_version": "2.0.0",
      "model_name": "LayoutModel",
      "state": {}
     },
     "8f672a1079204dd6bf98fa1ffcac1eec": {
      "model_module": "@jupyter-widgets/controls",
      "model_module_version": "2.0.0",
      "model_name": "FloatProgressModel",
      "state": {
       "bar_style": "success",
       "layout": "IPY_MODEL_1b25ad6f0b37410b807eb2180ce08036",
       "style": "IPY_MODEL_cbda157a539d406dbb5569f538f272e4",
       "value": 100
      }
     },
     "8f728afc37c241bf81a020c407cb6443": {
      "model_module": "@jupyter-widgets/base",
      "model_module_version": "2.0.0",
      "model_name": "LayoutModel",
      "state": {}
     },
     "8f7c52af0a80417ca3933b014ff4c7e6": {
      "model_module": "@jupyter-widgets/controls",
      "model_module_version": "2.0.0",
      "model_name": "HTMLStyleModel",
      "state": {
       "description_width": "",
       "font_size": null,
       "text_color": null
      }
     },
     "8f8edf906ba34eff9224b3eb2a3972ab": {
      "model_module": "@jupyter-widgets/controls",
      "model_module_version": "2.0.0",
      "model_name": "HBoxModel",
      "state": {
       "children": [
        "IPY_MODEL_10f6ee3eb2e94d70962f9ffcd20ea028",
        "IPY_MODEL_8a354d777c6c485184137a325dd31077",
        "IPY_MODEL_33f05cf1357a4d1dbb5efb1b7fc7dae7"
       ],
       "layout": "IPY_MODEL_94f6c423bf184edc8da9d466024d2bde"
      }
     },
     "8fb0b27a4a9a460ba52127c72407601e": {
      "model_module": "@jupyter-widgets/base",
      "model_module_version": "2.0.0",
      "model_name": "LayoutModel",
      "state": {}
     },
     "90978be3744b41138dc3c96d23883790": {
      "model_module": "@jupyter-widgets/controls",
      "model_module_version": "2.0.0",
      "model_name": "HBoxModel",
      "state": {
       "children": [
        "IPY_MODEL_92e685670ebf4911ad022275aa896c3e",
        "IPY_MODEL_3807017a23db421bbc25ac0ba9ba65dd",
        "IPY_MODEL_de30f543a4b14acb8650f6c3a71a7f00"
       ],
       "layout": "IPY_MODEL_4687afbf31b04b48aa61748cebe10988"
      }
     },
     "910511a331834724a03ef0757af9c9d7": {
      "model_module": "@jupyter-widgets/controls",
      "model_module_version": "2.0.0",
      "model_name": "FloatProgressModel",
      "state": {
       "bar_style": "success",
       "layout": "IPY_MODEL_348feb3eed434c1bb72fe528a652e224",
       "max": 45,
       "style": "IPY_MODEL_471f14e60d7744f2809e754a57001969",
       "value": 45
      }
     },
     "917ad14c4eca48158f279cdecd5e6720": {
      "model_module": "@jupyter-widgets/controls",
      "model_module_version": "2.0.0",
      "model_name": "HTMLStyleModel",
      "state": {
       "description_width": "",
       "font_size": null,
       "text_color": null
      }
     },
     "925e1800db7e4ba8bfd8f4f1e2b94b3a": {
      "model_module": "@jupyter-widgets/controls",
      "model_module_version": "2.0.0",
      "model_name": "HTMLModel",
      "state": {
       "layout": "IPY_MODEL_bcb41db29b7245c1afe37624c34b5ef8",
       "style": "IPY_MODEL_139f1ff503154b338fa7d0782bf492d9",
       "value": "4x4_2:  38%"
      }
     },
     "92d4302f3ff64db48cde8eb8fb0825bc": {
      "model_module": "@jupyter-widgets/controls",
      "model_module_version": "2.0.0",
      "model_name": "HTMLModel",
      "state": {
       "layout": "IPY_MODEL_4cd2cc76606f4194a9af4c904e000710",
       "style": "IPY_MODEL_457870e85ed04e77ae1ef8e57f82d5a5",
       "value": "Moves Before:  33%"
      }
     },
     "92e685670ebf4911ad022275aa896c3e": {
      "model_module": "@jupyter-widgets/controls",
      "model_module_version": "2.0.0",
      "model_name": "HTMLModel",
      "state": {
       "layout": "IPY_MODEL_3a6ee4ac66054a2b9cce22355bfe2cf7",
       "style": "IPY_MODEL_4bb84eaeb60e45089ab1ba0958a054c7",
       "value": "4x4_2: 100%"
      }
     },
     "92f400db1be54d15a843a617338e4350": {
      "model_module": "@jupyter-widgets/base",
      "model_module_version": "2.0.0",
      "model_name": "LayoutModel",
      "state": {}
     },
     "93433103f4984927a93ba1957fed9c52": {
      "model_module": "@jupyter-widgets/base",
      "model_module_version": "2.0.0",
      "model_name": "LayoutModel",
      "state": {}
     },
     "934376098394404683e7ccb548565f1c": {
      "model_module": "@jupyter-widgets/base",
      "model_module_version": "2.0.0",
      "model_name": "LayoutModel",
      "state": {}
     },
     "93ba2ee496a2458999f1326d8c6ff827": {
      "model_module": "@jupyter-widgets/base",
      "model_module_version": "2.0.0",
      "model_name": "LayoutModel",
      "state": {}
     },
     "93e4543e34434a9a97b796a74debd754": {
      "model_module": "@jupyter-widgets/controls",
      "model_module_version": "2.0.0",
      "model_name": "FloatProgressModel",
      "state": {
       "bar_style": "success",
       "layout": "IPY_MODEL_f24ff50a9fbf41d3a4a236347bf81081",
       "max": 16,
       "style": "IPY_MODEL_a3e4ccd166c24ad0b9f2eedf81504214",
       "value": 16
      }
     },
     "9404fe1255254c3a8c20d79fafcb6ace": {
      "model_module": "@jupyter-widgets/controls",
      "model_module_version": "2.0.0",
      "model_name": "HTMLModel",
      "state": {
       "layout": "IPY_MODEL_63e84445d2de4274ba679405a8f9d437",
       "style": "IPY_MODEL_a35dd564cd3847d6b558355ba792f8cb",
       "value": "3x3_2: 100%"
      }
     },
     "94e94a197e4a49d4aaf442798f2062a9": {
      "model_module": "@jupyter-widgets/controls",
      "model_module_version": "2.0.0",
      "model_name": "HTMLStyleModel",
      "state": {
       "description_width": "",
       "font_size": null,
       "text_color": null
      }
     },
     "94f6c423bf184edc8da9d466024d2bde": {
      "model_module": "@jupyter-widgets/base",
      "model_module_version": "2.0.0",
      "model_name": "LayoutModel",
      "state": {}
     },
     "9505c1696db54f02a0e34f5bb8cb53d1": {
      "model_module": "@jupyter-widgets/base",
      "model_module_version": "2.0.0",
      "model_name": "LayoutModel",
      "state": {}
     },
     "9549860aef374a6dabff89b68ae4f46e": {
      "model_module": "@jupyter-widgets/controls",
      "model_module_version": "2.0.0",
      "model_name": "HTMLModel",
      "state": {
       "layout": "IPY_MODEL_a9237526529649caacdfa274b4562291",
       "style": "IPY_MODEL_f081d133766841e495d1b13d93827ecc",
       "value": "4x4_2: 100%"
      }
     },
     "958357a1a31840a1915a06e1a2405462": {
      "model_module": "@jupyter-widgets/controls",
      "model_module_version": "2.0.0",
      "model_name": "HTMLModel",
      "state": {
       "layout": "IPY_MODEL_1ef018e74b244962b5f311b5d35e47f4",
       "style": "IPY_MODEL_62c4eb471cea4d81897a8e9f80544993",
       "value": " 29/29 [00:14&lt;00:00,  2.52it/s, Acc=97.00%, BestAcc=97.50%, F1=0.97, Prec=0.98, Rec=0.97]"
      }
     },
     "958442959d814b43961cc5c2f882e4b3": {
      "model_module": "@jupyter-widgets/controls",
      "model_module_version": "2.0.0",
      "model_name": "HBoxModel",
      "state": {
       "children": [
        "IPY_MODEL_c71aa2948a11479a80486904dbd63af3",
        "IPY_MODEL_b243798d35084540ae59561067f829f0",
        "IPY_MODEL_57eeb9bc51f24977abe24d3fec50f442"
       ],
       "layout": "IPY_MODEL_d727dc25766b452b8f5c74313c4f722a"
      }
     },
     "95bac0059bd24f3aa896046e09e05317": {
      "model_module": "@jupyter-widgets/controls",
      "model_module_version": "2.0.0",
      "model_name": "FloatProgressModel",
      "state": {
       "layout": "IPY_MODEL_b5967d2a82e6432f919f4b52ef442bb9",
       "max": 66,
       "style": "IPY_MODEL_305425032ba94768a2e54b99e91124f1",
       "value": 25
      }
     },
     "95c951072b534fee8e4d04ff4f71bfe9": {
      "model_module": "@jupyter-widgets/base",
      "model_module_version": "2.0.0",
      "model_name": "LayoutModel",
      "state": {}
     },
     "95dc10b9e5f94312a0021cfe23c42e92": {
      "model_module": "@jupyter-widgets/controls",
      "model_module_version": "2.0.0",
      "model_name": "HTMLStyleModel",
      "state": {
       "description_width": "",
       "font_size": null,
       "text_color": null
      }
     },
     "964387c15f6541c9becf2e685096af1d": {
      "model_module": "@jupyter-widgets/controls",
      "model_module_version": "2.0.0",
      "model_name": "HTMLStyleModel",
      "state": {
       "description_width": "",
       "font_size": null,
       "text_color": null
      }
     },
     "964f4d66dc6244db8cebd3be58e26454": {
      "model_module": "@jupyter-widgets/controls",
      "model_module_version": "2.0.0",
      "model_name": "HTMLStyleModel",
      "state": {
       "description_width": "",
       "font_size": null,
       "text_color": null
      }
     },
     "965b3da476534aea9d9944ea27f1f54b": {
      "model_module": "@jupyter-widgets/base",
      "model_module_version": "2.0.0",
      "model_name": "LayoutModel",
      "state": {}
     },
     "9683b3ba5eef4fbb8bc5f7268b3dbbd7": {
      "model_module": "@jupyter-widgets/controls",
      "model_module_version": "2.0.0",
      "model_name": "HTMLModel",
      "state": {
       "layout": "IPY_MODEL_f0feb7a4ea3d4cff950d639201f97309",
       "style": "IPY_MODEL_4b3e04c1d87e46608db7e5a4c643a011",
       "value": "3x3_2: 100%"
      }
     },
     "96e275952c6b4c4eafc69becf87634a2": {
      "model_module": "@jupyter-widgets/base",
      "model_module_version": "2.0.0",
      "model_name": "LayoutModel",
      "state": {}
     },
     "97144e28423e4e8ba40284f73a00bd3f": {
      "model_module": "@jupyter-widgets/controls",
      "model_module_version": "2.0.0",
      "model_name": "HTMLStyleModel",
      "state": {
       "description_width": "",
       "font_size": null,
       "text_color": null
      }
     },
     "97343efbb0df44a09341ada9fd8aa1de": {
      "model_module": "@jupyter-widgets/base",
      "model_module_version": "2.0.0",
      "model_name": "LayoutModel",
      "state": {}
     },
     "979754c8ace04e06845e9d17c234b142": {
      "model_module": "@jupyter-widgets/controls",
      "model_module_version": "2.0.0",
      "model_name": "HTMLStyleModel",
      "state": {
       "description_width": "",
       "font_size": null,
       "text_color": null
      }
     },
     "97f81d7314bd4d93adf8761c1540fcdd": {
      "model_module": "@jupyter-widgets/controls",
      "model_module_version": "2.0.0",
      "model_name": "ProgressStyleModel",
      "state": {
       "description_width": ""
      }
     },
     "983d75f8edaa4841aa0cde80c152f4cc": {
      "model_module": "@jupyter-widgets/controls",
      "model_module_version": "2.0.0",
      "model_name": "HTMLModel",
      "state": {
       "layout": "IPY_MODEL_a75f95cdba8341068f26eae1cc349dc4",
       "style": "IPY_MODEL_84b2fe74019a4ec09d57901858ee0948",
       "value": "3x3_2: 100%"
      }
     },
     "986f0595211b4b738beb5a0470abf6c5": {
      "model_module": "@jupyter-widgets/controls",
      "model_module_version": "2.0.0",
      "model_name": "HBoxModel",
      "state": {
       "children": [
        "IPY_MODEL_92d4302f3ff64db48cde8eb8fb0825bc",
        "IPY_MODEL_c58136742426450194b50cc1259c3ad9",
        "IPY_MODEL_12219a523a284549bfb975ee4e542a58"
       ],
       "layout": "IPY_MODEL_f13755e50ed5450eb14787b7aef78dba"
      }
     },
     "98856a46d061467c8e2b2ef50feec061": {
      "model_module": "@jupyter-widgets/base",
      "model_module_version": "2.0.0",
      "model_name": "LayoutModel",
      "state": {}
     },
     "98c2a24e3f3d4911803c83a4dad8ea47": {
      "model_module": "@jupyter-widgets/controls",
      "model_module_version": "2.0.0",
      "model_name": "HTMLStyleModel",
      "state": {
       "description_width": "",
       "font_size": null,
       "text_color": null
      }
     },
     "98d61f720cfd4436b711bd77cb17dff0": {
      "model_module": "@jupyter-widgets/controls",
      "model_module_version": "2.0.0",
      "model_name": "HTMLModel",
      "state": {
       "layout": "IPY_MODEL_6b32f2ebbc494bf0ba8bd55eeafafb4f",
       "style": "IPY_MODEL_0785a03540b943118efe00f1151926b4",
       "value": " 66/66 [00:27&lt;00:00,  2.96it/s, Acc=98.00%, BestAcc=99.00%, F1=0.99, Prec=0.99, Rec=0.99]"
      }
     },
     "98f26442838e458e84a30a66fec339fd": {
      "model_module": "@jupyter-widgets/controls",
      "model_module_version": "2.0.0",
      "model_name": "HTMLModel",
      "state": {
       "layout": "IPY_MODEL_79189615723443d887ed76609d323717",
       "style": "IPY_MODEL_bb1391c023904204a85827346e4925c9",
       "value": "4x4_2: 100%"
      }
     },
     "98fc9c8b3df14fa29408267d20f21288": {
      "model_module": "@jupyter-widgets/controls",
      "model_module_version": "2.0.0",
      "model_name": "HTMLStyleModel",
      "state": {
       "description_width": "",
       "font_size": null,
       "text_color": null
      }
     },
     "9974a39e387b403b9b1ac194d53509b8": {
      "model_module": "@jupyter-widgets/controls",
      "model_module_version": "2.0.0",
      "model_name": "ProgressStyleModel",
      "state": {
       "description_width": ""
      }
     },
     "9977d7ab8eef4e53be36ff7cc9199dc4": {
      "model_module": "@jupyter-widgets/base",
      "model_module_version": "2.0.0",
      "model_name": "LayoutModel",
      "state": {}
     },
     "99c04bf427a34b0f9fadc1ff8f3f18c2": {
      "model_module": "@jupyter-widgets/controls",
      "model_module_version": "2.0.0",
      "model_name": "HTMLModel",
      "state": {
       "layout": "IPY_MODEL_292482ab3349483786abf3cc4a127e27",
       "style": "IPY_MODEL_eb9bb631b9c5489e8b2bf11d9ba68b13",
       "value": "3x3_2: 100%"
      }
     },
     "99d3fef4143d4d8898d337bb6ee7fa3b": {
      "model_module": "@jupyter-widgets/controls",
      "model_module_version": "2.0.0",
      "model_name": "HTMLModel",
      "state": {
       "layout": "IPY_MODEL_53d482d5a48d41d4bea3d4c519ded299",
       "style": "IPY_MODEL_5c0fe68b39b04a78a95744d0349c456c",
       "value": "3x3_0: 100%"
      }
     },
     "99edd2d200c64674b7cf635b0b7fec8d": {
      "model_module": "@jupyter-widgets/controls",
      "model_module_version": "2.0.0",
      "model_name": "ProgressStyleModel",
      "state": {
       "description_width": ""
      }
     },
     "99fd1029bf2f40f3bbc95b185eee770e": {
      "model_module": "@jupyter-widgets/controls",
      "model_module_version": "2.0.0",
      "model_name": "FloatProgressModel",
      "state": {
       "bar_style": "success",
       "layout": "IPY_MODEL_a1ea1caad3004a21912b2eb9f0b80ff3",
       "max": 33,
       "style": "IPY_MODEL_1a464f141eed4596aaa76f00cf6163b7",
       "value": 33
      }
     },
     "9ac0f4826b6644c29e7df7d32cb5a297": {
      "model_module": "@jupyter-widgets/controls",
      "model_module_version": "2.0.0",
      "model_name": "HTMLStyleModel",
      "state": {
       "description_width": "",
       "font_size": null,
       "text_color": null
      }
     },
     "9ac615a717b04275bcb08cd52d9bb323": {
      "model_module": "@jupyter-widgets/controls",
      "model_module_version": "2.0.0",
      "model_name": "ProgressStyleModel",
      "state": {
       "description_width": ""
      }
     },
     "9b02578a3ae6459e8a00829f99238f5d": {
      "model_module": "@jupyter-widgets/controls",
      "model_module_version": "2.0.0",
      "model_name": "HTMLStyleModel",
      "state": {
       "description_width": "",
       "font_size": null,
       "text_color": null
      }
     },
     "9b0951a0f33c4f15b5a525fa034f2ed0": {
      "model_module": "@jupyter-widgets/controls",
      "model_module_version": "2.0.0",
      "model_name": "HTMLStyleModel",
      "state": {
       "description_width": "",
       "font_size": null,
       "text_color": null
      }
     },
     "9b501f3867ef4096a864b09624f1555b": {
      "model_module": "@jupyter-widgets/controls",
      "model_module_version": "2.0.0",
      "model_name": "HBoxModel",
      "state": {
       "children": [
        "IPY_MODEL_27f490c658d34a9eafba5c3a1fb17db0",
        "IPY_MODEL_99fd1029bf2f40f3bbc95b185eee770e",
        "IPY_MODEL_8466549b1fb24beb804873fe2a8413ad"
       ],
       "layout": "IPY_MODEL_f2c62a1aa2444f7fb66acfd9a737bb9b"
      }
     },
     "9b51fcf0982e4531a5f3d9b94fccf850": {
      "model_module": "@jupyter-widgets/controls",
      "model_module_version": "2.0.0",
      "model_name": "HTMLModel",
      "state": {
       "layout": "IPY_MODEL_50a0255be1624d7387ffe4660955e113",
       "style": "IPY_MODEL_8158163eba0e40519c0391f745e0a55b",
       "value": "4x4_2: 100%"
      }
     },
     "9b6d784b7fa2498297d14f2b1bb8e2e8": {
      "model_module": "@jupyter-widgets/controls",
      "model_module_version": "2.0.0",
      "model_name": "ProgressStyleModel",
      "state": {
       "description_width": ""
      }
     },
     "9b7cb52795e9442288f701e60a2d0395": {
      "model_module": "@jupyter-widgets/controls",
      "model_module_version": "2.0.0",
      "model_name": "FloatProgressModel",
      "state": {
       "bar_style": "success",
       "layout": "IPY_MODEL_e3d93ffed183426792d43d34cc0735f6",
       "max": 58,
       "style": "IPY_MODEL_147d5eaa6e814db0a52175f724967fdf",
       "value": 58
      }
     },
     "9c079b0f3b1b44ed8da08003bd1636be": {
      "model_module": "@jupyter-widgets/base",
      "model_module_version": "2.0.0",
      "model_name": "LayoutModel",
      "state": {}
     },
     "9c5dcb787d5e4ce7aa3f568b77b31cf2": {
      "model_module": "@jupyter-widgets/base",
      "model_module_version": "2.0.0",
      "model_name": "LayoutModel",
      "state": {}
     },
     "9c76a12289924153ae29ce96a63f4281": {
      "model_module": "@jupyter-widgets/base",
      "model_module_version": "2.0.0",
      "model_name": "LayoutModel",
      "state": {}
     },
     "9c81336338c147f2b960ef3c61236fdc": {
      "model_module": "@jupyter-widgets/controls",
      "model_module_version": "2.0.0",
      "model_name": "FloatProgressModel",
      "state": {
       "bar_style": "success",
       "layout": "IPY_MODEL_39f55df87d2d46aab284dede79947542",
       "max": 70,
       "style": "IPY_MODEL_36505523c1a44a9e9ce2353afd9eaace",
       "value": 70
      }
     },
     "9cd402565d764566bd863c6548101ca9": {
      "model_module": "@jupyter-widgets/base",
      "model_module_version": "2.0.0",
      "model_name": "LayoutModel",
      "state": {}
     },
     "9d069a595d8c40e18f267c2f12ad736b": {
      "model_module": "@jupyter-widgets/controls",
      "model_module_version": "2.0.0",
      "model_name": "HTMLModel",
      "state": {
       "layout": "IPY_MODEL_2994ca77053a4dc09c23341925aa4eef",
       "style": "IPY_MODEL_093981b0272c4c0d873849bb9e4cfcf6",
       "value": " 51/51 [00:27&lt;00:00,  2.17it/s, Acc=58.50%, BestAcc=59.00%, F1=0.58, Prec=0.58, Rec=0.59]"
      }
     },
     "9d90354b50664dd0ac021a84e005f63b": {
      "model_module": "@jupyter-widgets/controls",
      "model_module_version": "2.0.0",
      "model_name": "HTMLModel",
      "state": {
       "layout": "IPY_MODEL_dfb301f39ec440a5aab358e09c11195f",
       "style": "IPY_MODEL_80dbcaecec1b49db960d634b791e8416",
       "value": "3x3_2:  72%"
      }
     },
     "9dc4d2bad070479f92f6f5ebdb6c0491": {
      "model_module": "@jupyter-widgets/base",
      "model_module_version": "2.0.0",
      "model_name": "LayoutModel",
      "state": {}
     },
     "9e2c35b4467f4a19a7a19ba06c6a6729": {
      "model_module": "@jupyter-widgets/controls",
      "model_module_version": "2.0.0",
      "model_name": "HBoxModel",
      "state": {
       "children": [
        "IPY_MODEL_ca6198440d43417fbc1453833693fa70",
        "IPY_MODEL_475568baaea449df9512a8514e649a02",
        "IPY_MODEL_734d32e6308b44bda74e127ddef5a753"
       ],
       "layout": "IPY_MODEL_e3905ef4884045899e234b9e3a9e0a52"
      }
     },
     "9e2dfb8ab6cf43e5a8e13bc61ce9a0e8": {
      "model_module": "@jupyter-widgets/controls",
      "model_module_version": "2.0.0",
      "model_name": "FloatProgressModel",
      "state": {
       "bar_style": "success",
       "layout": "IPY_MODEL_09e0542916ae45ec82bd9d4315393aa4",
       "max": 26,
       "style": "IPY_MODEL_aac85e96f69f4834b10b29aff8e50f0b",
       "value": 26
      }
     },
     "9e91988520f246f78da3203973677b83": {
      "model_module": "@jupyter-widgets/base",
      "model_module_version": "2.0.0",
      "model_name": "LayoutModel",
      "state": {}
     },
     "9e98fb29ff0748fcafe9e908fee60384": {
      "model_module": "@jupyter-widgets/base",
      "model_module_version": "2.0.0",
      "model_name": "LayoutModel",
      "state": {}
     },
     "9ea8e8057ab64ff2b905a0768b58b0f8": {
      "model_module": "@jupyter-widgets/controls",
      "model_module_version": "2.0.0",
      "model_name": "FloatProgressModel",
      "state": {
       "bar_style": "success",
       "layout": "IPY_MODEL_9977d7ab8eef4e53be36ff7cc9199dc4",
       "max": 51,
       "style": "IPY_MODEL_d3bc8530a1804131bf7473e475312b07",
       "value": 51
      }
     },
     "9ed0bfbe9ddb4c0a869c44b0ad4ff217": {
      "model_module": "@jupyter-widgets/controls",
      "model_module_version": "2.0.0",
      "model_name": "HTMLStyleModel",
      "state": {
       "description_width": "",
       "font_size": null,
       "text_color": null
      }
     },
     "9f416db65c354364834d592a16359b98": {
      "model_module": "@jupyter-widgets/controls",
      "model_module_version": "2.0.0",
      "model_name": "ProgressStyleModel",
      "state": {
       "description_width": ""
      }
     },
     "9f4ac04e7e2d445d872ee4c9ce4b54b4": {
      "model_module": "@jupyter-widgets/controls",
      "model_module_version": "2.0.0",
      "model_name": "HTMLStyleModel",
      "state": {
       "description_width": "",
       "font_size": null,
       "text_color": null
      }
     },
     "9fa4b4ac5363481292c1692983cd65a5": {
      "model_module": "@jupyter-widgets/base",
      "model_module_version": "2.0.0",
      "model_name": "LayoutModel",
      "state": {}
     },
     "9fd9b02e5d6d4bb3887de886b4fce239": {
      "model_module": "@jupyter-widgets/base",
      "model_module_version": "2.0.0",
      "model_name": "LayoutModel",
      "state": {}
     },
     "a007a459dad04c14b2cc9af1f22ad130": {
      "model_module": "@jupyter-widgets/base",
      "model_module_version": "2.0.0",
      "model_name": "LayoutModel",
      "state": {}
     },
     "a0376c7c7ff84831a2367e1676ef4ae6": {
      "model_module": "@jupyter-widgets/controls",
      "model_module_version": "2.0.0",
      "model_name": "HBoxModel",
      "state": {
       "children": [
        "IPY_MODEL_7dfacc002be14cf7bc92bddaa0818a89",
        "IPY_MODEL_f1e7002254d34fb5b961ceecf4d1be6d",
        "IPY_MODEL_729a94b1e202445c9b57f75bb43a4708"
       ],
       "layout": "IPY_MODEL_537dedfc5c9a43a69b4dbf9b64be773d"
      }
     },
     "a047d0eddbb64819949e08bbbf054cbf": {
      "model_module": "@jupyter-widgets/controls",
      "model_module_version": "2.0.0",
      "model_name": "HTMLStyleModel",
      "state": {
       "description_width": "",
       "font_size": null,
       "text_color": null
      }
     },
     "a07aa01c720a43e09d8b56dcf6e9423e": {
      "model_module": "@jupyter-widgets/base",
      "model_module_version": "2.0.0",
      "model_name": "LayoutModel",
      "state": {}
     },
     "a08328ca9c254dbcbb60e2d0275f9391": {
      "model_module": "@jupyter-widgets/controls",
      "model_module_version": "2.0.0",
      "model_name": "HTMLStyleModel",
      "state": {
       "description_width": "",
       "font_size": null,
       "text_color": null
      }
     },
     "a0b56d7aa79f402ab77ec8e97477eefa": {
      "model_module": "@jupyter-widgets/controls",
      "model_module_version": "2.0.0",
      "model_name": "ProgressStyleModel",
      "state": {
       "description_width": ""
      }
     },
     "a0cb46c0fdef4115b28aa02f181b9b44": {
      "model_module": "@jupyter-widgets/controls",
      "model_module_version": "2.0.0",
      "model_name": "HTMLModel",
      "state": {
       "layout": "IPY_MODEL_be4bd597541c42719a3b1a97d10f702a",
       "style": "IPY_MODEL_2db4892b2ce8475b802bca02b6fea414",
       "value": "3x3_2: 100%"
      }
     },
     "a0e223e7423143d0925612643253829a": {
      "model_module": "@jupyter-widgets/controls",
      "model_module_version": "2.0.0",
      "model_name": "FloatProgressModel",
      "state": {
       "bar_style": "success",
       "layout": "IPY_MODEL_6aaafb086a0047748ffb823b7e55cf01",
       "max": 63,
       "style": "IPY_MODEL_852e9e07b61e41fabe288295db5a0ef8",
       "value": 63
      }
     },
     "a12098cec5034b96986b16b302b25d68": {
      "model_module": "@jupyter-widgets/controls",
      "model_module_version": "2.0.0",
      "model_name": "ProgressStyleModel",
      "state": {
       "description_width": ""
      }
     },
     "a1ea1caad3004a21912b2eb9f0b80ff3": {
      "model_module": "@jupyter-widgets/base",
      "model_module_version": "2.0.0",
      "model_name": "LayoutModel",
      "state": {}
     },
     "a217e3a1ce334f6e8c7686c537e26150": {
      "model_module": "@jupyter-widgets/base",
      "model_module_version": "2.0.0",
      "model_name": "LayoutModel",
      "state": {}
     },
     "a23bd8acd42e4ebb9adc2a2333d37e9c": {
      "model_module": "@jupyter-widgets/controls",
      "model_module_version": "2.0.0",
      "model_name": "HBoxModel",
      "state": {
       "children": [
        "IPY_MODEL_c9422557ab0e43d58b4c8096acddbdae",
        "IPY_MODEL_fb83215652554e0fa13de1820f7a7bab",
        "IPY_MODEL_136d7bc4c0b8426fb3807a7df904bb67"
       ],
       "layout": "IPY_MODEL_9e98fb29ff0748fcafe9e908fee60384"
      }
     },
     "a290add729dd4057bbed3f81d2c72574": {
      "model_module": "@jupyter-widgets/base",
      "model_module_version": "2.0.0",
      "model_name": "LayoutModel",
      "state": {}
     },
     "a2c2cd6b48ae40faa907a2e73339b7bc": {
      "model_module": "@jupyter-widgets/controls",
      "model_module_version": "2.0.0",
      "model_name": "HTMLStyleModel",
      "state": {
       "description_width": "",
       "font_size": null,
       "text_color": null
      }
     },
     "a2dfba10eb2d4daeaa50a1bf05f2aacb": {
      "model_module": "@jupyter-widgets/controls",
      "model_module_version": "2.0.0",
      "model_name": "HTMLModel",
      "state": {
       "layout": "IPY_MODEL_1ed483a368f7401a8506a4e5a56011e5",
       "style": "IPY_MODEL_8dc5a2745e41448090e9410073dc3892",
       "value": "3x3_2: 100%"
      }
     },
     "a32a6dcaa7b344ab91a8162fb9acb733": {
      "model_module": "@jupyter-widgets/controls",
      "model_module_version": "2.0.0",
      "model_name": "HTMLStyleModel",
      "state": {
       "description_width": "",
       "font_size": null,
       "text_color": null
      }
     },
     "a34286e35b784088b02a2706fff1ec50": {
      "model_module": "@jupyter-widgets/controls",
      "model_module_version": "2.0.0",
      "model_name": "ProgressStyleModel",
      "state": {
       "description_width": ""
      }
     },
     "a35dd564cd3847d6b558355ba792f8cb": {
      "model_module": "@jupyter-widgets/controls",
      "model_module_version": "2.0.0",
      "model_name": "HTMLStyleModel",
      "state": {
       "description_width": "",
       "font_size": null,
       "text_color": null
      }
     },
     "a3ac44fef351429894adae3bdbcbc986": {
      "model_module": "@jupyter-widgets/base",
      "model_module_version": "2.0.0",
      "model_name": "LayoutModel",
      "state": {}
     },
     "a3e4ccd166c24ad0b9f2eedf81504214": {
      "model_module": "@jupyter-widgets/controls",
      "model_module_version": "2.0.0",
      "model_name": "ProgressStyleModel",
      "state": {
       "description_width": ""
      }
     },
     "a41faccece3e471585c0613bd1b77071": {
      "model_module": "@jupyter-widgets/base",
      "model_module_version": "2.0.0",
      "model_name": "LayoutModel",
      "state": {}
     },
     "a44cc7b22ef44c64a9eeaca96812ffa5": {
      "model_module": "@jupyter-widgets/controls",
      "model_module_version": "2.0.0",
      "model_name": "HTMLModel",
      "state": {
       "layout": "IPY_MODEL_7612249d760e481c8bdb7433c32c0658",
       "style": "IPY_MODEL_76a236eb97eb44e59f2dc0fd796c4401",
       "value": "3x3_2: 100%"
      }
     },
     "a459de7812634eb498ff217941346329": {
      "model_module": "@jupyter-widgets/controls",
      "model_module_version": "2.0.0",
      "model_name": "FloatProgressModel",
      "state": {
       "bar_style": "success",
       "layout": "IPY_MODEL_eab8a87459c84a52af3d72220e3e6ae4",
       "max": 34,
       "style": "IPY_MODEL_688e2b68a5d04049b6cc99376d5d28d6",
       "value": 34
      }
     },
     "a45aacdba36a4384b1e7d495ba9efb93": {
      "model_module": "@jupyter-widgets/controls",
      "model_module_version": "2.0.0",
      "model_name": "HTMLStyleModel",
      "state": {
       "description_width": "",
       "font_size": null,
       "text_color": null
      }
     },
     "a46a849b6209418d9da101ddca4e4de2": {
      "model_module": "@jupyter-widgets/controls",
      "model_module_version": "2.0.0",
      "model_name": "HTMLModel",
      "state": {
       "layout": "IPY_MODEL_7913c38076454aeea09f621ddf8d0213",
       "style": "IPY_MODEL_009f6764bc184a73b25f25b0d95063eb",
       "value": " 63/63 [00:24&lt;00:00,  3.11it/s, Acc=68.00%, BestAcc=68.00%, F1=0.55, Prec=0.46, Rec=0.68]"
      }
     },
     "a4732aabac96458e85f1732e409ca2c2": {
      "model_module": "@jupyter-widgets/base",
      "model_module_version": "2.0.0",
      "model_name": "LayoutModel",
      "state": {}
     },
     "a515bff8df1f4a6aaf04705e2f50f957": {
      "model_module": "@jupyter-widgets/controls",
      "model_module_version": "2.0.0",
      "model_name": "HTMLModel",
      "state": {
       "layout": "IPY_MODEL_d0c725faaff6451784eb684a74cd9af9",
       "style": "IPY_MODEL_500e235f8dd34f1496a02412dd1bf276",
       "value": "3x3_2: 100%"
      }
     },
     "a553f59a2f8e41d09a30c337ebae8093": {
      "model_module": "@jupyter-widgets/base",
      "model_module_version": "2.0.0",
      "model_name": "LayoutModel",
      "state": {}
     },
     "a63ba13a750f45748c90ef9498114a05": {
      "model_module": "@jupyter-widgets/controls",
      "model_module_version": "2.0.0",
      "model_name": "ProgressStyleModel",
      "state": {
       "description_width": ""
      }
     },
     "a6b46063ad2d411682ff821fd6ad7a22": {
      "model_module": "@jupyter-widgets/controls",
      "model_module_version": "2.0.0",
      "model_name": "HBoxModel",
      "state": {
       "children": [
        "IPY_MODEL_ef57fa56603c4be3a58d3fa2e542d7fe",
        "IPY_MODEL_d08837b28cd240aba5dfa2155ace23df",
        "IPY_MODEL_19d4284f05564581b984644611453ab2"
       ],
       "layout": "IPY_MODEL_7908cdbf5783479193e0da38e75da297"
      }
     },
     "a6ccb82d8ef64bccbd2f1a068dbcee18": {
      "model_module": "@jupyter-widgets/base",
      "model_module_version": "2.0.0",
      "model_name": "LayoutModel",
      "state": {}
     },
     "a71b735810e5410e83899ce2efb9e1ad": {
      "model_module": "@jupyter-widgets/controls",
      "model_module_version": "2.0.0",
      "model_name": "FloatProgressModel",
      "state": {
       "bar_style": "success",
       "layout": "IPY_MODEL_bf9b87b9d66c4262b824862f026155f4",
       "max": 35,
       "style": "IPY_MODEL_79aa8f04101f4ab295cf6b56ad79aafd",
       "value": 35
      }
     },
     "a75f95cdba8341068f26eae1cc349dc4": {
      "model_module": "@jupyter-widgets/base",
      "model_module_version": "2.0.0",
      "model_name": "LayoutModel",
      "state": {}
     },
     "a7afee7db43848d0a35da56528e29040": {
      "model_module": "@jupyter-widgets/base",
      "model_module_version": "2.0.0",
      "model_name": "LayoutModel",
      "state": {}
     },
     "a7b4563a573a450892ad5b5c2c687fb4": {
      "model_module": "@jupyter-widgets/base",
      "model_module_version": "2.0.0",
      "model_name": "LayoutModel",
      "state": {}
     },
     "a7bd7273ba554f81aefb5253cd3667e1": {
      "model_module": "@jupyter-widgets/controls",
      "model_module_version": "2.0.0",
      "model_name": "FloatProgressModel",
      "state": {
       "bar_style": "success",
       "layout": "IPY_MODEL_558d3a2e49634ce39d4bc62789631971",
       "max": 27,
       "style": "IPY_MODEL_fbf5f11f7400459f952996f7b60409cc",
       "value": 27
      }
     },
     "a8451cd468e44cfe9a44bf771df30bcd": {
      "model_module": "@jupyter-widgets/controls",
      "model_module_version": "2.0.0",
      "model_name": "HBoxModel",
      "state": {
       "children": [
        "IPY_MODEL_8b01aa29ab964e0493732f5f085e6798",
        "IPY_MODEL_9ea8e8057ab64ff2b905a0768b58b0f8",
        "IPY_MODEL_9d069a595d8c40e18f267c2f12ad736b"
       ],
       "layout": "IPY_MODEL_d8424304da92428f88c24d0c15ef8313"
      }
     },
     "a8d534c07a6d44b3ac3588b99697d819": {
      "model_module": "@jupyter-widgets/controls",
      "model_module_version": "2.0.0",
      "model_name": "HTMLModel",
      "state": {
       "layout": "IPY_MODEL_9c76a12289924153ae29ce96a63f4281",
       "style": "IPY_MODEL_c3cea387afa94ea785edf89c8de40d97",
       "value": " 17/17 [00:18&lt;00:00,  1.70it/s, Acc=68.00%, BestAcc=68.00%, F1=0.55, Prec=0.46, Rec=0.68]"
      }
     },
     "a9131dfa3f5841af8f1f95ec3f99db57": {
      "model_module": "@jupyter-widgets/controls",
      "model_module_version": "2.0.0",
      "model_name": "HTMLModel",
      "state": {
       "layout": "IPY_MODEL_54b7bdd5574545a18d25f35b1e354d76",
       "style": "IPY_MODEL_06aa5d2a95d241b79caa68d37f478310",
       "value": " 25/66 [00:23&lt;00:32,  1.25it/s, Acc=58.50%, BestAcc=58.50%, F1=0.43, Prec=0.34, Rec=0.58]"
      }
     },
     "a9237526529649caacdfa274b4562291": {
      "model_module": "@jupyter-widgets/base",
      "model_module_version": "2.0.0",
      "model_name": "LayoutModel",
      "state": {}
     },
     "a9ef5fbca70b491cb3d38b816cc814f9": {
      "model_module": "@jupyter-widgets/controls",
      "model_module_version": "2.0.0",
      "model_name": "FloatProgressModel",
      "state": {
       "bar_style": "success",
       "layout": "IPY_MODEL_76254fc5decb4b28aa550851326e62c1",
       "max": 92,
       "style": "IPY_MODEL_48ee63d2386643e9b47bdd7d75e0e908",
       "value": 92
      }
     },
     "aac85e96f69f4834b10b29aff8e50f0b": {
      "model_module": "@jupyter-widgets/controls",
      "model_module_version": "2.0.0",
      "model_name": "ProgressStyleModel",
      "state": {
       "description_width": ""
      }
     },
     "ab98b79bd6254b31be36f6e42d6bbce4": {
      "model_module": "@jupyter-widgets/base",
      "model_module_version": "2.0.0",
      "model_name": "LayoutModel",
      "state": {}
     },
     "aba229c36835467fae82f87cb903c40a": {
      "model_module": "@jupyter-widgets/controls",
      "model_module_version": "2.0.0",
      "model_name": "HTMLModel",
      "state": {
       "layout": "IPY_MODEL_18ace2e8199c4be1a20b32a789a44352",
       "style": "IPY_MODEL_c4117f6ddfe64e8286abe73e9d38fe33",
       "value": "3x3_2: 100%"
      }
     },
     "abe313d223ab4cd3adfdd245a25438f8": {
      "model_module": "@jupyter-widgets/controls",
      "model_module_version": "2.0.0",
      "model_name": "HTMLStyleModel",
      "state": {
       "description_width": "",
       "font_size": null,
       "text_color": null
      }
     },
     "ac2c30c1025241e9a3fb4a4fd160b75b": {
      "model_module": "@jupyter-widgets/controls",
      "model_module_version": "2.0.0",
      "model_name": "HBoxModel",
      "state": {
       "children": [
        "IPY_MODEL_dedb7be4e2e648f08e8615734079a0da",
        "IPY_MODEL_70c3a0ed34e445a9869358bfcd1eba06",
        "IPY_MODEL_dc8bd5b47e444a65bd07d33ecf07a01d"
       ],
       "layout": "IPY_MODEL_d27aaa66ce5d4e3a972cbe99d6847d15"
      }
     },
     "ac39f59e46ac43e69660eb7d9e6df6d0": {
      "model_module": "@jupyter-widgets/controls",
      "model_module_version": "2.0.0",
      "model_name": "HBoxModel",
      "state": {
       "children": [
        "IPY_MODEL_748507e29c0845db802792757629a0f9",
        "IPY_MODEL_222b6186e52941c0a28ffea84d356ad2",
        "IPY_MODEL_129715b965634279852e48be374f517a"
       ],
       "layout": "IPY_MODEL_b37ba80b40d34425a9773b39f142f837"
      }
     },
     "ac5b3b967d744fb8ac1954de7c3bf523": {
      "model_module": "@jupyter-widgets/base",
      "model_module_version": "2.0.0",
      "model_name": "LayoutModel",
      "state": {}
     },
     "acc5452e5449432389538c8ad7c545da": {
      "model_module": "@jupyter-widgets/controls",
      "model_module_version": "2.0.0",
      "model_name": "HTMLStyleModel",
      "state": {
       "description_width": "",
       "font_size": null,
       "text_color": null
      }
     },
     "ad0374be3c6644ffb915cb74c6e526ac": {
      "model_module": "@jupyter-widgets/base",
      "model_module_version": "2.0.0",
      "model_name": "LayoutModel",
      "state": {}
     },
     "ad684a3b36704939b64aff78162cd20f": {
      "model_module": "@jupyter-widgets/controls",
      "model_module_version": "2.0.0",
      "model_name": "ProgressStyleModel",
      "state": {
       "description_width": ""
      }
     },
     "ad8fbd9e027c4ed2b5af327478bff5cd": {
      "model_module": "@jupyter-widgets/controls",
      "model_module_version": "2.0.0",
      "model_name": "HTMLModel",
      "state": {
       "layout": "IPY_MODEL_b2d59bd5d2dc4d949b3cc1982845c52d",
       "style": "IPY_MODEL_dfc1dd34e5fc49d28c41cceabbd4240a",
       "value": " 57/57 [00:28&lt;00:00,  2.29it/s, Acc=68.00%, BestAcc=68.00%, F1=0.55, Prec=0.46, Rec=0.68]"
      }
     },
     "adb8ce6e3a35483d91954abb9f17835d": {
      "model_module": "@jupyter-widgets/base",
      "model_module_version": "2.0.0",
      "model_name": "LayoutModel",
      "state": {}
     },
     "adba80594d894e97aa0f87d5cfa8c8a3": {
      "model_module": "@jupyter-widgets/controls",
      "model_module_version": "2.0.0",
      "model_name": "ProgressStyleModel",
      "state": {
       "description_width": ""
      }
     },
     "adf34176ea874fa98fe28e9085cadcca": {
      "model_module": "@jupyter-widgets/controls",
      "model_module_version": "2.0.0",
      "model_name": "HTMLModel",
      "state": {
       "layout": "IPY_MODEL_7be8ad27b4c545b395005641031c2ebc",
       "style": "IPY_MODEL_249b2f563aa44909b8593e751c8940e0",
       "value": "4x4_2: 100%"
      }
     },
     "adfe1034adc84e5894be2220d56f3208": {
      "model_module": "@jupyter-widgets/base",
      "model_module_version": "2.0.0",
      "model_name": "LayoutModel",
      "state": {}
     },
     "af723cfb016f476eb6526730749958a7": {
      "model_module": "@jupyter-widgets/controls",
      "model_module_version": "2.0.0",
      "model_name": "FloatProgressModel",
      "state": {
       "layout": "IPY_MODEL_7c57d67f61fb48389477ca70b4bb9457",
       "max": 13,
       "style": "IPY_MODEL_c084035e4c394eefac0efca99ec60dd2",
       "value": 1
      }
     },
     "afa6a6c325a2485a8de241f7c34db726": {
      "model_module": "@jupyter-widgets/controls",
      "model_module_version": "2.0.0",
      "model_name": "HTMLStyleModel",
      "state": {
       "description_width": "",
       "font_size": null,
       "text_color": null
      }
     },
     "afee0694d4f4443a92472f1fa4525392": {
      "model_module": "@jupyter-widgets/controls",
      "model_module_version": "2.0.0",
      "model_name": "HTMLModel",
      "state": {
       "layout": "IPY_MODEL_86ad9c3218304e4aba9a558fe6a25490",
       "style": "IPY_MODEL_4e886f4da3004b169d7607570f6718ec",
       "value": " 98/98 [00:33&lt;00:00,  3.31it/s, Acc=68.00%, BestAcc=68.00%, F1=0.55, Prec=0.46, Rec=0.68]"
      }
     },
     "b01e63086f9f40768f7f220665957de9": {
      "model_module": "@jupyter-widgets/controls",
      "model_module_version": "2.0.0",
      "model_name": "HTMLStyleModel",
      "state": {
       "description_width": "",
       "font_size": null,
       "text_color": null
      }
     },
     "b05ddaeaea074b3da4798b87d323d126": {
      "model_module": "@jupyter-widgets/controls",
      "model_module_version": "2.0.0",
      "model_name": "HTMLStyleModel",
      "state": {
       "description_width": "",
       "font_size": null,
       "text_color": null
      }
     },
     "b0b58a2aeaf4406bb8ed4880a1d28ac1": {
      "model_module": "@jupyter-widgets/controls",
      "model_module_version": "2.0.0",
      "model_name": "FloatProgressModel",
      "state": {
       "bar_style": "success",
       "layout": "IPY_MODEL_bdea877680b54454b6d2b255601a677d",
       "max": 48,
       "style": "IPY_MODEL_a0b56d7aa79f402ab77ec8e97477eefa",
       "value": 48
      }
     },
     "b0def78106be4467a96dfe72187dcaa1": {
      "model_module": "@jupyter-widgets/controls",
      "model_module_version": "2.0.0",
      "model_name": "HTMLModel",
      "state": {
       "layout": "IPY_MODEL_b656ff585c3f4a26854ddfff957ac24f",
       "style": "IPY_MODEL_fec505f226d94c63894c6cdff981c529",
       "value": "3x3_2: 100%"
      }
     },
     "b12bcfd88d3e4b0dbe7dba64902b5c8e": {
      "model_module": "@jupyter-widgets/controls",
      "model_module_version": "2.0.0",
      "model_name": "HBoxModel",
      "state": {
       "children": [
        "IPY_MODEL_59253ab557ce472e8b71845b4b08d990",
        "IPY_MODEL_76cbbcccf66b45528657827f8259c317",
        "IPY_MODEL_7ce99154ec2b4f2595036116d9d012a5"
       ],
       "layout": "IPY_MODEL_9c5dcb787d5e4ce7aa3f568b77b31cf2"
      }
     },
     "b156cbbe065e4cfbafa23eaaab841321": {
      "model_module": "@jupyter-widgets/base",
      "model_module_version": "2.0.0",
      "model_name": "LayoutModel",
      "state": {}
     },
     "b217d1f0e2d248859a13f6b50d812430": {
      "model_module": "@jupyter-widgets/controls",
      "model_module_version": "2.0.0",
      "model_name": "HTMLModel",
      "state": {
       "layout": "IPY_MODEL_5c1894fc5c34456dbf2bee331b534d0c",
       "style": "IPY_MODEL_50dc1361a00f42db850586e9136dd918",
       "value": " 83/83 [00:39&lt;00:00,  2.32it/s, Acc=68.00%, BestAcc=68.00%, F1=0.55, Prec=0.46, Rec=0.68]"
      }
     },
     "b243798d35084540ae59561067f829f0": {
      "model_module": "@jupyter-widgets/controls",
      "model_module_version": "2.0.0",
      "model_name": "FloatProgressModel",
      "state": {
       "bar_style": "success",
       "layout": "IPY_MODEL_768b20055bbb4f7cb3fd1f456cbfc65d",
       "max": 18,
       "style": "IPY_MODEL_ec2e3582ea2a4efabfde1b17787a2bc9",
       "value": 18
      }
     },
     "b266c9123d434bae9e58b518d7386d1e": {
      "model_module": "@jupyter-widgets/controls",
      "model_module_version": "2.0.0",
      "model_name": "HBoxModel",
      "state": {
       "children": [
        "IPY_MODEL_d06000a881024876974f587801992dc5",
        "IPY_MODEL_7254a2f8a62d4261b11ded7720c3216f",
        "IPY_MODEL_6446b1c40c2d4f49bf3379ab82021f2d"
       ],
       "layout": "IPY_MODEL_ac5b3b967d744fb8ac1954de7c3bf523"
      }
     },
     "b2865e8cb7f44014942847d3e7b99da9": {
      "model_module": "@jupyter-widgets/controls",
      "model_module_version": "2.0.0",
      "model_name": "HBoxModel",
      "state": {
       "children": [
        "IPY_MODEL_035268b9fde44e58a27c827a88002972",
        "IPY_MODEL_9e2dfb8ab6cf43e5a8e13bc61ce9a0e8",
        "IPY_MODEL_14950f52bb8a4bb9bf2d4eb858acf431"
       ],
       "layout": "IPY_MODEL_300e29b250714d5abef801ab073044d7"
      }
     },
     "b2a62908fbc94ae2bec413d5bb48ee6c": {
      "model_module": "@jupyter-widgets/base",
      "model_module_version": "2.0.0",
      "model_name": "LayoutModel",
      "state": {}
     },
     "b2b927faaaa2421ca325a52927a9419b": {
      "model_module": "@jupyter-widgets/controls",
      "model_module_version": "2.0.0",
      "model_name": "ProgressStyleModel",
      "state": {
       "description_width": ""
      }
     },
     "b2d59bd5d2dc4d949b3cc1982845c52d": {
      "model_module": "@jupyter-widgets/base",
      "model_module_version": "2.0.0",
      "model_name": "LayoutModel",
      "state": {}
     },
     "b310abd48efc4bf6b8084d6083ab06b2": {
      "model_module": "@jupyter-widgets/controls",
      "model_module_version": "2.0.0",
      "model_name": "HTMLStyleModel",
      "state": {
       "description_width": "",
       "font_size": null,
       "text_color": null
      }
     },
     "b343394d0b0241bc94518d5d30d9d765": {
      "model_module": "@jupyter-widgets/base",
      "model_module_version": "2.0.0",
      "model_name": "LayoutModel",
      "state": {}
     },
     "b37ba80b40d34425a9773b39f142f837": {
      "model_module": "@jupyter-widgets/base",
      "model_module_version": "2.0.0",
      "model_name": "LayoutModel",
      "state": {}
     },
     "b3c25c359e2742caa8567e19ccc77a07": {
      "model_module": "@jupyter-widgets/base",
      "model_module_version": "2.0.0",
      "model_name": "LayoutModel",
      "state": {}
     },
     "b3c3230ef0774d54883d004a1e54cef6": {
      "model_module": "@jupyter-widgets/controls",
      "model_module_version": "2.0.0",
      "model_name": "HTMLModel",
      "state": {
       "layout": "IPY_MODEL_96e275952c6b4c4eafc69becf87634a2",
       "style": "IPY_MODEL_dbfe8d48dcd443b8becdec62c291099c",
       "value": " 40/40 [00:30&lt;00:00,  1.51it/s, Acc=84.00%, BestAcc=85.50%, F1=0.85, Prec=0.85, Rec=0.85]"
      }
     },
     "b3f6170542fe43b0bd7efa3bcabb5d37": {
      "model_module": "@jupyter-widgets/controls",
      "model_module_version": "2.0.0",
      "model_name": "HTMLStyleModel",
      "state": {
       "description_width": "",
       "font_size": null,
       "text_color": null
      }
     },
     "b40b67fc1b1a451e980ec79211c931e0": {
      "model_module": "@jupyter-widgets/controls",
      "model_module_version": "2.0.0",
      "model_name": "HTMLModel",
      "state": {
       "layout": "IPY_MODEL_615c8a11ccd1440299c4e1b9cc3dc89c",
       "style": "IPY_MODEL_3ffb5033300a4cd9b79f15fe29cb0d2e",
       "value": " 0/3 [00:00&lt;?, ?it/s]"
      }
     },
     "b4125f77ab3046f2bcec551434001cb6": {
      "model_module": "@jupyter-widgets/controls",
      "model_module_version": "2.0.0",
      "model_name": "HBoxModel",
      "state": {
       "children": [
        "IPY_MODEL_d98056b0ac564a35abdeba7462fbf3a4",
        "IPY_MODEL_45d2cbbbc440472da35891de7a63d02b",
        "IPY_MODEL_6752a0ffdc3b499aa601912552ed8f11"
       ],
       "layout": "IPY_MODEL_4e3fdfa3c158481984cdbac28b726e7d"
      }
     },
     "b496dfb74ae34a8ca0747b9ebae9b2c5": {
      "model_module": "@jupyter-widgets/base",
      "model_module_version": "2.0.0",
      "model_name": "LayoutModel",
      "state": {}
     },
     "b4aed765ba9e4c17bf5e0c9da9a93811": {
      "model_module": "@jupyter-widgets/controls",
      "model_module_version": "2.0.0",
      "model_name": "HTMLModel",
      "state": {
       "layout": "IPY_MODEL_47fb5ef498a34a96bcf243efff5ffcd4",
       "style": "IPY_MODEL_83d5ef4e975f4830baf0a81c1062be0a",
       "value": " 69/69 [00:32&lt;00:00,  2.29it/s, Acc=98.50%, BestAcc=99.00%, F1=0.99, Prec=0.99, Rec=0.99]"
      }
     },
     "b4bc99ebc10544509079b9109e9b502a": {
      "model_module": "@jupyter-widgets/controls",
      "model_module_version": "2.0.0",
      "model_name": "FloatProgressModel",
      "state": {
       "bar_style": "success",
       "layout": "IPY_MODEL_a217e3a1ce334f6e8c7686c537e26150",
       "max": 31,
       "style": "IPY_MODEL_71c27611314148eaa71a45405127b150",
       "value": 31
      }
     },
     "b4bdd9dea63e4e18a0181641e50565da": {
      "model_module": "@jupyter-widgets/base",
      "model_module_version": "2.0.0",
      "model_name": "LayoutModel",
      "state": {}
     },
     "b4eea909ff504db39c23a5ede6bf642a": {
      "model_module": "@jupyter-widgets/controls",
      "model_module_version": "2.0.0",
      "model_name": "ProgressStyleModel",
      "state": {
       "description_width": ""
      }
     },
     "b5015ed9576e44b1b9ad8a5acef36d06": {
      "model_module": "@jupyter-widgets/base",
      "model_module_version": "2.0.0",
      "model_name": "LayoutModel",
      "state": {}
     },
     "b55e23c3e3f8453c925928e9d361f978": {
      "model_module": "@jupyter-widgets/controls",
      "model_module_version": "2.0.0",
      "model_name": "HTMLModel",
      "state": {
       "layout": "IPY_MODEL_36f54eb6dd8d4197884eef594f299920",
       "style": "IPY_MODEL_f983ca2f45fc4b36a6001e8e2f6d7812",
       "value": " 48/48 [00:41&lt;00:00,  1.33it/s, Acc=87.00%, BestAcc=90.50%, F1=0.90, Prec=0.91, Rec=0.91]"
      }
     },
     "b5967d2a82e6432f919f4b52ef442bb9": {
      "model_module": "@jupyter-widgets/base",
      "model_module_version": "2.0.0",
      "model_name": "LayoutModel",
      "state": {}
     },
     "b5d55e56937047a19bc9c139382c27a9": {
      "model_module": "@jupyter-widgets/base",
      "model_module_version": "2.0.0",
      "model_name": "LayoutModel",
      "state": {}
     },
     "b6501053181e43e990251ca97f80c75b": {
      "model_module": "@jupyter-widgets/controls",
      "model_module_version": "2.0.0",
      "model_name": "HTMLStyleModel",
      "state": {
       "description_width": "",
       "font_size": null,
       "text_color": null
      }
     },
     "b656ff585c3f4a26854ddfff957ac24f": {
      "model_module": "@jupyter-widgets/base",
      "model_module_version": "2.0.0",
      "model_name": "LayoutModel",
      "state": {}
     },
     "b68f84c3f803416a8cf89f9724443124": {
      "model_module": "@jupyter-widgets/controls",
      "model_module_version": "2.0.0",
      "model_name": "ProgressStyleModel",
      "state": {
       "description_width": ""
      }
     },
     "b6929e347f374050bc0670beaaeb0bf8": {
      "model_module": "@jupyter-widgets/base",
      "model_module_version": "2.0.0",
      "model_name": "LayoutModel",
      "state": {}
     },
     "b6aa6151bacd4999862d1578fb94325b": {
      "model_module": "@jupyter-widgets/base",
      "model_module_version": "2.0.0",
      "model_name": "LayoutModel",
      "state": {}
     },
     "b6dd55d6644b407bb02c150059c1f953": {
      "model_module": "@jupyter-widgets/controls",
      "model_module_version": "2.0.0",
      "model_name": "ProgressStyleModel",
      "state": {
       "description_width": ""
      }
     },
     "b721edcbe39249b29c7e043483af2291": {
      "model_module": "@jupyter-widgets/controls",
      "model_module_version": "2.0.0",
      "model_name": "HTMLModel",
      "state": {
       "layout": "IPY_MODEL_49d418ace9c3426abbe1913a7866e27a",
       "style": "IPY_MODEL_1897818529c64548a7554b511dc9d3ac",
       "value": " 77/77 [00:33&lt;00:00,  3.02it/s, Acc=96.00%, BestAcc=98.00%, F1=0.98, Prec=0.98, Rec=0.98]"
      }
     },
     "b7848bb63e12489789c10105465e62a6": {
      "model_module": "@jupyter-widgets/controls",
      "model_module_version": "2.0.0",
      "model_name": "ProgressStyleModel",
      "state": {
       "description_width": ""
      }
     },
     "b87cb7f5aae5429fb6528b2e101b58ba": {
      "model_module": "@jupyter-widgets/base",
      "model_module_version": "2.0.0",
      "model_name": "LayoutModel",
      "state": {}
     },
     "b8f77271b93442938e9b85c6d380524a": {
      "model_module": "@jupyter-widgets/base",
      "model_module_version": "2.0.0",
      "model_name": "LayoutModel",
      "state": {}
     },
     "b94a39022896423bbfc4a48ca2d92195": {
      "model_module": "@jupyter-widgets/controls",
      "model_module_version": "2.0.0",
      "model_name": "HTMLStyleModel",
      "state": {
       "description_width": "",
       "font_size": null,
       "text_color": null
      }
     },
     "ba32f760ad2443d38a9ee8196ba4ef43": {
      "model_module": "@jupyter-widgets/controls",
      "model_module_version": "2.0.0",
      "model_name": "FloatProgressModel",
      "state": {
       "bar_style": "success",
       "layout": "IPY_MODEL_bba67a9a6261471da4b8a2938b01064e",
       "max": 69,
       "style": "IPY_MODEL_eaf094542e5a4daaad84c1f4feaa1add",
       "value": 69
      }
     },
     "babb603763f744b5a5e53004ba14a5fb": {
      "model_module": "@jupyter-widgets/controls",
      "model_module_version": "2.0.0",
      "model_name": "HTMLModel",
      "state": {
       "layout": "IPY_MODEL_7f467d285d5c4b6fbb4d347f2cb70059",
       "style": "IPY_MODEL_abe313d223ab4cd3adfdd245a25438f8",
       "value": " 64/64 [00:28&lt;00:00,  2.83it/s, Acc=99.50%, BestAcc=99.50%, F1=0.99, Prec=1.00, Rec=0.99]"
      }
     },
     "baf46ff233834b429234ab221811e4c2": {
      "model_module": "@jupyter-widgets/controls",
      "model_module_version": "2.0.0",
      "model_name": "HTMLModel",
      "state": {
       "layout": "IPY_MODEL_f2616a30a320447c9c1f2de8d4647765",
       "style": "IPY_MODEL_c5711c01fe814ba08e2b775712d45fc7",
       "value": "3x3_0: 100%"
      }
     },
     "bb1391c023904204a85827346e4925c9": {
      "model_module": "@jupyter-widgets/controls",
      "model_module_version": "2.0.0",
      "model_name": "HTMLStyleModel",
      "state": {
       "description_width": "",
       "font_size": null,
       "text_color": null
      }
     },
     "bb9a0d7d809d4d84b465258af4b32781": {
      "model_module": "@jupyter-widgets/controls",
      "model_module_version": "2.0.0",
      "model_name": "ProgressStyleModel",
      "state": {
       "description_width": ""
      }
     },
     "bba67a9a6261471da4b8a2938b01064e": {
      "model_module": "@jupyter-widgets/base",
      "model_module_version": "2.0.0",
      "model_name": "LayoutModel",
      "state": {}
     },
     "bba76f8c79664c25a5ff16b008dd4ff4": {
      "model_module": "@jupyter-widgets/controls",
      "model_module_version": "2.0.0",
      "model_name": "FloatProgressModel",
      "state": {
       "bar_style": "success",
       "layout": "IPY_MODEL_4bdd8ae45eb246e29e6125152bed25cb",
       "max": 48,
       "style": "IPY_MODEL_76d446ddd4f44439b68ad88a91cd4382",
       "value": 48
      }
     },
     "bbcfdbdd6f4c46319de298558f609c0c": {
      "model_module": "@jupyter-widgets/controls",
      "model_module_version": "2.0.0",
      "model_name": "HBoxModel",
      "state": {
       "children": [
        "IPY_MODEL_86e6047b77d341f09fae69f1bf69be1d",
        "IPY_MODEL_47d02669f4f745d4b7ff470be8b92b48",
        "IPY_MODEL_b40b67fc1b1a451e980ec79211c931e0"
       ],
       "layout": "IPY_MODEL_9dc4d2bad070479f92f6f5ebdb6c0491"
      }
     },
     "bc0a5178acfe4f01823dd9e8e0fe29f4": {
      "model_module": "@jupyter-widgets/controls",
      "model_module_version": "2.0.0",
      "model_name": "HTMLStyleModel",
      "state": {
       "description_width": "",
       "font_size": null,
       "text_color": null
      }
     },
     "bc17cd18c25543b6ac629dc47d84b61f": {
      "model_module": "@jupyter-widgets/controls",
      "model_module_version": "2.0.0",
      "model_name": "HTMLModel",
      "state": {
       "layout": "IPY_MODEL_5b20f0fa1f7c4c76a823f9322016fbff",
       "style": "IPY_MODEL_a08328ca9c254dbcbb60e2d0275f9391",
       "value": "4x4_2: 100%"
      }
     },
     "bc9977a3be8a42c6b5bc83ebf11007ff": {
      "model_module": "@jupyter-widgets/controls",
      "model_module_version": "2.0.0",
      "model_name": "HTMLStyleModel",
      "state": {
       "description_width": "",
       "font_size": null,
       "text_color": null
      }
     },
     "bcb41db29b7245c1afe37624c34b5ef8": {
      "model_module": "@jupyter-widgets/base",
      "model_module_version": "2.0.0",
      "model_name": "LayoutModel",
      "state": {}
     },
     "bd559af70a2c4ddd92db980ae4b72deb": {
      "model_module": "@jupyter-widgets/controls",
      "model_module_version": "2.0.0",
      "model_name": "HTMLModel",
      "state": {
       "layout": "IPY_MODEL_4a44a0efa34d4c388203b3da36742483",
       "style": "IPY_MODEL_2db022eaabc641d98f7b5a164ffa18d7",
       "value": "Board Sizes:   8%"
      }
     },
     "bdbac3c46f1847b4b914933f13e67c31": {
      "model_module": "@jupyter-widgets/controls",
      "model_module_version": "2.0.0",
      "model_name": "HBoxModel",
      "state": {
       "children": [
        "IPY_MODEL_d247507953b94b20804621e213ce2ba3",
        "IPY_MODEL_ba32f760ad2443d38a9ee8196ba4ef43",
        "IPY_MODEL_84bb5c0175874090a26d8918f79f1665"
       ],
       "layout": "IPY_MODEL_c413819eb1e04161a83a87e3bdc5de20"
      }
     },
     "bdea877680b54454b6d2b255601a677d": {
      "model_module": "@jupyter-widgets/base",
      "model_module_version": "2.0.0",
      "model_name": "LayoutModel",
      "state": {}
     },
     "be4bd597541c42719a3b1a97d10f702a": {
      "model_module": "@jupyter-widgets/base",
      "model_module_version": "2.0.0",
      "model_name": "LayoutModel",
      "state": {}
     },
     "be76bf69bf6a44c59e5dd1b3dd6f3294": {
      "model_module": "@jupyter-widgets/controls",
      "model_module_version": "2.0.0",
      "model_name": "HTMLStyleModel",
      "state": {
       "description_width": "",
       "font_size": null,
       "text_color": null
      }
     },
     "befd30d8dc9b4cc1bc2d443e214ebbad": {
      "model_module": "@jupyter-widgets/controls",
      "model_module_version": "2.0.0",
      "model_name": "HTMLStyleModel",
      "state": {
       "description_width": "",
       "font_size": null,
       "text_color": null
      }
     },
     "bf145cedbb1b4e569ebb0a33544d91db": {
      "model_module": "@jupyter-widgets/controls",
      "model_module_version": "2.0.0",
      "model_name": "HTMLStyleModel",
      "state": {
       "description_width": "",
       "font_size": null,
       "text_color": null
      }
     },
     "bf5ca69b97e14327bee796617310b56d": {
      "model_module": "@jupyter-widgets/controls",
      "model_module_version": "2.0.0",
      "model_name": "HBoxModel",
      "state": {
       "children": [
        "IPY_MODEL_4f7cc44e93894024a121eac0be8231fc",
        "IPY_MODEL_c0bcd3fa628442098437e14504d66d9e",
        "IPY_MODEL_ad8fbd9e027c4ed2b5af327478bff5cd"
       ],
       "layout": "IPY_MODEL_6f9bcf395f354c0b83bc602da7e91266"
      }
     },
     "bf9b87b9d66c4262b824862f026155f4": {
      "model_module": "@jupyter-widgets/base",
      "model_module_version": "2.0.0",
      "model_name": "LayoutModel",
      "state": {}
     },
     "bfabe7bd0aba450887cea9dfad63214a": {
      "model_module": "@jupyter-widgets/base",
      "model_module_version": "2.0.0",
      "model_name": "LayoutModel",
      "state": {}
     },
     "c028e43ceee1420887e35b005f9e06ac": {
      "model_module": "@jupyter-widgets/controls",
      "model_module_version": "2.0.0",
      "model_name": "HTMLStyleModel",
      "state": {
       "description_width": "",
       "font_size": null,
       "text_color": null
      }
     },
     "c0609f5fcce44a14bfe0824f1dddb275": {
      "model_module": "@jupyter-widgets/controls",
      "model_module_version": "2.0.0",
      "model_name": "HTMLStyleModel",
      "state": {
       "description_width": "",
       "font_size": null,
       "text_color": null
      }
     },
     "c084035e4c394eefac0efca99ec60dd2": {
      "model_module": "@jupyter-widgets/controls",
      "model_module_version": "2.0.0",
      "model_name": "ProgressStyleModel",
      "state": {
       "description_width": ""
      }
     },
     "c0bcd3fa628442098437e14504d66d9e": {
      "model_module": "@jupyter-widgets/controls",
      "model_module_version": "2.0.0",
      "model_name": "FloatProgressModel",
      "state": {
       "bar_style": "success",
       "layout": "IPY_MODEL_87f80cea16284a4db328bcaaee5339a4",
       "max": 57,
       "style": "IPY_MODEL_248d77be269745db94e6b307652c747e",
       "value": 57
      }
     },
     "c115ee93631849dcb071d38209addcd0": {
      "model_module": "@jupyter-widgets/controls",
      "model_module_version": "2.0.0",
      "model_name": "HTMLModel",
      "state": {
       "layout": "IPY_MODEL_cfb7df181f2748a8865a1cfec5214228",
       "style": "IPY_MODEL_b94a39022896423bbfc4a48ca2d92195",
       "value": " 17/17 [00:17&lt;00:00,  1.31it/s, Acc=58.50%, BestAcc=61.50%, F1=0.60, Prec=0.61, Rec=0.61]"
      }
     },
     "c162f99ce21546a4bf4c39c140a9db5a": {
      "model_module": "@jupyter-widgets/base",
      "model_module_version": "2.0.0",
      "model_name": "LayoutModel",
      "state": {}
     },
     "c169a947024b4c869f6723c1ef628d67": {
      "model_module": "@jupyter-widgets/controls",
      "model_module_version": "2.0.0",
      "model_name": "ProgressStyleModel",
      "state": {
       "description_width": ""
      }
     },
     "c21e8acb289341938bc2425a9bc4caac": {
      "model_module": "@jupyter-widgets/base",
      "model_module_version": "2.0.0",
      "model_name": "LayoutModel",
      "state": {}
     },
     "c3277ab596e04f079f230ea6c4fd960d": {
      "model_module": "@jupyter-widgets/controls",
      "model_module_version": "2.0.0",
      "model_name": "ProgressStyleModel",
      "state": {
       "description_width": ""
      }
     },
     "c33c928eb86a48c283773b72b30d9acf": {
      "model_module": "@jupyter-widgets/controls",
      "model_module_version": "2.0.0",
      "model_name": "HBoxModel",
      "state": {
       "children": [
        "IPY_MODEL_7c104c474326475b9b64fa1c692446bb",
        "IPY_MODEL_d13489a8a241468a9991e27d2ee1c6be",
        "IPY_MODEL_e9d33209d30540bab060b908ea264564"
       ],
       "layout": "IPY_MODEL_681da061c10245aab75b23b10b3255a4"
      }
     },
     "c35812b1335a4273b5ed38c7a1466f5c": {
      "model_module": "@jupyter-widgets/base",
      "model_module_version": "2.0.0",
      "model_name": "LayoutModel",
      "state": {}
     },
     "c3b8887cdb3a46a0a675ce626daf05e7": {
      "model_module": "@jupyter-widgets/base",
      "model_module_version": "2.0.0",
      "model_name": "LayoutModel",
      "state": {}
     },
     "c3cea387afa94ea785edf89c8de40d97": {
      "model_module": "@jupyter-widgets/controls",
      "model_module_version": "2.0.0",
      "model_name": "HTMLStyleModel",
      "state": {
       "description_width": "",
       "font_size": null,
       "text_color": null
      }
     },
     "c4117f6ddfe64e8286abe73e9d38fe33": {
      "model_module": "@jupyter-widgets/controls",
      "model_module_version": "2.0.0",
      "model_name": "HTMLStyleModel",
      "state": {
       "description_width": "",
       "font_size": null,
       "text_color": null
      }
     },
     "c413819eb1e04161a83a87e3bdc5de20": {
      "model_module": "@jupyter-widgets/base",
      "model_module_version": "2.0.0",
      "model_name": "LayoutModel",
      "state": {}
     },
     "c4c5b354ac9d4f65b12b1f5c9802780d": {
      "model_module": "@jupyter-widgets/controls",
      "model_module_version": "2.0.0",
      "model_name": "FloatProgressModel",
      "state": {
       "bar_style": "success",
       "layout": "IPY_MODEL_68d5378416ff49d29123d54bfb2684f2",
       "style": "IPY_MODEL_c815e8f2160842ecb7586827a9311c44",
       "value": 100
      }
     },
     "c4d54a35fcf24a03ae6b987ef51bbe73": {
      "model_module": "@jupyter-widgets/base",
      "model_module_version": "2.0.0",
      "model_name": "LayoutModel",
      "state": {}
     },
     "c5625b81ace544a196862f31656cc4a6": {
      "model_module": "@jupyter-widgets/base",
      "model_module_version": "2.0.0",
      "model_name": "LayoutModel",
      "state": {}
     },
     "c5711c01fe814ba08e2b775712d45fc7": {
      "model_module": "@jupyter-widgets/controls",
      "model_module_version": "2.0.0",
      "model_name": "HTMLStyleModel",
      "state": {
       "description_width": "",
       "font_size": null,
       "text_color": null
      }
     },
     "c58136742426450194b50cc1259c3ad9": {
      "model_module": "@jupyter-widgets/controls",
      "model_module_version": "2.0.0",
      "model_name": "FloatProgressModel",
      "state": {
       "layout": "IPY_MODEL_f0a7682c7abf4e45a8626a2ef179b0d4",
       "max": 3,
       "style": "IPY_MODEL_99edd2d200c64674b7cf635b0b7fec8d",
       "value": 1
      }
     },
     "c59cedbae6d144cf814ad29bf2709363": {
      "model_module": "@jupyter-widgets/base",
      "model_module_version": "2.0.0",
      "model_name": "LayoutModel",
      "state": {}
     },
     "c5a4a02a35fe4f999ff6793b57d867a3": {
      "model_module": "@jupyter-widgets/controls",
      "model_module_version": "2.0.0",
      "model_name": "HBoxModel",
      "state": {
       "children": [
        "IPY_MODEL_15a023d0bc0f4afd99509c6fa74040b1",
        "IPY_MODEL_0563cbc348eb4782a92f88cff599307a",
        "IPY_MODEL_7442dd49280048df9087389604c72bb0"
       ],
       "layout": "IPY_MODEL_6718b2bc72db4b229d4ea14f87daa92a"
      }
     },
     "c5ac497c88ab4beca1dea03792d468a0": {
      "model_module": "@jupyter-widgets/controls",
      "model_module_version": "2.0.0",
      "model_name": "HTMLModel",
      "state": {
       "layout": "IPY_MODEL_472b351a22ad4ae0a05ccec06662a0bd",
       "style": "IPY_MODEL_4f0bb3796c954082a5799939c9c7ca17",
       "value": " 34/34 [00:27&lt;00:00,  1.53it/s, Acc=93.00%, BestAcc=93.50%, F1=0.93, Prec=0.94, Rec=0.94]"
      }
     },
     "c5ac87a1462345eead4121e8e08f3204": {
      "model_module": "@jupyter-widgets/base",
      "model_module_version": "2.0.0",
      "model_name": "LayoutModel",
      "state": {}
     },
     "c5b07f57b2fb4d1db1bb0e0587f55d1a": {
      "model_module": "@jupyter-widgets/base",
      "model_module_version": "2.0.0",
      "model_name": "LayoutModel",
      "state": {}
     },
     "c71aa2948a11479a80486904dbd63af3": {
      "model_module": "@jupyter-widgets/controls",
      "model_module_version": "2.0.0",
      "model_name": "HTMLModel",
      "state": {
       "layout": "IPY_MODEL_d0809dedc2d6472c975aaa2b7f933f5c",
       "style": "IPY_MODEL_7fbf31ae735744b084022ac35c4708ea",
       "value": "3x3_5: 100%"
      }
     },
     "c75f0b63bcb549cea8949f87a01e357d": {
      "model_module": "@jupyter-widgets/base",
      "model_module_version": "2.0.0",
      "model_name": "LayoutModel",
      "state": {}
     },
     "c7da1483ecf342e4b548e41caaf2ea7e": {
      "model_module": "@jupyter-widgets/base",
      "model_module_version": "2.0.0",
      "model_name": "LayoutModel",
      "state": {}
     },
     "c815e8f2160842ecb7586827a9311c44": {
      "model_module": "@jupyter-widgets/controls",
      "model_module_version": "2.0.0",
      "model_name": "ProgressStyleModel",
      "state": {
       "description_width": ""
      }
     },
     "c8a71ddc8a624092b889df1227c838f4": {
      "model_module": "@jupyter-widgets/controls",
      "model_module_version": "2.0.0",
      "model_name": "HTMLModel",
      "state": {
       "layout": "IPY_MODEL_4c0cdf6a90ea4d6ebacb485ae9a82fc2",
       "style": "IPY_MODEL_95dc10b9e5f94312a0021cfe23c42e92",
       "value": "3x3_2: 100%"
      }
     },
     "c91067253cbf4070a605f5136c90eee5": {
      "model_module": "@jupyter-widgets/controls",
      "model_module_version": "2.0.0",
      "model_name": "HTMLStyleModel",
      "state": {
       "description_width": "",
       "font_size": null,
       "text_color": null
      }
     },
     "c93d0704493e4b27bde036c2b9c41d47": {
      "model_module": "@jupyter-widgets/base",
      "model_module_version": "2.0.0",
      "model_name": "LayoutModel",
      "state": {}
     },
     "c9422557ab0e43d58b4c8096acddbdae": {
      "model_module": "@jupyter-widgets/controls",
      "model_module_version": "2.0.0",
      "model_name": "HTMLModel",
      "state": {
       "layout": "IPY_MODEL_d5f70b023e5c4609b103f428f2153d7c",
       "style": "IPY_MODEL_e9077d0611644c4f9efd222f4aef44c3",
       "value": "3x3_2: 100%"
      }
     },
     "ca6198440d43417fbc1453833693fa70": {
      "model_module": "@jupyter-widgets/controls",
      "model_module_version": "2.0.0",
      "model_name": "HTMLModel",
      "state": {
       "layout": "IPY_MODEL_517b4d3ff6e649a38bc851a2c437b7c2",
       "style": "IPY_MODEL_c91067253cbf4070a605f5136c90eee5",
       "value": "3x3_0: 100%"
      }
     },
     "cbda157a539d406dbb5569f538f272e4": {
      "model_module": "@jupyter-widgets/controls",
      "model_module_version": "2.0.0",
      "model_name": "ProgressStyleModel",
      "state": {
       "description_width": ""
      }
     },
     "cc1e059694b743f6867f06eb37f79a41": {
      "model_module": "@jupyter-widgets/base",
      "model_module_version": "2.0.0",
      "model_name": "LayoutModel",
      "state": {}
     },
     "cc5d924a7e2b4d6d8914aee8ca167ae8": {
      "model_module": "@jupyter-widgets/base",
      "model_module_version": "2.0.0",
      "model_name": "LayoutModel",
      "state": {}
     },
     "cce4a5ac94b04f8689ba7d299609dc8d": {
      "model_module": "@jupyter-widgets/base",
      "model_module_version": "2.0.0",
      "model_name": "LayoutModel",
      "state": {}
     },
     "cd0be27a78624f91a77eeeb26a1662a4": {
      "model_module": "@jupyter-widgets/base",
      "model_module_version": "2.0.0",
      "model_name": "LayoutModel",
      "state": {}
     },
     "cd905d7ebd4d4268b6cd8c935d0048ad": {
      "model_module": "@jupyter-widgets/controls",
      "model_module_version": "2.0.0",
      "model_name": "HTMLModel",
      "state": {
       "layout": "IPY_MODEL_2310480bb7fe49ec96077d1610fdf527",
       "style": "IPY_MODEL_9ed0bfbe9ddb4c0a869c44b0ad4ff217",
       "value": " 37/37 [00:23&lt;00:00,  2.02it/s, Acc=96.00%, BestAcc=97.00%, F1=0.97, Prec=0.97, Rec=0.97]"
      }
     },
     "cdc5c6adfcd14bddb8d23d3a98074c74": {
      "model_module": "@jupyter-widgets/base",
      "model_module_version": "2.0.0",
      "model_name": "LayoutModel",
      "state": {}
     },
     "ce2d0ccccf61462f8d1e6eaafa4f8b0b": {
      "model_module": "@jupyter-widgets/base",
      "model_module_version": "2.0.0",
      "model_name": "LayoutModel",
      "state": {}
     },
     "ce553512a6414441b3f4cfa6b5836660": {
      "model_module": "@jupyter-widgets/controls",
      "model_module_version": "2.0.0",
      "model_name": "HTMLModel",
      "state": {
       "layout": "IPY_MODEL_075957b88ac041eeb80c4942262d809f",
       "style": "IPY_MODEL_bc9977a3be8a42c6b5bc83ebf11007ff",
       "value": " 67/67 [00:28&lt;00:00,  2.91it/s, Acc=99.50%, BestAcc=99.50%, F1=0.99, Prec=1.00, Rec=0.99]"
      }
     },
     "ce7417a3cd6e4c1fabc9029cfdbf3eb0": {
      "model_module": "@jupyter-widgets/controls",
      "model_module_version": "2.0.0",
      "model_name": "HBoxModel",
      "state": {
       "children": [
        "IPY_MODEL_f22d30ee623d476d9c83412fe688c449",
        "IPY_MODEL_d702ff8afd1a46c891eae28fe9917f71",
        "IPY_MODEL_2523d97e9656469a98ba03928e658b2d"
       ],
       "layout": "IPY_MODEL_cf4bcd6683764775bfee7d0f63b06950"
      }
     },
     "cf479c6c780642e19fb870973d2b0b86": {
      "model_module": "@jupyter-widgets/controls",
      "model_module_version": "2.0.0",
      "model_name": "HBoxModel",
      "state": {
       "children": [
        "IPY_MODEL_98f26442838e458e84a30a66fec339fd",
        "IPY_MODEL_a459de7812634eb498ff217941346329",
        "IPY_MODEL_c5ac497c88ab4beca1dea03792d468a0"
       ],
       "layout": "IPY_MODEL_df082fd2bce94d01838bd9f4603c1f5f"
      }
     },
     "cf4bcd6683764775bfee7d0f63b06950": {
      "model_module": "@jupyter-widgets/base",
      "model_module_version": "2.0.0",
      "model_name": "LayoutModel",
      "state": {}
     },
     "cf9dae9482d94bd8be813c37bdb5a227": {
      "model_module": "@jupyter-widgets/controls",
      "model_module_version": "2.0.0",
      "model_name": "HBoxModel",
      "state": {
       "children": [
        "IPY_MODEL_db243261f6814262aa0b1a3c91dd0f96",
        "IPY_MODEL_7a0efb0363d14bd2ab4011efc26f542b",
        "IPY_MODEL_7e4a7cd328df483a898580586d4dc5a5"
       ],
       "layout": "IPY_MODEL_5f6de357c2a7478caa9cf9141b80d525"
      }
     },
     "cfb7df181f2748a8865a1cfec5214228": {
      "model_module": "@jupyter-widgets/base",
      "model_module_version": "2.0.0",
      "model_name": "LayoutModel",
      "state": {}
     },
     "cfbc0cb5f1a54b2a88665bc88b45c537": {
      "model_module": "@jupyter-widgets/base",
      "model_module_version": "2.0.0",
      "model_name": "LayoutModel",
      "state": {}
     },
     "cfe8e1c8e08044dbab4c8bbdf3b92853": {
      "model_module": "@jupyter-widgets/controls",
      "model_module_version": "2.0.0",
      "model_name": "HTMLModel",
      "state": {
       "layout": "IPY_MODEL_cce4a5ac94b04f8689ba7d299609dc8d",
       "style": "IPY_MODEL_893d142f686b45e9ad25af4600db15be",
       "value": " 45/45 [00:42&lt;00:00,  1.12it/s, Acc=88.50%, BestAcc=88.50%, F1=0.88, Prec=0.90, Rec=0.89]"
      }
     },
     "d02738a039df4bdea577b4a52d6be218": {
      "model_module": "@jupyter-widgets/base",
      "model_module_version": "2.0.0",
      "model_name": "LayoutModel",
      "state": {}
     },
     "d03cad7307714636bd267e3dcac42dc0": {
      "model_module": "@jupyter-widgets/base",
      "model_module_version": "2.0.0",
      "model_name": "LayoutModel",
      "state": {}
     },
     "d06000a881024876974f587801992dc5": {
      "model_module": "@jupyter-widgets/controls",
      "model_module_version": "2.0.0",
      "model_name": "HTMLModel",
      "state": {
       "layout": "IPY_MODEL_b2a62908fbc94ae2bec413d5bb48ee6c",
       "style": "IPY_MODEL_f151b966366141f7a45770439d7ddd08",
       "value": "3x3_2: 100%"
      }
     },
     "d0809dedc2d6472c975aaa2b7f933f5c": {
      "model_module": "@jupyter-widgets/base",
      "model_module_version": "2.0.0",
      "model_name": "LayoutModel",
      "state": {}
     },
     "d08837b28cd240aba5dfa2155ace23df": {
      "model_module": "@jupyter-widgets/controls",
      "model_module_version": "2.0.0",
      "model_name": "FloatProgressModel",
      "state": {
       "bar_style": "success",
       "layout": "IPY_MODEL_7184496779e4441198eee4a3d9480e66",
       "max": 52,
       "style": "IPY_MODEL_0eb8e744fa1246d2873cc50786fb1f11",
       "value": 52
      }
     },
     "d0c725faaff6451784eb684a74cd9af9": {
      "model_module": "@jupyter-widgets/base",
      "model_module_version": "2.0.0",
      "model_name": "LayoutModel",
      "state": {}
     },
     "d0d5919156bd4c2091c61a32ce93cc70": {
      "model_module": "@jupyter-widgets/controls",
      "model_module_version": "2.0.0",
      "model_name": "HTMLStyleModel",
      "state": {
       "description_width": "",
       "font_size": null,
       "text_color": null
      }
     },
     "d12c1895e6c941eaabf9024792aea324": {
      "model_module": "@jupyter-widgets/base",
      "model_module_version": "2.0.0",
      "model_name": "LayoutModel",
      "state": {}
     },
     "d13489a8a241468a9991e27d2ee1c6be": {
      "model_module": "@jupyter-widgets/controls",
      "model_module_version": "2.0.0",
      "model_name": "FloatProgressModel",
      "state": {
       "bar_style": "success",
       "layout": "IPY_MODEL_73a3388ac94b49ae8fa8e702f4dd1595",
       "max": 50,
       "style": "IPY_MODEL_41858503e5b74bde8d5696e978dc10c4",
       "value": 50
      }
     },
     "d1480abac792484a8104fbf8f6838d44": {
      "model_module": "@jupyter-widgets/base",
      "model_module_version": "2.0.0",
      "model_name": "LayoutModel",
      "state": {}
     },
     "d15096126dd04b08ac60820ac8bc0455": {
      "model_module": "@jupyter-widgets/controls",
      "model_module_version": "2.0.0",
      "model_name": "HTMLModel",
      "state": {
       "layout": "IPY_MODEL_d12c1895e6c941eaabf9024792aea324",
       "style": "IPY_MODEL_9f4ac04e7e2d445d872ee4c9ce4b54b4",
       "value": "4x4_2: 100%"
      }
     },
     "d1b65209b4774cb8a8612904d1688bd4": {
      "model_module": "@jupyter-widgets/controls",
      "model_module_version": "2.0.0",
      "model_name": "ProgressStyleModel",
      "state": {
       "description_width": ""
      }
     },
     "d20c9dbdfdac4ef484427043fa952fab": {
      "model_module": "@jupyter-widgets/base",
      "model_module_version": "2.0.0",
      "model_name": "LayoutModel",
      "state": {}
     },
     "d21204a858b944e896cb579839955150": {
      "model_module": "@jupyter-widgets/controls",
      "model_module_version": "2.0.0",
      "model_name": "HBoxModel",
      "state": {
       "children": [
        "IPY_MODEL_99c04bf427a34b0f9fadc1ff8f3f18c2",
        "IPY_MODEL_67fe075b27094547a02ecfe9b178b3af",
        "IPY_MODEL_e2b5ee303c6c47ea841910e3744e06f6"
       ],
       "layout": "IPY_MODEL_75a1f6a2400e4f728c996710e5d704de"
      }
     },
     "d247507953b94b20804621e213ce2ba3": {
      "model_module": "@jupyter-widgets/controls",
      "model_module_version": "2.0.0",
      "model_name": "HTMLModel",
      "state": {
       "layout": "IPY_MODEL_0b9e8a8ea2874460a2f5c830584da0a4",
       "style": "IPY_MODEL_f89b8fa276db4fdb8df9add94e4b6c20",
       "value": "3x3_2: 100%"
      }
     },
     "d26b3cb29c70446eb5ff19ae899052af": {
      "model_module": "@jupyter-widgets/base",
      "model_module_version": "2.0.0",
      "model_name": "LayoutModel",
      "state": {}
     },
     "d27aaa66ce5d4e3a972cbe99d6847d15": {
      "model_module": "@jupyter-widgets/base",
      "model_module_version": "2.0.0",
      "model_name": "LayoutModel",
      "state": {}
     },
     "d2bed772cb8f47b3ba04d1f7119f4466": {
      "model_module": "@jupyter-widgets/base",
      "model_module_version": "2.0.0",
      "model_name": "LayoutModel",
      "state": {}
     },
     "d30359a33c554a838752e9959546464e": {
      "model_module": "@jupyter-widgets/controls",
      "model_module_version": "2.0.0",
      "model_name": "FloatProgressModel",
      "state": {
       "bar_style": "success",
       "layout": "IPY_MODEL_1ad7ed7862244f8b8847ddd0b27bd708",
       "max": 75,
       "style": "IPY_MODEL_adba80594d894e97aa0f87d5cfa8c8a3",
       "value": 75
      }
     },
     "d353d5facd28432cbc35baf71816e55e": {
      "model_module": "@jupyter-widgets/controls",
      "model_module_version": "2.0.0",
      "model_name": "HTMLModel",
      "state": {
       "layout": "IPY_MODEL_7dfb6fadef3a4ce7ba11d69c58c4b2fd",
       "style": "IPY_MODEL_894b8cf25f67456f8b9f5ec4744fd773",
       "value": " 34/34 [00:19&lt;00:00,  2.16it/s, Acc=58.50%, BestAcc=68.50%, F1=0.63, Prec=0.75, Rec=0.69]"
      }
     },
     "d3bc8530a1804131bf7473e475312b07": {
      "model_module": "@jupyter-widgets/controls",
      "model_module_version": "2.0.0",
      "model_name": "ProgressStyleModel",
      "state": {
       "description_width": ""
      }
     },
     "d433345a906543fc84deb52dbd637c5a": {
      "model_module": "@jupyter-widgets/controls",
      "model_module_version": "2.0.0",
      "model_name": "HTMLModel",
      "state": {
       "layout": "IPY_MODEL_555a460399f748d89882589e513eb2a0",
       "style": "IPY_MODEL_652a45c2256b4c2e870b747e630eb0c8",
       "value": " 16/16 [00:07&lt;00:00,  2.55it/s, Acc=69.00%, BestAcc=70.50%, F1=0.61, Prec=0.79, Rec=0.70]"
      }
     },
     "d50e68f55fff426a8a8d5853309563db": {
      "model_module": "@jupyter-widgets/controls",
      "model_module_version": "2.0.0",
      "model_name": "HBoxModel",
      "state": {
       "children": [
        "IPY_MODEL_baf46ff233834b429234ab221811e4c2",
        "IPY_MODEL_f28947ebf8fc4da2998d8053ac5d54de",
        "IPY_MODEL_3f5e0a97e8b140c7bcc3afca927d7df6"
       ],
       "layout": "IPY_MODEL_1a81a8ed457b4e3e8103dfd64b1b5f88"
      }
     },
     "d536036b64a74b92a1798c3249455e8c": {
      "model_module": "@jupyter-widgets/base",
      "model_module_version": "2.0.0",
      "model_name": "LayoutModel",
      "state": {}
     },
     "d55ba385065a41688ca8063b442385b0": {
      "model_module": "@jupyter-widgets/base",
      "model_module_version": "2.0.0",
      "model_name": "LayoutModel",
      "state": {}
     },
     "d588b03c6eb2494da23990fd2eebb498": {
      "model_module": "@jupyter-widgets/base",
      "model_module_version": "2.0.0",
      "model_name": "LayoutModel",
      "state": {}
     },
     "d5c8d32f454244dab33bb2cf31db82d9": {
      "model_module": "@jupyter-widgets/base",
      "model_module_version": "2.0.0",
      "model_name": "LayoutModel",
      "state": {}
     },
     "d5ee63344e52421c8687dad1716516f1": {
      "model_module": "@jupyter-widgets/controls",
      "model_module_version": "2.0.0",
      "model_name": "HTMLModel",
      "state": {
       "layout": "IPY_MODEL_65d3664c10e34191aecd7dcf9936641e",
       "style": "IPY_MODEL_521e215999ec406d96f53e25bbe50a50",
       "value": "4x4_2: 100%"
      }
     },
     "d5f05d1f86044d4682a8c04e9e8b61ad": {
      "model_module": "@jupyter-widgets/controls",
      "model_module_version": "2.0.0",
      "model_name": "HTMLModel",
      "state": {
       "layout": "IPY_MODEL_339d008d66a349bb9cc8edf5429d9d6a",
       "style": "IPY_MODEL_6789381e0f9640cc9fabe68e8a8d909a",
       "value": "3x3_2: 100%"
      }
     },
     "d5f70b023e5c4609b103f428f2153d7c": {
      "model_module": "@jupyter-widgets/base",
      "model_module_version": "2.0.0",
      "model_name": "LayoutModel",
      "state": {}
     },
     "d66a9a6a7b61495884074affb7cb3ac8": {
      "model_module": "@jupyter-widgets/controls",
      "model_module_version": "2.0.0",
      "model_name": "ProgressStyleModel",
      "state": {
       "description_width": ""
      }
     },
     "d676b8f3a7bd41b7b4f79c4d89b96436": {
      "model_module": "@jupyter-widgets/controls",
      "model_module_version": "2.0.0",
      "model_name": "HTMLStyleModel",
      "state": {
       "description_width": "",
       "font_size": null,
       "text_color": null
      }
     },
     "d6a6b9662de449719af077d1d15dba52": {
      "model_module": "@jupyter-widgets/controls",
      "model_module_version": "2.0.0",
      "model_name": "HBoxModel",
      "state": {
       "children": [
        "IPY_MODEL_5362ded6d6bb46c982145a96d71ca02b",
        "IPY_MODEL_3d8c135a463e474fac115400438d13e8",
        "IPY_MODEL_28206dba438640a09193f1fb766a52ff"
       ],
       "layout": "IPY_MODEL_2558c5c3879b466eb5c69f711106c4c5"
      }
     },
     "d702ff8afd1a46c891eae28fe9917f71": {
      "model_module": "@jupyter-widgets/controls",
      "model_module_version": "2.0.0",
      "model_name": "FloatProgressModel",
      "state": {
       "bar_style": "success",
       "layout": "IPY_MODEL_1e6fc54381224ae9bc7bb5d5bb17e113",
       "max": 27,
       "style": "IPY_MODEL_2673c35da9334f15b2e6024b0405910f",
       "value": 27
      }
     },
     "d727dc25766b452b8f5c74313c4f722a": {
      "model_module": "@jupyter-widgets/base",
      "model_module_version": "2.0.0",
      "model_name": "LayoutModel",
      "state": {}
     },
     "d734a7dd6ef946809f45a7a25733f74e": {
      "model_module": "@jupyter-widgets/base",
      "model_module_version": "2.0.0",
      "model_name": "LayoutModel",
      "state": {}
     },
     "d74a90d59c4f4a0dbfdc25d135fb69b4": {
      "model_module": "@jupyter-widgets/controls",
      "model_module_version": "2.0.0",
      "model_name": "HBoxModel",
      "state": {
       "children": [
        "IPY_MODEL_1f368ed8502249a1a459fc0a0bad6d62",
        "IPY_MODEL_226fa4c678174b0a84c80ca0e2bcea79",
        "IPY_MODEL_2298dfdef518411bba0aa757b0cc1aaf"
       ],
       "layout": "IPY_MODEL_198a7f941f994de39e59d2ac46ab3cbc"
      }
     },
     "d76c21646a6a48588be371dfa4892d53": {
      "model_module": "@jupyter-widgets/controls",
      "model_module_version": "2.0.0",
      "model_name": "HTMLModel",
      "state": {
       "layout": "IPY_MODEL_2e9774a4aab14a23b40b399c76feec82",
       "style": "IPY_MODEL_97144e28423e4e8ba40284f73a00bd3f",
       "value": " 58/58 [00:25&lt;00:00,  2.80it/s, Acc=98.50%, BestAcc=98.50%, F1=0.98, Prec=0.99, Rec=0.98]"
      }
     },
     "d77b7931a44b40a8bb0913f24160b2fe": {
      "model_module": "@jupyter-widgets/controls",
      "model_module_version": "2.0.0",
      "model_name": "FloatProgressModel",
      "state": {
       "bar_style": "success",
       "layout": "IPY_MODEL_ab98b79bd6254b31be36f6e42d6bbce4",
       "max": 83,
       "style": "IPY_MODEL_836806dede0c4b89afc87528d33633b2",
       "value": 83
      }
     },
     "d78712632e8a412cb5a2aa61e533faee": {
      "model_module": "@jupyter-widgets/controls",
      "model_module_version": "2.0.0",
      "model_name": "HTMLStyleModel",
      "state": {
       "description_width": "",
       "font_size": null,
       "text_color": null
      }
     },
     "d7a202885fbd46b1ac5ca0b01da196ef": {
      "model_module": "@jupyter-widgets/base",
      "model_module_version": "2.0.0",
      "model_name": "LayoutModel",
      "state": {}
     },
     "d7b1fbb92cdb4d2a99014beab9ecf5f2": {
      "model_module": "@jupyter-widgets/controls",
      "model_module_version": "2.0.0",
      "model_name": "FloatProgressModel",
      "state": {
       "bar_style": "success",
       "layout": "IPY_MODEL_0177265b15d94b869797b98ed46a3965",
       "max": 17,
       "style": "IPY_MODEL_10d2fa1feff84ee2b7a6c6abf6f2f1e7",
       "value": 17
      }
     },
     "d7b67f1ba50a4aeead7d14733c1504e4": {
      "model_module": "@jupyter-widgets/base",
      "model_module_version": "2.0.0",
      "model_name": "LayoutModel",
      "state": {}
     },
     "d7caafc262a94cc1bf62606c622d10d6": {
      "model_module": "@jupyter-widgets/controls",
      "model_module_version": "2.0.0",
      "model_name": "ProgressStyleModel",
      "state": {
       "description_width": ""
      }
     },
     "d7ef728d2330425288eca11abb397000": {
      "model_module": "@jupyter-widgets/controls",
      "model_module_version": "2.0.0",
      "model_name": "ProgressStyleModel",
      "state": {
       "description_width": ""
      }
     },
     "d8424304da92428f88c24d0c15ef8313": {
      "model_module": "@jupyter-widgets/base",
      "model_module_version": "2.0.0",
      "model_name": "LayoutModel",
      "state": {}
     },
     "d84c3eb18202418ea6675ed8d694468b": {
      "model_module": "@jupyter-widgets/base",
      "model_module_version": "2.0.0",
      "model_name": "LayoutModel",
      "state": {}
     },
     "d876a97463f64a8ca64a74f6df2f1de2": {
      "model_module": "@jupyter-widgets/controls",
      "model_module_version": "2.0.0",
      "model_name": "FloatProgressModel",
      "state": {
       "bar_style": "success",
       "layout": "IPY_MODEL_637dc8ee6614442bb3edab85eef06e62",
       "max": 39,
       "style": "IPY_MODEL_6de588b21f064627bd498bff68cd2efd",
       "value": 39
      }
     },
     "d8950a4769bc4ffcb3d0957474095b04": {
      "model_module": "@jupyter-widgets/base",
      "model_module_version": "2.0.0",
      "model_name": "LayoutModel",
      "state": {}
     },
     "d95fa4893a194ecba10c042daa39b3eb": {
      "model_module": "@jupyter-widgets/controls",
      "model_module_version": "2.0.0",
      "model_name": "ProgressStyleModel",
      "state": {
       "description_width": ""
      }
     },
     "d98056b0ac564a35abdeba7462fbf3a4": {
      "model_module": "@jupyter-widgets/controls",
      "model_module_version": "2.0.0",
      "model_name": "HTMLModel",
      "state": {
       "layout": "IPY_MODEL_583afdac002b4dca936fdbc4aee5eee9",
       "style": "IPY_MODEL_9b02578a3ae6459e8a00829f99238f5d",
       "value": "3x3_0: 100%"
      }
     },
     "d9cf1b91db5d4060ad07bed6005cbc2a": {
      "model_module": "@jupyter-widgets/base",
      "model_module_version": "2.0.0",
      "model_name": "LayoutModel",
      "state": {}
     },
     "da0bd0ec83c5424599eca1f16be44704": {
      "model_module": "@jupyter-widgets/controls",
      "model_module_version": "2.0.0",
      "model_name": "HTMLStyleModel",
      "state": {
       "description_width": "",
       "font_size": null,
       "text_color": null
      }
     },
     "da5d3248fe19405e81a2f213a1ccb203": {
      "model_module": "@jupyter-widgets/controls",
      "model_module_version": "2.0.0",
      "model_name": "ProgressStyleModel",
      "state": {
       "description_width": ""
      }
     },
     "da98f93decfb430badbbdba9216b96b8": {
      "model_module": "@jupyter-widgets/controls",
      "model_module_version": "2.0.0",
      "model_name": "HTMLModel",
      "state": {
       "layout": "IPY_MODEL_0f99320d66714af4bba49a26e53b134e",
       "style": "IPY_MODEL_199657b84e3c4ccd8e2e9f23d36b2b11",
       "value": "3x3_2: 100%"
      }
     },
     "dad71f7de167472c8b051ecbe762bb16": {
      "model_module": "@jupyter-widgets/controls",
      "model_module_version": "2.0.0",
      "model_name": "HTMLStyleModel",
      "state": {
       "description_width": "",
       "font_size": null,
       "text_color": null
      }
     },
     "dad793e254fa41139168875f5c1b2cee": {
      "model_module": "@jupyter-widgets/controls",
      "model_module_version": "2.0.0",
      "model_name": "HTMLModel",
      "state": {
       "layout": "IPY_MODEL_83f9dc910dde4653befea9eed68148fd",
       "style": "IPY_MODEL_79bc11a006d04d11aaf61f224a9af0a1",
       "value": "3x3_2: 100%"
      }
     },
     "db243261f6814262aa0b1a3c91dd0f96": {
      "model_module": "@jupyter-widgets/controls",
      "model_module_version": "2.0.0",
      "model_name": "HTMLModel",
      "state": {
       "layout": "IPY_MODEL_95c951072b534fee8e4d04ff4f71bfe9",
       "style": "IPY_MODEL_26f99622dd8945d59d61ba78b22489a6",
       "value": "3x3_0: 100%"
      }
     },
     "dbfe8d48dcd443b8becdec62c291099c": {
      "model_module": "@jupyter-widgets/controls",
      "model_module_version": "2.0.0",
      "model_name": "HTMLStyleModel",
      "state": {
       "description_width": "",
       "font_size": null,
       "text_color": null
      }
     },
     "dc3fc1eb5f37411a825fec296acbf91f": {
      "model_module": "@jupyter-widgets/controls",
      "model_module_version": "2.0.0",
      "model_name": "ProgressStyleModel",
      "state": {
       "description_width": ""
      }
     },
     "dc8bd5b47e444a65bd07d33ecf07a01d": {
      "model_module": "@jupyter-widgets/controls",
      "model_module_version": "2.0.0",
      "model_name": "HTMLModel",
      "state": {
       "layout": "IPY_MODEL_02e05af295f94a038e98c7975bfa98b6",
       "style": "IPY_MODEL_b3f6170542fe43b0bd7efa3bcabb5d37",
       "value": " 25/81 [00:19&lt;00:33,  1.69it/s, Acc=99.50%, BestAcc=99.50%, F1=0.99, Prec=1.00, Rec=0.99]"
      }
     },
     "de1fbb3e1d994b74bb4e1cf446b5c82b": {
      "model_module": "@jupyter-widgets/controls",
      "model_module_version": "2.0.0",
      "model_name": "ProgressStyleModel",
      "state": {
       "description_width": ""
      }
     },
     "de30f543a4b14acb8650f6c3a71a7f00": {
      "model_module": "@jupyter-widgets/controls",
      "model_module_version": "2.0.0",
      "model_name": "HTMLModel",
      "state": {
       "layout": "IPY_MODEL_87728dfcaa4f4331b71d260062a108e4",
       "style": "IPY_MODEL_ea8df13d10084c6cab2d1b20696a44d7",
       "value": " 74/74 [00:55&lt;00:00,  1.52it/s, Acc=60.50%, BestAcc=67.00%, F1=0.62, Prec=0.71, Rec=0.67]"
      }
     },
     "de9cdda188bc49ed8a65f5304076c8d6": {
      "model_module": "@jupyter-widgets/controls",
      "model_module_version": "2.0.0",
      "model_name": "HTMLModel",
      "state": {
       "layout": "IPY_MODEL_8f728afc37c241bf81a020c407cb6443",
       "style": "IPY_MODEL_964f4d66dc6244db8cebd3be58e26454",
       "value": " 38/38 [00:29&lt;00:00,  1.61it/s, Acc=83.50%, BestAcc=85.00%, F1=0.84, Prec=0.88, Rec=0.85]"
      }
     },
     "dec742410cf84846b48d7f3c160da05c": {
      "model_module": "@jupyter-widgets/controls",
      "model_module_version": "2.0.0",
      "model_name": "HBoxModel",
      "state": {
       "children": [
        "IPY_MODEL_8c65441626db4dfe91463c9fca1790f5",
        "IPY_MODEL_a71b735810e5410e83899ce2efb9e1ad",
        "IPY_MODEL_3d5c09869f58453ebe1159861174b477"
       ],
       "layout": "IPY_MODEL_fcf6808fa915446d8bd1a3ec0b51668b"
      }
     },
     "decbd2bca5a74893889f1045ebf879f0": {
      "model_module": "@jupyter-widgets/base",
      "model_module_version": "2.0.0",
      "model_name": "LayoutModel",
      "state": {}
     },
     "dedb7be4e2e648f08e8615734079a0da": {
      "model_module": "@jupyter-widgets/controls",
      "model_module_version": "2.0.0",
      "model_name": "HTMLModel",
      "state": {
       "layout": "IPY_MODEL_4800ed83b53d49988e8f1b1600259a3b",
       "style": "IPY_MODEL_82dda654919c46599484d159a3e8e98e",
       "value": "3x3_0:  31%"
      }
     },
     "df082fd2bce94d01838bd9f4603c1f5f": {
      "model_module": "@jupyter-widgets/base",
      "model_module_version": "2.0.0",
      "model_name": "LayoutModel",
      "state": {}
     },
     "df7a4214cbde448482be9f8aa9612e09": {
      "model_module": "@jupyter-widgets/base",
      "model_module_version": "2.0.0",
      "model_name": "LayoutModel",
      "state": {}
     },
     "df8a6cf00870490289d8a73d22999a97": {
      "model_module": "@jupyter-widgets/base",
      "model_module_version": "2.0.0",
      "model_name": "LayoutModel",
      "state": {}
     },
     "dfb301f39ec440a5aab358e09c11195f": {
      "model_module": "@jupyter-widgets/base",
      "model_module_version": "2.0.0",
      "model_name": "LayoutModel",
      "state": {}
     },
     "dfb503fd95c740babe7864bff6b53c69": {
      "model_module": "@jupyter-widgets/controls",
      "model_module_version": "2.0.0",
      "model_name": "HTMLStyleModel",
      "state": {
       "description_width": "",
       "font_size": null,
       "text_color": null
      }
     },
     "dfc1dd34e5fc49d28c41cceabbd4240a": {
      "model_module": "@jupyter-widgets/controls",
      "model_module_version": "2.0.0",
      "model_name": "HTMLStyleModel",
      "state": {
       "description_width": "",
       "font_size": null,
       "text_color": null
      }
     },
     "e0049224d49d49dda5fbbe9cabb823a6": {
      "model_module": "@jupyter-widgets/controls",
      "model_module_version": "2.0.0",
      "model_name": "HBoxModel",
      "state": {
       "children": [
        "IPY_MODEL_752e35f03d66403ea0a2a0de2ca3c06f",
        "IPY_MODEL_4e24deb5df25487eb7b368df1167523b",
        "IPY_MODEL_3cfb1fc955574b4fae3910da4b132da3"
       ],
       "layout": "IPY_MODEL_35545a5a3df845bda944dec2107dea7b"
      }
     },
     "e0d44bb3beb048bc80da03f2eef94cff": {
      "model_module": "@jupyter-widgets/controls",
      "model_module_version": "2.0.0",
      "model_name": "HTMLStyleModel",
      "state": {
       "description_width": "",
       "font_size": null,
       "text_color": null
      }
     },
     "e18517b0519b4980904fa685b1b04ddb": {
      "model_module": "@jupyter-widgets/base",
      "model_module_version": "2.0.0",
      "model_name": "LayoutModel",
      "state": {}
     },
     "e1d69387e99f489582b2ec346f966f9b": {
      "model_module": "@jupyter-widgets/base",
      "model_module_version": "2.0.0",
      "model_name": "LayoutModel",
      "state": {}
     },
     "e200d408dcb44d03bce3b79e3325359d": {
      "model_module": "@jupyter-widgets/controls",
      "model_module_version": "2.0.0",
      "model_name": "ProgressStyleModel",
      "state": {
       "description_width": ""
      }
     },
     "e20e0e71e71b431f8bcd7ef8a92191b2": {
      "model_module": "@jupyter-widgets/controls",
      "model_module_version": "2.0.0",
      "model_name": "HTMLStyleModel",
      "state": {
       "description_width": "",
       "font_size": null,
       "text_color": null
      }
     },
     "e25f0511be4744f797b49f50c2c8fc89": {
      "model_module": "@jupyter-widgets/controls",
      "model_module_version": "2.0.0",
      "model_name": "FloatProgressModel",
      "state": {
       "bar_style": "success",
       "layout": "IPY_MODEL_efb4c6d961d74a9bbd72b49d15dc53b6",
       "max": 74,
       "style": "IPY_MODEL_e785d5d7677f4c5481db7548de1e12c4",
       "value": 74
      }
     },
     "e26576bf3e294c30aad3ae2bf09c2786": {
      "model_module": "@jupyter-widgets/controls",
      "model_module_version": "2.0.0",
      "model_name": "HTMLModel",
      "state": {
       "layout": "IPY_MODEL_8ec0e2d9108e4005a26b5a5f23fc67c7",
       "style": "IPY_MODEL_f784ab741af848cdae18ed510eeb2235",
       "value": " 55/55 [00:23&lt;00:00,  2.82it/s, Acc=97.50%, BestAcc=98.00%, F1=0.98, Prec=0.98, Rec=0.98]"
      }
     },
     "e2b5ee303c6c47ea841910e3744e06f6": {
      "model_module": "@jupyter-widgets/controls",
      "model_module_version": "2.0.0",
      "model_name": "HTMLModel",
      "state": {
       "layout": "IPY_MODEL_76e38a3cb4e545af85e504a7c164b956",
       "style": "IPY_MODEL_1e20c36ab12d4413b17d4a43bede887c",
       "value": " 45/45 [00:21&lt;00:00,  2.83it/s, Acc=98.50%, BestAcc=99.50%, F1=0.99, Prec=1.00, Rec=0.99]"
      }
     },
     "e33f76c436cb43128bb44d816000148e": {
      "model_module": "@jupyter-widgets/base",
      "model_module_version": "2.0.0",
      "model_name": "LayoutModel",
      "state": {}
     },
     "e38c69b12ff44bcba90875fcc4d6e666": {
      "model_module": "@jupyter-widgets/base",
      "model_module_version": "2.0.0",
      "model_name": "LayoutModel",
      "state": {}
     },
     "e38f9d4751814f3794907cfa20afabdd": {
      "model_module": "@jupyter-widgets/base",
      "model_module_version": "2.0.0",
      "model_name": "LayoutModel",
      "state": {}
     },
     "e3905ef4884045899e234b9e3a9e0a52": {
      "model_module": "@jupyter-widgets/base",
      "model_module_version": "2.0.0",
      "model_name": "LayoutModel",
      "state": {}
     },
     "e3d93ffed183426792d43d34cc0735f6": {
      "model_module": "@jupyter-widgets/base",
      "model_module_version": "2.0.0",
      "model_name": "LayoutModel",
      "state": {}
     },
     "e402f4bc7df54da98a2e8a4d97b25c26": {
      "model_module": "@jupyter-widgets/controls",
      "model_module_version": "2.0.0",
      "model_name": "ProgressStyleModel",
      "state": {
       "description_width": ""
      }
     },
     "e4656fe1f3b94fa8a18f2b66efbf2c56": {
      "model_module": "@jupyter-widgets/base",
      "model_module_version": "2.0.0",
      "model_name": "LayoutModel",
      "state": {}
     },
     "e4d34029cfb24ea1af453f3523280874": {
      "model_module": "@jupyter-widgets/controls",
      "model_module_version": "2.0.0",
      "model_name": "HTMLStyleModel",
      "state": {
       "description_width": "",
       "font_size": null,
       "text_color": null
      }
     },
     "e52c07e374bb42b1883fc76cd510194e": {
      "model_module": "@jupyter-widgets/base",
      "model_module_version": "2.0.0",
      "model_name": "LayoutModel",
      "state": {}
     },
     "e59398e6a26241ea950a35ff259d09ae": {
      "model_module": "@jupyter-widgets/controls",
      "model_module_version": "2.0.0",
      "model_name": "HTMLStyleModel",
      "state": {
       "description_width": "",
       "font_size": null,
       "text_color": null
      }
     },
     "e5fafe280b5546bdb5d99dd2a5b62c23": {
      "model_module": "@jupyter-widgets/base",
      "model_module_version": "2.0.0",
      "model_name": "LayoutModel",
      "state": {}
     },
     "e657ab79b23a4606b240293dba8f31b5": {
      "model_module": "@jupyter-widgets/controls",
      "model_module_version": "2.0.0",
      "model_name": "ProgressStyleModel",
      "state": {
       "description_width": ""
      }
     },
     "e6d863fa98f641fb99164c5828502e1c": {
      "model_module": "@jupyter-widgets/controls",
      "model_module_version": "2.0.0",
      "model_name": "HTMLModel",
      "state": {
       "layout": "IPY_MODEL_ecf593920afd4ee89637b0e1c96ab630",
       "style": "IPY_MODEL_8814eb6d7f554683a1c40ba2e1841979",
       "value": "3x3_0: 100%"
      }
     },
     "e7793a4309f14c8e8cdc52ba87166b67": {
      "model_module": "@jupyter-widgets/controls",
      "model_module_version": "2.0.0",
      "model_name": "HTMLModel",
      "state": {
       "layout": "IPY_MODEL_e52c07e374bb42b1883fc76cd510194e",
       "style": "IPY_MODEL_e59398e6a26241ea950a35ff259d09ae",
       "value": "3x3_2: 100%"
      }
     },
     "e77d97731cdd4814849705cf75156031": {
      "model_module": "@jupyter-widgets/controls",
      "model_module_version": "2.0.0",
      "model_name": "HBoxModel",
      "state": {
       "children": [
        "IPY_MODEL_f7d1d31bad814ab5ae5217cae24f2535",
        "IPY_MODEL_78c0d0669efa432892610dbee24c9869",
        "IPY_MODEL_77d637e2218045e5916a5ff3ff27b35d"
       ],
       "layout": "IPY_MODEL_a007a459dad04c14b2cc9af1f22ad130"
      }
     },
     "e785d5d7677f4c5481db7548de1e12c4": {
      "model_module": "@jupyter-widgets/controls",
      "model_module_version": "2.0.0",
      "model_name": "ProgressStyleModel",
      "state": {
       "description_width": ""
      }
     },
     "e7d2ce0d42f64ae2a014456f7f5af5f2": {
      "model_module": "@jupyter-widgets/base",
      "model_module_version": "2.0.0",
      "model_name": "LayoutModel",
      "state": {}
     },
     "e7df44b91a264d0084ee1f5fb091fa88": {
      "model_module": "@jupyter-widgets/controls",
      "model_module_version": "2.0.0",
      "model_name": "HBoxModel",
      "state": {
       "children": [
        "IPY_MODEL_553e4beec2e546788b546cb05a746f8e",
        "IPY_MODEL_a7bd7273ba554f81aefb5253cd3667e1",
        "IPY_MODEL_46d7b4f8c170447da887177875bd1555"
       ],
       "layout": "IPY_MODEL_9fd9b02e5d6d4bb3887de886b4fce239"
      }
     },
     "e8f1396e49264643a2c2e9efda4e46ae": {
      "model_module": "@jupyter-widgets/base",
      "model_module_version": "2.0.0",
      "model_name": "LayoutModel",
      "state": {}
     },
     "e9077d0611644c4f9efd222f4aef44c3": {
      "model_module": "@jupyter-widgets/controls",
      "model_module_version": "2.0.0",
      "model_name": "HTMLStyleModel",
      "state": {
       "description_width": "",
       "font_size": null,
       "text_color": null
      }
     },
     "e923ba1435db4bc9a1f267290bf2e597": {
      "model_module": "@jupyter-widgets/controls",
      "model_module_version": "2.0.0",
      "model_name": "HBoxModel",
      "state": {
       "children": [
        "IPY_MODEL_327e703b301f493098431cc06221de9f",
        "IPY_MODEL_bba76f8c79664c25a5ff16b008dd4ff4",
        "IPY_MODEL_75c42b7d0add4757b992eaae45d386de"
       ],
       "layout": "IPY_MODEL_a4732aabac96458e85f1732e409ca2c2"
      }
     },
     "e93257ebe6cc43729387b23604992a45": {
      "model_module": "@jupyter-widgets/base",
      "model_module_version": "2.0.0",
      "model_name": "LayoutModel",
      "state": {}
     },
     "e937ecfb73664758a9c39fe5add638a9": {
      "model_module": "@jupyter-widgets/base",
      "model_module_version": "2.0.0",
      "model_name": "LayoutModel",
      "state": {}
     },
     "e982b2ba069545ab94c43134832ca8a1": {
      "model_module": "@jupyter-widgets/controls",
      "model_module_version": "2.0.0",
      "model_name": "HBoxModel",
      "state": {
       "children": [
        "IPY_MODEL_bc17cd18c25543b6ac629dc47d84b61f",
        "IPY_MODEL_c4c5b354ac9d4f65b12b1f5c9802780d",
        "IPY_MODEL_8995bde063f144ea817006f1fba84bd2"
       ],
       "layout": "IPY_MODEL_029c12813b2a4d90917ba0090e5261c8"
      }
     },
     "e9d33209d30540bab060b908ea264564": {
      "model_module": "@jupyter-widgets/controls",
      "model_module_version": "2.0.0",
      "model_name": "HTMLModel",
      "state": {
       "layout": "IPY_MODEL_477ac52801ae498bb3fcbb89179c68bd",
       "style": "IPY_MODEL_3d2d35dda22c42f6906b72ce842ba376",
       "value": " 50/50 [00:43&lt;00:00,  1.22it/s, Acc=89.50%, BestAcc=89.50%, F1=0.89, Prec=0.90, Rec=0.90]"
      }
     },
     "e9ed7b59a2f94e85b084c812747151e0": {
      "model_module": "@jupyter-widgets/base",
      "model_module_version": "2.0.0",
      "model_name": "LayoutModel",
      "state": {}
     },
     "e9f87e937a4047ec96319514dc28725b": {
      "model_module": "@jupyter-widgets/controls",
      "model_module_version": "2.0.0",
      "model_name": "HBoxModel",
      "state": {
       "children": [
        "IPY_MODEL_9d90354b50664dd0ac021a84e005f63b",
        "IPY_MODEL_3a78f739db804fb09b3643ab292e4054",
        "IPY_MODEL_580203f5b0f14c708b7fb96390287e86"
       ],
       "layout": "IPY_MODEL_11e4793959954ba7bea65ffd2505ad31"
      }
     },
     "ea16f28ee30c4bf4bc3ce662340c6ac8": {
      "model_module": "@jupyter-widgets/base",
      "model_module_version": "2.0.0",
      "model_name": "LayoutModel",
      "state": {}
     },
     "ea34a55bbcfa405f8a7fd311ad905a12": {
      "model_module": "@jupyter-widgets/controls",
      "model_module_version": "2.0.0",
      "model_name": "ProgressStyleModel",
      "state": {
       "description_width": ""
      }
     },
     "ea8df13d10084c6cab2d1b20696a44d7": {
      "model_module": "@jupyter-widgets/controls",
      "model_module_version": "2.0.0",
      "model_name": "HTMLStyleModel",
      "state": {
       "description_width": "",
       "font_size": null,
       "text_color": null
      }
     },
     "eab8a87459c84a52af3d72220e3e6ae4": {
      "model_module": "@jupyter-widgets/base",
      "model_module_version": "2.0.0",
      "model_name": "LayoutModel",
      "state": {}
     },
     "eaf094542e5a4daaad84c1f4feaa1add": {
      "model_module": "@jupyter-widgets/controls",
      "model_module_version": "2.0.0",
      "model_name": "ProgressStyleModel",
      "state": {
       "description_width": ""
      }
     },
     "eb6fd68d290a4e5eb1833b2f1ac354cc": {
      "model_module": "@jupyter-widgets/controls",
      "model_module_version": "2.0.0",
      "model_name": "HTMLModel",
      "state": {
       "layout": "IPY_MODEL_6e3292c56d124b8a968a8cb0052af1d2",
       "style": "IPY_MODEL_6290e2736a0444189688803d821140d2",
       "value": "Moves Before: 100%"
      }
     },
     "eb82c9e5f0b449d7b521659b7a29b2f7": {
      "model_module": "@jupyter-widgets/controls",
      "model_module_version": "2.0.0",
      "model_name": "HTMLStyleModel",
      "state": {
       "description_width": "",
       "font_size": null,
       "text_color": null
      }
     },
     "eb9533c2a7df4696830048e666ea359e": {
      "model_module": "@jupyter-widgets/base",
      "model_module_version": "2.0.0",
      "model_name": "LayoutModel",
      "state": {}
     },
     "eb9bb631b9c5489e8b2bf11d9ba68b13": {
      "model_module": "@jupyter-widgets/controls",
      "model_module_version": "2.0.0",
      "model_name": "HTMLStyleModel",
      "state": {
       "description_width": "",
       "font_size": null,
       "text_color": null
      }
     },
     "ec2e3582ea2a4efabfde1b17787a2bc9": {
      "model_module": "@jupyter-widgets/controls",
      "model_module_version": "2.0.0",
      "model_name": "ProgressStyleModel",
      "state": {
       "description_width": ""
      }
     },
     "ec732b43e04c433dbc715fd8737d68ff": {
      "model_module": "@jupyter-widgets/controls",
      "model_module_version": "2.0.0",
      "model_name": "HTMLModel",
      "state": {
       "layout": "IPY_MODEL_b5d55e56937047a19bc9c139382c27a9",
       "style": "IPY_MODEL_f32f046fd4824c778084a1ec178989b6",
       "value": "3x3_2: 100%"
      }
     },
     "ec86e0894266479c95d985e335a16f24": {
      "model_module": "@jupyter-widgets/base",
      "model_module_version": "2.0.0",
      "model_name": "LayoutModel",
      "state": {}
     },
     "ecf593920afd4ee89637b0e1c96ab630": {
      "model_module": "@jupyter-widgets/base",
      "model_module_version": "2.0.0",
      "model_name": "LayoutModel",
      "state": {}
     },
     "ed983ec25fa14630941b79c27f8953e1": {
      "model_module": "@jupyter-widgets/controls",
      "model_module_version": "2.0.0",
      "model_name": "HBoxModel",
      "state": {
       "children": [
        "IPY_MODEL_e7793a4309f14c8e8cdc52ba87166b67",
        "IPY_MODEL_1906039bdf3e4ac48aa929511ffc6a25",
        "IPY_MODEL_67bd0172878e46cd9ca934da3a064aa0"
       ],
       "layout": "IPY_MODEL_64773d9d3dbc460298bee2ab9aaeb6f9"
      }
     },
     "ee736901fe0443c1bd6120b4943e9e21": {
      "model_module": "@jupyter-widgets/controls",
      "model_module_version": "2.0.0",
      "model_name": "HBoxModel",
      "state": {
       "children": [
        "IPY_MODEL_21006c98929449058747607fee0767f6",
        "IPY_MODEL_f8641f76f3bc48dbb42cd5d121252dbc",
        "IPY_MODEL_b3c3230ef0774d54883d004a1e54cef6"
       ],
       "layout": "IPY_MODEL_9e91988520f246f78da3203973677b83"
      }
     },
     "eeb10a2345b84866aa5b84a4ae645d2a": {
      "model_module": "@jupyter-widgets/base",
      "model_module_version": "2.0.0",
      "model_name": "LayoutModel",
      "state": {}
     },
     "ef471a340c664d6c956852c480882b1c": {
      "model_module": "@jupyter-widgets/base",
      "model_module_version": "2.0.0",
      "model_name": "LayoutModel",
      "state": {}
     },
     "ef57fa56603c4be3a58d3fa2e542d7fe": {
      "model_module": "@jupyter-widgets/controls",
      "model_module_version": "2.0.0",
      "model_name": "HTMLModel",
      "state": {
       "layout": "IPY_MODEL_a553f59a2f8e41d09a30c337ebae8093",
       "style": "IPY_MODEL_f0ada46d233246809b35fb8b568255e2",
       "value": "4x4_2: 100%"
      }
     },
     "ef7ec719bf704734838a7959b80eefda": {
      "model_module": "@jupyter-widgets/controls",
      "model_module_version": "2.0.0",
      "model_name": "HTMLStyleModel",
      "state": {
       "description_width": "",
       "font_size": null,
       "text_color": null
      }
     },
     "ef8db0a242e34a5e9fc32e11542f918a": {
      "model_module": "@jupyter-widgets/controls",
      "model_module_version": "2.0.0",
      "model_name": "HTMLStyleModel",
      "state": {
       "description_width": "",
       "font_size": null,
       "text_color": null
      }
     },
     "efb4c6d961d74a9bbd72b49d15dc53b6": {
      "model_module": "@jupyter-widgets/base",
      "model_module_version": "2.0.0",
      "model_name": "LayoutModel",
      "state": {}
     },
     "efc124ef0b5046deb25a16598b91b242": {
      "model_module": "@jupyter-widgets/controls",
      "model_module_version": "2.0.0",
      "model_name": "HTMLModel",
      "state": {
       "layout": "IPY_MODEL_755fdf38eca54811813109536a22574f",
       "style": "IPY_MODEL_631df8cf3e604799b5c4dfd0baa42a9e",
       "value": " 63/63 [00:31&lt;00:00,  2.30it/s, Acc=68.00%, BestAcc=68.00%, F1=0.55, Prec=0.46, Rec=0.68]"
      }
     },
     "f0091e477ca4400fbd33d4cbbdfa29be": {
      "model_module": "@jupyter-widgets/controls",
      "model_module_version": "2.0.0",
      "model_name": "HTMLStyleModel",
      "state": {
       "description_width": "",
       "font_size": null,
       "text_color": null
      }
     },
     "f077a8d9ec0c45fab93d1de3efd37000": {
      "model_module": "@jupyter-widgets/base",
      "model_module_version": "2.0.0",
      "model_name": "LayoutModel",
      "state": {}
     },
     "f081d133766841e495d1b13d93827ecc": {
      "model_module": "@jupyter-widgets/controls",
      "model_module_version": "2.0.0",
      "model_name": "HTMLStyleModel",
      "state": {
       "description_width": "",
       "font_size": null,
       "text_color": null
      }
     },
     "f0916f8bd1744eb0a4d91461c8c6b4cb": {
      "model_module": "@jupyter-widgets/controls",
      "model_module_version": "2.0.0",
      "model_name": "FloatProgressModel",
      "state": {
       "bar_style": "danger",
       "layout": "IPY_MODEL_fac2d8199e5a492792a0fe354c6ebd19",
       "max": 87,
       "style": "IPY_MODEL_de1fbb3e1d994b74bb4e1cf446b5c82b",
       "value": 35
      }
     },
     "f0a7682c7abf4e45a8626a2ef179b0d4": {
      "model_module": "@jupyter-widgets/base",
      "model_module_version": "2.0.0",
      "model_name": "LayoutModel",
      "state": {}
     },
     "f0ada46d233246809b35fb8b568255e2": {
      "model_module": "@jupyter-widgets/controls",
      "model_module_version": "2.0.0",
      "model_name": "HTMLStyleModel",
      "state": {
       "description_width": "",
       "font_size": null,
       "text_color": null
      }
     },
     "f0feb7a4ea3d4cff950d639201f97309": {
      "model_module": "@jupyter-widgets/base",
      "model_module_version": "2.0.0",
      "model_name": "LayoutModel",
      "state": {}
     },
     "f13755e50ed5450eb14787b7aef78dba": {
      "model_module": "@jupyter-widgets/base",
      "model_module_version": "2.0.0",
      "model_name": "LayoutModel",
      "state": {}
     },
     "f151b966366141f7a45770439d7ddd08": {
      "model_module": "@jupyter-widgets/controls",
      "model_module_version": "2.0.0",
      "model_name": "HTMLStyleModel",
      "state": {
       "description_width": "",
       "font_size": null,
       "text_color": null
      }
     },
     "f1b28fc1dae5492baa54e952ee54db81": {
      "model_module": "@jupyter-widgets/base",
      "model_module_version": "2.0.0",
      "model_name": "LayoutModel",
      "state": {}
     },
     "f1e7002254d34fb5b961ceecf4d1be6d": {
      "model_module": "@jupyter-widgets/controls",
      "model_module_version": "2.0.0",
      "model_name": "FloatProgressModel",
      "state": {
       "bar_style": "success",
       "layout": "IPY_MODEL_b496dfb74ae34a8ca0747b9ebae9b2c5",
       "max": 41,
       "style": "IPY_MODEL_d7caafc262a94cc1bf62606c622d10d6",
       "value": 41
      }
     },
     "f22d30ee623d476d9c83412fe688c449": {
      "model_module": "@jupyter-widgets/controls",
      "model_module_version": "2.0.0",
      "model_name": "HTMLModel",
      "state": {
       "layout": "IPY_MODEL_f74eb6c5c8684978a85ae5b9c371e42e",
       "style": "IPY_MODEL_81256b754b2847d98493e61b9759f03e",
       "value": "3x3_0: 100%"
      }
     },
     "f24ff50a9fbf41d3a4a236347bf81081": {
      "model_module": "@jupyter-widgets/base",
      "model_module_version": "2.0.0",
      "model_name": "LayoutModel",
      "state": {}
     },
     "f2616a30a320447c9c1f2de8d4647765": {
      "model_module": "@jupyter-widgets/base",
      "model_module_version": "2.0.0",
      "model_name": "LayoutModel",
      "state": {}
     },
     "f28947ebf8fc4da2998d8053ac5d54de": {
      "model_module": "@jupyter-widgets/controls",
      "model_module_version": "2.0.0",
      "model_name": "FloatProgressModel",
      "state": {
       "bar_style": "success",
       "layout": "IPY_MODEL_e18517b0519b4980904fa685b1b04ddb",
       "max": 65,
       "style": "IPY_MODEL_0a01e0428f5f487595848e2411326804",
       "value": 65
      }
     },
     "f2973493c4f143be93a895481e557e45": {
      "model_module": "@jupyter-widgets/controls",
      "model_module_version": "2.0.0",
      "model_name": "HTMLModel",
      "state": {
       "layout": "IPY_MODEL_f4f5c2f4c3b14697956572eab1dac5ad",
       "style": "IPY_MODEL_da0bd0ec83c5424599eca1f16be44704",
       "value": " 56/92 [00:25&lt;00:11,  3.01it/s, Acc=99.50%, BestAcc=99.50%, F1=0.99, Prec=1.00, Rec=0.99]"
      }
     },
     "f2c62a1aa2444f7fb66acfd9a737bb9b": {
      "model_module": "@jupyter-widgets/base",
      "model_module_version": "2.0.0",
      "model_name": "LayoutModel",
      "state": {}
     },
     "f328f0a2815841478a515ff0876d8d2a": {
      "model_module": "@jupyter-widgets/base",
      "model_module_version": "2.0.0",
      "model_name": "LayoutModel",
      "state": {}
     },
     "f32f046fd4824c778084a1ec178989b6": {
      "model_module": "@jupyter-widgets/controls",
      "model_module_version": "2.0.0",
      "model_name": "HTMLStyleModel",
      "state": {
       "description_width": "",
       "font_size": null,
       "text_color": null
      }
     },
     "f40452a73b2943a587052beca12577d7": {
      "model_module": "@jupyter-widgets/controls",
      "model_module_version": "2.0.0",
      "model_name": "FloatProgressModel",
      "state": {
       "bar_style": "success",
       "layout": "IPY_MODEL_93433103f4984927a93ba1957fed9c52",
       "max": 63,
       "style": "IPY_MODEL_b4eea909ff504db39c23a5ede6bf642a",
       "value": 63
      }
     },
     "f42c433e26c64199909b44b8fb2179a2": {
      "model_module": "@jupyter-widgets/base",
      "model_module_version": "2.0.0",
      "model_name": "LayoutModel",
      "state": {}
     },
     "f4bb969fbe3e4d37aa490100f3369efb": {
      "model_module": "@jupyter-widgets/controls",
      "model_module_version": "2.0.0",
      "model_name": "HTMLStyleModel",
      "state": {
       "description_width": "",
       "font_size": null,
       "text_color": null
      }
     },
     "f4f5c2f4c3b14697956572eab1dac5ad": {
      "model_module": "@jupyter-widgets/base",
      "model_module_version": "2.0.0",
      "model_name": "LayoutModel",
      "state": {}
     },
     "f558bd95162941ecbbb14b11de2eef9c": {
      "model_module": "@jupyter-widgets/controls",
      "model_module_version": "2.0.0",
      "model_name": "HBoxModel",
      "state": {
       "children": [
        "IPY_MODEL_56c8a08ccb9d49769af37d66571830b3",
        "IPY_MODEL_01c5762465664ef4a0e6126687764722",
        "IPY_MODEL_babb603763f744b5a5e53004ba14a5fb"
       ],
       "layout": "IPY_MODEL_f077a8d9ec0c45fab93d1de3efd37000"
      }
     },
     "f65e6ff4652b4330ad5642d0f69505b3": {
      "model_module": "@jupyter-widgets/controls",
      "model_module_version": "2.0.0",
      "model_name": "HTMLStyleModel",
      "state": {
       "description_width": "",
       "font_size": null,
       "text_color": null
      }
     },
     "f6d68d7ce1064b8ebb79487db5ce2267": {
      "model_module": "@jupyter-widgets/controls",
      "model_module_version": "2.0.0",
      "model_name": "ProgressStyleModel",
      "state": {
       "description_width": ""
      }
     },
     "f7472e7eab8f4421948789b0b823d29b": {
      "model_module": "@jupyter-widgets/controls",
      "model_module_version": "2.0.0",
      "model_name": "ProgressStyleModel",
      "state": {
       "description_width": ""
      }
     },
     "f74eb6c5c8684978a85ae5b9c371e42e": {
      "model_module": "@jupyter-widgets/base",
      "model_module_version": "2.0.0",
      "model_name": "LayoutModel",
      "state": {}
     },
     "f784ab741af848cdae18ed510eeb2235": {
      "model_module": "@jupyter-widgets/controls",
      "model_module_version": "2.0.0",
      "model_name": "HTMLStyleModel",
      "state": {
       "description_width": "",
       "font_size": null,
       "text_color": null
      }
     },
     "f7c752c0728e49c6b884a36763bf4ade": {
      "model_module": "@jupyter-widgets/controls",
      "model_module_version": "2.0.0",
      "model_name": "HBoxModel",
      "state": {
       "children": [
        "IPY_MODEL_63f6314fbfbf4bcebed125b37f50ddb2",
        "IPY_MODEL_06f540e4ffe948af81f3ec51fdfd72e1",
        "IPY_MODEL_675f90ed0c55479fbcd9e093f7a9da5f"
       ],
       "layout": "IPY_MODEL_6c99dc8a038d424a85f20771b1fa1d7f"
      }
     },
     "f7d1d31bad814ab5ae5217cae24f2535": {
      "model_module": "@jupyter-widgets/controls",
      "model_module_version": "2.0.0",
      "model_name": "HTMLModel",
      "state": {
       "layout": "IPY_MODEL_40a3c7b3a3db4a6eae3d9f0c44838860",
       "style": "IPY_MODEL_f65e6ff4652b4330ad5642d0f69505b3",
       "value": "3x3_5: 100%"
      }
     },
     "f7fcce0c908e4f42a4fc68b7ba284532": {
      "model_module": "@jupyter-widgets/base",
      "model_module_version": "2.0.0",
      "model_name": "LayoutModel",
      "state": {}
     },
     "f8608003655f4153b242cad1dab16dab": {
      "model_module": "@jupyter-widgets/base",
      "model_module_version": "2.0.0",
      "model_name": "LayoutModel",
      "state": {}
     },
     "f860854f3f814147b991d2e3f7cb4d22": {
      "model_module": "@jupyter-widgets/base",
      "model_module_version": "2.0.0",
      "model_name": "LayoutModel",
      "state": {}
     },
     "f8641f76f3bc48dbb42cd5d121252dbc": {
      "model_module": "@jupyter-widgets/controls",
      "model_module_version": "2.0.0",
      "model_name": "FloatProgressModel",
      "state": {
       "bar_style": "success",
       "layout": "IPY_MODEL_ef471a340c664d6c956852c480882b1c",
       "max": 40,
       "style": "IPY_MODEL_c3277ab596e04f079f230ea6c4fd960d",
       "value": 40
      }
     },
     "f88f246aa02c41248b99cdd6ee7aeb0b": {
      "model_module": "@jupyter-widgets/controls",
      "model_module_version": "2.0.0",
      "model_name": "HBoxModel",
      "state": {
       "children": [
        "IPY_MODEL_75f2f744d11c4183b10c610b15f9b819",
        "IPY_MODEL_3e7803330e3245339b9ce4d05748cdb8",
        "IPY_MODEL_17289c8b12434665826eb5db9c6b5a23"
       ],
       "layout": "IPY_MODEL_d84c3eb18202418ea6675ed8d694468b"
      }
     },
     "f89b8fa276db4fdb8df9add94e4b6c20": {
      "model_module": "@jupyter-widgets/controls",
      "model_module_version": "2.0.0",
      "model_name": "HTMLStyleModel",
      "state": {
       "description_width": "",
       "font_size": null,
       "text_color": null
      }
     },
     "f983ca2f45fc4b36a6001e8e2f6d7812": {
      "model_module": "@jupyter-widgets/controls",
      "model_module_version": "2.0.0",
      "model_name": "HTMLStyleModel",
      "state": {
       "description_width": "",
       "font_size": null,
       "text_color": null
      }
     },
     "fac2d8199e5a492792a0fe354c6ebd19": {
      "model_module": "@jupyter-widgets/base",
      "model_module_version": "2.0.0",
      "model_name": "LayoutModel",
      "state": {}
     },
     "fb74165f5a614ba1939867815919ead2": {
      "model_module": "@jupyter-widgets/base",
      "model_module_version": "2.0.0",
      "model_name": "LayoutModel",
      "state": {}
     },
     "fb83215652554e0fa13de1820f7a7bab": {
      "model_module": "@jupyter-widgets/controls",
      "model_module_version": "2.0.0",
      "model_name": "FloatProgressModel",
      "state": {
       "bar_style": "success",
       "layout": "IPY_MODEL_2de644fea0c7445fb4a41ef68eb36a89",
       "max": 53,
       "style": "IPY_MODEL_328fe67db6f44d8ca2163844c8fd7c81",
       "value": 53
      }
     },
     "fbf5f11f7400459f952996f7b60409cc": {
      "model_module": "@jupyter-widgets/controls",
      "model_module_version": "2.0.0",
      "model_name": "ProgressStyleModel",
      "state": {
       "description_width": ""
      }
     },
     "fbfe61d07f4249cc8fc5adabe051ad69": {
      "model_module": "@jupyter-widgets/base",
      "model_module_version": "2.0.0",
      "model_name": "LayoutModel",
      "state": {}
     },
     "fcf6808fa915446d8bd1a3ec0b51668b": {
      "model_module": "@jupyter-widgets/base",
      "model_module_version": "2.0.0",
      "model_name": "LayoutModel",
      "state": {}
     },
     "fd53cf3cb4684acf8c24b96c9c80c12e": {
      "model_module": "@jupyter-widgets/controls",
      "model_module_version": "2.0.0",
      "model_name": "FloatProgressModel",
      "state": {
       "bar_style": "success",
       "layout": "IPY_MODEL_e1d69387e99f489582b2ec346f966f9b",
       "max": 37,
       "style": "IPY_MODEL_a34286e35b784088b02a2706fff1ec50",
       "value": 37
      }
     },
     "fd7ca83fe70c4b13a3e6e3fc964a9819": {
      "model_module": "@jupyter-widgets/controls",
      "model_module_version": "2.0.0",
      "model_name": "HTMLStyleModel",
      "state": {
       "description_width": "",
       "font_size": null,
       "text_color": null
      }
     },
     "fdafc7255dcd4cfca3099c24550fa563": {
      "model_module": "@jupyter-widgets/base",
      "model_module_version": "2.0.0",
      "model_name": "LayoutModel",
      "state": {}
     },
     "fde0c1c8b2a14b108e06696cd3f67a64": {
      "model_module": "@jupyter-widgets/controls",
      "model_module_version": "2.0.0",
      "model_name": "HTMLStyleModel",
      "state": {
       "description_width": "",
       "font_size": null,
       "text_color": null
      }
     },
     "fec505f226d94c63894c6cdff981c529": {
      "model_module": "@jupyter-widgets/controls",
      "model_module_version": "2.0.0",
      "model_name": "HTMLStyleModel",
      "state": {
       "description_width": "",
       "font_size": null,
       "text_color": null
      }
     }
    },
    "version_major": 2,
    "version_minor": 0
   }
  }
 },
 "nbformat": 4,
 "nbformat_minor": 5
}
