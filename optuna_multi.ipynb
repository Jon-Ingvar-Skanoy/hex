{
 "cells": [
  {
   "cell_type": "code",
   "execution_count": 1,
   "id": "595eba53-f4ec-43d9-88a7-24f2803f2ed5",
   "metadata": {},
   "outputs": [],
   "source": [
    "import os\n",
    "import sys\n",
    "import platform\n",
    "from pathlib import Path\n",
    "from GraphTsetlinMachine.graphs import Graphs\n",
    "from GraphTsetlinMachine.tm import MultiClassGraphTsetlinMachine\n",
    "import pickle\n",
    "import logging\n",
    "import optuna\n",
    "from optuna.exceptions import TrialPruned \n",
    "from tqdm.auto import tqdm\n",
    "from sklearn.metrics import f1_score, precision_score, recall_score\n",
    "import math\n",
    "from functools import partial"
   ]
  },
  {
   "cell_type": "code",
   "execution_count": 2,
   "id": "ccfa87c9-6827-488e-bac2-5ee2fa1f49c8",
   "metadata": {},
   "outputs": [],
   "source": [
    "optuna.logging.set_verbosity(optuna.logging.WARNING)"
   ]
  },
  {
   "cell_type": "code",
   "execution_count": 3,
   "id": "54a6f734",
   "metadata": {},
   "outputs": [],
   "source": [
    "def get_machine_info():\n",
    "    machine_name = platform.node()  \n",
    "    user = os.getenv(\"USER\") or os.getenv(\"USERNAME\") \n",
    "    os_name = platform.system()  # Get os\n",
    "    print(f\"Machine: {machine_name}\")\n",
    "    print(f\"OS: {os_name}\")\n",
    "    print(f\"User: {user}\")\n",
    "    \n",
    "    # Print machine info\n",
    "    return machine_name, os_name, user"
   ]
  },
  {
   "cell_type": "code",
   "execution_count": 4,
   "id": "9ba6f052",
   "metadata": {},
   "outputs": [
    {
     "name": "stdout",
     "output_type": "stream",
     "text": [
      "Machine: Corsair\n",
      "OS: Linux\n",
      "User: jon\n"
     ]
    }
   ],
   "source": [
    "machine_name, os_name, user = get_machine_info()"
   ]
  },
  {
   "cell_type": "code",
   "execution_count": 5,
   "id": "f0e6e6bb",
   "metadata": {},
   "outputs": [],
   "source": [
    "if machine_name == \"Corsair\" and os_name == \"Linux\" and user == \"jon\":\n",
    "    windows_drive = Path(\"/mnt/b/TsetlinModels\")\n",
    "    os.makedirs(windows_drive / \"data\", exist_ok=True)\n",
    "    os.makedirs(windows_drive / \"models\", exist_ok=True)\n",
    "    os.makedirs(windows_drive / \"graphs\", exist_ok=True)\n",
    "\n",
    "    paths = {\n",
    "        \"data\": windows_drive / \"data\",\n",
    "        \"models\": windows_drive / \"models\",\n",
    "        \"graphs\": windows_drive / \"graphs\",\n",
    "    }\n",
    "    DB = \"ja_tsehex_local.db\"\n",
    "else:\n",
    "    os.makedirs(\"data\", exist_ok=True)\n",
    "    os.makedirs(\"models\", exist_ok=True)\n",
    "    os.makedirs(\"graphs\", exist_ok=True)\n",
    "\n",
    "    paths = {\n",
    "        \"data\": Path(\"data\"),\n",
    "        \"models\": Path(\"models\"),\n",
    "        \"graphs\": Path(\"graphs\"),\n",
    "    }\n",
    "    DB = \"ja_tsehex.db\""
   ]
  },
  {
   "cell_type": "code",
   "execution_count": 6,
   "id": "4142ceb3-19d6-4b13-a896-b4958a3bc14d",
   "metadata": {},
   "outputs": [],
   "source": [
    "hypervector_bits = 2\n",
    "hypervector_size = 64\n",
    "\n",
    "open_pos = [0,5,10,15,20,25,30,35,40,45,50]\n",
    "samples = [1000, 10000, 100000]\n",
    "board_sizes = [5,6,7,8,9,10,11,12,13,14,15,16]\n",
    "moves_before = [0, 2, 5]"
   ]
  },
  {
   "cell_type": "code",
   "execution_count": 7,
   "id": "d3a6b646-60aa-4409-b948-4d073ee5b6b1",
   "metadata": {},
   "outputs": [],
   "source": [
    "def stop_when_100_accuracy(study, trial):\n",
    "    if trial.value >= 100: \n",
    "        study.stop()"
   ]
  },
  {
   "cell_type": "code",
   "execution_count": 8,
   "id": "869c1104-87eb-434c-8bdb-9ebc3c3f5121",
   "metadata": {},
   "outputs": [],
   "source": [
    "def objective(trial, graphs_train, graphs_test, X_train, Y_train, X_test, Y_test, board_size, mbf, n_samples, dataset):\n",
    "    trial_num = trial.number\n",
    "    #max_clauses = n_samples*10\n",
    "    #max_epochs = math.sqrt(n_samples)*max(1,mbf)\n",
    "    \n",
    "    number_of_clauses = trial.suggest_int('number_of_clauses', 100, 50000)\n",
    "    T = trial.suggest_float('T_factor', 0.5, 1.2) * number_of_clauses\n",
    "    s = trial.suggest_float('s', 0.0001, 4)\n",
    "    depth = trial.suggest_int('depth', 3, board_size*2)\n",
    "    epochs = trial.suggest_int('epochs', 10, 80)\n",
    "    message_size = 32\n",
    "    message_bits = 2\n",
    "\n",
    "    tm = MultiClassGraphTsetlinMachine(\n",
    "        number_of_clauses,\n",
    "        T*number_of_clauses,\n",
    "        s,\n",
    "        depth=depth,\n",
    "        message_size=message_size,\n",
    "        message_bits=message_bits,\n",
    "        number_of_state_bits=8,\n",
    "        boost_true_positive_feedback=1,\n",
    "        grid=(16*13,1,1),\n",
    "        block=(128,1,1),\n",
    "    )\n",
    "\n",
    "    #print(f\"Start trial with c={number_of_clauses}, T={T}, s={s}, d={depth}, e={epochs}\")\n",
    "\n",
    "    best_test_acc = 0\n",
    "    best_f1 = 0\n",
    "    best_prec = 0\n",
    "    best_rec = 0\n",
    "    patience = 0\n",
    "    patience_level = epochs*0.25\n",
    "    \n",
    "    progress_bar = tqdm(range(epochs), desc=f\"{dataset} [{trial_num}]\", leave=True)\n",
    "    for epoch in progress_bar:\n",
    "        tm.fit(graphs_train, Y_train, epochs=1, incremental=True)\n",
    "\n",
    "        result_test = 100 * (tm.predict(graphs_test) == Y_test).mean()\n",
    "\n",
    "        f1_score_test = f1_score(Y_test, tm.predict(graphs_test), average='weighted', zero_division=0)\n",
    "        precision_test = precision_score(Y_test, tm.predict(graphs_test), average='weighted', zero_division=0)\n",
    "        recall_test = recall_score(Y_test, tm.predict(graphs_test), average='weighted', zero_division=0)\n",
    "\n",
    "        if result_test > best_test_acc:\n",
    "            best_test_acc = result_test\n",
    "            best_f1 = f1_score_test\n",
    "            best_prec = precision_test\n",
    "            best_rec = recall_test\n",
    "            patience = 0\n",
    "        else:\n",
    "            patience += 1\n",
    "\n",
    "        trial.set_user_attr(\"f1\", f1_score_test)\n",
    "        trial.set_user_attr(\"precision\", precision_test)\n",
    "        trial.set_user_attr(\"recall\", recall_test)\n",
    "\n",
    "\n",
    "        progress_bar.set_postfix({\n",
    "            'Acc':f'{result_test:.2f}%',\n",
    "            'BestAcc': f'{best_test_acc:.2f}%',\n",
    "            'F1': f'{best_f1:.2f}',\n",
    "            'Prec': f'{best_prec:.2f}',\n",
    "            'Rec': f'{best_rec:.2f}'\n",
    "        })\n",
    "\n",
    "        \n",
    "        if result_test >= 100 and f1_score_test >= 1:\n",
    "            return result_test\n",
    "            \n",
    "        trial.report(result_test, epoch)\n",
    "\n",
    "        if patience >= patience_level and best_test_acc < 85:\n",
    "            if trial.should_prune():\n",
    "                raise TrialPruned()\n",
    "\n",
    "    return result_test"
   ]
  },
  {
   "cell_type": "code",
   "execution_count": null,
   "id": "00567080-10de-4fda-8c21-0bf62b20840c",
   "metadata": {},
   "outputs": [
    {
     "data": {
      "application/vnd.jupyter.widget-view+json": {
       "model_id": "4ab71125845448189b98dee16dab4cb5",
       "version_major": 2,
       "version_minor": 0
      },
      "text/plain": [
       "Open positions:   0%|          | 0/4 [00:00<?, ?it/s]"
      ]
     },
     "metadata": {},
     "output_type": "display_data"
    },
    {
     "data": {
      "application/vnd.jupyter.widget-view+json": {
       "model_id": "cb5c4a0dfab24b868d3deb3c84a69e88",
       "version_major": 2,
       "version_minor": 0
      },
      "text/plain": [
       "Samples:   0%|          | 0/2 [00:00<?, ?it/s]"
      ]
     },
     "metadata": {},
     "output_type": "display_data"
    },
    {
     "data": {
      "application/vnd.jupyter.widget-view+json": {
       "model_id": "5934bc6fecf84a468b5442b246b023f9",
       "version_major": 2,
       "version_minor": 0
      },
      "text/plain": [
       "Board Sizes:   0%|          | 0/12 [00:00<?, ?it/s]"
      ]
     },
     "metadata": {},
     "output_type": "display_data"
    },
    {
     "data": {
      "application/vnd.jupyter.widget-view+json": {
       "model_id": "0ae1abea3ef1413dace89af69cd6b8e8",
       "version_major": 2,
       "version_minor": 0
      },
      "text/plain": [
       "Moves Before:   0%|          | 0/3 [00:00<?, ?it/s]"
      ]
     },
     "metadata": {},
     "output_type": "display_data"
    },
    {
     "name": "stdout",
     "output_type": "stream",
     "text": [
      "Initialization of sparse structure.\n"
     ]
    },
    {
     "data": {
      "application/vnd.jupyter.widget-view+json": {
       "model_id": "d06e4458814d44b99ee81da9d2d901a7",
       "version_major": 2,
       "version_minor": 0
      },
      "text/plain": [
       "5x5_1000_10_0 [12]:   0%|          | 0/26 [00:00<?, ?it/s]"
      ]
     },
     "metadata": {},
     "output_type": "display_data"
    }
   ],
   "source": [
    "# Running multiple studies for different configurations of the dataset\n",
    "for pos in tqdm(open_pos, desc=\"Open positions\"):\n",
    "    for n_samples in tqdm(samples, desc=\"Samples\", leave=False):\n",
    "        for board_size in tqdm(board_sizes, desc=\"Board Sizes\", leave=False):\n",
    "            for mbf in tqdm(moves_before, desc=\"Moves Before\", leave=False):\n",
    "                dataset = f\"{board_size}x{board_size}_{n_samples}_{pos}_{mbf}\"\n",
    "                file_path = paths[\"graphs\"] / f\"{dataset}.pkl\"\n",
    "                with open(file_path, 'rb') as f:\n",
    "                    graphs_train, graphs_test, X_train, Y_train, X_test, Y_test = pickle.load(f)\n",
    "    \n",
    "                # study = optuna.create_study(\n",
    "                #     #directions=[\"maximize\", \"minimize\"],  # Maximize accuracy, minimize number of clauses\n",
    "                #     direction=\"maximize\",\n",
    "                #     study_name=f\"Study_{dataset}_random\",\n",
    "                #     storage=f\"sqlite:///results/optuna/random_{DB}\",\n",
    "                #     load_if_exists=True,\n",
    "                # )\n",
    "\n",
    "                study = optuna.create_study(\n",
    "                    direction=\"maximize\",\n",
    "                    study_name=\"Global_Hex_Study_random\",\n",
    "                    storage=f\"sqlite:///results/optuna/GlobalHexStudy.db\",\n",
    "                    load_if_exists=True,\n",
    "                )\n",
    "    \n",
    "                if len(study.trials) > 0:\n",
    "                    try:\n",
    "                        if study.best_trial.value >= 100:\n",
    "                            print(f\"Study {study.study_name} already has 100% accuracy. Skipping further optimization.\")\n",
    "                            continue\n",
    "                    except ValueError:\n",
    "                        print(f\"No valid trials found for {study.study_name}, continuing with optimization.\")\n",
    "                else:\n",
    "                    print(f\"No trials found for {study.study_name}. Running new optimization.\")\n",
    "    \n",
    "                objective_with_params = partial(objective, graphs_train=graphs_train, graphs_test=graphs_test, \n",
    "                                                X_train=X_train, Y_train=Y_train, X_test=X_test, Y_test=Y_test, \n",
    "                                                board_size=board_size, mbf=mbf, n_samples=n_samples, dataset=dataset)\n",
    "    \n",
    "                try:\n",
    "                    study.optimize(objective_with_params, n_trials=1000, callbacks=[stop_when_100_accuracy])\n",
    "                except KeyboardInterrupt:\n",
    "                    print(\"Optimization interrupted!\")\n",
    "                    print(f\"Best result so far: {study.best_params}\")"
   ]
  }
 ],
 "metadata": {
  "kernelspec": {
   "display_name": "env",
   "language": "python",
   "name": "python3"
  },
  "language_info": {
   "codemirror_mode": {
    "name": "ipython",
    "version": 3
   },
   "file_extension": ".py",
   "mimetype": "text/x-python",
   "name": "python",
   "nbconvert_exporter": "python",
   "pygments_lexer": "ipython3",
   "version": "3.10.12"
  },
  "widgets": {
   "application/vnd.jupyter.widget-state+json": {
    "state": {
     "0334f3a5be1b4fc193e304c26897073d": {
      "model_module": "@jupyter-widgets/base",
      "model_module_version": "2.0.0",
      "model_name": "LayoutModel",
      "state": {}
     },
     "06fe2eb7be6e4dd6bff0e9da3b0d2724": {
      "model_module": "@jupyter-widgets/controls",
      "model_module_version": "2.0.0",
      "model_name": "HTMLModel",
      "state": {
       "layout": "IPY_MODEL_8f4c0d0788374e1cb0806563f76d41eb",
       "style": "IPY_MODEL_8a9e46fab25046fba5b74ff5250eb2df",
       "value": " 0/1 [00:00&lt;?, ?it/s]"
      }
     },
     "0968b84995d648ffb9255a75843a1625": {
      "model_module": "@jupyter-widgets/controls",
      "model_module_version": "2.0.0",
      "model_name": "HTMLModel",
      "state": {
       "layout": "IPY_MODEL_d635e098852e49099058893a357666e2",
       "style": "IPY_MODEL_d7608957ba694ad482b2d87974d92b50",
       "value": " 0/28 [00:00&lt;?, ?it/s]"
      }
     },
     "11f42b80a4de43889a57822c3fb2273d": {
      "model_module": "@jupyter-widgets/controls",
      "model_module_version": "2.0.0",
      "model_name": "HTMLModel",
      "state": {
       "layout": "IPY_MODEL_6ed4b02d3bca4f198772de6a3d6ad596",
       "style": "IPY_MODEL_327394986caa4af7a5cca0a7f3531838",
       "value": "13x13_1000_40_0:  87%"
      }
     },
     "14523980e00844be8dc2d8a636511480": {
      "model_module": "@jupyter-widgets/controls",
      "model_module_version": "2.0.0",
      "model_name": "HBoxModel",
      "state": {
       "children": [
        "IPY_MODEL_6c8189c89c6644d296e84422a19dceae",
        "IPY_MODEL_ea66378a47e74f4495bd568b855167e9",
        "IPY_MODEL_06fe2eb7be6e4dd6bff0e9da3b0d2724"
       ],
       "layout": "IPY_MODEL_e093713a4043421f894b046a922e9830"
      }
     },
     "146bbc91d4494371bf09e5c259384e24": {
      "model_module": "@jupyter-widgets/base",
      "model_module_version": "2.0.0",
      "model_name": "LayoutModel",
      "state": {}
     },
     "149357b8b41840c48e603b7d4bfb5d1d": {
      "model_module": "@jupyter-widgets/base",
      "model_module_version": "2.0.0",
      "model_name": "LayoutModel",
      "state": {}
     },
     "198abf3ec4dc4f4ca8f586f199c08d01": {
      "model_module": "@jupyter-widgets/controls",
      "model_module_version": "2.0.0",
      "model_name": "HTMLStyleModel",
      "state": {
       "description_width": "",
       "font_size": null,
       "text_color": null
      }
     },
     "1dd40bbf37ce49c9bab35f162e27e477": {
      "model_module": "@jupyter-widgets/controls",
      "model_module_version": "2.0.0",
      "model_name": "ProgressStyleModel",
      "state": {
       "description_width": ""
      }
     },
     "22487c2845ca4a9182a61c2ac4fc0aa2": {
      "model_module": "@jupyter-widgets/base",
      "model_module_version": "2.0.0",
      "model_name": "LayoutModel",
      "state": {}
     },
     "234873d8f2a2402b9eb206058e5dea71": {
      "model_module": "@jupyter-widgets/base",
      "model_module_version": "2.0.0",
      "model_name": "LayoutModel",
      "state": {}
     },
     "2882aaac32fb4b46a3b4120635a52a2a": {
      "model_module": "@jupyter-widgets/controls",
      "model_module_version": "2.0.0",
      "model_name": "FloatProgressModel",
      "state": {
       "bar_style": "success",
       "layout": "IPY_MODEL_0334f3a5be1b4fc193e304c26897073d",
       "max": 15,
       "style": "IPY_MODEL_ec2b8f8ee8fd407d888c8b60793f119a",
       "value": 15
      }
     },
     "2a6e85dd35b84dabafcb754ea0cb3735": {
      "model_module": "@jupyter-widgets/controls",
      "model_module_version": "2.0.0",
      "model_name": "HBoxModel",
      "state": {
       "children": [
        "IPY_MODEL_9094bd5516dc4bd6a74a6147a7b59eb8",
        "IPY_MODEL_99ff5a7b7ecf4004841a44578062cf41",
        "IPY_MODEL_0968b84995d648ffb9255a75843a1625"
       ],
       "layout": "IPY_MODEL_dc741c235e9f438ea7334bdf01464c10"
      }
     },
     "2d2272b3863142afa7fdae82b1b8554e": {
      "model_module": "@jupyter-widgets/controls",
      "model_module_version": "2.0.0",
      "model_name": "HTMLStyleModel",
      "state": {
       "description_width": "",
       "font_size": null,
       "text_color": null
      }
     },
     "309ce770c3b040879bc810c80556ed35": {
      "model_module": "@jupyter-widgets/controls",
      "model_module_version": "2.0.0",
      "model_name": "HTMLModel",
      "state": {
       "layout": "IPY_MODEL_146bbc91d4494371bf09e5c259384e24",
       "style": "IPY_MODEL_37af902b6dbe4f16813f00495e5b7994",
       "value": "Board Sizes:   0%"
      }
     },
     "31c0cae57c034ceba2f01ed1c1c7c386": {
      "model_module": "@jupyter-widgets/controls",
      "model_module_version": "2.0.0",
      "model_name": "HTMLModel",
      "state": {
       "layout": "IPY_MODEL_f112c68b16d342d5a66f3fcfc2e3520b",
       "style": "IPY_MODEL_7366312bfa094e739ef6d8ec627cdebb",
       "value": " 0/3 [00:00&lt;?, ?it/s]"
      }
     },
     "3239b33e1483494dbe44e94f8c78e41e": {
      "model_module": "@jupyter-widgets/controls",
      "model_module_version": "2.0.0",
      "model_name": "ProgressStyleModel",
      "state": {
       "description_width": ""
      }
     },
     "327394986caa4af7a5cca0a7f3531838": {
      "model_module": "@jupyter-widgets/controls",
      "model_module_version": "2.0.0",
      "model_name": "HTMLStyleModel",
      "state": {
       "description_width": "",
       "font_size": null,
       "text_color": null
      }
     },
     "33397e3293b1493ead88e15afb638324": {
      "model_module": "@jupyter-widgets/base",
      "model_module_version": "2.0.0",
      "model_name": "LayoutModel",
      "state": {}
     },
     "37af902b6dbe4f16813f00495e5b7994": {
      "model_module": "@jupyter-widgets/controls",
      "model_module_version": "2.0.0",
      "model_name": "HTMLStyleModel",
      "state": {
       "description_width": "",
       "font_size": null,
       "text_color": null
      }
     },
     "3a69b00218f84a408605121a5d3144d2": {
      "model_module": "@jupyter-widgets/base",
      "model_module_version": "2.0.0",
      "model_name": "LayoutModel",
      "state": {}
     },
     "40c82143244d4ced94f7462c2fe8dcde": {
      "model_module": "@jupyter-widgets/controls",
      "model_module_version": "2.0.0",
      "model_name": "FloatProgressModel",
      "state": {
       "layout": "IPY_MODEL_67e21c4d305547ac945fa9cdfccac40b",
       "max": 75,
       "style": "IPY_MODEL_b71753b981064bb0b5b37af2a340ee1f",
       "value": 65
      }
     },
     "42b00ccda09d4b29a13b413308f4604a": {
      "model_module": "@jupyter-widgets/base",
      "model_module_version": "2.0.0",
      "model_name": "LayoutModel",
      "state": {}
     },
     "4467a98479694e2bbf8caef4b02eb60a": {
      "model_module": "@jupyter-widgets/base",
      "model_module_version": "2.0.0",
      "model_name": "LayoutModel",
      "state": {}
     },
     "489b7509ca9c483592f225ec4dbdd1a0": {
      "model_module": "@jupyter-widgets/controls",
      "model_module_version": "2.0.0",
      "model_name": "HTMLModel",
      "state": {
       "layout": "IPY_MODEL_5768980b43c0462ca6b2d0e979883e68",
       "style": "IPY_MODEL_e4f0f4bfb6c546bcbd8c53c710ed8e16",
       "value": "13x13_1000_40_0: 100%"
      }
     },
     "49308fb186374ff9939bdc297e253a81": {
      "model_module": "@jupyter-widgets/controls",
      "model_module_version": "2.0.0",
      "model_name": "HBoxModel",
      "state": {
       "children": [
        "IPY_MODEL_309ce770c3b040879bc810c80556ed35",
        "IPY_MODEL_df9b4d98bbac49efa2773b8848eb18ec",
        "IPY_MODEL_e3989ebe96a243a5b70bde723538dbc6"
       ],
       "layout": "IPY_MODEL_fa631704eaa340088b55f842a462240f"
      }
     },
     "49967301ff4941fdade37df7fb821998": {
      "model_module": "@jupyter-widgets/base",
      "model_module_version": "2.0.0",
      "model_name": "LayoutModel",
      "state": {}
     },
     "4d5b65aee9424b9ca7f4e4ebbcc89c5c": {
      "model_module": "@jupyter-widgets/base",
      "model_module_version": "2.0.0",
      "model_name": "LayoutModel",
      "state": {}
     },
     "51c44f35d3e943e08f7ad05ee1faa17f": {
      "model_module": "@jupyter-widgets/controls",
      "model_module_version": "2.0.0",
      "model_name": "HTMLModel",
      "state": {
       "layout": "IPY_MODEL_22487c2845ca4a9182a61c2ac4fc0aa2",
       "style": "IPY_MODEL_f442e4de4d234ac59eb8f60ad90a17d1",
       "value": " 39/39 [00:42&lt;00:00,  1.05it/s, Acc=68.50%, BestAcc=73.00%, F1=0.73, Prec=0.74, Rec=0.73]"
      }
     },
     "5768980b43c0462ca6b2d0e979883e68": {
      "model_module": "@jupyter-widgets/base",
      "model_module_version": "2.0.0",
      "model_name": "LayoutModel",
      "state": {}
     },
     "59a9a0dd817f4591a15e015a426ff0ed": {
      "model_module": "@jupyter-widgets/controls",
      "model_module_version": "2.0.0",
      "model_name": "HTMLModel",
      "state": {
       "layout": "IPY_MODEL_7a518f73770a4a46b6d5d60f4d934710",
       "style": "IPY_MODEL_198abf3ec4dc4f4ca8f586f199c08d01",
       "value": " 0/3 [00:00&lt;?, ?it/s]"
      }
     },
     "5cf9567e9bfa47b8a63a2df4af577d2a": {
      "model_module": "@jupyter-widgets/base",
      "model_module_version": "2.0.0",
      "model_name": "LayoutModel",
      "state": {}
     },
     "5d4ebd9ed97b40a585784bb8b8f33cef": {
      "model_module": "@jupyter-widgets/controls",
      "model_module_version": "2.0.0",
      "model_name": "ProgressStyleModel",
      "state": {
       "description_width": ""
      }
     },
     "67e21c4d305547ac945fa9cdfccac40b": {
      "model_module": "@jupyter-widgets/base",
      "model_module_version": "2.0.0",
      "model_name": "LayoutModel",
      "state": {}
     },
     "6a74ec60a1514f39936244ca1879f677": {
      "model_module": "@jupyter-widgets/controls",
      "model_module_version": "2.0.0",
      "model_name": "HBoxModel",
      "state": {
       "children": [
        "IPY_MODEL_11f42b80a4de43889a57822c3fb2273d",
        "IPY_MODEL_40c82143244d4ced94f7462c2fe8dcde",
        "IPY_MODEL_d52de1b53e154c1e8f857681ee9bd830"
       ],
       "layout": "IPY_MODEL_e08262f3368c4a05a05e7037854e0c6d"
      }
     },
     "6a89cf61f63b4789aa1196635b6e7f4e": {
      "model_module": "@jupyter-widgets/controls",
      "model_module_version": "2.0.0",
      "model_name": "FloatProgressModel",
      "state": {
       "bar_style": "success",
       "layout": "IPY_MODEL_33397e3293b1493ead88e15afb638324",
       "max": 39,
       "style": "IPY_MODEL_f72fe0e871fc459d8aee5bc38ee175c8",
       "value": 39
      }
     },
     "6c099d905a9c4635a7dd0bacaa23d34d": {
      "model_module": "@jupyter-widgets/base",
      "model_module_version": "2.0.0",
      "model_name": "LayoutModel",
      "state": {}
     },
     "6c8189c89c6644d296e84422a19dceae": {
      "model_module": "@jupyter-widgets/controls",
      "model_module_version": "2.0.0",
      "model_name": "HTMLModel",
      "state": {
       "layout": "IPY_MODEL_6c099d905a9c4635a7dd0bacaa23d34d",
       "style": "IPY_MODEL_9ead1353c8394e8f8bd7fe06e88ed481",
       "value": "Open positions:   0%"
      }
     },
     "6ed4b02d3bca4f198772de6a3d6ad596": {
      "model_module": "@jupyter-widgets/base",
      "model_module_version": "2.0.0",
      "model_name": "LayoutModel",
      "state": {}
     },
     "7366312bfa094e739ef6d8ec627cdebb": {
      "model_module": "@jupyter-widgets/controls",
      "model_module_version": "2.0.0",
      "model_name": "HTMLStyleModel",
      "state": {
       "description_width": "",
       "font_size": null,
       "text_color": null
      }
     },
     "75846be0746c4b4f8c0df513536e3682": {
      "model_module": "@jupyter-widgets/base",
      "model_module_version": "2.0.0",
      "model_name": "LayoutModel",
      "state": {}
     },
     "7a518f73770a4a46b6d5d60f4d934710": {
      "model_module": "@jupyter-widgets/base",
      "model_module_version": "2.0.0",
      "model_name": "LayoutModel",
      "state": {}
     },
     "7f1bf64acbb04de8a87b33bcba25cbab": {
      "model_module": "@jupyter-widgets/controls",
      "model_module_version": "2.0.0",
      "model_name": "HTMLModel",
      "state": {
       "layout": "IPY_MODEL_ae8bda0b91d7403e88ae36d642d6ae35",
       "style": "IPY_MODEL_2d2272b3863142afa7fdae82b1b8554e",
       "value": "Moves Before:   0%"
      }
     },
     "814cc089f4d542c397e748e54fbe5805": {
      "model_module": "@jupyter-widgets/controls",
      "model_module_version": "2.0.0",
      "model_name": "HTMLStyleModel",
      "state": {
       "description_width": "",
       "font_size": null,
       "text_color": null
      }
     },
     "82bd6983371c469098345793f2100b2f": {
      "model_module": "@jupyter-widgets/controls",
      "model_module_version": "2.0.0",
      "model_name": "HTMLStyleModel",
      "state": {
       "description_width": "",
       "font_size": null,
       "text_color": null
      }
     },
     "8a9e46fab25046fba5b74ff5250eb2df": {
      "model_module": "@jupyter-widgets/controls",
      "model_module_version": "2.0.0",
      "model_name": "HTMLStyleModel",
      "state": {
       "description_width": "",
       "font_size": null,
       "text_color": null
      }
     },
     "8f4c0d0788374e1cb0806563f76d41eb": {
      "model_module": "@jupyter-widgets/base",
      "model_module_version": "2.0.0",
      "model_name": "LayoutModel",
      "state": {}
     },
     "9094bd5516dc4bd6a74a6147a7b59eb8": {
      "model_module": "@jupyter-widgets/controls",
      "model_module_version": "2.0.0",
      "model_name": "HTMLModel",
      "state": {
       "layout": "IPY_MODEL_49967301ff4941fdade37df7fb821998",
       "style": "IPY_MODEL_814cc089f4d542c397e748e54fbe5805",
       "value": "13x13_1000_40_2:   0%"
      }
     },
     "99ff5a7b7ecf4004841a44578062cf41": {
      "model_module": "@jupyter-widgets/controls",
      "model_module_version": "2.0.0",
      "model_name": "FloatProgressModel",
      "state": {
       "layout": "IPY_MODEL_ab41e85596d14eecaf3986e8d079471f",
       "max": 28,
       "style": "IPY_MODEL_3239b33e1483494dbe44e94f8c78e41e"
      }
     },
     "9db8e4193bac419aa2dcdb798b6dd4ad": {
      "model_module": "@jupyter-widgets/controls",
      "model_module_version": "2.0.0",
      "model_name": "HTMLStyleModel",
      "state": {
       "description_width": "",
       "font_size": null,
       "text_color": null
      }
     },
     "9dd7b85af6aa462199e747fe5f1b9f01": {
      "model_module": "@jupyter-widgets/base",
      "model_module_version": "2.0.0",
      "model_name": "LayoutModel",
      "state": {}
     },
     "9ead1353c8394e8f8bd7fe06e88ed481": {
      "model_module": "@jupyter-widgets/controls",
      "model_module_version": "2.0.0",
      "model_name": "HTMLStyleModel",
      "state": {
       "description_width": "",
       "font_size": null,
       "text_color": null
      }
     },
     "a012bcd97fd04d52b92b90df3d45a217": {
      "model_module": "@jupyter-widgets/controls",
      "model_module_version": "2.0.0",
      "model_name": "HBoxModel",
      "state": {
       "children": [
        "IPY_MODEL_7f1bf64acbb04de8a87b33bcba25cbab",
        "IPY_MODEL_ae7fa4c4a86c4390860c628c7a112ab4",
        "IPY_MODEL_31c0cae57c034ceba2f01ed1c1c7c386"
       ],
       "layout": "IPY_MODEL_5cf9567e9bfa47b8a63a2df4af577d2a"
      }
     },
     "ab41e85596d14eecaf3986e8d079471f": {
      "model_module": "@jupyter-widgets/base",
      "model_module_version": "2.0.0",
      "model_name": "LayoutModel",
      "state": {}
     },
     "ace226c6d8544254bdbc32704766c254": {
      "model_module": "@jupyter-widgets/controls",
      "model_module_version": "2.0.0",
      "model_name": "HTMLModel",
      "state": {
       "layout": "IPY_MODEL_ea31eee83f3a49dfad9d30637a7c4259",
       "style": "IPY_MODEL_c460575d5484429d8c080fa68afab025",
       "value": "13x13_1000_40_0: 100%"
      }
     },
     "ae7fa4c4a86c4390860c628c7a112ab4": {
      "model_module": "@jupyter-widgets/controls",
      "model_module_version": "2.0.0",
      "model_name": "FloatProgressModel",
      "state": {
       "layout": "IPY_MODEL_d262bb3d972148d79f21a461af38484e",
       "max": 3,
       "style": "IPY_MODEL_1dd40bbf37ce49c9bab35f162e27e477"
      }
     },
     "ae8bda0b91d7403e88ae36d642d6ae35": {
      "model_module": "@jupyter-widgets/base",
      "model_module_version": "2.0.0",
      "model_name": "LayoutModel",
      "state": {}
     },
     "b104ce55fac74e17a80f26197b365fff": {
      "model_module": "@jupyter-widgets/controls",
      "model_module_version": "2.0.0",
      "model_name": "HTMLModel",
      "state": {
       "layout": "IPY_MODEL_4d5b65aee9424b9ca7f4e4ebbcc89c5c",
       "style": "IPY_MODEL_c95328a920c240eab1b4996169b18192",
       "value": " 15/15 [04:22&lt;00:00, 11.78s/it, Acc=66.00%, BestAcc=66.00%, F1=0.64, Prec=0.70, Rec=0.66]"
      }
     },
     "b6ef0c2b2fa3416d8d942ebe792aba71": {
      "model_module": "@jupyter-widgets/controls",
      "model_module_version": "2.0.0",
      "model_name": "HBoxModel",
      "state": {
       "children": [
        "IPY_MODEL_ba418e38825440b09185ed71aad70bed",
        "IPY_MODEL_d02e01a077ac4e0da2473b178bd2939e",
        "IPY_MODEL_59a9a0dd817f4591a15e015a426ff0ed"
       ],
       "layout": "IPY_MODEL_d5873efd2f9c48758b9956218e131d58"
      }
     },
     "b71753b981064bb0b5b37af2a340ee1f": {
      "model_module": "@jupyter-widgets/controls",
      "model_module_version": "2.0.0",
      "model_name": "ProgressStyleModel",
      "state": {
       "description_width": ""
      }
     },
     "ba418e38825440b09185ed71aad70bed": {
      "model_module": "@jupyter-widgets/controls",
      "model_module_version": "2.0.0",
      "model_name": "HTMLModel",
      "state": {
       "layout": "IPY_MODEL_75846be0746c4b4f8c0df513536e3682",
       "style": "IPY_MODEL_9db8e4193bac419aa2dcdb798b6dd4ad",
       "value": "Samples:   0%"
      }
     },
     "c260ce9d458f4cac815cd51458ad59eb": {
      "model_module": "@jupyter-widgets/controls",
      "model_module_version": "2.0.0",
      "model_name": "HTMLStyleModel",
      "state": {
       "description_width": "",
       "font_size": null,
       "text_color": null
      }
     },
     "c460575d5484429d8c080fa68afab025": {
      "model_module": "@jupyter-widgets/controls",
      "model_module_version": "2.0.0",
      "model_name": "HTMLStyleModel",
      "state": {
       "description_width": "",
       "font_size": null,
       "text_color": null
      }
     },
     "c6f99f00767b445a91cf474cca61e2ca": {
      "model_module": "@jupyter-widgets/controls",
      "model_module_version": "2.0.0",
      "model_name": "ProgressStyleModel",
      "state": {
       "description_width": ""
      }
     },
     "c95328a920c240eab1b4996169b18192": {
      "model_module": "@jupyter-widgets/controls",
      "model_module_version": "2.0.0",
      "model_name": "HTMLStyleModel",
      "state": {
       "description_width": "",
       "font_size": null,
       "text_color": null
      }
     },
     "cc78fffd6f1243f784d82cd32f605028": {
      "model_module": "@jupyter-widgets/controls",
      "model_module_version": "2.0.0",
      "model_name": "ProgressStyleModel",
      "state": {
       "description_width": ""
      }
     },
     "d02e01a077ac4e0da2473b178bd2939e": {
      "model_module": "@jupyter-widgets/controls",
      "model_module_version": "2.0.0",
      "model_name": "FloatProgressModel",
      "state": {
       "layout": "IPY_MODEL_d135117a418d496684ef4787dcb16ac9",
       "max": 3,
       "style": "IPY_MODEL_c6f99f00767b445a91cf474cca61e2ca"
      }
     },
     "d135117a418d496684ef4787dcb16ac9": {
      "model_module": "@jupyter-widgets/base",
      "model_module_version": "2.0.0",
      "model_name": "LayoutModel",
      "state": {}
     },
     "d262bb3d972148d79f21a461af38484e": {
      "model_module": "@jupyter-widgets/base",
      "model_module_version": "2.0.0",
      "model_name": "LayoutModel",
      "state": {}
     },
     "d52de1b53e154c1e8f857681ee9bd830": {
      "model_module": "@jupyter-widgets/controls",
      "model_module_version": "2.0.0",
      "model_name": "HTMLModel",
      "state": {
       "layout": "IPY_MODEL_3a69b00218f84a408605121a5d3144d2",
       "style": "IPY_MODEL_82bd6983371c469098345793f2100b2f",
       "value": " 65/75 [07:44&lt;00:52,  5.29s/it, Acc=70.00%, BestAcc=71.50%, F1=0.71, Prec=0.73, Rec=0.71]"
      }
     },
     "d5873efd2f9c48758b9956218e131d58": {
      "model_module": "@jupyter-widgets/base",
      "model_module_version": "2.0.0",
      "model_name": "LayoutModel",
      "state": {}
     },
     "d635e098852e49099058893a357666e2": {
      "model_module": "@jupyter-widgets/base",
      "model_module_version": "2.0.0",
      "model_name": "LayoutModel",
      "state": {}
     },
     "d7608957ba694ad482b2d87974d92b50": {
      "model_module": "@jupyter-widgets/controls",
      "model_module_version": "2.0.0",
      "model_name": "HTMLStyleModel",
      "state": {
       "description_width": "",
       "font_size": null,
       "text_color": null
      }
     },
     "dc741c235e9f438ea7334bdf01464c10": {
      "model_module": "@jupyter-widgets/base",
      "model_module_version": "2.0.0",
      "model_name": "LayoutModel",
      "state": {}
     },
     "df9b4d98bbac49efa2773b8848eb18ec": {
      "model_module": "@jupyter-widgets/controls",
      "model_module_version": "2.0.0",
      "model_name": "FloatProgressModel",
      "state": {
       "layout": "IPY_MODEL_4467a98479694e2bbf8caef4b02eb60a",
       "max": 3,
       "style": "IPY_MODEL_cc78fffd6f1243f784d82cd32f605028"
      }
     },
     "e08262f3368c4a05a05e7037854e0c6d": {
      "model_module": "@jupyter-widgets/base",
      "model_module_version": "2.0.0",
      "model_name": "LayoutModel",
      "state": {}
     },
     "e093713a4043421f894b046a922e9830": {
      "model_module": "@jupyter-widgets/base",
      "model_module_version": "2.0.0",
      "model_name": "LayoutModel",
      "state": {}
     },
     "e3989ebe96a243a5b70bde723538dbc6": {
      "model_module": "@jupyter-widgets/controls",
      "model_module_version": "2.0.0",
      "model_name": "HTMLModel",
      "state": {
       "layout": "IPY_MODEL_42b00ccda09d4b29a13b413308f4604a",
       "style": "IPY_MODEL_c260ce9d458f4cac815cd51458ad59eb",
       "value": " 0/3 [00:00&lt;?, ?it/s]"
      }
     },
     "e4a89532d6e7462d8cd44987cd0d8c21": {
      "model_module": "@jupyter-widgets/controls",
      "model_module_version": "2.0.0",
      "model_name": "HBoxModel",
      "state": {
       "children": [
        "IPY_MODEL_ace226c6d8544254bdbc32704766c254",
        "IPY_MODEL_2882aaac32fb4b46a3b4120635a52a2a",
        "IPY_MODEL_b104ce55fac74e17a80f26197b365fff"
       ],
       "layout": "IPY_MODEL_234873d8f2a2402b9eb206058e5dea71"
      }
     },
     "e4f0f4bfb6c546bcbd8c53c710ed8e16": {
      "model_module": "@jupyter-widgets/controls",
      "model_module_version": "2.0.0",
      "model_name": "HTMLStyleModel",
      "state": {
       "description_width": "",
       "font_size": null,
       "text_color": null
      }
     },
     "e85563b828ec4a01afcafd7437763f9c": {
      "model_module": "@jupyter-widgets/controls",
      "model_module_version": "2.0.0",
      "model_name": "HBoxModel",
      "state": {
       "children": [
        "IPY_MODEL_489b7509ca9c483592f225ec4dbdd1a0",
        "IPY_MODEL_6a89cf61f63b4789aa1196635b6e7f4e",
        "IPY_MODEL_51c44f35d3e943e08f7ad05ee1faa17f"
       ],
       "layout": "IPY_MODEL_9dd7b85af6aa462199e747fe5f1b9f01"
      }
     },
     "ea31eee83f3a49dfad9d30637a7c4259": {
      "model_module": "@jupyter-widgets/base",
      "model_module_version": "2.0.0",
      "model_name": "LayoutModel",
      "state": {}
     },
     "ea66378a47e74f4495bd568b855167e9": {
      "model_module": "@jupyter-widgets/controls",
      "model_module_version": "2.0.0",
      "model_name": "FloatProgressModel",
      "state": {
       "layout": "IPY_MODEL_149357b8b41840c48e603b7d4bfb5d1d",
       "max": 1,
       "style": "IPY_MODEL_5d4ebd9ed97b40a585784bb8b8f33cef"
      }
     },
     "ec2b8f8ee8fd407d888c8b60793f119a": {
      "model_module": "@jupyter-widgets/controls",
      "model_module_version": "2.0.0",
      "model_name": "ProgressStyleModel",
      "state": {
       "description_width": ""
      }
     },
     "f112c68b16d342d5a66f3fcfc2e3520b": {
      "model_module": "@jupyter-widgets/base",
      "model_module_version": "2.0.0",
      "model_name": "LayoutModel",
      "state": {}
     },
     "f442e4de4d234ac59eb8f60ad90a17d1": {
      "model_module": "@jupyter-widgets/controls",
      "model_module_version": "2.0.0",
      "model_name": "HTMLStyleModel",
      "state": {
       "description_width": "",
       "font_size": null,
       "text_color": null
      }
     },
     "f72fe0e871fc459d8aee5bc38ee175c8": {
      "model_module": "@jupyter-widgets/controls",
      "model_module_version": "2.0.0",
      "model_name": "ProgressStyleModel",
      "state": {
       "description_width": ""
      }
     },
     "fa631704eaa340088b55f842a462240f": {
      "model_module": "@jupyter-widgets/base",
      "model_module_version": "2.0.0",
      "model_name": "LayoutModel",
      "state": {}
     }
    },
    "version_major": 2,
    "version_minor": 0
   }
  }
 },
 "nbformat": 4,
 "nbformat_minor": 5
}
