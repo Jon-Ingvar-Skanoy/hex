{
 "cells": [
  {
   "cell_type": "code",
   "execution_count": 1,
   "metadata": {},
   "outputs": [],
   "source": [
    "import os\n",
    "import pandas as pd\n",
    "import ipywidgets as widgets\n",
    "from IPython.display import display, Markdown\n",
    "from src.dbhandler import DBHandler "
   ]
  },
  {
   "cell_type": "code",
   "execution_count": 2,
   "metadata": {},
   "outputs": [],
   "source": [
    "def initialize_dropdowns():\n",
    "    \"\"\"Initialize study and board size dropdowns based on available data.\"\"\"\n",
    "    current_studies_dict = db_handler.get_study_names()\n",
    "    initial_study_id = list(current_studies_dict.values())[0]\n",
    "\n",
    "    # Create study dropdown\n",
    "    study_dropdown = widgets.Dropdown(\n",
    "        options=current_studies_dict,\n",
    "        description=\"Study ID:\",\n",
    "        value=initial_study_id\n",
    "    )\n",
    "\n",
    "    # Set board sizes based on initial study selection\n",
    "    board_size_dropdown = widgets.Dropdown(\n",
    "        options=db_handler.load_board_sizes(initial_study_id),\n",
    "        description=\"Board Size:\",\n",
    "        value=6\n",
    "    )\n",
    "\n",
    "    # Update board size dropdown options when study changes\n",
    "    def on_study_change(change):\n",
    "        if change['type'] == 'change' and change['name'] == 'value':\n",
    "            board_size_dropdown.options = db_handler.load_board_sizes(change['new'])\n",
    "    \n",
    "    study_dropdown.observe(on_study_change)\n",
    "    \n",
    "    return study_dropdown, board_size_dropdown"
   ]
  },
  {
   "cell_type": "code",
   "execution_count": 3,
   "metadata": {},
   "outputs": [],
   "source": [
    "def format_dataframe(df):\n",
    "    \"\"\"Format integer and float columns.\"\"\"\n",
    "    int_columns = [\"number_of_clauses\", \"board_size\", \"depth\", \"epochs\", \"mbf_idx\", \"n_samples_idx\", \"open_pos\"]\n",
    "    float_columns = [\"f1\", \"precision\", \"recall\", \"acc_train\", \"acc_test\"]\n",
    "\n",
    "    for col in int_columns:\n",
    "        if col in df.columns:\n",
    "            df[col] = pd.to_numeric(df[col], errors='coerce').fillna(0).astype(int).apply(lambda x: f\"{x:,}\")\n",
    "    for col in float_columns:\n",
    "        if col in df.columns:\n",
    "            df[col] = pd.to_numeric(df[col], errors='coerce').apply(lambda x: f\"{x:.6f}\" if pd.notna(x) else \"\")\n",
    "\n",
    "    return df"
   ]
  },
  {
   "cell_type": "code",
   "execution_count": 4,
   "metadata": {},
   "outputs": [],
   "source": [
    "def highlight_rows(s):\n",
    "    \"\"\"Highlight rows based on acc_test values.\"\"\"\n",
    "    return [\n",
    "        'background-color: green' if v == 100.0 else \n",
    "        'background-color: yellow' if v >= 99.0 else\n",
    "        'background-color: lightyellow' if v >= 95.0 else\n",
    "        'background-color: orange' if v >= 90.0 else\n",
    "        'background-color: red' if v < 90.0 else\n",
    "        '' for v in s\n",
    "    ]"
   ]
  },
  {
   "cell_type": "code",
   "execution_count": 5,
   "metadata": {},
   "outputs": [],
   "source": [
    "def query_top_results(study_id, board_size, sort_order, max_rows):\n",
    "    results_df = db_handler.query_top_results(study_id, board_size)\n",
    "\n",
    "    # Pivot parameters\n",
    "    if 'paramname' in results_df.columns and 'paramvalue' in results_df.columns:\n",
    "        param_pivot = results_df.pivot_table(\n",
    "            index=['number', 'state', 'value'],\n",
    "            columns='paramname',\n",
    "            values='paramvalue',\n",
    "            aggfunc='first'\n",
    "        ).reset_index()\n",
    "    else:\n",
    "        param_pivot = pd.DataFrame()  # Empty if columns are missing\n",
    "    \n",
    "    # Pivot user attributes\n",
    "    if 'userattributekey' in results_df.columns and 'userattributevalue' in results_df.columns:\n",
    "        attr_pivot = results_df.pivot_table(\n",
    "            index=['number', 'state', 'value'],\n",
    "            columns='userattributekey',\n",
    "            values='userattributevalue',\n",
    "            aggfunc='first'\n",
    "        ).reset_index()\n",
    "    else:\n",
    "        attr_pivot = pd.DataFrame()  # Empty if columns are missing\n",
    "\n",
    "    # Merge parameter and attribute pivots, drop the \"State\" column, and reorder\n",
    "    if not param_pivot.empty and not attr_pivot.empty:\n",
    "        merged_df = pd.merge(param_pivot, attr_pivot, on=['number', 'state', 'value'], how='outer').drop(columns=['state'])\n",
    "    elif not param_pivot.empty:\n",
    "        merged_df = param_pivot.drop(columns=['state'])\n",
    "    else:\n",
    "        merged_df = attr_pivot.drop(columns=['state'])\n",
    "\n",
    "    # Sorting based on Value (highest or lowest)\n",
    "    ascending = sort_order == 'Lowest'\n",
    "    merged_df = merged_df.sort_values(by='value', ascending=ascending)\n",
    "\n",
    "    # Reorder the columns\n",
    "    column_order = ['number', 'value', 'acc_train', 'acc_test', 'number_of_clauses'] + \\\n",
    "                   [col for col in merged_df.columns if col not in ['number', 'state', 'value', 'acc_train', 'acc_test', 'number_of_clauses']]\n",
    "    merged_df = merged_df[column_order]\n",
    "\n",
    "    limited_df = merged_df.head(max_rows).copy()\n",
    "\n",
    "    # Format columns as integers with comma separators\n",
    "    int_columns = [\"number_of_clauses\", \"board_size\", \"depth\", \"epochs\", \"mbf_idx\", \"n_samples_idx\", \"open_pos\"]\n",
    "    for col in int_columns:\n",
    "        if col in limited_df.columns:\n",
    "            limited_df[col] = pd.to_numeric(limited_df[col], errors='coerce').fillna(0).astype(int).apply(lambda x: f\"{x:,}\")\n",
    "\n",
    "    # Format specific columns to six decimal places\n",
    "    user_attr_columns = [\"f1\", \"precision\", \"recall\", \"acc_train\", \"acc_test\"]\n",
    "    for col in user_attr_columns:\n",
    "        if col in limited_df.columns:\n",
    "            limited_df[col] = pd.to_numeric(limited_df[col], errors='coerce').apply(lambda x: f\"{x:.6f}\" if pd.notna(x) else \"\")\n",
    "        \n",
    "    if 'acc_test' in limited_df.columns:\n",
    "        limited_df['acc_test'] = pd.to_numeric(limited_df['acc_test'], errors='coerce')\n",
    "\n",
    "    display_df = limited_df.reset_index(drop=True)\n",
    "    styled_df = display_df.style.apply(highlight_rows, subset=['acc_test'])\n",
    "\n",
    "    display(styled_df.hide(axis=\"index\"))\n"
   ]
  },
  {
   "cell_type": "code",
   "execution_count": 6,
   "metadata": {},
   "outputs": [],
   "source": [
    "db_handler = DBHandler()"
   ]
  },
  {
   "cell_type": "code",
   "execution_count": 7,
   "metadata": {},
   "outputs": [],
   "source": [
    "study_id_dropdown, board_size_dropdown = initialize_dropdowns()\n",
    "\n",
    "sort_order_dropdown = widgets.Dropdown(\n",
    "    options=['Highest', 'Lowest'],\n",
    "    description='Sort Order:'\n",
    ")\n",
    "\n",
    "row_limit_slider = widgets.IntSlider(\n",
    "    value=10,\n",
    "    min=5,\n",
    "    max=50,\n",
    "    step=5,\n",
    "    description='Max Rows:'\n",
    ")\n",
    "\n",
    "interactive_plot = widgets.interactive(\n",
    "    query_top_results,\n",
    "    study_id=study_id_dropdown,\n",
    "    board_size=board_size_dropdown,\n",
    "    sort_order=sort_order_dropdown,\n",
    "    max_rows=row_limit_slider\n",
    ")"
   ]
  },
  {
   "cell_type": "code",
   "execution_count": 8,
   "metadata": {},
   "outputs": [
    {
     "data": {
      "text/markdown": [
       "### Select Study and Board Size"
      ],
      "text/plain": [
       "<IPython.core.display.Markdown object>"
      ]
     },
     "metadata": {},
     "output_type": "display_data"
    },
    {
     "data": {
      "application/vnd.jupyter.widget-view+json": {
       "model_id": "75adf533576b48ca896d628246269926",
       "version_major": 2,
       "version_minor": 0
      },
      "text/plain": [
       "interactive(children=(Dropdown(description='Study ID:', options={'Global_Hex_Study_random': 8, 'Global_Hex_Stu…"
      ]
     },
     "metadata": {},
     "output_type": "display_data"
    }
   ],
   "source": [
    "display(Markdown(\"### Select Study and Board Size\"))\n",
    "display(interactive_plot)"
   ]
  }
 ],
 "metadata": {
  "kernelspec": {
   "display_name": "env",
   "language": "python",
   "name": "python3"
  },
  "language_info": {
   "codemirror_mode": {
    "name": "ipython",
    "version": 3
   },
   "file_extension": ".py",
   "mimetype": "text/x-python",
   "name": "python",
   "nbconvert_exporter": "python",
   "pygments_lexer": "ipython3",
   "version": "3.10.12"
  }
 },
 "nbformat": 4,
 "nbformat_minor": 2
}
