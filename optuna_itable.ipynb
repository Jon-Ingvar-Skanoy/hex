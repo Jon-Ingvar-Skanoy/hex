{
 "cells": [
  {
   "cell_type": "code",
   "execution_count": 1,
   "metadata": {},
   "outputs": [],
   "source": [
    "import os\n",
    "import pandas as pd\n",
    "import ipywidgets as widgets\n",
    "from IPython.display import display, Markdown\n",
    "from src.dbhandler import DBHandler "
   ]
  },
  {
   "cell_type": "code",
   "execution_count": 2,
   "metadata": {},
   "outputs": [],
   "source": [
    "def initialize_dropdowns(db_handler: DBHandler) -> tuple:\n",
    "    \"\"\"Initialize study and board size dropdowns based on available data.\"\"\"\n",
    "    current_studies_dict = db_handler.get_study_names()\n",
    "    print(current_studies_dict)\n",
    "    initial_study_id = list(current_studies_dict.values())[0]\n",
    "\n",
    "    # Create study dropdown\n",
    "    study_dropdown = widgets.Dropdown(\n",
    "        options=current_studies_dict,\n",
    "        description=\"Study ID:\",\n",
    "        value=initial_study_id\n",
    "    )\n",
    "\n",
    "    # Set board sizes based on initial study selection\n",
    "    board_size_dropdown = widgets.Dropdown(\n",
    "        options=db_handler.load_board_sizes(initial_study_id),\n",
    "        description=\"Board Size:\",\n",
    "        value=4\n",
    "    )\n",
    "\n",
    "    # Update board size dropdown options when study changes\n",
    "    def on_study_change(change):\n",
    "        if change['type'] == 'change' and change['name'] == 'value':\n",
    "            board_size_dropdown.options = db_handler.load_board_sizes(change['new'])\n",
    "    \n",
    "    study_dropdown.observe(on_study_change)\n",
    "    \n",
    "    return study_dropdown, board_size_dropdown"
   ]
  },
  {
   "cell_type": "code",
   "execution_count": 3,
   "metadata": {},
   "outputs": [],
   "source": [
    "def format_dataframe(df):\n",
    "    \"\"\"Format integer and float columns.\"\"\"\n",
    "    int_columns = [\"number_of_clauses\", \"board_size\", \"depth\", \"epochs\", \"mbf_idx\", \"n_samples_idx\", \"open_pos\"]\n",
    "    float_columns = [\"f1\", \"precision\", \"recall\", \"acc_train\", \"acc_test\"]\n",
    "\n",
    "    for col in int_columns:\n",
    "        if col in df.columns:\n",
    "            df[col] = pd.to_numeric(df[col], errors='coerce').fillna(0).astype(int).apply(lambda x: f\"{x:,}\")\n",
    "    for col in float_columns:\n",
    "        if col in df.columns:\n",
    "            df[col] = pd.to_numeric(df[col], errors='coerce').apply(lambda x: f\"{x:.6f}\" if pd.notna(x) else \"\")\n",
    "\n",
    "    return df"
   ]
  },
  {
   "cell_type": "code",
   "execution_count": 4,
   "metadata": {},
   "outputs": [],
   "source": [
    "def highlight_rows(s):\n",
    "    \"\"\"Highlight rows based on acc_test values.\"\"\"\n",
    "    return [\n",
    "        'background-color: green' if v == 100.0 else \n",
    "        'background-color: yellow' if v >= 99.0 else\n",
    "        'background-color: lightyellow' if v >= 95.0 else\n",
    "        'background-color: orange' if v >= 90.0 else\n",
    "        'background-color: red' if v < 90.0 else\n",
    "        '' for v in s\n",
    "    ]"
   ]
  },
  {
   "cell_type": "code",
   "execution_count": 5,
   "metadata": {},
   "outputs": [],
   "source": [
    "def query_top_results(study_id, board_size, sort_order, max_rows):\n",
    "    results_df = db_handler.query_top_results(study_id, board_size)\n",
    "\n",
    "    # Pivot parameters\n",
    "    if 'paramname' in results_df.columns and 'paramvalue' in results_df.columns:\n",
    "        param_pivot = results_df.pivot_table(\n",
    "            index=['number', 'state', 'value'],\n",
    "            columns='paramname',\n",
    "            values='paramvalue',\n",
    "            aggfunc='first'\n",
    "        ).reset_index()\n",
    "    else:\n",
    "        param_pivot = pd.DataFrame()  # Empty if columns are missing\n",
    "    \n",
    "    # Pivot user attributes\n",
    "    if 'userattributekey' in results_df.columns and 'userattributevalue' in results_df.columns:\n",
    "        attr_pivot = results_df.pivot_table(\n",
    "            index=['number', 'state', 'value'],\n",
    "            columns='userattributekey',\n",
    "            values='userattributevalue',\n",
    "            aggfunc='first'\n",
    "        ).reset_index()\n",
    "    else:\n",
    "        attr_pivot = pd.DataFrame()  # Empty if columns are missing\n",
    "\n",
    "    # Merge parameter and attribute pivots, drop the \"State\" column, and reorder\n",
    "    if not param_pivot.empty and not attr_pivot.empty:\n",
    "        merged_df = pd.merge(param_pivot, attr_pivot, on=['number', 'state', 'value'], how='outer').drop(columns=['state'])\n",
    "    elif not param_pivot.empty:\n",
    "        merged_df = param_pivot.drop(columns=['state'])\n",
    "    else:\n",
    "        merged_df = attr_pivot.drop(columns=['state'])\n",
    "\n",
    "    # Sorting based on Value (highest or lowest)\n",
    "    ascending = sort_order == 'Lowest'\n",
    "    merged_df = merged_df.sort_values(by='value', ascending=ascending)\n",
    "\n",
    "    # Reorder the columns\n",
    "    column_order = ['number', 'value', 'acc_train', 'acc_test', 'number_of_clauses'] + \\\n",
    "                   [col for col in merged_df.columns if col not in ['number', 'state', 'value', 'acc_train', 'acc_test', 'number_of_clauses']]\n",
    "    merged_df = merged_df[column_order]\n",
    "\n",
    "    limited_df = merged_df.head(max_rows).copy()\n",
    "\n",
    "    # Format columns as integers with comma separators\n",
    "    int_columns = [\"number_of_clauses\", \"board_size\", \"depth\", \"epochs\", \"mbf_idx\", \"n_samples_idx\", \"open_pos\"]\n",
    "    for col in int_columns:\n",
    "        if col in limited_df.columns:\n",
    "            limited_df[col] = pd.to_numeric(limited_df[col], errors='coerce').fillna(0).astype(int).apply(lambda x: f\"{x:,}\")\n",
    "\n",
    "    # Format specific columns to six decimal places\n",
    "    user_attr_columns = [\"f1\", \"precision\", \"recall\", \"acc_train\", \"acc_test\"]\n",
    "    for col in user_attr_columns:\n",
    "        if col in limited_df.columns:\n",
    "            limited_df[col] = pd.to_numeric(limited_df[col], errors='coerce').apply(lambda x: f\"{x:.6f}\" if pd.notna(x) else \"\")\n",
    "        \n",
    "    if 'acc_test' in limited_df.columns:\n",
    "        limited_df['acc_test'] = pd.to_numeric(limited_df['acc_test'], errors='coerce')\n",
    "\n",
    "    display_df = limited_df.reset_index(drop=True)\n",
    "    styled_df = display_df.style.apply(highlight_rows, subset=['acc_test'])\n",
    "\n",
    "    display(styled_df.hide(axis=\"index\"))"
   ]
  },
  {
   "cell_type": "code",
   "execution_count": 6,
   "metadata": {},
   "outputs": [],
   "source": [
    "db_handler = DBHandler()"
   ]
  },
  {
   "cell_type": "code",
   "execution_count": 7,
   "metadata": {},
   "outputs": [
    {
     "name": "stdout",
     "output_type": "stream",
     "text": [
      "{'Hex_hv_acc_only': 1, 'Hex_few_clauses_4_c4_samp1000_pos40_T0.8_s1.0_q1.0_d1_ms128_mb1_mil300_sb8_dh0': 232, 'Hex_baseline_4-clauses-1000-samples-1000': 164, 'Hex_baseline_5-clauses-1000-samples-1000': 165, 'Hex_baseline_6-clauses-1000-samples-1000': 166, 'Hex_few_clauses_4_c16_samp1000_pos40_T0.8_s1.0_q1.0_d1_ms128_mb1_mil300_sb8_dh0': 239, 'Hex_few_clauses_4_c64_samp1000_pos40_T0.8_s1.0_q1.0_d1_ms128_mb1_mil300_sb8_dh0': 240, 'Hex_few_clauses_4_c256_samp1000_pos40_T0.8_s1.0_q1.0_d1_ms128_mb1_mil300_sb8_dh0': 241, 'Hex_few_clauses_5_c5_samp1000_pos40_T0.8_s1.0_q1.0_d1_ms128_mb1_mil300_sb8_dh0': 242, 'Hex_few_clauses_5_c25_samp1000_pos40_T0.8_s1.0_q1.0_d1_ms128_mb1_mil300_sb8_dh0': 243, 'Hex_few_clauses_5_c125_samp1000_pos40_T0.8_s1.0_q1.0_d1_ms128_mb1_mil300_sb8_dh0': 244, 'Hex_few_clauses_5_c625_samp1000_pos40_T0.8_s1.0_q1.0_d1_ms128_mb1_mil300_sb8_dh0': 245, 'Hex_baseline_7-clauses-1000-samples-1000': 179, 'Hex_conv': 72, 'Hex_hv_acc_only_4': 124, 'Hex_baseline_8-clauses-1000-samples-1000': 180, 'Hex_few_clauses_6_c6_samp1000_pos40_T0.8_s1.0_q1.0_d1_ms128_mb1_mil300_sb8_dh0': 246, 'Hex_few_clauses_6_c36_samp1000_pos40_T0.8_s1.0_q1.0_d1_ms128_mb1_mil300_sb8_dh0': 249, 'Hex_few_clauses_6_c216_samp1000_pos40_T0.8_s1.0_q1.0_d1_ms128_mb1_mil300_sb8_dh0': 250, 'Hex_baseline_9-clauses-1000-samples-1000': 186, 'Hex_baseline_10-clauses-1000-samples-1000': 187, 'Hex_few_clauses_6_c1296_samp1000_pos40_T0.8_s1.0_q1.0_d1_ms128_mb1_mil300_sb8_dh0': 251, 'Hex_few_clauses_6_c7776_samp1000_pos40_T0.8_s1.0_q1.0_d1_ms128_mb1_mil300_sb8_dh0': 252, 'Hex_few_clauses_6_c46656_samp1000_pos40_T0.8_s1.0_q1.0_d1_ms128_mb1_mil300_sb8_dh0': 253, 'Hex_baseline': 136, 'Hex_few_clauses_6_c279936_samp1000_pos40_T0.8_s1.0_q1.0_d1_ms128_mb1_mil300_sb8_dh0': 254, 'Hex_few_clauses_6_c1679616_samp1000_pos40_T0.8_s1.0_q1.0_d1_ms128_mb1_mil300_sb8_dh0': 255, 'Hex_few_clauses_6_c10077696_samp1000_pos40_T0.8_s1.0_q1.0_d1_ms128_mb1_mil300_sb8_dh0': 256, 'Hex_few_clauses_6_c60466176_samp1000_pos40_T0.8_s1.0_q1.0_d1_ms128_mb1_mil300_sb8_dh0': 267, 'Hex_baseline_11-clauses-1000-samples-1000': 207, 'Hex_baseline_12-clauses-1000-samples-1000': 208, 'Hex_baseline_13-clauses-1000-samples-1000': 210, 'Hex_baseline_14-clauses-1000-samples-1000': 211, 'Hex_baseline_15-clauses-1000-samples-1000': 212, 'Hex_few_clauses_7_c7_samp1000_pos40_T0.8_s1.0_q1.0_d1_ms128_mb1_mil300_sb8_dh0': 274, 'Hex_baseline_16_c1000_samp1000': 214, 'Hex_few_clauses_7_c49_samp1000_pos40_T0.8_s1.0_q1.0_d1_ms128_mb1_mil300_sb8_dh0': 275, 'Hex_baseline_4_c1000_samp1000': 216, 'Hex_baseline_5_c1000_samp1000': 217, 'Hex_baseline_6_c1000_samp1000': 218, 'Hex_baseline_7_c1000_samp1000': 219, 'Hex_few_clauses_7_c343_samp1000_pos40_T0.8_s1.0_q1.0_d1_ms128_mb1_mil300_sb8_dh0': 276, 'Hex_baseline_4_c1000_samp1000_pos40_T0.8_s1.0_q1.0_d1_ms128_mb1_mil300_sb8_dh0': 221, 'Hex_few_clauses_7_c2401_samp1000_pos40_T0.8_s1.0_q1.0_d1_ms128_mb1_mil300_sb8_dh0': 277, 'Hex_few_clauses_7_c16807_samp1000_pos40_T0.8_s1.0_q1.0_d1_ms128_mb1_mil300_sb8_dh0': 278, 'Hex_baseline_5_c1000_samp1000_pos40_T0.8_s1.0_q1.0_d1_ms128_mb1_mil300_sb8_dh0': 224, 'Hex_few_clauses_8_c8_samp1000_pos40_T0.8_s1.0_q1.0_d1_ms128_mb1_mil300_sb8_dh0': 279, 'Hex_few_clauses_8_c64_samp1000_pos40_T0.8_s1.0_q1.0_d1_ms128_mb1_mil300_sb8_dh0': 280, 'Hex_few_clauses': 227, 'Hex_few_clauses_4_c1_samp1000_pos40_T0.8_s1.0_q1.0_d1_ms128_mb1_mil300_sb8_dh0': 228, 'Hex_few_clauses_8_c512_samp1000_pos40_T0.8_s1.0_q1.0_d1_ms128_mb1_mil300_sb8_dh0': 281, 'Hex_few_clauses_8_c4096_samp1000_pos40_T0.8_s1.0_q1.0_d1_ms128_mb1_mil300_sb8_dh0': 282, 'Hex_few_clauses_8_c32768_samp1000_pos40_T0.8_s1.0_q1.0_d1_ms128_mb1_mil300_sb8_dh0': 283, 'Hex_few_clauses_9_c9_samp1000_pos40_T0.8_s1.0_q1.0_d1_ms128_mb1_mil300_sb8_dh0': 284, 'Hex_few_clauses_9_c81_samp1000_pos40_T0.8_s1.0_q1.0_d1_ms128_mb1_mil300_sb8_dh0': 285, 'Hex_few_clauses_9_c9_samp1000_pos40_T0.8_s1.0_q1.0_d1_ms256_mb1_mil300_sb8_dh0': 288, 'Hex_few_clauses_adjusted_s': 291, 'Hex_few_clauses_4_c4_samp1000_pos40_T0.8_s1.0_q1.0_d1_ms256_mb1_mil300_sb8_dh0': 290, 'Hex_few_clauses_adjusted_s_4_c4_samp1000_pos40_T0.8_s0.8_q1.0_d1_ms128_mb1_mil300_sb8_dh0': 292, 'Hex_few_clauses_adjusted_s_4_c16_samp1000_pos40_T0.8_s0.8_q1.0_d1_ms128_mb1_mil300_sb8_dh0': 294, 'Hex_few_clauses_adjusted_s_4_c64_samp1000_pos40_T0.8_s0.8_q1.0_d1_ms128_mb1_mil300_sb8_dh0': 295, 'Hex_few_clauses_adjusted_s_4_c16_samp1000_pos40_T1.0_s1.0_q1.0_d1_ms128_mb1_mil300_sb8_dh0': 299, 'Hex_few_clauses_hv': 300, 'Hex_few_clauses_hv_4_c16_samp1000_pos40_T1.0_s1.0_q1.0_d1_ms256_mb1_mil300_sb8_dh0': 301, 'Hex_few_clauses_hv_4_c16_samp1000_pos40_T1.0_s1.0_q1.0_d1_ms512_mb1_mil300_sb8_dh0': 303, 'Hex_few_clauses_hv_4_c64_samp1000_pos40_T1.0_s1.0_q1.0_d1_ms512_mb1_mil300_sb8_dh0': 304, 'Hex_few_clauses_hv_4_c256_samp1000_pos40_T1.0_s1.0_q1.0_d1_ms512_mb1_mil300_sb8_dh0': 305, 'Hex_few_clauses_hv_5_c5_samp1000_pos40_T1.0_s1.0_q1.0_d1_ms512_mb1_mil300_sb8_dh0': 306, 'Hex_few_clauses_hv_5_c25_samp1000_pos40_T1.0_s1.0_q1.0_d1_ms512_mb1_mil300_sb8_dh0': 307, 'Hex_few_clauses_hv_5_c125_samp1000_pos40_T1.0_s1.0_q1.0_d1_ms512_mb1_mil300_sb8_dh0': 308, 'Hex_few_clauses_hv_5_c625_samp1000_pos40_T1.0_s1.0_q1.0_d1_ms512_mb1_mil300_sb8_dh0': 309, 'Hex_few_clauses_hv_5_c3125_samp1000_pos40_T1.0_s1.0_q1.0_d1_ms512_mb1_mil300_sb8_dh0': 310, 'Hex_few_clauses_hv_6_c6_samp1000_pos40_T1.0_s1.0_q1.0_d1_ms512_mb1_mil300_sb8_dh0': 311, 'Hex_few_clauses_hv_6_c36_samp1000_pos40_T1.0_s1.0_q1.0_d1_ms512_mb1_mil300_sb8_dh0': 312, 'Hex_few_clauses_hv_6_c216_samp1000_pos40_T1.0_s1.0_q1.0_d1_ms512_mb1_mil300_sb8_dh0': 315, 'Hex_few_clauses_hv_6_c1296_samp1000_pos40_T1.0_s1.0_q1.0_d1_ms512_mb1_mil300_sb8_dh0': 316}\n"
     ]
    },
    {
     "ename": "TraitError",
     "evalue": "Invalid selection: value not found",
     "output_type": "error",
     "traceback": [
      "\u001b[0;31m---------------------------------------------------------------------------\u001b[0m",
      "\u001b[0;31mStopIteration\u001b[0m                             Traceback (most recent call last)",
      "File \u001b[0;32m~/projects/hex/env/lib/python3.10/site-packages/ipywidgets/widgets/widget_selection.py:133\u001b[0m, in \u001b[0;36mfindvalue\u001b[0;34m(array, value, compare)\u001b[0m\n\u001b[1;32m    132\u001b[0m \u001b[38;5;28;01mtry\u001b[39;00m:\n\u001b[0;32m--> 133\u001b[0m     \u001b[38;5;28;01mreturn\u001b[39;00m \u001b[38;5;28;43mnext\u001b[39;49m\u001b[43m(\u001b[49m\u001b[43mx\u001b[49m\u001b[43m \u001b[49m\u001b[38;5;28;43;01mfor\u001b[39;49;00m\u001b[43m \u001b[49m\u001b[43mx\u001b[49m\u001b[43m \u001b[49m\u001b[38;5;129;43;01min\u001b[39;49;00m\u001b[43m \u001b[49m\u001b[43marray\u001b[49m\u001b[43m \u001b[49m\u001b[38;5;28;43;01mif\u001b[39;49;00m\u001b[43m \u001b[49m\u001b[43mcompare\u001b[49m\u001b[43m(\u001b[49m\u001b[43mx\u001b[49m\u001b[43m,\u001b[49m\u001b[43m \u001b[49m\u001b[43mvalue\u001b[49m\u001b[43m)\u001b[49m\u001b[43m)\u001b[49m\n\u001b[1;32m    134\u001b[0m \u001b[38;5;28;01mexcept\u001b[39;00m \u001b[38;5;167;01mStopIteration\u001b[39;00m:\n",
      "\u001b[0;31mStopIteration\u001b[0m: ",
      "\nDuring handling of the above exception, another exception occurred:\n",
      "\u001b[0;31mValueError\u001b[0m                                Traceback (most recent call last)",
      "File \u001b[0;32m~/projects/hex/env/lib/python3.10/site-packages/ipywidgets/widgets/widget_selection.py:242\u001b[0m, in \u001b[0;36m_Selection._validate_value\u001b[0;34m(self, proposal)\u001b[0m\n\u001b[1;32m    241\u001b[0m \u001b[38;5;28;01mtry\u001b[39;00m:\n\u001b[0;32m--> 242\u001b[0m     \u001b[38;5;28;01mreturn\u001b[39;00m \u001b[43mfindvalue\u001b[49m\u001b[43m(\u001b[49m\u001b[38;5;28;43mself\u001b[39;49m\u001b[38;5;241;43m.\u001b[39;49m\u001b[43m_options_values\u001b[49m\u001b[43m,\u001b[49m\u001b[43m \u001b[49m\u001b[43mvalue\u001b[49m\u001b[43m,\u001b[49m\u001b[43m \u001b[49m\u001b[38;5;28;43mself\u001b[39;49m\u001b[38;5;241;43m.\u001b[39;49m\u001b[43mequals\u001b[49m\u001b[43m)\u001b[49m \u001b[38;5;28;01mif\u001b[39;00m value \u001b[38;5;129;01mis\u001b[39;00m \u001b[38;5;129;01mnot\u001b[39;00m \u001b[38;5;28;01mNone\u001b[39;00m \u001b[38;5;28;01melse\u001b[39;00m \u001b[38;5;28;01mNone\u001b[39;00m\n\u001b[1;32m    243\u001b[0m \u001b[38;5;28;01mexcept\u001b[39;00m \u001b[38;5;167;01mValueError\u001b[39;00m:\n",
      "File \u001b[0;32m~/projects/hex/env/lib/python3.10/site-packages/ipywidgets/widgets/widget_selection.py:135\u001b[0m, in \u001b[0;36mfindvalue\u001b[0;34m(array, value, compare)\u001b[0m\n\u001b[1;32m    134\u001b[0m \u001b[38;5;28;01mexcept\u001b[39;00m \u001b[38;5;167;01mStopIteration\u001b[39;00m:\n\u001b[0;32m--> 135\u001b[0m     \u001b[38;5;28;01mraise\u001b[39;00m \u001b[38;5;167;01mValueError\u001b[39;00m(\u001b[38;5;124m'\u001b[39m\u001b[38;5;132;01m%r\u001b[39;00m\u001b[38;5;124m not in array\u001b[39m\u001b[38;5;124m'\u001b[39m\u001b[38;5;241m%\u001b[39mvalue)\n",
      "\u001b[0;31mValueError\u001b[0m: 6 not in array",
      "\nDuring handling of the above exception, another exception occurred:\n",
      "\u001b[0;31mTraitError\u001b[0m                                Traceback (most recent call last)",
      "Cell \u001b[0;32mIn[7], line 1\u001b[0m\n\u001b[0;32m----> 1\u001b[0m study_id_dropdown, board_size_dropdown \u001b[38;5;241m=\u001b[39m \u001b[43minitialize_dropdowns\u001b[49m\u001b[43m(\u001b[49m\u001b[43mdb_handler\u001b[49m\u001b[43m)\u001b[49m\n\u001b[1;32m      3\u001b[0m sort_order_dropdown \u001b[38;5;241m=\u001b[39m widgets\u001b[38;5;241m.\u001b[39mDropdown(\n\u001b[1;32m      4\u001b[0m     options\u001b[38;5;241m=\u001b[39m[\u001b[38;5;124m'\u001b[39m\u001b[38;5;124mHighest\u001b[39m\u001b[38;5;124m'\u001b[39m, \u001b[38;5;124m'\u001b[39m\u001b[38;5;124mLowest\u001b[39m\u001b[38;5;124m'\u001b[39m],\n\u001b[1;32m      5\u001b[0m     description\u001b[38;5;241m=\u001b[39m\u001b[38;5;124m'\u001b[39m\u001b[38;5;124mSort Order:\u001b[39m\u001b[38;5;124m'\u001b[39m\n\u001b[1;32m      6\u001b[0m )\n\u001b[1;32m      8\u001b[0m row_limit_slider \u001b[38;5;241m=\u001b[39m widgets\u001b[38;5;241m.\u001b[39mIntSlider(\n\u001b[1;32m      9\u001b[0m     value\u001b[38;5;241m=\u001b[39m\u001b[38;5;241m10\u001b[39m,\n\u001b[1;32m     10\u001b[0m     \u001b[38;5;28mmin\u001b[39m\u001b[38;5;241m=\u001b[39m\u001b[38;5;241m5\u001b[39m,\n\u001b[0;32m   (...)\u001b[0m\n\u001b[1;32m     13\u001b[0m     description\u001b[38;5;241m=\u001b[39m\u001b[38;5;124m'\u001b[39m\u001b[38;5;124mMax Rows:\u001b[39m\u001b[38;5;124m'\u001b[39m\n\u001b[1;32m     14\u001b[0m )\n",
      "Cell \u001b[0;32mIn[2], line 15\u001b[0m, in \u001b[0;36minitialize_dropdowns\u001b[0;34m(db_handler)\u001b[0m\n\u001b[1;32m      8\u001b[0m study_dropdown \u001b[38;5;241m=\u001b[39m widgets\u001b[38;5;241m.\u001b[39mDropdown(\n\u001b[1;32m      9\u001b[0m     options\u001b[38;5;241m=\u001b[39mcurrent_studies_dict,\n\u001b[1;32m     10\u001b[0m     description\u001b[38;5;241m=\u001b[39m\u001b[38;5;124m\"\u001b[39m\u001b[38;5;124mStudy ID:\u001b[39m\u001b[38;5;124m\"\u001b[39m,\n\u001b[1;32m     11\u001b[0m     value\u001b[38;5;241m=\u001b[39minitial_study_id\n\u001b[1;32m     12\u001b[0m )\n\u001b[1;32m     14\u001b[0m \u001b[38;5;66;03m# Set board sizes based on initial study selection\u001b[39;00m\n\u001b[0;32m---> 15\u001b[0m board_size_dropdown \u001b[38;5;241m=\u001b[39m \u001b[43mwidgets\u001b[49m\u001b[38;5;241;43m.\u001b[39;49m\u001b[43mDropdown\u001b[49m\u001b[43m(\u001b[49m\n\u001b[1;32m     16\u001b[0m \u001b[43m    \u001b[49m\u001b[43moptions\u001b[49m\u001b[38;5;241;43m=\u001b[39;49m\u001b[43mdb_handler\u001b[49m\u001b[38;5;241;43m.\u001b[39;49m\u001b[43mload_board_sizes\u001b[49m\u001b[43m(\u001b[49m\u001b[43minitial_study_id\u001b[49m\u001b[43m)\u001b[49m\u001b[43m,\u001b[49m\n\u001b[1;32m     17\u001b[0m \u001b[43m    \u001b[49m\u001b[43mdescription\u001b[49m\u001b[38;5;241;43m=\u001b[39;49m\u001b[38;5;124;43m\"\u001b[39;49m\u001b[38;5;124;43mBoard Size:\u001b[39;49m\u001b[38;5;124;43m\"\u001b[39;49m\u001b[43m,\u001b[49m\n\u001b[1;32m     18\u001b[0m \u001b[43m    \u001b[49m\u001b[43mvalue\u001b[49m\u001b[38;5;241;43m=\u001b[39;49m\u001b[38;5;241;43m6\u001b[39;49m\n\u001b[1;32m     19\u001b[0m \u001b[43m\u001b[49m\u001b[43m)\u001b[49m\n\u001b[1;32m     21\u001b[0m \u001b[38;5;66;03m# Update board size dropdown options when study changes\u001b[39;00m\n\u001b[1;32m     22\u001b[0m \u001b[38;5;28;01mdef\u001b[39;00m \u001b[38;5;21mon_study_change\u001b[39m(change):\n",
      "File \u001b[0;32m~/projects/hex/env/lib/python3.10/site-packages/ipywidgets/widgets/widget_selection.py:186\u001b[0m, in \u001b[0;36m_Selection.__init__\u001b[0;34m(self, *args, **kwargs)\u001b[0m\n\u001b[1;32m    183\u001b[0m     kwargs[\u001b[38;5;124m'\u001b[39m\u001b[38;5;124mindex\u001b[39m\u001b[38;5;124m'\u001b[39m] \u001b[38;5;241m=\u001b[39m \u001b[38;5;241m0\u001b[39m \u001b[38;5;28;01mif\u001b[39;00m nonempty \u001b[38;5;28;01melse\u001b[39;00m \u001b[38;5;28;01mNone\u001b[39;00m\n\u001b[1;32m    184\u001b[0m     kwargs[\u001b[38;5;124m'\u001b[39m\u001b[38;5;124mlabel\u001b[39m\u001b[38;5;124m'\u001b[39m], kwargs[\u001b[38;5;124m'\u001b[39m\u001b[38;5;124mvalue\u001b[39m\u001b[38;5;124m'\u001b[39m] \u001b[38;5;241m=\u001b[39m options[\u001b[38;5;241m0\u001b[39m] \u001b[38;5;28;01mif\u001b[39;00m nonempty \u001b[38;5;28;01melse\u001b[39;00m (\u001b[38;5;28;01mNone\u001b[39;00m, \u001b[38;5;28;01mNone\u001b[39;00m)\n\u001b[0;32m--> 186\u001b[0m \u001b[38;5;28;43msuper\u001b[39;49m\u001b[43m(\u001b[49m\u001b[43m)\u001b[49m\u001b[38;5;241;43m.\u001b[39;49m\u001b[38;5;21;43m__init__\u001b[39;49m\u001b[43m(\u001b[49m\u001b[38;5;241;43m*\u001b[39;49m\u001b[43margs\u001b[49m\u001b[43m,\u001b[49m\u001b[43m \u001b[49m\u001b[38;5;241;43m*\u001b[39;49m\u001b[38;5;241;43m*\u001b[39;49m\u001b[43mkwargs\u001b[49m\u001b[43m)\u001b[49m\n\u001b[1;32m    187\u001b[0m \u001b[38;5;28mself\u001b[39m\u001b[38;5;241m.\u001b[39m_initializing_traits_ \u001b[38;5;241m=\u001b[39m \u001b[38;5;28;01mFalse\u001b[39;00m\n",
      "File \u001b[0;32m~/projects/hex/env/lib/python3.10/site-packages/ipywidgets/widgets/widget_description.py:35\u001b[0m, in \u001b[0;36mDescriptionWidget.__init__\u001b[0;34m(self, *args, **kwargs)\u001b[0m\n\u001b[1;32m     33\u001b[0m     kwargs\u001b[38;5;241m.\u001b[39msetdefault(\u001b[38;5;124m'\u001b[39m\u001b[38;5;124mtooltip\u001b[39m\u001b[38;5;124m'\u001b[39m, kwargs[\u001b[38;5;124m'\u001b[39m\u001b[38;5;124mdescription_tooltip\u001b[39m\u001b[38;5;124m'\u001b[39m])\n\u001b[1;32m     34\u001b[0m     \u001b[38;5;28;01mdel\u001b[39;00m kwargs[\u001b[38;5;124m'\u001b[39m\u001b[38;5;124mdescription_tooltip\u001b[39m\u001b[38;5;124m'\u001b[39m]\n\u001b[0;32m---> 35\u001b[0m \u001b[38;5;28;43msuper\u001b[39;49m\u001b[43m(\u001b[49m\u001b[43m)\u001b[49m\u001b[38;5;241;43m.\u001b[39;49m\u001b[38;5;21;43m__init__\u001b[39;49m\u001b[43m(\u001b[49m\u001b[38;5;241;43m*\u001b[39;49m\u001b[43margs\u001b[49m\u001b[43m,\u001b[49m\u001b[43m \u001b[49m\u001b[38;5;241;43m*\u001b[39;49m\u001b[38;5;241;43m*\u001b[39;49m\u001b[43mkwargs\u001b[49m\u001b[43m)\u001b[49m\n",
      "File \u001b[0;32m~/projects/hex/env/lib/python3.10/site-packages/ipywidgets/widgets/widget.py:503\u001b[0m, in \u001b[0;36mWidget.__init__\u001b[0;34m(self, **kwargs)\u001b[0m\n\u001b[1;32m    501\u001b[0m \u001b[38;5;250m\u001b[39m\u001b[38;5;124;03m\"\"\"Public constructor\"\"\"\u001b[39;00m\n\u001b[1;32m    502\u001b[0m \u001b[38;5;28mself\u001b[39m\u001b[38;5;241m.\u001b[39m_model_id \u001b[38;5;241m=\u001b[39m kwargs\u001b[38;5;241m.\u001b[39mpop(\u001b[38;5;124m'\u001b[39m\u001b[38;5;124mmodel_id\u001b[39m\u001b[38;5;124m'\u001b[39m, \u001b[38;5;28;01mNone\u001b[39;00m)\n\u001b[0;32m--> 503\u001b[0m \u001b[38;5;28;43msuper\u001b[39;49m\u001b[43m(\u001b[49m\u001b[43m)\u001b[49m\u001b[38;5;241;43m.\u001b[39;49m\u001b[38;5;21;43m__init__\u001b[39;49m\u001b[43m(\u001b[49m\u001b[38;5;241;43m*\u001b[39;49m\u001b[38;5;241;43m*\u001b[39;49m\u001b[43mkwargs\u001b[49m\u001b[43m)\u001b[49m\n\u001b[1;32m    505\u001b[0m Widget\u001b[38;5;241m.\u001b[39m_call_widget_constructed(\u001b[38;5;28mself\u001b[39m)\n\u001b[1;32m    506\u001b[0m \u001b[38;5;28mself\u001b[39m\u001b[38;5;241m.\u001b[39mopen()\n",
      "File \u001b[0;32m~/projects/hex/env/lib/python3.10/site-packages/traitlets/traitlets.py:1369\u001b[0m, in \u001b[0;36mHasTraits.__init__\u001b[0;34m(self, *args, **kwargs)\u001b[0m\n\u001b[1;32m   1367\u001b[0m changed \u001b[38;5;241m=\u001b[39m \u001b[38;5;28mset\u001b[39m(kwargs) \u001b[38;5;241m&\u001b[39m \u001b[38;5;28mset\u001b[39m(\u001b[38;5;28mself\u001b[39m\u001b[38;5;241m.\u001b[39m_traits)\n\u001b[1;32m   1368\u001b[0m \u001b[38;5;28;01mfor\u001b[39;00m key \u001b[38;5;129;01min\u001b[39;00m changed:\n\u001b[0;32m-> 1369\u001b[0m     value \u001b[38;5;241m=\u001b[39m \u001b[38;5;28;43mself\u001b[39;49m\u001b[38;5;241;43m.\u001b[39;49m\u001b[43m_traits\u001b[49m\u001b[43m[\u001b[49m\u001b[43mkey\u001b[49m\u001b[43m]\u001b[49m\u001b[38;5;241;43m.\u001b[39;49m\u001b[43m_cross_validate\u001b[49m\u001b[43m(\u001b[49m\u001b[38;5;28;43mself\u001b[39;49m\u001b[43m,\u001b[49m\u001b[43m \u001b[49m\u001b[38;5;28;43mgetattr\u001b[39;49m\u001b[43m(\u001b[49m\u001b[38;5;28;43mself\u001b[39;49m\u001b[43m,\u001b[49m\u001b[43m \u001b[49m\u001b[43mkey\u001b[49m\u001b[43m)\u001b[49m\u001b[43m)\u001b[49m\n\u001b[1;32m   1370\u001b[0m     \u001b[38;5;28mself\u001b[39m\u001b[38;5;241m.\u001b[39mset_trait(key, value)\n\u001b[1;32m   1371\u001b[0m     changes[key][\u001b[38;5;124m\"\u001b[39m\u001b[38;5;124mnew\u001b[39m\u001b[38;5;124m\"\u001b[39m] \u001b[38;5;241m=\u001b[39m value\n",
      "File \u001b[0;32m~/projects/hex/env/lib/python3.10/site-packages/traitlets/traitlets.py:730\u001b[0m, in \u001b[0;36mTraitType._cross_validate\u001b[0;34m(self, obj, value)\u001b[0m\n\u001b[1;32m    728\u001b[0m \u001b[38;5;28;01mif\u001b[39;00m \u001b[38;5;28mself\u001b[39m\u001b[38;5;241m.\u001b[39mname \u001b[38;5;129;01min\u001b[39;00m obj\u001b[38;5;241m.\u001b[39m_trait_validators:\n\u001b[1;32m    729\u001b[0m     proposal \u001b[38;5;241m=\u001b[39m Bunch({\u001b[38;5;124m\"\u001b[39m\u001b[38;5;124mtrait\u001b[39m\u001b[38;5;124m\"\u001b[39m: \u001b[38;5;28mself\u001b[39m, \u001b[38;5;124m\"\u001b[39m\u001b[38;5;124mvalue\u001b[39m\u001b[38;5;124m\"\u001b[39m: value, \u001b[38;5;124m\"\u001b[39m\u001b[38;5;124mowner\u001b[39m\u001b[38;5;124m\"\u001b[39m: obj})\n\u001b[0;32m--> 730\u001b[0m     value \u001b[38;5;241m=\u001b[39m \u001b[43mobj\u001b[49m\u001b[38;5;241;43m.\u001b[39;49m\u001b[43m_trait_validators\u001b[49m\u001b[43m[\u001b[49m\u001b[38;5;28;43mself\u001b[39;49m\u001b[38;5;241;43m.\u001b[39;49m\u001b[43mname\u001b[49m\u001b[43m]\u001b[49m\u001b[43m(\u001b[49m\u001b[43mobj\u001b[49m\u001b[43m,\u001b[49m\u001b[43m \u001b[49m\u001b[43mproposal\u001b[49m\u001b[43m)\u001b[49m\n\u001b[1;32m    731\u001b[0m \u001b[38;5;28;01melif\u001b[39;00m \u001b[38;5;28mhasattr\u001b[39m(obj, \u001b[38;5;124m\"\u001b[39m\u001b[38;5;124m_\u001b[39m\u001b[38;5;132;01m%s\u001b[39;00m\u001b[38;5;124m_validate\u001b[39m\u001b[38;5;124m\"\u001b[39m \u001b[38;5;241m%\u001b[39m \u001b[38;5;28mself\u001b[39m\u001b[38;5;241m.\u001b[39mname):\n\u001b[1;32m    732\u001b[0m     meth_name \u001b[38;5;241m=\u001b[39m \u001b[38;5;124m\"\u001b[39m\u001b[38;5;124m_\u001b[39m\u001b[38;5;132;01m%s\u001b[39;00m\u001b[38;5;124m_validate\u001b[39m\u001b[38;5;124m\"\u001b[39m \u001b[38;5;241m%\u001b[39m \u001b[38;5;28mself\u001b[39m\u001b[38;5;241m.\u001b[39mname\n",
      "File \u001b[0;32m~/projects/hex/env/lib/python3.10/site-packages/traitlets/traitlets.py:1241\u001b[0m, in \u001b[0;36mEventHandler.__call__\u001b[0;34m(self, *args, **kwargs)\u001b[0m\n\u001b[1;32m   1239\u001b[0m \u001b[38;5;250m\u001b[39m\u001b[38;5;124;03m\"\"\"Pass `*args` and `**kwargs` to the handler's function if it exists.\"\"\"\u001b[39;00m\n\u001b[1;32m   1240\u001b[0m \u001b[38;5;28;01mif\u001b[39;00m \u001b[38;5;28mhasattr\u001b[39m(\u001b[38;5;28mself\u001b[39m, \u001b[38;5;124m\"\u001b[39m\u001b[38;5;124mfunc\u001b[39m\u001b[38;5;124m\"\u001b[39m):\n\u001b[0;32m-> 1241\u001b[0m     \u001b[38;5;28;01mreturn\u001b[39;00m \u001b[38;5;28;43mself\u001b[39;49m\u001b[38;5;241;43m.\u001b[39;49m\u001b[43mfunc\u001b[49m\u001b[43m(\u001b[49m\u001b[38;5;241;43m*\u001b[39;49m\u001b[43margs\u001b[49m\u001b[43m,\u001b[49m\u001b[43m \u001b[49m\u001b[38;5;241;43m*\u001b[39;49m\u001b[38;5;241;43m*\u001b[39;49m\u001b[43mkwargs\u001b[49m\u001b[43m)\u001b[49m\n\u001b[1;32m   1242\u001b[0m \u001b[38;5;28;01melse\u001b[39;00m:\n\u001b[1;32m   1243\u001b[0m     \u001b[38;5;28;01mreturn\u001b[39;00m \u001b[38;5;28mself\u001b[39m\u001b[38;5;241m.\u001b[39m_init_call(\u001b[38;5;241m*\u001b[39margs, \u001b[38;5;241m*\u001b[39m\u001b[38;5;241m*\u001b[39mkwargs)\n",
      "File \u001b[0;32m~/projects/hex/env/lib/python3.10/site-packages/ipywidgets/widgets/widget_selection.py:244\u001b[0m, in \u001b[0;36m_Selection._validate_value\u001b[0;34m(self, proposal)\u001b[0m\n\u001b[1;32m    242\u001b[0m     \u001b[38;5;28;01mreturn\u001b[39;00m findvalue(\u001b[38;5;28mself\u001b[39m\u001b[38;5;241m.\u001b[39m_options_values, value, \u001b[38;5;28mself\u001b[39m\u001b[38;5;241m.\u001b[39mequals) \u001b[38;5;28;01mif\u001b[39;00m value \u001b[38;5;129;01mis\u001b[39;00m \u001b[38;5;129;01mnot\u001b[39;00m \u001b[38;5;28;01mNone\u001b[39;00m \u001b[38;5;28;01melse\u001b[39;00m \u001b[38;5;28;01mNone\u001b[39;00m\n\u001b[1;32m    243\u001b[0m \u001b[38;5;28;01mexcept\u001b[39;00m \u001b[38;5;167;01mValueError\u001b[39;00m:\n\u001b[0;32m--> 244\u001b[0m     \u001b[38;5;28;01mraise\u001b[39;00m TraitError(\u001b[38;5;124m'\u001b[39m\u001b[38;5;124mInvalid selection: value not found\u001b[39m\u001b[38;5;124m'\u001b[39m)\n",
      "\u001b[0;31mTraitError\u001b[0m: Invalid selection: value not found"
     ]
    }
   ],
   "source": [
    "study_id_dropdown, board_size_dropdown = initialize_dropdowns(db_handler)\n",
    "\n",
    "sort_order_dropdown = widgets.Dropdown(\n",
    "    options=['Highest', 'Lowest'],\n",
    "    description='Sort Order:'\n",
    ")\n",
    "\n",
    "row_limit_slider = widgets.IntSlider(\n",
    "    value=10,\n",
    "    min=5,\n",
    "    max=50,\n",
    "    step=5,\n",
    "    description='Max Rows:'\n",
    ")\n",
    "\n",
    "interactive_plot = widgets.interactive(\n",
    "    query_top_results,\n",
    "    study_id=study_id_dropdown,\n",
    "    board_size=board_size_dropdown,\n",
    "    sort_order=sort_order_dropdown,\n",
    "    max_rows=row_limit_slider\n",
    ")"
   ]
  },
  {
   "cell_type": "code",
   "execution_count": null,
   "metadata": {},
   "outputs": [
    {
     "data": {
      "text/markdown": [
       "### Select Study and Board Size"
      ],
      "text/plain": [
       "<IPython.core.display.Markdown object>"
      ]
     },
     "metadata": {},
     "output_type": "display_data"
    },
    {
     "data": {
      "application/vnd.jupyter.widget-view+json": {
       "model_id": "c0596f8f34d94a608008fadc71da9ed3",
       "version_major": 2,
       "version_minor": 0
      },
      "text/plain": [
       "interactive(children=(Dropdown(description='Study ID:', options={'Global_Hex_Study_random': 8, 'Global_Hex_Stu…"
      ]
     },
     "metadata": {},
     "output_type": "display_data"
    }
   ],
   "source": [
    "display(Markdown(\"### Select Study and Board Size\"))\n",
    "display(interactive_plot)"
   ]
  }
 ],
 "metadata": {
  "kernelspec": {
   "display_name": "env",
   "language": "python",
   "name": "python3"
  },
  "language_info": {
   "codemirror_mode": {
    "name": "ipython",
    "version": 3
   },
   "file_extension": ".py",
   "mimetype": "text/x-python",
   "name": "python",
   "nbconvert_exporter": "python",
   "pygments_lexer": "ipython3",
   "version": "3.10.12"
  }
 },
 "nbformat": 4,
 "nbformat_minor": 2
}
