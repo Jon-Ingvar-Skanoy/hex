{
 "cells": [
  {
   "cell_type": "code",
   "execution_count": 55,
   "metadata": {},
   "outputs": [],
   "source": [
    "from GraphTsetlinMachine.graphs import Graphs\n",
    "import numpy as np\n"
   ]
  },
  {
   "cell_type": "code",
   "execution_count": 313,
   "metadata": {},
   "outputs": [],
   "source": []
  },
  {
   "cell_type": "code",
   "execution_count": 56,
   "metadata": {},
   "outputs": [],
   "source": [
    "def getConnectionsOld_bad(size, index):\n",
    "    x = index % size\n",
    "    y = index // size\n",
    "\n",
    "    # Define out-of-bounds placeholders\n",
    "    out_of_bounds_right = \"out_of_bounds_right\"\n",
    "    out_of_bounds_left = \"out_of_bounds_left\"\n",
    "    out_of_bounds_down = \"out_of_bounds_down\"\n",
    "    out_of_bounds_up = \"out_of_bounds_up\"\n",
    "\n",
    "    connections = []\n",
    "    directions = []\n",
    "\n",
    "    # Up\n",
    "    if y > 0:\n",
    "        connections.append(x + (y - 1) * size)  # Directly above\n",
    "        directions.append(\"up\")\n",
    "\n",
    "        # Diagonal up-left for even rows, up-right for odd rows\n",
    "        if y % 2 == 0:  # Even row\n",
    "            if x > 0:  # Only add if x > 0 (to avoid out-of-bound left cases)\n",
    "                connections.append((x - 1) + (y - 1) * size)  # Diagonal up-left\n",
    "                directions.append(\"up_left\")\n",
    "        else:  # Odd row\n",
    "            if x < size - 1:  # Only add if x < size-1 (to avoid out-of-bound right cases)\n",
    "                connections.append((x + 1) + (y - 1) * size)  # Diagonal up-right\n",
    "                directions.append(\"up_right\")\n",
    "    else:\n",
    "        connections.append(out_of_bounds_up)\n",
    "        directions.append(\"up\")\n",
    "\n",
    "    # Left\n",
    "    if x > 0:\n",
    "        connections.append((x - 1) + y * size)\n",
    "        directions.append(\"left\")\n",
    "    else:\n",
    "        connections.append(out_of_bounds_left)\n",
    "        directions.append(\"left\")\n",
    "\n",
    "    # Right\n",
    "    if x < size - 1:\n",
    "        connections.append((x + 1) + y * size)\n",
    "        directions.append(\"right\")\n",
    "    else:\n",
    "        connections.append(out_of_bounds_right)\n",
    "        directions.append(\"right\")\n",
    "\n",
    "    # Down\n",
    "    if y < size - 1:\n",
    "        connections.append(x + (y + 1) * size)  # Directly below\n",
    "        directions.append(\"down\")\n",
    "\n",
    "        # Diagonal down-left for even rows, down-right for odd rows\n",
    "        if y % 2 == 0:  # Even row\n",
    "            if x > 0:  # Only add if x > 0 (to avoid out-of-bound left cases)\n",
    "                connections.append((x - 1) + (y + 1) * size)  # Diagonal down-left\n",
    "                directions.append(\"down_left\")\n",
    "        else:  # Odd row\n",
    "            # Correct logic for down-right: Check grid boundary conditions\n",
    "            if x < size - 1 and (y + 1) * size + (x + 1) < size * size:  \n",
    "                # Only add if there is a valid neighbor (within bounds)\n",
    "                connections.append((x + 1) + (y + 1) * size)  # Diagonal down-right\n",
    "                directions.append(\"down_right\")\n",
    "    else:\n",
    "        connections.append(out_of_bounds_down)\n",
    "        directions.append(\"down\")\n",
    "\n",
    "    return connections, directions\n"
   ]
  },
  {
   "cell_type": "code",
   "execution_count": 57,
   "metadata": {},
   "outputs": [],
   "source": [
    "from numba import jit\n",
    "import pickle\n",
    "\n",
    "@jit\n",
    "def getConnections(size, x):\n",
    "        connections = []\n",
    "        directions = []\n",
    "\n",
    "        max_index = size**2-1\n",
    "        right = max_index + 1\n",
    "        left = max_index + 2\n",
    "        down = max_index + 3\n",
    "        up = max_index + 4\n",
    "\n",
    "        if x >= size:#If x is not on top row\n",
    "            connections.append(x-size)#Append top left\n",
    "            directions.append(\"up_left\")\n",
    "            if x%size != size-1:#If x is not on right column\n",
    "                connections.append(x-size+1) #Append top right\n",
    "                directions.append(\"up_right\")\n",
    "        else:\n",
    "            connections.append(up)\n",
    "            directions.append(\"Up\")\n",
    "        \n",
    "        if x%size != 0:#If x is not on left column\n",
    "            connections.append(x-1) #Append left\n",
    "            directions.append(\"left\")\n",
    "        else:\n",
    "            connections.append(left)\n",
    "            directions.append(\"Left\")\n",
    "\n",
    "        if x%size != size-1:#If x is not on right column\n",
    "            connections.append(x+1)#Append right\n",
    "            directions.append(\"right\")\n",
    "        else:\n",
    "            connections.append(right)\n",
    "            directions.append(\"Right\")\n",
    "        \n",
    "        if x < (size**2)-size: #If x is not on bottom row\n",
    "            connections.append(x+size)#Append bottom right\n",
    "            directions.append(\"down_right\")\n",
    "            if x%size != 0:#If x is not on left column\n",
    "                connections.append(x+size-1)#Append bottom left\n",
    "                directions.append(\"down_left\")\n",
    "        else:\n",
    "            directions.append(\"Down\")\n",
    "            connections.append(down)\n",
    "\n",
    "        \n",
    "            \n",
    "        return connections, directions\n",
    "            \n",
    "        #if y > 0:\n",
    "        #    connections.append([x, y-1])\n",
    "        #    if x < self.size-1:\n",
    "        #        connections.append([x+1, y-1])\n",
    "        #if x > 0:\n",
    "        #    connections.append([x-1, y])\n",
    "        #if x < self.size-1:\n",
    "        #    connections.append([x+1, y])\n",
    "        #if y < self.size-1:\n",
    "        #    connections.append([x, y+1])\n",
    "        #    if x > 0:\n",
    "        #        connections.append([x-1, y+1])\n",
    "\n",
    "\n",
    "def getConnectionsExhaustive(size):\n",
    "    fileConnections = f\"data/connections_{size}.pkl\"\n",
    "    fileDirections = f\"data/directions_{size}.pkl\"\n",
    "    try:\n",
    "        with open(fileConnections, 'rb') as fCon:\n",
    "            allConnections = pickle.load(fCon)\n",
    "        fCon.close()\n",
    "        with open(fileDirections, \"rb\") as fDir:\n",
    "            allDirections = pickle.load(fDir)\n",
    "        fDir.close()\n",
    "    except:\n",
    "        allConnections = []\n",
    "        allDirections = []\n",
    "        for i in range(size**2):\n",
    "            conn, dir = getConnections(size,i)\n",
    "            allConnections.append(conn)\n",
    "            allDirections.append(dir)\n",
    "        with open(fileConnections, \"wb\") as fCon:\n",
    "            pickle.dump(allConnections,fCon)\n",
    "        fCon.close()\n",
    "        with open(fileDirections, \"wb\") as fDir:\n",
    "            pickle.dump(allDirections, fDir)\n",
    "        fDir.close()\n",
    "    return allConnections, allDirections\n",
    "\n",
    "\n",
    "def getConnectionsOnlyColor(size,x,board, directional = False):\n",
    "        connections = []\n",
    "        directions = []\n",
    "\n",
    "        if not directional:\n",
    "            if board[x] == 0:\n",
    "                return [],[]\n",
    "\n",
    "\n",
    "        max_index = size**2-1\n",
    "        right = max_index + 1\n",
    "        left = max_index + 2\n",
    "        down = max_index + 3\n",
    "        up = max_index + 4\n",
    "\n",
    "        if x >= size:#If x is not on top row\n",
    "            if board[x-size] == 1:\n",
    "                connections.append(x-size)#Append top left\n",
    "                directions.append(\"up_left_red\")\n",
    "            if board[x-size] == -1:\n",
    "                connections.append(x-size)#Append top left\n",
    "                directions.append(\"up_left_blue\")\n",
    "            if x%size != size-1:#If x is not on right column\n",
    "                if board[x-size+1] == 1:\n",
    "                    connections.append(x-size+1) #Append top right\n",
    "                    directions.append(\"up_right_red\")\n",
    "                elif board[x-size+1] == -1:\n",
    "                    connections.append(x-size+1) #Append top right\n",
    "                    directions.append(\"up_right_blue\")\n",
    "        else:\n",
    "            connections.append(up)\n",
    "            directions.append(\"Up\")\n",
    "        \n",
    "        if x%size != 0:#If x is not on left column\n",
    "            if board[x-1] == 1:\n",
    "                directions.append(\"left_red\")\n",
    "                connections.append(x-1) #Append left\n",
    "            elif board[x-1] == -1:\n",
    "                connections.append(x-1) #Append left\n",
    "                directions.append(\"left_blue\")\n",
    "        else:\n",
    "            connections.append(left)\n",
    "            directions.append(\"Left\")\n",
    "\n",
    "        if x%size != size-1:#If x is not on right column\n",
    "            if board[x+1] == 1:\n",
    "                connections.append(x+1)#Append right\n",
    "                directions.append(\"right_red\")\n",
    "            elif board[x+1] == -1:\n",
    "                connections.append(x+1)#Append right\n",
    "                directions.append(\"right_blue\")\n",
    "        else:\n",
    "            connections.append(right)\n",
    "            directions.append(\"Right\")\n",
    "        \n",
    "        if x < (size**2)-size: #If x is not on bottom row\n",
    "            if board[x+size] == 1:\n",
    "                connections.append(x+size)#Append bottom right\n",
    "                directions.append(\"down_right_red\")\n",
    "            elif board[x+size] == -1:\n",
    "                connections.append(x+size)#Append bottom right\n",
    "                directions.append(\"down_right_blue\")\n",
    "            if x%size != 0:#If x is not on left column\n",
    "                if board[x+size-1] == 1:\n",
    "                    connections.append(x+size-1)#Append bottom left\n",
    "                    directions.append(\"down_left_red\")\n",
    "                elif board[x+size-1] == -1:\n",
    "                    connections.append(x+size-1)#Append bottom left\n",
    "                    directions.append(\"down_left_blue\")\n",
    "        else:\n",
    "            directions.append(\"Down\")\n",
    "            connections.append(down)\n",
    "\n",
    "        return connections, directions\n",
    "\n",
    "def getConnectionsInterColor(size,x,board, directional = False):\n",
    "        connections = []\n",
    "        directions = []\n",
    "        \n",
    "        c = board[x]\n",
    "\n",
    "        if not directional:\n",
    "            if c == 0:\n",
    "                return [],[]\n",
    "\n",
    "        max_index = size**2-1\n",
    "        right = max_index + 1\n",
    "        left = max_index + 2\n",
    "        down = max_index + 3\n",
    "        up = max_index + 4\n",
    "\n",
    "        if x >= size:#If x is not on top row\n",
    "            if board[x-size] == c:\n",
    "                connections.append(x-size)#Append top left\n",
    "                directions.append(\"up_left\")\n",
    "            if x%size != size-1:#If x is not on right column\n",
    "                if board[x-size+1] == c:\n",
    "                    connections.append(x-size+1) #Append top right\n",
    "                    directions.append(\"up_right\")\n",
    "        else:\n",
    "            connections.append(up)\n",
    "            directions.append(\"Up\")\n",
    "        \n",
    "        if x%size != 0:#If x is not on left column\n",
    "            if board[x-1] == c:\n",
    "                connections.append(x-1) #Append left\n",
    "                directions.append(\"left\")\n",
    "        else:\n",
    "            connections.append(left)\n",
    "            directions.append(\"Left\")\n",
    "\n",
    "        if x%size != size-1:#If x is not on right column\n",
    "            if board[x+1] == c:\n",
    "                connections.append(x+1)#Append right\n",
    "                directions.append(\"right\")\n",
    "        else:\n",
    "            connections.append(right)\n",
    "            directions.append(\"Right\")\n",
    "        \n",
    "        if x < (size**2)-size: #If x is not on bottom row\n",
    "            if board[x+size] == c:\n",
    "                connections.append(x+size)#Append bottom right\n",
    "                directions.append(\"down_right\")\n",
    "            if x%size != 0:#If x is not on left column\n",
    "                if board[x+size-1] == c:\n",
    "                    connections.append(x+size-1)#Append bottom left\n",
    "                    directions.append(\"down_left_red\")\n",
    "        else:\n",
    "            directions.append(\"Down\")\n",
    "            connections.append(down)\n",
    "\n",
    "        return connections, directions\n",
    "\n",
    "@jit\n",
    "def getConnectionsColor(size,x,board):\n",
    "        connections = []\n",
    "        directions = []\n",
    "\n",
    "        max_index = size**2-1\n",
    "        right = max_index + 1\n",
    "        left = max_index + 2\n",
    "        down = max_index + 3\n",
    "        up = max_index + 4\n",
    "\n",
    "        if x >= size:#If x is not on top row\n",
    "            connections.append(x-size)#Append top left\n",
    "            if board[x-size] == 1:\n",
    "                directions.append(\"up_left_red\")\n",
    "            if board[x-size] == -1:\n",
    "                directions.append(\"up_left_blue\")\n",
    "            else:\n",
    "                directions.append(\"up_left_empty\")\n",
    "            if x%size != size-1:#If x is not on right column\n",
    "                connections.append(x-size+1) #Append top right\n",
    "                if board[x-size+1] == 1:\n",
    "                    directions.append(\"up_right_red\")\n",
    "                elif board[x-size+1] == -1:\n",
    "                    directions.append(\"up_right_blue\")\n",
    "                else:\n",
    "                    directions.append(\"up_right_empty\")\n",
    "        else:\n",
    "            connections.append(up)\n",
    "            directions.append(\"Up\")\n",
    "        \n",
    "        if x%size != 0:#If x is not on left column\n",
    "            connections.append(x-1) #Append left\n",
    "            if board[x-1] == 1:\n",
    "                directions.append(\"left_red\")\n",
    "            elif board[x-1] == -1:\n",
    "                directions.append(\"left_blue\")\n",
    "            else:\n",
    "                directions.append(\"left_empty\")\n",
    "        else:\n",
    "            connections.append(left)\n",
    "            directions.append(\"Left\")\n",
    "\n",
    "        if x%size != size-1:#If x is not on right column\n",
    "            connections.append(x+1)#Append right\n",
    "            if board[x+1] == 1:\n",
    "                directions.append(\"right_red\")\n",
    "            elif board[x+1] == -1:\n",
    "                directions.append(\"right_blue\")\n",
    "            else:\n",
    "                directions.append(\"right_empty\")\n",
    "        else:\n",
    "            connections.append(right)\n",
    "            directions.append(\"Right\")\n",
    "        \n",
    "        if x < (size**2)-size: #If x is not on bottom row\n",
    "            connections.append(x+size)#Append bottom right\n",
    "            if board[x+size] == 1:\n",
    "                directions.append(\"down_right_red\")\n",
    "            elif board[x+size] == -1:\n",
    "                directions.append(\"down_right_blue\")\n",
    "            else:\n",
    "                directions.append(\"down_right_empty\")\n",
    "            if x%size != 0:#If x is not on left column\n",
    "                connections.append(x+size-1)#Append bottom left\n",
    "                if board[x+size-1] == 1:\n",
    "                    directions.append(\"down_left_red\")\n",
    "                elif board[x+size-1] == -1:\n",
    "                    directions.append(\"down_left_blue\")\n",
    "                else:\n",
    "                    directions.append(\"down_left_empty\")\n",
    "        else:\n",
    "            directions.append(\"Down\")\n",
    "            connections.append(down)\n",
    "\n",
    "        return connections, directions"
   ]
  },
  {
   "cell_type": "code",
   "execution_count": 58,
   "metadata": {},
   "outputs": [
    {
     "data": {
      "text/plain": [
       "array([[ 1,  0, -1, ...,  0,  1,  1],\n",
       "       [ 0,  0,  0, ...,  0,  0,  1],\n",
       "       [-1,  1,  0, ...,  1,  0,  1],\n",
       "       ...,\n",
       "       [ 0, -1,  1, ...,  1,  0,  0],\n",
       "       [-1,  1, -1, ...,  1,  1,  0],\n",
       "       [ 1,  1, -1, ...,  0,  1,  1]])"
      ]
     },
     "execution_count": 58,
     "metadata": {},
     "output_type": "execute_result"
    }
   ],
   "source": [
    "# read the data from data/hex_games_1_000_000_size_7.csv\n",
    "data = np.genfromtxt('data/11x11_200000_40_0.csv', delimiter=',', dtype=np.int32, skip_header=1, max_rows=400000)\n",
    "#data = np.genfromtxt('data/hex_games_8x8_34.csv', delimiter=',', dtype=np.int32, skip_header=1, max_rows=400000)\n",
    "data\n"
   ]
  },
  {
   "cell_type": "code",
   "execution_count": 59,
   "metadata": {},
   "outputs": [
    {
     "name": "stdout",
     "output_type": "stream",
     "text": [
      "139606\n"
     ]
    }
   ],
   "source": [
    "#sumsamples = 30\n",
    "#np.random.shuffle(data)\n",
    "#data = data[:sumsamples]\n",
    "data = np.unique(data,axis=0)\n",
    "print(len(data))\n",
    "# duplicate the data 100 times\n",
    "#data = np.repeat(data, 1000, axis=0)"
   ]
  },
  {
   "cell_type": "code",
   "execution_count": 60,
   "metadata": {},
   "outputs": [
    {
     "data": {
      "text/plain": [
       "(139606, 123)"
      ]
     },
     "execution_count": 60,
     "metadata": {},
     "output_type": "execute_result"
    }
   ],
   "source": [
    "data.shape"
   ]
  },
  {
   "cell_type": "markdown",
   "metadata": {},
   "source": []
  },
  {
   "cell_type": "code",
   "execution_count": 61,
   "metadata": {},
   "outputs": [
    {
     "data": {
      "text/plain": [
       "(121,)"
      ]
     },
     "execution_count": 61,
     "metadata": {},
     "output_type": "execute_result"
    }
   ],
   "source": [
    "# separate the last column from the rest of the data\n",
    "X_data = data[:, :-2]\n",
    "Y_data = data[:, -1]\n",
    "X_data[0].shape"
   ]
  },
  {
   "cell_type": "code",
   "execution_count": 62,
   "metadata": {},
   "outputs": [
    {
     "data": {
      "text/plain": [
       "0.49888256951706944"
      ]
     },
     "execution_count": 62,
     "metadata": {},
     "output_type": "execute_result"
    }
   ],
   "source": [
    "Y_data.mean()"
   ]
  },
  {
   "cell_type": "code",
   "execution_count": 63,
   "metadata": {},
   "outputs": [],
   "source": [
    "from sklearn.model_selection import train_test_split\n",
    "# train test splitt\n",
    "\n",
    "X_train, X_test, Y_train, Y_test = train_test_split(X_data, Y_data, test_size=0.2, random_state=42)\n",
    "board_size = int(np.sqrt(X_data.shape[1]))\n",
    "number_of_nodes = board_size*board_size\n",
    "    \n"
   ]
  },
  {
   "cell_type": "code",
   "execution_count": 64,
   "metadata": {},
   "outputs": [],
   "source": [
    "def makeGraphs(boards, connected_diff = True, connected_same = False, temp_encoding = True, edge_nodes = False, connectionsColor = True, connectionsOnlyColor = False, connectionsInterColor = False, directionalEncodingEmpty = False, gap = False, other_graph=None):\n",
    "    \n",
    "    if connectionsInterColor:\n",
    "        connectionsOnlyColor = False\n",
    "        connectionsColor = False\n",
    "    elif connectionsOnlyColor:\n",
    "        connectionsColor = False\n",
    "\n",
    "\n",
    "    hypervector_bits = 2\n",
    "    hypervector_size = 128\n",
    "\n",
    "    board_size = int(np.sqrt(boards.shape[1]))\n",
    "    number_of_nodes = board_size**2\n",
    "    \n",
    "    symbol_names = ['RED', 'BLUE']\n",
    "    edges = ['UP', 'DOWN', 'RIGHT','LEFT']\n",
    "    edge_directions = [\"Up\", \"Down\", \"Right\", \"Left\"]\n",
    "\n",
    "    if edge_nodes:\n",
    "        symbol_names.extend(edges)\n",
    "\n",
    "    for i in range(board_size):\n",
    "        symbol_names.append(f'ROW_{i}')\n",
    "        symbol_names.append(f'COL_{i}')\n",
    "\n",
    "    #symbol_names.append(f\"BLUE_NEIGHBOURS\") \n",
    "    #symbol_names.append(f\"RED_NEIGHBOURS\")\n",
    "    if connected_diff:\n",
    "        symbol_names.append(\"CONNECTED_BLUE\")\n",
    "        symbol_names.append(\"CONNECTED_RED\")\n",
    "    elif connected_same:\n",
    "        symbol_names.append(\"CONNECTED\")\n",
    "    if gap:\n",
    "        symbol_names.extend([\"GAP_BLUE\", \"GAP_RED\"])\n",
    "    #symbol_names.extend([\"LEFT_EMPTY\", \"RIGHT_EMPTY\", \"UP_EMPTY\", \"DOWN_EMPTY\"])\n",
    "\n",
    "    max_index = number_of_nodes-1\n",
    "\n",
    "    right_index = max_index + 1\n",
    "    left_index = max_index + 2\n",
    "    down_index = max_index + 3\n",
    "    up_index = max_index + 4\n",
    "\n",
    "    edge_indexes = [right_index,left_index,down_index,up_index]\n",
    "\n",
    "\n",
    "    if other_graph:\n",
    "        print(\"Test\")\n",
    "        graphs = Graphs(boards.shape[0],init_with=other_graph)\n",
    "    else:\n",
    "        graphs = Graphs(boards.shape[0],symbols=symbol_names, hypervector_size=hypervector_size, hypervector_bits=hypervector_bits, double_hashing = False)\n",
    "\n",
    "    for graph_id in range(boards.shape[0]):\n",
    "        if edge_nodes:\n",
    "            graphs.set_number_of_graph_nodes(graph_id, number_of_nodes+4)\n",
    "        else:\n",
    "            graphs.set_number_of_graph_nodes(graph_id, number_of_nodes)\n",
    "    graphs.prepare_node_configuration()\n",
    "    # add up, down, left, right nodes\n",
    "    #X_trainfor graph_id in range(X_train.shape[0]):\n",
    "\n",
    "\n",
    "\n",
    "\n",
    "    # add up, down, left, right nodes\n",
    "\n",
    "\n",
    "\n",
    "\n",
    "    # Add nodes to each graph\n",
    "    for graph_id in range(boards.shape[0]):\n",
    "        for node_id in range(number_of_nodes):\n",
    "            if connectionsInterColor:\n",
    "                if edge_nodes:\n",
    "                    nr_neighbours = len(getConnectionsInterColor(board_size, node_id,boards[graph_id],directionalEncodingEmpty)[0])\n",
    "                else:\n",
    "                    nr_neighbours = len([i for i in getConnectionsInterColor(board_size,node_id,boards[graph_id],directionalEncodingEmpty)[0] if i not in edge_indexes])\n",
    "                graphs.add_graph_node(graph_id, node_id, nr_neighbours) \n",
    "            elif connectionsOnlyColor:\n",
    "                if edge_nodes:\n",
    "                    nr_neighbours = len(getConnectionsOnlyColor(board_size, node_id,boards[graph_id],directionalEncodingEmpty)[0])\n",
    "                else:\n",
    "                    nr_neighbours = len([i for i in getConnectionsOnlyColor(board_size,node_id,boards[graph_id],directionalEncodingEmpty)[0] if i not in edge_indexes])\n",
    "            else:\n",
    "                if edge_nodes:\n",
    "                    nr_neighbours = len(getConnections(board_size, node_id)[0])\n",
    "                else:\n",
    "                    nr_neighbours = len([i for i in getConnections(board_size,node_id)[0] if i not in edge_indexes])\n",
    "            graphs.add_graph_node(graph_id, node_id, nr_neighbours) \n",
    "        if edge_nodes:\n",
    "            graphs.add_graph_node(graph_id, right_index, board_size)\n",
    "            graphs.add_graph_node(graph_id, left_index, board_size)\n",
    "            graphs.add_graph_node(graph_id, down_index,board_size)\n",
    "            graphs.add_graph_node(graph_id, up_index, board_size)\n",
    "\n",
    "    graphs.prepare_edge_configuration()\n",
    "\n",
    "    allConnections, allDirections = getConnectionsExhaustive(board_size)\n",
    "    for graph_id in range(boards.shape[0]):\n",
    "        for node_id in range(number_of_nodes+4):\n",
    "            edge_type = 0\n",
    "            if node_id<number_of_nodes:\n",
    "                \n",
    "                if connectionsInterColor:\n",
    "                    neighbors, directions = getConnectionsInterColor(board_size, node_id,boards[graph_id],directionalEncodingEmpty)\n",
    "\n",
    "                elif connectionsOnlyColor:\n",
    "                    neighbors, directions = getConnectionsOnlyColor(board_size, node_id,boards[graph_id],directionalEncodingEmpty)\n",
    "\n",
    "                elif connectionsColor:\n",
    "                    neighbors, directions = getConnectionsColor(board_size,node_id,boards[graph_id])\n",
    "                else:\n",
    "                    neighbors, directions = getConnections(board_size, node_id)\n",
    "\n",
    "                if not edge_nodes:\n",
    "                    neighbors = [i for i in neighbors if i not in edge_indexes]\n",
    "                    directions = [i for i in directions if i not in edge_directions]\n",
    "\n",
    "                for neighbor_id,dir in zip(neighbors,directions):\n",
    "                    graphs.add_graph_node_edge(graph_id, node_id, neighbor_id,dir)\n",
    "\n",
    "            \n",
    "\n",
    "            \n",
    "\n",
    "                node_value = boards[graph_id, node_id]\n",
    "\n",
    "                redCount = 0\n",
    "                blueCount = 0\n",
    "\n",
    "                for i in neighbors:\n",
    "                    if i<board_size**2:\n",
    "                        if boards[graph_id,i] == 1:\n",
    "                            redCount += 1\n",
    "                        elif boards[graph_id,i] == -1:\n",
    "                            blueCount += 1\n",
    "                \n",
    "                #if node_value != 0:\n",
    "                #    if redCount > 1:\n",
    "                #        graphs_train.add_graph_node_property(graph_id,node_id, f\"RED_NEIGHBOURS\")\n",
    "                #    if blueCount > 1:\n",
    "                #        graphs_train.add_graph_node_property(graph_id,node_id, f\"BLUE_NEIGHBOURS\")\n",
    "\n",
    "                    if node_value == 1:\n",
    "                        graphs.add_graph_node_property(graph_id, node_id, 'RED')\n",
    "                        if connected_diff:\n",
    "                            if (redCount > 1) or (redCount != 0 and node_id >= (board_size**2)-board_size) or (redCount != 0 and node_id<board_size):\n",
    "                                graphs.add_graph_node_property(graph_id, node_id, \"CONNECTED_RED\")\n",
    "                            \n",
    "                    elif node_value == -1:\n",
    "                        graphs.add_graph_node_property(graph_id, node_id, 'BLUE')\n",
    "                        if connected_diff:\n",
    "                            if (blueCount > 1) or (blueCount != 0 and node_id%board_size == 0) or (blueCount != 0 and node_id%board_size == board_size-1):\n",
    "                                graphs.add_graph_node_property(graph_id, node_id, \"CONNECTED_BLUE\")\n",
    "\n",
    "                if node_value == 0:\n",
    "                    if gap:\n",
    "                        if (blueCount > 1) or (blueCount != 0 and node_id%board_size == 0) or (blueCount != 0 and node_id%board_size == board_size-1):\n",
    "                            graphs.add_graph_node_property(graph_id, node_id, \"GAP_BLUE\")\n",
    "                        if (redCount > 1) or (redCount != 0 and node_id >= (board_size**2)-board_size) or (redCount != 0 and node_id<board_size):\n",
    "                            graphs.add_graph_node_property(graph_id, node_id, \"GAP_RED\")\n",
    "\n",
    "                    #if (blueCount > 1) or (blueCount != 0 and left_index in neighbors) or (blueCount != 0 and right_index in neighbors):\n",
    "                    #    graphs_train.add_graph_node_property(graph_id, node_id, \"CONNECTED_BLUE\")\n",
    "                    #if (redCount > 1) or (redCount != 0 and down_index in neighbors) or (redCount != 0 and up_index in neighbors):\n",
    "                    #    graphs_train.add_graph_node_property(graph_id, node_id, \"CONNECTED_RED\")\n",
    "                    #graphs_train.add_graph_node_property(graph_id, node_id, 'EMPTY')\n",
    "                    #if left_index in neighbors:\n",
    "                    #    graphs_train.add_graph_node_property(graph_id, node_id, 'LEFT_EMPTY')\n",
    "                    #elif right_index in neighbors:\n",
    "                    #    graphs_train.add_graph_node_property(graph_id, node_id, 'RIGHT_EMPTY')\n",
    "                    #if up_index in neighbors:\n",
    "                    #    graphs_train.add_graph_node_property(graph_id, node_id, 'UP_EMPTY')\n",
    "                    #elif down_index in neighbors:\n",
    "                    #    graphs_train.add_graph_node_property(graph_id, node_id, 'DOWN_EMPTY')\n",
    "                        \n",
    "\n",
    "                    \n",
    "                row = node_id // board_size\n",
    "                col = node_id % board_size\n",
    "                \n",
    "                    \n",
    "        \n",
    "                #    graphs_train.add_graph_node_property(graph_id, node_id, f'ROW_{row}COL_{col}')\n",
    "                if temp_encoding:\n",
    "                    for r in range(row+1):\n",
    "                        graphs.add_graph_node_property(graph_id, node_id, f'ROW_{r}')\n",
    "                    for c in range(col+1):\n",
    "                        graphs.add_graph_node_property(graph_id, node_id, f'COL_{c}')\n",
    "                else:\n",
    "                        graphs.add_graph_node_property(graph_id, node_id, f'ROW_{row}')\n",
    "                        graphs.add_graph_node_property(graph_id, node_id, f'COL_{col}')\n",
    "            if edge_nodes:\n",
    "                if node_id == right_index:\n",
    "                    neighbors = [i for i in range(board_size-1,board_size*board_size,board_size)]\n",
    "                    edge_type = 'Right'\n",
    "                    for neighbor_id in neighbors:\n",
    "                        graphs.add_graph_node_edge(graph_id, node_id, neighbor_id,edge_type)\n",
    "                    graphs.add_graph_node_property(graph_id, node_id, 'RIGHT')\n",
    "                if node_id == left_index:\n",
    "                    neighbors = [i for i in range(0,board_size*board_size,board_size)]\n",
    "                    edge_type = 'Left'\n",
    "                    for neighbor_id in neighbors:\n",
    "                        graphs.add_graph_node_edge(graph_id, node_id, neighbor_id,edge_type)\n",
    "                    graphs.add_graph_node_property(graph_id, node_id, 'LEFT')\n",
    "                if node_id == down_index:\n",
    "                    neighbors = [i for i in range(board_size*board_size-board_size,board_size*board_size,1)]\n",
    "                    edge_type = 'Down'\n",
    "                    for neighbor_id in neighbors:\n",
    "                        graphs.add_graph_node_edge(graph_id, node_id, neighbor_id,edge_type)\n",
    "                    graphs.add_graph_node_property(graph_id, node_id, 'DOWN')\n",
    "                if node_id == up_index:\n",
    "                    neighbors = [i for i in range(board_size)]\n",
    "                    edge_type = 'Up'\n",
    "                    for neighbor_id in neighbors:\n",
    "                        graphs.add_graph_node_edge(graph_id, node_id, neighbor_id,edge_type)\n",
    "                    graphs.add_graph_node_property(graph_id, node_id, 'UP')\n",
    "\n",
    "    graphs.encode()\n",
    "    return graphs"
   ]
  },
  {
   "cell_type": "code",
   "execution_count": 65,
   "metadata": {},
   "outputs": [],
   "source": [
    "\n",
    "\n",
    "import pickle\n",
    "\n",
    "def makeGraphWrapper(X_train, Y_train, X_test, Y_test, moves, arr):\n",
    "\n",
    "    if 0 in arr:\n",
    "        graphs_train = makeGraphs(X_train)\n",
    "        graphs_test = makeGraphs(X_test,other_graph=graphs_train)\n",
    "\n",
    "        with open(f'pickled_graphs/default_{moves}.pkl', 'wb') as f:\n",
    "            pickle.dump((graphs_train, graphs_test, X_train, Y_train, X_test, Y_test), f)\n",
    "        f.close()\n",
    "\n",
    "    if 1 in arr:\n",
    "        graphs_train = makeGraphs(X_train, edge_nodes=True)\n",
    "        graphs_test = makeGraphs(X_test, edge_nodes=True,other_graph=graphs_train)\n",
    "\n",
    "        with open(f'pickled_graphs/edgenodes_{moves}.pkl', 'wb') as f:\n",
    "            pickle.dump((graphs_train, graphs_test, X_train, Y_train, X_test, Y_test), f)\n",
    "        f.close()\n",
    "\n",
    "    if 2 in arr:\n",
    "        graphs_train = makeGraphs(X_train, connected_diff=False)\n",
    "        graphs_test = makeGraphs(X_test, connected_diff=False,other_graph=graphs_train)\n",
    "\n",
    "        with open(f'pickled_graphs/noConnected_{moves}.pkl', 'wb') as f:\n",
    "            pickle.dump((graphs_train, graphs_test, X_train, Y_train, X_test, Y_test), f)\n",
    "        f.close()\n",
    "\n",
    "\n",
    "    if 3 in arr:\n",
    "        graphs_train = makeGraphs(X_train, connectionsOnlyColor=True)\n",
    "        graphs_test = makeGraphs(X_test, connectionsOnlyColor=True,other_graph=graphs_train)\n",
    "\n",
    "        with open(f'pickled_graphs/undirectedConnectionsOnlyColor_{moves}.pkl', 'wb') as f:\n",
    "            pickle.dump((graphs_train, graphs_test, X_train, Y_train, X_test, Y_test), f)\n",
    "        f.close()\n",
    "\n",
    "    if 4 in arr:\n",
    "        graphs_train = makeGraphs(X_train, connectionsOnlyColor=True, directionalEncodingEmpty=True)\n",
    "        graphs_test = makeGraphs(X_test, connectionsOnlyColor=True, directionalEncodingEmpty=True,other_graph=graphs_train)\n",
    "\n",
    "        with open(f'pickled_graphs/directedConnectionsOnlyColor_{moves}.pkl', 'wb') as f:\n",
    "            pickle.dump((graphs_train, graphs_test, X_train, Y_train, X_test, Y_test), f)\n",
    "        f.close()\n",
    "\n",
    "    if 5 in arr:\n",
    "        graphs_train = makeGraphs(X_train, connectionsInterColor=True)\n",
    "        graphs_test = makeGraphs(X_test, connectionsInterColor=True,other_graph=graphs_train)\n",
    "\n",
    "        with open(f'pickled_graphs/undirectedConnectionsInterColor_{moves}.pkl', 'wb') as f:\n",
    "            pickle.dump((graphs_train, graphs_test, X_train, Y_train, X_test, Y_test), f)\n",
    "        f.close()\n",
    "\n",
    "    if 6 in arr:\n",
    "        graphs_train = makeGraphs(X_train, connectionsInterColor=True, directionalEncodingEmpty=True)\n",
    "        graphs_test = makeGraphs(X_test, connectionsInterColor=True, directionalEncodingEmpty=True, other_graph=graphs_train)\n",
    "\n",
    "        with open(f'pickled_graphs/directedConnectionsInterColor_{moves}.pkl', 'wb') as f:\n",
    "            pickle.dump((graphs_train, graphs_test, X_train, Y_train, X_test, Y_test), f)\n",
    "        f.close()\n",
    "\n",
    "    if 7 in arr:\n",
    "        graphs_train = makeGraphs(X_train,temp_encoding=False)\n",
    "        graphs_test = makeGraphs(X_test,temp_encoding=False,other_graph=graphs_train)\n",
    "\n",
    "        with open(f'pickled_graphs/noTempEncoding_{moves}.pkl', 'wb') as f:\n",
    "            pickle.dump((graphs_train, graphs_test, X_train, Y_train, X_test, Y_test), f)\n",
    "        f.close()\n",
    "    \n",
    "    if 8 in arr:\n",
    "        graphs_train = makeGraphs(X_train,gap=True)\n",
    "        graphs_test = makeGraphs(X_test, gap=True,other_graph=graphs_train)\n",
    "\n",
    "        with open(f'pickled_graphs/gapEncoding_{moves}.pkl', 'wb') as f:\n",
    "            pickle.dump((graphs_train, graphs_test, X_train, Y_train, X_test, Y_test), f)\n",
    "        f.close()"
   ]
  },
  {
   "cell_type": "code",
   "execution_count": 66,
   "metadata": {},
   "outputs": [
    {
     "name": "stdout",
     "output_type": "stream",
     "text": [
      "Test\n",
      "Test\n",
      "len data 2 139606\n",
      "Test\n",
      "Test\n",
      "len data 5 139606\n",
      "Test\n",
      "Test\n"
     ]
    }
   ],
   "source": [
    "makeGraphWrapper(X_train,Y_train,X_test,Y_test,0,[0,2])\n",
    "\n",
    "data2 = np.genfromtxt('data/11x11_200000_40_2.csv', delimiter=',', dtype=np.int32, skip_header=1, max_rows=400000)\n",
    "data2 = np.unique(data2,axis=0)\n",
    "print(\"len data 2\", len(data2))\n",
    "\n",
    "X_data2 = data2[:, :-2]\n",
    "Y_data2 = data2[:, -1]\n",
    "\n",
    "X_train2, X_test2, Y_train2, Y_test2 = train_test_split(X_data2, Y_data2, test_size=0.2, random_state=42)\n",
    "\n",
    "makeGraphWrapper(X_train2,Y_train2,X_test2,Y_test2,2,[0,2])\n",
    "\n",
    "data5 = np.genfromtxt('data/11x11_200000_40_5.csv', delimiter=',', dtype=np.int32, skip_header=1, max_rows=400000)\n",
    "data5 = np.unique(data5,axis=0)\n",
    "print(\"len data 5\", len(data5))\n",
    "\n",
    "X_data5 = data5[:, :-2]\n",
    "Y_data5 = data5[:, -1]\n",
    "\n",
    "X_train5, X_test5, Y_train5, Y_test5 = train_test_split(X_data5, Y_data5, test_size=0.2, random_state=42)\n",
    "\n",
    "makeGraphWrapper(X_train5,Y_train5,X_test5,Y_test5,5,[0,2])"
   ]
  },
  {
   "cell_type": "code",
   "execution_count": 67,
   "metadata": {},
   "outputs": [
    {
     "ename": "KeyboardInterrupt",
     "evalue": "",
     "output_type": "error",
     "traceback": [
      "\u001b[1;31m---------------------------------------------------------------------------\u001b[0m",
      "\u001b[1;31mKeyboardInterrupt\u001b[0m                         Traceback (most recent call last)",
      "Cell \u001b[1;32mIn[67], line 1\u001b[0m\n\u001b[1;32m----> 1\u001b[0m graphs_train \u001b[38;5;241m=\u001b[39m \u001b[43mmakeGraphs\u001b[49m\u001b[43m(\u001b[49m\u001b[43mX_train\u001b[49m\u001b[43m,\u001b[49m\u001b[43m \u001b[49m\u001b[43mconnected_diff\u001b[49m\u001b[38;5;241;43m=\u001b[39;49m\u001b[38;5;28;43;01mFalse\u001b[39;49;00m\u001b[43m)\u001b[49m\n",
      "Cell \u001b[1;32mIn[64], line 89\u001b[0m, in \u001b[0;36mmakeGraphs\u001b[1;34m(boards, connected_diff, connected_same, temp_encoding, edge_nodes, connectionsColor, connectionsOnlyColor, connectionsInterColor, directionalEncodingEmpty, gap, other_graph)\u001b[0m\n\u001b[0;32m     87\u001b[0m             nr_neighbours \u001b[38;5;241m=\u001b[39m \u001b[38;5;28mlen\u001b[39m(getConnections(board_size, node_id)[\u001b[38;5;241m0\u001b[39m])\n\u001b[0;32m     88\u001b[0m         \u001b[38;5;28;01melse\u001b[39;00m:\n\u001b[1;32m---> 89\u001b[0m             nr_neighbours \u001b[38;5;241m=\u001b[39m \u001b[38;5;28mlen\u001b[39m([i \u001b[38;5;28;01mfor\u001b[39;00m i \u001b[38;5;129;01min\u001b[39;00m getConnections(board_size,node_id)[\u001b[38;5;241m0\u001b[39m] \u001b[38;5;28;01mif\u001b[39;00m i \u001b[38;5;129;01mnot\u001b[39;00m \u001b[38;5;129;01min\u001b[39;00m edge_indexes])\n\u001b[0;32m     90\u001b[0m     graphs\u001b[38;5;241m.\u001b[39madd_graph_node(graph_id, node_id, nr_neighbours) \n\u001b[0;32m     91\u001b[0m \u001b[38;5;28;01mif\u001b[39;00m edge_nodes:\n",
      "Cell \u001b[1;32mIn[64], line 89\u001b[0m, in \u001b[0;36m<listcomp>\u001b[1;34m(.0)\u001b[0m\n\u001b[0;32m     87\u001b[0m             nr_neighbours \u001b[38;5;241m=\u001b[39m \u001b[38;5;28mlen\u001b[39m(getConnections(board_size, node_id)[\u001b[38;5;241m0\u001b[39m])\n\u001b[0;32m     88\u001b[0m         \u001b[38;5;28;01melse\u001b[39;00m:\n\u001b[1;32m---> 89\u001b[0m             nr_neighbours \u001b[38;5;241m=\u001b[39m \u001b[38;5;28mlen\u001b[39m([i \u001b[38;5;28;01mfor\u001b[39;00m i \u001b[38;5;129;01min\u001b[39;00m getConnections(board_size,node_id)[\u001b[38;5;241m0\u001b[39m] \u001b[38;5;28;01mif\u001b[39;00m i \u001b[38;5;129;01mnot\u001b[39;00m \u001b[38;5;129;01min\u001b[39;00m edge_indexes])\n\u001b[0;32m     90\u001b[0m     graphs\u001b[38;5;241m.\u001b[39madd_graph_node(graph_id, node_id, nr_neighbours) \n\u001b[0;32m     91\u001b[0m \u001b[38;5;28;01mif\u001b[39;00m edge_nodes:\n",
      "\u001b[1;31mKeyboardInterrupt\u001b[0m: "
     ]
    }
   ],
   "source": [
    "graphs_train = makeGraphs(X_train, connected_diff=False)"
   ]
  },
  {
   "cell_type": "code",
   "execution_count": null,
   "metadata": {},
   "outputs": [
    {
     "name": "stdout",
     "output_type": "stream",
     "text": [
      "Test\n"
     ]
    }
   ],
   "source": [
    "\n",
    "graphs_test = makeGraphs(X_test, connected_diff=False, other_graph=graphs_train)\n"
   ]
  },
  {
   "cell_type": "code",
   "execution_count": 18,
   "metadata": {},
   "outputs": [],
   "source": [
    "# pickle dump all the  (graphs_train, graphs_test, X_train, Y_train, X_test, Y_test)\n",
    "import pickle\n",
    "with open('data.pkl', 'wb') as f:\n",
    "    pickle.dump((graphs_train, graphs_test, X_train, Y_train, X_test, Y_test), f)\n"
   ]
  },
  {
   "cell_type": "markdown",
   "metadata": {},
   "source": []
  },
  {
   "cell_type": "markdown",
   "metadata": {},
   "source": []
  },
  {
   "cell_type": "code",
   "execution_count": 36,
   "metadata": {},
   "outputs": [],
   "source": [
    "from GraphTsetlinMachine.tm import MultiClassGraphTsetlinMachine"
   ]
  },
  {
   "cell_type": "code",
   "execution_count": 47,
   "metadata": {},
   "outputs": [],
   "source": [
    "number_of_nodes = board_size*board_size\n",
    "number_of_clauses = 3900\n",
    "T = number_of_clauses*1.5971422963103452\n",
    "depth = 1\n",
    "s = 1.051723993754933015*2\n",
    "message_size = 64\n",
    "message_bits = 3\n",
    "max_included_literals = 59\n",
    "number_of_states = 200\n",
    "epochs = 40"
   ]
  },
  {
   "cell_type": "code",
   "execution_count": 48,
   "metadata": {},
   "outputs": [
    {
     "name": "stdout",
     "output_type": "stream",
     "text": [
      "Number of Graphs: 111684\n",
      "Number of Nodes: 13513764\n",
      "X Shape: (13513764, 8)\n",
      "Edge Array Shape: (12027932, 2)\n",
      "Node Index Array: [       0      121      242 ... 13513401 13513522 13513643]\n",
      "Edge Index Array: [       0        0        0 ... 12027930 12027931 12027932]\n"
     ]
    }
   ],
   "source": [
    "# Verify sizes and shapes\n",
    "print(f\"Number of Graphs: {graphs_train.number_of_graphs}\")\n",
    "print(f\"Number of Nodes: {graphs_train.number_of_nodes}\")\n",
    "print(f\"X Shape: {graphs_train.X.shape}\")\n",
    "print(f\"Edge Array Shape: {graphs_train.edge.shape}\")\n",
    "\n",
    "# Check indices\n",
    "print(f\"Node Index Array: {graphs_train.node_index}\")\n",
    "print(f\"Edge Index Array: {graphs_train.edge_index}\")\n"
   ]
  },
  {
   "cell_type": "code",
   "execution_count": 49,
   "metadata": {},
   "outputs": [
    {
     "name": "stdout",
     "output_type": "stream",
     "text": [
      "Initialization of sparse structure.\n"
     ]
    }
   ],
   "source": [
    "tm = MultiClassGraphTsetlinMachine(\n",
    "    number_of_clauses, T, s, depth=depth, message_size = message_size,\n",
    "    message_bits = message_bits, number_of_state_bits = 8, max_included_literals = max_included_literals,\n",
    "    grid=(16*13,1,1),\n",
    "  \tblock=(128,1,1)\n",
    "\n",
    ")\n"
   ]
  },
  {
   "cell_type": "code",
   "execution_count": 50,
   "metadata": {},
   "outputs": [
    {
     "data": {
      "text/plain": [
       "0.4985316238091827"
      ]
     },
     "execution_count": 50,
     "metadata": {},
     "output_type": "execute_result"
    }
   ],
   "source": [
    "Y_test.mean()"
   ]
  },
  {
   "cell_type": "code",
   "execution_count": 51,
   "metadata": {
    "scrolled": true
   },
   "outputs": [
    {
     "name": "stderr",
     "output_type": "stream",
     "text": [
      "c:\\Users\\isakk\\anaconda3\\envs\\NorBertTest1\\lib\\site-packages\\GraphTsetlinMachine\\tm.py:195: UserWarning: The CUDA compiler succeeded, but said the following:\n",
      "kernel.cu\n",
      "\n",
      "  mod_prepare = SourceModule(parameters + kernels.code_header + kernels.code_prepare, no_extern_c=True)\n",
      "c:\\Users\\isakk\\anaconda3\\envs\\NorBertTest1\\lib\\site-packages\\GraphTsetlinMachine\\tm.py:202: UserWarning: The CUDA compiler succeeded, but said the following:\n",
      "kernel.cu\n",
      "\n",
      "  mod_update = SourceModule(parameters + kernels.code_header + kernels.code_update, no_extern_c=True)\n",
      "c:\\Users\\isakk\\anaconda3\\envs\\NorBertTest1\\lib\\site-packages\\GraphTsetlinMachine\\tm.py:209: UserWarning: The CUDA compiler succeeded, but said the following:\n",
      "kernel.cu\n",
      "\n",
      "  mod_evaluate = SourceModule(parameters + kernels.code_header + kernels.code_evaluate, no_extern_c=True)\n"
     ]
    },
    {
     "name": "stdout",
     "output_type": "stream",
     "text": [
      "#1 Testing Accuracy: 94.16% Training Accuracy: 94.11%\n",
      "#2 Testing Accuracy: 95.88% Training Accuracy: 95.87%\n",
      "#3 Testing Accuracy: 95.93% Training Accuracy: 95.94%\n",
      "#4 Testing Accuracy: 96.15% Training Accuracy: 95.99%\n",
      "#5 Testing Accuracy: 95.29% Training Accuracy: 95.44%\n",
      "#6 Testing Accuracy: 95.81% Training Accuracy: 95.83%\n",
      "#7 Testing Accuracy: 96.22% Training Accuracy: 96.24%\n",
      "#8 Testing Accuracy: 96.26% Training Accuracy: 96.45%\n",
      "#9 Testing Accuracy: 96.83% Training Accuracy: 96.92%\n",
      "#10 Testing Accuracy: 96.74% Training Accuracy: 96.69%\n",
      "#11 Testing Accuracy: 96.83% Training Accuracy: 96.89%\n",
      "#12 Testing Accuracy: 97.12% Training Accuracy: 97.17%\n",
      "#13 Testing Accuracy: 96.89% Training Accuracy: 96.94%\n",
      "#14 Testing Accuracy: 97.19% Training Accuracy: 97.26%\n",
      "#15 Testing Accuracy: 97.04% Training Accuracy: 97.08%\n",
      "#16 Testing Accuracy: 96.46% Training Accuracy: 96.43%\n",
      "#17 Testing Accuracy: 96.53% Training Accuracy: 96.66%\n",
      "#18 Testing Accuracy: 95.68% Training Accuracy: 95.75%\n",
      "#19 Testing Accuracy: 96.78% Training Accuracy: 96.86%\n",
      "#20 Testing Accuracy: 97.02% Training Accuracy: 97.08%\n",
      "#21 Testing Accuracy: 97.12% Training Accuracy: 97.27%\n",
      "#22 Testing Accuracy: 96.59% Training Accuracy: 96.66%\n",
      "#23 Testing Accuracy: 96.66% Training Accuracy: 96.70%\n",
      "#24 Testing Accuracy: 96.38% Training Accuracy: 96.50%\n",
      "#25 Testing Accuracy: 97.00% Training Accuracy: 97.08%\n",
      "#26 Testing Accuracy: 97.16% Training Accuracy: 97.32%\n",
      "#27 Testing Accuracy: 96.15% Training Accuracy: 96.35%\n",
      "#28 Testing Accuracy: 96.26% Training Accuracy: 96.33%\n",
      "#29 Testing Accuracy: 96.18% Training Accuracy: 96.30%\n",
      "#30 Testing Accuracy: 97.15% Training Accuracy: 97.29%\n",
      "#31 Testing Accuracy: 96.93% Training Accuracy: 97.15%\n",
      "#32 Testing Accuracy: 96.79% Training Accuracy: 97.05%\n",
      "#33 Testing Accuracy: 97.02% Training Accuracy: 97.02%\n",
      "#34 Testing Accuracy: 96.58% Training Accuracy: 96.68%\n",
      "#35 Testing Accuracy: 95.44% Training Accuracy: 95.50%\n",
      "#36 Testing Accuracy: 96.47% Training Accuracy: 96.60%\n",
      "#37 Testing Accuracy: 94.36% Training Accuracy: 94.36%\n",
      "#38 Testing Accuracy: 93.60% Training Accuracy: 93.48%\n"
     ]
    },
    {
     "ename": "KeyboardInterrupt",
     "evalue": "",
     "output_type": "error",
     "traceback": [
      "\u001b[1;31m---------------------------------------------------------------------------\u001b[0m",
      "\u001b[1;31mKeyboardInterrupt\u001b[0m                         Traceback (most recent call last)",
      "Cell \u001b[1;32mIn[51], line 4\u001b[0m\n\u001b[0;32m      1\u001b[0m \u001b[38;5;66;03m#torch.cuda.empty_cache()<\u001b[39;00m\n\u001b[0;32m      2\u001b[0m \u001b[38;5;66;03m#torch.cuda.reset_max_memory_allocated() # Clear GPU memory\u001b[39;00m\n\u001b[0;32m      3\u001b[0m \u001b[38;5;28;01mfor\u001b[39;00m i \u001b[38;5;129;01min\u001b[39;00m \u001b[38;5;28mrange\u001b[39m(epochs):\n\u001b[1;32m----> 4\u001b[0m     \u001b[43mtm\u001b[49m\u001b[38;5;241;43m.\u001b[39;49m\u001b[43mfit\u001b[49m\u001b[43m(\u001b[49m\u001b[43mgraphs_train\u001b[49m\u001b[43m,\u001b[49m\u001b[43m \u001b[49m\u001b[43mY_train\u001b[49m\u001b[43m,\u001b[49m\u001b[43m \u001b[49m\u001b[43mepochs\u001b[49m\u001b[38;5;241;43m=\u001b[39;49m\u001b[38;5;241;43m1\u001b[39;49m\u001b[43m,\u001b[49m\u001b[43m \u001b[49m\u001b[43mincremental\u001b[49m\u001b[38;5;241;43m=\u001b[39;49m\u001b[38;5;28;43;01mTrue\u001b[39;49;00m\u001b[43m)\u001b[49m\n\u001b[0;32m      6\u001b[0m     result_test \u001b[38;5;241m=\u001b[39m \u001b[38;5;241m100\u001b[39m \u001b[38;5;241m*\u001b[39m ( tm\u001b[38;5;241m.\u001b[39mpredict(graphs_test) \u001b[38;5;241m==\u001b[39m Y_test)\u001b[38;5;241m.\u001b[39mmean()\n\u001b[0;32m      7\u001b[0m     result_train \u001b[38;5;241m=\u001b[39m \u001b[38;5;241m100\u001b[39m \u001b[38;5;241m*\u001b[39m (tm\u001b[38;5;241m.\u001b[39mpredict(graphs_train) \u001b[38;5;241m==\u001b[39m Y_train)\u001b[38;5;241m.\u001b[39mmean()\n",
      "File \u001b[1;32mc:\\Users\\isakk\\anaconda3\\envs\\NorBertTest1\\lib\\site-packages\\GraphTsetlinMachine\\tm.py:566\u001b[0m, in \u001b[0;36mMultiClassGraphTsetlinMachine.fit\u001b[1;34m(self, graphs, Y, epochs, incremental)\u001b[0m\n\u001b[0;32m    563\u001b[0m \u001b[38;5;28;01mfor\u001b[39;00m i \u001b[38;5;129;01min\u001b[39;00m \u001b[38;5;28mrange\u001b[39m(\u001b[38;5;28mself\u001b[39m\u001b[38;5;241m.\u001b[39mnumber_of_outputs):\n\u001b[0;32m    564\u001b[0m \tencoded_Y[:,i] \u001b[38;5;241m=\u001b[39m np\u001b[38;5;241m.\u001b[39mwhere(Y \u001b[38;5;241m==\u001b[39m i, \u001b[38;5;28mself\u001b[39m\u001b[38;5;241m.\u001b[39mT, \u001b[38;5;241m-\u001b[39m\u001b[38;5;28mself\u001b[39m\u001b[38;5;241m.\u001b[39mT)\n\u001b[1;32m--> 566\u001b[0m \u001b[38;5;28;43mself\u001b[39;49m\u001b[38;5;241;43m.\u001b[39;49m\u001b[43m_fit\u001b[49m\u001b[43m(\u001b[49m\u001b[43mgraphs\u001b[49m\u001b[43m,\u001b[49m\u001b[43m \u001b[49m\u001b[43mencoded_Y\u001b[49m\u001b[43m,\u001b[49m\u001b[43m \u001b[49m\u001b[43mepochs\u001b[49m\u001b[38;5;241;43m=\u001b[39;49m\u001b[43mepochs\u001b[49m\u001b[43m,\u001b[49m\u001b[43m \u001b[49m\u001b[43mincremental\u001b[49m\u001b[38;5;241;43m=\u001b[39;49m\u001b[43mincremental\u001b[49m\u001b[43m)\u001b[49m\n",
      "File \u001b[1;32mc:\\Users\\isakk\\anaconda3\\envs\\NorBertTest1\\lib\\site-packages\\GraphTsetlinMachine\\tm.py:442\u001b[0m, in \u001b[0;36mCommonTsetlinMachine._fit\u001b[1;34m(self, graphs, encoded_Y, epochs, incremental)\u001b[0m\n\u001b[0;32m    428\u001b[0m \u001b[38;5;66;03m# Update clause Tsetlin automata blocks for layer one\u001b[39;00m\n\u001b[0;32m    429\u001b[0m \u001b[38;5;28mself\u001b[39m\u001b[38;5;241m.\u001b[39mupdate\u001b[38;5;241m.\u001b[39mprepared_call(\n\u001b[0;32m    430\u001b[0m \t\u001b[38;5;28mself\u001b[39m\u001b[38;5;241m.\u001b[39mgrid,\n\u001b[0;32m    431\u001b[0m \t\u001b[38;5;28mself\u001b[39m\u001b[38;5;241m.\u001b[39mblock,\n\u001b[1;32m   (...)\u001b[0m\n\u001b[0;32m    440\u001b[0m \t\u001b[38;5;28mself\u001b[39m\u001b[38;5;241m.\u001b[39mclass_clause_update_gpu\n\u001b[0;32m    441\u001b[0m )\n\u001b[1;32m--> 442\u001b[0m \u001b[43mcuda\u001b[49m\u001b[38;5;241;43m.\u001b[39;49m\u001b[43mContext\u001b[49m\u001b[38;5;241;43m.\u001b[39;49m\u001b[43msynchronize\u001b[49m\u001b[43m(\u001b[49m\u001b[43m)\u001b[49m\n\u001b[0;32m    444\u001b[0m \u001b[38;5;66;03m# Update clause Tsetlin automata blocks for deeper layers\u001b[39;00m\n\u001b[0;32m    445\u001b[0m \u001b[38;5;28;01mfor\u001b[39;00m depth \u001b[38;5;129;01min\u001b[39;00m \u001b[38;5;28mrange\u001b[39m(\u001b[38;5;28mself\u001b[39m\u001b[38;5;241m.\u001b[39mdepth\u001b[38;5;241m-\u001b[39m\u001b[38;5;241m1\u001b[39m):\n",
      "\u001b[1;31mKeyboardInterrupt\u001b[0m: "
     ]
    }
   ],
   "source": [
    "\n",
    "\n",
    "#torch.cuda.empty_cache()<\n",
    "#torch.cuda.reset_max_memory_allocated() # Clear GPU memory\n",
    "for i in range(epochs):\n",
    "    tm.fit(graphs_train, Y_train, epochs=1, incremental=True)\n",
    "  \n",
    "    result_test = 100 * ( tm.predict(graphs_test) == Y_test).mean()\n",
    "    result_train = 100 * (tm.predict(graphs_train) == Y_train).mean()\n",
    "    \n",
    "    print(\"#%d Testing Accuracy: %.2f%% Training Accuracy: %.2f%%\" % (i+1, result_test, result_train))\n",
    "\n",
    "    if result_test == 100:\n",
    "        break\n",
    "    \n",
    "   \n",
    "  "
   ]
  },
  {
   "cell_type": "code",
   "execution_count": null,
   "metadata": {},
   "outputs": [
    {
     "data": {
      "text/plain": [
       "array([[  96527,  -95964],\n",
       "       [-170927,  172050],\n",
       "       [ 171746, -170165],\n",
       "       ...,\n",
       "       [-246102,  246005],\n",
       "       [-185436,  184495],\n",
       "       [ 192271, -190743]])"
      ]
     },
     "execution_count": 43,
     "metadata": {},
     "output_type": "execute_result"
    }
   ],
   "source": [
    "tm.score(graphs_test)"
   ]
  },
  {
   "cell_type": "code",
   "execution_count": 44,
   "metadata": {},
   "outputs": [
    {
     "data": {
      "text/plain": [
       "100.0"
      ]
     },
     "execution_count": 44,
     "metadata": {},
     "output_type": "execute_result"
    }
   ],
   "source": [
    "result_test"
   ]
  },
  {
   "cell_type": "code",
   "execution_count": 45,
   "metadata": {},
   "outputs": [
    {
     "data": {
      "text/plain": [
       "100.0"
      ]
     },
     "execution_count": 45,
     "metadata": {},
     "output_type": "execute_result"
    }
   ],
   "source": [
    "result_train"
   ]
  },
  {
   "cell_type": "code",
   "execution_count": 46,
   "metadata": {},
   "outputs": [],
   "source": [
    "predictions = tm.predict(graphs_test)"
   ]
  },
  {
   "cell_type": "code",
   "execution_count": 47,
   "metadata": {},
   "outputs": [
    {
     "data": {
      "text/plain": [
       "0.4931959175505303"
      ]
     },
     "execution_count": 47,
     "metadata": {},
     "output_type": "execute_result"
    }
   ],
   "source": [
    "predictions.mean()"
   ]
  },
  {
   "cell_type": "code",
   "execution_count": null,
   "metadata": {},
   "outputs": [
    {
     "name": "stdout",
     "output_type": "stream",
     "text": [
      "              precision    recall  f1-score   support\n",
      "\n",
      "           0       1.00      1.00      1.00      5065\n",
      "           1       1.00      1.00      1.00      4929\n",
      "\n",
      "    accuracy                           1.00      9994\n",
      "   macro avg       1.00      1.00      1.00      9994\n",
      "weighted avg       1.00      1.00      1.00      9994\n",
      "\n"
     ]
    }
   ],
   "source": [
    "from sklearn.metrics import classification_report, confusion_matrix\n",
    "\n",
    "print(classification_report(Y_test,predictions))\n"
   ]
  },
  {
   "cell_type": "code",
   "execution_count": 49,
   "metadata": {},
   "outputs": [
    {
     "data": {
      "text/plain": [
       "array([[5065,    0],\n",
       "       [   0, 4929]], dtype=int64)"
      ]
     },
     "execution_count": 49,
     "metadata": {},
     "output_type": "execute_result"
    }
   ],
   "source": [
    "confusion_matrix(Y_test,predictions)"
   ]
  },
  {
   "cell_type": "code",
   "execution_count": 50,
   "metadata": {},
   "outputs": [
    {
     "data": {
      "text/plain": [
       "array([[ 38,  51],\n",
       "       [ 18, 109],\n",
       "       [ 63,  39],\n",
       "       [125,  21],\n",
       "       [106,  25],\n",
       "       [ 73,  26],\n",
       "       [ 14,  52],\n",
       "       [ 40,  64],\n",
       "       [ 68,  46],\n",
       "       [ 59,  73],\n",
       "       [127,   1],\n",
       "       [107,  58],\n",
       "       [ 23,  30],\n",
       "       [ 22, 108],\n",
       "       [ 41,  44],\n",
       "       [ 74,  54],\n",
       "       [ 42,  40],\n",
       "       [ 37, 112]], dtype=uint32)"
      ]
     },
     "execution_count": 50,
     "metadata": {},
     "output_type": "execute_result"
    }
   ],
   "source": [
    "graphs_train.hypervectors"
   ]
  },
  {
   "cell_type": "code",
   "execution_count": null,
   "metadata": {},
   "outputs": [
    {
     "name": "stdout",
     "output_type": "stream",
     "text": [
      "Clause #0 W:(-69 64) "
     ]
    },
    {
     "ename": "NameError",
     "evalue": "name 'hypervector_size' is not defined",
     "output_type": "error",
     "traceback": [
      "\u001b[1;31m---------------------------------------------------------------------------\u001b[0m",
      "\u001b[1;31mNameError\u001b[0m                                 Traceback (most recent call last)",
      "Cell \u001b[1;32mIn[51], line 5\u001b[0m\n\u001b[0;32m      3\u001b[0m \u001b[38;5;28mprint\u001b[39m(\u001b[38;5;124m\"\u001b[39m\u001b[38;5;124mClause #\u001b[39m\u001b[38;5;132;01m%d\u001b[39;00m\u001b[38;5;124m W:(\u001b[39m\u001b[38;5;132;01m%d\u001b[39;00m\u001b[38;5;124m \u001b[39m\u001b[38;5;132;01m%d\u001b[39;00m\u001b[38;5;124m)\u001b[39m\u001b[38;5;124m\"\u001b[39m \u001b[38;5;241m%\u001b[39m (i, weights[\u001b[38;5;241m0\u001b[39m,i], weights[\u001b[38;5;241m1\u001b[39m,i]), end\u001b[38;5;241m=\u001b[39m\u001b[38;5;124m'\u001b[39m\u001b[38;5;124m \u001b[39m\u001b[38;5;124m'\u001b[39m)\n\u001b[0;32m      4\u001b[0m l \u001b[38;5;241m=\u001b[39m []\n\u001b[1;32m----> 5\u001b[0m \u001b[38;5;28;01mfor\u001b[39;00m k \u001b[38;5;129;01min\u001b[39;00m \u001b[38;5;28mrange\u001b[39m(\u001b[43mhypervector_size\u001b[49m \u001b[38;5;241m*\u001b[39m \u001b[38;5;241m2\u001b[39m):\n\u001b[0;32m      6\u001b[0m     \u001b[38;5;28;01mif\u001b[39;00m tm\u001b[38;5;241m.\u001b[39mta_action(\u001b[38;5;241m0\u001b[39m, i, k):\n\u001b[0;32m      7\u001b[0m         \u001b[38;5;28;01mif\u001b[39;00m k \u001b[38;5;241m<\u001b[39m hypervector_size:\n",
      "\u001b[1;31mNameError\u001b[0m: name 'hypervector_size' is not defined"
     ]
    }
   ],
   "source": [
    "weights = tm.get_state()[1].reshape(2, -1)\n",
    "for i in range(tm.number_of_clauses):\n",
    "        print(\"Clause #%d W:(%d %d)\" % (i, weights[0,i], weights[1,i]), end=' ')\n",
    "        l = []\n",
    "        for k in range(hypervector_size * 2):\n",
    "            if tm.ta_action(0, i, k):\n",
    "                if k < hypervector_size:\n",
    "                    l.append(\"x%d\" % (k))\n",
    "                else:\n",
    "                    l.append(\"NOT x%d\" % (k - hypervector_size))\n",
    "        print(\" AND \".join(l))\n"
   ]
  },
  {
   "cell_type": "code",
   "execution_count": null,
   "metadata": {},
   "outputs": [],
   "source": []
  }
 ],
 "metadata": {
  "kernelspec": {
   "display_name": "hex",
   "language": "python",
   "name": "python3"
  },
  "language_info": {
   "codemirror_mode": {
    "name": "ipython",
    "version": 3
   },
   "file_extension": ".py",
   "mimetype": "text/x-python",
   "name": "python",
   "nbconvert_exporter": "python",
   "pygments_lexer": "ipython3",
   "version": "3.11.9"
  }
 },
 "nbformat": 4,
 "nbformat_minor": 4
}
