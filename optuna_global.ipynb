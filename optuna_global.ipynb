{
 "cells": [
  {
   "cell_type": "code",
   "execution_count": 1,
   "id": "595eba53-f4ec-43d9-88a7-24f2803f2ed5",
   "metadata": {},
   "outputs": [],
   "source": [
    "import os\n",
    "import sys\n",
    "import platform\n",
    "import subprocess\n",
    "from pathlib import Path\n",
    "from GraphTsetlinMachine.graphs import Graphs\n",
    "from GraphTsetlinMachine.tm import MultiClassGraphTsetlinMachine\n",
    "import pickle\n",
    "import json\n",
    "import logging\n",
    "import optuna\n",
    "from optuna.exceptions import TrialPruned \n",
    "from tqdm.auto import tqdm\n",
    "from sklearn.metrics import f1_score, precision_score, recall_score\n",
    "import math\n",
    "from functools import partial\n",
    "import warnings\n",
    "import random\n",
    "from src.dbhandler import DBHandler\n",
    "import time"
   ]
  },
  {
   "cell_type": "code",
   "execution_count": 2,
   "id": "ccfa87c9-6827-488e-bac2-5ee2fa1f49c8",
   "metadata": {},
   "outputs": [],
   "source": [
    "optuna.logging.set_verbosity(optuna.logging.WARNING)"
   ]
  },
  {
   "cell_type": "code",
   "execution_count": 3,
   "id": "ba5f1f55",
   "metadata": {},
   "outputs": [],
   "source": [
    "AWS_DB = True\n",
    "STUDY_NAME = \"Hex_hv_acc_only\"\n",
    "windows_drive = Path(\"/mnt/f/TsetlinModels\")"
   ]
  },
  {
   "cell_type": "code",
   "execution_count": 4,
   "id": "47daf6ca",
   "metadata": {},
   "outputs": [],
   "source": [
    "if AWS_DB:\n",
    "    db = DBHandler()\n",
    "    DB = db.target_storage_url"
   ]
  },
  {
   "cell_type": "code",
   "execution_count": 5,
   "id": "54a6f734",
   "metadata": {},
   "outputs": [],
   "source": [
    "def get_machine_info():\n",
    "    machine_name = platform.node()  \n",
    "    user = os.getenv(\"USER\") or os.getenv(\"USERNAME\") \n",
    "    os_name = platform.system()  # Get os\n",
    "    print(f\"Machine: {machine_name}\")\n",
    "    print(f\"OS: {os_name}\")\n",
    "    print(f\"User: {user}\")\n",
    "    \n",
    "    # Print machine info\n",
    "    return machine_name, os_name, user"
   ]
  },
  {
   "cell_type": "code",
   "execution_count": 6,
   "id": "14e20bf4",
   "metadata": {},
   "outputs": [],
   "source": [
    "def get_score_v1(result:float, board_size:int, number_of_clauses:int):\n",
    "    return result * board_size - 1e-4 * number_of_clauses"
   ]
  },
  {
   "cell_type": "code",
   "execution_count": 7,
   "id": "2c9bee59",
   "metadata": {},
   "outputs": [],
   "source": [
    "def objective(trial, paths):\n",
    "\n",
    "    #start = time.time()\n",
    "    \n",
    "\n",
    "    board_size = trial.suggest_int('board_size', 4, 15) \n",
    "    \n",
    "    n_samples_map = {0: 1000, 1: 10000, 2: 100000}\n",
    "    n_samples_idx = trial.suggest_int('n_samples_idx', 0, 2)  \n",
    "    n_samples = n_samples_map[n_samples_idx]  \n",
    "    \n",
    "    mbf_map = {0: 0, 1: 2, 2: 5}\n",
    "    mbf_idx = trial.suggest_int('mbf_idx', 0, 2)  \n",
    "    mbf = mbf_map[mbf_idx]  \n",
    "    \n",
    "    pos = trial.suggest_int('open_pos', 0, 50, step=5)  \n",
    "\n",
    "    message_size_map = {0: 32, 1: 64, 2: 128, 3: 512, 4: 1024, 5: 2048, 6: 4096, 7: 8192, 8: 16384, 9: 32768} # Skipped 256 because of unknown error\n",
    "    message_size_idx = trial.suggest_int('message_size_idx', 0, 9)\n",
    "    message_size = message_size_map[message_size_idx]\n",
    "\n",
    "    message_bits_map = {0: 1, 1: 2, 2: 5, 3: 10, 4: 15, 5: 20, 6: 30, 7: 50}\n",
    "    hv_mb_ratio_idx = trial.suggest_int('hv_mb_ratio_idx', 0, 2)#7) \n",
    "    hv_mb_ratio = message_bits_map[hv_mb_ratio_idx]\n",
    "    message_bits = max(1, int(hv_mb_ratio * message_size * 0.01))\n",
    "\n",
    "    dh_map = {0: False, 1: True}\n",
    "    dh_idx = trial.suggest_int('dh_idx', 0, 1)\n",
    "    dh = dh_map[dh_idx]\n",
    "    dh_string = \"dh2\" if dh else \"dh1\"\n",
    "\n",
    "    # Load the corresponding dataset based on trial's suggestions\n",
    "    dataset = f\"{board_size}x{board_size}_{n_samples}_{pos}_{mbf}_{message_size}_{hv_mb_ratio}_{dh_string}\"\n",
    "    file_path = paths[\"graphs\"] / f\"{dataset}.pkl\"\n",
    "    with open(file_path, 'rb') as f:\n",
    "        graphs_train, graphs_test, X_train, Y_train, X_test, Y_test = pickle.load(f)\n",
    "\n",
    "    trial_num = trial.number\n",
    "\n",
    "    number_of_clauses = trial.suggest_int('number_of_clauses', 2, 10000)\n",
    "    T = trial.suggest_float('T_factor', 0.2, 1.5) * number_of_clauses\n",
    "    s = trial.suggest_float('s', 0, 10)\n",
    "    q = trial.suggest_float('q', 0.4, 1.0)\n",
    "    \n",
    "    max_included_literals = trial.suggest_int('max_included_literals', 10, 300)\n",
    "    if max_included_literals == 300:\n",
    "        max_included_literals = None\n",
    "\n",
    "    depth = trial.suggest_int('depth', 1, board_size*2)\n",
    "    number_of_state_bits = trial.suggest_int('number_of_state_bits', 8, 1000)\n",
    "    epochs = trial.suggest_int('epochs', 10, 80)\n",
    "\n",
    "    tm = MultiClassGraphTsetlinMachine(\n",
    "        number_of_clauses,\n",
    "        T,\n",
    "        s,\n",
    "        q=q,\n",
    "\t\tmax_included_literals=max_included_literals,\n",
    "        depth=depth,\n",
    "        message_size=message_size,\n",
    "        message_bits=message_bits,\n",
    "        number_of_state_bits=number_of_state_bits,\n",
    "        boost_true_positive_feedback=1,\n",
    "        grid=(16*13,1,1),\n",
    "        block=(128,1,1),\n",
    "    )\n",
    "\n",
    "    \n",
    "    print(f\"c={number_of_clauses}, T={T:.4f}, s={s:.4f}, q={q:.4f}, d={depth}, e={epochs}, ms={message_size}, mb={message_bits}, mil={max_included_literals}, sb={number_of_state_bits}, dh={dh}\")\n",
    "\n",
    "    best_test_acc = 0\n",
    "    best_f1 = 0\n",
    "    best_prec = 0\n",
    "    best_rec = 0\n",
    "    patience = 0\n",
    "    patience_level = epochs*0.25\n",
    "    result_train = 0\n",
    "    overfit = 0\n",
    "    score = 0\n",
    "    \n",
    "    progress_bar = tqdm(range(epochs), desc=f\"{dataset} [{trial_num}]\", leave=True)\n",
    "    for epoch in progress_bar:\n",
    "        tm.fit(graphs_train, Y_train, epochs=1, incremental=True)\n",
    "\n",
    "        result_test = 100 * (tm.predict(graphs_test) == Y_test).mean()\n",
    "\n",
    "        if epoch % 10 == 0:\n",
    "            result_train = 100 * (tm.predict(graphs_train) == Y_train).mean() \n",
    "            \n",
    "        #overfit = abs(result_train - result_test)\n",
    "            \n",
    "            \n",
    "\n",
    "        if result_test > best_test_acc:\n",
    "            best_test_acc = result_test\n",
    "            f1_score_test = f1_score(Y_test, tm.predict(graphs_test), average='weighted', zero_division=0)\n",
    "            precision_test = precision_score(Y_test, tm.predict(graphs_test), average='weighted', zero_division=0)\n",
    "            recall_test = recall_score(Y_test, tm.predict(graphs_test), average='weighted', zero_division=0)\n",
    "            best_f1 = f1_score_test\n",
    "            best_prec = precision_test\n",
    "            best_rec = recall_test\n",
    "            trial.set_user_attr(\"f1\", f1_score_test)\n",
    "            trial.set_user_attr(\"precision\", precision_test)\n",
    "            trial.set_user_attr(\"recall\", recall_test)\n",
    "            patience = 0\n",
    "        else:\n",
    "            patience += 1\n",
    "\n",
    "        trial.set_user_attr(\"acc_train\", result_train)\n",
    "        trial.set_user_attr(\"acc_test\", result_test)\n",
    "        trial.set_user_attr(\"score_func\", \"v1\")\n",
    "\n",
    "        \n",
    "        progress_bar.set_postfix({\n",
    "            'X-Acc':f'{result_train:.2f}%',\n",
    "            'Y-Acc':f'{result_test:.2f}%',\n",
    "            'BestAcc': f'{best_test_acc:.2f}%',\n",
    "            'F1': f'{best_f1:.2f}',\n",
    "            'Prec': f'{best_prec:.2f}',\n",
    "            'Rec': f'{best_rec:.2f}'\n",
    "        })\n",
    "\n",
    "        \n",
    "        if result_test >= 100 and f1_score_test >= 1:\n",
    "            result_train = 100 * (tm.predict(graphs_train) == Y_train).mean()\n",
    "            trial.set_user_attr(\"acc_train\", result_train)\n",
    "            progress_bar.set_postfix({\n",
    "                'X-Acc':f'{result_train:.2f}%',\n",
    "                'Y-Acc':f'{result_test:.2f}%',\n",
    "                'BestAcc': f'{best_test_acc:.2f}%',\n",
    "                'F1': f'{best_f1:.2f}',\n",
    "                'Prec': f'{best_prec:.2f}',\n",
    "                'Rec': f'{best_rec:.2f}'\n",
    "            })\n",
    "            #end = time.time()\n",
    "            #total_time = end - start\n",
    "\n",
    "            return best_test_acc#, overfit, number_of_clauses, total_time\n",
    "\n",
    "            \n",
    "            \n",
    "        trial.report(get_score_v1(result_test, board_size, number_of_clauses), epoch)\n",
    "\n",
    "        if patience >= patience_level and best_test_acc < 85:\n",
    "            if trial.should_prune():\n",
    "                raise TrialPruned()\n",
    "    \n",
    "    #end = time.time()\n",
    "    #total_time = end - start\n",
    "    \n",
    "\n",
    "    return best_test_acc#, overfit, number_of_clauses, total_time"
   ]
  },
  {
   "cell_type": "code",
   "execution_count": 8,
   "id": "f0e6e6bb",
   "metadata": {},
   "outputs": [
    {
     "name": "stdout",
     "output_type": "stream",
     "text": [
      "Machine: Corsair\n",
      "OS: Linux\n",
      "User: jon\n"
     ]
    }
   ],
   "source": [
    "\n",
    "machine_name, os_name, user = get_machine_info()\n",
    "\n",
    "if machine_name == \"Corsair\" and os_name == \"Linux\" and user == \"jon\":\n",
    "    os.makedirs(windows_drive / \"data\", exist_ok=True)\n",
    "    os.makedirs(windows_drive / \"models\", exist_ok=True)\n",
    "    os.makedirs(windows_drive / \"graphs\", exist_ok=True)\n",
    "    os.makedirs(windows_drive / \"studies\", exist_ok=True)\n",
    "\n",
    "    paths = {\n",
    "        \"data\": windows_drive / \"data\",\n",
    "        \"models\": windows_drive / \"models\",\n",
    "        \"graphs\": windows_drive / \"graphs\",\n",
    "        \"studies\": windows_drive / \"studies\",\n",
    "    }\n",
    "\n",
    "    if not AWS_DB:\n",
    "        DB = f\"sqlite:///{windows_drive / 'studies' / f'{STUDY_NAME}.db'}\" \n",
    "\n",
    "else:\n",
    "    os.makedirs(\"data\", exist_ok=True)\n",
    "    os.makedirs(\"models\", exist_ok=True)\n",
    "    os.makedirs(\"graphs\", exist_ok=True)\n",
    "\n",
    "    paths = {\n",
    "        \"data\": Path(\"data\"),\n",
    "        \"models\": Path(\"models\"),\n",
    "        \"graphs\": Path(\"graphs\"),\n",
    "    }\n",
    "    if not AWS_DB:\n",
    "        DB = f\"sqlite:///results/optuna/{STUDY_NAME}.db\""
   ]
  },
  {
   "cell_type": "code",
   "execution_count": 9,
   "id": "3f8fb1f1",
   "metadata": {},
   "outputs": [],
   "source": [
    "study = optuna.create_study(\n",
    "    directions=[\"maximize\"],#\"minimize\", \"minimize\", \"minimize\"],\n",
    "    study_name=STUDY_NAME,\n",
    "    storage=str(DB),\n",
    "    load_if_exists=True,\n",
    ")"
   ]
  },
  {
   "cell_type": "code",
   "execution_count": 10,
   "id": "eb5dda56",
   "metadata": {},
   "outputs": [],
   "source": [
    "def read_board_size(board_size_file):\n",
    "    if os.path.exists(board_size_file):\n",
    "        with open(board_size_file, \"r\") as f:\n",
    "            data = json.load(f)\n",
    "            return data.get(\"board_size\", 4) \n",
    "    return 4 \n",
    "\n",
    "\n",
    "def stop_on_max_accuracy(study, trial):\n",
    "    if trial.user_attrs.get(\"acc_test\", 0) >= 100.0:\n",
    "        print(f\"Reached {100.0}% accuracy with board_size={trial.params['board_size']}\")\n",
    "        study.stop() \n",
    "\n",
    "def write_board_size(filename, board_size):\n",
    "    import json\n",
    "    with open(filename, \"w\") as f:\n",
    "        json.dump({\"board_size\": board_size}, f)"
   ]
  },
  {
   "cell_type": "code",
   "execution_count": 11,
   "id": "df4524e9",
   "metadata": {},
   "outputs": [
    {
     "name": "stdout",
     "output_type": "stream",
     "text": [
      "Optuna Dashboard is running. Access it via http://localhost:8083/\n"
     ]
    }
   ],
   "source": [
    "optuna_port = 8083\n",
    "storage = DB\n",
    "optuna_process = subprocess.Popen(\n",
    "    [\"optuna-dashboard\", \"-q\", \"--port\", str(optuna_port), storage],\n",
    "    stdout=subprocess.DEVNULL,  # Suppresses standard output\n",
    "    stderr=subprocess.DEVNULL   # Suppresses standard error (warnings and logs)\n",
    ")\n",
    "\n",
    "print(f\"Optuna Dashboard is running. Access it via http://localhost:{optuna_port}/\")"
   ]
  },
  {
   "cell_type": "code",
   "execution_count": 12,
   "id": "d0852a83",
   "metadata": {},
   "outputs": [],
   "source": [
    "warnings.filterwarnings(\"ignore\", category=optuna.exceptions.ExperimentalWarning)\n",
    "\n",
    "board_size_file = \"board_size.json\"\n",
    "max_accuracy_threshold = 100.0\n",
    "initial_board_size = read_board_size(board_size_file)"
   ]
  },
  {
   "cell_type": "code",
   "execution_count": null,
   "id": "00567080-10de-4fda-8c21-0bf62b20840c",
   "metadata": {},
   "outputs": [
    {
     "name": "stdout",
     "output_type": "stream",
     "text": [
      "Initialization of sparse structure.\n",
      "c=36, T=35.6626, s=8.1287, q=0.8904, d=2, e=78, ms=32, mb=1, mil=10, sb=36, dh=True\n"
     ]
    },
    {
     "data": {
      "application/vnd.jupyter.widget-view+json": {
       "model_id": "f9a0fa7651f54f9282dfcfcc5207a1fa",
       "version_major": 2,
       "version_minor": 0
      },
      "text/plain": [
       "4x4_1000_30_0_32_1_dh2 [0]:   0%|          | 0/78 [00:00<?, ?it/s]"
      ]
     },
     "metadata": {},
     "output_type": "display_data"
    },
    {
     "name": "stdout",
     "output_type": "stream",
     "text": [
      "Initialization of sparse structure.\n",
      "c=36, T=51.5763, s=3.5454, q=0.6372, d=2, e=14, ms=32, mb=1, mil=10, sb=36, dh=True\n"
     ]
    },
    {
     "data": {
      "application/vnd.jupyter.widget-view+json": {
       "model_id": "805f461c8f2346cbb045876e80b169f5",
       "version_major": 2,
       "version_minor": 0
      },
      "text/plain": [
       "4x4_1000_10_0_32_1_dh2 [1]:   0%|          | 0/14 [00:00<?, ?it/s]"
      ]
     },
     "metadata": {},
     "output_type": "display_data"
    },
    {
     "name": "stdout",
     "output_type": "stream",
     "text": [
      "Max accuracy for board_size 6x6 is 0.00%. Let's try some more...\n",
      "Initialization of sparse structure.\n",
      "c=36, T=48.5785, s=1.3484, q=0.8891, d=2, e=55, ms=32, mb=1, mil=10, sb=36, dh=False\n"
     ]
    },
    {
     "data": {
      "application/vnd.jupyter.widget-view+json": {
       "model_id": "c9fec919f9bb4db28919dfe1566a4bd1",
       "version_major": 2,
       "version_minor": 0
      },
      "text/plain": [
       "4x4_1000_5_0_32_1_dh1 [2]:   0%|          | 0/55 [00:00<?, ?it/s]"
      ]
     },
     "metadata": {},
     "output_type": "display_data"
    }
   ],
   "source": [
    "parameter_options = {\n",
    "    \"n_samples_idx\": [0, 1, 2],\n",
    "    \"mbf_idx\": [0, 1, 2],\n",
    "    \"open_pos\": [0, 5, 10, 15, 20, 25, 30, 35, 40, 45, 50],\n",
    "    \"number_of_clauses\": [100,200,500,800,1000],\n",
    "    \"s\": [0.001, 0.01, 0.1],\n",
    "    \"depth\": [1, 2, 3],\n",
    "    \"message_size_idx\": [0, 1, 2, 3, 4, 5, 6, 7, 8, 9],\n",
    "    \"hv_mb_ratio_idx\": [0, 1, 2, 3, 4, 5, 6, 7],\n",
    "    \"number_of_state_bits\": [10, 20, 40, 50, 100, 200, 500, 1000],\n",
    "}\n",
    "\n",
    "\n",
    "while True:\n",
    "    fixed_params = {\n",
    "        \"board_size\": 4,#initial_board_size,\n",
    "        \"n_samples_idx\": 0,         # 1000,10000,100000\n",
    "        \"mbf_idx\": 0,               # 0,2,5\n",
    "        #\"open_pos\": 50,             # 0,5,10,15,20,25,30,35,40,45,50\n",
    "        \"number_of_clauses\": initial_board_size**2,\n",
    "        #\"T_factor\": 1,\n",
    "        #\"s\": 0.001,\n",
    "        #\"q\": 0.9,\n",
    "        \"max_included_literals\": 10,\n",
    "        \"depth\": 2,#initial_board_size,\n",
    "        \"message_size_idx\": 0,      # 32,64,128,512,1024,2048,4096,8192,16384,32768\n",
    "        \"hv_mb_ratio_idx\": 0,       # 1,2,5,10,15,20,30,50\n",
    "        \"number_of_state_bits\": initial_board_size**2, \n",
    "        }\n",
    "\n",
    "    if initial_board_size <= 5: \n",
    "        fixed_params[\"n_samples_idx\"] = 0\n",
    "\n",
    "    # Decide randomly whether to freeze a parameter\n",
    "    if random.choice([True, False]): \n",
    "        param_to_freeze = random.choice(list(parameter_options.keys()))\n",
    "        if param_to_freeze not in fixed_params:\n",
    "            frozen_value = random.choice(parameter_options[param_to_freeze])\n",
    "            fixed_params[param_to_freeze] = frozen_value\n",
    "            print(f\"Freezing parameter: {param_to_freeze} = {frozen_value}\")\n",
    "    \n",
    "    sampler = optuna.samplers.PartialFixedSampler(fixed_params, optuna.samplers.TPESampler())\n",
    "    study.sampler = sampler\n",
    "\n",
    "    try:\n",
    "        study.optimize(\n",
    "            lambda trial: objective(trial, paths),\n",
    "            n_trials=2,\n",
    "            callbacks=[stop_on_max_accuracy] \n",
    "        )\n",
    "    except KeyboardInterrupt:\n",
    "        print(\"Optimization interrupted!\")\n",
    "        break\n",
    "        \n",
    "    current_board_trials = [\n",
    "        trial for trial in study.trials\n",
    "        if trial.params.get(\"board_size\") == initial_board_size\n",
    "    ]\n",
    "\n",
    "    # Get the maximum accuracy for this board size\n",
    "    max_accuracy_for_board = max(\n",
    "        (trial.user_attrs.get(\"acc_test\", 0) for trial in current_board_trials),\n",
    "        default=0\n",
    "    )\n",
    "    \n",
    "\n",
    "    # Check if the maximum accuracy for the current board size reached the threshold\n",
    "    if max_accuracy_for_board >= max_accuracy_threshold:\n",
    "        print(f\"✅ Achieved 100% accuracy for board_size={initial_board_size}\")\n",
    "        initial_board_size += 1  # Only increase the board size when 100% is achieved\n",
    "        write_board_size(board_size_file, initial_board_size)\n",
    "        print(f\"🆙🆙🆙 Increasing board_size to {initial_board_size} 🆙🆙🆙\")\n",
    "    else:\n",
    "        print(f\"Max accuracy for board_size {initial_board_size}x{initial_board_size} is {max_accuracy_for_board:.2f}%. Let's try some more...\")\n",
    "        \n",
    "\n",
    "print(\"Optimization finished!\")\n",
    "optuna_process.terminate()"
   ]
  }
 ],
 "metadata": {
  "kernelspec": {
   "display_name": "env",
   "language": "python",
   "name": "python3"
  },
  "language_info": {
   "codemirror_mode": {
    "name": "ipython",
    "version": 3
   },
   "file_extension": ".py",
   "mimetype": "text/x-python",
   "name": "python",
   "nbconvert_exporter": "python",
   "pygments_lexer": "ipython3",
   "version": "3.10.12"
  },
  "widgets": {
   "application/vnd.jupyter.widget-state+json": {
    "state": {
     "0334f3a5be1b4fc193e304c26897073d": {
      "model_module": "@jupyter-widgets/base",
      "model_module_version": "2.0.0",
      "model_name": "LayoutModel",
      "state": {}
     },
     "06fe2eb7be6e4dd6bff0e9da3b0d2724": {
      "model_module": "@jupyter-widgets/controls",
      "model_module_version": "2.0.0",
      "model_name": "HTMLModel",
      "state": {
       "layout": "IPY_MODEL_8f4c0d0788374e1cb0806563f76d41eb",
       "style": "IPY_MODEL_8a9e46fab25046fba5b74ff5250eb2df",
       "value": " 0/1 [00:00&lt;?, ?it/s]"
      }
     },
     "0968b84995d648ffb9255a75843a1625": {
      "model_module": "@jupyter-widgets/controls",
      "model_module_version": "2.0.0",
      "model_name": "HTMLModel",
      "state": {
       "layout": "IPY_MODEL_d635e098852e49099058893a357666e2",
       "style": "IPY_MODEL_d7608957ba694ad482b2d87974d92b50",
       "value": " 0/28 [00:00&lt;?, ?it/s]"
      }
     },
     "11f42b80a4de43889a57822c3fb2273d": {
      "model_module": "@jupyter-widgets/controls",
      "model_module_version": "2.0.0",
      "model_name": "HTMLModel",
      "state": {
       "layout": "IPY_MODEL_6ed4b02d3bca4f198772de6a3d6ad596",
       "style": "IPY_MODEL_327394986caa4af7a5cca0a7f3531838",
       "value": "13x13_1000_40_0:  87%"
      }
     },
     "14523980e00844be8dc2d8a636511480": {
      "model_module": "@jupyter-widgets/controls",
      "model_module_version": "2.0.0",
      "model_name": "HBoxModel",
      "state": {
       "children": [
        "IPY_MODEL_6c8189c89c6644d296e84422a19dceae",
        "IPY_MODEL_ea66378a47e74f4495bd568b855167e9",
        "IPY_MODEL_06fe2eb7be6e4dd6bff0e9da3b0d2724"
       ],
       "layout": "IPY_MODEL_e093713a4043421f894b046a922e9830"
      }
     },
     "146bbc91d4494371bf09e5c259384e24": {
      "model_module": "@jupyter-widgets/base",
      "model_module_version": "2.0.0",
      "model_name": "LayoutModel",
      "state": {}
     },
     "149357b8b41840c48e603b7d4bfb5d1d": {
      "model_module": "@jupyter-widgets/base",
      "model_module_version": "2.0.0",
      "model_name": "LayoutModel",
      "state": {}
     },
     "198abf3ec4dc4f4ca8f586f199c08d01": {
      "model_module": "@jupyter-widgets/controls",
      "model_module_version": "2.0.0",
      "model_name": "HTMLStyleModel",
      "state": {
       "description_width": "",
       "font_size": null,
       "text_color": null
      }
     },
     "1dd40bbf37ce49c9bab35f162e27e477": {
      "model_module": "@jupyter-widgets/controls",
      "model_module_version": "2.0.0",
      "model_name": "ProgressStyleModel",
      "state": {
       "description_width": ""
      }
     },
     "22487c2845ca4a9182a61c2ac4fc0aa2": {
      "model_module": "@jupyter-widgets/base",
      "model_module_version": "2.0.0",
      "model_name": "LayoutModel",
      "state": {}
     },
     "234873d8f2a2402b9eb206058e5dea71": {
      "model_module": "@jupyter-widgets/base",
      "model_module_version": "2.0.0",
      "model_name": "LayoutModel",
      "state": {}
     },
     "2882aaac32fb4b46a3b4120635a52a2a": {
      "model_module": "@jupyter-widgets/controls",
      "model_module_version": "2.0.0",
      "model_name": "FloatProgressModel",
      "state": {
       "bar_style": "success",
       "layout": "IPY_MODEL_0334f3a5be1b4fc193e304c26897073d",
       "max": 15,
       "style": "IPY_MODEL_ec2b8f8ee8fd407d888c8b60793f119a",
       "value": 15
      }
     },
     "2a6e85dd35b84dabafcb754ea0cb3735": {
      "model_module": "@jupyter-widgets/controls",
      "model_module_version": "2.0.0",
      "model_name": "HBoxModel",
      "state": {
       "children": [
        "IPY_MODEL_9094bd5516dc4bd6a74a6147a7b59eb8",
        "IPY_MODEL_99ff5a7b7ecf4004841a44578062cf41",
        "IPY_MODEL_0968b84995d648ffb9255a75843a1625"
       ],
       "layout": "IPY_MODEL_dc741c235e9f438ea7334bdf01464c10"
      }
     },
     "2d2272b3863142afa7fdae82b1b8554e": {
      "model_module": "@jupyter-widgets/controls",
      "model_module_version": "2.0.0",
      "model_name": "HTMLStyleModel",
      "state": {
       "description_width": "",
       "font_size": null,
       "text_color": null
      }
     },
     "309ce770c3b040879bc810c80556ed35": {
      "model_module": "@jupyter-widgets/controls",
      "model_module_version": "2.0.0",
      "model_name": "HTMLModel",
      "state": {
       "layout": "IPY_MODEL_146bbc91d4494371bf09e5c259384e24",
       "style": "IPY_MODEL_37af902b6dbe4f16813f00495e5b7994",
       "value": "Board Sizes:   0%"
      }
     },
     "31c0cae57c034ceba2f01ed1c1c7c386": {
      "model_module": "@jupyter-widgets/controls",
      "model_module_version": "2.0.0",
      "model_name": "HTMLModel",
      "state": {
       "layout": "IPY_MODEL_f112c68b16d342d5a66f3fcfc2e3520b",
       "style": "IPY_MODEL_7366312bfa094e739ef6d8ec627cdebb",
       "value": " 0/3 [00:00&lt;?, ?it/s]"
      }
     },
     "3239b33e1483494dbe44e94f8c78e41e": {
      "model_module": "@jupyter-widgets/controls",
      "model_module_version": "2.0.0",
      "model_name": "ProgressStyleModel",
      "state": {
       "description_width": ""
      }
     },
     "327394986caa4af7a5cca0a7f3531838": {
      "model_module": "@jupyter-widgets/controls",
      "model_module_version": "2.0.0",
      "model_name": "HTMLStyleModel",
      "state": {
       "description_width": "",
       "font_size": null,
       "text_color": null
      }
     },
     "33397e3293b1493ead88e15afb638324": {
      "model_module": "@jupyter-widgets/base",
      "model_module_version": "2.0.0",
      "model_name": "LayoutModel",
      "state": {}
     },
     "37af902b6dbe4f16813f00495e5b7994": {
      "model_module": "@jupyter-widgets/controls",
      "model_module_version": "2.0.0",
      "model_name": "HTMLStyleModel",
      "state": {
       "description_width": "",
       "font_size": null,
       "text_color": null
      }
     },
     "3a69b00218f84a408605121a5d3144d2": {
      "model_module": "@jupyter-widgets/base",
      "model_module_version": "2.0.0",
      "model_name": "LayoutModel",
      "state": {}
     },
     "40c82143244d4ced94f7462c2fe8dcde": {
      "model_module": "@jupyter-widgets/controls",
      "model_module_version": "2.0.0",
      "model_name": "FloatProgressModel",
      "state": {
       "layout": "IPY_MODEL_67e21c4d305547ac945fa9cdfccac40b",
       "max": 75,
       "style": "IPY_MODEL_b71753b981064bb0b5b37af2a340ee1f",
       "value": 65
      }
     },
     "42b00ccda09d4b29a13b413308f4604a": {
      "model_module": "@jupyter-widgets/base",
      "model_module_version": "2.0.0",
      "model_name": "LayoutModel",
      "state": {}
     },
     "4467a98479694e2bbf8caef4b02eb60a": {
      "model_module": "@jupyter-widgets/base",
      "model_module_version": "2.0.0",
      "model_name": "LayoutModel",
      "state": {}
     },
     "489b7509ca9c483592f225ec4dbdd1a0": {
      "model_module": "@jupyter-widgets/controls",
      "model_module_version": "2.0.0",
      "model_name": "HTMLModel",
      "state": {
       "layout": "IPY_MODEL_5768980b43c0462ca6b2d0e979883e68",
       "style": "IPY_MODEL_e4f0f4bfb6c546bcbd8c53c710ed8e16",
       "value": "13x13_1000_40_0: 100%"
      }
     },
     "49308fb186374ff9939bdc297e253a81": {
      "model_module": "@jupyter-widgets/controls",
      "model_module_version": "2.0.0",
      "model_name": "HBoxModel",
      "state": {
       "children": [
        "IPY_MODEL_309ce770c3b040879bc810c80556ed35",
        "IPY_MODEL_df9b4d98bbac49efa2773b8848eb18ec",
        "IPY_MODEL_e3989ebe96a243a5b70bde723538dbc6"
       ],
       "layout": "IPY_MODEL_fa631704eaa340088b55f842a462240f"
      }
     },
     "49967301ff4941fdade37df7fb821998": {
      "model_module": "@jupyter-widgets/base",
      "model_module_version": "2.0.0",
      "model_name": "LayoutModel",
      "state": {}
     },
     "4d5b65aee9424b9ca7f4e4ebbcc89c5c": {
      "model_module": "@jupyter-widgets/base",
      "model_module_version": "2.0.0",
      "model_name": "LayoutModel",
      "state": {}
     },
     "51c44f35d3e943e08f7ad05ee1faa17f": {
      "model_module": "@jupyter-widgets/controls",
      "model_module_version": "2.0.0",
      "model_name": "HTMLModel",
      "state": {
       "layout": "IPY_MODEL_22487c2845ca4a9182a61c2ac4fc0aa2",
       "style": "IPY_MODEL_f442e4de4d234ac59eb8f60ad90a17d1",
       "value": " 39/39 [00:42&lt;00:00,  1.05it/s, Acc=68.50%, BestAcc=73.00%, F1=0.73, Prec=0.74, Rec=0.73]"
      }
     },
     "5768980b43c0462ca6b2d0e979883e68": {
      "model_module": "@jupyter-widgets/base",
      "model_module_version": "2.0.0",
      "model_name": "LayoutModel",
      "state": {}
     },
     "59a9a0dd817f4591a15e015a426ff0ed": {
      "model_module": "@jupyter-widgets/controls",
      "model_module_version": "2.0.0",
      "model_name": "HTMLModel",
      "state": {
       "layout": "IPY_MODEL_7a518f73770a4a46b6d5d60f4d934710",
       "style": "IPY_MODEL_198abf3ec4dc4f4ca8f586f199c08d01",
       "value": " 0/3 [00:00&lt;?, ?it/s]"
      }
     },
     "5cf9567e9bfa47b8a63a2df4af577d2a": {
      "model_module": "@jupyter-widgets/base",
      "model_module_version": "2.0.0",
      "model_name": "LayoutModel",
      "state": {}
     },
     "5d4ebd9ed97b40a585784bb8b8f33cef": {
      "model_module": "@jupyter-widgets/controls",
      "model_module_version": "2.0.0",
      "model_name": "ProgressStyleModel",
      "state": {
       "description_width": ""
      }
     },
     "67e21c4d305547ac945fa9cdfccac40b": {
      "model_module": "@jupyter-widgets/base",
      "model_module_version": "2.0.0",
      "model_name": "LayoutModel",
      "state": {}
     },
     "6a74ec60a1514f39936244ca1879f677": {
      "model_module": "@jupyter-widgets/controls",
      "model_module_version": "2.0.0",
      "model_name": "HBoxModel",
      "state": {
       "children": [
        "IPY_MODEL_11f42b80a4de43889a57822c3fb2273d",
        "IPY_MODEL_40c82143244d4ced94f7462c2fe8dcde",
        "IPY_MODEL_d52de1b53e154c1e8f857681ee9bd830"
       ],
       "layout": "IPY_MODEL_e08262f3368c4a05a05e7037854e0c6d"
      }
     },
     "6a89cf61f63b4789aa1196635b6e7f4e": {
      "model_module": "@jupyter-widgets/controls",
      "model_module_version": "2.0.0",
      "model_name": "FloatProgressModel",
      "state": {
       "bar_style": "success",
       "layout": "IPY_MODEL_33397e3293b1493ead88e15afb638324",
       "max": 39,
       "style": "IPY_MODEL_f72fe0e871fc459d8aee5bc38ee175c8",
       "value": 39
      }
     },
     "6c099d905a9c4635a7dd0bacaa23d34d": {
      "model_module": "@jupyter-widgets/base",
      "model_module_version": "2.0.0",
      "model_name": "LayoutModel",
      "state": {}
     },
     "6c8189c89c6644d296e84422a19dceae": {
      "model_module": "@jupyter-widgets/controls",
      "model_module_version": "2.0.0",
      "model_name": "HTMLModel",
      "state": {
       "layout": "IPY_MODEL_6c099d905a9c4635a7dd0bacaa23d34d",
       "style": "IPY_MODEL_9ead1353c8394e8f8bd7fe06e88ed481",
       "value": "Open positions:   0%"
      }
     },
     "6ed4b02d3bca4f198772de6a3d6ad596": {
      "model_module": "@jupyter-widgets/base",
      "model_module_version": "2.0.0",
      "model_name": "LayoutModel",
      "state": {}
     },
     "7366312bfa094e739ef6d8ec627cdebb": {
      "model_module": "@jupyter-widgets/controls",
      "model_module_version": "2.0.0",
      "model_name": "HTMLStyleModel",
      "state": {
       "description_width": "",
       "font_size": null,
       "text_color": null
      }
     },
     "75846be0746c4b4f8c0df513536e3682": {
      "model_module": "@jupyter-widgets/base",
      "model_module_version": "2.0.0",
      "model_name": "LayoutModel",
      "state": {}
     },
     "7a518f73770a4a46b6d5d60f4d934710": {
      "model_module": "@jupyter-widgets/base",
      "model_module_version": "2.0.0",
      "model_name": "LayoutModel",
      "state": {}
     },
     "7f1bf64acbb04de8a87b33bcba25cbab": {
      "model_module": "@jupyter-widgets/controls",
      "model_module_version": "2.0.0",
      "model_name": "HTMLModel",
      "state": {
       "layout": "IPY_MODEL_ae8bda0b91d7403e88ae36d642d6ae35",
       "style": "IPY_MODEL_2d2272b3863142afa7fdae82b1b8554e",
       "value": "Moves Before:   0%"
      }
     },
     "814cc089f4d542c397e748e54fbe5805": {
      "model_module": "@jupyter-widgets/controls",
      "model_module_version": "2.0.0",
      "model_name": "HTMLStyleModel",
      "state": {
       "description_width": "",
       "font_size": null,
       "text_color": null
      }
     },
     "82bd6983371c469098345793f2100b2f": {
      "model_module": "@jupyter-widgets/controls",
      "model_module_version": "2.0.0",
      "model_name": "HTMLStyleModel",
      "state": {
       "description_width": "",
       "font_size": null,
       "text_color": null
      }
     },
     "8a9e46fab25046fba5b74ff5250eb2df": {
      "model_module": "@jupyter-widgets/controls",
      "model_module_version": "2.0.0",
      "model_name": "HTMLStyleModel",
      "state": {
       "description_width": "",
       "font_size": null,
       "text_color": null
      }
     },
     "8f4c0d0788374e1cb0806563f76d41eb": {
      "model_module": "@jupyter-widgets/base",
      "model_module_version": "2.0.0",
      "model_name": "LayoutModel",
      "state": {}
     },
     "9094bd5516dc4bd6a74a6147a7b59eb8": {
      "model_module": "@jupyter-widgets/controls",
      "model_module_version": "2.0.0",
      "model_name": "HTMLModel",
      "state": {
       "layout": "IPY_MODEL_49967301ff4941fdade37df7fb821998",
       "style": "IPY_MODEL_814cc089f4d542c397e748e54fbe5805",
       "value": "13x13_1000_40_2:   0%"
      }
     },
     "99ff5a7b7ecf4004841a44578062cf41": {
      "model_module": "@jupyter-widgets/controls",
      "model_module_version": "2.0.0",
      "model_name": "FloatProgressModel",
      "state": {
       "layout": "IPY_MODEL_ab41e85596d14eecaf3986e8d079471f",
       "max": 28,
       "style": "IPY_MODEL_3239b33e1483494dbe44e94f8c78e41e"
      }
     },
     "9db8e4193bac419aa2dcdb798b6dd4ad": {
      "model_module": "@jupyter-widgets/controls",
      "model_module_version": "2.0.0",
      "model_name": "HTMLStyleModel",
      "state": {
       "description_width": "",
       "font_size": null,
       "text_color": null
      }
     },
     "9dd7b85af6aa462199e747fe5f1b9f01": {
      "model_module": "@jupyter-widgets/base",
      "model_module_version": "2.0.0",
      "model_name": "LayoutModel",
      "state": {}
     },
     "9ead1353c8394e8f8bd7fe06e88ed481": {
      "model_module": "@jupyter-widgets/controls",
      "model_module_version": "2.0.0",
      "model_name": "HTMLStyleModel",
      "state": {
       "description_width": "",
       "font_size": null,
       "text_color": null
      }
     },
     "a012bcd97fd04d52b92b90df3d45a217": {
      "model_module": "@jupyter-widgets/controls",
      "model_module_version": "2.0.0",
      "model_name": "HBoxModel",
      "state": {
       "children": [
        "IPY_MODEL_7f1bf64acbb04de8a87b33bcba25cbab",
        "IPY_MODEL_ae7fa4c4a86c4390860c628c7a112ab4",
        "IPY_MODEL_31c0cae57c034ceba2f01ed1c1c7c386"
       ],
       "layout": "IPY_MODEL_5cf9567e9bfa47b8a63a2df4af577d2a"
      }
     },
     "ab41e85596d14eecaf3986e8d079471f": {
      "model_module": "@jupyter-widgets/base",
      "model_module_version": "2.0.0",
      "model_name": "LayoutModel",
      "state": {}
     },
     "ace226c6d8544254bdbc32704766c254": {
      "model_module": "@jupyter-widgets/controls",
      "model_module_version": "2.0.0",
      "model_name": "HTMLModel",
      "state": {
       "layout": "IPY_MODEL_ea31eee83f3a49dfad9d30637a7c4259",
       "style": "IPY_MODEL_c460575d5484429d8c080fa68afab025",
       "value": "13x13_1000_40_0: 100%"
      }
     },
     "ae7fa4c4a86c4390860c628c7a112ab4": {
      "model_module": "@jupyter-widgets/controls",
      "model_module_version": "2.0.0",
      "model_name": "FloatProgressModel",
      "state": {
       "layout": "IPY_MODEL_d262bb3d972148d79f21a461af38484e",
       "max": 3,
       "style": "IPY_MODEL_1dd40bbf37ce49c9bab35f162e27e477"
      }
     },
     "ae8bda0b91d7403e88ae36d642d6ae35": {
      "model_module": "@jupyter-widgets/base",
      "model_module_version": "2.0.0",
      "model_name": "LayoutModel",
      "state": {}
     },
     "b104ce55fac74e17a80f26197b365fff": {
      "model_module": "@jupyter-widgets/controls",
      "model_module_version": "2.0.0",
      "model_name": "HTMLModel",
      "state": {
       "layout": "IPY_MODEL_4d5b65aee9424b9ca7f4e4ebbcc89c5c",
       "style": "IPY_MODEL_c95328a920c240eab1b4996169b18192",
       "value": " 15/15 [04:22&lt;00:00, 11.78s/it, Acc=66.00%, BestAcc=66.00%, F1=0.64, Prec=0.70, Rec=0.66]"
      }
     },
     "b6ef0c2b2fa3416d8d942ebe792aba71": {
      "model_module": "@jupyter-widgets/controls",
      "model_module_version": "2.0.0",
      "model_name": "HBoxModel",
      "state": {
       "children": [
        "IPY_MODEL_ba418e38825440b09185ed71aad70bed",
        "IPY_MODEL_d02e01a077ac4e0da2473b178bd2939e",
        "IPY_MODEL_59a9a0dd817f4591a15e015a426ff0ed"
       ],
       "layout": "IPY_MODEL_d5873efd2f9c48758b9956218e131d58"
      }
     },
     "b71753b981064bb0b5b37af2a340ee1f": {
      "model_module": "@jupyter-widgets/controls",
      "model_module_version": "2.0.0",
      "model_name": "ProgressStyleModel",
      "state": {
       "description_width": ""
      }
     },
     "ba418e38825440b09185ed71aad70bed": {
      "model_module": "@jupyter-widgets/controls",
      "model_module_version": "2.0.0",
      "model_name": "HTMLModel",
      "state": {
       "layout": "IPY_MODEL_75846be0746c4b4f8c0df513536e3682",
       "style": "IPY_MODEL_9db8e4193bac419aa2dcdb798b6dd4ad",
       "value": "Samples:   0%"
      }
     },
     "c260ce9d458f4cac815cd51458ad59eb": {
      "model_module": "@jupyter-widgets/controls",
      "model_module_version": "2.0.0",
      "model_name": "HTMLStyleModel",
      "state": {
       "description_width": "",
       "font_size": null,
       "text_color": null
      }
     },
     "c460575d5484429d8c080fa68afab025": {
      "model_module": "@jupyter-widgets/controls",
      "model_module_version": "2.0.0",
      "model_name": "HTMLStyleModel",
      "state": {
       "description_width": "",
       "font_size": null,
       "text_color": null
      }
     },
     "c6f99f00767b445a91cf474cca61e2ca": {
      "model_module": "@jupyter-widgets/controls",
      "model_module_version": "2.0.0",
      "model_name": "ProgressStyleModel",
      "state": {
       "description_width": ""
      }
     },
     "c95328a920c240eab1b4996169b18192": {
      "model_module": "@jupyter-widgets/controls",
      "model_module_version": "2.0.0",
      "model_name": "HTMLStyleModel",
      "state": {
       "description_width": "",
       "font_size": null,
       "text_color": null
      }
     },
     "cc78fffd6f1243f784d82cd32f605028": {
      "model_module": "@jupyter-widgets/controls",
      "model_module_version": "2.0.0",
      "model_name": "ProgressStyleModel",
      "state": {
       "description_width": ""
      }
     },
     "d02e01a077ac4e0da2473b178bd2939e": {
      "model_module": "@jupyter-widgets/controls",
      "model_module_version": "2.0.0",
      "model_name": "FloatProgressModel",
      "state": {
       "layout": "IPY_MODEL_d135117a418d496684ef4787dcb16ac9",
       "max": 3,
       "style": "IPY_MODEL_c6f99f00767b445a91cf474cca61e2ca"
      }
     },
     "d135117a418d496684ef4787dcb16ac9": {
      "model_module": "@jupyter-widgets/base",
      "model_module_version": "2.0.0",
      "model_name": "LayoutModel",
      "state": {}
     },
     "d262bb3d972148d79f21a461af38484e": {
      "model_module": "@jupyter-widgets/base",
      "model_module_version": "2.0.0",
      "model_name": "LayoutModel",
      "state": {}
     },
     "d52de1b53e154c1e8f857681ee9bd830": {
      "model_module": "@jupyter-widgets/controls",
      "model_module_version": "2.0.0",
      "model_name": "HTMLModel",
      "state": {
       "layout": "IPY_MODEL_3a69b00218f84a408605121a5d3144d2",
       "style": "IPY_MODEL_82bd6983371c469098345793f2100b2f",
       "value": " 65/75 [07:44&lt;00:52,  5.29s/it, Acc=70.00%, BestAcc=71.50%, F1=0.71, Prec=0.73, Rec=0.71]"
      }
     },
     "d5873efd2f9c48758b9956218e131d58": {
      "model_module": "@jupyter-widgets/base",
      "model_module_version": "2.0.0",
      "model_name": "LayoutModel",
      "state": {}
     },
     "d635e098852e49099058893a357666e2": {
      "model_module": "@jupyter-widgets/base",
      "model_module_version": "2.0.0",
      "model_name": "LayoutModel",
      "state": {}
     },
     "d7608957ba694ad482b2d87974d92b50": {
      "model_module": "@jupyter-widgets/controls",
      "model_module_version": "2.0.0",
      "model_name": "HTMLStyleModel",
      "state": {
       "description_width": "",
       "font_size": null,
       "text_color": null
      }
     },
     "dc741c235e9f438ea7334bdf01464c10": {
      "model_module": "@jupyter-widgets/base",
      "model_module_version": "2.0.0",
      "model_name": "LayoutModel",
      "state": {}
     },
     "df9b4d98bbac49efa2773b8848eb18ec": {
      "model_module": "@jupyter-widgets/controls",
      "model_module_version": "2.0.0",
      "model_name": "FloatProgressModel",
      "state": {
       "layout": "IPY_MODEL_4467a98479694e2bbf8caef4b02eb60a",
       "max": 3,
       "style": "IPY_MODEL_cc78fffd6f1243f784d82cd32f605028"
      }
     },
     "e08262f3368c4a05a05e7037854e0c6d": {
      "model_module": "@jupyter-widgets/base",
      "model_module_version": "2.0.0",
      "model_name": "LayoutModel",
      "state": {}
     },
     "e093713a4043421f894b046a922e9830": {
      "model_module": "@jupyter-widgets/base",
      "model_module_version": "2.0.0",
      "model_name": "LayoutModel",
      "state": {}
     },
     "e3989ebe96a243a5b70bde723538dbc6": {
      "model_module": "@jupyter-widgets/controls",
      "model_module_version": "2.0.0",
      "model_name": "HTMLModel",
      "state": {
       "layout": "IPY_MODEL_42b00ccda09d4b29a13b413308f4604a",
       "style": "IPY_MODEL_c260ce9d458f4cac815cd51458ad59eb",
       "value": " 0/3 [00:00&lt;?, ?it/s]"
      }
     },
     "e4a89532d6e7462d8cd44987cd0d8c21": {
      "model_module": "@jupyter-widgets/controls",
      "model_module_version": "2.0.0",
      "model_name": "HBoxModel",
      "state": {
       "children": [
        "IPY_MODEL_ace226c6d8544254bdbc32704766c254",
        "IPY_MODEL_2882aaac32fb4b46a3b4120635a52a2a",
        "IPY_MODEL_b104ce55fac74e17a80f26197b365fff"
       ],
       "layout": "IPY_MODEL_234873d8f2a2402b9eb206058e5dea71"
      }
     },
     "e4f0f4bfb6c546bcbd8c53c710ed8e16": {
      "model_module": "@jupyter-widgets/controls",
      "model_module_version": "2.0.0",
      "model_name": "HTMLStyleModel",
      "state": {
       "description_width": "",
       "font_size": null,
       "text_color": null
      }
     },
     "e85563b828ec4a01afcafd7437763f9c": {
      "model_module": "@jupyter-widgets/controls",
      "model_module_version": "2.0.0",
      "model_name": "HBoxModel",
      "state": {
       "children": [
        "IPY_MODEL_489b7509ca9c483592f225ec4dbdd1a0",
        "IPY_MODEL_6a89cf61f63b4789aa1196635b6e7f4e",
        "IPY_MODEL_51c44f35d3e943e08f7ad05ee1faa17f"
       ],
       "layout": "IPY_MODEL_9dd7b85af6aa462199e747fe5f1b9f01"
      }
     },
     "ea31eee83f3a49dfad9d30637a7c4259": {
      "model_module": "@jupyter-widgets/base",
      "model_module_version": "2.0.0",
      "model_name": "LayoutModel",
      "state": {}
     },
     "ea66378a47e74f4495bd568b855167e9": {
      "model_module": "@jupyter-widgets/controls",
      "model_module_version": "2.0.0",
      "model_name": "FloatProgressModel",
      "state": {
       "layout": "IPY_MODEL_149357b8b41840c48e603b7d4bfb5d1d",
       "max": 1,
       "style": "IPY_MODEL_5d4ebd9ed97b40a585784bb8b8f33cef"
      }
     },
     "ec2b8f8ee8fd407d888c8b60793f119a": {
      "model_module": "@jupyter-widgets/controls",
      "model_module_version": "2.0.0",
      "model_name": "ProgressStyleModel",
      "state": {
       "description_width": ""
      }
     },
     "f112c68b16d342d5a66f3fcfc2e3520b": {
      "model_module": "@jupyter-widgets/base",
      "model_module_version": "2.0.0",
      "model_name": "LayoutModel",
      "state": {}
     },
     "f442e4de4d234ac59eb8f60ad90a17d1": {
      "model_module": "@jupyter-widgets/controls",
      "model_module_version": "2.0.0",
      "model_name": "HTMLStyleModel",
      "state": {
       "description_width": "",
       "font_size": null,
       "text_color": null
      }
     },
     "f72fe0e871fc459d8aee5bc38ee175c8": {
      "model_module": "@jupyter-widgets/controls",
      "model_module_version": "2.0.0",
      "model_name": "ProgressStyleModel",
      "state": {
       "description_width": ""
      }
     },
     "fa631704eaa340088b55f842a462240f": {
      "model_module": "@jupyter-widgets/base",
      "model_module_version": "2.0.0",
      "model_name": "LayoutModel",
      "state": {}
     }
    },
    "version_major": 2,
    "version_minor": 0
   }
  }
 },
 "nbformat": 4,
 "nbformat_minor": 5
}
